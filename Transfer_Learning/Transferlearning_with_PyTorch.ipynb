{
 "cells": [
  {
   "cell_type": "code",
   "execution_count": 4,
   "metadata": {},
   "outputs": [],
   "source": [
    "import os\n",
    "import numpy as np\n",
    "import matplotlib.pyplot as plt\n",
    "import seaborn as sns\n",
    "import pandas as pd\n",
    "import torch\n",
    "import torch.nn as nn\n",
    "from torch.utils.data import DataLoader\n",
    "from torchvision import transforms, datasets, models\n",
    "import torch.nn.functional as F\n",
    "from sklearn.metrics import confusion_matrix\n",
    "from tqdm import tqdm\n",
    "\n",
    "import urllib.request as request\n"
   ]
  },
  {
   "cell_type": "code",
   "execution_count": 6,
   "metadata": {},
   "outputs": [
    {
     "name": "stdout",
     "output_type": "stream",
     "text": [
      "This notebook is using device: cpu\n"
     ]
    }
   ],
   "source": [
    "class Config:\n",
    "    def __init__(self):\n",
    "        self.ROOT_DATA_DIR=\"hymenoptera_data\"\n",
    "        self.EPOCH=20\n",
    "        self.BATCH_SIZE=32\n",
    "        self.LEARNING_RATE=0.01\n",
    "        self.IMAGE_SIZE=(22,224)\n",
    "        self.DEVICE=\"cuda\" if torch.cuda.is_available() else \"cpu\"\n",
    "        print(f\"This notebook is using device: {self.DEVICE}\")\n",
    "        self.SEED=42\n",
    "    def create_dir(self,dir_path):\n",
    "        os.makedirs(dir_path, exist_ok=True)\n",
    "        print(f\"{dir_path} directory is created\")\n",
    "config=Config()"
   ]
  },
  {
   "cell_type": "code",
   "execution_count": null,
   "metadata": {},
   "outputs": [],
   "source": []
  },
  {
   "cell_type": "code",
   "execution_count": null,
   "metadata": {},
   "outputs": [],
   "source": []
  },
  {
   "cell_type": "markdown",
   "metadata": {},
   "source": [
    "# Download Data"
   ]
  },
  {
   "cell_type": "code",
   "execution_count": 7,
   "metadata": {},
   "outputs": [],
   "source": [
    "data_URL=\"https://download.pytorch.org/tutorial/hymenoptera_data.zip\""
   ]
  },
  {
   "cell_type": "code",
   "execution_count": 8,
   "metadata": {},
   "outputs": [
    {
     "name": "stdout",
     "output_type": "stream",
     "text": [
      "hymenoptera_data directory is created\n"
     ]
    }
   ],
   "source": [
    "config.create_dir(dir_path=config.ROOT_DATA_DIR)"
   ]
  },
  {
   "cell_type": "code",
   "execution_count": 10,
   "metadata": {},
   "outputs": [
    {
     "data": {
      "text/plain": [
       "('hymenoptera_data\\\\data.zip', <http.client.HTTPMessage at 0x15b14a6de48>)"
      ]
     },
     "execution_count": 10,
     "metadata": {},
     "output_type": "execute_result"
    }
   ],
   "source": [
    "data_zip_file=\"data.zip\"\n",
    "data_file_path=os.path.join(config.ROOT_DATA_DIR,data_zip_file)\n",
    "request.urlretrieve(data_URL, data_file_path)\n"
   ]
  },
  {
   "cell_type": "code",
   "execution_count": 11,
   "metadata": {},
   "outputs": [],
   "source": [
    "from zipfile import ZipFile\n",
    "def unzip_file(source: str, dest:str) -> None:\n",
    "    print(f\"extraction started.......\")\n",
    "    with ZipFile(source, \"r\") as zip_f:\n",
    "        zip_f.extractall(dest)\n",
    "    print(f\"extracted {source} to {dest}\")"
   ]
  },
  {
   "cell_type": "code",
   "execution_count": 12,
   "metadata": {},
   "outputs": [
    {
     "name": "stdout",
     "output_type": "stream",
     "text": [
      "extraction started.......\n",
      "extracted hymenoptera_data\\data.zip to hymenoptera_data\n"
     ]
    }
   ],
   "source": [
    "unzip_file(data_file_path, config.ROOT_DATA_DIR)"
   ]
  },
  {
   "cell_type": "code",
   "execution_count": null,
   "metadata": {},
   "outputs": [],
   "source": []
  }
 ],
 "metadata": {
  "kernelspec": {
   "display_name": "Python 3 (ipykernel)",
   "language": "python",
   "name": "python3"
  },
  "language_info": {
   "codemirror_mode": {
    "name": "ipython",
    "version": 3
   },
   "file_extension": ".py",
   "mimetype": "text/x-python",
   "name": "python",
   "nbconvert_exporter": "python",
   "pygments_lexer": "ipython3",
   "version": "3.7.13"
  }
 },
 "nbformat": 4,
 "nbformat_minor": 4
}
