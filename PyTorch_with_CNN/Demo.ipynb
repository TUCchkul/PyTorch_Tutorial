{
 "cells": [
  {
   "cell_type": "code",
   "execution_count": 51,
   "metadata": {},
   "outputs": [],
   "source": [
    "import torch \n",
    "from torch import nn\n",
    "import torchvision\n",
    "import matplotlib.pyplot as plt\n",
    "import seaborn as sns\n",
    "import numpy as np \n",
    "from torch.utils.data import DataLoader\n",
    "from torchvision import transforms, datasets\n",
    "import torch.nn.functional as F\n",
    "from sklearn.metrics import confusion_matrix\n",
    "from tqdm import tqdm\n",
    "import pandas as pd"
   ]
  },
  {
   "cell_type": "code",
   "execution_count": 52,
   "metadata": {},
   "outputs": [
    {
     "name": "stdout",
     "output_type": "stream",
     "text": [
      "this notebook is using device: cpu\n"
     ]
    }
   ],
   "source": [
    "class Config:\n",
    "    def __init__(self):\n",
    "        self.ROOD_DATA_DIR=\"ImageDir\"\n",
    "        self.EPOCH=30\n",
    "        self.BATCH_SIZE=32\n",
    "        self.LEARNING_RATE=0.01\n",
    "        self.IMAGE_SIZE=(28,28)\n",
    "        self.DEVICE=\"cuda\" if torch.cuda.is_available() else \"cpu\"\n",
    "        print(f\"this notebook is using device: {self.DEVICE}\")\n",
    "        self.SEED=42\n",
    "config=Config()"
   ]
  },
  {
   "cell_type": "code",
   "execution_count": 53,
   "metadata": {},
   "outputs": [],
   "source": [
    "train_data=datasets.FashionMNIST(\n",
    "    root=config.ROOD_DATA_DIR,\n",
    "    train=True,\n",
    "    download=True,\n",
    "    transform=transforms.ToTensor()\n",
    ")\n",
    "test_data=datasets.FashionMNIST(\n",
    "    root=config.ROOD_DATA_DIR,\n",
    "    train=False,\n",
    "    download=True,\n",
    "    transform=transforms.ToTensor()\n",
    "\n",
    ")"
   ]
  },
  {
   "cell_type": "code",
   "execution_count": 54,
   "metadata": {},
   "outputs": [
    {
     "data": {
      "text/plain": [
       "torch.Size([60000, 28, 28])"
      ]
     },
     "execution_count": 54,
     "metadata": {},
     "output_type": "execute_result"
    }
   ],
   "source": [
    "train_data.data.shape"
   ]
  },
  {
   "cell_type": "code",
   "execution_count": 55,
   "metadata": {},
   "outputs": [
    {
     "data": {
      "text/plain": [
       "torch.Size([10000, 28, 28])"
      ]
     },
     "execution_count": 55,
     "metadata": {},
     "output_type": "execute_result"
    }
   ],
   "source": [
    "test_data.data.shape"
   ]
  },
  {
   "cell_type": "code",
   "execution_count": 56,
   "metadata": {},
   "outputs": [
    {
     "data": {
      "text/plain": [
       "{'T-shirt/top': 0,\n",
       " 'Trouser': 1,\n",
       " 'Pullover': 2,\n",
       " 'Dress': 3,\n",
       " 'Coat': 4,\n",
       " 'Sandal': 5,\n",
       " 'Shirt': 6,\n",
       " 'Sneaker': 7,\n",
       " 'Bag': 8,\n",
       " 'Ankle boot': 9}"
      ]
     },
     "execution_count": 56,
     "metadata": {},
     "output_type": "execute_result"
    }
   ],
   "source": [
    "train_data.class_to_idx"
   ]
  },
  {
   "cell_type": "code",
   "execution_count": null,
   "metadata": {},
   "outputs": [],
   "source": []
  },
  {
   "cell_type": "code",
   "execution_count": 57,
   "metadata": {},
   "outputs": [
    {
     "data": {
      "text/plain": [
       "tensor([9, 0, 0,  ..., 3, 0, 5])"
      ]
     },
     "execution_count": 57,
     "metadata": {},
     "output_type": "execute_result"
    }
   ],
   "source": [
    "train_data.targets"
   ]
  },
  {
   "cell_type": "code",
   "execution_count": 58,
   "metadata": {},
   "outputs": [
    {
     "data": {
      "text/plain": [
       "{'T-shirt/top': 0,\n",
       " 'Trouser': 1,\n",
       " 'Pullover': 2,\n",
       " 'Dress': 3,\n",
       " 'Coat': 4,\n",
       " 'Sandal': 5,\n",
       " 'Shirt': 6,\n",
       " 'Sneaker': 7,\n",
       " 'Bag': 8,\n",
       " 'Ankle boot': 9}"
      ]
     },
     "execution_count": 58,
     "metadata": {},
     "output_type": "execute_result"
    }
   ],
   "source": [
    "given_lavel_map=train_data.class_to_idx\n",
    "given_lavel_map"
   ]
  },
  {
   "cell_type": "code",
   "execution_count": 59,
   "metadata": {},
   "outputs": [
    {
     "data": {
      "text/plain": [
       "{'T-shirt/top': 0,\n",
       " 'Trouser': 1,\n",
       " 'Pullover': 2,\n",
       " 'Dress': 3,\n",
       " 'Coat': 4,\n",
       " 'Sandal': 5,\n",
       " 'Shirt': 6,\n",
       " 'Sneaker': 7,\n",
       " 'Bag': 8,\n",
       " 'Ankle boot': 9}"
      ]
     },
     "execution_count": 59,
     "metadata": {},
     "output_type": "execute_result"
    }
   ],
   "source": [
    "lavel_map={key:val for key, val in given_lavel_map.items()}\n",
    "lavel_map"
   ]
  },
  {
   "cell_type": "code",
   "execution_count": 60,
   "metadata": {},
   "outputs": [
    {
     "data": {
      "text/plain": [
       "{0: 'T-shirt/top',\n",
       " 1: 'Trouser',\n",
       " 2: 'Pullover',\n",
       " 3: 'Dress',\n",
       " 4: 'Coat',\n",
       " 5: 'Sandal',\n",
       " 6: 'Shirt',\n",
       " 7: 'Sneaker',\n",
       " 8: 'Bag',\n",
       " 9: 'Ankle boot'}"
      ]
     },
     "execution_count": 60,
     "metadata": {},
     "output_type": "execute_result"
    }
   ],
   "source": [
    "label_map={val:key for key, val in given_lavel_map.items()}\n",
    "label_map"
   ]
  },
  {
   "cell_type": "code",
   "execution_count": 61,
   "metadata": {},
   "outputs": [
    {
     "data": {
      "text/plain": [
       "9"
      ]
     },
     "execution_count": 61,
     "metadata": {},
     "output_type": "execute_result"
    }
   ],
   "source": [
    "train_data.targets[0].item()"
   ]
  },
  {
   "cell_type": "code",
   "execution_count": 62,
   "metadata": {},
   "outputs": [
    {
     "data": {
      "text/plain": [
       "(-0.5, 27.5, 27.5, -0.5)"
      ]
     },
     "execution_count": 62,
     "metadata": {},
     "output_type": "execute_result"
    },
    {
     "data": {
      "image/png": "[encoded data removed]",
      "text/plain": [
       "<Figure size 432x288 with 1 Axes>"
      ]
     },
     "metadata": {
      "needs_background": "light"
     },
     "output_type": "display_data"
    }
   ],
   "source": [
    "idx=2\n",
    "plt.imshow(train_data.data[idx], cmap=\"gray\")\n",
    "\n",
    "plt.title(f\"data_label: {label_map[train_data.targets[idx].item()]}\")\n",
    "plt.axis(\"off\")\n"
   ]
  },
  {
   "cell_type": "code",
   "execution_count": 63,
   "metadata": {},
   "outputs": [
    {
     "data": {
      "image/png": "[encoded data removed]",
      "text/plain": [
       "<Figure size 432x288 with 1 Axes>"
      ]
     },
     "metadata": {
      "needs_background": "light"
     },
     "output_type": "display_data"
    }
   ],
   "source": [
    "def view_sample_img(data, idx, label_map):\n",
    "    plt.imshow(data.data[idx], cmap=\"gray\")\n",
    "    plt.title(f\"data_label: {label_map[data.targets[idx].item()]}\")\n",
    "    plt.axis(\"off\")\n",
    "view_sample_img(train_data, 0, label_map)"
   ]
  },
  {
   "cell_type": "markdown",
   "metadata": {},
   "source": [
    "# Create data loader"
   ]
  },
  {
   "cell_type": "code",
   "execution_count": 64,
   "metadata": {},
   "outputs": [],
   "source": [
    "train_data_loader=DataLoader(\n",
    "    dataset=train_data,\n",
    "    batch_size=config.BATCH_SIZE,\n",
    "    shuffle=True\n",
    ")\n",
    "test_data_loader=DataLoader(\n",
    "    dataset=test_data,\n",
    "    batch_size=config.BATCH_SIZE,\n",
    "    shuffle=False\n",
    ")"
   ]
  },
  {
   "cell_type": "code",
   "execution_count": 65,
   "metadata": {},
   "outputs": [
    {
     "name": "stdout",
     "output_type": "stream",
     "text": [
      "torch.Size([32, 1, 28, 28])\n",
      "torch.Size([32])\n"
     ]
    }
   ],
   "source": [
    "for images, labels in train_data_loader:\n",
    "    print(images.shape)\n",
    "    print(labels.shape)\n",
    "    break"
   ]
  },
  {
   "cell_type": "code",
   "execution_count": 66,
   "metadata": {},
   "outputs": [
    {
     "data": {
      "text/plain": [
       "<matplotlib.image.AxesImage at 0x254aec4b040>"
      ]
     },
     "execution_count": 66,
     "metadata": {},
     "output_type": "execute_result"
    },
    {
     "data": {
      "image/png": "[encoded data removed]",
      "text/plain": [
       "<Figure size 432x288 with 1 Axes>"
      ]
     },
     "metadata": {
      "needs_background": "light"
     },
     "output_type": "display_data"
    }
   ],
   "source": [
    "plt.imshow(images[0].permute(1,2,0))"
   ]
  },
  {
   "cell_type": "code",
   "execution_count": 67,
   "metadata": {},
   "outputs": [
    {
     "data": {
      "text/plain": [
       "torch.Size([1, 28, 28])"
      ]
     },
     "execution_count": 67,
     "metadata": {},
     "output_type": "execute_result"
    }
   ],
   "source": [
    "images[0].shape"
   ]
  },
  {
   "cell_type": "code",
   "execution_count": 68,
   "metadata": {},
   "outputs": [
    {
     "data": {
      "text/plain": [
       "torch.Size([28, 28])"
      ]
     },
     "execution_count": 68,
     "metadata": {},
     "output_type": "execute_result"
    }
   ],
   "source": [
    "images[0].squeeze().shape"
   ]
  },
  {
   "cell_type": "code",
   "execution_count": 69,
   "metadata": {},
   "outputs": [
    {
     "data": {
      "text/plain": [
       "<matplotlib.image.AxesImage at 0x254af53a2b0>"
      ]
     },
     "execution_count": 69,
     "metadata": {},
     "output_type": "execute_result"
    },
    {
     "data": {
      "image/png": "[encoded data removed]",
      "text/plain": [
       "<Figure size 432x288 with 1 Axes>"
      ]
     },
     "metadata": {
      "needs_background": "light"
     },
     "output_type": "display_data"
    }
   ],
   "source": [
    "plt.imshow(images[0].squeeze().numpy())"
   ]
  },
  {
   "cell_type": "markdown",
   "metadata": {},
   "source": [
    "# Define CNN Architecture"
   ]
  },
  {
   "cell_type": "code",
   "execution_count": 70,
   "metadata": {},
   "outputs": [],
   "source": [
    "class CNN(nn.Module):\n",
    "    def __init__(self, in_, out_):\n",
    "        super(CNN, self).__init__()\n",
    "        self.conv_pool_01=nn.Sequential(\n",
    "            nn.Conv2d(in_channels=in_, out_channels=8, kernel_size=5, stride=1, padding=0),\n",
    "            nn.ReLU(),\n",
    "            nn.MaxPool2d(kernel_size=2, stride=2)\n",
    "        )\n",
    "        self.conv_pool_02=nn.Sequential(\n",
    "            nn.Conv2d(in_channels=8, out_channels=16, kernel_size=5, stride=1, padding=0),\n",
    "            nn.ReLU(),\n",
    "            nn.MaxPool2d(kernel_size=2, stride=2)\n",
    "        )\n",
    "        self.Flatten=nn.Flatten()\n",
    "        self.FC_01=nn.Linear(in_features=16*4*4, out_features=128)\n",
    "        self.FC_02=nn.Linear(in_features=128, out_features=64)\n",
    "        self.FC_03=nn.Linear(in_features=64, out_features=out_)\n",
    "                                        \n",
    "    def forward(self,x):\n",
    "        x=self.conv_pool_01(x)\n",
    "        x=self.conv_pool_02(x)\n",
    "        x=self.Flatten(x)\n",
    "        x=F.relu(x)\n",
    "        x=self.FC_01(x)\n",
    "        x=F.relu(x)\n",
    "        x=self.FC_02(x)\n",
    "        x=F.relu(x)\n",
    "        x=self.FC_03(x)\n",
    "        x=F.relu(x)\n",
    "        return x"
   ]
  },
  {
   "cell_type": "code",
   "execution_count": 71,
   "metadata": {},
   "outputs": [
    {
     "name": "stdout",
     "output_type": "stream",
     "text": [
      "CNN(\n",
      "  (conv_pool_01): Sequential(\n",
      "    (0): Conv2d(1, 8, kernel_size=(5, 5), stride=(1, 1))\n",
      "    (1): ReLU()\n",
      "    (2): MaxPool2d(kernel_size=2, stride=2, padding=0, dilation=1, ceil_mode=False)\n",
      "  )\n",
      "  (conv_pool_02): Sequential(\n",
      "    (0): Conv2d(8, 16, kernel_size=(5, 5), stride=(1, 1))\n",
      "    (1): ReLU()\n",
      "    (2): MaxPool2d(kernel_size=2, stride=2, padding=0, dilation=1, ceil_mode=False)\n",
      "  )\n",
      "  (Flatten): Flatten(start_dim=1, end_dim=-1)\n",
      "  (FC_01): Linear(in_features=256, out_features=128, bias=True)\n",
      "  (FC_02): Linear(in_features=128, out_features=64, bias=True)\n",
      "  (FC_03): Linear(in_features=64, out_features=10, bias=True)\n",
      ")\n"
     ]
    }
   ],
   "source": [
    "model=CNN(1,10)\n",
    "print(model)"
   ]
  },
  {
   "cell_type": "code",
   "execution_count": 72,
   "metadata": {},
   "outputs": [
    {
     "data": {
      "text/plain": [
       "Sequential(\n",
       "  (0): Conv2d(1, 8, kernel_size=(5, 5), stride=(1, 1))\n",
       "  (1): ReLU()\n",
       "  (2): MaxPool2d(kernel_size=2, stride=2, padding=0, dilation=1, ceil_mode=False)\n",
       ")"
      ]
     },
     "execution_count": 72,
     "metadata": {},
     "output_type": "execute_result"
    }
   ],
   "source": [
    "model.conv_pool_01"
   ]
  },
  {
   "cell_type": "code",
   "execution_count": 73,
   "metadata": {},
   "outputs": [
    {
     "data": {
      "text/plain": [
       "Linear(in_features=64, out_features=10, bias=True)"
      ]
     },
     "execution_count": 73,
     "metadata": {},
     "output_type": "execute_result"
    }
   ],
   "source": [
    "model.FC_03"
   ]
  },
  {
   "cell_type": "code",
   "execution_count": 74,
   "metadata": {},
   "outputs": [
    {
     "data": {
      "text/plain": [
       "CNN(\n",
       "  (conv_pool_01): Sequential(\n",
       "    (0): Conv2d(1, 8, kernel_size=(5, 5), stride=(1, 1))\n",
       "    (1): ReLU()\n",
       "    (2): MaxPool2d(kernel_size=2, stride=2, padding=0, dilation=1, ceil_mode=False)\n",
       "  )\n",
       "  (conv_pool_02): Sequential(\n",
       "    (0): Conv2d(8, 16, kernel_size=(5, 5), stride=(1, 1))\n",
       "    (1): ReLU()\n",
       "    (2): MaxPool2d(kernel_size=2, stride=2, padding=0, dilation=1, ceil_mode=False)\n",
       "  )\n",
       "  (Flatten): Flatten(start_dim=1, end_dim=-1)\n",
       "  (FC_01): Linear(in_features=256, out_features=128, bias=True)\n",
       "  (FC_02): Linear(in_features=128, out_features=64, bias=True)\n",
       "  (FC_03): Linear(in_features=64, out_features=10, bias=True)\n",
       ")"
      ]
     },
     "execution_count": 74,
     "metadata": {},
     "output_type": "execute_result"
    }
   ],
   "source": [
    "model.to(config.DEVICE)"
   ]
  },
  {
   "cell_type": "markdown",
   "metadata": {},
   "source": [
    "next(model.parameters()).is_cuda"
   ]
  },
  {
   "cell_type": "markdown",
   "metadata": {},
   "source": [
    "# Count the number of parameters"
   ]
  },
  {
   "cell_type": "code",
   "execution_count": 75,
   "metadata": {},
   "outputs": [
    {
     "data": {
      "text/html": [
       "<style  type=\"text/css\" >\n",
       "</style><table id=\"T_c31b805e_e23b_11ec_a8f0_74e5f900fbb2\" ><caption>Total trainable parameters: {'trainable': 45226, 'non_trainable': 0}</caption><thead>    <tr>        <th class=\"blank level0\" ></th>        <th class=\"col_heading level0 col0\" >Modules</th>        <th class=\"col_heading level0 col1\" >Parameters</th>    </tr></thead><tbody>\n",
       "                <tr>\n",
       "                        <th id=\"T_c31b805e_e23b_11ec_a8f0_74e5f900fbb2level0_row0\" class=\"row_heading level0 row0\" >0</th>\n",
       "                        <td id=\"T_c31b805e_e23b_11ec_a8f0_74e5f900fbb2row0_col0\" class=\"data row0 col0\" >conv_pool_01.0.weight</td>\n",
       "                        <td id=\"T_c31b805e_e23b_11ec_a8f0_74e5f900fbb2row0_col1\" class=\"data row0 col1\" >200</td>\n",
       "            </tr>\n",
       "            <tr>\n",
       "                        <th id=\"T_c31b805e_e23b_11ec_a8f0_74e5f900fbb2level0_row1\" class=\"row_heading level0 row1\" >1</th>\n",
       "                        <td id=\"T_c31b805e_e23b_11ec_a8f0_74e5f900fbb2row1_col0\" class=\"data row1 col0\" >conv_pool_01.0.bias</td>\n",
       "                        <td id=\"T_c31b805e_e23b_11ec_a8f0_74e5f900fbb2row1_col1\" class=\"data row1 col1\" >8</td>\n",
       "            </tr>\n",
       "            <tr>\n",
       "                        <th id=\"T_c31b805e_e23b_11ec_a8f0_74e5f900fbb2level0_row2\" class=\"row_heading level0 row2\" >2</th>\n",
       "                        <td id=\"T_c31b805e_e23b_11ec_a8f0_74e5f900fbb2row2_col0\" class=\"data row2 col0\" >conv_pool_02.0.weight</td>\n",
       "                        <td id=\"T_c31b805e_e23b_11ec_a8f0_74e5f900fbb2row2_col1\" class=\"data row2 col1\" >3200</td>\n",
       "            </tr>\n",
       "            <tr>\n",
       "                        <th id=\"T_c31b805e_e23b_11ec_a8f0_74e5f900fbb2level0_row3\" class=\"row_heading level0 row3\" >3</th>\n",
       "                        <td id=\"T_c31b805e_e23b_11ec_a8f0_74e5f900fbb2row3_col0\" class=\"data row3 col0\" >conv_pool_02.0.bias</td>\n",
       "                        <td id=\"T_c31b805e_e23b_11ec_a8f0_74e5f900fbb2row3_col1\" class=\"data row3 col1\" >16</td>\n",
       "            </tr>\n",
       "            <tr>\n",
       "                        <th id=\"T_c31b805e_e23b_11ec_a8f0_74e5f900fbb2level0_row4\" class=\"row_heading level0 row4\" >4</th>\n",
       "                        <td id=\"T_c31b805e_e23b_11ec_a8f0_74e5f900fbb2row4_col0\" class=\"data row4 col0\" >FC_01.weight</td>\n",
       "                        <td id=\"T_c31b805e_e23b_11ec_a8f0_74e5f900fbb2row4_col1\" class=\"data row4 col1\" >32768</td>\n",
       "            </tr>\n",
       "            <tr>\n",
       "                        <th id=\"T_c31b805e_e23b_11ec_a8f0_74e5f900fbb2level0_row5\" class=\"row_heading level0 row5\" >5</th>\n",
       "                        <td id=\"T_c31b805e_e23b_11ec_a8f0_74e5f900fbb2row5_col0\" class=\"data row5 col0\" >FC_01.bias</td>\n",
       "                        <td id=\"T_c31b805e_e23b_11ec_a8f0_74e5f900fbb2row5_col1\" class=\"data row5 col1\" >128</td>\n",
       "            </tr>\n",
       "            <tr>\n",
       "                        <th id=\"T_c31b805e_e23b_11ec_a8f0_74e5f900fbb2level0_row6\" class=\"row_heading level0 row6\" >6</th>\n",
       "                        <td id=\"T_c31b805e_e23b_11ec_a8f0_74e5f900fbb2row6_col0\" class=\"data row6 col0\" >FC_02.weight</td>\n",
       "                        <td id=\"T_c31b805e_e23b_11ec_a8f0_74e5f900fbb2row6_col1\" class=\"data row6 col1\" >8192</td>\n",
       "            </tr>\n",
       "            <tr>\n",
       "                        <th id=\"T_c31b805e_e23b_11ec_a8f0_74e5f900fbb2level0_row7\" class=\"row_heading level0 row7\" >7</th>\n",
       "                        <td id=\"T_c31b805e_e23b_11ec_a8f0_74e5f900fbb2row7_col0\" class=\"data row7 col0\" >FC_02.bias</td>\n",
       "                        <td id=\"T_c31b805e_e23b_11ec_a8f0_74e5f900fbb2row7_col1\" class=\"data row7 col1\" >64</td>\n",
       "            </tr>\n",
       "            <tr>\n",
       "                        <th id=\"T_c31b805e_e23b_11ec_a8f0_74e5f900fbb2level0_row8\" class=\"row_heading level0 row8\" >8</th>\n",
       "                        <td id=\"T_c31b805e_e23b_11ec_a8f0_74e5f900fbb2row8_col0\" class=\"data row8 col0\" >FC_03.weight</td>\n",
       "                        <td id=\"T_c31b805e_e23b_11ec_a8f0_74e5f900fbb2row8_col1\" class=\"data row8 col1\" >640</td>\n",
       "            </tr>\n",
       "            <tr>\n",
       "                        <th id=\"T_c31b805e_e23b_11ec_a8f0_74e5f900fbb2level0_row9\" class=\"row_heading level0 row9\" >9</th>\n",
       "                        <td id=\"T_c31b805e_e23b_11ec_a8f0_74e5f900fbb2row9_col0\" class=\"data row9 col0\" >FC_03.bias</td>\n",
       "                        <td id=\"T_c31b805e_e23b_11ec_a8f0_74e5f900fbb2row9_col1\" class=\"data row9 col1\" >10</td>\n",
       "            </tr>\n",
       "    </tbody></table>"
      ],
      "text/plain": [
       "<pandas.io.formats.style.Styler at 0x254af568a60>"
      ]
     },
     "execution_count": 75,
     "metadata": {},
     "output_type": "execute_result"
    }
   ],
   "source": [
    "def count_params(model):\n",
    "    model_params={\"Modules\":list(),\"Parameters\":list()}\n",
    "    total={\"trainable\":0, \"non_trainable\":0}\n",
    "    for name, parameters in model.named_parameters():\n",
    "        param=parameters.numel()\n",
    "        if not parameters.requires_grad:\n",
    "            \n",
    "            \n",
    "            total[\"non_trainable\"] +=param\n",
    "            continue\n",
    "        model_params[\"Modules\"].append(name)  \n",
    "        model_params[\"Parameters\"].append(param)\n",
    "        total[\"trainable\"] +=param\n",
    "    df=pd.DataFrame(model_params)\n",
    "    df=df.style.set_caption(f\"Total trainable parameters: {total}\")\n",
    "    return df\n",
    "count_params(model)\n",
    "        "
   ]
  },
  {
   "cell_type": "markdown",
   "metadata": {},
   "source": [
    "# Training_loop"
   ]
  },
  {
   "cell_type": "code",
   "execution_count": 34,
   "metadata": {},
   "outputs": [],
   "source": [
    "criterion=nn.CrossEntropyLoss()\n",
    "optimizer=torch.optim.Adam(model.parameters(), lr=config.LEARNING_RATE)"
   ]
  },
  {
   "cell_type": "code",
   "execution_count": 76,
   "metadata": {},
   "outputs": [
    {
     "name": "stderr",
     "output_type": "stream",
     "text": [
      "Epoch 1/30: 100%|██████████████| 1875/1875 [00:40<00:00, 46.73it/s, loss=2.31]\n",
      "Epoch 2/30: 100%|██████████████| 1875/1875 [00:42<00:00, 43.73it/s, loss=2.31]\n",
      "Epoch 3/30: 100%|██████████████| 1875/1875 [00:40<00:00, 46.38it/s, loss=2.31]\n",
      "Epoch 4/30: 100%|███████████████| 1875/1875 [00:41<00:00, 45.68it/s, loss=2.3]\n",
      "Epoch 5/30: 100%|██████████████| 1875/1875 [00:40<00:00, 46.10it/s, loss=2.31]\n",
      "Epoch 6/30: 100%|██████████████| 1875/1875 [00:43<00:00, 43.36it/s, loss=2.31]\n",
      "Epoch 7/30: 100%|███████████████| 1875/1875 [00:46<00:00, 40.20it/s, loss=2.3]\n",
      "Epoch 8/30: 100%|███████████████| 1875/1875 [00:53<00:00, 35.12it/s, loss=2.3]\n",
      "Epoch 9/30: 100%|██████████████| 1875/1875 [00:46<00:00, 40.07it/s, loss=2.31]\n",
      "Epoch 10/30: 100%|██████████████| 1875/1875 [00:43<00:00, 43.30it/s, loss=2.3]\n",
      "Epoch 11/30: 100%|█████████████| 1875/1875 [00:43<00:00, 43.43it/s, loss=2.31]\n",
      "Epoch 12/30: 100%|██████████████| 1875/1875 [00:44<00:00, 42.58it/s, loss=2.3]\n",
      "Epoch 13/30: 100%|██████████████| 1875/1875 [00:43<00:00, 42.82it/s, loss=2.3]\n",
      "Epoch 14/30: 100%|██████████████| 1875/1875 [00:43<00:00, 43.31it/s, loss=2.3]\n",
      "Epoch 15/30: 100%|██████████████| 1875/1875 [00:46<00:00, 40.38it/s, loss=2.3]\n",
      "Epoch 16/30: 100%|██████████████| 1875/1875 [00:44<00:00, 42.47it/s, loss=2.3]\n",
      "Epoch 17/30: 100%|██████████████| 1875/1875 [00:43<00:00, 42.98it/s, loss=2.3]\n",
      "Epoch 18/30: 100%|█████████████| 1875/1875 [00:44<00:00, 42.19it/s, loss=2.31]\n",
      "Epoch 19/30: 100%|█████████████| 1875/1875 [00:44<00:00, 42.16it/s, loss=2.31]\n",
      "Epoch 20/30: 100%|██████████████| 1875/1875 [00:44<00:00, 42.10it/s, loss=2.3]\n",
      "Epoch 21/30: 100%|██████████████| 1875/1875 [00:44<00:00, 41.97it/s, loss=2.3]\n",
      "Epoch 22/30: 100%|██████████████| 1875/1875 [00:44<00:00, 42.00it/s, loss=2.3]\n",
      "Epoch 23/30: 100%|██████████████| 1875/1875 [00:41<00:00, 44.99it/s, loss=2.3]\n",
      "Epoch 24/30: 100%|█████████████| 1875/1875 [00:38<00:00, 48.11it/s, loss=2.31]\n",
      "Epoch 25/30: 100%|█████████████| 1875/1875 [00:45<00:00, 41.20it/s, loss=2.31]\n",
      "Epoch 26/30: 100%|██████████████| 1875/1875 [00:44<00:00, 42.30it/s, loss=2.3]\n",
      "Epoch 27/30: 100%|██████████████| 1875/1875 [00:45<00:00, 41.43it/s, loss=2.3]\n",
      "Epoch 28/30: 100%|██████████████| 1875/1875 [00:44<00:00, 41.79it/s, loss=2.3]\n",
      "Epoch 29/30: 100%|█████████████| 1875/1875 [00:44<00:00, 42.34it/s, loss=2.31]\n",
      "Epoch 30/30: 100%|█████████████| 1875/1875 [00:46<00:00, 40.03it/s, loss=2.31]\n"
     ]
    }
   ],
   "source": [
    "for epoch in range(config.EPOCH):\n",
    "    with tqdm(train_data_loader) as tqdm_epoch:\n",
    "        for images, labels in tqdm_epoch:\n",
    "            tqdm_epoch.set_description(f\"Epoch {epoch+1}/{config.EPOCH}\")\n",
    "            # put the images on device\n",
    "            images.to(config.DEVICE)\n",
    "            labels.to(config.DEVICE)\n",
    "            #Forward pass\n",
    "            outputs=model(images)# images->batch of images\n",
    "            loss=criterion(outputs, labels)# passing the predicted and target\n",
    "            # backward propa\n",
    "            optimizer.zero_grad()\n",
    "            loss.backward()# calculate the gradients\n",
    "            optimizer.step()# weights updated here\n",
    "            tqdm_epoch.set_postfix(loss=loss.item())"
   ]
  },
  {
   "cell_type": "markdown",
   "metadata": {},
   "source": [
    "##  Save our model"
   ]
  },
  {
   "cell_type": "code",
   "execution_count": 77,
   "metadata": {},
   "outputs": [],
   "source": [
    "import os"
   ]
  },
  {
   "cell_type": "code",
   "execution_count": 79,
   "metadata": {},
   "outputs": [],
   "source": [
    "os.makedirs(\"model_dir\", exist_ok=True)\n",
    "model_file=os.path.join(\"model_dir\", \"CNN_model_1.pth\")\n",
    "torch.save(model, model_file)"
   ]
  },
  {
   "cell_type": "markdown",
   "metadata": {},
   "source": [
    "# load the model"
   ]
  },
  {
   "cell_type": "code",
   "execution_count": 80,
   "metadata": {},
   "outputs": [],
   "source": [
    "loaded_model=torch.load(model_file)"
   ]
  },
  {
   "cell_type": "markdown",
   "metadata": {},
   "source": [
    "# Evaluate the model"
   ]
  },
  {
   "cell_type": "code",
   "execution_count": 94,
   "metadata": {},
   "outputs": [],
   "source": [
    "pred=np.array([])\n",
    "target=np.array([])\n",
    "\n",
    "with torch.no_grad():\n",
    "    for batch, data in enumerate(test_data_loader):\n",
    "        images=data[0].to(config.DEVICE)\n",
    "        labels=data[1].to(config.DEVICE)\n",
    "        y_pred=model(images)\n",
    "        pred=np.concatenate((pred, torch.argmax(y_pred,dim=1).cpu().numpy()))#1->accros the dimension 1\n",
    "        target=np.concatenate((target, labels.cpu().numpy()))"
   ]
  },
  {
   "cell_type": "code",
   "execution_count": 95,
   "metadata": {},
   "outputs": [
    {
     "data": {
      "text/plain": [
       "array([[   0,    0,    0,    0,    0,    0, 1000,    0,    0,    0],\n",
       "       [   0,    0,    0,    0,    0,    0, 1000,    0,    0,    0],\n",
       "       [   0,    0,    0,    0,    0,    0, 1000,    0,    0,    0],\n",
       "       [   0,    0,    0,    0,    0,    0, 1000,    0,    0,    0],\n",
       "       [   0,    0,    0,    0,    0,    0, 1000,    0,    0,    0],\n",
       "       [   0,    0,    0,    0,    0,    0, 1000,    0,    0,    0],\n",
       "       [   0,    0,    0,    0,    0,    0, 1000,    0,    0,    0],\n",
       "       [   0,    0,    0,    0,    0,    0, 1000,    0,    0,    0],\n",
       "       [   0,    0,    0,    0,    0,    0, 1000,    0,    0,    0],\n",
       "       [   0,    0,    0,    0,    0,    0, 1000,    0,    0,    0]],\n",
       "      dtype=int64)"
      ]
     },
     "execution_count": 95,
     "metadata": {},
     "output_type": "execute_result"
    }
   ],
   "source": [
    "cm=confusion_matrix(target, pred)\n",
    "cm"
   ]
  },
  {
   "cell_type": "code",
   "execution_count": 93,
   "metadata": {},
   "outputs": [],
   "source": [
    "pred = np.array([])\n",
    "target = np.array([])\n",
    "\n",
    "with torch.no_grad():\n",
    "  for batch, data in enumerate(test_data_loader):\n",
    "    images = data[0].to(config.DEVICE)\n",
    "    labels = data[1].to(config.DEVICE)\n",
    "\n",
    "    y_pred = model(images)\n",
    "\n",
    "    pred = np.concatenate((pred, torch.argmax(y_pred, 1).cpu().numpy()))\n",
    "    target = np.concatenate((target, labels.cpu().numpy()))"
   ]
  },
  {
   "cell_type": "code",
   "execution_count": 84,
   "metadata": {},
   "outputs": [],
   "source": [
    "cm = confusion_matrix(target, pred)"
   ]
  },
  {
   "cell_type": "code",
   "execution_count": 85,
   "metadata": {},
   "outputs": [
    {
     "data": {
      "text/plain": [
       "array([[   0,    0,    0,    0,    0,    0, 1000,    0,    0,    0],\n",
       "       [   0,    0,    0,    0,    0,    0, 1000,    0,    0,    0],\n",
       "       [   0,    0,    0,    0,    0,    0, 1000,    0,    0,    0],\n",
       "       [   0,    0,    0,    0,    0,    0, 1000,    0,    0,    0],\n",
       "       [   0,    0,    0,    0,    0,    0, 1000,    0,    0,    0],\n",
       "       [   0,    0,    0,    0,    0,    0, 1000,    0,    0,    0],\n",
       "       [   0,    0,    0,    0,    0,    0, 1000,    0,    0,    0],\n",
       "       [   0,    0,    0,    0,    0,    0, 1000,    0,    0,    0],\n",
       "       [   0,    0,    0,    0,    0,    0, 1000,    0,    0,    0],\n",
       "       [   0,    0,    0,    0,    0,    0, 1000,    0,    0,    0]],\n",
       "      dtype=int64)"
      ]
     },
     "execution_count": 85,
     "metadata": {},
     "output_type": "execute_result"
    }
   ],
   "source": [
    "cm"
   ]
  },
  {
   "cell_type": "code",
   "execution_count": 86,
   "metadata": {},
   "outputs": [
    {
     "data": {
      "text/plain": [
       "<AxesSubplot:>"
      ]
     },
     "execution_count": 86,
     "metadata": {},
     "output_type": "execute_result"
    },
    {
     "data": {
      "image/png": "[encoded data removed]",
      "text/plain": [
       "<Figure size 864x720 with 1 Axes>"
      ]
     },
     "metadata": {
      "needs_background": "light"
     },
     "output_type": "display_data"
    }
   ],
   "source": [
    "plt.figure(figsize=(12,10))\n",
    "sns.heatmap(cm, annot=True, fmt='d', xticklabels=label_map.values() , yticklabels=label_map.values(), cbar=False)"
   ]
  },
  {
   "cell_type": "code",
   "execution_count": null,
   "metadata": {},
   "outputs": [],
   "source": []
  },
  {
   "cell_type": "code",
   "execution_count": null,
   "metadata": {},
   "outputs": [],
   "source": []
  }
 ],
 "metadata": {
  "kernelspec": {
   "display_name": "Python 3",
   "language": "python",
   "name": "python3"
  },
  "language_info": {
   "codemirror_mode": {
    "name": "ipython",
    "version": 3
   },
   "file_extension": ".py",
   "mimetype": "text/x-python",
   "name": "python",
   "nbconvert_exporter": "python",
   "pygments_lexer": "ipython3",
   "version": "3.8.5"
  }
 },
 "nbformat": 4,
 "nbformat_minor": 4
}
