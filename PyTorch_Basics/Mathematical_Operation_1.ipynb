{
 "cells": [
  {
   "cell_type": "code",
   "execution_count": 1,
   "metadata": {},
   "outputs": [],
   "source": [
    "import os\n",
    "import sys\n",
    "import torch\n",
    "import numpy as np"
   ]
  },
  {
   "cell_type": "code",
   "execution_count": 2,
   "metadata": {},
   "outputs": [
    {
     "name": "stdout",
     "output_type": "stream",
     "text": [
      "Is x is tensor:  False\n"
     ]
    }
   ],
   "source": [
    "#Checking tensor\n",
    "'''\n",
    "1.1 torch.is_tensor - returns true if object is a tensor\n",
    "'''\n",
    "x=np.matrix('1 2; 3 4')\n",
    "value=torch.is_tensor(x)\n",
    "print(f\"Is x is tensor: \", value)"
   ]
  },
  {
   "cell_type": "code",
   "execution_count": 5,
   "metadata": {},
   "outputs": [
    {
     "name": "stdout",
     "output_type": "stream",
     "text": [
      "Numpy to Tensor:  <class 'numpy.matrix'> <class 'torch.Tensor'> tensor([[1, 2],\n",
      "        [3, 4]], dtype=torch.int32) \n",
      "\n"
     ]
    }
   ],
   "source": [
    "# Torch tensor\n",
    "'''\n",
    "1.2. torch.tensor - Constructs a tensor with data\n",
    "        - data (array_like) – Can be a list, tuple, NumPy ndarray, scalar, and other types.\n",
    "'''\n",
    "# Numpy to Tensor\n",
    "x=np.matrix('1 2; 3,4')\n",
    "x_tensor=torch.tensor(x)\n",
    "print(f\"Numpy to Tensor: \", type(x), type(x_tensor), x_tensor, \"\\n\")"
   ]
  },
  {
   "cell_type": "code",
   "execution_count": 6,
   "metadata": {},
   "outputs": [
    {
     "name": "stdout",
     "output_type": "stream",
     "text": [
      "List to Tensor:  <class 'list'> <class 'torch.Tensor'> tensor([1, 2, 3, 4]) \n",
      "\n"
     ]
    }
   ],
   "source": [
    "# list to Tensor\n",
    "x=[1,2,3,4]\n",
    "x_tensor=torch.tensor(x)\n",
    "print(f\"List to Tensor: \", type(x), type(x_tensor), x_tensor, \"\\n\")"
   ]
  },
  {
   "cell_type": "code",
   "execution_count": 7,
   "metadata": {},
   "outputs": [
    {
     "name": "stdout",
     "output_type": "stream",
     "text": [
      "Scaler to tensor:  <class 'float'> <class 'torch.Tensor'> tensor(3.1420) \n",
      "\n"
     ]
    }
   ],
   "source": [
    "# scaler to Tensor\n",
    "x=3.142\n",
    "x_tensor=torch.tensor(x)\n",
    "print(f\"Scaler to tensor: \", type(x), type(x_tensor), x_tensor, \"\\n\")"
   ]
  },
  {
   "cell_type": "code",
   "execution_count": 8,
   "metadata": {},
   "outputs": [
    {
     "name": "stdout",
     "output_type": "stream",
     "text": [
      "Empty List to Tensor <class 'list'> <class 'torch.Tensor'> tensor([]) \n",
      "\n"
     ]
    }
   ],
   "source": [
    "#empty list to tensor\n",
    "x=[]\n",
    "x_tensor=torch.tensor(x)\n",
    "print(f\"Empty List to Tensor\", type(x), type(x_tensor), x_tensor, \"\\n\")"
   ]
  },
  {
   "cell_type": "code",
   "execution_count": 9,
   "metadata": {},
   "outputs": [
    {
     "name": "stdout",
     "output_type": "stream",
     "text": [
      "Type of x:  <class 'numpy.ndarray'> [1 2 3] \n",
      "\n",
      "Type of x_t:  <class 'torch.Tensor'> tensor([1, 2, 3], dtype=torch.int32) \n",
      "\n",
      "Type of x_n:  <class 'numpy.ndarray'> [1 2 3] \n",
      "\n"
     ]
    }
   ],
   "source": [
    "# From numpy array to Tensor \n",
    "# From Tensor to numpy array\n",
    "'''\n",
    "1.3 torch.from_numpy() - Numpy to Tensor\n",
    "\n",
    "    numpy() - Tensor to Numpy\n",
    "\n",
    "'''\n",
    "x=np.array([1,2,3])\n",
    "print(f\"Type of x: \", type(x), x,\"\\n\")\n",
    "x_t=torch.from_numpy(x)\n",
    "print(f\"Type of x_t: \",type(x_t), x_t,\"\\n\")\n",
    "x_n=x_t.numpy()\n",
    "print(f\"Type of x_n: \", type(x_n), x_n, \"\\n\")\n"
   ]
  },
  {
   "cell_type": "code",
   "execution_count": 10,
   "metadata": {},
   "outputs": [
    {
     "name": "stdout",
     "output_type": "stream",
     "text": [
      "x_t1:  tensor([[0., 0., 0.],\n",
      "        [0., 0., 0.]])\n"
     ]
    }
   ],
   "source": [
    "# Zeros\n",
    "'''\n",
    "2.1. torch.zeros - Returns a tensor filled with the scalar value 0, with the shape defined by the variable argument\n",
    "        - sizes - Mention the ND array size\n",
    "        - dtype - Data type.\n",
    "'''\n",
    "x_t1=torch.zeros(2,3)\n",
    "print(\"x_t1: \",x_t1)"
   ]
  },
  {
   "cell_type": "code",
   "execution_count": 11,
   "metadata": {},
   "outputs": [
    {
     "name": "stdout",
     "output_type": "stream",
     "text": [
      "tensor([0., 0., 0., 0., 0.])\n"
     ]
    }
   ],
   "source": [
    "x_t2=torch.zeros(5)\n",
    "print(x_t2)"
   ]
  },
  {
   "cell_type": "code",
   "execution_count": 12,
   "metadata": {},
   "outputs": [
    {
     "name": "stdout",
     "output_type": "stream",
     "text": [
      "tensor([[[0., 0., 0.],\n",
      "         [0., 0., 0.]],\n",
      "\n",
      "        [[0., 0., 0.],\n",
      "         [0., 0., 0.]],\n",
      "\n",
      "        [[0., 0., 0.],\n",
      "         [0., 0., 0.]],\n",
      "\n",
      "        [[0., 0., 0.],\n",
      "         [0., 0., 0.]]])\n"
     ]
    }
   ],
   "source": [
    "x_t2=torch.zeros(4,2,3)\n",
    "print(x_t2)"
   ]
  },
  {
   "cell_type": "code",
   "execution_count": 13,
   "metadata": {},
   "outputs": [
    {
     "data": {
      "text/plain": [
       "torch.Size([4, 2, 3])"
      ]
     },
     "execution_count": 13,
     "metadata": {},
     "output_type": "execute_result"
    }
   ],
   "source": [
    "x_t2.shape"
   ]
  },
  {
   "cell_type": "code",
   "execution_count": 14,
   "metadata": {},
   "outputs": [
    {
     "name": "stdout",
     "output_type": "stream",
     "text": [
      "tensor([[1., 1., 1.],\n",
      "        [1., 1., 1.]])\n"
     ]
    }
   ],
   "source": [
    "# Ones\n",
    "'''\n",
    "2.2. torch.ones - Returns a tensor filled with the scalar value 1, with the shape defined by the variable argument \n",
    "        - sizes - Mention the ND array size\n",
    "        - dtype - Data type.\n",
    "'''\n",
    "x_t1=torch.ones(2,3)\n",
    "print(x_t1)"
   ]
  },
  {
   "cell_type": "code",
   "execution_count": 15,
   "metadata": {},
   "outputs": [
    {
     "name": "stdout",
     "output_type": "stream",
     "text": [
      "tensor([[[1., 1., 1., 1.],\n",
      "         [1., 1., 1., 1.]],\n",
      "\n",
      "        [[1., 1., 1., 1.],\n",
      "         [1., 1., 1., 1.]],\n",
      "\n",
      "        [[1., 1., 1., 1.],\n",
      "         [1., 1., 1., 1.]]])\n"
     ]
    }
   ],
   "source": [
    "x_t2=torch.ones(3,2,4)\n",
    "print(x_t2)"
   ]
  },
  {
   "cell_type": "code",
   "execution_count": 17,
   "metadata": {},
   "outputs": [
    {
     "name": "stdout",
     "output_type": "stream",
     "text": [
      "tensor([[0.0000e+00, 2.3694e-38, 2.6608e+23],\n",
      "        [5.4646e-05, 1.0257e-08, 2.6076e-09]])\n",
      "tensor([[[3.2604e-12, 7.3113e+34, 2.0706e-19],\n",
      "         [7.7180e+28, 6.0041e+31, 4.2964e+24]],\n",
      "\n",
      "        [[4.8418e+30, 1.6926e+22, 5.7886e+22],\n",
      "         [6.7120e+22, 1.1632e+33, 5.6003e-02]],\n",
      "\n",
      "        [[7.0374e+22, 6.9983e+28, 1.9859e+29],\n",
      "         [4.3218e+27, 4.7423e+30, 2.2856e+20]],\n",
      "\n",
      "        [[3.2607e-12, 7.4086e+28, 7.1463e+22],\n",
      "         [4.6241e+30, 1.0552e+24, 5.5757e-02]]])\n"
     ]
    }
   ],
   "source": [
    "# Empty\n",
    "'''\n",
    "2.3. torch.empty - Returns a empty tensor\n",
    "        - sizes - Mention the ND array size\n",
    "        - dtype - Data type.\n",
    "'''\n",
    "x_t1=torch.empty(2,3)\n",
    "x_t2=torch.empty(4,2,3)\n",
    "print(x_t1)\n",
    "print(x_t2)"
   ]
  },
  {
   "cell_type": "code",
   "execution_count": null,
   "metadata": {},
   "outputs": [],
   "source": []
  }
 ],
 "metadata": {
  "kernelspec": {
   "display_name": "Python 3",
   "language": "python",
   "name": "python3"
  },
  "language_info": {
   "codemirror_mode": {
    "name": "ipython",
    "version": 3
   },
   "file_extension": ".py",
   "mimetype": "text/x-python",
   "name": "python",
   "nbconvert_exporter": "python",
   "pygments_lexer": "ipython3",
   "version": "3.8.5"
  }
 },
 "nbformat": 4,
 "nbformat_minor": 4
}
