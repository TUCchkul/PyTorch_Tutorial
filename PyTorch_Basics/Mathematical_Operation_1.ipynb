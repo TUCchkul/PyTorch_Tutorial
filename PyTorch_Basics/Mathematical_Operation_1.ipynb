{
 "cells": [
  {
   "cell_type": "code",
   "execution_count": 1,
   "metadata": {},
   "outputs": [],
   "source": [
    "import os\n",
    "import sys\n",
    "import torch\n",
    "import numpy as np"
   ]
  },
  {
   "cell_type": "code",
   "execution_count": 2,
   "metadata": {},
   "outputs": [
    {
     "name": "stdout",
     "output_type": "stream",
     "text": [
      "Is x is tensor:  False\n"
     ]
    }
   ],
   "source": [
    "#Checking tensor\n",
    "'''\n",
    "1.1 torch.is_tensor - returns true if object is a tensor\n",
    "'''\n",
    "x=np.matrix('1 2; 3 4')\n",
    "value=torch.is_tensor(x)\n",
    "print(f\"Is x is tensor: \", value)"
   ]
  },
  {
   "cell_type": "code",
   "execution_count": 5,
   "metadata": {},
   "outputs": [
    {
     "name": "stdout",
     "output_type": "stream",
     "text": [
      "Numpy to Tensor:  <class 'numpy.matrix'> <class 'torch.Tensor'> tensor([[1, 2],\n",
      "        [3, 4]], dtype=torch.int32) \n",
      "\n"
     ]
    }
   ],
   "source": [
    "# Torch tensor\n",
    "'''\n",
    "1.2. torch.tensor - Constructs a tensor with data\n",
    "        - data (array_like) – Can be a list, tuple, NumPy ndarray, scalar, and other types.\n",
    "'''\n",
    "# Numpy to Tensor\n",
    "x=np.matrix('1 2; 3,4')\n",
    "x_tensor=torch.tensor(x)\n",
    "print(f\"Numpy to Tensor: \", type(x), type(x_tensor), x_tensor, \"\\n\")"
   ]
  },
  {
   "cell_type": "code",
   "execution_count": 6,
   "metadata": {},
   "outputs": [
    {
     "name": "stdout",
     "output_type": "stream",
     "text": [
      "List to Tensor:  <class 'list'> <class 'torch.Tensor'> tensor([1, 2, 3, 4]) \n",
      "\n"
     ]
    }
   ],
   "source": [
    "# list to Tensor\n",
    "x=[1,2,3,4]\n",
    "x_tensor=torch.tensor(x)\n",
    "print(f\"List to Tensor: \", type(x), type(x_tensor), x_tensor, \"\\n\")"
   ]
  },
  {
   "cell_type": "code",
   "execution_count": 7,
   "metadata": {},
   "outputs": [
    {
     "name": "stdout",
     "output_type": "stream",
     "text": [
      "Scaler to tensor:  <class 'float'> <class 'torch.Tensor'> tensor(3.1420) \n",
      "\n"
     ]
    }
   ],
   "source": [
    "# scaler to Tensor\n",
    "x=3.142\n",
    "x_tensor=torch.tensor(x)\n",
    "print(f\"Scaler to tensor: \", type(x), type(x_tensor), x_tensor, \"\\n\")"
   ]
  },
  {
   "cell_type": "code",
   "execution_count": 8,
   "metadata": {},
   "outputs": [
    {
     "name": "stdout",
     "output_type": "stream",
     "text": [
      "Empty List to Tensor <class 'list'> <class 'torch.Tensor'> tensor([]) \n",
      "\n"
     ]
    }
   ],
   "source": [
    "#empty list to tensor\n",
    "x=[]\n",
    "x_tensor=torch.tensor(x)\n",
    "print(f\"Empty List to Tensor\", type(x), type(x_tensor), x_tensor, \"\\n\")"
   ]
  },
  {
   "cell_type": "code",
   "execution_count": 9,
   "metadata": {},
   "outputs": [
    {
     "name": "stdout",
     "output_type": "stream",
     "text": [
      "Type of x:  <class 'numpy.ndarray'> [1 2 3] \n",
      "\n",
      "Type of x_t:  <class 'torch.Tensor'> tensor([1, 2, 3], dtype=torch.int32) \n",
      "\n",
      "Type of x_n:  <class 'numpy.ndarray'> [1 2 3] \n",
      "\n"
     ]
    }
   ],
   "source": [
    "# From numpy array to Tensor \n",
    "# From Tensor to numpy array\n",
    "'''\n",
    "1.3 torch.from_numpy() - Numpy to Tensor\n",
    "\n",
    "    numpy() - Tensor to Numpy\n",
    "\n",
    "'''\n",
    "x=np.array([1,2,3])\n",
    "print(f\"Type of x: \", type(x), x,\"\\n\")\n",
    "x_t=torch.from_numpy(x)\n",
    "print(f\"Type of x_t: \",type(x_t), x_t,\"\\n\")\n",
    "x_n=x_t.numpy()\n",
    "print(f\"Type of x_n: \", type(x_n), x_n, \"\\n\")\n"
   ]
  },
  {
   "cell_type": "code",
   "execution_count": 10,
   "metadata": {},
   "outputs": [
    {
     "name": "stdout",
     "output_type": "stream",
     "text": [
      "x_t1:  tensor([[0., 0., 0.],\n",
      "        [0., 0., 0.]])\n"
     ]
    }
   ],
   "source": [
    "# Zeros\n",
    "'''\n",
    "2.1. torch.zeros - Returns a tensor filled with the scalar value 0, with the shape defined by the variable argument\n",
    "        - sizes - Mention the ND array size\n",
    "        - dtype - Data type.\n",
    "'''\n",
    "x_t1=torch.zeros(2,3)\n",
    "print(\"x_t1: \",x_t1)"
   ]
  },
  {
   "cell_type": "code",
   "execution_count": 11,
   "metadata": {},
   "outputs": [
    {
     "name": "stdout",
     "output_type": "stream",
     "text": [
      "tensor([0., 0., 0., 0., 0.])\n"
     ]
    }
   ],
   "source": [
    "x_t2=torch.zeros(5)\n",
    "print(x_t2)"
   ]
  },
  {
   "cell_type": "code",
   "execution_count": 12,
   "metadata": {},
   "outputs": [
    {
     "name": "stdout",
     "output_type": "stream",
     "text": [
      "tensor([[[0., 0., 0.],\n",
      "         [0., 0., 0.]],\n",
      "\n",
      "        [[0., 0., 0.],\n",
      "         [0., 0., 0.]],\n",
      "\n",
      "        [[0., 0., 0.],\n",
      "         [0., 0., 0.]],\n",
      "\n",
      "        [[0., 0., 0.],\n",
      "         [0., 0., 0.]]])\n"
     ]
    }
   ],
   "source": [
    "x_t2=torch.zeros(4,2,3)\n",
    "print(x_t2)"
   ]
  },
  {
   "cell_type": "code",
   "execution_count": 13,
   "metadata": {},
   "outputs": [
    {
     "data": {
      "text/plain": [
       "torch.Size([4, 2, 3])"
      ]
     },
     "execution_count": 13,
     "metadata": {},
     "output_type": "execute_result"
    }
   ],
   "source": [
    "x_t2.shape"
   ]
  },
  {
   "cell_type": "code",
   "execution_count": 14,
   "metadata": {},
   "outputs": [
    {
     "name": "stdout",
     "output_type": "stream",
     "text": [
      "tensor([[1., 1., 1.],\n",
      "        [1., 1., 1.]])\n"
     ]
    }
   ],
   "source": [
    "# Ones\n",
    "'''\n",
    "2.2. torch.ones - Returns a tensor filled with the scalar value 1, with the shape defined by the variable argument \n",
    "        - sizes - Mention the ND array size\n",
    "        - dtype - Data type.\n",
    "'''\n",
    "x_t1=torch.ones(2,3)\n",
    "print(x_t1)"
   ]
  },
  {
   "cell_type": "code",
   "execution_count": 15,
   "metadata": {},
   "outputs": [
    {
     "name": "stdout",
     "output_type": "stream",
     "text": [
      "tensor([[[1., 1., 1., 1.],\n",
      "         [1., 1., 1., 1.]],\n",
      "\n",
      "        [[1., 1., 1., 1.],\n",
      "         [1., 1., 1., 1.]],\n",
      "\n",
      "        [[1., 1., 1., 1.],\n",
      "         [1., 1., 1., 1.]]])\n"
     ]
    }
   ],
   "source": [
    "x_t2=torch.ones(3,2,4)\n",
    "print(x_t2)"
   ]
  },
  {
   "cell_type": "code",
   "execution_count": 17,
   "metadata": {},
   "outputs": [
    {
     "name": "stdout",
     "output_type": "stream",
     "text": [
      "tensor([[0.0000e+00, 2.3694e-38, 2.6608e+23],\n",
      "        [5.4646e-05, 1.0257e-08, 2.6076e-09]])\n",
      "tensor([[[3.2604e-12, 7.3113e+34, 2.0706e-19],\n",
      "         [7.7180e+28, 6.0041e+31, 4.2964e+24]],\n",
      "\n",
      "        [[4.8418e+30, 1.6926e+22, 5.7886e+22],\n",
      "         [6.7120e+22, 1.1632e+33, 5.6003e-02]],\n",
      "\n",
      "        [[7.0374e+22, 6.9983e+28, 1.9859e+29],\n",
      "         [4.3218e+27, 4.7423e+30, 2.2856e+20]],\n",
      "\n",
      "        [[3.2607e-12, 7.4086e+28, 7.1463e+22],\n",
      "         [4.6241e+30, 1.0552e+24, 5.5757e-02]]])\n"
     ]
    }
   ],
   "source": [
    "# Empty\n",
    "'''\n",
    "2.3. torch.empty - Returns a empty tensor\n",
    "        - sizes - Mention the ND array size\n",
    "        - dtype - Data type.\n",
    "'''\n",
    "x_t1=torch.empty(2,3)\n",
    "x_t2=torch.empty(4,2,3)\n",
    "print(x_t1)\n",
    "print(x_t2)"
   ]
  },
  {
   "cell_type": "code",
   "execution_count": 19,
   "metadata": {},
   "outputs": [
    {
     "name": "stdout",
     "output_type": "stream",
     "text": [
      "tensor([2.0000, 2.5000, 3.0000, 3.5000, 4.0000, 4.5000, 5.0000, 5.5000, 6.0000,\n",
      "        6.5000, 7.0000, 7.5000, 8.0000, 8.5000, 9.0000, 9.5000])\n"
     ]
    }
   ],
   "source": [
    "# Arrange\n",
    "'''\n",
    "3.1. torch.arrange - Returns a 1-D tensor of size ⌊end−start]/[step⌋ with values from the interval \n",
    "    [start, end) taken with common difference step beginning from start.\n",
    "        - start (Number) – the starting value for the set of points. Default: 0.\n",
    "        - end (Number) – the ending value for the set of points\n",
    "        - step (Number) – the gap between each pair of adjacent points. Default: 1.\n",
    "        - dtype - Data type.\n",
    "'''\n",
    "x_t1=torch.arange(start=2, end=10,step=0.5)\n",
    "print(x_t1)"
   ]
  },
  {
   "cell_type": "code",
   "execution_count": 27,
   "metadata": {},
   "outputs": [
    {
     "name": "stdout",
     "output_type": "stream",
     "text": [
      "tensor([-10.0000,  -6.6667,  -3.3333,   0.0000,   3.3333,   6.6667,  10.0000])\n"
     ]
    }
   ],
   "source": [
    "# Linspace\n",
    "'''\n",
    "3.2. torch.linspace - Returns a one-dimensional tensor of steps equally spaced points between start and end\n",
    "        - start (Number) – the starting value for the set of points. Default: 0.\n",
    "        - end (Number) – the ending value for the set of points\n",
    "        - step (Number) – the gap between each pair of adjacent points. Default: 1.\n",
    "        - dtype - Data type.\n",
    "'''\n",
    "x_t1=torch.linspace(start=-10, end=10, steps=7)\n",
    "print(x_t1)"
   ]
  },
  {
   "cell_type": "code",
   "execution_count": 28,
   "metadata": {},
   "outputs": [
    {
     "name": "stdout",
     "output_type": "stream",
     "text": [
      "x_t1 =  tensor([1.0000e-10, 1.0000e-05, 1.0000e+00, 1.0000e+05, 1.0000e+10])\n"
     ]
    }
   ],
   "source": [
    "#Logspac\n",
    "\n",
    "'''\n",
    "3.3. torch.logspace - Returns a one-dimensional tensor of steps points logarithmically spaced \n",
    "    between 10^start and 10^end\n",
    "        - start (Number) – the starting value for the set of points. Default: 0.\n",
    "        - end (Number) – the ending value for the set of points\n",
    "        - step (Number) – the gap between each pair of adjacent points. Default: 1.\n",
    "        - dtype - Data type.\n",
    "'''\n",
    "x_t1 = torch.logspace(start=-10, end=10, steps=5)\n",
    "print(\"x_t1 = \", x_t1)"
   ]
  },
  {
   "cell_type": "code",
   "execution_count": 31,
   "metadata": {},
   "outputs": [
    {
     "name": "stdout",
     "output_type": "stream",
     "text": [
      "tensor([[1, 2],\n",
      "        [3, 4]], dtype=torch.int32)\n",
      "tensor([[1, 2],\n",
      "        [3, 4],\n",
      "        [1, 2],\n",
      "        [3, 4],\n",
      "        [1, 2],\n",
      "        [3, 4]], dtype=torch.int32)\n",
      "tensor([[1, 2, 1, 2, 1, 2],\n",
      "        [3, 4, 3, 4, 3, 4]], dtype=torch.int32)\n"
     ]
    }
   ],
   "source": [
    "# Cat\n",
    "'''\n",
    "5.1. torch.cat - Concatenates the given sequence of seq tensors in the given dimension. \n",
    "    All tensors must either have the same shape (except in the concatenating dimension) or be empty.\n",
    "        - seq (sequence of Tensors) \n",
    "        - dim (int, optional) – the dimension over which the tensors are concatenated\n",
    "        - out (Tensor, optional) – the output tensor\n",
    "'''\n",
    "x=np.matrix('1 2; 3 4')\n",
    "x_t=torch.tensor(x)\n",
    "x_t_concat=torch.cat((x_t,x_t,x_t),0)\n",
    "x_t_concat_h=torch.cat((x_t,x_t,x_t), 1)\n",
    "print(x_t)\n",
    "print(x_t_concat)\n",
    "print(x_t_concat_h)"
   ]
  },
  {
   "cell_type": "code",
   "execution_count": 34,
   "metadata": {},
   "outputs": [
    {
     "name": "stdout",
     "output_type": "stream",
     "text": [
      "x: tensor([[ 0.7428, -1.4344, -0.1922, -0.2772],\n",
      "        [ 0.0085,  0.3702,  0.5921,  0.6029],\n",
      "        [-0.2548,  0.2559, -1.0036, -0.3435]])\n",
      "mask: tensor([[ True, False, False, False],\n",
      "        [ True,  True,  True,  True],\n",
      "        [False,  True, False, False]])\n",
      "masked_selection: tensor([0.7428, 0.0085, 0.3702, 0.5921, 0.6029, 0.2559])\n"
     ]
    }
   ],
   "source": [
    "# Masked Tensor\n",
    "'''\n",
    "5.2. torch.masked_select - Returns a new 1-D tensor which indexes the input tensor according to \n",
    "    the binary mask mask which is a ByteTensor.\n",
    "        - input (Tensor) – the input data\n",
    "        - mask (ByteTensor) – the tensor containing the binary mask to index with\n",
    "        - out (Tensor, optional) – the output tensor   \n",
    "'''\n",
    "x=torch.randn(3,4)\n",
    "print(\"x:\", x)\n",
    "mask=x.ge(0.0)\n",
    "print(\"mask:\",mask)\n",
    "masked_selection=torch.masked_select(x,mask)\n",
    "print(\"masked_selection:\",masked_selection)"
   ]
  },
  {
   "cell_type": "code",
   "execution_count": 35,
   "metadata": {},
   "outputs": [
    {
     "name": "stdout",
     "output_type": "stream",
     "text": [
      "Non_zero element:  tensor([[0],\n",
      "        [1],\n",
      "        [2],\n",
      "        [3],\n",
      "        [5]])\n"
     ]
    }
   ],
   "source": [
    "# NonZero\n",
    "'''\n",
    "5.3. torch.nonzero - Returns a tensor containing the indices of all non-zero elements of input. \n",
    "    Each row in the result contains the indices of a non-zero element in input\n",
    "        - input (Tensor) – the input tensor\n",
    "        - out (LongTensor, optional) – the output tensor containing indices\n",
    "'''\n",
    "x_t=torch.tensor([1,1,1,1,0,1])\n",
    "x_nonzero=torch.nonzero(x_t)\n",
    "print(\"Non_zero element: \", x_nonzero)"
   ]
  },
  {
   "cell_type": "code",
   "execution_count": 36,
   "metadata": {},
   "outputs": [
    {
     "name": "stdout",
     "output_type": "stream",
     "text": [
      "x: tensor([[ 1.4506,  0.5916],\n",
      "        [-0.9239,  1.5988],\n",
      "        [ 0.4286, -1.5760]])\n",
      "y: tensor([[1., 1.],\n",
      "        [1., 1.],\n",
      "        [1., 1.]])\n",
      "z:  tensor([[1.4506, 0.5916],\n",
      "        [1.0000, 1.5988],\n",
      "        [0.4286, 1.0000]])\n"
     ]
    }
   ],
   "source": [
    "# Condition output\n",
    "'''\n",
    "5.4. torch.where - Return a tensor of elements selected from either x or y, depending on condition\n",
    "        - condition (ByteTensor) – When True (nonzero), yield x, otherwise yield y\n",
    "        - x (Tensor) – values selected at indices where condition is True\n",
    "        - y (Tensor) – values selected at indices where condition is False\n",
    "'''\n",
    "x=torch.randn(3,2)\n",
    "print(\"x:\",x)\n",
    "y=torch.ones(3,2)\n",
    "print(\"y:\",y)\n",
    "z=torch.where(x>0,x,y)\n",
    "print(\"z: \",z)"
   ]
  },
  {
   "cell_type": "code",
   "execution_count": 38,
   "metadata": {},
   "outputs": [
    {
     "name": "stdout",
     "output_type": "stream",
     "text": [
      "tensor([[0, 1, 2],\n",
      "        [3, 4, 5]])\n",
      "tensor([[0, 1],\n",
      "        [2, 3],\n",
      "        [4, 5]])\n"
     ]
    }
   ],
   "source": [
    "# Reshape\n",
    "'''\n",
    "6.1. torch.reshape - Returns a tensor with the same data and number of elements as input, \n",
    "                but with the specified shape.\n",
    "        - input (Tensor) – the tensor to be reshaped\n",
    "        - shape (tuple of python:ints) – the new shape\n",
    "'''\n",
    "x_t=torch.arange(6)\n",
    "x_t_reshape=x_t.reshape(2,3)\n",
    "x_t_reshape1=torch.reshape(x_t,(3,2))\n",
    "print(x_t_reshape)\n",
    "print(x_t_reshape1)"
   ]
  },
  {
   "cell_type": "code",
   "execution_count": 48,
   "metadata": {},
   "outputs": [
    {
     "name": "stdout",
     "output_type": "stream",
     "text": [
      "tensor([[[[[[[0., 0.]],\n",
      "\n",
      "            [[0., 0.]]]],\n",
      "\n",
      "\n",
      "\n",
      "          [[[[0., 0.]],\n",
      "\n",
      "            [[0., 0.]]]]]],\n",
      "\n",
      "\n",
      "\n",
      "\n",
      "\n",
      "        [[[[[[0., 0.]],\n",
      "\n",
      "            [[0., 0.]]]],\n",
      "\n",
      "\n",
      "\n",
      "          [[[[0., 0.]],\n",
      "\n",
      "            [[0., 0.]]]]]]])\n",
      "torch.Size([2, 1, 2, 1, 2, 1, 2])\n",
      "7\n"
     ]
    }
   ],
   "source": [
    "# Squeeze\n",
    "'''\n",
    "6.2. torch.squeeze - Returns a tensor with all the dimensions of input of size 1 removed.\n",
    "        - For example, if input is of shape: (A×1×B×C×1×D) then the out tensor will be of shape: (A×B×C×D)\n",
    "        - input (Tensor) – the input tensor\n",
    "        - dim (int, optional) – if given, the input will be squeezed only in this dimension\n",
    "        - out (Tensor, optional) – the output tensor\n",
    "'''\n",
    "x_t=torch.zeros(2,1,2,1,2,1,2)\n",
    "print(x_t)\n",
    "print(x_t.size())\n",
    "print(x_t.dim())"
   ]
  },
  {
   "cell_type": "code",
   "execution_count": 49,
   "metadata": {},
   "outputs": [
    {
     "name": "stdout",
     "output_type": "stream",
     "text": [
      "tensor([[[[0., 0.],\n",
      "          [0., 0.]],\n",
      "\n",
      "         [[0., 0.],\n",
      "          [0., 0.]]],\n",
      "\n",
      "\n",
      "        [[[0., 0.],\n",
      "          [0., 0.]],\n",
      "\n",
      "         [[0., 0.],\n",
      "          [0., 0.]]]])\n",
      "torch.Size([2, 2, 2, 2])\n"
     ]
    }
   ],
   "source": [
    "x_t_squeeze=torch.squeeze(x_t)\n",
    "print(x_t_squeeze)\n",
    "print(x_t_squeeze.size())"
   ]
  },
  {
   "cell_type": "code",
   "execution_count": 50,
   "metadata": {},
   "outputs": [
    {
     "data": {
      "text/plain": [
       "4"
      ]
     },
     "execution_count": 50,
     "metadata": {},
     "output_type": "execute_result"
    }
   ],
   "source": [
    "x_t_squeeze.dim()"
   ]
  },
  {
   "cell_type": "code",
   "execution_count": 55,
   "metadata": {},
   "outputs": [
    {
     "name": "stdout",
     "output_type": "stream",
     "text": [
      "tensor([[0.4476, 0.6630, 0.3407, 0.9596],\n",
      "        [0.6292, 0.3771, 0.4674, 0.8271],\n",
      "        [0.8039, 0.2459, 0.8249, 0.8613],\n",
      "        [0.4011, 0.8085, 0.7567, 0.3491]])\n",
      "tensor([[0.4476, 0.6630, 0.3407, 0.9596, 0.6292, 0.3771, 0.4674, 0.8271],\n",
      "        [0.8039, 0.2459, 0.8249, 0.8613, 0.4011, 0.8085, 0.7567, 0.3491]])\n",
      "tensor([[3.1400, 0.6630, 0.3407, 0.9596, 0.6292, 0.3771, 0.4674, 0.8271],\n",
      "        [0.8039, 0.2459, 0.8249, 0.8613, 0.4011, 0.8085, 0.7567, 0.3491]])\n"
     ]
    }
   ],
   "source": [
    "t = torch.rand(4, 4)\n",
    "print(t)\n",
    "b = t.view(2, 8)\n",
    "print(b)\n",
    "t.storage().data_ptr() == b.storage().data_ptr()  # `t` and `b` share the same underlying data.\n",
    "b[0][0] = 3.14\n",
    "print(b)\n",
    "#t[0][0]"
   ]
  },
  {
   "cell_type": "code",
   "execution_count": 57,
   "metadata": {},
   "outputs": [
    {
     "name": "stdout",
     "output_type": "stream",
     "text": [
      "False\n",
      "tensor([[0, 2],\n",
      "        [1, 3]])\n"
     ]
    }
   ],
   "source": [
    "base = torch.tensor([[0, 1],[2, 3]])\n",
    "base.is_contiguous()\n",
    "t = base.transpose(0, 1)  # `t` is a view of `base`. No data movement happened here.\n",
    "print(t.is_contiguous())\n",
    "c = t.contiguous()\n",
    "print(c)"
   ]
  },
  {
   "cell_type": "code",
   "execution_count": 59,
   "metadata": {},
   "outputs": [
    {
     "name": "stdout",
     "output_type": "stream",
     "text": [
      "x_t =  tensor([[-1.3513, -0.5588, -0.0745],\n",
      "        [-0.2167, -0.6491,  1.0749]])\n",
      "x_t_transposed =  tensor([[-1.3513, -0.2167],\n",
      "        [-0.5588, -0.6491],\n",
      "        [-0.0745,  1.0749]])\n"
     ]
    }
   ],
   "source": [
    "# 2D Transpose\n",
    "\n",
    "'''\n",
    "6.3. torch.t - Expects input to be a matrix (2-D tensor) and transposes dimensions 0 and 1.\n",
    "        - input (Tensor) – the input tensor\n",
    "'''\n",
    "x_t=torch.randn(2,3)\n",
    "x_t_transposed=torch.t(x_t)\n",
    "print(\"x_t = \", x_t)\n",
    "print(\"x_t_transposed = \", x_t_transposed)"
   ]
  },
  {
   "cell_type": "code",
   "execution_count": 60,
   "metadata": {},
   "outputs": [
    {
     "name": "stdout",
     "output_type": "stream",
     "text": [
      "Extracted element =  tensor([4, 5, 8])\n"
     ]
    }
   ],
   "source": [
    "# Take\n",
    "\n",
    "'''\n",
    "6.4. torch.take - Returns a new tensor with the elements of input at the given indices. \n",
    "    The input tensor is treated as if it were viewed as a 1-D tensor. \n",
    "    The result takes the same shape as the indices.\n",
    "        - input (Tensor) – the input tensor\n",
    "        - indices (LongTensor)\n",
    "'''\n",
    "src=torch.tensor([4,3,5,6,7,8])\n",
    "taken_indexes=torch.take(src, torch.tensor([0,2,5]))\n",
    "print(\"Extracted element = \", taken_indexes)"
   ]
  },
  {
   "cell_type": "code",
   "execution_count": 61,
   "metadata": {},
   "outputs": [
    {
     "data": {
      "text/plain": [
       "tensor([ 4,  8, 10])"
      ]
     },
     "execution_count": 61,
     "metadata": {},
     "output_type": "execute_result"
    }
   ],
   "source": [
    "src=torch.tensor([[4,3,5],[6,7,8],[9,10,11]])\n",
    "torch.take(src, torch.tensor([0,5,7]))"
   ]
  },
  {
   "cell_type": "code",
   "execution_count": 63,
   "metadata": {},
   "outputs": [
    {
     "name": "stdout",
     "output_type": "stream",
     "text": [
      "tensor([[[-1.3120, -0.5950],\n",
      "         [-1.8419,  0.5208],\n",
      "         [-0.3363, -1.4828]],\n",
      "\n",
      "        [[-0.4306,  1.1761],\n",
      "         [-0.4928, -0.7707],\n",
      "         [ 1.0894, -0.0870]]])\n",
      "tensor([[[-1.3120, -0.5950],\n",
      "         [-0.4306,  1.1761]],\n",
      "\n",
      "        [[-1.8419,  0.5208],\n",
      "         [-0.4928, -0.7707]],\n",
      "\n",
      "        [[-0.3363, -1.4828],\n",
      "         [ 1.0894, -0.0870]]])\n"
     ]
    }
   ],
   "source": [
    "# N-D Transpose\n",
    "\n",
    "'''\n",
    "6.5. torch.transpose - Returns a tensor that is a transposed version of input. \n",
    "    The given dimensions dim0 and dim1 are swapped.\n",
    "        - input (Tensor) – the input tensor\n",
    "        - dim0 (int) – the first dimension to be transposed\n",
    "        - dim1 (int) – the second dimension to be transposed\n",
    "'''\n",
    "x=torch.randn(2,3,2)\n",
    "print(x)\n",
    "x_t=torch.transpose(x,1,0)\n",
    "print(x_t)"
   ]
  },
  {
   "cell_type": "code",
   "execution_count": 64,
   "metadata": {},
   "outputs": [
    {
     "name": "stdout",
     "output_type": "stream",
     "text": [
      "tensor([[[-1.3120, -0.5950],\n",
      "         [-0.4306,  1.1761]],\n",
      "\n",
      "        [[-1.8419,  0.5208],\n",
      "         [-0.4928, -0.7707]],\n",
      "\n",
      "        [[-0.3363, -1.4828],\n",
      "         [ 1.0894, -0.0870]]])\n"
     ]
    }
   ],
   "source": [
    "x_t=torch.transpose(x,0,1)\n",
    "print(x_t)"
   ]
  },
  {
   "cell_type": "code",
   "execution_count": 66,
   "metadata": {},
   "outputs": [
    {
     "name": "stdout",
     "output_type": "stream",
     "text": [
      "tensor([[[-1.3120, -0.5950],\n",
      "         [-0.4306,  1.1761]],\n",
      "\n",
      "        [[-1.8419,  0.5208],\n",
      "         [-0.4928, -0.7707]],\n",
      "\n",
      "        [[-0.3363, -1.4828],\n",
      "         [ 1.0894, -0.0870]]])\n"
     ]
    }
   ],
   "source": [
    "x_t=torch.transpose(x,0,1)\n",
    "print(x_t)"
   ]
  },
  {
   "cell_type": "code",
   "execution_count": null,
   "metadata": {},
   "outputs": [],
   "source": []
  }
 ],
 "metadata": {
  "kernelspec": {
   "display_name": "Python 3",
   "language": "python",
   "name": "python3"
  },
  "language_info": {
   "codemirror_mode": {
    "name": "ipython",
    "version": 3
   },
   "file_extension": ".py",
   "mimetype": "text/x-python",
   "name": "python",
   "nbconvert_exporter": "python",
   "pygments_lexer": "ipython3",
   "version": "3.8.5"
  }
 },
 "nbformat": 4,
 "nbformat_minor": 4
}
