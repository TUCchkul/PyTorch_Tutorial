{
 "cells": [
  {
   "cell_type": "code",
   "execution_count": 1,
   "metadata": {},
   "outputs": [],
   "source": [
    "import os\n",
    "import sys\n",
    "import torch\n",
    "import numpy as np"
   ]
  },
  {
   "cell_type": "code",
   "execution_count": 2,
   "metadata": {},
   "outputs": [
    {
     "name": "stdout",
     "output_type": "stream",
     "text": [
      "Is x is tensor:  False\n"
     ]
    }
   ],
   "source": [
    "#Checking tensor\n",
    "'''\n",
    "1.1 torch.is_tensor - returns true if object is a tensor\n",
    "'''\n",
    "x=np.matrix('1 2; 3 4')\n",
    "value=torch.is_tensor(x)\n",
    "print(f\"Is x is tensor: \", value)"
   ]
  },
  {
   "cell_type": "code",
   "execution_count": 5,
   "metadata": {},
   "outputs": [
    {
     "name": "stdout",
     "output_type": "stream",
     "text": [
      "Numpy to Tensor:  <class 'numpy.matrix'> <class 'torch.Tensor'> tensor([[1, 2],\n",
      "        [3, 4]], dtype=torch.int32) \n",
      "\n"
     ]
    }
   ],
   "source": [
    "# Torch tensor\n",
    "'''\n",
    "1.2. torch.tensor - Constructs a tensor with data\n",
    "        - data (array_like) – Can be a list, tuple, NumPy ndarray, scalar, and other types.\n",
    "'''\n",
    "# Numpy to Tensor\n",
    "x=np.matrix('1 2; 3,4')\n",
    "x_tensor=torch.tensor(x)\n",
    "print(f\"Numpy to Tensor: \", type(x), type(x_tensor), x_tensor, \"\\n\")"
   ]
  },
  {
   "cell_type": "code",
   "execution_count": 6,
   "metadata": {},
   "outputs": [
    {
     "name": "stdout",
     "output_type": "stream",
     "text": [
      "List to Tensor:  <class 'list'> <class 'torch.Tensor'> tensor([1, 2, 3, 4]) \n",
      "\n"
     ]
    }
   ],
   "source": [
    "# list to Tensor\n",
    "x=[1,2,3,4]\n",
    "x_tensor=torch.tensor(x)\n",
    "print(f\"List to Tensor: \", type(x), type(x_tensor), x_tensor, \"\\n\")"
   ]
  },
  {
   "cell_type": "code",
   "execution_count": 7,
   "metadata": {},
   "outputs": [
    {
     "name": "stdout",
     "output_type": "stream",
     "text": [
      "Scaler to tensor:  <class 'float'> <class 'torch.Tensor'> tensor(3.1420) \n",
      "\n"
     ]
    }
   ],
   "source": [
    "# scaler to Tensor\n",
    "x=3.142\n",
    "x_tensor=torch.tensor(x)\n",
    "print(f\"Scaler to tensor: \", type(x), type(x_tensor), x_tensor, \"\\n\")"
   ]
  },
  {
   "cell_type": "code",
   "execution_count": null,
   "metadata": {},
   "outputs": [],
   "source": [
    "#"
   ]
  }
 ],
 "metadata": {
  "kernelspec": {
   "display_name": "Python 3",
   "language": "python",
   "name": "python3"
  },
  "language_info": {
   "codemirror_mode": {
    "name": "ipython",
    "version": 3
   },
   "file_extension": ".py",
   "mimetype": "text/x-python",
   "name": "python",
   "nbconvert_exporter": "python",
   "pygments_lexer": "ipython3",
   "version": "3.8.5"
  }
 },
 "nbformat": 4,
 "nbformat_minor": 4
}
