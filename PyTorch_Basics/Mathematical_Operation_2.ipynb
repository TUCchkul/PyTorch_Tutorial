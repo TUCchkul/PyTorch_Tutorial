{
 "cells": [
  {
   "cell_type": "code",
   "execution_count": 1,
   "metadata": {},
   "outputs": [],
   "source": [
    "import os\n",
    "import sys\n",
    "import torch\n",
    "import numpy as np"
   ]
  },
  {
   "cell_type": "code",
   "execution_count": 5,
   "metadata": {},
   "outputs": [
    {
     "name": "stdout",
     "output_type": "stream",
     "text": [
      "Way - 1\n",
      "x_in =  tensor([ 0.7376,  0.1039, -0.5643,  0.0250])\n",
      "x_out =  tensor([30.7376, 30.1039, 29.4357, 30.0250])\n",
      "Way - 2\n",
      "x_in =  tensor([-0.3152,  0.5241,  0.0039, -0.4869])\n",
      "x_other tensor([-0.6458,  0.1003,  0.8961, -0.1272])\n",
      "x_out =  tensor([-6.7736,  1.5268,  8.9653, -1.7593])\n"
     ]
    }
   ],
   "source": [
    "#Add\n",
    "\"\"\"\n",
    "1.1 torch.add - Adds the scalar value to each element of the input input and returns a new resulting tensor.\n",
    "\"\"\"\n",
    "x_in=torch.randn(4)\n",
    "scaler=30\n",
    "x_out=torch.add(x_in, scaler)\n",
    "print(\"Way - 1\")\n",
    "print(\"x_in = \", x_in)\n",
    "print(\"x_out = \", x_out)\n",
    "\n",
    "'''\n",
    "1.2. torch.add - Each element of the tensor other is multiplied by the scalar value and added to each element \n",
    "    of the tensor input. The resulting tensor is returned.\n",
    "    out=input+value×other\n",
    "        - input (Tensor) – the first input tensor\n",
    "        - value (Number) – the scalar multiplier for other\n",
    "        - other (Tensor) – the second input tensor\n",
    "    \n",
    "'''\n",
    "x_in=torch.randn(4)\n",
    "x_other=torch.randn(4)\n",
    "value=10\n",
    "x_out=torch.add(x_in, value, x_other)\n",
    "print(\"Way - 2\")\n",
    "print(\"x_in = \", x_in)\n",
    "print(\"x_other\", x_other)\n",
    "print(\"x_out = \", x_out)"
   ]
  },
  {
   "cell_type": "code",
   "execution_count": 8,
   "metadata": {},
   "outputs": [
    {
     "data": {
      "text/plain": [
       "tensor([[-1.9441,  0.1587, -1.1047]])"
      ]
     },
     "execution_count": 8,
     "metadata": {},
     "output_type": "execute_result"
    }
   ],
   "source": [
    "# AddCDivide\n",
    "\n",
    "'''\n",
    "1.2. torch.addcdiv - out_i= tensor_i + value × [tensor_1]/[tensor_2]\n",
    "    - tensor (Tensor) – the tensor to be added\n",
    "    - value (Number, optional) – multiplier for tensor1./tensor2\n",
    "    - tensor1 (Tensor) – the numerator tensor\n",
    "    - tensor2 (Tensor) – the denominator tensor\n",
    "    - out (Tensor, optional) – the output tensor\n",
    "'''\n",
    "x_in=torch.randn(1,3)\n",
    "x_in"
   ]
  },
  {
   "cell_type": "code",
   "execution_count": 9,
   "metadata": {},
   "outputs": [
    {
     "data": {
      "text/plain": [
       "tensor([[-0.5574],\n",
       "        [-0.3031],\n",
       "        [ 0.3834]])"
      ]
     },
     "execution_count": 9,
     "metadata": {},
     "output_type": "execute_result"
    }
   ],
   "source": [
    "x_1=torch.randn(3,1)\n",
    "x_1"
   ]
  },
  {
   "cell_type": "code",
   "execution_count": 10,
   "metadata": {},
   "outputs": [
    {
     "data": {
      "text/plain": [
       "tensor([[-0.9731, -1.5762, -0.3499]])"
      ]
     },
     "execution_count": 10,
     "metadata": {},
     "output_type": "execute_result"
    }
   ],
   "source": [
    "x_2=torch.randn(1,3)\n",
    "x_2"
   ]
  },
  {
   "cell_type": "code",
   "execution_count": 13,
   "metadata": {},
   "outputs": [
    {
     "data": {
      "text/plain": [
       "tensor([[ 0.5728,  0.3537,  1.5932],\n",
       "        [ 0.3115,  0.1923,  0.8662],\n",
       "        [-0.3940, -0.2432, -1.0957]])"
      ]
     },
     "execution_count": 13,
     "metadata": {},
     "output_type": "execute_result"
    }
   ],
   "source": [
    "x=x_1/x_2\n",
    "x"
   ]
  },
  {
   "cell_type": "code",
   "execution_count": 14,
   "metadata": {},
   "outputs": [
    {
     "data": {
      "text/plain": [
       "tensor([[ 0.0573,  0.0354,  0.1593],\n",
       "        [ 0.0311,  0.0192,  0.0866],\n",
       "        [-0.0394, -0.0243, -0.1096]])"
      ]
     },
     "execution_count": 14,
     "metadata": {},
     "output_type": "execute_result"
    }
   ],
   "source": [
    "0.1*x"
   ]
  },
  {
   "cell_type": "code",
   "execution_count": 15,
   "metadata": {},
   "outputs": [
    {
     "name": "stdout",
     "output_type": "stream",
     "text": [
      "tensor([[-1.8868,  0.1941, -0.9454],\n",
      "        [-1.9130,  0.1779, -1.0181],\n",
      "        [-1.9835,  0.1344, -1.2143]])\n"
     ]
    }
   ],
   "source": [
    "x_out=torch.addcdiv(x_in, 0.1,x_1,x_2)\n",
    "print(x_out)"
   ]
  },
  {
   "cell_type": "code",
   "execution_count": null,
   "metadata": {},
   "outputs": [],
   "source": [
    "# # AddCMul\n",
    "\n",
    "'''\n",
    "1.3. torch.addcmul - out_i= tensor_i + value × [tensor_1]*[tensor_2]\n",
    "'''\n"
   ]
  },
  {
   "cell_type": "markdown",
   "metadata": {},
   "source": [
    "# Roadmap 2 - Mathematical operations"
   ]
  },
  {
   "cell_type": "markdown",
   "metadata": {},
   "source": [
    "\n",
    "1.1.   torch.add     - Adds the scalar value to each element of the input input\n",
    "1.2.   torch.addcdiv - out_i= tensor_i + value × [tensor_1]/[tensor_2]\n",
    "1.3.   torch.addcmul - out_i= tensor_i + value × [tensor_1]*[tensor_2]\n",
    "1.4.   torch.div     - Divides each element of the input input with the scalar value\n",
    "1.5.   torch.mul     - Multiples each element of the input input with the scalar value\n",
    "\n",
    "\n",
    "2.1.   torch.ceil    - Returns a new tensor with the ceil of the elements of input, the smallest integer\n",
    "                          greater than or equal to each element.\n",
    "2.2.   torch.clamp   - Clamp all elements in input into the range [ min, max ] and return a resulting tensor\n",
    "2.3.   torch.floor   - Returns a new tensor with the floor of the elements of input, the largest integer less \n",
    "                          than or equal to each element.\n",
    "2.4.   torch.round   - Returns a new tensor with each of the elements of input rounded to the closest integer.\n",
    "2.5.   torch.trunc   - Returns a new tensor with the truncated integer values of the elements of input\n",
    "\n",
    "\n",
    "3.1.   torch.asin    - Returns a new tensor with the arcsine of the elements of input\n",
    "3.2.   torch.acos    - Returns a new tensor with the arccosine of the elements of input\n",
    "3.3.   torch.atan    - Returns a new tensor with the arctangent of the elements of input\n",
    "3.4.   torch.atan2   - Returns a new tensor with the arctangent of the elements of input1 and input2.\n",
    "3.5.   torch.cos     - Returns a new tensor with the cosine of the elements of input\n",
    "3.6.   torch.sin     - Returns a new tensor with the Sine of the elements of input\n",
    "3.7.   torch.tan     - Returns a new tensor with the Tangent of the elements of input\n",
    "3.8.   torch.cosh    - Returns a new tensor with the hyperbolic cosine of the elements of input\n",
    "3.9.   torch.sinh    - Returns a new tensor with the hyperbolic sine of the elements of input\n",
    "3.10.  torch.tanh    - Returns a new tensor with the Hyperbolic Tangent of the elements of input\n",
    "\n",
    "\n",
    "4.1.   torch.argmax   - Returns the indices of the maximum values of a tensor across a dimension.\n",
    "4.2.   torch.argmin   - Returns the indices of the minimum values of a tensor across a dimension.\n",
    "4.3.   torch.mean     - Returns the mean value of all elements in the input tensor.\n",
    "4.4.   torch.median   - Returns the median value of all elements in the input tensor.\n",
    "4.5.   torch.mode     - Returns the mode value of all elements in the input tensor.\n",
    "4.6.   torch.prod     - Returns the product of all elements in the input tensor.\n",
    "4.7.   torch.std      - Returns the standard deviation value of all elements in the input tensor.\n",
    "4.8.   torch.sum      - Returns the sum of all elements in the input tensor.\n",
    "4.9.   torch.var      - Returns the variance of all elements in the input tensor.\n",
    "\n",
    "\n",
    "5.1.   torch.erf      - Computes the error function of each element.\n",
    "5.2.   torch.erfc     - Computes the complementary error function of each element. \n",
    "5.3.   torch.erfinv   - Computes the inverse error function of each element.\n",
    "5.4.   torch.exp      - Returns a new tensor with the exponential of the elements of input\n",
    "5.5.   torch.expm1    - Returns a new tensor with the exponential of the elements minus 1 of input\n",
    "5.6.   torch.fmod     - Computes the element-wise remainder of division.\n",
    "5.7.   torch.abs      - Computes the element-wise absolute value of the given input tensor.\n",
    "5.8.   torch.frac     - Computes the fractional portion of each element in tensor\n",
    "5.9.   torch.log      - Returns a new tensor with the logarithm of the elements. Base of log - e\n",
    "5.10.  torch.log10    - Returns a new tensor with the logarithm of the elements. Base of log - 10\n",
    "5.11.  torch.log1p    - Returns a new tensor with the logarithm of the elements (1 + input).\n",
    "5.12.  torch.log2     - Returns a new tensor with the logarithm of the elements of input. Base of log - 2\n",
    "5.13.  torch.neg      - Returns a new tensor with the negative of the elements of input\n",
    "5.14.  torch.pow      - Takes the power of each element in input with exponent.\n",
    "5.15.  torch.reciprocal - Returns a new tensor with the reciprocal of the elements of input\n",
    "5.16.  torch.rsqrt    - Returns a new tensor with the reciprocal of the square-root of each element.\n",
    "5.17.  torch.sigmoid  - Returns a new tensor with the sigmoid of the elements of input\n",
    "5.18.  torch.sign     - Returns a new tensor with the sign of the elements of input.\n",
    "5.19.  torch.sqrt     - Returns a new tensor with the square-root of each of the elements of input.\n",
    "5.20.  torch.norm     - Returns the normalized value of all elements in the input tensor.\n",
    "\n",
    "\n",
    "6.1.   torch.eq      - Computes element-wise equality\n",
    "6.2.   torch.ge      - Computes element-wise greater-than-equality\n",
    "6.3.   torch.gt      - Computes element-wise greater-than function\n",
    "6.4.   torch.le      - Computes element-wise less-than-equality\n",
    "6.5.   torch.lt      - Computes element-wise less-than function\n",
    "6.6.   torch.max     - Returns the maximum value of all elements in the input tensor.\n",
    "6.7.   torch.min     - Returns the minimum value of all elements in the input tensor.\n",
    "\n",
    "\n",
    "7.1.   torch.cumprod   - Returns the cumulative product of elements of input in the dimension dim.\n",
    "7.2.   torch.cumsum    - Returns the cumulative sum of elements of input in the dimension dim.\n",
    "7.3.   torch.logsumexp - Returns the log of summed exponentials of each row of the input tensor in the \n",
    "                            given dimension dim\n",
    "7.4.   torch.einsum    - This function provides a way of computing multilinear expressions using the Einstein  \n",
    "                            summation convention.\n",
    "7.5.   torch.histc     - Computes the histogram of a tensor.\n",
    "\n",
    "\n",
    "8.1.   torch.unique    - Returns the unique scalar elements of the input tensor as a 1-D tensor.\n",
    "8.2.   torch.sort      - Sorts the elements of the input tensor.\n",
    "8.3.   torch.topk      - Returns the k largest elements of the given input tensor along a given dimension.\n",
    "8.4.   torch.bincount  - Count the frequency of each value in an array of non-negative ints.\n",
    "8.5.   torch.trace     - Returns the sum of the elements of the diagonal of the input 2-D matrix.\n",
    "8.6.   torch.tril      - Returns the lower triangular part of the matrix (2-D tensor) input\n",
    "8.7.   torch.triu      - Returns the upper triangular part of the matrix (2-D tensor) input\n",
    "\n",
    "\n",
    "9.1.   torch.lerp      - Does a linear interpolation of two tensors start and end based on a scalar weight and \n",
    "                           returns the resulting out tensor.              \n",
    "9.2.   torch.dist      - Returns the lp-norm of (input - other)\n",
    "9.3.   torch.fft       - Complex-to-complex Discrete Fourier Transform\n",
    "9.4.   torch.ifft      - Complex-to-complex Inverse Discrete Fourier Transform\n",
    "9.5.   torch.stft      - Short time fourier transform \n",
    "9.6.   torch.cross     - Returns the cross product of vectors in dimension dim of input and other\n",
    "9.7.   torch.diag      - If input is a vector (1-D tensor), then returns a 2-D square tensor with the elements \n",
    "                          of input as the diagonal. If input is a matrix (2-D tensor), then returns a 1-D tensor \n",
    "                          with the diagonal elements of input.\n",
    "\n",
    "\n",
    "10.1.  torch.bartlett_window \n",
    "10.2.  torch.blacman_window\n",
    "10.3.  torch.hamming_window\n",
    "10.4.  torch.hann_window\n",
    "\n"
   ]
  },
  {
   "cell_type": "code",
   "execution_count": 4,
   "metadata": {},
   "outputs": [
    {
     "data": {
      "text/plain": [
       "tensor([ 2.6241, -0.2108, -0.6441, -0.9712])"
      ]
     },
     "execution_count": 4,
     "metadata": {},
     "output_type": "execute_result"
    }
   ],
   "source": [
    "# Add\n",
    "'''\n",
    "1.1 torch.add - Adds the scalar value to each element of the input input and returns a new resulting tensor.\n",
    "'''\n",
    "x_in=torch.randn(4)\n",
    "x_in"
   ]
  },
  {
   "cell_type": "code",
   "execution_count": 5,
   "metadata": {},
   "outputs": [
    {
     "data": {
      "text/plain": [
       "tensor([32.6241, 29.7892, 29.3559, 29.0288])"
      ]
     },
     "execution_count": 5,
     "metadata": {},
     "output_type": "execute_result"
    }
   ],
   "source": [
    "scaler=30\n",
    "x_out=torch.add(x_in, scaler)\n",
    "x_out"
   ]
  },
  {
   "cell_type": "code",
   "execution_count": 6,
   "metadata": {},
   "outputs": [
    {
     "data": {
      "text/plain": [
       "tensor([[ 0.9207, -0.1706,  0.9116],\n",
       "        [ 0.5842,  0.3687,  0.7570]])"
      ]
     },
     "execution_count": 6,
     "metadata": {},
     "output_type": "execute_result"
    }
   ],
   "source": [
    "x_in=torch.randn(2,3)\n",
    "x_in"
   ]
  },
  {
   "cell_type": "code",
   "execution_count": 7,
   "metadata": {},
   "outputs": [
    {
     "data": {
      "text/plain": [
       "tensor([[30.9207, 29.8294, 30.9116],\n",
       "        [30.5842, 30.3687, 30.7570]])"
      ]
     },
     "execution_count": 7,
     "metadata": {},
     "output_type": "execute_result"
    }
   ],
   "source": [
    "x_out=torch.add(x_in, scaler)\n",
    "x_out"
   ]
  },
  {
   "cell_type": "code",
   "execution_count": 8,
   "metadata": {
    "collapsed": true
   },
   "outputs": [
    {
     "data": {
      "text/plain": [
       "tensor([-1.3071, -0.5991,  0.0778,  0.1830])"
      ]
     },
     "execution_count": 8,
     "metadata": {},
     "output_type": "execute_result"
    }
   ],
   "source": [
    "x_in=torch.randn(4)\n",
    "x_in"
   ]
  },
  {
   "cell_type": "code",
   "execution_count": 11,
   "metadata": {},
   "outputs": [
    {
     "data": {
      "text/plain": [
       "tensor([[1.0581],\n",
       "        [0.4151],\n",
       "        [0.2630],\n",
       "        [0.3831]])"
      ]
     },
     "execution_count": 11,
     "metadata": {},
     "output_type": "execute_result"
    }
   ],
   "source": [
    "x_other=torch.randn(4,1)\n",
    "x_other"
   ]
  },
  {
   "cell_type": "code",
   "execution_count": 14,
   "metadata": {},
   "outputs": [
    {
     "data": {
      "text/plain": [
       "tensor([[ 9.2737,  9.9817, 10.6587, 10.7639],\n",
       "        [ 2.8434,  3.5514,  4.2284,  4.3336],\n",
       "        [ 1.3233,  2.0313,  2.7082,  2.8134],\n",
       "        [ 2.5241,  3.2320,  3.9090,  4.0142]])"
      ]
     },
     "execution_count": 14,
     "metadata": {},
     "output_type": "execute_result"
    }
   ],
   "source": [
    "val=10\n",
    "x_out=torch.add(x_in,val, x_other)\n",
    "x_out"
   ]
  },
  {
   "cell_type": "code",
   "execution_count": 13,
   "metadata": {},
   "outputs": [
    {
     "ename": "TypeError",
     "evalue": "add() takes 2 positional arguments but 3 were given",
     "output_type": "error",
     "traceback": [
      "\u001b[1;31m---------------------------------------------------------------------------\u001b[0m",
      "\u001b[1;31mTypeError\u001b[0m                                 Traceback (most recent call last)",
      "\u001b[1;32m<ipython-input-13-1c3536ad954f>\u001b[0m in \u001b[0;36m<module>\u001b[1;34m\u001b[0m\n\u001b[1;32m----> 1\u001b[1;33m \u001b[0mx_out\u001b[0m\u001b[1;33m=\u001b[0m\u001b[0mtorch\u001b[0m\u001b[1;33m.\u001b[0m\u001b[0madd\u001b[0m\u001b[1;33m(\u001b[0m\u001b[0mx_in\u001b[0m\u001b[1;33m,\u001b[0m \u001b[0mx_other\u001b[0m\u001b[1;33m,\u001b[0m \u001b[0mval\u001b[0m\u001b[1;33m)\u001b[0m\u001b[1;33m\u001b[0m\u001b[1;33m\u001b[0m\u001b[0m\n\u001b[0m\u001b[0;32m      2\u001b[0m \u001b[0mx_out\u001b[0m\u001b[1;33m\u001b[0m\u001b[1;33m\u001b[0m\u001b[0m\n",
      "\u001b[1;31mTypeError\u001b[0m: add() takes 2 positional arguments but 3 were given"
     ]
    }
   ],
   "source": [
    "x_out=torch.add(x_in, x_other, val)\n",
    "x_out"
   ]
  },
  {
   "cell_type": "code",
   "execution_count": 15,
   "metadata": {},
   "outputs": [
    {
     "data": {
      "text/plain": [
       "tensor([-1.3071, -0.5991,  0.0778,  0.1830])"
      ]
     },
     "execution_count": 15,
     "metadata": {},
     "output_type": "execute_result"
    }
   ],
   "source": [
    "x_in"
   ]
  },
  {
   "cell_type": "code",
   "execution_count": 16,
   "metadata": {},
   "outputs": [
    {
     "data": {
      "text/plain": [
       "tensor([[1.0581],\n",
       "        [0.4151],\n",
       "        [0.2630],\n",
       "        [0.3831]])"
      ]
     },
     "execution_count": 16,
     "metadata": {},
     "output_type": "execute_result"
    }
   ],
   "source": [
    "x_other"
   ]
  },
  {
   "cell_type": "code",
   "execution_count": 17,
   "metadata": {},
   "outputs": [
    {
     "data": {
      "text/plain": [
       "10"
      ]
     },
     "execution_count": 17,
     "metadata": {},
     "output_type": "execute_result"
    }
   ],
   "source": [
    "val"
   ]
  },
  {
   "cell_type": "code",
   "execution_count": 19,
   "metadata": {},
   "outputs": [
    {
     "data": {
      "text/plain": [
       "tensor([[ 9.2737,  9.9817, 10.6587, 10.7639],\n",
       "        [ 2.8434,  3.5514,  4.2284,  4.3336],\n",
       "        [ 1.3233,  2.0313,  2.7082,  2.8134],\n",
       "        [ 2.5241,  3.2320,  3.9090,  4.0142]])"
      ]
     },
     "execution_count": 19,
     "metadata": {},
     "output_type": "execute_result"
    }
   ],
   "source": [
    "torch.add(x_in,val,x_other)"
   ]
  },
  {
   "cell_type": "code",
   "execution_count": 20,
   "metadata": {},
   "outputs": [
    {
     "data": {
      "text/plain": [
       "tensor([[-1.4876,  0.6654, -0.7630]])"
      ]
     },
     "execution_count": 20,
     "metadata": {},
     "output_type": "execute_result"
    }
   ],
   "source": [
    "# AddCDivide\n",
    "'''\n",
    "1.2. torch.addcdiv - out_i= tensor_i + value × [tensor_1]/[tensor_2]\n",
    "    - tensor (Tensor) – the tensor to be added\n",
    "    - value (Number, optional) – multiplier for tensor1./tensor2\n",
    "    - tensor1 (Tensor) – the numerator tensor\n",
    "    - tensor2 (Tensor) – the denominator tensor\n",
    "    - out (Tensor, optional) – the output tensor\n",
    "'''\n",
    "x_in=torch.randn(1,3)\n",
    "x_in"
   ]
  },
  {
   "cell_type": "code",
   "execution_count": 21,
   "metadata": {},
   "outputs": [
    {
     "data": {
      "text/plain": [
       "tensor([[-0.1049],\n",
       "        [ 0.2768],\n",
       "        [-0.0074]])"
      ]
     },
     "execution_count": 21,
     "metadata": {},
     "output_type": "execute_result"
    }
   ],
   "source": [
    "x_1=torch.randn(3,1)\n",
    "x_1"
   ]
  },
  {
   "cell_type": "code",
   "execution_count": 22,
   "metadata": {},
   "outputs": [
    {
     "data": {
      "text/plain": [
       "tensor([[-1.2912, -0.2036,  0.1769]])"
      ]
     },
     "execution_count": 22,
     "metadata": {},
     "output_type": "execute_result"
    }
   ],
   "source": [
    "x_2=torch.randn(1,3)\n",
    "x_2"
   ]
  },
  {
   "cell_type": "code",
   "execution_count": 23,
   "metadata": {},
   "outputs": [
    {
     "data": {
      "text/plain": [
       "tensor([[-1.4795,  0.7170, -0.8223],\n",
       "        [-1.5090,  0.5295, -0.6066],\n",
       "        [-1.4870,  0.6691, -0.7672]])"
      ]
     },
     "execution_count": 23,
     "metadata": {},
     "output_type": "execute_result"
    }
   ],
   "source": [
    "x_out=torch.addcdiv(x_in, 0.1, x_1,x_2)\n",
    "x_out"
   ]
  },
  {
   "cell_type": "code",
   "execution_count": 26,
   "metadata": {},
   "outputs": [
    {
     "data": {
      "text/plain": [
       "tensor([[-1.4795,  0.7170, -0.8223],\n",
       "        [-1.5090,  0.5295, -0.6066],\n",
       "        [-1.4870,  0.6691, -0.7672]])"
      ]
     },
     "execution_count": 26,
     "metadata": {},
     "output_type": "execute_result"
    }
   ],
   "source": [
    "x_in+0.1*(x_1/x_2)"
   ]
  },
  {
   "cell_type": "code",
   "execution_count": 27,
   "metadata": {},
   "outputs": [
    {
     "data": {
      "text/plain": [
       "tensor([[-0.3138, -0.5772,  1.8656]])"
      ]
     },
     "execution_count": 27,
     "metadata": {},
     "output_type": "execute_result"
    }
   ],
   "source": [
    "# AddCMul\n",
    "'''\n",
    "1.3. torch.addcmul - out_i= tensor_i + value × [tensor_1]*[tensor_2]\n",
    "'''\n",
    "x_in=torch.randn(1,3)\n",
    "x_in"
   ]
  },
  {
   "cell_type": "code",
   "execution_count": 28,
   "metadata": {},
   "outputs": [
    {
     "data": {
      "text/plain": [
       "tensor([[ 1.3961, -0.8398,  0.0346]])"
      ]
     },
     "execution_count": 28,
     "metadata": {},
     "output_type": "execute_result"
    }
   ],
   "source": [
    "x_1=torch.randn(1,3)\n",
    "x_1"
   ]
  },
  {
   "cell_type": "code",
   "execution_count": 29,
   "metadata": {},
   "outputs": [
    {
     "data": {
      "text/plain": [
       "tensor([[ 2.1762],\n",
       "        [-0.4850],\n",
       "        [-1.1243]])"
      ]
     },
     "execution_count": 29,
     "metadata": {},
     "output_type": "execute_result"
    }
   ],
   "source": [
    "x_2=torch.randn(3,1)\n",
    "x_2"
   ]
  },
  {
   "cell_type": "code",
   "execution_count": 30,
   "metadata": {},
   "outputs": [
    {
     "data": {
      "text/plain": [
       "tensor([[-0.0100, -0.7599,  1.8731],\n",
       "        [-0.3815, -0.5364,  1.8639],\n",
       "        [-0.4708, -0.4827,  1.8617]])"
      ]
     },
     "execution_count": 30,
     "metadata": {},
     "output_type": "execute_result"
    }
   ],
   "source": [
    "x_out=torch.addcmul(x_in, 0.1, x_1,x_2)\n",
    "x_out"
   ]
  },
  {
   "cell_type": "code",
   "execution_count": 31,
   "metadata": {},
   "outputs": [
    {
     "data": {
      "text/plain": [
       "tensor([[ 1.3961, -0.8398,  0.0346]])"
      ]
     },
     "execution_count": 31,
     "metadata": {},
     "output_type": "execute_result"
    }
   ],
   "source": [
    "x_1"
   ]
  },
  {
   "cell_type": "code",
   "execution_count": 32,
   "metadata": {},
   "outputs": [
    {
     "data": {
      "text/plain": [
       "tensor([[ 2.1762],\n",
       "        [-0.4850],\n",
       "        [-1.1243]])"
      ]
     },
     "execution_count": 32,
     "metadata": {},
     "output_type": "execute_result"
    }
   ],
   "source": [
    "x_2"
   ]
  },
  {
   "cell_type": "code",
   "execution_count": 33,
   "metadata": {},
   "outputs": [
    {
     "data": {
      "text/plain": [
       "tensor([[ 3.0382, -1.8276,  0.0753],\n",
       "        [-0.6771,  0.4073, -0.0168],\n",
       "        [-1.5696,  0.9442, -0.0389]])"
      ]
     },
     "execution_count": 33,
     "metadata": {},
     "output_type": "execute_result"
    }
   ],
   "source": [
    "x_2*x_1"
   ]
  },
  {
   "cell_type": "code",
   "execution_count": 36,
   "metadata": {},
   "outputs": [
    {
     "data": {
      "text/plain": [
       "tensor([[ 3.0382, -1.8276,  0.0753],\n",
       "        [-0.6771,  0.4073, -0.0168],\n",
       "        [-1.5696,  0.9442, -0.0389]])"
      ]
     },
     "execution_count": 36,
     "metadata": {},
     "output_type": "execute_result"
    }
   ],
   "source": [
    "x_1*x_2# dot product"
   ]
  },
  {
   "cell_type": "code",
   "execution_count": 37,
   "metadata": {},
   "outputs": [
    {
     "data": {
      "text/plain": [
       "tensor([[3.4066]])"
      ]
     },
     "execution_count": 37,
     "metadata": {},
     "output_type": "execute_result"
    }
   ],
   "source": [
    "x_1@x_2# matrix multiplication"
   ]
  },
  {
   "cell_type": "code",
   "execution_count": 38,
   "metadata": {},
   "outputs": [
    {
     "data": {
      "text/plain": [
       "tensor([-0.5417, -1.4136, -2.3911,  1.4485])"
      ]
     },
     "execution_count": 38,
     "metadata": {},
     "output_type": "execute_result"
    }
   ],
   "source": [
    "#Div\n",
    "'''\n",
    "1.4 torch.div - Divides each element of the input input with the scalar value and returns a new resulting tensor.\n",
    "'''\n",
    "x_in=torch.randn(4)\n",
    "x_in"
   ]
  },
  {
   "cell_type": "code",
   "execution_count": 39,
   "metadata": {},
   "outputs": [
    {
     "data": {
      "text/plain": [
       "tensor([-0.1354, -0.3534, -0.5978,  0.3621])"
      ]
     },
     "execution_count": 39,
     "metadata": {},
     "output_type": "execute_result"
    }
   ],
   "source": [
    "scaler=4\n",
    "x_out=torch.div(x_in,scaler)\n",
    "x_out"
   ]
  },
  {
   "cell_type": "code",
   "execution_count": 40,
   "metadata": {},
   "outputs": [
    {
     "data": {
      "text/plain": [
       "tensor([-0.8460,  0.4762,  1.5465,  1.8373])"
      ]
     },
     "execution_count": 40,
     "metadata": {},
     "output_type": "execute_result"
    }
   ],
   "source": [
    "x_in=torch.randn(4)\n",
    "x_in"
   ]
  },
  {
   "cell_type": "code",
   "execution_count": 41,
   "metadata": {},
   "outputs": [
    {
     "data": {
      "text/plain": [
       "tensor([-0.9462, -0.4036, -1.7217,  0.1409])"
      ]
     },
     "execution_count": 41,
     "metadata": {},
     "output_type": "execute_result"
    }
   ],
   "source": [
    "x_other=torch.randn(4)\n",
    "x_other"
   ]
  },
  {
   "cell_type": "code",
   "execution_count": 42,
   "metadata": {},
   "outputs": [],
   "source": [
    "val=10"
   ]
  },
  {
   "cell_type": "code",
   "execution_count": 44,
   "metadata": {},
   "outputs": [
    {
     "data": {
      "text/plain": [
       "tensor([ 0.8941, -1.1799, -0.8983, 13.0353])"
      ]
     },
     "execution_count": 44,
     "metadata": {},
     "output_type": "execute_result"
    }
   ],
   "source": [
    "x_out=torch.div(x_in, x_other)\n",
    "x_out"
   ]
  },
  {
   "cell_type": "code",
   "execution_count": 45,
   "metadata": {},
   "outputs": [
    {
     "data": {
      "text/plain": [
       "tensor([-2.6179,  2.5543, -0.5026, -0.3362])"
      ]
     },
     "execution_count": 45,
     "metadata": {},
     "output_type": "execute_result"
    }
   ],
   "source": [
    "# Mul\n",
    "'''\n",
    "1.5 torch.mul - Multiples each element of the input input with the scalar value and returns a new resulting tensor.\n",
    "'''\n",
    "x_in=torch.randn(4)\n",
    "scaler=4\n",
    "x_out=torch.mul(x_in,scaler)\n",
    "x_out"
   ]
  },
  {
   "cell_type": "code",
   "execution_count": 46,
   "metadata": {},
   "outputs": [
    {
     "data": {
      "text/plain": [
       "tensor([ 2.5740, -0.8288,  1.6461, -1.8953, -0.5230])"
      ]
     },
     "execution_count": 46,
     "metadata": {},
     "output_type": "execute_result"
    }
   ],
   "source": [
    "# CEIL\n",
    "'''\n",
    "2.1. torch.ceil - Returns a new tensor with the ceil of the elements of input, \n",
    "    the smallest integer greater than or equal to each element.\n",
    "'''\n",
    "x_in=torch.randn(5)\n",
    "x_in"
   ]
  },
  {
   "cell_type": "code",
   "execution_count": 47,
   "metadata": {},
   "outputs": [
    {
     "data": {
      "text/plain": [
       "tensor([ 3., -0.,  2., -1., -0.])"
      ]
     },
     "execution_count": 47,
     "metadata": {},
     "output_type": "execute_result"
    }
   ],
   "source": [
    "x_out=torch.ceil(x_in)\n",
    "x_out"
   ]
  },
  {
   "cell_type": "code",
   "execution_count": 48,
   "metadata": {},
   "outputs": [
    {
     "data": {
      "text/plain": [
       "tensor([-1.5046,  1.1580, -1.2041,  0.9910, -1.2664,  0.8861,  0.3264, -0.3836])"
      ]
     },
     "execution_count": 48,
     "metadata": {},
     "output_type": "execute_result"
    }
   ],
   "source": [
    "#CLAMP\n",
    "'''\n",
    "2.2. torch.clamp - Clamp all elements in input into the range [ min, max ] and return a resulting tensor\n",
    "        - input (Tensor) – the input tensor\n",
    "        - min (Number) – lower-bound of the range to be clamped to\n",
    "        - max (Number) – upper-bound of the range to be clamped to\n",
    "        - out (Tensor, optional) – the output tensor\n",
    "'''\n",
    "x_in=torch.randn(8)\n",
    "x_in"
   ]
  },
  {
   "cell_type": "code",
   "execution_count": 49,
   "metadata": {},
   "outputs": [
    {
     "data": {
      "text/plain": [
       "tensor([-0.5000,  0.5000, -0.5000,  0.5000, -0.5000,  0.5000,  0.3264, -0.3836])"
      ]
     },
     "execution_count": 49,
     "metadata": {},
     "output_type": "execute_result"
    }
   ],
   "source": [
    "x_out=torch.clamp(x_in, min=-0.5, max=0.5)\n",
    "x_out"
   ]
  },
  {
   "cell_type": "code",
   "execution_count": 50,
   "metadata": {},
   "outputs": [
    {
     "data": {
      "text/plain": [
       "tensor([[ 0.2884,  0.4322],\n",
       "        [-0.5761,  0.1894],\n",
       "        [ 0.3716,  0.3805],\n",
       "        [ 1.3771, -0.2426],\n",
       "        [ 1.8854, -0.6692],\n",
       "        [-0.8141, -0.6669],\n",
       "        [ 0.0328, -0.0754],\n",
       "        [ 0.7670,  0.2208]])"
      ]
     },
     "execution_count": 50,
     "metadata": {},
     "output_type": "execute_result"
    }
   ],
   "source": [
    "x_in=torch.randn(8,2)\n",
    "x_in"
   ]
  },
  {
   "cell_type": "code",
   "execution_count": 52,
   "metadata": {},
   "outputs": [
    {
     "data": {
      "text/plain": [
       "tensor([[ 0.2884,  0.4322],\n",
       "        [-0.5000,  0.1894],\n",
       "        [ 0.3716,  0.3805],\n",
       "        [ 0.5000, -0.2426],\n",
       "        [ 0.5000, -0.5000],\n",
       "        [-0.5000, -0.5000],\n",
       "        [ 0.0328, -0.0754],\n",
       "        [ 0.5000,  0.2208]])"
      ]
     },
     "execution_count": 52,
     "metadata": {},
     "output_type": "execute_result"
    }
   ],
   "source": [
    "x_out=torch.clamp(x_in,min=-0.5,max=0.5)\n",
    "x_out"
   ]
  },
  {
   "cell_type": "code",
   "execution_count": 59,
   "metadata": {},
   "outputs": [
    {
     "data": {
      "text/plain": [
       "tensor([-1.0000, -0.7778, -0.5556, -0.3333, -0.1111,  0.1111,  0.3333,  0.5556,\n",
       "         0.7778,  1.0000])"
      ]
     },
     "execution_count": 59,
     "metadata": {},
     "output_type": "execute_result"
    }
   ],
   "source": [
    "min1=torch.linspace(-1,1,steps=10)\n",
    "min1"
   ]
  },
  {
   "cell_type": "code",
   "execution_count": 58,
   "metadata": {},
   "outputs": [
    {
     "data": {
      "text/plain": [
       "tensor([[ 0.2884,  1.0000],\n",
       "        [-0.5761,  1.0000],\n",
       "        [ 0.3716,  1.0000],\n",
       "        [ 1.3771,  1.0000],\n",
       "        [ 1.8854,  1.0000],\n",
       "        [-0.8141,  1.0000],\n",
       "        [ 0.0328,  1.0000],\n",
       "        [ 0.7670,  1.0000]])"
      ]
     },
     "execution_count": 58,
     "metadata": {},
     "output_type": "execute_result"
    }
   ],
   "source": [
    "x_out=torch.clamp(x_in, min=min1)\n",
    "x_out"
   ]
  },
  {
   "cell_type": "code",
   "execution_count": 60,
   "metadata": {},
   "outputs": [
    {
     "data": {
      "text/plain": [
       "tensor([ 0.1546, -0.6641,  1.2238,  2.0900])"
      ]
     },
     "execution_count": 60,
     "metadata": {},
     "output_type": "execute_result"
    }
   ],
   "source": [
    "#FLOOR\n",
    "'''\n",
    "2.3. torch.floor - Returns a new tensor with the floor of the elements of input, \n",
    "        the largest integer less than or equal to each element.\n",
    "'''\n",
    "x_in=torch.randn(4)\n",
    "x_in"
   ]
  },
  {
   "cell_type": "code",
   "execution_count": 61,
   "metadata": {},
   "outputs": [
    {
     "data": {
      "text/plain": [
       "tensor([ 0., -1.,  1.,  2.])"
      ]
     },
     "execution_count": 61,
     "metadata": {},
     "output_type": "execute_result"
    }
   ],
   "source": [
    "x_out=torch.floor(x_in)\n",
    "x_out"
   ]
  },
  {
   "cell_type": "code",
   "execution_count": 62,
   "metadata": {},
   "outputs": [
    {
     "name": "stdout",
     "output_type": "stream",
     "text": [
      "tensor([-1.4905, -0.7229,  0.1941, -0.2170])\n"
     ]
    },
    {
     "data": {
      "text/plain": [
       "tensor([-1., -1.,  0., -0.])"
      ]
     },
     "execution_count": 62,
     "metadata": {},
     "output_type": "execute_result"
    }
   ],
   "source": [
    "# Round\n",
    "'''\n",
    "2.4. torch.round - Returns a new tensor with each of the elements of input rounded to the closest integer.\n",
    "'''\n",
    "x_in=torch.randn(4)\n",
    "print(x_in)\n",
    "x_out=torch.round(x_in)\n",
    "x_out"
   ]
  },
  {
   "cell_type": "code",
   "execution_count": 63,
   "metadata": {},
   "outputs": [
    {
     "data": {
      "text/plain": [
       "tensor([ 1.3124, -1.3386, -0.7836, -0.8634])"
      ]
     },
     "execution_count": 63,
     "metadata": {},
     "output_type": "execute_result"
    }
   ],
   "source": [
    "#Truncating\n",
    "x_in=torch.randn(4)\n",
    "x_in"
   ]
  },
  {
   "cell_type": "code",
   "execution_count": 65,
   "metadata": {},
   "outputs": [
    {
     "data": {
      "text/plain": [
       "tensor([ 1., -1., -0., -0.])"
      ]
     },
     "execution_count": 65,
     "metadata": {},
     "output_type": "execute_result"
    }
   ],
   "source": [
    "x_out=torch.trunc(x_in)\n",
    "x_out"
   ]
  },
  {
   "cell_type": "code",
   "execution_count": 66,
   "metadata": {},
   "outputs": [
    {
     "data": {
      "text/plain": [
       "tensor([-0.6707,  0.0523, -0.0293, -1.1485, -0.8968])"
      ]
     },
     "execution_count": 66,
     "metadata": {},
     "output_type": "execute_result"
    }
   ],
   "source": [
    "#Argmax\n",
    "x_in=torch.randn(5)\n",
    "x_in"
   ]
  },
  {
   "cell_type": "code",
   "execution_count": 67,
   "metadata": {},
   "outputs": [
    {
     "data": {
      "text/plain": [
       "tensor(1)"
      ]
     },
     "execution_count": 67,
     "metadata": {},
     "output_type": "execute_result"
    }
   ],
   "source": [
    "x_out=torch.argmax(x_in)\n",
    "x_out"
   ]
  },
  {
   "cell_type": "code",
   "execution_count": 68,
   "metadata": {},
   "outputs": [
    {
     "data": {
      "text/plain": [
       "tensor([ 0.0238, -1.0564,  0.2107,  0.8722, -0.1272,  0.0229,  1.0044,  0.4553])"
      ]
     },
     "execution_count": 68,
     "metadata": {},
     "output_type": "execute_result"
    }
   ],
   "source": [
    "#Argmin\n",
    "x_in=torch.randn(8)\n",
    "x_in"
   ]
  },
  {
   "cell_type": "code",
   "execution_count": 69,
   "metadata": {},
   "outputs": [
    {
     "data": {
      "text/plain": [
       "tensor(1)"
      ]
     },
     "execution_count": 69,
     "metadata": {},
     "output_type": "execute_result"
    }
   ],
   "source": [
    "x_out=torch.argmin(x_in)\n",
    "x_out"
   ]
  },
  {
   "cell_type": "code",
   "execution_count": 70,
   "metadata": {},
   "outputs": [
    {
     "data": {
      "text/plain": [
       "tensor([[ 1.7744,  1.8698, -0.5797, -0.0328],\n",
       "        [ 1.1152, -0.0270, -1.6175,  0.5801],\n",
       "        [ 0.7528,  0.1008, -0.0489, -0.7621],\n",
       "        [-1.5500, -1.9371, -1.8206, -0.2238]])"
      ]
     },
     "execution_count": 70,
     "metadata": {},
     "output_type": "execute_result"
    }
   ],
   "source": [
    "a=torch.randn(4,4)\n",
    "a"
   ]
  },
  {
   "cell_type": "code",
   "execution_count": 71,
   "metadata": {},
   "outputs": [
    {
     "data": {
      "text/plain": [
       "tensor([1, 0, 0, 3])"
      ]
     },
     "execution_count": 71,
     "metadata": {},
     "output_type": "execute_result"
    }
   ],
   "source": [
    "out=torch.argmax(a, dim=1)\n",
    "out"
   ]
  },
  {
   "cell_type": "code",
   "execution_count": 72,
   "metadata": {},
   "outputs": [
    {
     "data": {
      "text/plain": [
       "tensor([2, 2, 3, 1])"
      ]
     },
     "execution_count": 72,
     "metadata": {},
     "output_type": "execute_result"
    }
   ],
   "source": [
    "out1=torch.argmin(a,dim=1)\n",
    "out1"
   ]
  },
  {
   "cell_type": "code",
   "execution_count": 73,
   "metadata": {},
   "outputs": [
    {
     "data": {
      "text/plain": [
       "tensor([3, 3, 3, 2])"
      ]
     },
     "execution_count": 73,
     "metadata": {},
     "output_type": "execute_result"
    }
   ],
   "source": [
    "out1=torch.argmin(a,dim=0)\n",
    "out1"
   ]
  },
  {
   "cell_type": "code",
   "execution_count": 4,
   "metadata": {},
   "outputs": [
    {
     "data": {
      "text/plain": [
       "tensor([-0.2105,  2.2926,  1.1594,  0.0409,  0.0381, -0.6679])"
      ]
     },
     "execution_count": 4,
     "metadata": {},
     "output_type": "execute_result"
    }
   ],
   "source": [
    "a=torch.randn(6)\n",
    "a"
   ]
  },
  {
   "cell_type": "code",
   "execution_count": 5,
   "metadata": {},
   "outputs": [
    {
     "name": "stdout",
     "output_type": "stream",
     "text": [
      "tensor([0.5000, 0.9000, 0.9000, 0.5000, 0.5000, 0.5000])\n"
     ]
    }
   ],
   "source": [
    "out=torch.clamp(a,min=0.5, max=0.9)\n",
    "print(out)"
   ]
  },
  {
   "cell_type": "code",
   "execution_count": 6,
   "metadata": {},
   "outputs": [
    {
     "data": {
      "text/plain": [
       "tensor([ 1.,  4.,  6.,  8., 10., 14.])"
      ]
     },
     "execution_count": 6,
     "metadata": {},
     "output_type": "execute_result"
    }
   ],
   "source": [
    "a=torch.FloatTensor([1,4,6,8,10,14])\n",
    "a"
   ]
  },
  {
   "cell_type": "code",
   "execution_count": 7,
   "metadata": {},
   "outputs": [
    {
     "name": "stdout",
     "output_type": "stream",
     "text": [
      "tensor([ 5.,  5.,  6.,  8., 10., 10.])\n"
     ]
    }
   ],
   "source": [
    "out=torch.clamp(a, min=5,max=10)\n",
    "print(out)"
   ]
  },
  {
   "cell_type": "code",
   "execution_count": 8,
   "metadata": {},
   "outputs": [
    {
     "name": "stdout",
     "output_type": "stream",
     "text": [
      "tensor([[9],\n",
      "        [4],\n",
      "        [0],\n",
      "        [6],\n",
      "        [5],\n",
      "        [0],\n",
      "        [2],\n",
      "        [1],\n",
      "        [9],\n",
      "        [4]])\n"
     ]
    }
   ],
   "source": [
    "a=torch.randint(low=0, high=10, size=(10,1))\n",
    "print(a)"
   ]
  },
  {
   "cell_type": "code",
   "execution_count": 9,
   "metadata": {},
   "outputs": [
    {
     "data": {
      "text/plain": [
       "tensor([[9],\n",
       "        [4],\n",
       "        [3],\n",
       "        [6],\n",
       "        [5],\n",
       "        [3],\n",
       "        [3],\n",
       "        [3],\n",
       "        [9],\n",
       "        [4]])"
      ]
     },
     "execution_count": 9,
     "metadata": {},
     "output_type": "execute_result"
    }
   ],
   "source": [
    "a=torch.clamp(a, 3,9)\n",
    "a"
   ]
  },
  {
   "cell_type": "code",
   "execution_count": 11,
   "metadata": {},
   "outputs": [
    {
     "data": {
      "text/plain": [
       "tensor(3.)"
      ]
     },
     "execution_count": 11,
     "metadata": {},
     "output_type": "execute_result"
    }
   ],
   "source": [
    "#Compute mean\n",
    "'''\n",
    "4.3. torch.mean - Returns the mean value of all elements in the input tensor.\n",
    "'''\n",
    "x_in=torch.tensor([1.,2.,3.,4.,5.])\n",
    "x_out=torch.mean(x_in)\n",
    "x_out"
   ]
  },
  {
   "cell_type": "code",
   "execution_count": 14,
   "metadata": {},
   "outputs": [
    {
     "name": "stdout",
     "output_type": "stream",
     "text": [
      "tensor(2.)\n"
     ]
    }
   ],
   "source": [
    "# Computer median\n",
    "x_in=torch.tensor([1.,2.,3.,4.,5.,1.])\n",
    "x_out=torch.median(x_in)\n",
    "print(x_out)"
   ]
  },
  {
   "cell_type": "code",
   "execution_count": null,
   "metadata": {},
   "outputs": [],
   "source": []
  }
 ],
 "metadata": {
  "kernelspec": {
   "display_name": "Python 3",
   "language": "python",
   "name": "python3"
  },
  "language_info": {
   "codemirror_mode": {
    "name": "ipython",
    "version": 3
   },
   "file_extension": ".py",
   "mimetype": "text/x-python",
   "name": "python",
   "nbconvert_exporter": "python",
   "pygments_lexer": "ipython3",
   "version": "3.8.5"
  }
 },
 "nbformat": 4,
 "nbformat_minor": 4
}
