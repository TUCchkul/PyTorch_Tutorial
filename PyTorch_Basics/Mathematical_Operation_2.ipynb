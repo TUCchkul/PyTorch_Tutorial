{
 "cells": [
  {
   "cell_type": "code",
   "execution_count": 1,
   "metadata": {},
   "outputs": [],
   "source": [
    "import os\n",
    "import sys\n",
    "import torch\n",
    "import numpy as np"
   ]
  },
  {
   "cell_type": "code",
   "execution_count": 5,
   "metadata": {},
   "outputs": [
    {
     "name": "stdout",
     "output_type": "stream",
     "text": [
      "Way - 1\n",
      "x_in =  tensor([ 0.7376,  0.1039, -0.5643,  0.0250])\n",
      "x_out =  tensor([30.7376, 30.1039, 29.4357, 30.0250])\n",
      "Way - 2\n",
      "x_in =  tensor([-0.3152,  0.5241,  0.0039, -0.4869])\n",
      "x_other tensor([-0.6458,  0.1003,  0.8961, -0.1272])\n",
      "x_out =  tensor([-6.7736,  1.5268,  8.9653, -1.7593])\n"
     ]
    }
   ],
   "source": [
    "#Add\n",
    "\"\"\"\n",
    "1.1 torch.add - Adds the scalar value to each element of the input input and returns a new resulting tensor.\n",
    "\"\"\"\n",
    "x_in=torch.randn(4)\n",
    "scaler=30\n",
    "x_out=torch.add(x_in, scaler)\n",
    "print(\"Way - 1\")\n",
    "print(\"x_in = \", x_in)\n",
    "print(\"x_out = \", x_out)\n",
    "\n",
    "'''\n",
    "1.2. torch.add - Each element of the tensor other is multiplied by the scalar value and added to each element \n",
    "    of the tensor input. The resulting tensor is returned.\n",
    "    out=input+value×other\n",
    "        - input (Tensor) – the first input tensor\n",
    "        - value (Number) – the scalar multiplier for other\n",
    "        - other (Tensor) – the second input tensor\n",
    "    \n",
    "'''\n",
    "x_in=torch.randn(4)\n",
    "x_other=torch.randn(4)\n",
    "value=10\n",
    "x_out=torch.add(x_in, value, x_other)\n",
    "print(\"Way - 2\")\n",
    "print(\"x_in = \", x_in)\n",
    "print(\"x_other\", x_other)\n",
    "print(\"x_out = \", x_out)"
   ]
  },
  {
   "cell_type": "code",
   "execution_count": 8,
   "metadata": {},
   "outputs": [
    {
     "data": {
      "text/plain": [
       "tensor([[-1.9441,  0.1587, -1.1047]])"
      ]
     },
     "execution_count": 8,
     "metadata": {},
     "output_type": "execute_result"
    }
   ],
   "source": [
    "# AddCDivide\n",
    "\n",
    "'''\n",
    "1.2. torch.addcdiv - out_i= tensor_i + value × [tensor_1]/[tensor_2]\n",
    "    - tensor (Tensor) – the tensor to be added\n",
    "    - value (Number, optional) – multiplier for tensor1./tensor2\n",
    "    - tensor1 (Tensor) – the numerator tensor\n",
    "    - tensor2 (Tensor) – the denominator tensor\n",
    "    - out (Tensor, optional) – the output tensor\n",
    "'''\n",
    "x_in=torch.randn(1,3)\n",
    "x_in"
   ]
  },
  {
   "cell_type": "code",
   "execution_count": 9,
   "metadata": {},
   "outputs": [
    {
     "data": {
      "text/plain": [
       "tensor([[-0.5574],\n",
       "        [-0.3031],\n",
       "        [ 0.3834]])"
      ]
     },
     "execution_count": 9,
     "metadata": {},
     "output_type": "execute_result"
    }
   ],
   "source": [
    "x_1=torch.randn(3,1)\n",
    "x_1"
   ]
  },
  {
   "cell_type": "code",
   "execution_count": 10,
   "metadata": {},
   "outputs": [
    {
     "data": {
      "text/plain": [
       "tensor([[-0.9731, -1.5762, -0.3499]])"
      ]
     },
     "execution_count": 10,
     "metadata": {},
     "output_type": "execute_result"
    }
   ],
   "source": [
    "x_2=torch.randn(1,3)\n",
    "x_2"
   ]
  },
  {
   "cell_type": "code",
   "execution_count": 13,
   "metadata": {},
   "outputs": [
    {
     "data": {
      "text/plain": [
       "tensor([[ 0.5728,  0.3537,  1.5932],\n",
       "        [ 0.3115,  0.1923,  0.8662],\n",
       "        [-0.3940, -0.2432, -1.0957]])"
      ]
     },
     "execution_count": 13,
     "metadata": {},
     "output_type": "execute_result"
    }
   ],
   "source": [
    "x=x_1/x_2\n",
    "x"
   ]
  },
  {
   "cell_type": "code",
   "execution_count": 14,
   "metadata": {},
   "outputs": [
    {
     "data": {
      "text/plain": [
       "tensor([[ 0.0573,  0.0354,  0.1593],\n",
       "        [ 0.0311,  0.0192,  0.0866],\n",
       "        [-0.0394, -0.0243, -0.1096]])"
      ]
     },
     "execution_count": 14,
     "metadata": {},
     "output_type": "execute_result"
    }
   ],
   "source": [
    "0.1*x"
   ]
  },
  {
   "cell_type": "code",
   "execution_count": 15,
   "metadata": {},
   "outputs": [
    {
     "name": "stdout",
     "output_type": "stream",
     "text": [
      "tensor([[-1.8868,  0.1941, -0.9454],\n",
      "        [-1.9130,  0.1779, -1.0181],\n",
      "        [-1.9835,  0.1344, -1.2143]])\n"
     ]
    }
   ],
   "source": [
    "x_out=torch.addcdiv(x_in, 0.1,x_1,x_2)\n",
    "print(x_out)"
   ]
  },
  {
   "cell_type": "code",
   "execution_count": null,
   "metadata": {},
   "outputs": [],
   "source": [
    "# # AddCMul\n",
    "\n",
    "'''\n",
    "1.3. torch.addcmul - out_i= tensor_i + value × [tensor_1]*[tensor_2]\n",
    "'''\n"
   ]
  }
 ],
 "metadata": {
  "kernelspec": {
   "display_name": "Python 3",
   "language": "python",
   "name": "python3"
  },
  "language_info": {
   "codemirror_mode": {
    "name": "ipython",
    "version": 3
   },
   "file_extension": ".py",
   "mimetype": "text/x-python",
   "name": "python",
   "nbconvert_exporter": "python",
   "pygments_lexer": "ipython3",
   "version": "3.8.5"
  }
 },
 "nbformat": 4,
 "nbformat_minor": 4
}
