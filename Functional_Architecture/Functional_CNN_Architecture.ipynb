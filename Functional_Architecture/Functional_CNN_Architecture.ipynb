{
 "cells": [
  {
   "cell_type": "code",
   "execution_count": 1,
   "id": "9b877b83",
   "metadata": {},
   "outputs": [],
   "source": [
    "import tensorflow as tf"
   ]
  },
  {
   "cell_type": "code",
   "execution_count": 2,
   "id": "be811702",
   "metadata": {},
   "outputs": [],
   "source": [
    "input_=tf.keras.layers.Input(shape=8)\n",
    "hidden_1=tf.keras.layers.Dense(30,name=\"hidden_1\",activation=\"relu\")(input_)\n",
    "hidden_2=tf.keras.layers.Dense(30,name=\"hidden_2\", activation=\"relu\")(hidden_1)\n",
    "concat=tf.keras.layers.Concatenate()([input_, hidden_2])\n",
    "output=tf.keras.layers.Dense(1)(concat)\n",
    "model=tf.keras.Model(inputs=[input_], outputs=[output])"
   ]
  },
  {
   "cell_type": "code",
   "execution_count": 3,
   "id": "b293398f",
   "metadata": {},
   "outputs": [
    {
     "name": "stdout",
     "output_type": "stream",
     "text": [
      "Model: \"model\"\n",
      "__________________________________________________________________________________________________\n",
      " Layer (type)                   Output Shape         Param #     Connected to                     \n",
      "==================================================================================================\n",
      " input_1 (InputLayer)           [(None, 8)]          0           []                               \n",
      "                                                                                                  \n",
      " hidden_1 (Dense)               (None, 30)           270         ['input_1[0][0]']                \n",
      "                                                                                                  \n",
      " hidden_2 (Dense)               (None, 30)           930         ['hidden_1[0][0]']               \n",
      "                                                                                                  \n",
      " concatenate (Concatenate)      (None, 38)           0           ['input_1[0][0]',                \n",
      "                                                                  'hidden_2[0][0]']               \n",
      "                                                                                                  \n",
      " dense (Dense)                  (None, 1)            39          ['concatenate[0][0]']            \n",
      "                                                                                                  \n",
      "==================================================================================================\n",
      "Total params: 1,239\n",
      "Trainable params: 1,239\n",
      "Non-trainable params: 0\n",
      "__________________________________________________________________________________________________\n"
     ]
    }
   ],
   "source": [
    "model.summary()"
   ]
  },
  {
   "cell_type": "markdown",
   "id": "a7ca0f2f",
   "metadata": {},
   "source": [
    "# Making Sequential Architecture using Functional Approach"
   ]
  },
  {
   "cell_type": "code",
   "execution_count": 4,
   "id": "db96ba13",
   "metadata": {},
   "outputs": [
    {
     "name": "stdout",
     "output_type": "stream",
     "text": [
      "Model: \"model_1\"\n",
      "_________________________________________________________________\n",
      " Layer (type)                Output Shape              Param #   \n",
      "=================================================================\n",
      " input_2 (InputLayer)        [(None, 8)]               0         \n",
      "                                                                 \n",
      " hidden_1 (Dense)            (None, 30)                270       \n",
      "                                                                 \n",
      " hidden_2 (Dense)            (None, 30)                930       \n",
      "                                                                 \n",
      " dense_1 (Dense)             (None, 1)                 31        \n",
      "                                                                 \n",
      "=================================================================\n",
      "Total params: 1,231\n",
      "Trainable params: 1,231\n",
      "Non-trainable params: 0\n",
      "_________________________________________________________________\n"
     ]
    }
   ],
   "source": [
    "input_=tf.keras.layers.Input(shape=8)\n",
    "hidden_1=tf.keras.layers.Dense(30,name=\"hidden_1\",activation=\"relu\")(input_)\n",
    "hidden_2=tf.keras.layers.Dense(30,name=\"hidden_2\", activation=\"relu\")(hidden_1)\n",
    "#concat=tf.keras.layers.Concatenate()([input_, hidden_2])\n",
    "output=tf.keras.layers.Dense(1)(hidden_2)\n",
    "model_2_seq_model_using_functional=tf.keras.Model(inputs=[input_], outputs=[output])\n",
    "model_2_seq_model_using_functional.summary()"
   ]
  },
  {
   "cell_type": "code",
   "execution_count": null,
   "id": "1d23599a",
   "metadata": {},
   "outputs": [],
   "source": []
  }
 ],
 "metadata": {
  "kernelspec": {
   "display_name": "Python 3 (ipykernel)",
   "language": "python",
   "name": "python3"
  },
  "language_info": {
   "codemirror_mode": {
    "name": "ipython",
    "version": 3
   },
   "file_extension": ".py",
   "mimetype": "text/x-python",
   "name": "python",
   "nbconvert_exporter": "python",
   "pygments_lexer": "ipython3",
   "version": "3.7.13"
  }
 },
 "nbformat": 4,
 "nbformat_minor": 5
}
