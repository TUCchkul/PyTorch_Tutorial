{
 "cells": [
  {
   "cell_type": "code",
   "execution_count": 1,
   "id": "b91be293",
   "metadata": {},
   "outputs": [],
   "source": [
    "import tensorflow as tf"
   ]
  },
  {
   "cell_type": "code",
   "execution_count": 2,
   "id": "08d5d94e",
   "metadata": {},
   "outputs": [],
   "source": [
    "input_=tf.keras.layers.Input(shape=8)\n",
    "hidden_1=tf.keras.layers.Dense(30,name=\"hidden_1\",activation=\"relu\")(input_)\n",
    "hidden_2=tf.keras.layers.Dense(30,name=\"hidden_2\", activation=\"relu\")(hidden_1)\n",
    "concat=tf.keras.layers.Concatenate()([input_, hidden_2])\n",
    "output=tf.keras.layers.Dense(1)(concat)\n",
    "model=tf.keras.Model(inputs=[input_], outputs=[output])"
   ]
  },
  {
   "cell_type": "code",
   "execution_count": 3,
   "id": "ffe38124",
   "metadata": {},
   "outputs": [
    {
     "name": "stdout",
     "output_type": "stream",
     "text": [
      "Model: \"model\"\n",
      "__________________________________________________________________________________________________\n",
      " Layer (type)                   Output Shape         Param #     Connected to                     \n",
      "==================================================================================================\n",
      " input_1 (InputLayer)           [(None, 8)]          0           []                               \n",
      "                                                                                                  \n",
      " hidden_1 (Dense)               (None, 30)           270         ['input_1[0][0]']                \n",
      "                                                                                                  \n",
      " hidden_2 (Dense)               (None, 30)           930         ['hidden_1[0][0]']               \n",
      "                                                                                                  \n",
      " concatenate (Concatenate)      (None, 38)           0           ['input_1[0][0]',                \n",
      "                                                                  'hidden_2[0][0]']               \n",
      "                                                                                                  \n",
      " dense (Dense)                  (None, 1)            39          ['concatenate[0][0]']            \n",
      "                                                                                                  \n",
      "==================================================================================================\n",
      "Total params: 1,239\n",
      "Trainable params: 1,239\n",
      "Non-trainable params: 0\n",
      "__________________________________________________________________________________________________\n"
     ]
    }
   ],
   "source": [
    "model.summary()"
   ]
  },
  {
   "cell_type": "markdown",
   "id": "ab8b48e1",
   "metadata": {},
   "source": [
    "# Making Sequential Architecture using Functional Approach"
   ]
  },
  {
   "cell_type": "code",
   "execution_count": null,
   "id": "b312d425",
   "metadata": {},
   "outputs": [],
   "source": [
    "input_=tf.keras.layers.Input(shape=8)\n",
    "hidden_1=tf.keras.layers.Dense(30,name=\"hidden_1\",activation=\"relu\")(input_)\n",
    "hidden_2=tf.keras.layers.Dense(30,name=\"hidden_2\", activation=\"relu\")(hidden_1)\n",
    "#concat=tf.keras.layers.Concatenate()([input_, hidden_2])\n",
    "output=tf.keras.layers.Dense(1)(hidden_2)\n",
    "model_2_seq_model_using_functional=tf.keras.Model(inputs=[input_], outputs=[output])\n",
    "model_2_seq_model_using_functional.summary()"
   ]
  }
 ],
 "metadata": {
  "kernelspec": {
   "display_name": "Python 3 (ipykernel)",
   "language": "python",
   "name": "python3"
  },
  "language_info": {
   "codemirror_mode": {
    "name": "ipython",
    "version": 3
   },
   "file_extension": ".py",
   "mimetype": "text/x-python",
   "name": "python",
   "nbconvert_exporter": "python",
   "pygments_lexer": "ipython3",
   "version": "3.7.13"
  }
 },
 "nbformat": 4,
 "nbformat_minor": 5
}
