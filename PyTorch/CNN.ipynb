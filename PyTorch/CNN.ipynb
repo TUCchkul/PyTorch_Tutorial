{
 "cells": [
  {
   "cell_type": "code",
   "execution_count": 81,
   "metadata": {},
   "outputs": [],
   "source": [
    "import os\n",
    "import numpy as np\n",
    "import matplotlib.pyplot as plt\n",
    "import seaborn as sns\n",
    "import torch\n",
    "import torch.nn as nn\n",
    "from torch.utils.data import DataLoader\n",
    "from torchvision import transforms, datasets\n",
    "import torch.nn.functional as F\n",
    "from sklearn.metrics import confusion_matrix\n",
    "from tqdm import tqdm\n",
    "import pandas as pd"
   ]
  },
  {
   "cell_type": "code",
   "execution_count": 82,
   "metadata": {},
   "outputs": [
    {
     "name": "stdout",
     "output_type": "stream",
     "text": [
      "This notebook is using the device: cpu\n"
     ]
    }
   ],
   "source": [
    "class Config:\n",
    "    def __init__(self):\n",
    "        self.ROOT_DATA_DIR=\"FashionMNIST\"\n",
    "        self.EPOCH=100\n",
    "        self.BATCH_SIZE=32\n",
    "        self.LEARNING_RATE=0.001\n",
    "        self.IMAGE_SIZE=(28,28)\n",
    "        self.DEVICE=\"cuda\" if torch.cuda.is_available() else \"cpu\"\n",
    "        print(f\"This notebook is using the device: {self.DEVICE}\")\n",
    "        self.SEED=2022\n",
    "config=Config()"
   ]
  },
  {
   "cell_type": "code",
   "execution_count": 83,
   "metadata": {},
   "outputs": [],
   "source": [
    "# Donload the datasets\n",
    "train_data=datasets.FashionMNIST(\n",
    "    root=config.ROOT_DATA_DIR,\n",
    "    train=True,\n",
    "    download=True,\n",
    "    transform=transforms.ToTensor()\n",
    ")\n",
    "test_data=datasets.FashionMNIST(\n",
    "    root=config.ROOT_DATA_DIR,\n",
    "    train=False,\n",
    "    download=True,\n",
    "    transform=transforms.ToTensor()\n",
    ")"
   ]
  },
  {
   "cell_type": "code",
   "execution_count": 84,
   "metadata": {},
   "outputs": [
    {
     "data": {
      "text/plain": [
       "torch.Size([60000, 28, 28])"
      ]
     },
     "execution_count": 84,
     "metadata": {},
     "output_type": "execute_result"
    }
   ],
   "source": [
    "train_data.data.shape"
   ]
  },
  {
   "cell_type": "code",
   "execution_count": 85,
   "metadata": {},
   "outputs": [
    {
     "data": {
      "text/plain": [
       "torch.Size([10000, 28, 28])"
      ]
     },
     "execution_count": 85,
     "metadata": {},
     "output_type": "execute_result"
    }
   ],
   "source": [
    "test_data.data.shape"
   ]
  },
  {
   "cell_type": "code",
   "execution_count": 86,
   "metadata": {},
   "outputs": [
    {
     "data": {
      "text/plain": [
       "{'T-shirt/top': 0,\n",
       " 'Trouser': 1,\n",
       " 'Pullover': 2,\n",
       " 'Dress': 3,\n",
       " 'Coat': 4,\n",
       " 'Sandal': 5,\n",
       " 'Shirt': 6,\n",
       " 'Sneaker': 7,\n",
       " 'Bag': 8,\n",
       " 'Ankle boot': 9}"
      ]
     },
     "execution_count": 86,
     "metadata": {},
     "output_type": "execute_result"
    }
   ],
   "source": [
    "train_data.class_to_idx"
   ]
  },
  {
   "cell_type": "code",
   "execution_count": 87,
   "metadata": {},
   "outputs": [
    {
     "data": {
      "text/plain": [
       "tensor([9, 0, 0,  ..., 3, 0, 5])"
      ]
     },
     "execution_count": 87,
     "metadata": {},
     "output_type": "execute_result"
    }
   ],
   "source": [
    "train_data.targets"
   ]
  },
  {
   "cell_type": "code",
   "execution_count": 88,
   "metadata": {},
   "outputs": [
    {
     "data": {
      "text/plain": [
       "{'T-shirt/top': 0,\n",
       " 'Trouser': 1,\n",
       " 'Pullover': 2,\n",
       " 'Dress': 3,\n",
       " 'Coat': 4,\n",
       " 'Sandal': 5,\n",
       " 'Shirt': 6,\n",
       " 'Sneaker': 7,\n",
       " 'Bag': 8,\n",
       " 'Ankle boot': 9}"
      ]
     },
     "execution_count": 88,
     "metadata": {},
     "output_type": "execute_result"
    }
   ],
   "source": [
    "given_label_map=train_data.class_to_idx\n",
    "given_label_map"
   ]
  },
  {
   "cell_type": "code",
   "execution_count": 89,
   "metadata": {},
   "outputs": [
    {
     "data": {
      "text/plain": [
       "{0: 'T-shirt/top',\n",
       " 1: 'Trouser',\n",
       " 2: 'Pullover',\n",
       " 3: 'Dress',\n",
       " 4: 'Coat',\n",
       " 5: 'Sandal',\n",
       " 6: 'Shirt',\n",
       " 7: 'Sneaker',\n",
       " 8: 'Bag',\n",
       " 9: 'Ankle boot'}"
      ]
     },
     "execution_count": 89,
     "metadata": {},
     "output_type": "execute_result"
    }
   ],
   "source": [
    "label_map={val:key for key,val in given_label_map.items()}\n",
    "label_map"
   ]
  },
  {
   "cell_type": "code",
   "execution_count": 90,
   "metadata": {},
   "outputs": [
    {
     "data": {
      "text/plain": [
       "2"
      ]
     },
     "execution_count": 90,
     "metadata": {},
     "output_type": "execute_result"
    }
   ],
   "source": [
    "train_data.targets[7].item()"
   ]
  },
  {
   "cell_type": "code",
   "execution_count": 91,
   "metadata": {},
   "outputs": [
    {
     "data": {
      "image/png": "[encoded data removed]",
      "text/plain": [
       "<Figure size 432x288 with 1 Axes>"
      ]
     },
     "metadata": {
      "needs_background": "light"
     },
     "output_type": "display_data"
    }
   ],
   "source": [
    "# Visualize one of the samples\n",
    "def view_sample_img(data, idx, label_map):\n",
    "    idx=1\n",
    "    plt.imshow(train_data.data[idx], cmap=\"gray\")\n",
    "    plt.title(f\"data_label: {label_map[train_data.targets[idx].item()]}\")\n",
    "    plt.axis(\"off\")\n",
    "view_sample_img(train_data,7,label_map)"
   ]
  },
  {
   "cell_type": "code",
   "execution_count": 92,
   "metadata": {},
   "outputs": [],
   "source": [
    "# Create the DataLoader\n",
    "train_data_loader=DataLoader(\n",
    "    dataset=train_data,\n",
    "    batch_size=config.BATCH_SIZE,\n",
    "    shuffle=True\n",
    ")\n",
    "test_data_loader=DataLoader(\n",
    "    dataset=test_data,\n",
    "    batch_size=config.BATCH_SIZE,\n",
    "    shuffle=False\n",
    ")"
   ]
  },
  {
   "cell_type": "code",
   "execution_count": 93,
   "metadata": {},
   "outputs": [
    {
     "name": "stdout",
     "output_type": "stream",
     "text": [
      "torch.Size([32, 1, 28, 28])\n",
      "torch.Size([32])\n"
     ]
    }
   ],
   "source": [
    "for images, labels in test_data_loader:\n",
    "    print(images.shape)\n",
    "    print(labels.shape)\n",
    "    break\n",
    "    "
   ]
  },
  {
   "cell_type": "code",
   "execution_count": 94,
   "metadata": {},
   "outputs": [
    {
     "data": {
      "text/plain": [
       "torch.Size([1, 28, 28])"
      ]
     },
     "execution_count": 94,
     "metadata": {},
     "output_type": "execute_result"
    }
   ],
   "source": [
    "images[0].shape"
   ]
  },
  {
   "cell_type": "code",
   "execution_count": 95,
   "metadata": {},
   "outputs": [
    {
     "data": {
      "text/plain": [
       "torch.Size([28, 28])"
      ]
     },
     "execution_count": 95,
     "metadata": {},
     "output_type": "execute_result"
    }
   ],
   "source": [
    "images[0].squeeze().shape"
   ]
  },
  {
   "cell_type": "code",
   "execution_count": 96,
   "metadata": {},
   "outputs": [
    {
     "data": {
      "text/plain": [
       "array([[0.        , 0.        , 0.        , 0.        , 0.        ,\n",
       "        0.        , 0.        , 0.        , 0.        , 0.        ,\n",
       "        0.        , 0.        , 0.        , 0.        , 0.        ,\n",
       "        0.        , 0.        , 0.        , 0.        , 0.        ,\n",
       "        0.        , 0.        , 0.        , 0.        , 0.        ,\n",
       "        0.        , 0.        , 0.        ],\n",
       "       [0.        , 0.        , 0.        , 0.        , 0.        ,\n",
       "        0.        , 0.        , 0.        , 0.        , 0.        ,\n",
       "        0.        , 0.        , 0.        , 0.        , 0.        ,\n",
       "        0.        , 0.        , 0.        , 0.        , 0.        ,\n",
       "        0.        , 0.        , 0.        , 0.        , 0.        ,\n",
       "        0.        , 0.        , 0.        ],\n",
       "       [0.        , 0.        , 0.        , 0.        , 0.        ,\n",
       "        0.        , 0.        , 0.        , 0.        , 0.        ,\n",
       "        0.        , 0.        , 0.        , 0.        , 0.        ,\n",
       "        0.        , 0.        , 0.        , 0.        , 0.        ,\n",
       "        0.        , 0.        , 0.        , 0.        , 0.        ,\n",
       "        0.        , 0.        , 0.        ],\n",
       "       [0.        , 0.        , 0.        , 0.        , 0.        ,\n",
       "        0.        , 0.        , 0.        , 0.        , 0.        ,\n",
       "        0.        , 0.        , 0.        , 0.        , 0.        ,\n",
       "        0.        , 0.        , 0.        , 0.        , 0.        ,\n",
       "        0.        , 0.        , 0.        , 0.        , 0.        ,\n",
       "        0.        , 0.        , 0.        ],\n",
       "       [0.        , 0.        , 0.        , 0.        , 0.        ,\n",
       "        0.        , 0.        , 0.        , 0.        , 0.        ,\n",
       "        0.        , 0.        , 0.        , 0.        , 0.        ,\n",
       "        0.        , 0.        , 0.        , 0.        , 0.        ,\n",
       "        0.        , 0.        , 0.        , 0.        , 0.        ,\n",
       "        0.        , 0.        , 0.        ],\n",
       "       [0.        , 0.        , 0.        , 0.        , 0.        ,\n",
       "        0.        , 0.        , 0.        , 0.        , 0.        ,\n",
       "        0.        , 0.        , 0.        , 0.        , 0.        ,\n",
       "        0.        , 0.        , 0.        , 0.        , 0.        ,\n",
       "        0.        , 0.        , 0.        , 0.        , 0.        ,\n",
       "        0.        , 0.        , 0.        ],\n",
       "       [0.        , 0.        , 0.        , 0.        , 0.        ,\n",
       "        0.        , 0.        , 0.        , 0.        , 0.        ,\n",
       "        0.        , 0.        , 0.        , 0.        , 0.        ,\n",
       "        0.        , 0.        , 0.        , 0.        , 0.        ,\n",
       "        0.        , 0.        , 0.        , 0.        , 0.        ,\n",
       "        0.        , 0.        , 0.        ],\n",
       "       [0.        , 0.        , 0.        , 0.        , 0.        ,\n",
       "        0.        , 0.        , 0.        , 0.        , 0.        ,\n",
       "        0.        , 0.        , 0.        , 0.        , 0.        ,\n",
       "        0.        , 0.        , 0.        , 0.        , 0.01176471,\n",
       "        0.00392157, 0.        , 0.        , 0.02745098, 0.        ,\n",
       "        0.14509805, 0.        , 0.        ],\n",
       "       [0.        , 0.        , 0.        , 0.        , 0.        ,\n",
       "        0.        , 0.        , 0.        , 0.        , 0.        ,\n",
       "        0.        , 0.        , 0.        , 0.00392157, 0.00784314,\n",
       "        0.        , 0.10588235, 0.32941177, 0.04313726, 0.        ,\n",
       "        0.        , 0.        , 0.        , 0.        , 0.        ,\n",
       "        0.46666667, 0.        , 0.        ],\n",
       "       [0.        , 0.        , 0.        , 0.        , 0.        ,\n",
       "        0.        , 0.        , 0.        , 0.        , 0.        ,\n",
       "        0.        , 0.        , 0.        , 0.00392157, 0.        ,\n",
       "        0.        , 0.34509805, 0.56078434, 0.43137255, 0.        ,\n",
       "        0.        , 0.        , 0.        , 0.08627451, 0.3647059 ,\n",
       "        0.41568628, 0.        , 0.        ],\n",
       "       [0.        , 0.        , 0.        , 0.        , 0.        ,\n",
       "        0.        , 0.        , 0.        , 0.        , 0.        ,\n",
       "        0.        , 0.        , 0.        , 0.01568628, 0.        ,\n",
       "        0.20784314, 0.5058824 , 0.47058824, 0.5764706 , 0.6862745 ,\n",
       "        0.6156863 , 0.6509804 , 0.5294118 , 0.6039216 , 0.65882355,\n",
       "        0.54901963, 0.        , 0.        ],\n",
       "       [0.        , 0.        , 0.        , 0.        , 0.        ,\n",
       "        0.        , 0.        , 0.        , 0.        , 0.        ,\n",
       "        0.        , 0.        , 0.00784314, 0.        , 0.04313726,\n",
       "        0.5372549 , 0.50980395, 0.5019608 , 0.627451  , 0.6901961 ,\n",
       "        0.62352943, 0.654902  , 0.69803923, 0.58431375, 0.5921569 ,\n",
       "        0.5647059 , 0.        , 0.        ],\n",
       "       [0.        , 0.        , 0.        , 0.        , 0.        ,\n",
       "        0.        , 0.00392157, 0.        , 0.00784314, 0.00392157,\n",
       "        0.        , 0.01176471, 0.        , 0.        , 0.4509804 ,\n",
       "        0.44705883, 0.41568628, 0.5372549 , 0.65882355, 0.6       ,\n",
       "        0.6117647 , 0.64705884, 0.654902  , 0.56078434, 0.6156863 ,\n",
       "        0.61960787, 0.04313726, 0.        ],\n",
       "       [0.        , 0.        , 0.        , 0.        , 0.00392157,\n",
       "        0.        , 0.        , 0.        , 0.        , 0.        ,\n",
       "        0.01176471, 0.        , 0.        , 0.34901962, 0.54509807,\n",
       "        0.3529412 , 0.36862746, 0.6       , 0.58431375, 0.5137255 ,\n",
       "        0.5921569 , 0.6627451 , 0.6745098 , 0.56078434, 0.62352943,\n",
       "        0.6627451 , 0.1882353 , 0.        ],\n",
       "       [0.        , 0.        , 0.        , 0.        , 0.        ,\n",
       "        0.        , 0.00784314, 0.01568628, 0.00392157, 0.        ,\n",
       "        0.        , 0.        , 0.38431373, 0.53333336, 0.43137255,\n",
       "        0.42745098, 0.43137255, 0.63529414, 0.5294118 , 0.5647059 ,\n",
       "        0.58431375, 0.62352943, 0.654902  , 0.5647059 , 0.61960787,\n",
       "        0.6627451 , 0.46666667, 0.        ],\n",
       "       [0.        , 0.        , 0.00784314, 0.00784314, 0.00392157,\n",
       "        0.00784314, 0.        , 0.        , 0.        , 0.        ,\n",
       "        0.10196079, 0.42352942, 0.45882353, 0.3882353 , 0.43529412,\n",
       "        0.45882353, 0.53333336, 0.6117647 , 0.5254902 , 0.6039216 ,\n",
       "        0.6039216 , 0.6117647 , 0.627451  , 0.5529412 , 0.5764706 ,\n",
       "        0.6117647 , 0.69803923, 0.        ],\n",
       "       [0.01176471, 0.        , 0.        , 0.        , 0.        ,\n",
       "        0.        , 0.        , 0.08235294, 0.20784314, 0.36078432,\n",
       "        0.45882353, 0.43529412, 0.40392157, 0.4509804 , 0.5058824 ,\n",
       "        0.5254902 , 0.56078434, 0.6039216 , 0.64705884, 0.6666667 ,\n",
       "        0.6039216 , 0.5921569 , 0.6039216 , 0.56078434, 0.5411765 ,\n",
       "        0.5882353 , 0.64705884, 0.16862746],\n",
       "       [0.        , 0.        , 0.09019608, 0.21176471, 0.25490198,\n",
       "        0.29803923, 0.33333334, 0.4627451 , 0.5019608 , 0.48235294,\n",
       "        0.43529412, 0.44313726, 0.4627451 , 0.49803922, 0.49019608,\n",
       "        0.54509807, 0.52156866, 0.53333336, 0.627451  , 0.54901963,\n",
       "        0.60784316, 0.6313726 , 0.5647059 , 0.60784316, 0.6745098 ,\n",
       "        0.6313726 , 0.7411765 , 0.24313726],\n",
       "       [0.        , 0.26666668, 0.36862746, 0.3529412 , 0.43529412,\n",
       "        0.44705883, 0.43529412, 0.44705883, 0.4509804 , 0.49803922,\n",
       "        0.5294118 , 0.53333336, 0.56078434, 0.49411765, 0.49803922,\n",
       "        0.5921569 , 0.6039216 , 0.56078434, 0.5803922 , 0.49019608,\n",
       "        0.63529414, 0.63529414, 0.5647059 , 0.5411765 , 0.6       ,\n",
       "        0.63529414, 0.76862746, 0.22745098],\n",
       "       [0.27450982, 0.6627451 , 0.5058824 , 0.40784314, 0.38431373,\n",
       "        0.39215687, 0.36862746, 0.38039216, 0.38431373, 0.4       ,\n",
       "        0.42352942, 0.41568628, 0.46666667, 0.47058824, 0.5058824 ,\n",
       "        0.58431375, 0.6117647 , 0.654902  , 0.74509805, 0.74509805,\n",
       "        0.76862746, 0.7764706 , 0.7764706 , 0.73333335, 0.77254903,\n",
       "        0.7411765 , 0.72156864, 0.14117648],\n",
       "       [0.0627451 , 0.49411765, 0.67058825, 0.7372549 , 0.7372549 ,\n",
       "        0.72156864, 0.67058825, 0.6       , 0.5294118 , 0.47058824,\n",
       "        0.49411765, 0.49803922, 0.57254905, 0.7254902 , 0.7647059 ,\n",
       "        0.81960785, 0.8156863 , 1.        , 0.81960785, 0.69411767,\n",
       "        0.9607843 , 0.9882353 , 0.9843137 , 0.9843137 , 0.96862745,\n",
       "        0.8627451 , 0.80784315, 0.19215687],\n",
       "       [0.        , 0.        , 0.        , 0.04705882, 0.2627451 ,\n",
       "        0.41568628, 0.6431373 , 0.7254902 , 0.78039217, 0.8235294 ,\n",
       "        0.827451  , 0.8235294 , 0.8156863 , 0.74509805, 0.5882353 ,\n",
       "        0.32156864, 0.03137255, 0.        , 0.        , 0.        ,\n",
       "        0.69803923, 0.8156863 , 0.7372549 , 0.6862745 , 0.63529414,\n",
       "        0.61960787, 0.5921569 , 0.04313726],\n",
       "       [0.        , 0.        , 0.        , 0.        , 0.        ,\n",
       "        0.        , 0.        , 0.        , 0.        , 0.        ,\n",
       "        0.        , 0.        , 0.        , 0.        , 0.        ,\n",
       "        0.        , 0.        , 0.        , 0.        , 0.        ,\n",
       "        0.        , 0.        , 0.        , 0.        , 0.        ,\n",
       "        0.        , 0.        , 0.        ],\n",
       "       [0.        , 0.        , 0.        , 0.        , 0.        ,\n",
       "        0.        , 0.        , 0.        , 0.        , 0.        ,\n",
       "        0.        , 0.        , 0.        , 0.        , 0.        ,\n",
       "        0.        , 0.        , 0.        , 0.        , 0.        ,\n",
       "        0.        , 0.        , 0.        , 0.        , 0.        ,\n",
       "        0.        , 0.        , 0.        ],\n",
       "       [0.        , 0.        , 0.        , 0.        , 0.        ,\n",
       "        0.        , 0.        , 0.        , 0.        , 0.        ,\n",
       "        0.        , 0.        , 0.        , 0.        , 0.        ,\n",
       "        0.        , 0.        , 0.        , 0.        , 0.        ,\n",
       "        0.        , 0.        , 0.        , 0.        , 0.        ,\n",
       "        0.        , 0.        , 0.        ],\n",
       "       [0.        , 0.        , 0.        , 0.        , 0.        ,\n",
       "        0.        , 0.        , 0.        , 0.        , 0.        ,\n",
       "        0.        , 0.        , 0.        , 0.        , 0.        ,\n",
       "        0.        , 0.        , 0.        , 0.        , 0.        ,\n",
       "        0.        , 0.        , 0.        , 0.        , 0.        ,\n",
       "        0.        , 0.        , 0.        ],\n",
       "       [0.        , 0.        , 0.        , 0.        , 0.        ,\n",
       "        0.        , 0.        , 0.        , 0.        , 0.        ,\n",
       "        0.        , 0.        , 0.        , 0.        , 0.        ,\n",
       "        0.        , 0.        , 0.        , 0.        , 0.        ,\n",
       "        0.        , 0.        , 0.        , 0.        , 0.        ,\n",
       "        0.        , 0.        , 0.        ],\n",
       "       [0.        , 0.        , 0.        , 0.        , 0.        ,\n",
       "        0.        , 0.        , 0.        , 0.        , 0.        ,\n",
       "        0.        , 0.        , 0.        , 0.        , 0.        ,\n",
       "        0.        , 0.        , 0.        , 0.        , 0.        ,\n",
       "        0.        , 0.        , 0.        , 0.        , 0.        ,\n",
       "        0.        , 0.        , 0.        ]], dtype=float32)"
      ]
     },
     "execution_count": 96,
     "metadata": {},
     "output_type": "execute_result"
    }
   ],
   "source": [
    "images[0].squeeze().numpy()"
   ]
  },
  {
   "cell_type": "code",
   "execution_count": 97,
   "metadata": {},
   "outputs": [
    {
     "data": {
      "text/plain": [
       "<matplotlib.image.AxesImage at 0x190823d1af0>"
      ]
     },
     "execution_count": 97,
     "metadata": {},
     "output_type": "execute_result"
    },
    {
     "data": {
      "image/png": "[encoded data removed]",
      "text/plain": [
       "<Figure size 432x288 with 1 Axes>"
      ]
     },
     "metadata": {
      "needs_background": "light"
     },
     "output_type": "display_data"
    }
   ],
   "source": [
    "plt.imshow(images[0].squeeze(), cmap=\"gray\")"
   ]
  },
  {
   "cell_type": "code",
   "execution_count": 98,
   "metadata": {},
   "outputs": [
    {
     "data": {
      "text/plain": [
       "(torch.Size([1, 28, 28]), torch.Size([28, 28]), torch.Size([1, 1, 28, 28]))"
      ]
     },
     "execution_count": 98,
     "metadata": {},
     "output_type": "execute_result"
    }
   ],
   "source": [
    "images[0].shape, images[0].squeeze().shape,images[0].unsqueeze(dim=0).shape"
   ]
  },
  {
   "cell_type": "code",
   "execution_count": 99,
   "metadata": {},
   "outputs": [
    {
     "data": {
      "text/plain": [
       "tensor([[0.0000, 0.0000, 0.0000, 0.0000, 0.0000, 0.0000, 0.0000, 0.0000, 0.0000,\n",
       "         0.0000, 0.0000, 0.0000, 0.0000, 0.0000, 0.0000, 0.0000, 0.0000, 0.0000,\n",
       "         0.0000, 0.0000, 0.0000, 0.0000, 0.0000, 0.0000, 0.0000, 0.0000, 0.0000,\n",
       "         0.0000],\n",
       "        [0.0000, 0.0000, 0.0000, 0.0000, 0.0000, 0.0000, 0.0000, 0.0000, 0.0000,\n",
       "         0.0000, 0.0000, 0.0000, 0.0000, 0.0000, 0.0000, 0.0000, 0.0000, 0.0000,\n",
       "         0.0000, 0.0000, 0.0000, 0.0000, 0.0000, 0.0000, 0.0000, 0.0000, 0.0000,\n",
       "         0.0000],\n",
       "        [0.0000, 0.0000, 0.0000, 0.0000, 0.0000, 0.0000, 0.0000, 0.0000, 0.0000,\n",
       "         0.0000, 0.0000, 0.0000, 0.0000, 0.0000, 0.0000, 0.0000, 0.0000, 0.0000,\n",
       "         0.0000, 0.0000, 0.0000, 0.0000, 0.0000, 0.0000, 0.0000, 0.0000, 0.0000,\n",
       "         0.0000],\n",
       "        [0.0000, 0.0000, 0.0000, 0.0000, 0.0000, 0.0000, 0.0000, 0.0000, 0.0000,\n",
       "         0.0000, 0.0000, 0.0000, 0.0000, 0.0000, 0.0000, 0.0000, 0.0000, 0.0000,\n",
       "         0.0000, 0.0000, 0.0000, 0.0000, 0.0000, 0.0000, 0.0000, 0.0000, 0.0000,\n",
       "         0.0000],\n",
       "        [0.0000, 0.0000, 0.0000, 0.0000, 0.0000, 0.0000, 0.0000, 0.0000, 0.0000,\n",
       "         0.0000, 0.0000, 0.0000, 0.0000, 0.0000, 0.0000, 0.0000, 0.0000, 0.0000,\n",
       "         0.0000, 0.0000, 0.0000, 0.0000, 0.0000, 0.0000, 0.0000, 0.0000, 0.0000,\n",
       "         0.0000],\n",
       "        [0.0000, 0.0000, 0.0000, 0.0000, 0.0000, 0.0000, 0.0000, 0.0000, 0.0000,\n",
       "         0.0000, 0.0000, 0.0000, 0.0000, 0.0000, 0.0000, 0.0000, 0.0000, 0.0000,\n",
       "         0.0000, 0.0000, 0.0000, 0.0000, 0.0000, 0.0000, 0.0000, 0.0000, 0.0000,\n",
       "         0.0000],\n",
       "        [0.0000, 0.0000, 0.0000, 0.0000, 0.0000, 0.0000, 0.0000, 0.0000, 0.0000,\n",
       "         0.0000, 0.0000, 0.0000, 0.0000, 0.0000, 0.0000, 0.0000, 0.0000, 0.0000,\n",
       "         0.0000, 0.0000, 0.0000, 0.0000, 0.0000, 0.0000, 0.0000, 0.0000, 0.0000,\n",
       "         0.0000],\n",
       "        [0.0000, 0.0000, 0.0000, 0.0000, 0.0000, 0.0000, 0.0000, 0.0000, 0.0000,\n",
       "         0.0000, 0.0000, 0.0000, 0.0000, 0.0000, 0.0000, 0.0000, 0.0000, 0.0000,\n",
       "         0.0000, 0.0118, 0.0039, 0.0000, 0.0000, 0.0275, 0.0000, 0.1451, 0.0000,\n",
       "         0.0000],\n",
       "        [0.0000, 0.0000, 0.0000, 0.0000, 0.0000, 0.0000, 0.0000, 0.0000, 0.0000,\n",
       "         0.0000, 0.0000, 0.0000, 0.0000, 0.0039, 0.0078, 0.0000, 0.1059, 0.3294,\n",
       "         0.0431, 0.0000, 0.0000, 0.0000, 0.0000, 0.0000, 0.0000, 0.4667, 0.0000,\n",
       "         0.0000],\n",
       "        [0.0000, 0.0000, 0.0000, 0.0000, 0.0000, 0.0000, 0.0000, 0.0000, 0.0000,\n",
       "         0.0000, 0.0000, 0.0000, 0.0000, 0.0039, 0.0000, 0.0000, 0.3451, 0.5608,\n",
       "         0.4314, 0.0000, 0.0000, 0.0000, 0.0000, 0.0863, 0.3647, 0.4157, 0.0000,\n",
       "         0.0000],\n",
       "        [0.0000, 0.0000, 0.0000, 0.0000, 0.0000, 0.0000, 0.0000, 0.0000, 0.0000,\n",
       "         0.0000, 0.0000, 0.0000, 0.0000, 0.0157, 0.0000, 0.2078, 0.5059, 0.4706,\n",
       "         0.5765, 0.6863, 0.6157, 0.6510, 0.5294, 0.6039, 0.6588, 0.5490, 0.0000,\n",
       "         0.0000],\n",
       "        [0.0000, 0.0000, 0.0000, 0.0000, 0.0000, 0.0000, 0.0000, 0.0000, 0.0000,\n",
       "         0.0000, 0.0000, 0.0000, 0.0078, 0.0000, 0.0431, 0.5373, 0.5098, 0.5020,\n",
       "         0.6275, 0.6902, 0.6235, 0.6549, 0.6980, 0.5843, 0.5922, 0.5647, 0.0000,\n",
       "         0.0000],\n",
       "        [0.0000, 0.0000, 0.0000, 0.0000, 0.0000, 0.0000, 0.0039, 0.0000, 0.0078,\n",
       "         0.0039, 0.0000, 0.0118, 0.0000, 0.0000, 0.4510, 0.4471, 0.4157, 0.5373,\n",
       "         0.6588, 0.6000, 0.6118, 0.6471, 0.6549, 0.5608, 0.6157, 0.6196, 0.0431,\n",
       "         0.0000],\n",
       "        [0.0000, 0.0000, 0.0000, 0.0000, 0.0039, 0.0000, 0.0000, 0.0000, 0.0000,\n",
       "         0.0000, 0.0118, 0.0000, 0.0000, 0.3490, 0.5451, 0.3529, 0.3686, 0.6000,\n",
       "         0.5843, 0.5137, 0.5922, 0.6627, 0.6745, 0.5608, 0.6235, 0.6627, 0.1882,\n",
       "         0.0000],\n",
       "        [0.0000, 0.0000, 0.0000, 0.0000, 0.0000, 0.0000, 0.0078, 0.0157, 0.0039,\n",
       "         0.0000, 0.0000, 0.0000, 0.3843, 0.5333, 0.4314, 0.4275, 0.4314, 0.6353,\n",
       "         0.5294, 0.5647, 0.5843, 0.6235, 0.6549, 0.5647, 0.6196, 0.6627, 0.4667,\n",
       "         0.0000],\n",
       "        [0.0000, 0.0000, 0.0078, 0.0078, 0.0039, 0.0078, 0.0000, 0.0000, 0.0000,\n",
       "         0.0000, 0.1020, 0.4235, 0.4588, 0.3882, 0.4353, 0.4588, 0.5333, 0.6118,\n",
       "         0.5255, 0.6039, 0.6039, 0.6118, 0.6275, 0.5529, 0.5765, 0.6118, 0.6980,\n",
       "         0.0000],\n",
       "        [0.0118, 0.0000, 0.0000, 0.0000, 0.0000, 0.0000, 0.0000, 0.0824, 0.2078,\n",
       "         0.3608, 0.4588, 0.4353, 0.4039, 0.4510, 0.5059, 0.5255, 0.5608, 0.6039,\n",
       "         0.6471, 0.6667, 0.6039, 0.5922, 0.6039, 0.5608, 0.5412, 0.5882, 0.6471,\n",
       "         0.1686],\n",
       "        [0.0000, 0.0000, 0.0902, 0.2118, 0.2549, 0.2980, 0.3333, 0.4627, 0.5020,\n",
       "         0.4824, 0.4353, 0.4431, 0.4627, 0.4980, 0.4902, 0.5451, 0.5216, 0.5333,\n",
       "         0.6275, 0.5490, 0.6078, 0.6314, 0.5647, 0.6078, 0.6745, 0.6314, 0.7412,\n",
       "         0.2431],\n",
       "        [0.0000, 0.2667, 0.3686, 0.3529, 0.4353, 0.4471, 0.4353, 0.4471, 0.4510,\n",
       "         0.4980, 0.5294, 0.5333, 0.5608, 0.4941, 0.4980, 0.5922, 0.6039, 0.5608,\n",
       "         0.5804, 0.4902, 0.6353, 0.6353, 0.5647, 0.5412, 0.6000, 0.6353, 0.7686,\n",
       "         0.2275],\n",
       "        [0.2745, 0.6627, 0.5059, 0.4078, 0.3843, 0.3922, 0.3686, 0.3804, 0.3843,\n",
       "         0.4000, 0.4235, 0.4157, 0.4667, 0.4706, 0.5059, 0.5843, 0.6118, 0.6549,\n",
       "         0.7451, 0.7451, 0.7686, 0.7765, 0.7765, 0.7333, 0.7725, 0.7412, 0.7216,\n",
       "         0.1412],\n",
       "        [0.0627, 0.4941, 0.6706, 0.7373, 0.7373, 0.7216, 0.6706, 0.6000, 0.5294,\n",
       "         0.4706, 0.4941, 0.4980, 0.5725, 0.7255, 0.7647, 0.8196, 0.8157, 1.0000,\n",
       "         0.8196, 0.6941, 0.9608, 0.9882, 0.9843, 0.9843, 0.9686, 0.8627, 0.8078,\n",
       "         0.1922],\n",
       "        [0.0000, 0.0000, 0.0000, 0.0471, 0.2627, 0.4157, 0.6431, 0.7255, 0.7804,\n",
       "         0.8235, 0.8275, 0.8235, 0.8157, 0.7451, 0.5882, 0.3216, 0.0314, 0.0000,\n",
       "         0.0000, 0.0000, 0.6980, 0.8157, 0.7373, 0.6863, 0.6353, 0.6196, 0.5922,\n",
       "         0.0431],\n",
       "        [0.0000, 0.0000, 0.0000, 0.0000, 0.0000, 0.0000, 0.0000, 0.0000, 0.0000,\n",
       "         0.0000, 0.0000, 0.0000, 0.0000, 0.0000, 0.0000, 0.0000, 0.0000, 0.0000,\n",
       "         0.0000, 0.0000, 0.0000, 0.0000, 0.0000, 0.0000, 0.0000, 0.0000, 0.0000,\n",
       "         0.0000],\n",
       "        [0.0000, 0.0000, 0.0000, 0.0000, 0.0000, 0.0000, 0.0000, 0.0000, 0.0000,\n",
       "         0.0000, 0.0000, 0.0000, 0.0000, 0.0000, 0.0000, 0.0000, 0.0000, 0.0000,\n",
       "         0.0000, 0.0000, 0.0000, 0.0000, 0.0000, 0.0000, 0.0000, 0.0000, 0.0000,\n",
       "         0.0000],\n",
       "        [0.0000, 0.0000, 0.0000, 0.0000, 0.0000, 0.0000, 0.0000, 0.0000, 0.0000,\n",
       "         0.0000, 0.0000, 0.0000, 0.0000, 0.0000, 0.0000, 0.0000, 0.0000, 0.0000,\n",
       "         0.0000, 0.0000, 0.0000, 0.0000, 0.0000, 0.0000, 0.0000, 0.0000, 0.0000,\n",
       "         0.0000],\n",
       "        [0.0000, 0.0000, 0.0000, 0.0000, 0.0000, 0.0000, 0.0000, 0.0000, 0.0000,\n",
       "         0.0000, 0.0000, 0.0000, 0.0000, 0.0000, 0.0000, 0.0000, 0.0000, 0.0000,\n",
       "         0.0000, 0.0000, 0.0000, 0.0000, 0.0000, 0.0000, 0.0000, 0.0000, 0.0000,\n",
       "         0.0000],\n",
       "        [0.0000, 0.0000, 0.0000, 0.0000, 0.0000, 0.0000, 0.0000, 0.0000, 0.0000,\n",
       "         0.0000, 0.0000, 0.0000, 0.0000, 0.0000, 0.0000, 0.0000, 0.0000, 0.0000,\n",
       "         0.0000, 0.0000, 0.0000, 0.0000, 0.0000, 0.0000, 0.0000, 0.0000, 0.0000,\n",
       "         0.0000],\n",
       "        [0.0000, 0.0000, 0.0000, 0.0000, 0.0000, 0.0000, 0.0000, 0.0000, 0.0000,\n",
       "         0.0000, 0.0000, 0.0000, 0.0000, 0.0000, 0.0000, 0.0000, 0.0000, 0.0000,\n",
       "         0.0000, 0.0000, 0.0000, 0.0000, 0.0000, 0.0000, 0.0000, 0.0000, 0.0000,\n",
       "         0.0000]])"
      ]
     },
     "execution_count": 99,
     "metadata": {},
     "output_type": "execute_result"
    }
   ],
   "source": [
    "images[0].squeeze()"
   ]
  },
  {
   "cell_type": "code",
   "execution_count": 100,
   "metadata": {},
   "outputs": [
    {
     "data": {
      "text/plain": [
       "tensor([[[[0.0000, 0.0000, 0.0000, 0.0000, 0.0000, 0.0000, 0.0000, 0.0000,\n",
       "           0.0000, 0.0000, 0.0000, 0.0000, 0.0000, 0.0000, 0.0000, 0.0000,\n",
       "           0.0000, 0.0000, 0.0000, 0.0000, 0.0000, 0.0000, 0.0000, 0.0000,\n",
       "           0.0000, 0.0000, 0.0000, 0.0000],\n",
       "          [0.0000, 0.0000, 0.0000, 0.0000, 0.0000, 0.0000, 0.0000, 0.0000,\n",
       "           0.0000, 0.0000, 0.0000, 0.0000, 0.0000, 0.0000, 0.0000, 0.0000,\n",
       "           0.0000, 0.0000, 0.0000, 0.0000, 0.0000, 0.0000, 0.0000, 0.0000,\n",
       "           0.0000, 0.0000, 0.0000, 0.0000],\n",
       "          [0.0000, 0.0000, 0.0000, 0.0000, 0.0000, 0.0000, 0.0000, 0.0000,\n",
       "           0.0000, 0.0000, 0.0000, 0.0000, 0.0000, 0.0000, 0.0000, 0.0000,\n",
       "           0.0000, 0.0000, 0.0000, 0.0000, 0.0000, 0.0000, 0.0000, 0.0000,\n",
       "           0.0000, 0.0000, 0.0000, 0.0000],\n",
       "          [0.0000, 0.0000, 0.0000, 0.0000, 0.0000, 0.0000, 0.0000, 0.0000,\n",
       "           0.0000, 0.0000, 0.0000, 0.0000, 0.0000, 0.0000, 0.0000, 0.0000,\n",
       "           0.0000, 0.0000, 0.0000, 0.0000, 0.0000, 0.0000, 0.0000, 0.0000,\n",
       "           0.0000, 0.0000, 0.0000, 0.0000],\n",
       "          [0.0000, 0.0000, 0.0000, 0.0000, 0.0000, 0.0000, 0.0000, 0.0000,\n",
       "           0.0000, 0.0000, 0.0000, 0.0000, 0.0000, 0.0000, 0.0000, 0.0000,\n",
       "           0.0000, 0.0000, 0.0000, 0.0000, 0.0000, 0.0000, 0.0000, 0.0000,\n",
       "           0.0000, 0.0000, 0.0000, 0.0000],\n",
       "          [0.0000, 0.0000, 0.0000, 0.0000, 0.0000, 0.0000, 0.0000, 0.0000,\n",
       "           0.0000, 0.0000, 0.0000, 0.0000, 0.0000, 0.0000, 0.0000, 0.0000,\n",
       "           0.0000, 0.0000, 0.0000, 0.0000, 0.0000, 0.0000, 0.0000, 0.0000,\n",
       "           0.0000, 0.0000, 0.0000, 0.0000],\n",
       "          [0.0000, 0.0000, 0.0000, 0.0000, 0.0000, 0.0000, 0.0000, 0.0000,\n",
       "           0.0000, 0.0000, 0.0000, 0.0000, 0.0000, 0.0000, 0.0000, 0.0000,\n",
       "           0.0000, 0.0000, 0.0000, 0.0000, 0.0000, 0.0000, 0.0000, 0.0000,\n",
       "           0.0000, 0.0000, 0.0000, 0.0000],\n",
       "          [0.0000, 0.0000, 0.0000, 0.0000, 0.0000, 0.0000, 0.0000, 0.0000,\n",
       "           0.0000, 0.0000, 0.0000, 0.0000, 0.0000, 0.0000, 0.0000, 0.0000,\n",
       "           0.0000, 0.0000, 0.0000, 0.0118, 0.0039, 0.0000, 0.0000, 0.0275,\n",
       "           0.0000, 0.1451, 0.0000, 0.0000],\n",
       "          [0.0000, 0.0000, 0.0000, 0.0000, 0.0000, 0.0000, 0.0000, 0.0000,\n",
       "           0.0000, 0.0000, 0.0000, 0.0000, 0.0000, 0.0039, 0.0078, 0.0000,\n",
       "           0.1059, 0.3294, 0.0431, 0.0000, 0.0000, 0.0000, 0.0000, 0.0000,\n",
       "           0.0000, 0.4667, 0.0000, 0.0000],\n",
       "          [0.0000, 0.0000, 0.0000, 0.0000, 0.0000, 0.0000, 0.0000, 0.0000,\n",
       "           0.0000, 0.0000, 0.0000, 0.0000, 0.0000, 0.0039, 0.0000, 0.0000,\n",
       "           0.3451, 0.5608, 0.4314, 0.0000, 0.0000, 0.0000, 0.0000, 0.0863,\n",
       "           0.3647, 0.4157, 0.0000, 0.0000],\n",
       "          [0.0000, 0.0000, 0.0000, 0.0000, 0.0000, 0.0000, 0.0000, 0.0000,\n",
       "           0.0000, 0.0000, 0.0000, 0.0000, 0.0000, 0.0157, 0.0000, 0.2078,\n",
       "           0.5059, 0.4706, 0.5765, 0.6863, 0.6157, 0.6510, 0.5294, 0.6039,\n",
       "           0.6588, 0.5490, 0.0000, 0.0000],\n",
       "          [0.0000, 0.0000, 0.0000, 0.0000, 0.0000, 0.0000, 0.0000, 0.0000,\n",
       "           0.0000, 0.0000, 0.0000, 0.0000, 0.0078, 0.0000, 0.0431, 0.5373,\n",
       "           0.5098, 0.5020, 0.6275, 0.6902, 0.6235, 0.6549, 0.6980, 0.5843,\n",
       "           0.5922, 0.5647, 0.0000, 0.0000],\n",
       "          [0.0000, 0.0000, 0.0000, 0.0000, 0.0000, 0.0000, 0.0039, 0.0000,\n",
       "           0.0078, 0.0039, 0.0000, 0.0118, 0.0000, 0.0000, 0.4510, 0.4471,\n",
       "           0.4157, 0.5373, 0.6588, 0.6000, 0.6118, 0.6471, 0.6549, 0.5608,\n",
       "           0.6157, 0.6196, 0.0431, 0.0000],\n",
       "          [0.0000, 0.0000, 0.0000, 0.0000, 0.0039, 0.0000, 0.0000, 0.0000,\n",
       "           0.0000, 0.0000, 0.0118, 0.0000, 0.0000, 0.3490, 0.5451, 0.3529,\n",
       "           0.3686, 0.6000, 0.5843, 0.5137, 0.5922, 0.6627, 0.6745, 0.5608,\n",
       "           0.6235, 0.6627, 0.1882, 0.0000],\n",
       "          [0.0000, 0.0000, 0.0000, 0.0000, 0.0000, 0.0000, 0.0078, 0.0157,\n",
       "           0.0039, 0.0000, 0.0000, 0.0000, 0.3843, 0.5333, 0.4314, 0.4275,\n",
       "           0.4314, 0.6353, 0.5294, 0.5647, 0.5843, 0.6235, 0.6549, 0.5647,\n",
       "           0.6196, 0.6627, 0.4667, 0.0000],\n",
       "          [0.0000, 0.0000, 0.0078, 0.0078, 0.0039, 0.0078, 0.0000, 0.0000,\n",
       "           0.0000, 0.0000, 0.1020, 0.4235, 0.4588, 0.3882, 0.4353, 0.4588,\n",
       "           0.5333, 0.6118, 0.5255, 0.6039, 0.6039, 0.6118, 0.6275, 0.5529,\n",
       "           0.5765, 0.6118, 0.6980, 0.0000],\n",
       "          [0.0118, 0.0000, 0.0000, 0.0000, 0.0000, 0.0000, 0.0000, 0.0824,\n",
       "           0.2078, 0.3608, 0.4588, 0.4353, 0.4039, 0.4510, 0.5059, 0.5255,\n",
       "           0.5608, 0.6039, 0.6471, 0.6667, 0.6039, 0.5922, 0.6039, 0.5608,\n",
       "           0.5412, 0.5882, 0.6471, 0.1686],\n",
       "          [0.0000, 0.0000, 0.0902, 0.2118, 0.2549, 0.2980, 0.3333, 0.4627,\n",
       "           0.5020, 0.4824, 0.4353, 0.4431, 0.4627, 0.4980, 0.4902, 0.5451,\n",
       "           0.5216, 0.5333, 0.6275, 0.5490, 0.6078, 0.6314, 0.5647, 0.6078,\n",
       "           0.6745, 0.6314, 0.7412, 0.2431],\n",
       "          [0.0000, 0.2667, 0.3686, 0.3529, 0.4353, 0.4471, 0.4353, 0.4471,\n",
       "           0.4510, 0.4980, 0.5294, 0.5333, 0.5608, 0.4941, 0.4980, 0.5922,\n",
       "           0.6039, 0.5608, 0.5804, 0.4902, 0.6353, 0.6353, 0.5647, 0.5412,\n",
       "           0.6000, 0.6353, 0.7686, 0.2275],\n",
       "          [0.2745, 0.6627, 0.5059, 0.4078, 0.3843, 0.3922, 0.3686, 0.3804,\n",
       "           0.3843, 0.4000, 0.4235, 0.4157, 0.4667, 0.4706, 0.5059, 0.5843,\n",
       "           0.6118, 0.6549, 0.7451, 0.7451, 0.7686, 0.7765, 0.7765, 0.7333,\n",
       "           0.7725, 0.7412, 0.7216, 0.1412],\n",
       "          [0.0627, 0.4941, 0.6706, 0.7373, 0.7373, 0.7216, 0.6706, 0.6000,\n",
       "           0.5294, 0.4706, 0.4941, 0.4980, 0.5725, 0.7255, 0.7647, 0.8196,\n",
       "           0.8157, 1.0000, 0.8196, 0.6941, 0.9608, 0.9882, 0.9843, 0.9843,\n",
       "           0.9686, 0.8627, 0.8078, 0.1922],\n",
       "          [0.0000, 0.0000, 0.0000, 0.0471, 0.2627, 0.4157, 0.6431, 0.7255,\n",
       "           0.7804, 0.8235, 0.8275, 0.8235, 0.8157, 0.7451, 0.5882, 0.3216,\n",
       "           0.0314, 0.0000, 0.0000, 0.0000, 0.6980, 0.8157, 0.7373, 0.6863,\n",
       "           0.6353, 0.6196, 0.5922, 0.0431],\n",
       "          [0.0000, 0.0000, 0.0000, 0.0000, 0.0000, 0.0000, 0.0000, 0.0000,\n",
       "           0.0000, 0.0000, 0.0000, 0.0000, 0.0000, 0.0000, 0.0000, 0.0000,\n",
       "           0.0000, 0.0000, 0.0000, 0.0000, 0.0000, 0.0000, 0.0000, 0.0000,\n",
       "           0.0000, 0.0000, 0.0000, 0.0000],\n",
       "          [0.0000, 0.0000, 0.0000, 0.0000, 0.0000, 0.0000, 0.0000, 0.0000,\n",
       "           0.0000, 0.0000, 0.0000, 0.0000, 0.0000, 0.0000, 0.0000, 0.0000,\n",
       "           0.0000, 0.0000, 0.0000, 0.0000, 0.0000, 0.0000, 0.0000, 0.0000,\n",
       "           0.0000, 0.0000, 0.0000, 0.0000],\n",
       "          [0.0000, 0.0000, 0.0000, 0.0000, 0.0000, 0.0000, 0.0000, 0.0000,\n",
       "           0.0000, 0.0000, 0.0000, 0.0000, 0.0000, 0.0000, 0.0000, 0.0000,\n",
       "           0.0000, 0.0000, 0.0000, 0.0000, 0.0000, 0.0000, 0.0000, 0.0000,\n",
       "           0.0000, 0.0000, 0.0000, 0.0000],\n",
       "          [0.0000, 0.0000, 0.0000, 0.0000, 0.0000, 0.0000, 0.0000, 0.0000,\n",
       "           0.0000, 0.0000, 0.0000, 0.0000, 0.0000, 0.0000, 0.0000, 0.0000,\n",
       "           0.0000, 0.0000, 0.0000, 0.0000, 0.0000, 0.0000, 0.0000, 0.0000,\n",
       "           0.0000, 0.0000, 0.0000, 0.0000],\n",
       "          [0.0000, 0.0000, 0.0000, 0.0000, 0.0000, 0.0000, 0.0000, 0.0000,\n",
       "           0.0000, 0.0000, 0.0000, 0.0000, 0.0000, 0.0000, 0.0000, 0.0000,\n",
       "           0.0000, 0.0000, 0.0000, 0.0000, 0.0000, 0.0000, 0.0000, 0.0000,\n",
       "           0.0000, 0.0000, 0.0000, 0.0000],\n",
       "          [0.0000, 0.0000, 0.0000, 0.0000, 0.0000, 0.0000, 0.0000, 0.0000,\n",
       "           0.0000, 0.0000, 0.0000, 0.0000, 0.0000, 0.0000, 0.0000, 0.0000,\n",
       "           0.0000, 0.0000, 0.0000, 0.0000, 0.0000, 0.0000, 0.0000, 0.0000,\n",
       "           0.0000, 0.0000, 0.0000, 0.0000]]]])"
      ]
     },
     "execution_count": 100,
     "metadata": {},
     "output_type": "execute_result"
    }
   ],
   "source": [
    "images[0].unsqueeze(dim=0)"
   ]
  },
  {
   "cell_type": "code",
   "execution_count": 101,
   "metadata": {},
   "outputs": [
    {
     "data": {
      "text/plain": [
       "tensor([[[[0.0000, 0.0000, 0.0000, 0.0000, 0.0000, 0.0000, 0.0000, 0.0000,\n",
       "           0.0000, 0.0000, 0.0000, 0.0000, 0.0000, 0.0000, 0.0000, 0.0000,\n",
       "           0.0000, 0.0000, 0.0000, 0.0000, 0.0000, 0.0000, 0.0000, 0.0000,\n",
       "           0.0000, 0.0000, 0.0000, 0.0000],\n",
       "          [0.0000, 0.0000, 0.0000, 0.0000, 0.0000, 0.0000, 0.0000, 0.0000,\n",
       "           0.0000, 0.0000, 0.0000, 0.0000, 0.0000, 0.0000, 0.0000, 0.0000,\n",
       "           0.0000, 0.0000, 0.0000, 0.0000, 0.0000, 0.0000, 0.0000, 0.0000,\n",
       "           0.0000, 0.0000, 0.0000, 0.0000],\n",
       "          [0.0000, 0.0000, 0.0000, 0.0000, 0.0000, 0.0000, 0.0000, 0.0000,\n",
       "           0.0000, 0.0000, 0.0000, 0.0000, 0.0000, 0.0000, 0.0000, 0.0000,\n",
       "           0.0000, 0.0000, 0.0000, 0.0000, 0.0000, 0.0000, 0.0000, 0.0000,\n",
       "           0.0000, 0.0000, 0.0000, 0.0000],\n",
       "          [0.0000, 0.0000, 0.0000, 0.0000, 0.0000, 0.0000, 0.0000, 0.0000,\n",
       "           0.0000, 0.0000, 0.0000, 0.0000, 0.0000, 0.0000, 0.0000, 0.0000,\n",
       "           0.0000, 0.0000, 0.0000, 0.0000, 0.0000, 0.0000, 0.0000, 0.0000,\n",
       "           0.0000, 0.0000, 0.0000, 0.0000],\n",
       "          [0.0000, 0.0000, 0.0000, 0.0000, 0.0000, 0.0000, 0.0000, 0.0000,\n",
       "           0.0000, 0.0000, 0.0000, 0.0000, 0.0000, 0.0000, 0.0000, 0.0000,\n",
       "           0.0000, 0.0000, 0.0000, 0.0000, 0.0000, 0.0000, 0.0000, 0.0000,\n",
       "           0.0000, 0.0000, 0.0000, 0.0000],\n",
       "          [0.0000, 0.0000, 0.0000, 0.0000, 0.0000, 0.0000, 0.0000, 0.0000,\n",
       "           0.0000, 0.0000, 0.0000, 0.0000, 0.0000, 0.0000, 0.0000, 0.0000,\n",
       "           0.0000, 0.0000, 0.0000, 0.0000, 0.0000, 0.0000, 0.0000, 0.0000,\n",
       "           0.0000, 0.0000, 0.0000, 0.0000],\n",
       "          [0.0000, 0.0000, 0.0000, 0.0000, 0.0000, 0.0000, 0.0000, 0.0000,\n",
       "           0.0000, 0.0000, 0.0000, 0.0000, 0.0000, 0.0000, 0.0000, 0.0000,\n",
       "           0.0000, 0.0000, 0.0000, 0.0000, 0.0000, 0.0000, 0.0000, 0.0000,\n",
       "           0.0000, 0.0000, 0.0000, 0.0000],\n",
       "          [0.0000, 0.0000, 0.0000, 0.0000, 0.0000, 0.0000, 0.0000, 0.0000,\n",
       "           0.0000, 0.0000, 0.0000, 0.0000, 0.0000, 0.0000, 0.0000, 0.0000,\n",
       "           0.0000, 0.0000, 0.0000, 0.0118, 0.0039, 0.0000, 0.0000, 0.0275,\n",
       "           0.0000, 0.1451, 0.0000, 0.0000],\n",
       "          [0.0000, 0.0000, 0.0000, 0.0000, 0.0000, 0.0000, 0.0000, 0.0000,\n",
       "           0.0000, 0.0000, 0.0000, 0.0000, 0.0000, 0.0039, 0.0078, 0.0000,\n",
       "           0.1059, 0.3294, 0.0431, 0.0000, 0.0000, 0.0000, 0.0000, 0.0000,\n",
       "           0.0000, 0.4667, 0.0000, 0.0000],\n",
       "          [0.0000, 0.0000, 0.0000, 0.0000, 0.0000, 0.0000, 0.0000, 0.0000,\n",
       "           0.0000, 0.0000, 0.0000, 0.0000, 0.0000, 0.0039, 0.0000, 0.0000,\n",
       "           0.3451, 0.5608, 0.4314, 0.0000, 0.0000, 0.0000, 0.0000, 0.0863,\n",
       "           0.3647, 0.4157, 0.0000, 0.0000],\n",
       "          [0.0000, 0.0000, 0.0000, 0.0000, 0.0000, 0.0000, 0.0000, 0.0000,\n",
       "           0.0000, 0.0000, 0.0000, 0.0000, 0.0000, 0.0157, 0.0000, 0.2078,\n",
       "           0.5059, 0.4706, 0.5765, 0.6863, 0.6157, 0.6510, 0.5294, 0.6039,\n",
       "           0.6588, 0.5490, 0.0000, 0.0000],\n",
       "          [0.0000, 0.0000, 0.0000, 0.0000, 0.0000, 0.0000, 0.0000, 0.0000,\n",
       "           0.0000, 0.0000, 0.0000, 0.0000, 0.0078, 0.0000, 0.0431, 0.5373,\n",
       "           0.5098, 0.5020, 0.6275, 0.6902, 0.6235, 0.6549, 0.6980, 0.5843,\n",
       "           0.5922, 0.5647, 0.0000, 0.0000],\n",
       "          [0.0000, 0.0000, 0.0000, 0.0000, 0.0000, 0.0000, 0.0039, 0.0000,\n",
       "           0.0078, 0.0039, 0.0000, 0.0118, 0.0000, 0.0000, 0.4510, 0.4471,\n",
       "           0.4157, 0.5373, 0.6588, 0.6000, 0.6118, 0.6471, 0.6549, 0.5608,\n",
       "           0.6157, 0.6196, 0.0431, 0.0000],\n",
       "          [0.0000, 0.0000, 0.0000, 0.0000, 0.0039, 0.0000, 0.0000, 0.0000,\n",
       "           0.0000, 0.0000, 0.0118, 0.0000, 0.0000, 0.3490, 0.5451, 0.3529,\n",
       "           0.3686, 0.6000, 0.5843, 0.5137, 0.5922, 0.6627, 0.6745, 0.5608,\n",
       "           0.6235, 0.6627, 0.1882, 0.0000],\n",
       "          [0.0000, 0.0000, 0.0000, 0.0000, 0.0000, 0.0000, 0.0078, 0.0157,\n",
       "           0.0039, 0.0000, 0.0000, 0.0000, 0.3843, 0.5333, 0.4314, 0.4275,\n",
       "           0.4314, 0.6353, 0.5294, 0.5647, 0.5843, 0.6235, 0.6549, 0.5647,\n",
       "           0.6196, 0.6627, 0.4667, 0.0000],\n",
       "          [0.0000, 0.0000, 0.0078, 0.0078, 0.0039, 0.0078, 0.0000, 0.0000,\n",
       "           0.0000, 0.0000, 0.1020, 0.4235, 0.4588, 0.3882, 0.4353, 0.4588,\n",
       "           0.5333, 0.6118, 0.5255, 0.6039, 0.6039, 0.6118, 0.6275, 0.5529,\n",
       "           0.5765, 0.6118, 0.6980, 0.0000],\n",
       "          [0.0118, 0.0000, 0.0000, 0.0000, 0.0000, 0.0000, 0.0000, 0.0824,\n",
       "           0.2078, 0.3608, 0.4588, 0.4353, 0.4039, 0.4510, 0.5059, 0.5255,\n",
       "           0.5608, 0.6039, 0.6471, 0.6667, 0.6039, 0.5922, 0.6039, 0.5608,\n",
       "           0.5412, 0.5882, 0.6471, 0.1686],\n",
       "          [0.0000, 0.0000, 0.0902, 0.2118, 0.2549, 0.2980, 0.3333, 0.4627,\n",
       "           0.5020, 0.4824, 0.4353, 0.4431, 0.4627, 0.4980, 0.4902, 0.5451,\n",
       "           0.5216, 0.5333, 0.6275, 0.5490, 0.6078, 0.6314, 0.5647, 0.6078,\n",
       "           0.6745, 0.6314, 0.7412, 0.2431],\n",
       "          [0.0000, 0.2667, 0.3686, 0.3529, 0.4353, 0.4471, 0.4353, 0.4471,\n",
       "           0.4510, 0.4980, 0.5294, 0.5333, 0.5608, 0.4941, 0.4980, 0.5922,\n",
       "           0.6039, 0.5608, 0.5804, 0.4902, 0.6353, 0.6353, 0.5647, 0.5412,\n",
       "           0.6000, 0.6353, 0.7686, 0.2275],\n",
       "          [0.2745, 0.6627, 0.5059, 0.4078, 0.3843, 0.3922, 0.3686, 0.3804,\n",
       "           0.3843, 0.4000, 0.4235, 0.4157, 0.4667, 0.4706, 0.5059, 0.5843,\n",
       "           0.6118, 0.6549, 0.7451, 0.7451, 0.7686, 0.7765, 0.7765, 0.7333,\n",
       "           0.7725, 0.7412, 0.7216, 0.1412],\n",
       "          [0.0627, 0.4941, 0.6706, 0.7373, 0.7373, 0.7216, 0.6706, 0.6000,\n",
       "           0.5294, 0.4706, 0.4941, 0.4980, 0.5725, 0.7255, 0.7647, 0.8196,\n",
       "           0.8157, 1.0000, 0.8196, 0.6941, 0.9608, 0.9882, 0.9843, 0.9843,\n",
       "           0.9686, 0.8627, 0.8078, 0.1922],\n",
       "          [0.0000, 0.0000, 0.0000, 0.0471, 0.2627, 0.4157, 0.6431, 0.7255,\n",
       "           0.7804, 0.8235, 0.8275, 0.8235, 0.8157, 0.7451, 0.5882, 0.3216,\n",
       "           0.0314, 0.0000, 0.0000, 0.0000, 0.6980, 0.8157, 0.7373, 0.6863,\n",
       "           0.6353, 0.6196, 0.5922, 0.0431],\n",
       "          [0.0000, 0.0000, 0.0000, 0.0000, 0.0000, 0.0000, 0.0000, 0.0000,\n",
       "           0.0000, 0.0000, 0.0000, 0.0000, 0.0000, 0.0000, 0.0000, 0.0000,\n",
       "           0.0000, 0.0000, 0.0000, 0.0000, 0.0000, 0.0000, 0.0000, 0.0000,\n",
       "           0.0000, 0.0000, 0.0000, 0.0000],\n",
       "          [0.0000, 0.0000, 0.0000, 0.0000, 0.0000, 0.0000, 0.0000, 0.0000,\n",
       "           0.0000, 0.0000, 0.0000, 0.0000, 0.0000, 0.0000, 0.0000, 0.0000,\n",
       "           0.0000, 0.0000, 0.0000, 0.0000, 0.0000, 0.0000, 0.0000, 0.0000,\n",
       "           0.0000, 0.0000, 0.0000, 0.0000],\n",
       "          [0.0000, 0.0000, 0.0000, 0.0000, 0.0000, 0.0000, 0.0000, 0.0000,\n",
       "           0.0000, 0.0000, 0.0000, 0.0000, 0.0000, 0.0000, 0.0000, 0.0000,\n",
       "           0.0000, 0.0000, 0.0000, 0.0000, 0.0000, 0.0000, 0.0000, 0.0000,\n",
       "           0.0000, 0.0000, 0.0000, 0.0000],\n",
       "          [0.0000, 0.0000, 0.0000, 0.0000, 0.0000, 0.0000, 0.0000, 0.0000,\n",
       "           0.0000, 0.0000, 0.0000, 0.0000, 0.0000, 0.0000, 0.0000, 0.0000,\n",
       "           0.0000, 0.0000, 0.0000, 0.0000, 0.0000, 0.0000, 0.0000, 0.0000,\n",
       "           0.0000, 0.0000, 0.0000, 0.0000],\n",
       "          [0.0000, 0.0000, 0.0000, 0.0000, 0.0000, 0.0000, 0.0000, 0.0000,\n",
       "           0.0000, 0.0000, 0.0000, 0.0000, 0.0000, 0.0000, 0.0000, 0.0000,\n",
       "           0.0000, 0.0000, 0.0000, 0.0000, 0.0000, 0.0000, 0.0000, 0.0000,\n",
       "           0.0000, 0.0000, 0.0000, 0.0000],\n",
       "          [0.0000, 0.0000, 0.0000, 0.0000, 0.0000, 0.0000, 0.0000, 0.0000,\n",
       "           0.0000, 0.0000, 0.0000, 0.0000, 0.0000, 0.0000, 0.0000, 0.0000,\n",
       "           0.0000, 0.0000, 0.0000, 0.0000, 0.0000, 0.0000, 0.0000, 0.0000,\n",
       "           0.0000, 0.0000, 0.0000, 0.0000]]]])"
      ]
     },
     "execution_count": 101,
     "metadata": {},
     "output_type": "execute_result"
    }
   ],
   "source": [
    "images[0].unsqueeze(dim=1)"
   ]
  },
  {
   "cell_type": "code",
   "execution_count": 102,
   "metadata": {},
   "outputs": [],
   "source": [
    "class CNN(nn.Module):\n",
    "    def __init__(self, in_,out_):\n",
    "        super(CNN, self).__init__()\n",
    "        self.conv_pool_01=nn.Sequential(\n",
    "            nn.Conv2d(in_channels=in_, out_channels=8, kernel_size=5, stride=1, padding=0),\n",
    "            nn.ReLU(),\n",
    "            nn.MaxPool2d(kernel_size=2, stride=2)\n",
    "        )\n",
    "        self.conv_pool_02=nn.Sequential(\n",
    "            nn.Conv2d(in_channels=8, out_channels=16,kernel_size=5, stride=1, padding=0 ),\n",
    "            nn.ReLU(),\n",
    "            nn.MaxPool2d(kernel_size=2, stride=2)\n",
    "        )\n",
    "        self.Flatten=nn.Flatten()\n",
    "        self.FC_01=nn.Linear(in_features=16*4*4, out_features=128)\n",
    "        self.FC_02=nn.Linear(in_features=128, out_features=64)\n",
    "        self.FC_03=nn.Linear(in_features=64, out_features=out_)\n",
    "    def forward(self,x):\n",
    "        x=self.conv_pool_01(x)\n",
    "        x=self.conv_pool_02(x)\n",
    "        x=self.Flatten(x)\n",
    "        x=F.relu(self.FC_01(x))\n",
    "        x=F.relu(self.FC_02(x))\n",
    "        x=F.relu(self.FC_03(x))\n",
    "        return x\n",
    "        "
   ]
  },
  {
   "cell_type": "code",
   "execution_count": 103,
   "metadata": {},
   "outputs": [
    {
     "name": "stdout",
     "output_type": "stream",
     "text": [
      "CNN(\n",
      "  (conv_pool_01): Sequential(\n",
      "    (0): Conv2d(1, 8, kernel_size=(5, 5), stride=(1, 1))\n",
      "    (1): ReLU()\n",
      "    (2): MaxPool2d(kernel_size=2, stride=2, padding=0, dilation=1, ceil_mode=False)\n",
      "  )\n",
      "  (conv_pool_02): Sequential(\n",
      "    (0): Conv2d(8, 16, kernel_size=(5, 5), stride=(1, 1))\n",
      "    (1): ReLU()\n",
      "    (2): MaxPool2d(kernel_size=2, stride=2, padding=0, dilation=1, ceil_mode=False)\n",
      "  )\n",
      "  (Flatten): Flatten(start_dim=1, end_dim=-1)\n",
      "  (FC_01): Linear(in_features=256, out_features=128, bias=True)\n",
      "  (FC_02): Linear(in_features=128, out_features=64, bias=True)\n",
      "  (FC_03): Linear(in_features=64, out_features=10, bias=True)\n",
      ")\n"
     ]
    }
   ],
   "source": [
    "model=CNN(1,10)\n",
    "print(model)"
   ]
  },
  {
   "cell_type": "code",
   "execution_count": 104,
   "metadata": {},
   "outputs": [
    {
     "data": {
      "text/plain": [
       "Flatten(start_dim=1, end_dim=-1)"
      ]
     },
     "execution_count": 104,
     "metadata": {},
     "output_type": "execute_result"
    }
   ],
   "source": [
    "model.Flatten"
   ]
  },
  {
   "cell_type": "code",
   "execution_count": 105,
   "metadata": {},
   "outputs": [
    {
     "data": {
      "text/plain": [
       "Sequential(\n",
       "  (0): Conv2d(8, 16, kernel_size=(5, 5), stride=(1, 1))\n",
       "  (1): ReLU()\n",
       "  (2): MaxPool2d(kernel_size=2, stride=2, padding=0, dilation=1, ceil_mode=False)\n",
       ")"
      ]
     },
     "execution_count": 105,
     "metadata": {},
     "output_type": "execute_result"
    }
   ],
   "source": [
    "model.conv_pool_02"
   ]
  },
  {
   "cell_type": "code",
   "execution_count": 106,
   "metadata": {},
   "outputs": [
    {
     "data": {
      "text/plain": [
       "False"
      ]
     },
     "execution_count": 106,
     "metadata": {},
     "output_type": "execute_result"
    }
   ],
   "source": [
    "next(model.parameters()).is_cuda"
   ]
  },
  {
   "cell_type": "code",
   "execution_count": 107,
   "metadata": {},
   "outputs": [
    {
     "data": {
      "text/plain": [
       "CNN(\n",
       "  (conv_pool_01): Sequential(\n",
       "    (0): Conv2d(1, 8, kernel_size=(5, 5), stride=(1, 1))\n",
       "    (1): ReLU()\n",
       "    (2): MaxPool2d(kernel_size=2, stride=2, padding=0, dilation=1, ceil_mode=False)\n",
       "  )\n",
       "  (conv_pool_02): Sequential(\n",
       "    (0): Conv2d(8, 16, kernel_size=(5, 5), stride=(1, 1))\n",
       "    (1): ReLU()\n",
       "    (2): MaxPool2d(kernel_size=2, stride=2, padding=0, dilation=1, ceil_mode=False)\n",
       "  )\n",
       "  (Flatten): Flatten(start_dim=1, end_dim=-1)\n",
       "  (FC_01): Linear(in_features=256, out_features=128, bias=True)\n",
       "  (FC_02): Linear(in_features=128, out_features=64, bias=True)\n",
       "  (FC_03): Linear(in_features=64, out_features=10, bias=True)\n",
       ")"
      ]
     },
     "execution_count": 107,
     "metadata": {},
     "output_type": "execute_result"
    }
   ],
   "source": [
    "model.to(config.DEVICE)"
   ]
  },
  {
   "cell_type": "code",
   "execution_count": 108,
   "metadata": {},
   "outputs": [
    {
     "data": {
      "text/plain": [
       "False"
      ]
     },
     "execution_count": 108,
     "metadata": {},
     "output_type": "execute_result"
    }
   ],
   "source": [
    "next(model.parameters()).is_cuda"
   ]
  },
  {
   "cell_type": "code",
   "execution_count": 109,
   "metadata": {},
   "outputs": [],
   "source": [
    "def count_params(model):\n",
    "    model_params={\"Modules\":list(),\"Parameters\":list()}\n",
    "    total={\"trainable\":0, \"non_trainable\":0}\n",
    "    for name, parameters in model.named_parameters():\n",
    "        param=parameters.numel()# Checking neumerical value\n",
    "        if not parameters.requires_grad:\n",
    "            total[\"non_trainable\"] +=param\n",
    "            continue\n",
    "        \n",
    "        model_params[\"Modules\"].append(name)\n",
    "        model_params[\"Parameters\"].append(param)\n",
    "        total[\"trainable\"] +=param\n",
    "    df=pd.DataFrame(model_params)\n",
    "    df=df.style.set_caption(f\"Total trainable parameters: {total}\")\n",
    "    return df\n",
    "    "
   ]
  },
  {
   "cell_type": "code",
   "execution_count": 110,
   "metadata": {},
   "outputs": [
    {
     "data": {
      "text/html": [
       "<style  type=\"text/css\" >\n",
       "</style><table id=\"T_59e7238f_011e_11ed_928a_74e5f900fbb2\" ><caption>Total trainable parameters: {'trainable': 45226, 'non_trainable': 0}</caption><thead>    <tr>        <th class=\"blank level0\" ></th>        <th class=\"col_heading level0 col0\" >Modules</th>        <th class=\"col_heading level0 col1\" >Parameters</th>    </tr></thead><tbody>\n",
       "                <tr>\n",
       "                        <th id=\"T_59e7238f_011e_11ed_928a_74e5f900fbb2level0_row0\" class=\"row_heading level0 row0\" >0</th>\n",
       "                        <td id=\"T_59e7238f_011e_11ed_928a_74e5f900fbb2row0_col0\" class=\"data row0 col0\" >conv_pool_01.0.weight</td>\n",
       "                        <td id=\"T_59e7238f_011e_11ed_928a_74e5f900fbb2row0_col1\" class=\"data row0 col1\" >200</td>\n",
       "            </tr>\n",
       "            <tr>\n",
       "                        <th id=\"T_59e7238f_011e_11ed_928a_74e5f900fbb2level0_row1\" class=\"row_heading level0 row1\" >1</th>\n",
       "                        <td id=\"T_59e7238f_011e_11ed_928a_74e5f900fbb2row1_col0\" class=\"data row1 col0\" >conv_pool_01.0.bias</td>\n",
       "                        <td id=\"T_59e7238f_011e_11ed_928a_74e5f900fbb2row1_col1\" class=\"data row1 col1\" >8</td>\n",
       "            </tr>\n",
       "            <tr>\n",
       "                        <th id=\"T_59e7238f_011e_11ed_928a_74e5f900fbb2level0_row2\" class=\"row_heading level0 row2\" >2</th>\n",
       "                        <td id=\"T_59e7238f_011e_11ed_928a_74e5f900fbb2row2_col0\" class=\"data row2 col0\" >conv_pool_02.0.weight</td>\n",
       "                        <td id=\"T_59e7238f_011e_11ed_928a_74e5f900fbb2row2_col1\" class=\"data row2 col1\" >3200</td>\n",
       "            </tr>\n",
       "            <tr>\n",
       "                        <th id=\"T_59e7238f_011e_11ed_928a_74e5f900fbb2level0_row3\" class=\"row_heading level0 row3\" >3</th>\n",
       "                        <td id=\"T_59e7238f_011e_11ed_928a_74e5f900fbb2row3_col0\" class=\"data row3 col0\" >conv_pool_02.0.bias</td>\n",
       "                        <td id=\"T_59e7238f_011e_11ed_928a_74e5f900fbb2row3_col1\" class=\"data row3 col1\" >16</td>\n",
       "            </tr>\n",
       "            <tr>\n",
       "                        <th id=\"T_59e7238f_011e_11ed_928a_74e5f900fbb2level0_row4\" class=\"row_heading level0 row4\" >4</th>\n",
       "                        <td id=\"T_59e7238f_011e_11ed_928a_74e5f900fbb2row4_col0\" class=\"data row4 col0\" >FC_01.weight</td>\n",
       "                        <td id=\"T_59e7238f_011e_11ed_928a_74e5f900fbb2row4_col1\" class=\"data row4 col1\" >32768</td>\n",
       "            </tr>\n",
       "            <tr>\n",
       "                        <th id=\"T_59e7238f_011e_11ed_928a_74e5f900fbb2level0_row5\" class=\"row_heading level0 row5\" >5</th>\n",
       "                        <td id=\"T_59e7238f_011e_11ed_928a_74e5f900fbb2row5_col0\" class=\"data row5 col0\" >FC_01.bias</td>\n",
       "                        <td id=\"T_59e7238f_011e_11ed_928a_74e5f900fbb2row5_col1\" class=\"data row5 col1\" >128</td>\n",
       "            </tr>\n",
       "            <tr>\n",
       "                        <th id=\"T_59e7238f_011e_11ed_928a_74e5f900fbb2level0_row6\" class=\"row_heading level0 row6\" >6</th>\n",
       "                        <td id=\"T_59e7238f_011e_11ed_928a_74e5f900fbb2row6_col0\" class=\"data row6 col0\" >FC_02.weight</td>\n",
       "                        <td id=\"T_59e7238f_011e_11ed_928a_74e5f900fbb2row6_col1\" class=\"data row6 col1\" >8192</td>\n",
       "            </tr>\n",
       "            <tr>\n",
       "                        <th id=\"T_59e7238f_011e_11ed_928a_74e5f900fbb2level0_row7\" class=\"row_heading level0 row7\" >7</th>\n",
       "                        <td id=\"T_59e7238f_011e_11ed_928a_74e5f900fbb2row7_col0\" class=\"data row7 col0\" >FC_02.bias</td>\n",
       "                        <td id=\"T_59e7238f_011e_11ed_928a_74e5f900fbb2row7_col1\" class=\"data row7 col1\" >64</td>\n",
       "            </tr>\n",
       "            <tr>\n",
       "                        <th id=\"T_59e7238f_011e_11ed_928a_74e5f900fbb2level0_row8\" class=\"row_heading level0 row8\" >8</th>\n",
       "                        <td id=\"T_59e7238f_011e_11ed_928a_74e5f900fbb2row8_col0\" class=\"data row8 col0\" >FC_03.weight</td>\n",
       "                        <td id=\"T_59e7238f_011e_11ed_928a_74e5f900fbb2row8_col1\" class=\"data row8 col1\" >640</td>\n",
       "            </tr>\n",
       "            <tr>\n",
       "                        <th id=\"T_59e7238f_011e_11ed_928a_74e5f900fbb2level0_row9\" class=\"row_heading level0 row9\" >9</th>\n",
       "                        <td id=\"T_59e7238f_011e_11ed_928a_74e5f900fbb2row9_col0\" class=\"data row9 col0\" >FC_03.bias</td>\n",
       "                        <td id=\"T_59e7238f_011e_11ed_928a_74e5f900fbb2row9_col1\" class=\"data row9 col1\" >10</td>\n",
       "            </tr>\n",
       "    </tbody></table>"
      ],
      "text/plain": [
       "<pandas.io.formats.style.Styler at 0x1908037bd60>"
      ]
     },
     "execution_count": 110,
     "metadata": {},
     "output_type": "execute_result"
    }
   ],
   "source": [
    "count_params(model)"
   ]
  },
  {
   "cell_type": "code",
   "execution_count": 111,
   "metadata": {},
   "outputs": [
    {
     "data": {
      "text/plain": [
       "1875.0"
      ]
     },
     "execution_count": 111,
     "metadata": {},
     "output_type": "execute_result"
    }
   ],
   "source": [
    "60000/32"
   ]
  },
  {
   "cell_type": "code",
   "execution_count": 112,
   "metadata": {},
   "outputs": [],
   "source": [
    "criterion=nn.CrossEntropyLoss()\n",
    "optimizer=torch.optim.Adam(model.parameters(), lr=config.LEARNING_RATE)"
   ]
  },
  {
   "cell_type": "code",
   "execution_count": 113,
   "metadata": {},
   "outputs": [
    {
     "data": {
      "text/plain": [
       "1875"
      ]
     },
     "execution_count": 113,
     "metadata": {},
     "output_type": "execute_result"
    }
   ],
   "source": [
    "len(train_data_loader)# steps per epochs"
   ]
  },
  {
   "cell_type": "code",
   "execution_count": 114,
   "metadata": {},
   "outputs": [
    {
     "name": "stderr",
     "output_type": "stream",
     "text": [
      "Epoch 1/100: 100%|██████| 1875/1875 [00:59<00:00, 31.45it/s, loss=0.959]\n",
      "Epoch 2/100: 100%|██████| 1875/1875 [01:01<00:00, 30.44it/s, loss=0.722]\n",
      "Epoch 3/100: 100%|██████| 1875/1875 [01:00<00:00, 31.12it/s, loss=0.525]\n",
      "Epoch 4/100: 100%|██████| 1875/1875 [01:00<00:00, 30.86it/s, loss=0.719]\n",
      "Epoch 5/100: 100%|████████| 1875/1875 [01:05<00:00, 28.82it/s, loss=1.1]\n",
      "Epoch 6/100: 100%|██████| 1875/1875 [01:03<00:00, 29.75it/s, loss=0.721]\n",
      "Epoch 7/100: 100%|██████| 1875/1875 [01:02<00:00, 30.07it/s, loss=0.625]\n",
      "Epoch 8/100: 100%|██████| 1875/1875 [01:06<00:00, 28.35it/s, loss=0.972]\n",
      "Epoch 9/100: 100%|███████| 1875/1875 [01:05<00:00, 28.76it/s, loss=0.58]\n",
      "Epoch 10/100: 100%|██████| 1875/1875 [01:05<00:00, 28.78it/s, loss=0.54]\n",
      "Epoch 11/100: 100%|█████| 1875/1875 [01:04<00:00, 29.17it/s, loss=0.598]\n",
      "Epoch 12/100: 100%|█████| 1875/1875 [01:07<00:00, 27.69it/s, loss=0.456]\n",
      "Epoch 13/100: 100%|█████| 1875/1875 [01:05<00:00, 28.80it/s, loss=0.642]\n",
      "Epoch 14/100: 100%|█████| 1875/1875 [01:06<00:00, 28.28it/s, loss=0.748]\n",
      "Epoch 15/100: 100%|██████| 1875/1875 [01:06<00:00, 28.41it/s, loss=0.83]\n",
      "Epoch 16/100: 100%|███████| 1875/1875 [01:06<00:00, 28.29it/s, loss=0.7]\n",
      "Epoch 17/100: 100%|██████| 1875/1875 [01:07<00:00, 27.74it/s, loss=0.34]\n",
      "Epoch 18/100: 100%|█████| 1875/1875 [00:52<00:00, 35.86it/s, loss=0.731]\n",
      "Epoch 19/100: 100%|█████| 1875/1875 [01:02<00:00, 29.81it/s, loss=0.681]\n",
      "Epoch 20/100: 100%|█████| 1875/1875 [01:00<00:00, 30.96it/s, loss=0.381]\n",
      "Epoch 21/100: 100%|█████| 1875/1875 [00:39<00:00, 47.53it/s, loss=0.842]\n",
      "Epoch 22/100: 100%|█████| 1875/1875 [00:39<00:00, 47.55it/s, loss=0.503]\n",
      "Epoch 23/100: 100%|█████| 1875/1875 [01:05<00:00, 28.45it/s, loss=0.168]\n",
      "Epoch 24/100: 100%|█████| 1875/1875 [00:38<00:00, 48.92it/s, loss=0.211]\n",
      "Epoch 25/100: 100%|█████| 1875/1875 [00:38<00:00, 49.16it/s, loss=0.672]\n",
      "Epoch 26/100: 100%|█████| 1875/1875 [00:44<00:00, 42.50it/s, loss=0.227]\n",
      "Epoch 27/100: 100%|██████| 1875/1875 [00:39<00:00, 47.00it/s, loss=0.33]\n",
      "Epoch 28/100: 100%|█████| 1875/1875 [00:40<00:00, 46.12it/s, loss=0.277]\n",
      "Epoch 29/100: 100%|██████| 1875/1875 [00:37<00:00, 49.66it/s, loss=0.51]\n",
      "Epoch 30/100: 100%|█████| 1875/1875 [00:57<00:00, 32.33it/s, loss=0.401]\n",
      "Epoch 31/100: 100%|██████| 1875/1875 [00:52<00:00, 35.83it/s, loss=0.31]\n",
      "Epoch 32/100: 100%|█████| 1875/1875 [00:47<00:00, 39.54it/s, loss=0.338]\n",
      "Epoch 33/100: 100%|█████| 1875/1875 [00:42<00:00, 44.37it/s, loss=0.504]\n",
      "Epoch 34/100: 100%|█████| 1875/1875 [00:49<00:00, 37.56it/s, loss=0.185]\n",
      "Epoch 35/100: 100%|██████| 1875/1875 [00:44<00:00, 42.07it/s, loss=0.29]\n",
      "Epoch 36/100: 100%|█████| 1875/1875 [00:38<00:00, 49.00it/s, loss=0.421]\n",
      "Epoch 37/100: 100%|██████| 1875/1875 [00:41<00:00, 44.82it/s, loss=0.36]\n",
      "Epoch 38/100: 100%|██████| 1875/1875 [00:44<00:00, 42.46it/s, loss=0.37]\n",
      "Epoch 39/100: 100%|█████| 1875/1875 [00:45<00:00, 41.58it/s, loss=0.241]\n",
      "Epoch 40/100: 100%|█████| 1875/1875 [00:44<00:00, 42.41it/s, loss=0.454]\n",
      "Epoch 41/100: 100%|█████| 1875/1875 [00:45<00:00, 41.19it/s, loss=0.372]\n",
      "Epoch 42/100: 100%|█████| 1875/1875 [00:42<00:00, 43.99it/s, loss=0.235]\n",
      "Epoch 43/100: 100%|█████| 1875/1875 [00:40<00:00, 46.52it/s, loss=0.554]\n",
      "Epoch 44/100: 100%|█████| 1875/1875 [00:44<00:00, 41.89it/s, loss=0.164]\n",
      "Epoch 45/100: 100%|████| 1875/1875 [00:46<00:00, 40.32it/s, loss=0.0785]\n",
      "Epoch 46/100: 100%|█████| 1875/1875 [00:50<00:00, 37.36it/s, loss=0.102]\n",
      "Epoch 47/100: 100%|█████| 1875/1875 [00:41<00:00, 44.65it/s, loss=0.463]\n",
      "Epoch 48/100: 100%|█████| 1875/1875 [00:47<00:00, 39.40it/s, loss=0.387]\n",
      "Epoch 49/100: 100%|█████| 1875/1875 [00:42<00:00, 44.23it/s, loss=0.261]\n",
      "Epoch 50/100: 100%|█████| 1875/1875 [00:43<00:00, 42.97it/s, loss=0.201]\n",
      "Epoch 51/100: 100%|█████| 1875/1875 [00:39<00:00, 47.60it/s, loss=0.104]\n",
      "Epoch 52/100: 100%|█████| 1875/1875 [00:38<00:00, 48.97it/s, loss=0.369]\n",
      "Epoch 53/100: 100%|█████| 1875/1875 [00:42<00:00, 43.61it/s, loss=0.253]\n",
      "Epoch 54/100: 100%|█████| 1875/1875 [00:49<00:00, 38.23it/s, loss=0.157]\n",
      "Epoch 55/100: 100%|█████| 1875/1875 [00:40<00:00, 46.40it/s, loss=0.266]\n",
      "Epoch 56/100: 100%|█████| 1875/1875 [00:42<00:00, 44.00it/s, loss=0.512]\n",
      "Epoch 57/100: 100%|█████| 1875/1875 [00:42<00:00, 44.43it/s, loss=0.166]\n",
      "Epoch 58/100: 100%|█████| 1875/1875 [00:37<00:00, 49.67it/s, loss=0.181]\n",
      "Epoch 59/100: 100%|█████| 1875/1875 [00:39<00:00, 47.90it/s, loss=0.106]\n",
      "Epoch 60/100: 100%|█████| 1875/1875 [00:37<00:00, 50.41it/s, loss=0.206]\n",
      "Epoch 61/100: 100%|█████| 1875/1875 [00:45<00:00, 40.86it/s, loss=0.365]\n",
      "Epoch 62/100: 100%|█████| 1875/1875 [00:53<00:00, 34.81it/s, loss=0.385]\n",
      "Epoch 63/100: 100%|█████| 1875/1875 [00:53<00:00, 35.21it/s, loss=0.316]\n",
      "Epoch 64/100: 100%|████| 1875/1875 [00:53<00:00, 34.81it/s, loss=0.0419]\n",
      "Epoch 65/100: 100%|█████| 1875/1875 [00:53<00:00, 34.88it/s, loss=0.216]\n",
      "Epoch 66/100: 100%|█████| 1875/1875 [00:53<00:00, 34.83it/s, loss=0.269]\n",
      "Epoch 67/100: 100%|██████| 1875/1875 [00:53<00:00, 35.25it/s, loss=0.36]\n",
      "Epoch 68/100: 100%|█████| 1875/1875 [00:54<00:00, 34.14it/s, loss=0.281]\n",
      "Epoch 69/100: 100%|█████| 1875/1875 [00:50<00:00, 37.40it/s, loss=0.227]\n",
      "Epoch 70/100: 100%|█████| 1875/1875 [00:51<00:00, 36.44it/s, loss=0.218]\n",
      "Epoch 71/100: 100%|████| 1875/1875 [00:48<00:00, 38.55it/s, loss=0.0202]\n",
      "Epoch 72/100: 100%|█████| 1875/1875 [00:48<00:00, 38.84it/s, loss=0.217]\n",
      "Epoch 73/100: 100%|█████| 1875/1875 [00:48<00:00, 38.48it/s, loss=0.242]\n",
      "Epoch 74/100: 100%|█████| 1875/1875 [00:47<00:00, 39.19it/s, loss=0.369]\n",
      "Epoch 75/100: 100%|█████| 1875/1875 [00:48<00:00, 38.43it/s, loss=0.187]\n",
      "Epoch 76/100: 100%|███████| 1875/1875 [00:50<00:00, 36.91it/s, loss=0.2]\n",
      "Epoch 77/100: 100%|█████| 1875/1875 [00:59<00:00, 31.33it/s, loss=0.156]\n",
      "Epoch 78/100: 100%|█████| 1875/1875 [01:01<00:00, 30.64it/s, loss=0.545]\n",
      "Epoch 79/100: 100%|██████| 1875/1875 [00:49<00:00, 38.03it/s, loss=0.15]\n",
      "Epoch 80/100: 100%|██████| 1875/1875 [00:49<00:00, 38.08it/s, loss=0.34]\n",
      "Epoch 81/100: 100%|█████| 1875/1875 [00:47<00:00, 39.07it/s, loss=0.316]\n",
      "Epoch 82/100: 100%|█████| 1875/1875 [00:49<00:00, 37.76it/s, loss=0.233]\n",
      "Epoch 83/100: 100%|███| 1875/1875 [00:53<00:00, 35.19it/s, loss=0.00408]\n",
      "Epoch 84/100: 100%|█████| 1875/1875 [00:51<00:00, 36.57it/s, loss=0.229]\n",
      "Epoch 85/100: 100%|████| 1875/1875 [00:57<00:00, 32.44it/s, loss=0.0721]\n",
      "Epoch 86/100: 100%|█████| 1875/1875 [01:00<00:00, 31.18it/s, loss=0.148]\n",
      "Epoch 87/100: 100%|██████| 1875/1875 [00:56<00:00, 33.03it/s, loss=0.22]\n",
      "Epoch 88/100: 100%|█████| 1875/1875 [00:56<00:00, 33.04it/s, loss=0.319]\n",
      "Epoch 89/100: 100%|█████| 1875/1875 [00:56<00:00, 33.00it/s, loss=0.232]\n",
      "Epoch 90/100: 100%|████| 1875/1875 [01:04<00:00, 29.08it/s, loss=0.0759]\n",
      "Epoch 91/100: 100%|█████| 1875/1875 [00:58<00:00, 32.28it/s, loss=0.605]\n",
      "Epoch 92/100: 100%|█████| 1875/1875 [00:56<00:00, 33.01it/s, loss=0.369]\n",
      "Epoch 93/100: 100%|█████| 1875/1875 [01:01<00:00, 30.63it/s, loss=0.474]\n",
      "Epoch 94/100: 100%|█████| 1875/1875 [01:00<00:00, 31.04it/s, loss=0.147]\n",
      "Epoch 95/100: 100%|█████| 1875/1875 [00:55<00:00, 33.76it/s, loss=0.681]\n",
      "Epoch 96/100: 100%|█████| 1875/1875 [00:46<00:00, 40.31it/s, loss=0.291]\n",
      "Epoch 97/100: 100%|████| 1875/1875 [00:48<00:00, 38.76it/s, loss=0.0757]\n",
      "Epoch 98/100: 100%|████| 1875/1875 [00:45<00:00, 41.62it/s, loss=0.0842]\n",
      "Epoch 99/100: 100%|█████| 1875/1875 [00:43<00:00, 43.36it/s, loss=0.318]\n",
      "Epoch 100/100: 100%|████| 1875/1875 [00:43<00:00, 43.39it/s, loss=0.224]\n"
     ]
    }
   ],
   "source": [
    "# Trining Loop\n",
    "for epoch in range(config.EPOCH):\n",
    "    with tqdm(train_data_loader) as tqdm_epoch:\n",
    "        for images, labels in tqdm_epoch:\n",
    "            tqdm_epoch.set_description(f\"Epoch {epoch+1}/{config.EPOCH}\")\n",
    "            # put the images on device\n",
    "            images=images.to(config.DEVICE)\n",
    "            labels=labels.to(config.DEVICE)\n",
    "            \n",
    "            #forqward pass\n",
    "            outputs=model(images)\n",
    "            loss=criterion(outputs, labels)# passing the predicted and targets value\n",
    "            # Backward propagations\n",
    "            optimizer.zero_grad()# past gradient\n",
    "            loss.backward()# calulate the gradient of each weights\n",
    "            optimizer.step()# weight updated\n",
    "            \n",
    "            tqdm_epoch.set_postfix(loss=loss.item())\n",
    "    "
   ]
  },
  {
   "cell_type": "code",
   "execution_count": 115,
   "metadata": {},
   "outputs": [],
   "source": [
    "os.makedirs(\"model_dir\", exist_ok=True)\n",
    "model_file_path=os.path.join(\"model_dir\",\"CNN_model.pth\")\n",
    "torch.save(model, model_file_path)"
   ]
  },
  {
   "cell_type": "code",
   "execution_count": 116,
   "metadata": {},
   "outputs": [],
   "source": [
    "#load the model\n",
    "load_model=torch.load(model_file_path)"
   ]
  },
  {
   "cell_type": "code",
   "execution_count": 117,
   "metadata": {},
   "outputs": [],
   "source": [
    "# Evaluate the model\n",
    "pred=np.array([])\n",
    "target=np.array([])\n",
    "with torch.no_grad():\n",
    "    for batch, data in enumerate(test_data_loader):\n",
    "        images=data[0].to(config.DEVICE)\n",
    "        labels=data[1].to(config.DEVICE)\n",
    "        y_pred=model(images)\n",
    "        pred=np.concatenate((pred, torch.argmax(y_pred,1).cpu().numpy()))\n",
    "        target=np.concatenate((target, labels.cpu().numpy()))"
   ]
  },
  {
   "cell_type": "code",
   "execution_count": 118,
   "metadata": {},
   "outputs": [
    {
     "data": {
      "text/plain": [
       "array([[815,   3,  25,  26,   6,   1, 114,   0,  10,   0],\n",
       "       [  1, 978,   0,  14,   4,   0,   2,   0,   1,   0],\n",
       "       [ 19,   1, 863,   6,  56,   0,  52,   0,   3,   0],\n",
       "       [ 17,  10,  15, 879,  41,   0,  37,   0,   1,   0],\n",
       "       [  6,   1,  90,  29, 805,   0,  68,   0,   1,   0],\n",
       "       [ 20,   0,   0,   0,   0, 958,   0,  21,   1,   0],\n",
       "       [102,   3, 116,  23,  74,   0, 669,   0,  13,   0],\n",
       "       [ 32,   0,   0,   0,   0,  14,   0, 954,   0,   0],\n",
       "       [  8,   1,   5,   6,   4,   0,   9,   2, 965,   0],\n",
       "       [951,   0,   0,   0,   0,   3,   1,  45,   0,   0]], dtype=int64)"
      ]
     },
     "execution_count": 118,
     "metadata": {},
     "output_type": "execute_result"
    }
   ],
   "source": [
    "# Comfusion matrix\n",
    "cm=confusion_matrix(target, pred)\n",
    "cm"
   ]
  },
  {
   "cell_type": "code",
   "execution_count": 119,
   "metadata": {},
   "outputs": [
    {
     "data": {
      "text/plain": [
       "<AxesSubplot:>"
      ]
     },
     "execution_count": 119,
     "metadata": {},
     "output_type": "execute_result"
    },
    {
     "data": {
      "image/png": "[encoded data removed]",
      "text/plain": [
       "<Figure size 864x720 with 2 Axes>"
      ]
     },
     "metadata": {
      "needs_background": "light"
     },
     "output_type": "display_data"
    }
   ],
   "source": [
    "plt.figure(figsize=(12,10))\n",
    "sns.heatmap(cm, annot=True, fmt='d')"
   ]
  },
  {
   "cell_type": "code",
   "execution_count": 121,
   "metadata": {},
   "outputs": [
    {
     "data": {
      "text/plain": [
       "<AxesSubplot:>"
      ]
     },
     "execution_count": 121,
     "metadata": {},
     "output_type": "execute_result"
    },
    {
     "data": {
      "image/png": "[encoded data removed]",
      "text/plain": [
       "<Figure size 864x720 with 2 Axes>"
      ]
     },
     "metadata": {
      "needs_background": "light"
     },
     "output_type": "display_data"
    }
   ],
   "source": [
    "plt.figure(figsize=(12,10))\n",
    "sns.heatmap(cm, annot=True, fmt='d',xticklabels=label_map.values(),yticklabels=label_map.values())"
   ]
  },
  {
   "cell_type": "code",
   "execution_count": 120,
   "metadata": {},
   "outputs": [
    {
     "data": {
      "text/plain": [
       "{0: 'T-shirt/top',\n",
       " 1: 'Trouser',\n",
       " 2: 'Pullover',\n",
       " 3: 'Dress',\n",
       " 4: 'Coat',\n",
       " 5: 'Sandal',\n",
       " 6: 'Shirt',\n",
       " 7: 'Sneaker',\n",
       " 8: 'Bag',\n",
       " 9: 'Ankle boot'}"
      ]
     },
     "execution_count": 120,
     "metadata": {},
     "output_type": "execute_result"
    }
   ],
   "source": [
    "label_map"
   ]
  },
  {
   "cell_type": "code",
   "execution_count": 122,
   "metadata": {},
   "outputs": [],
   "source": [
    "data=next(iter(test_data_loader))"
   ]
  },
  {
   "cell_type": "code",
   "execution_count": 123,
   "metadata": {},
   "outputs": [
    {
     "data": {
      "text/plain": [
       "[tensor([[[[0.0000, 0.0000, 0.0000,  ..., 0.0000, 0.0000, 0.0000],\n",
       "           [0.0000, 0.0000, 0.0000,  ..., 0.0000, 0.0000, 0.0000],\n",
       "           [0.0000, 0.0000, 0.0000,  ..., 0.0000, 0.0000, 0.0000],\n",
       "           ...,\n",
       "           [0.0000, 0.0000, 0.0000,  ..., 0.0000, 0.0000, 0.0000],\n",
       "           [0.0000, 0.0000, 0.0000,  ..., 0.0000, 0.0000, 0.0000],\n",
       "           [0.0000, 0.0000, 0.0000,  ..., 0.0000, 0.0000, 0.0000]]],\n",
       " \n",
       " \n",
       "         [[[0.0000, 0.0000, 0.0000,  ..., 0.0000, 0.0000, 0.0000],\n",
       "           [0.0000, 0.0000, 0.0000,  ..., 0.0000, 0.0000, 0.0000],\n",
       "           [0.0000, 0.0000, 0.0000,  ..., 0.0000, 0.0000, 0.0000],\n",
       "           ...,\n",
       "           [0.0000, 0.0000, 0.0000,  ..., 0.0000, 0.0000, 0.0000],\n",
       "           [0.0000, 0.0000, 0.0000,  ..., 0.0000, 0.0000, 0.0000],\n",
       "           [0.0000, 0.0000, 0.0000,  ..., 0.0000, 0.0000, 0.0000]]],\n",
       " \n",
       " \n",
       "         [[[0.0000, 0.0000, 0.0000,  ..., 0.0000, 0.0000, 0.0000],\n",
       "           [0.0000, 0.0000, 0.0000,  ..., 0.0000, 0.0000, 0.0000],\n",
       "           [0.0000, 0.0000, 0.0000,  ..., 0.0000, 0.0000, 0.0000],\n",
       "           ...,\n",
       "           [0.0000, 0.0000, 0.0000,  ..., 0.0000, 0.0000, 0.0000],\n",
       "           [0.0000, 0.0000, 0.0000,  ..., 0.0000, 0.0000, 0.0000],\n",
       "           [0.0000, 0.0000, 0.0000,  ..., 0.0000, 0.0000, 0.0000]]],\n",
       " \n",
       " \n",
       "         ...,\n",
       " \n",
       " \n",
       "         [[[0.0000, 0.0000, 0.0000,  ..., 0.0000, 0.0000, 0.0000],\n",
       "           [0.0000, 0.0000, 0.0000,  ..., 0.0000, 0.0000, 0.0000],\n",
       "           [0.0000, 0.0000, 0.0000,  ..., 0.0000, 0.0000, 0.0000],\n",
       "           ...,\n",
       "           [0.0000, 0.0000, 0.0000,  ..., 0.0000, 0.0000, 0.0000],\n",
       "           [0.0000, 0.0000, 0.0000,  ..., 0.0000, 0.0000, 0.0000],\n",
       "           [0.0000, 0.0000, 0.0000,  ..., 0.0000, 0.0000, 0.0000]]],\n",
       " \n",
       " \n",
       "         [[[0.0000, 0.0000, 0.0000,  ..., 0.0000, 0.0000, 0.0000],\n",
       "           [0.0000, 0.0000, 0.0000,  ..., 0.0000, 0.0000, 0.0000],\n",
       "           [0.0000, 0.0000, 0.0000,  ..., 0.0000, 0.0000, 0.0000],\n",
       "           ...,\n",
       "           [0.0000, 0.0000, 0.0000,  ..., 0.9020, 0.9608, 0.8000],\n",
       "           [0.0000, 0.0000, 0.0000,  ..., 0.6745, 0.7255, 0.4000],\n",
       "           [0.0000, 0.0000, 0.0000,  ..., 0.0000, 0.0000, 0.0000]]],\n",
       " \n",
       " \n",
       "         [[[0.0000, 0.0000, 0.0000,  ..., 0.0000, 0.0000, 0.0000],\n",
       "           [0.0000, 0.0000, 0.0000,  ..., 0.0000, 0.0000, 0.0000],\n",
       "           [0.0000, 0.0000, 0.0000,  ..., 0.0000, 0.0000, 0.0000],\n",
       "           ...,\n",
       "           [0.0000, 0.0000, 0.0000,  ..., 0.0000, 0.0000, 0.0000],\n",
       "           [0.0000, 0.0000, 0.0000,  ..., 0.0000, 0.0000, 0.0000],\n",
       "           [0.0000, 0.0000, 0.0000,  ..., 0.0000, 0.0000, 0.0000]]]]),\n",
       " tensor([9, 2, 1, 1, 6, 1, 4, 6, 5, 7, 4, 5, 7, 3, 4, 1, 2, 4, 8, 0, 2, 5, 7, 9,\n",
       "         1, 4, 6, 0, 9, 3, 8, 8])]"
      ]
     },
     "execution_count": 123,
     "metadata": {},
     "output_type": "execute_result"
    }
   ],
   "source": [
    "data"
   ]
  },
  {
   "cell_type": "code",
   "execution_count": 124,
   "metadata": {},
   "outputs": [
    {
     "data": {
      "text/plain": [
       "2"
      ]
     },
     "execution_count": 124,
     "metadata": {},
     "output_type": "execute_result"
    }
   ],
   "source": [
    "len(data)"
   ]
  },
  {
   "cell_type": "code",
   "execution_count": 125,
   "metadata": {},
   "outputs": [],
   "source": [
    "images, labels=data"
   ]
  },
  {
   "cell_type": "code",
   "execution_count": 126,
   "metadata": {},
   "outputs": [
    {
     "data": {
      "text/plain": [
       "torch.Size([32, 1, 28, 28])"
      ]
     },
     "execution_count": 126,
     "metadata": {},
     "output_type": "execute_result"
    }
   ],
   "source": [
    "images.shape"
   ]
  },
  {
   "cell_type": "code",
   "execution_count": 127,
   "metadata": {},
   "outputs": [
    {
     "data": {
      "text/plain": [
       "torch.Size([1, 28, 28])"
      ]
     },
     "execution_count": 127,
     "metadata": {},
     "output_type": "execute_result"
    }
   ],
   "source": [
    "idx=2\n",
    "img=images[idx]\n",
    "img.shape\n"
   ]
  },
  {
   "cell_type": "code",
   "execution_count": 133,
   "metadata": {},
   "outputs": [
    {
     "data": {
      "text/plain": [
       "'Trouser'"
      ]
     },
     "execution_count": 133,
     "metadata": {},
     "output_type": "execute_result"
    }
   ],
   "source": [
    "label=labels[idx]\n",
    "label_map[label.item()]"
   ]
  },
  {
   "cell_type": "code",
   "execution_count": 130,
   "metadata": {},
   "outputs": [
    {
     "data": {
      "text/plain": [
       "<matplotlib.image.AxesImage at 0x19085f1dc70>"
      ]
     },
     "execution_count": 130,
     "metadata": {},
     "output_type": "execute_result"
    },
    {
     "data": {
      "image/png": "[encoded data removed]",
      "text/plain": [
       "<Figure size 432x288 with 1 Axes>"
      ]
     },
     "metadata": {
      "needs_background": "light"
     },
     "output_type": "display_data"
    }
   ],
   "source": [
    "plt.imshow(img.squeeze(), cmap=\"gray\")"
   ]
  },
  {
   "cell_type": "code",
   "execution_count": 136,
   "metadata": {},
   "outputs": [
    {
     "data": {
      "text/plain": [
       "torch.Size([1, 1, 28, 28])"
      ]
     },
     "execution_count": 136,
     "metadata": {},
     "output_type": "execute_result"
    }
   ],
   "source": [
    "img.unsqueeze(dim=1).shape"
   ]
  },
  {
   "cell_type": "code",
   "execution_count": 138,
   "metadata": {},
   "outputs": [
    {
     "data": {
      "text/plain": [
       "tensor([[  0.0000, 199.5663,   8.9984,  73.9927,   0.0000,   0.0000,   0.0000,\n",
       "           0.0000,   0.0000,   0.0000]], grad_fn=<ReluBackward0>)"
      ]
     },
     "execution_count": 138,
     "metadata": {},
     "output_type": "execute_result"
    }
   ],
   "source": [
    "logit=model(img.unsqueeze(dim=1).to(config.DEVICE))\n",
    "logit"
   ]
  },
  {
   "cell_type": "code",
   "execution_count": 139,
   "metadata": {},
   "outputs": [
    {
     "data": {
      "text/plain": [
       "282.55740000000003"
      ]
     },
     "execution_count": 139,
     "metadata": {},
     "output_type": "execute_result"
    }
   ],
   "source": [
    "sum([0.0000, 199.5663,   8.9984,  73.9927,   0.0000,   0.0000,   0.0000,\n",
    "           0.0000,   0.0000,   0.0000])"
   ]
  },
  {
   "cell_type": "code",
   "execution_count": 142,
   "metadata": {},
   "outputs": [],
   "source": [
    "predicted_proba=F.softmax(logit, dim=1)"
   ]
  },
  {
   "cell_type": "code",
   "execution_count": 144,
   "metadata": {},
   "outputs": [
    {
     "data": {
      "text/plain": [
       "1"
      ]
     },
     "execution_count": 144,
     "metadata": {},
     "output_type": "execute_result"
    }
   ],
   "source": [
    "argmax=torch.argmax(predicted_proba).item()\n",
    "argmax"
   ]
  },
  {
   "cell_type": "code",
   "execution_count": 145,
   "metadata": {},
   "outputs": [
    {
     "data": {
      "text/plain": [
       "'Trouser'"
      ]
     },
     "execution_count": 145,
     "metadata": {},
     "output_type": "execute_result"
    }
   ],
   "source": [
    "label_map[argmax]"
   ]
  },
  {
   "cell_type": "code",
   "execution_count": 148,
   "metadata": {},
   "outputs": [],
   "source": [
    "def predict(data, model, label_map, device, idx=0):\n",
    "    images, labels=data\n",
    "    img=images[idx]\n",
    "    label=labels[idx]\n",
    "    plt.imshow(img.squeeze(), cmap=\"gray\")\n",
    "    logit=model(img.unsqueeze(dim=1).to(config.DEVICE))\n",
    "    predicted_proba=F.softmax(logit, dim=1)\n",
    "    argmax=torch.argmax(predicted_proba).item()\n",
    "    predicted_label=label_map[argmax]\n",
    "    actual_label=label_map[label.item()]\n",
    "    plt.title(f\"actual: {actual_label} | predicted: {predicted_label}\")\n",
    "    return predicted_label, actual_label\n"
   ]
  },
  {
   "cell_type": "code",
   "execution_count": 149,
   "metadata": {},
   "outputs": [
    {
     "data": {
      "text/plain": [
       "('Trouser', 'Trouser')"
      ]
     },
     "execution_count": 149,
     "metadata": {},
     "output_type": "execute_result"
    },
    {
     "data": {
      "image/png": "[encoded data removed]",
      "text/plain": [
       "<Figure size 432x288 with 1 Axes>"
      ]
     },
     "metadata": {
      "needs_background": "light"
     },
     "output_type": "display_data"
    }
   ],
   "source": [
    "predict(data, model, label_map, config.DEVICE,idx=2)"
   ]
  },
  {
   "cell_type": "code",
   "execution_count": null,
   "metadata": {},
   "outputs": [],
   "source": []
  }
 ],
 "metadata": {
  "kernelspec": {
   "display_name": "Python 3",
   "language": "python",
   "name": "python3"
  },
  "language_info": {
   "codemirror_mode": {
    "name": "ipython",
    "version": 3
   },
   "file_extension": ".py",
   "mimetype": "text/x-python",
   "name": "python",
   "nbconvert_exporter": "python",
   "pygments_lexer": "ipython3",
   "version": "3.8.5"
  }
 },
 "nbformat": 4,
 "nbformat_minor": 4
}
