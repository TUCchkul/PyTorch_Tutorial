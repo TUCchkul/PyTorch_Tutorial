{
 "cells": [
  {
   "cell_type": "markdown",
   "metadata": {},
   "source": [
    "## Roadmap 1 - Pytorch Main Module\n",
    "1.1.  torch.is_tensor   - returns true if object is a tensor\n",
    "\n",
    "1.2.  torch.tensor      - Constructs a tensor with data\n",
    "\n",
    "1.3.  torch.from_numpy  - From numpy array to Tensor \n",
    "\n",
    "\n",
    "2.1.  torch.zeros       - Returns a tensor filled with the scalar value 0\n",
    "\n",
    "2.2.  torch.ones        - Returns a tensor filled with the scalar value 1\n",
    "\n",
    "2.3.  torch.empty       - Returns an empty tensor.\n",
    "\n",
    "3.1.  torch.arange      - Returns a 1-D tensor of size ⌊end−start]/[step⌋ with values from the interval\n",
    "\n",
    "3.2.  torch.linspace    - Returns a one-dimensional tensor of steps equally spaced points between start and end\n",
    "\n",
    "3.3.  torch.logspace    - Returns a one-dimensional tensor of steps points logarithmically spaced \n",
    "\n",
    "4.1.  torch.eye         - Returns a 2-D tensor with ones on the diagonal and zeros elsewhere.\n",
    "\n",
    "4.2.  torch.full        - Returns a tensor of size size filled with fill_value\n",
    "\n",
    "5.1.  torch.cat         - Concatenates the given sequence of seq tensors in the given dimension.\n",
    "\n",
    "5.2.  torch.masked_select - Returns a new 1-D tensor which indexes the input tensor according to \n",
    "                            the binary mask mask which is a ByteTensor.\n",
    "5.3.  torch.nonzero     - Returns a tensor containing the indices of all non-zero elements of input. \n",
    "\n",
    "5.4.  torch.where       - Return a tensor of elements selected from either x or y, depending on condition\n",
    "\n",
    "6.1.  torch.reshape     - Returns a reshaped tensor\n",
    "\n",
    "6.2.  torch.squeeze     - Returns a tensor with all the dimensions of input of size 1 removed.\n",
    "\n",
    "6.3.  torch.take        - Returns a new tensor with the elements of input at the given indices.\n",
    "\n",
    "6.4.  torch.t           - Expects input to be a matrix (2-D tensor) and transposes dimensions 0 and 1.\n",
    "\n",
    "6.5.  torch.transpose   - Returns a tensor that is a transposed version of input.\n",
    "\n",
    "6.6.  torch.unsqueeze   - Returns a new tensor with a dimension of size one inserted at the specified position.\n",
    "\n",
    "7.1.  torch.normal      - Returns a tensor of random numbers drawn from separate normal distributions \n",
    "\n",
    "7.2.  torch.rand        - Returns a tensor filled with random numbers from a uniform distribution on the\n",
    "                            interval [0,1)\n",
    "                            \n",
    "7.3.  torch.randint     - Returns a tensor filled with random integers generated uniformly between low \n",
    "                          (inclusive) and high (exclusive).\n",
    "                          \n",
    "7.4.  torch.randn       - Returns a tensor filled with random numbers from a normal distribution with mean 0 \n",
    "                          and variance 1 (also called the standard normal distribution).\n",
    "\n",
    "8.1.  torch.save        - Saves an object to a disk file.\n",
    "\n",
    "8.2.  tensor.load       - Loads an object saved with torch.save() from a file.\n",
    "\n",
    "8.3.  torch.no_grad()   - Disable grad\n",
    "\n",
    "8.4.  torch.enable_grad()  - Enable grad\n",
    "\n",
    "8.5.  torch.is_nan      - Check if any nan value are there in tensor\n",
    "\n",
    "8.6.  torch.device()    - Switch between cpu, gpu\n",
    "\n",
    "8.7.  torch.autograd.profiler.profile - Context manager that manages autograd profiler state and holds a summary of results."
   ]
  },
  {
   "cell_type": "code",
   "execution_count": 2,
   "metadata": {},
   "outputs": [],
   "source": [
    "import os\n",
    "import sys\n",
    "import torch\n",
    "import numpy as np"
   ]
  },
  {
   "cell_type": "code",
   "execution_count": 3,
   "metadata": {},
   "outputs": [
    {
     "name": "stdout",
     "output_type": "stream",
     "text": [
      "Is x is a tensor: False\n"
     ]
    }
   ],
   "source": [
    "# Checking tensor\n",
    "'''\n",
    " torch.is_tensor - returns true if object is a tensor\n",
    "'''\n",
    "x=np.matrix('1 2; 3 4')\n",
    "value=torch.is_tensor(x)\n",
    "print(f\"Is x is a tensor: {value}\")"
   ]
  },
  {
   "cell_type": "code",
   "execution_count": 8,
   "metadata": {},
   "outputs": [
    {
     "name": "stdout",
     "output_type": "stream",
     "text": [
      "Numpy to tensor: \n",
      " type:<class 'numpy.matrix'> \n",
      " type: <class 'torch.Tensor'> \n",
      "\n",
      "Numpy to Matrix: \n",
      " [[1 2]\n",
      " [3 4]] \n",
      " Numpy to Tensor: tensor([[1, 2],\n",
      "        [3, 4]], dtype=torch.int32) \n",
      "\n"
     ]
    }
   ],
   "source": [
    "# Torch Tensor\n",
    "'''\n",
    "1.2. torch.tensor - Constructs a tensor with data\n",
    "        - data (array_like) – Can be a list, tuple, NumPy ndarray, scalar, and other types.\n",
    "'''\n",
    "# Numpy to Tensor\n",
    "x=np.matrix('1 2; 3 4')\n",
    "x_tensor=torch.tensor(x)\n",
    "print(f\"Numpy to tensor: \\n type:{type(x)} \\n type: {type(x_tensor)} \\n\")\n",
    "print(f\"Numpy to Matrix: \\n {x} \\n Numpy to Tensor: {x_tensor} \\n\")"
   ]
  },
  {
   "cell_type": "code",
   "execution_count": 11,
   "metadata": {},
   "outputs": [
    {
     "name": "stdout",
     "output_type": "stream",
     "text": [
      "List to tensor: \n",
      " type:<class 'list'> \n",
      " type: <class 'torch.Tensor'> \n",
      "\n",
      "Lisz to Matrix: \n",
      " [1, 2, 2, 4] \n",
      " Numpy to Tensor: tensor([1, 2, 2, 4]) \n",
      "\n"
     ]
    }
   ],
   "source": [
    "# List to Tensor\n",
    "x=[1,2,2,4]\n",
    "x_tensor=(torch.tensor(x))\n",
    "print(f\"List to tensor: \\n type:{type(x)} \\n type: {type(x_tensor)} \\n\")\n",
    "print(f\"Lisz to Matrix: \\n {x} \\n Numpy to Tensor: {x_tensor} \\n\")"
   ]
  },
  {
   "cell_type": "code",
   "execution_count": 13,
   "metadata": {},
   "outputs": [
    {
     "name": "stdout",
     "output_type": "stream",
     "text": [
      "Scaler to Tensor: <class 'float'>\n",
      " <class 'torch.Tensor'> \n",
      " 3.1419999599456787\n"
     ]
    }
   ],
   "source": [
    "# Scaler to Tensor\n",
    "x=3.142\n",
    "x_tensor=torch.tensor(x)\n",
    "print(f\"Scaler to Tensor: {type(x)}\\n {type(x_tensor)} \\n {x_tensor}\")"
   ]
  },
  {
   "cell_type": "code",
   "execution_count": 14,
   "metadata": {},
   "outputs": [
    {
     "name": "stdout",
     "output_type": "stream",
     "text": [
      "Scaler to Tensor: <class 'list'>\n",
      " <class 'torch.Tensor'> \n",
      " tensor([])\n"
     ]
    }
   ],
   "source": [
    "# Empty list to Tensor\n",
    "x=[]\n",
    "x_tensor=torch.tensor(x)\n",
    "print(f\"Scaler to Tensor: {type(x)}\\n {type(x_tensor)} \\n {x_tensor}\")"
   ]
  },
  {
   "cell_type": "code",
   "execution_count": 16,
   "metadata": {},
   "outputs": [
    {
     "name": "stdout",
     "output_type": "stream",
     "text": [
      "Type of x:  <class 'numpy.ndarray'>\n",
      "Type of x_t:  <class 'torch.Tensor'>\n",
      "Type of x_n:  <class 'numpy.ndarray'>\n",
      "tensor([1, 2, 3], dtype=torch.int32)\n",
      "[1 2 3]\n"
     ]
    }
   ],
   "source": [
    "# From numpy array to Tensor \n",
    "# From Tensor to numpy array\n",
    "\n",
    "'''\n",
    "1.3 torch.from_numpy() - Numpy to Tensor\n",
    "\n",
    "    numpy() - Tensor to Numpy\n",
    "\n",
    "'''\n",
    "\n",
    "\n",
    "x = np.array([1, 2, 3])\n",
    "print(\"Type of x: \", type(x))\n",
    "x_t = torch.from_numpy(x)\n",
    "print(\"Type of x_t: \", type(x_t))\n",
    "x_n = x_t.numpy()\n",
    "print(\"Type of x_n: \", type(x_n))\n",
    "print(x_t)\n",
    "print(x_n)"
   ]
  },
  {
   "cell_type": "code",
   "execution_count": 18,
   "metadata": {},
   "outputs": [
    {
     "name": "stdout",
     "output_type": "stream",
     "text": [
      "tensor([[0., 0., 0.],\n",
      "        [0., 0., 0.]])\n"
     ]
    }
   ],
   "source": [
    "# Zeros\n",
    "\n",
    "'''\n",
    "2.1. torch.zeros - Returns a tensor filled with the scalar value 0, with the shape defined by the variable argument\n",
    "        - sizes - Mention the ND array size\n",
    "        - dtype - Data type.\n",
    "'''\n",
    "#rows - 2, columns - 3\n",
    "x_t1=torch.zeros(2,3)\n",
    "print(x_t1)"
   ]
  },
  {
   "cell_type": "code",
   "execution_count": 22,
   "metadata": {},
   "outputs": [
    {
     "name": "stdout",
     "output_type": "stream",
     "text": [
      "tensor([0., 0., 0., 0., 0.])\n"
     ]
    }
   ],
   "source": [
    "x_t2=torch.zeros(5)\n",
    "print(x_t2)"
   ]
  },
  {
   "cell_type": "code",
   "execution_count": 26,
   "metadata": {},
   "outputs": [
    {
     "name": "stdout",
     "output_type": "stream",
     "text": [
      "tensor([[[0., 0., 0.],\n",
      "         [0., 0., 0.]],\n",
      "\n",
      "        [[0., 0., 0.],\n",
      "         [0., 0., 0.]],\n",
      "\n",
      "        [[0., 0., 0.],\n",
      "         [0., 0., 0.]],\n",
      "\n",
      "        [[0., 0., 0.],\n",
      "         [0., 0., 0.]]])\n"
     ]
    }
   ],
   "source": [
    "#depth - 4, rows - 2, columns - 3\n",
    "x_t2=torch.zeros(4,2,3)\n",
    "print(x_t2)"
   ]
  },
  {
   "cell_type": "code",
   "execution_count": 24,
   "metadata": {},
   "outputs": [
    {
     "data": {
      "text/plain": [
       "torch.Size([4, 2, 3])"
      ]
     },
     "execution_count": 24,
     "metadata": {},
     "output_type": "execute_result"
    }
   ],
   "source": [
    "x_t2.shape"
   ]
  },
  {
   "cell_type": "code",
   "execution_count": 25,
   "metadata": {},
   "outputs": [
    {
     "data": {
      "text/plain": [
       "torch.Tensor"
      ]
     },
     "execution_count": 25,
     "metadata": {},
     "output_type": "execute_result"
    }
   ],
   "source": [
    "type(x_t2)"
   ]
  },
  {
   "cell_type": "code",
   "execution_count": 27,
   "metadata": {},
   "outputs": [
    {
     "name": "stdout",
     "output_type": "stream",
     "text": [
      "tensor([[1., 1., 1.],\n",
      "        [1., 1., 1.]])\n"
     ]
    }
   ],
   "source": [
    "#ones\n",
    "'''\n",
    "2.2. torch.ones - Returns a tensor filled with the scalar value 1, with the shape defined by the variable argument \n",
    "        - sizes - Mention the ND array size\n",
    "        - dtype - Data type.\n",
    "'''\n",
    "x_t1=torch.ones(2,3)\n",
    "print(x_t1)"
   ]
  },
  {
   "cell_type": "code",
   "execution_count": 28,
   "metadata": {},
   "outputs": [
    {
     "name": "stdout",
     "output_type": "stream",
     "text": [
      "tensor([1., 1., 1., 1., 1., 1.])\n"
     ]
    }
   ],
   "source": [
    "x_t2=torch.ones(6)\n",
    "print(x_t2)"
   ]
  },
  {
   "cell_type": "code",
   "execution_count": 30,
   "metadata": {},
   "outputs": [
    {
     "name": "stdout",
     "output_type": "stream",
     "text": [
      "tensor([[1.7753e+28, 1.3458e-14, 2.4754e-12],\n",
      "        [2.4754e-12, 2.4754e-12, 2.4754e-12]])\n"
     ]
    }
   ],
   "source": [
    "#Empty\n",
    "'''\n",
    "2.3. torch.empty - Returns a empty tensor\n",
    "        - sizes - Mention the ND array size\n",
    "        - dtype - Data type.\n",
    "'''\n",
    "x_t1=torch.empty(2,3)\n",
    "print(x_t1)"
   ]
  },
  {
   "cell_type": "code",
   "execution_count": 31,
   "metadata": {},
   "outputs": [
    {
     "name": "stdout",
     "output_type": "stream",
     "text": [
      "tensor([[0.0000e+00, 1.0000e+00, 2.1028e+20],\n",
      "        [1.0533e+21, 2.6081e+20, 6.7408e+22]])\n"
     ]
    }
   ],
   "source": [
    "x_t1=torch.empty(2,3)\n",
    "print(x_t1)"
   ]
  },
  {
   "cell_type": "code",
   "execution_count": null,
   "metadata": {},
   "outputs": [],
   "source": []
  }
 ],
 "metadata": {
  "kernelspec": {
   "display_name": "Python 3",
   "language": "python",
   "name": "python3"
  },
  "language_info": {
   "codemirror_mode": {
    "name": "ipython",
    "version": 3
   },
   "file_extension": ".py",
   "mimetype": "text/x-python",
   "name": "python",
   "nbconvert_exporter": "python",
   "pygments_lexer": "ipython3",
   "version": "3.8.5"
  }
 },
 "nbformat": 4,
 "nbformat_minor": 4
}
