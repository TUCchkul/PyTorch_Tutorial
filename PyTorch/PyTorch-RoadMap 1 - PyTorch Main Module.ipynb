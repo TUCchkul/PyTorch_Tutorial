{
 "cells": [
  {
   "cell_type": "markdown",
   "metadata": {},
   "source": [
    "## Roadmap 1 - Pytorch Main Module\n",
    "1.1.  torch.is_tensor   - returns true if object is a tensor\n",
    "\n",
    "1.2.  torch.tensor      - Constructs a tensor with data\n",
    "\n",
    "1.3.  torch.from_numpy  - From numpy array to Tensor \n",
    "\n",
    "\n",
    "2.1.  torch.zeros       - Returns a tensor filled with the scalar value 0\n",
    "\n",
    "2.2.  torch.ones        - Returns a tensor filled with the scalar value 1\n",
    "\n",
    "2.3.  torch.empty       - Returns an empty tensor.\n",
    "\n",
    "3.1.  torch.arange      - Returns a 1-D tensor of size ⌊end−start]/[step⌋ with values from the interval\n",
    "\n",
    "3.2.  torch.linspace    - Returns a one-dimensional tensor of steps equally spaced points between start and end\n",
    "\n",
    "3.3.  torch.logspace    - Returns a one-dimensional tensor of steps points logarithmically spaced \n",
    "\n",
    "4.1.  torch.eye         - Returns a 2-D tensor with ones on the diagonal and zeros elsewhere.\n",
    "\n",
    "4.2.  torch.full        - Returns a tensor of size size filled with fill_value\n",
    "\n",
    "5.1.  torch.cat         - Concatenates the given sequence of seq tensors in the given dimension.\n",
    "\n",
    "5.2.  torch.masked_select - Returns a new 1-D tensor which indexes the input tensor according to \n",
    "                            the binary mask mask which is a ByteTensor.\n",
    "5.3.  torch.nonzero     - Returns a tensor containing the indices of all non-zero elements of input. \n",
    "\n",
    "5.4.  torch.where       - Return a tensor of elements selected from either x or y, depending on condition\n",
    "\n",
    "6.1.  torch.reshape     - Returns a reshaped tensor\n",
    "\n",
    "6.2.  torch.squeeze     - Returns a tensor with all the dimensions of input of size 1 removed.\n",
    "\n",
    "6.3.  torch.take        - Returns a new tensor with the elements of input at the given indices.\n",
    "\n",
    "6.4.  torch.t           - Expects input to be a matrix (2-D tensor) and transposes dimensions 0 and 1.\n",
    "\n",
    "6.5.  torch.transpose   - Returns a tensor that is a transposed version of input.\n",
    "\n",
    "6.6.  torch.unsqueeze   - Returns a new tensor with a dimension of size one inserted at the specified position.\n",
    "\n",
    "7.1.  torch.normal      - Returns a tensor of random numbers drawn from separate normal distributions \n",
    "\n",
    "7.2.  torch.rand        - Returns a tensor filled with random numbers from a uniform distribution on the\n",
    "                            interval [0,1)\n",
    "                            \n",
    "7.3.  torch.randint     - Returns a tensor filled with random integers generated uniformly between low \n",
    "                          (inclusive) and high (exclusive).\n",
    "                          \n",
    "7.4.  torch.randn       - Returns a tensor filled with random numbers from a normal distribution with mean 0 \n",
    "                          and variance 1 (also called the standard normal distribution).\n",
    "\n",
    "8.1.  torch.save        - Saves an object to a disk file.\n",
    "\n",
    "8.2.  tensor.load       - Loads an object saved with torch.save() from a file.\n",
    "\n",
    "8.3.  torch.no_grad()   - Disable grad\n",
    "\n",
    "8.4.  torch.enable_grad()  - Enable grad\n",
    "\n",
    "8.5.  torch.is_nan      - Check if any nan value are there in tensor\n",
    "\n",
    "8.6.  torch.device()    - Switch between cpu, gpu\n",
    "\n",
    "8.7.  torch.autograd.profiler.profile - Context manager that manages autograd profiler state and holds a summary of results."
   ]
  },
  {
   "cell_type": "code",
   "execution_count": 1,
   "metadata": {},
   "outputs": [],
   "source": [
    "import os\n",
    "import sys\n",
    "import torch\n",
    "import numpy as np"
   ]
  },
  {
   "cell_type": "code",
   "execution_count": 3,
   "metadata": {},
   "outputs": [
    {
     "name": "stdout",
     "output_type": "stream",
     "text": [
      "Is x is a tensor: False\n"
     ]
    }
   ],
   "source": [
    "# Checking tensor\n",
    "'''\n",
    " torch.is_tensor - returns true if object is a tensor\n",
    "'''\n",
    "x=np.matrix('1 2; 3 4')\n",
    "value=torch.is_tensor(x)\n",
    "print(f\"Is x is a tensor: {value}\")"
   ]
  },
  {
   "cell_type": "code",
   "execution_count": 8,
   "metadata": {},
   "outputs": [
    {
     "name": "stdout",
     "output_type": "stream",
     "text": [
      "Numpy to tensor: \n",
      " type:<class 'numpy.matrix'> \n",
      " type: <class 'torch.Tensor'> \n",
      "\n",
      "Numpy to Matrix: \n",
      " [[1 2]\n",
      " [3 4]] \n",
      " Numpy to Tensor: tensor([[1, 2],\n",
      "        [3, 4]], dtype=torch.int32) \n",
      "\n"
     ]
    }
   ],
   "source": [
    "# Torch Tensor\n",
    "'''\n",
    "1.2. torch.tensor - Constructs a tensor with data\n",
    "        - data (array_like) – Can be a list, tuple, NumPy ndarray, scalar, and other types.\n",
    "'''\n",
    "# Numpy to Tensor\n",
    "x=np.matrix('1 2; 3 4')\n",
    "x_tensor=torch.tensor(x)\n",
    "print(f\"Numpy to tensor: \\n type:{type(x)} \\n type: {type(x_tensor)} \\n\")\n",
    "print(f\"Numpy to Matrix: \\n {x} \\n Numpy to Tensor: {x_tensor} \\n\")"
   ]
  },
  {
   "cell_type": "code",
   "execution_count": 11,
   "metadata": {},
   "outputs": [
    {
     "name": "stdout",
     "output_type": "stream",
     "text": [
      "List to tensor: \n",
      " type:<class 'list'> \n",
      " type: <class 'torch.Tensor'> \n",
      "\n",
      "Lisz to Matrix: \n",
      " [1, 2, 2, 4] \n",
      " Numpy to Tensor: tensor([1, 2, 2, 4]) \n",
      "\n"
     ]
    }
   ],
   "source": [
    "# List to Tensor\n",
    "x=[1,2,2,4]\n",
    "x_tensor=(torch.tensor(x))\n",
    "print(f\"List to tensor: \\n type:{type(x)} \\n type: {type(x_tensor)} \\n\")\n",
    "print(f\"Lisz to Matrix: \\n {x} \\n Numpy to Tensor: {x_tensor} \\n\")"
   ]
  },
  {
   "cell_type": "code",
   "execution_count": 13,
   "metadata": {},
   "outputs": [
    {
     "name": "stdout",
     "output_type": "stream",
     "text": [
      "Scaler to Tensor: <class 'float'>\n",
      " <class 'torch.Tensor'> \n",
      " 3.1419999599456787\n"
     ]
    }
   ],
   "source": [
    "# Scaler to Tensor\n",
    "x=3.142\n",
    "x_tensor=torch.tensor(x)\n",
    "print(f\"Scaler to Tensor: {type(x)}\\n {type(x_tensor)} \\n {x_tensor}\")"
   ]
  },
  {
   "cell_type": "code",
   "execution_count": 14,
   "metadata": {},
   "outputs": [
    {
     "name": "stdout",
     "output_type": "stream",
     "text": [
      "Scaler to Tensor: <class 'list'>\n",
      " <class 'torch.Tensor'> \n",
      " tensor([])\n"
     ]
    }
   ],
   "source": [
    "# Empty list to Tensor\n",
    "x=[]\n",
    "x_tensor=torch.tensor(x)\n",
    "print(f\"Scaler to Tensor: {type(x)}\\n {type(x_tensor)} \\n {x_tensor}\")"
   ]
  },
  {
   "cell_type": "code",
   "execution_count": 16,
   "metadata": {},
   "outputs": [
    {
     "name": "stdout",
     "output_type": "stream",
     "text": [
      "Type of x:  <class 'numpy.ndarray'>\n",
      "Type of x_t:  <class 'torch.Tensor'>\n",
      "Type of x_n:  <class 'numpy.ndarray'>\n",
      "tensor([1, 2, 3], dtype=torch.int32)\n",
      "[1 2 3]\n"
     ]
    }
   ],
   "source": [
    "# From numpy array to Tensor \n",
    "# From Tensor to numpy array\n",
    "\n",
    "'''\n",
    "1.3 torch.from_numpy() - Numpy to Tensor\n",
    "\n",
    "    numpy() - Tensor to Numpy\n",
    "\n",
    "'''\n",
    "\n",
    "\n",
    "x = np.array([1, 2, 3])\n",
    "print(\"Type of x: \", type(x))\n",
    "x_t = torch.from_numpy(x)\n",
    "print(\"Type of x_t: \", type(x_t))\n",
    "x_n = x_t.numpy()\n",
    "print(\"Type of x_n: \", type(x_n))\n",
    "print(x_t)\n",
    "print(x_n)"
   ]
  },
  {
   "cell_type": "code",
   "execution_count": 18,
   "metadata": {},
   "outputs": [
    {
     "name": "stdout",
     "output_type": "stream",
     "text": [
      "tensor([[0., 0., 0.],\n",
      "        [0., 0., 0.]])\n"
     ]
    }
   ],
   "source": [
    "# Zeros\n",
    "\n",
    "'''\n",
    "2.1. torch.zeros - Returns a tensor filled with the scalar value 0, with the shape defined by the variable argument\n",
    "        - sizes - Mention the ND array size\n",
    "        - dtype - Data type.\n",
    "'''\n",
    "#rows - 2, columns - 3\n",
    "x_t1=torch.zeros(2,3)\n",
    "print(x_t1)"
   ]
  },
  {
   "cell_type": "code",
   "execution_count": 22,
   "metadata": {},
   "outputs": [
    {
     "name": "stdout",
     "output_type": "stream",
     "text": [
      "tensor([0., 0., 0., 0., 0.])\n"
     ]
    }
   ],
   "source": [
    "x_t2=torch.zeros(5)\n",
    "print(x_t2)"
   ]
  },
  {
   "cell_type": "code",
   "execution_count": 26,
   "metadata": {},
   "outputs": [
    {
     "name": "stdout",
     "output_type": "stream",
     "text": [
      "tensor([[[0., 0., 0.],\n",
      "         [0., 0., 0.]],\n",
      "\n",
      "        [[0., 0., 0.],\n",
      "         [0., 0., 0.]],\n",
      "\n",
      "        [[0., 0., 0.],\n",
      "         [0., 0., 0.]],\n",
      "\n",
      "        [[0., 0., 0.],\n",
      "         [0., 0., 0.]]])\n"
     ]
    }
   ],
   "source": [
    "#depth - 4, rows - 2, columns - 3\n",
    "x_t2=torch.zeros(4,2,3)\n",
    "print(x_t2)"
   ]
  },
  {
   "cell_type": "code",
   "execution_count": 24,
   "metadata": {},
   "outputs": [
    {
     "data": {
      "text/plain": [
       "torch.Size([4, 2, 3])"
      ]
     },
     "execution_count": 24,
     "metadata": {},
     "output_type": "execute_result"
    }
   ],
   "source": [
    "x_t2.shape"
   ]
  },
  {
   "cell_type": "code",
   "execution_count": 25,
   "metadata": {},
   "outputs": [
    {
     "data": {
      "text/plain": [
       "torch.Tensor"
      ]
     },
     "execution_count": 25,
     "metadata": {},
     "output_type": "execute_result"
    }
   ],
   "source": [
    "type(x_t2)"
   ]
  },
  {
   "cell_type": "code",
   "execution_count": 27,
   "metadata": {},
   "outputs": [
    {
     "name": "stdout",
     "output_type": "stream",
     "text": [
      "tensor([[1., 1., 1.],\n",
      "        [1., 1., 1.]])\n"
     ]
    }
   ],
   "source": [
    "#ones\n",
    "'''\n",
    "2.2. torch.ones - Returns a tensor filled with the scalar value 1, with the shape defined by the variable argument \n",
    "        - sizes - Mention the ND array size\n",
    "        - dtype - Data type.\n",
    "'''\n",
    "x_t1=torch.ones(2,3)\n",
    "print(x_t1)"
   ]
  },
  {
   "cell_type": "code",
   "execution_count": 28,
   "metadata": {},
   "outputs": [
    {
     "name": "stdout",
     "output_type": "stream",
     "text": [
      "tensor([1., 1., 1., 1., 1., 1.])\n"
     ]
    }
   ],
   "source": [
    "x_t2=torch.ones(6)\n",
    "print(x_t2)"
   ]
  },
  {
   "cell_type": "code",
   "execution_count": 30,
   "metadata": {},
   "outputs": [
    {
     "name": "stdout",
     "output_type": "stream",
     "text": [
      "tensor([[1.7753e+28, 1.3458e-14, 2.4754e-12],\n",
      "        [2.4754e-12, 2.4754e-12, 2.4754e-12]])\n"
     ]
    }
   ],
   "source": [
    "#Empty\n",
    "'''\n",
    "2.3. torch.empty - Returns a empty tensor\n",
    "        - sizes - Mention the ND array size\n",
    "        - dtype - Data type.\n",
    "'''\n",
    "x_t1=torch.empty(2,3)\n",
    "print(x_t1)"
   ]
  },
  {
   "cell_type": "code",
   "execution_count": 31,
   "metadata": {},
   "outputs": [
    {
     "name": "stdout",
     "output_type": "stream",
     "text": [
      "tensor([[0.0000e+00, 1.0000e+00, 2.1028e+20],\n",
      "        [1.0533e+21, 2.6081e+20, 6.7408e+22]])\n"
     ]
    }
   ],
   "source": [
    "x_t1=torch.empty(2,3)\n",
    "print(x_t1)"
   ]
  },
  {
   "cell_type": "code",
   "execution_count": 7,
   "metadata": {},
   "outputs": [
    {
     "name": "stdout",
     "output_type": "stream",
     "text": [
      "Initial shape -  torch.Size([2, 1, 2, 1, 2])\n",
      "Final shape -  torch.Size([2, 2, 2])\n"
     ]
    }
   ],
   "source": [
    "# Squeeze\n",
    "\n",
    "'''\n",
    "6.2. torch.squeeze - Returns a tensor with all the dimensions of input of size 1 removed.\n",
    "        - For example, if input is of shape: (A×1×B×C×1×D) then the out tensor will be of shape: (A×B×C×D)\n",
    "        - input (Tensor) – the input tensor\n",
    "        - dim (int, optional) – if given, the input will be squeezed only in this dimension\n",
    "        - out (Tensor, optional) – the output tensor\n",
    "'''\n",
    "\n",
    "x_t = torch.zeros(2, 1, 2, 1, 2)\n",
    "print(\"Initial shape - \", x_t.size())\n",
    "\n",
    "x_t_squeezed = torch.squeeze(x_t)\n",
    "print(\"Final shape - \", x_t_squeezed.size())\n",
    "#x_t_un_squeezed = torch.unsqueeze(x_t_squeezed, dim=1)\n",
    "#print(\"Final shape - \", x_t_un_squeezed.size())"
   ]
  },
  {
   "cell_type": "code",
   "execution_count": 9,
   "metadata": {},
   "outputs": [
    {
     "name": "stdout",
     "output_type": "stream",
     "text": [
      "x_t =  tensor([[-1.0288,  0.5494,  0.6806],\n",
      "        [-0.6974,  1.1752, -0.1076]])\n",
      "x_t_transposed =  tensor([[-1.0288, -0.6974],\n",
      "        [ 0.5494,  1.1752],\n",
      "        [ 0.6806, -0.1076]])\n"
     ]
    }
   ],
   "source": [
    "# 2D Transpose\n",
    "\n",
    "'''\n",
    "6.3. torch.t - Expects input to be a matrix (2-D tensor) and transposes dimensions 0 and 1.\n",
    "        - input (Tensor) – the input tensor\n",
    "'''\n",
    "\n",
    "x_t = torch.randn(2, 3)\n",
    "x_t_transposed = torch.t(x_t)\n",
    "\n",
    "print(\"x_t = \", x_t)\n",
    "print(\"x_t_transposed = \", x_t_transposed)"
   ]
  },
  {
   "cell_type": "code",
   "execution_count": 11,
   "metadata": {},
   "outputs": [
    {
     "name": "stdout",
     "output_type": "stream",
     "text": [
      "Extracted element =  tensor([4, 5, 7])\n"
     ]
    }
   ],
   "source": [
    "# Take\n",
    "\n",
    "'''\n",
    "6.4. torch.take - Returns a new tensor with the elements of input at the given indices. \n",
    "    The input tensor is treated as if it were viewed as a 1-D tensor. \n",
    "    The result takes the same shape as the indices.\n",
    "        - input (Tensor) – the input tensor\n",
    "        - indices (LongTensor) – the indices into tensor\n",
    "'''\n",
    "\n",
    "src = torch.tensor([4, 3, 5, 6, 7, 8])\n",
    "taken_indexes = torch.take(src, torch.tensor([0, 2, 4]))\n",
    "\n",
    "print(\"Extracted element = \", taken_indexes)"
   ]
  },
  {
   "cell_type": "code",
   "execution_count": 13,
   "metadata": {},
   "outputs": [
    {
     "name": "stdout",
     "output_type": "stream",
     "text": [
      "x =  tensor([[[-1.0862,  0.8559],\n",
      "         [ 1.0435,  0.4969],\n",
      "         [-2.0732, -0.7871]],\n",
      "\n",
      "        [[ 0.3724, -0.9197],\n",
      "         [ 0.6516, -0.3124],\n",
      "         [ 0.2159,  1.9261]]])\n",
      "x_t =  tensor([[[-1.0862,  0.8559],\n",
      "         [ 0.3724, -0.9197]],\n",
      "\n",
      "        [[ 1.0435,  0.4969],\n",
      "         [ 0.6516, -0.3124]],\n",
      "\n",
      "        [[-2.0732, -0.7871],\n",
      "         [ 0.2159,  1.9261]]])\n"
     ]
    }
   ],
   "source": [
    "# N-D Transpose\n",
    "\n",
    "'''\n",
    "6.5. torch.transpose - Returns a tensor that is a transposed version of input. \n",
    "    The given dimensions dim0 and dim1 are swapped.\n",
    "        - input (Tensor) – the input tensor\n",
    "        - dim0 (int) – the first dimension to be transposed\n",
    "        - dim1 (int) – the second dimension to be transposed\n",
    "'''\n",
    "\n",
    "x = torch.randn(2, 3, 2)\n",
    "print(\"x = \", x)\n",
    "x_t = torch.transpose(x, 0, 1)\n",
    "\n",
    "print(\"x_t = \", x_t)"
   ]
  },
  {
   "cell_type": "code",
   "execution_count": 14,
   "metadata": {},
   "outputs": [
    {
     "name": "stdout",
     "output_type": "stream",
     "text": [
      "x =  tensor([[[-1.6383,  0.2033],\n",
      "         [ 0.1697,  1.0138],\n",
      "         [-0.1441,  2.0292]],\n",
      "\n",
      "        [[-0.8441, -0.2996],\n",
      "         [ 0.2255, -0.2254],\n",
      "         [ 0.4887, -0.5266]]])\n",
      "x_t =  tensor([[[-1.6383,  0.2033],\n",
      "         [-0.8441, -0.2996]],\n",
      "\n",
      "        [[ 0.1697,  1.0138],\n",
      "         [ 0.2255, -0.2254]],\n",
      "\n",
      "        [[-0.1441,  2.0292],\n",
      "         [ 0.4887, -0.5266]]])\n"
     ]
    }
   ],
   "source": [
    "x = torch.randn(2, 3, 2)\n",
    "print(\"x = \", x)\n",
    "x_t = torch.transpose(x, 1, 0)\n",
    "\n",
    "print(\"x_t = \", x_t)"
   ]
  },
  {
   "cell_type": "code",
   "execution_count": 18,
   "metadata": {},
   "outputs": [
    {
     "name": "stdout",
     "output_type": "stream",
     "text": [
      "Initial size:  torch.Size([4])\n",
      "Final size:  torch.Size([1, 4])\n",
      "Final size:  tensor([[1, 2, 3, 4]])\n"
     ]
    }
   ],
   "source": [
    "# Unsqueeze\n",
    "\n",
    "'''\n",
    "6.6. torch.unsqueeze - Returns a new tensor with a dimension of size one inserted at the specified position.\n",
    "        - input (Tensor) – the input tensor\n",
    "        - dim (int) – the index at which to insert the singleton dimension\n",
    "        - out (Tensor, optional) – the output tensor\n",
    "'''\n",
    "\n",
    "x_t = torch.tensor([1, 2, 3, 4])\n",
    "x_t_unsqueezed = torch.unsqueeze(x_t, 0)\n",
    "\n",
    "print(\"Initial size: \", x_t.size())\n",
    "print(\"Final size: \", x_t_unsqueezed.size())\n",
    "print(\"Final size: \", x_t_unsqueezed)"
   ]
  },
  {
   "cell_type": "code",
   "execution_count": 19,
   "metadata": {},
   "outputs": [
    {
     "name": "stdout",
     "output_type": "stream",
     "text": [
      "normal_random_tensor =  tensor([ 0.7328,  3.1335,  2.7413,  3.6910,  4.9385,  5.8461,  6.5349,  7.6972,\n",
      "         9.0977, 10.0225])\n"
     ]
    }
   ],
   "source": [
    "# Normal random number\n",
    "\n",
    "'''\n",
    "7.1. torch.normal - Returns a tensor of random numbers drawn from separate normal distributions \n",
    "        whose mean and standard deviation are given.\n",
    "            - mean (Tensor) – the tensor of per-element means\n",
    "            - std (Tensor) – the tensor of per-element standard deviations\n",
    "            - out (Tensor, optional) – the output tensor\n",
    "\n",
    "'''\n",
    "\n",
    "normal_random_tensor = torch.normal(mean=torch.arange(1., 11.), std=torch.arange(1, 0, -0.1))\n",
    "print(\"normal_random_tensor = \", normal_random_tensor)"
   ]
  },
  {
   "cell_type": "code",
   "execution_count": 20,
   "metadata": {},
   "outputs": [
    {
     "name": "stdout",
     "output_type": "stream",
     "text": [
      "x_rand =  tensor([[0.4076, 0.2187, 0.2595],\n",
      "        [0.1164, 0.3665, 0.1267]])\n"
     ]
    }
   ],
   "source": [
    "# Random num\n",
    "\n",
    "'''\n",
    "7.2. torch.rand - Returns a tensor filled with random numbers from a uniform distribution on the interval [0,1)\n",
    "        - sizes (int...) – a sequence of integers defining the shape of the output tensor. \n",
    "            Can be a variable number of arguments or a collection like a list or tuple.\n",
    "'''\n",
    "\n",
    "x_rand = torch.rand(2, 3)\n",
    "print(\"x_rand = \", x_rand)"
   ]
  },
  {
   "cell_type": "code",
   "execution_count": 21,
   "metadata": {},
   "outputs": [
    {
     "name": "stdout",
     "output_type": "stream",
     "text": [
      "x_randint =  tensor([[ 8, -3],\n",
      "        [-8, -8]])\n"
     ]
    }
   ],
   "source": [
    "# Random Integer\n",
    "\n",
    "'''\n",
    "7.3. torch.randint - Returns a tensor filled with random integers generated uniformly between low \n",
    "    (inclusive) and high (exclusive).\n",
    "        - low (int, optional) – Lowest integer to be drawn from the distribution. Default: 0.\n",
    "        - high (int) – One above the highest integer to be drawn from the distribution.\n",
    "        - size (tuple) – a tuple defining the shape of the output tensor.\n",
    "        - out (Tensor, optional) – the output tensor\n",
    "        - dtype - Data type.\n",
    "'''\n",
    "\n",
    "x_randint = torch.randint(low=-10, high=10, size=(2,2))\n",
    "print(\"x_randint = \", x_randint)"
   ]
  },
  {
   "cell_type": "code",
   "execution_count": 22,
   "metadata": {},
   "outputs": [
    {
     "name": "stdout",
     "output_type": "stream",
     "text": [
      "x_randn =  tensor([[-0.4999,  0.9589,  1.6159],\n",
      "        [-0.3346,  0.5209, -0.5660]])\n"
     ]
    }
   ],
   "source": [
    "# Random normal\n",
    "\n",
    "'''\n",
    "7.4. torch.randn - Returns a tensor filled with random numbers from a normal distribution with \n",
    "    mean 0 and variance 1 (also called the standard normal distribution).\n",
    "        - sizes (int...) – a sequence of integers defining the shape of the output tensor. Can be a variable number of arguments or a collection like a list or tuple.\n",
    "        - out (Tensor, optional) – the output tensor\n",
    "        - dtype - Data type.\n",
    "'''\n",
    "\n",
    "x_randn = torch.randn(2, 3)\n",
    "print(\"x_randn = \", x_randn)"
   ]
  },
  {
   "cell_type": "code",
   "execution_count": 23,
   "metadata": {},
   "outputs": [],
   "source": [
    "# Saving a tensor\n",
    "\n",
    "'''\n",
    "8.1. torch.save - Saves an object to a disk file.\n",
    "        - obj – saved object\n",
    "        - f – a file-like object (has to implement write and flush) or a string containing a file name\n",
    "        - pickle_module – module used for pickling metadata and objects\n",
    "        - pickle_protocol – can be specified to override the default protocol\n",
    "\n",
    "'''\n",
    "\n",
    "x = torch.tensor([0, 1, 2, 3, 4])\n",
    "torch.save(x, 'tensor.pt')"
   ]
  },
  {
   "cell_type": "code",
   "execution_count": 24,
   "metadata": {},
   "outputs": [
    {
     "name": "stdout",
     "output_type": "stream",
     "text": [
      "<class 'torch.Tensor'>\n",
      "tensor([0, 1, 2, 3, 4])\n"
     ]
    }
   ],
   "source": [
    "# Loading a saved tensor\n",
    "\n",
    "'''\n",
    "8.2. tensor.load - Loads an object saved with torch.save() from a file.\n",
    "'''\n",
    "\n",
    "x = torch.load('tensor.pt')\n",
    "print(type(x))\n",
    "print(x)"
   ]
  },
  {
   "cell_type": "code",
   "execution_count": 25,
   "metadata": {},
   "outputs": [
    {
     "name": "stdout",
     "output_type": "stream",
     "text": [
      "x requires grad =  True\n",
      "y requires grad =  True\n",
      "z requires grad =  False\n"
     ]
    }
   ],
   "source": [
    "# Adding and disabling gradient\n",
    "\n",
    "'''\n",
    "8.3. torch.no_grad()      - Disable grad\n",
    "    torch.enable_grad()  - Enable grad\n",
    "'''\n",
    "\n",
    "x = torch.zeros(1, requires_grad=True)\n",
    "print(\"x requires grad = \", x.requires_grad)\n",
    "\n",
    "y = x*3\n",
    "print(\"y requires grad = \", y.requires_grad)\n",
    "\n",
    "with torch.no_grad():\n",
    "    z = x * 2\n",
    "print(\"z requires grad = \", z.requires_grad)"
   ]
  },
  {
   "cell_type": "code",
   "execution_count": 26,
   "metadata": {},
   "outputs": [
    {
     "name": "stdout",
     "output_type": "stream",
     "text": [
      "x_in =  tensor([1., nan, 2.])\n",
      "x_out =  tensor([False,  True, False])\n"
     ]
    }
   ],
   "source": [
    "# Checking if NAN value is there in tensor\n",
    "\n",
    "'''\n",
    "8.4. torch.is_nan - Returns a new tensor with boolean elements representing if each element is NaN or not.\n",
    "'''\n",
    "\n",
    "x_in = torch.tensor([1, float('nan'), 2])\n",
    "x_out = torch.isnan(x_in)\n",
    "\n",
    "print(\"x_in = \", x_in)\n",
    "print(\"x_out = \", x_out)"
   ]
  },
  {
   "cell_type": "code",
   "execution_count": 27,
   "metadata": {},
   "outputs": [
    {
     "name": "stdout",
     "output_type": "stream",
     "text": [
      "-------------------------------------------------------  ------------  ------------  ------------  ------------  ------------  ------------  \n",
      "                                                   Name    Self CPU %      Self CPU   CPU total %     CPU total  CPU time avg    # of Calls  \n",
      "-------------------------------------------------------  ------------  ------------  ------------  ------------  ------------  ------------  \n",
      "                                              aten::pow        34.57%      19.784ms        58.99%      33.759ms      33.759ms             1  \n",
      "                                      aten::result_type        24.41%      13.972ms        24.41%      13.972ms      13.972ms             1  \n",
      "                                               aten::to         0.01%       3.000us         0.01%       3.000us       3.000us             1  \n",
      "                                        aten::ones_like         0.03%      16.000us        13.68%       7.827ms       7.827ms             1  \n",
      "                                       aten::empty_like        13.62%       7.797ms        13.64%       7.808ms       7.808ms             1  \n",
      "                                    aten::empty_strided         0.02%      11.000us         0.02%      11.000us      11.000us             1  \n",
      "                                            aten::fill_         0.01%       3.000us         0.01%       3.000us       3.000us             1  \n",
      "      autograd::engine::evaluate_function: PowBackward0         0.07%      39.000us        26.10%      14.937ms      14.937ms             1  \n",
      "                                           PowBackward0         4.68%       2.676ms        26.03%      14.898ms      14.898ms             1  \n",
      "                                              aten::pow         0.05%      27.000us         0.07%      40.000us      40.000us             1  \n",
      "                                      aten::result_type         0.00%       2.000us         0.00%       2.000us       2.000us             1  \n",
      "                                               aten::to         0.00%       1.000us         0.00%       1.000us       1.000us             1  \n",
      "                                            aten::copy_         0.02%      10.000us         0.02%      10.000us      10.000us             1  \n",
      "                                              aten::mul        20.18%      11.546ms        21.27%      12.172ms      12.172ms             1  \n",
      "                                               aten::to         0.96%     551.000us         1.09%     626.000us     626.000us             1  \n",
      "                                         aten::_to_copy         0.09%      53.000us         0.13%      75.000us      75.000us             1  \n",
      "                                    aten::empty_strided         0.02%      10.000us         0.02%      10.000us      10.000us             1  \n",
      "                                            aten::copy_         0.02%      12.000us         0.02%      12.000us      12.000us             1  \n",
      "                                              aten::mul         0.02%      10.000us         0.02%      10.000us      10.000us             1  \n",
      "autograd::engine::evaluate_function: struct torch::a...         0.01%       8.000us         1.23%     705.000us     705.000us             1  \n",
      "                 struct torch::autograd::AccumulateGrad         0.06%      37.000us         1.22%     697.000us     697.000us             1  \n",
      "                                           aten::detach         0.02%      14.000us         1.15%     660.000us     660.000us             1  \n",
      "                                                 detach         1.13%     646.000us         1.13%     646.000us     646.000us             1  \n",
      "-------------------------------------------------------  ------------  ------------  ------------  ------------  ------------  ------------  \n",
      "Self CPU time total: 57.228ms\n",
      "\n"
     ]
    }
   ],
   "source": [
    "# Profiling - 1\n",
    "\n",
    "'''\n",
    "8.6. torch.autograd.profiler.profile - Context manager that manages autograd profiler state and holds a summary of results.\n",
    "        - enabled (bool, optional) – Setting this to False makes this context manager a no-op. Default: True.\n",
    "        - use_cuda (bool, optional) – Enables timing of CUDA events as well using the cudaEvent API. \n",
    "            Adds approximately 4us of overhead to each tensor operation. \n",
    "'''\n",
    "\n",
    "x = torch.randn((1, 1), requires_grad=True)\n",
    "with torch.autograd.profiler.profile() as prof:\n",
    "    y = x ** 2\n",
    "    y.backward()\n",
    "\n",
    "print(prof)"
   ]
  },
  {
   "cell_type": "code",
   "execution_count": null,
   "metadata": {},
   "outputs": [],
   "source": []
  }
 ],
 "metadata": {
  "kernelspec": {
   "display_name": "Python 3",
   "language": "python",
   "name": "python3"
  },
  "language_info": {
   "codemirror_mode": {
    "name": "ipython",
    "version": 3
   },
   "file_extension": ".py",
   "mimetype": "text/x-python",
   "name": "python",
   "nbconvert_exporter": "python",
   "pygments_lexer": "ipython3",
   "version": "3.8.5"
  }
 },
 "nbformat": 4,
 "nbformat_minor": 4
}
