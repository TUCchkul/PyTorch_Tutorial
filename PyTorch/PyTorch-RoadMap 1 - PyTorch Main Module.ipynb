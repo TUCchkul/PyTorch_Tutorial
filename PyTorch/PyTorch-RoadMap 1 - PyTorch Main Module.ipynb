{
 "cells": [
  {
   "cell_type": "markdown",
   "metadata": {},
   "source": [
    "## Roadmap 1 - Pytorch Main Module\n",
    "1.1.  torch.is_tensor   - returns true if object is a tensor\n",
    "\n",
    "1.2.  torch.tensor      - Constructs a tensor with data\n",
    "\n",
    "1.3.  torch.from_numpy  - From numpy array to Tensor \n",
    "\n",
    "\n",
    "2.1.  torch.zeros       - Returns a tensor filled with the scalar value 0\n",
    "\n",
    "2.2.  torch.ones        - Returns a tensor filled with the scalar value 1\n",
    "\n",
    "2.3.  torch.empty       - Returns an empty tensor.\n",
    "\n",
    "3.1.  torch.arange      - Returns a 1-D tensor of size ⌊end−start]/[step⌋ with values from the interval\n",
    "\n",
    "3.2.  torch.linspace    - Returns a one-dimensional tensor of steps equally spaced points between start and end\n",
    "\n",
    "3.3.  torch.logspace    - Returns a one-dimensional tensor of steps points logarithmically spaced \n",
    "\n",
    "4.1.  torch.eye         - Returns a 2-D tensor with ones on the diagonal and zeros elsewhere.\n",
    "\n",
    "4.2.  torch.full        - Returns a tensor of size size filled with fill_value\n",
    "\n",
    "5.1.  torch.cat         - Concatenates the given sequence of seq tensors in the given dimension.\n",
    "\n",
    "5.2.  torch.masked_select - Returns a new 1-D tensor which indexes the input tensor according to \n",
    "                            the binary mask mask which is a ByteTensor.\n",
    "5.3.  torch.nonzero     - Returns a tensor containing the indices of all non-zero elements of input. \n",
    "\n",
    "5.4.  torch.where       - Return a tensor of elements selected from either x or y, depending on condition\n",
    "\n",
    "6.1.  torch.reshape     - Returns a reshaped tensor\n",
    "\n",
    "6.2.  torch.squeeze     - Returns a tensor with all the dimensions of input of size 1 removed.\n",
    "\n",
    "6.3.  torch.take        - Returns a new tensor with the elements of input at the given indices.\n",
    "\n",
    "6.4.  torch.t           - Expects input to be a matrix (2-D tensor) and transposes dimensions 0 and 1.\n",
    "\n",
    "6.5.  torch.transpose   - Returns a tensor that is a transposed version of input.\n",
    "\n",
    "6.6.  torch.unsqueeze   - Returns a new tensor with a dimension of size one inserted at the specified position.\n",
    "\n",
    "7.1.  torch.normal      - Returns a tensor of random numbers drawn from separate normal distributions \n",
    "\n",
    "7.2.  torch.rand        - Returns a tensor filled with random numbers from a uniform distribution on the\n",
    "                            interval [0,1)\n",
    "                            \n",
    "7.3.  torch.randint     - Returns a tensor filled with random integers generated uniformly between low \n",
    "                          (inclusive) and high (exclusive).\n",
    "                          \n",
    "7.4.  torch.randn       - Returns a tensor filled with random numbers from a normal distribution with mean 0 \n",
    "                          and variance 1 (also called the standard normal distribution).\n",
    "\n",
    "8.1.  torch.save        - Saves an object to a disk file.\n",
    "\n",
    "8.2.  tensor.load       - Loads an object saved with torch.save() from a file.\n",
    "\n",
    "8.3.  torch.no_grad()   - Disable grad\n",
    "\n",
    "8.4.  torch.enable_grad()  - Enable grad\n",
    "\n",
    "8.5.  torch.is_nan      - Check if any nan value are there in tensor\n",
    "\n",
    "8.6.  torch.device()    - Switch between cpu, gpu\n",
    "\n",
    "8.7.  torch.autograd.profiler.profile - Context manager that manages autograd profiler state and holds a summary of results."
   ]
  },
  {
   "cell_type": "code",
   "execution_count": 2,
   "metadata": {},
   "outputs": [],
   "source": [
    "import os\n",
    "import sys\n",
    "import torch\n",
    "import numpy as np"
   ]
  },
  {
   "cell_type": "code",
   "execution_count": null,
   "metadata": {},
   "outputs": [],
   "source": [
    "# Checking tensor\n",
    "'''\n",
    " torch.is_tensor - returns true if object is a tensor\n",
    "'''\n",
    "x=np.matrix('1 2; 3 4')\n",
    "value=torch.is_tensor(x)\n",
    "print(f\"Is x is a tensor: {value}\")"
   ]
  }
 ],
 "metadata": {
  "kernelspec": {
   "display_name": "Python 3",
   "language": "python",
   "name": "python3"
  },
  "language_info": {
   "codemirror_mode": {
    "name": "ipython",
    "version": 3
   },
   "file_extension": ".py",
   "mimetype": "text/x-python",
   "name": "python",
   "nbconvert_exporter": "python",
   "pygments_lexer": "ipython3",
   "version": "3.8.5"
  }
 },
 "nbformat": 4,
 "nbformat_minor": 4
}
