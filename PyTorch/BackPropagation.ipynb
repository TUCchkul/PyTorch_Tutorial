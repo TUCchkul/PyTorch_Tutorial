{
 "cells": [
  {
   "cell_type": "code",
   "execution_count": 1,
   "metadata": {},
   "outputs": [],
   "source": [
    "import torch"
   ]
  },
  {
   "cell_type": "code",
   "execution_count": 5,
   "metadata": {},
   "outputs": [
    {
     "name": "stdout",
     "output_type": "stream",
     "text": [
      "tensor(1., grad_fn=<PowBackward0>)\n"
     ]
    },
    {
     "data": {
      "text/plain": [
       "tensor(-2.)"
      ]
     },
     "execution_count": 5,
     "metadata": {},
     "output_type": "execute_result"
    }
   ],
   "source": [
    "x=torch.tensor(1.0)\n",
    "y=torch.tensor(2.0)\n",
    "w=torch.tensor(1.0, requires_grad=True)\n",
    "y_hat=w*x\n",
    "loss=(y_hat-y)**2\n",
    "print(loss)\n",
    "loss.backward()\n",
    "w.grad"
   ]
  },
  {
   "cell_type": "code",
   "execution_count": 11,
   "metadata": {},
   "outputs": [],
   "source": [
    "import numpy as np \n",
    "from copy import deepcopy\n",
    "import matplotlib.pyplot as plt\n",
    "x = np.array([[1,1]])\n",
    "y = np.array([[0]])"
   ]
  },
  {
   "cell_type": "code",
   "execution_count": 27,
   "metadata": {},
   "outputs": [
    {
     "data": {
      "text/plain": [
       "(1, 2)"
      ]
     },
     "execution_count": 27,
     "metadata": {},
     "output_type": "execute_result"
    }
   ],
   "source": []
  },
  {
   "cell_type": "code",
   "execution_count": 28,
   "metadata": {},
   "outputs": [
    {
     "data": {
      "text/plain": [
       "(1, 1)"
      ]
     },
     "execution_count": 28,
     "metadata": {},
     "output_type": "execute_result"
    }
   ],
   "source": []
  },
  {
   "cell_type": "code",
   "execution_count": 29,
   "metadata": {},
   "outputs": [
    {
     "data": {
      "text/plain": [
       "numpy.ndarray"
      ]
     },
     "execution_count": 29,
     "metadata": {},
     "output_type": "execute_result"
    }
   ],
   "source": []
  },
  {
   "cell_type": "code",
   "execution_count": null,
   "metadata": {},
   "outputs": [],
   "source": []
  },
  {
   "cell_type": "code",
   "execution_count": 12,
   "metadata": {},
   "outputs": [],
   "source": [
    "from copy import deepcopy\n",
    "import numpy as np\n",
    "def feed_forward(inputs, outputs, weights):   \n",
    "    print(f\"Inputs: {inputs}, Outputs: {outputs}, Weights: {weights}\")\n",
    "    pre_hidden = np.dot(inputs,weights[0])+ weights[1]\n",
    "    print(f\"Pre_Hidden: {pre_hidden}\")\n",
    "    hidden = 1/(1+np.exp(-pre_hidden))\n",
    "    print(f\"Hidden : {hidden}\")\n",
    "    out = np.dot(hidden, weights[2]) + weights[3]\n",
    "    print(f\"Out : {out}\")\n",
    "    mean_squared_error = np.mean(np.square(out - outputs))\n",
    "    print(f\"MSE: {mean_squared_error}\")\n",
    "    return mean_squared_error"
   ]
  },
  {
   "cell_type": "code",
   "execution_count": 30,
   "metadata": {},
   "outputs": [
    {
     "data": {
      "text/plain": [
       "array([-0.01357212,  0.56023055, -0.06312652], dtype=float32)"
      ]
     },
     "execution_count": 30,
     "metadata": {},
     "output_type": "execute_result"
    }
   ],
   "source": [
    "W[1]"
   ]
  },
  {
   "cell_type": "code",
   "execution_count": 31,
   "metadata": {},
   "outputs": [
    {
     "data": {
      "text/plain": [
       "array([[-0.00487212, -0.58246946, -0.2726265 ],\n",
       "       [ 0.3797278 , -0.52086943,  0.18927349]], dtype=float32)"
      ]
     },
     "execution_count": 31,
     "metadata": {},
     "output_type": "execute_result"
    }
   ],
   "source": [
    "W[0]"
   ]
  },
  {
   "cell_type": "code",
   "execution_count": 32,
   "metadata": {},
   "outputs": [
    {
     "data": {
      "text/plain": [
       "array([[1, 1]])"
      ]
     },
     "execution_count": 32,
     "metadata": {},
     "output_type": "execute_result"
    }
   ],
   "source": [
    "x"
   ]
  },
  {
   "cell_type": "code",
   "execution_count": 13,
   "metadata": {},
   "outputs": [],
   "source": [
    "def update_weights(inputs, outputs, weights, lr):\n",
    "    original_weights = deepcopy(weights)\n",
    "    print(f\"Original_weights: {original_weights}\")\n",
    "    temp_weights = deepcopy(weights)\n",
    "    print(f\"Temp_weights: {temp_weights}\")\n",
    "    updated_weights = deepcopy(weights)\n",
    "    print(f\"Updated_weights {updated_weights}\")\n",
    "    original_loss = feed_forward(inputs, outputs, original_weights)\n",
    "    print(f\"Original_loss: {original_loss}\")\n",
    "    for i, layer in enumerate(original_weights):\n",
    "        print(f\"I: {i}, Layer: {layer}\")\n",
    "        for index, weight in np.ndenumerate(layer):\n",
    "            print(f\"Index: {index}, Weight: {weight}\")\n",
    "            temp_weights = deepcopy(weights)\n",
    "            print(f\"Temp_weights: {temp_weights}\")\n",
    "            temp_weights[i][index] += 0.0001\n",
    "            _loss_plus = feed_forward(inputs, outputs, temp_weights)\n",
    "            grad = (_loss_plus - original_loss)/(0.0001)\n",
    "            updated_weights[i][index] -= grad*lr\n",
    "    return updated_weights, original_loss"
   ]
  },
  {
   "cell_type": "code",
   "execution_count": 14,
   "metadata": {},
   "outputs": [],
   "source": [
    "W = [\n",
    "    np.array([[-0.0053, 0.3793],\n",
    "              [-0.5820, -0.5204],\n",
    "              [-0.2723, 0.1896]], dtype=np.float32).T, \n",
    "    np.array([-0.0140, 0.5607, -0.0628], dtype=np.float32), \n",
    "    np.array([[ 0.1528, -0.1745, -0.1135]], dtype=np.float32).T, \n",
    "    np.array([-0.5516], dtype=np.float32)\n",
    "]"
   ]
  },
  {
   "cell_type": "code",
   "execution_count": 19,
   "metadata": {},
   "outputs": [
    {
     "data": {
      "text/plain": [
       "array([[-0.00487212, -0.58246946, -0.2726265 ],\n",
       "       [ 0.3797278 , -0.52086943,  0.18927349]], dtype=float32)"
      ]
     },
     "execution_count": 19,
     "metadata": {},
     "output_type": "execute_result"
    }
   ],
   "source": [
    "W[0]"
   ]
  },
  {
   "cell_type": "code",
   "execution_count": 20,
   "metadata": {},
   "outputs": [
    {
     "data": {
      "text/plain": [
       "array([-0.01357212,  0.56023055, -0.06312652], dtype=float32)"
      ]
     },
     "execution_count": 20,
     "metadata": {},
     "output_type": "execute_result"
    }
   ],
   "source": [
    "W[1]"
   ]
  },
  {
   "cell_type": "code",
   "execution_count": 21,
   "metadata": {},
   "outputs": [
    {
     "data": {
      "text/plain": [
       "array([[ 0.15961382],\n",
       "       [-0.17024542],\n",
       "       [-0.10813614]], dtype=float32)"
      ]
     },
     "execution_count": 21,
     "metadata": {},
     "output_type": "execute_result"
    }
   ],
   "source": [
    "W[2]"
   ]
  },
  {
   "cell_type": "code",
   "execution_count": 22,
   "metadata": {},
   "outputs": [
    {
     "data": {
      "text/plain": [
       "array([-0.540031], dtype=float32)"
      ]
     },
     "execution_count": 22,
     "metadata": {},
     "output_type": "execute_result"
    }
   ],
   "source": [
    "W[3]"
   ]
  },
  {
   "cell_type": "code",
   "execution_count": 23,
   "metadata": {},
   "outputs": [
    {
     "data": {
      "text/plain": [
       "array([[1, 1]])"
      ]
     },
     "execution_count": 23,
     "metadata": {},
     "output_type": "execute_result"
    }
   ],
   "source": [
    "x"
   ]
  },
  {
   "cell_type": "code",
   "execution_count": 16,
   "metadata": {},
   "outputs": [
    {
     "data": {
      "text/plain": [
       "array([[1, 1]])"
      ]
     },
     "execution_count": 16,
     "metadata": {},
     "output_type": "execute_result"
    }
   ],
   "source": [
    "x"
   ]
  },
  {
   "cell_type": "code",
   "execution_count": 26,
   "metadata": {},
   "outputs": [
    {
     "data": {
      "text/plain": [
       "array([[ 0.36128357, -0.54310834, -0.14647952]])"
      ]
     },
     "execution_count": 26,
     "metadata": {},
     "output_type": "execute_result"
    }
   ],
   "source": [
    "np.dot(x,W[0])+W[1]"
   ]
  },
  {
   "cell_type": "code",
   "execution_count": 17,
   "metadata": {},
   "outputs": [
    {
     "data": {
      "text/plain": [
       "array([[0]])"
      ]
     },
     "execution_count": 17,
     "metadata": {},
     "output_type": "execute_result"
    }
   ],
   "source": [
    "y"
   ]
  },
  {
   "cell_type": "code",
   "execution_count": 18,
   "metadata": {},
   "outputs": [
    {
     "name": "stdout",
     "output_type": "stream",
     "text": [
      "Original_weights: [array([[-0.0053, -0.582 , -0.2723],\n",
      "       [ 0.3793, -0.5204,  0.1896]], dtype=float32), array([-0.014 ,  0.5607, -0.0628], dtype=float32), array([[ 0.1528],\n",
      "       [-0.1745],\n",
      "       [-0.1135]], dtype=float32), array([-0.5516], dtype=float32)]\n",
      "Temp_weights: [array([[-0.0053, -0.582 , -0.2723],\n",
      "       [ 0.3793, -0.5204,  0.1896]], dtype=float32), array([-0.014 ,  0.5607, -0.0628], dtype=float32), array([[ 0.1528],\n",
      "       [-0.1745],\n",
      "       [-0.1135]], dtype=float32), array([-0.5516], dtype=float32)]\n",
      "Updated_weights [array([[-0.0053, -0.582 , -0.2723],\n",
      "       [ 0.3793, -0.5204,  0.1896]], dtype=float32), array([-0.014 ,  0.5607, -0.0628], dtype=float32), array([[ 0.1528],\n",
      "       [-0.1745],\n",
      "       [-0.1135]], dtype=float32), array([-0.5516], dtype=float32)]\n",
      "Inputs: [[1 1]], Outputs: [[0]], Weights: [array([[-0.0053, -0.582 , -0.2723],\n",
      "       [ 0.3793, -0.5204,  0.1896]], dtype=float32), array([-0.014 ,  0.5607, -0.0628], dtype=float32), array([[ 0.1528],\n",
      "       [-0.1745],\n",
      "       [-0.1135]], dtype=float32), array([-0.5516], dtype=float32)]\n",
      "Pre_Hidden: [[ 0.36       -0.54170001 -0.1455    ]]\n",
      "Hidden : [[0.58904043 0.36779221 0.46368904]]\n",
      "Out : [[-0.57840305]]\n",
      "MSE: 0.33455008989960927\n",
      "Original_loss: 0.33455008989960927\n",
      "I: 0, Layer: [[-0.0053 -0.582  -0.2723]\n",
      " [ 0.3793 -0.5204  0.1896]]\n",
      "Index: (0, 0), Weight: -0.0052999998442828655\n",
      "Temp_weights: [array([[-0.0053, -0.582 , -0.2723],\n",
      "       [ 0.3793, -0.5204,  0.1896]], dtype=float32), array([-0.014 ,  0.5607, -0.0628], dtype=float32), array([[ 0.1528],\n",
      "       [-0.1745],\n",
      "       [-0.1135]], dtype=float32), array([-0.5516], dtype=float32)]\n",
      "Inputs: [[1 1]], Outputs: [[0]], Weights: [array([[-0.0052, -0.582 , -0.2723],\n",
      "       [ 0.3793, -0.5204,  0.1896]], dtype=float32), array([-0.014 ,  0.5607, -0.0628], dtype=float32), array([[ 0.1528],\n",
      "       [-0.1745],\n",
      "       [-0.1135]], dtype=float32), array([-0.5516], dtype=float32)]\n",
      "Pre_Hidden: [[ 0.3601     -0.54170001 -0.1455    ]]\n",
      "Hidden : [[0.58906464 0.36779221 0.46368904]]\n",
      "Out : [[-0.57839935]]\n",
      "MSE: 0.33454581109834386\n",
      "Index: (0, 1), Weight: -0.5820000171661377\n",
      "Temp_weights: [array([[-0.0053, -0.582 , -0.2723],\n",
      "       [ 0.3793, -0.5204,  0.1896]], dtype=float32), array([-0.014 ,  0.5607, -0.0628], dtype=float32), array([[ 0.1528],\n",
      "       [-0.1745],\n",
      "       [-0.1135]], dtype=float32), array([-0.5516], dtype=float32)]\n",
      "Inputs: [[1 1]], Outputs: [[0]], Weights: [array([[-0.0053, -0.5819, -0.2723],\n",
      "       [ 0.3793, -0.5204,  0.1896]], dtype=float32), array([-0.014 ,  0.5607, -0.0628], dtype=float32), array([[ 0.1528],\n",
      "       [-0.1745],\n",
      "       [-0.1135]], dtype=float32), array([-0.5516], dtype=float32)]\n",
      "Pre_Hidden: [[ 0.36       -0.54159999 -0.1455    ]]\n",
      "Hidden : [[0.58904043 0.36781546 0.46368904]]\n",
      "Out : [[-0.57840711]]\n",
      "MSE: 0.3345547844899946\n",
      "Index: (0, 2), Weight: -0.27230000495910645\n",
      "Temp_weights: [array([[-0.0053, -0.582 , -0.2723],\n",
      "       [ 0.3793, -0.5204,  0.1896]], dtype=float32), array([-0.014 ,  0.5607, -0.0628], dtype=float32), array([[ 0.1528],\n",
      "       [-0.1745],\n",
      "       [-0.1135]], dtype=float32), array([-0.5516], dtype=float32)]\n",
      "Inputs: [[1 1]], Outputs: [[0]], Weights: [array([[-0.0053    , -0.582     , -0.27220002],\n",
      "       [ 0.3793    , -0.5204    ,  0.1896    ]], dtype=float32), array([-0.014 ,  0.5607, -0.0628], dtype=float32), array([[ 0.1528],\n",
      "       [-0.1745],\n",
      "       [-0.1135]], dtype=float32), array([-0.5516], dtype=float32)]\n",
      "Pre_Hidden: [[ 0.36       -0.54170001 -0.14540001]]\n",
      "Hidden : [[0.58904043 0.36779221 0.4637139 ]]\n",
      "Out : [[-0.57840587]]\n",
      "MSE: 0.33455335461405233\n",
      "Index: (1, 0), Weight: 0.37929999828338623\n",
      "Temp_weights: [array([[-0.0053, -0.582 , -0.2723],\n",
      "       [ 0.3793, -0.5204,  0.1896]], dtype=float32), array([-0.014 ,  0.5607, -0.0628], dtype=float32), array([[ 0.1528],\n",
      "       [-0.1745],\n",
      "       [-0.1135]], dtype=float32), array([-0.5516], dtype=float32)]\n",
      "Inputs: [[1 1]], Outputs: [[0]], Weights: [array([[-0.0053    , -0.582     , -0.2723    ],\n",
      "       [ 0.37939999, -0.5204    ,  0.1896    ]], dtype=float32), array([-0.014 ,  0.5607, -0.0628], dtype=float32), array([[ 0.1528],\n",
      "       [-0.1745],\n",
      "       [-0.1135]], dtype=float32), array([-0.5516], dtype=float32)]\n",
      "Pre_Hidden: [[ 0.36009998 -0.54170001 -0.1455    ]]\n",
      "Hidden : [[0.58906464 0.36779221 0.46368904]]\n",
      "Out : [[-0.57839935]]\n",
      "MSE: 0.3345458116562302\n",
      "Index: (1, 1), Weight: -0.5203999876976013\n",
      "Temp_weights: [array([[-0.0053, -0.582 , -0.2723],\n",
      "       [ 0.3793, -0.5204,  0.1896]], dtype=float32), array([-0.014 ,  0.5607, -0.0628], dtype=float32), array([[ 0.1528],\n",
      "       [-0.1745],\n",
      "       [-0.1135]], dtype=float32), array([-0.5516], dtype=float32)]\n",
      "Inputs: [[1 1]], Outputs: [[0]], Weights: [array([[-0.0053, -0.582 , -0.2723],\n",
      "       [ 0.3793, -0.5203,  0.1896]], dtype=float32), array([-0.014 ,  0.5607, -0.0628], dtype=float32), array([[ 0.1528],\n",
      "       [-0.1745],\n",
      "       [-0.1135]], dtype=float32), array([-0.5516], dtype=float32)]\n",
      "Pre_Hidden: [[ 0.36       -0.54159999 -0.1455    ]]\n",
      "Hidden : [[0.58904043 0.36781546 0.46368904]]\n",
      "Out : [[-0.57840711]]\n",
      "MSE: 0.3345547844899946\n",
      "Index: (1, 2), Weight: 0.18960000574588776\n",
      "Temp_weights: [array([[-0.0053, -0.582 , -0.2723],\n",
      "       [ 0.3793, -0.5204,  0.1896]], dtype=float32), array([-0.014 ,  0.5607, -0.0628], dtype=float32), array([[ 0.1528],\n",
      "       [-0.1745],\n",
      "       [-0.1135]], dtype=float32), array([-0.5516], dtype=float32)]\n",
      "Inputs: [[1 1]], Outputs: [[0]], Weights: [array([[-0.0053, -0.582 , -0.2723],\n",
      "       [ 0.3793, -0.5204,  0.1897]], dtype=float32), array([-0.014 ,  0.5607, -0.0628], dtype=float32), array([[ 0.1528],\n",
      "       [-0.1745],\n",
      "       [-0.1135]], dtype=float32), array([-0.5516], dtype=float32)]\n",
      "Pre_Hidden: [[ 0.36       -0.54170001 -0.1454    ]]\n",
      "Hidden : [[0.58904043 0.36779221 0.46371391]]\n",
      "Out : [[-0.57840587]]\n",
      "MSE: 0.3345533551006001\n",
      "I: 1, Layer: [-0.014   0.5607 -0.0628]\n",
      "Index: (0,), Weight: -0.014000000432133675\n",
      "Temp_weights: [array([[-0.0053, -0.582 , -0.2723],\n",
      "       [ 0.3793, -0.5204,  0.1896]], dtype=float32), array([-0.014 ,  0.5607, -0.0628], dtype=float32), array([[ 0.1528],\n",
      "       [-0.1745],\n",
      "       [-0.1135]], dtype=float32), array([-0.5516], dtype=float32)]\n",
      "Inputs: [[1 1]], Outputs: [[0]], Weights: [array([[-0.0053, -0.582 , -0.2723],\n",
      "       [ 0.3793, -0.5204,  0.1896]], dtype=float32), array([-0.0139,  0.5607, -0.0628], dtype=float32), array([[ 0.1528],\n",
      "       [-0.1745],\n",
      "       [-0.1135]], dtype=float32), array([-0.5516], dtype=float32)]\n",
      "Pre_Hidden: [[ 0.3601     -0.54170001 -0.1455    ]]\n",
      "Hidden : [[0.58906464 0.36779221 0.46368904]]\n",
      "Out : [[-0.57839935]]\n",
      "MSE: 0.33454581109834386\n",
      "Index: (1,), Weight: 0.560699999332428\n",
      "Temp_weights: [array([[-0.0053, -0.582 , -0.2723],\n",
      "       [ 0.3793, -0.5204,  0.1896]], dtype=float32), array([-0.014 ,  0.5607, -0.0628], dtype=float32), array([[ 0.1528],\n",
      "       [-0.1745],\n",
      "       [-0.1135]], dtype=float32), array([-0.5516], dtype=float32)]\n",
      "Inputs: [[1 1]], Outputs: [[0]], Weights: [array([[-0.0053, -0.582 , -0.2723],\n",
      "       [ 0.3793, -0.5204,  0.1896]], dtype=float32), array([-0.014 ,  0.5608, -0.0628], dtype=float32), array([[ 0.1528],\n",
      "       [-0.1745],\n",
      "       [-0.1135]], dtype=float32), array([-0.5516], dtype=float32)]\n",
      "Pre_Hidden: [[ 0.36       -0.54159999 -0.1455    ]]\n",
      "Hidden : [[0.58904043 0.36781546 0.46368904]]\n",
      "Out : [[-0.57840711]]\n",
      "MSE: 0.3345547844899946\n",
      "Index: (2,), Weight: -0.06279999762773514\n",
      "Temp_weights: [array([[-0.0053, -0.582 , -0.2723],\n",
      "       [ 0.3793, -0.5204,  0.1896]], dtype=float32), array([-0.014 ,  0.5607, -0.0628], dtype=float32), array([[ 0.1528],\n",
      "       [-0.1745],\n",
      "       [-0.1135]], dtype=float32), array([-0.5516], dtype=float32)]\n",
      "Inputs: [[1 1]], Outputs: [[0]], Weights: [array([[-0.0053, -0.582 , -0.2723],\n",
      "       [ 0.3793, -0.5204,  0.1896]], dtype=float32), array([-0.014 ,  0.5607, -0.0627], dtype=float32), array([[ 0.1528],\n",
      "       [-0.1745],\n",
      "       [-0.1135]], dtype=float32), array([-0.5516], dtype=float32)]\n",
      "Pre_Hidden: [[ 0.36       -0.54170001 -0.1454    ]]\n",
      "Hidden : [[0.58904043 0.36779221 0.46371391]]\n",
      "Out : [[-0.57840587]]\n",
      "MSE: 0.3345533551006001\n",
      "I: 2, Layer: [[ 0.1528]\n",
      " [-0.1745]\n",
      " [-0.1135]]\n",
      "Index: (0, 0), Weight: 0.15279999375343323\n",
      "Temp_weights: [array([[-0.0053, -0.582 , -0.2723],\n",
      "       [ 0.3793, -0.5204,  0.1896]], dtype=float32), array([-0.014 ,  0.5607, -0.0628], dtype=float32), array([[ 0.1528],\n",
      "       [-0.1745],\n",
      "       [-0.1135]], dtype=float32), array([-0.5516], dtype=float32)]\n",
      "Inputs: [[1 1]], Outputs: [[0]], Weights: [array([[-0.0053, -0.582 , -0.2723],\n",
      "       [ 0.3793, -0.5204,  0.1896]], dtype=float32), array([-0.014 ,  0.5607, -0.0628], dtype=float32), array([[ 0.1529],\n",
      "       [-0.1745],\n",
      "       [-0.1135]], dtype=float32), array([-0.5516], dtype=float32)]\n",
      "Pre_Hidden: [[ 0.36       -0.54170001 -0.1455    ]]\n",
      "Hidden : [[0.58904043 0.36779221 0.46368904]]\n",
      "Out : [[-0.57834415]]\n",
      "MSE: 0.33448195165910993\n",
      "Index: (1, 0), Weight: -0.1745000034570694\n",
      "Temp_weights: [array([[-0.0053, -0.582 , -0.2723],\n",
      "       [ 0.3793, -0.5204,  0.1896]], dtype=float32), array([-0.014 ,  0.5607, -0.0628], dtype=float32), array([[ 0.1528],\n",
      "       [-0.1745],\n",
      "       [-0.1135]], dtype=float32), array([-0.5516], dtype=float32)]\n",
      "Inputs: [[1 1]], Outputs: [[0]], Weights: [array([[-0.0053, -0.582 , -0.2723],\n",
      "       [ 0.3793, -0.5204,  0.1896]], dtype=float32), array([-0.014 ,  0.5607, -0.0628], dtype=float32), array([[ 0.1528],\n",
      "       [-0.1744],\n",
      "       [-0.1135]], dtype=float32), array([-0.5516], dtype=float32)]\n",
      "Pre_Hidden: [[ 0.36       -0.54170001 -0.1455    ]]\n",
      "Hidden : [[0.58904043 0.36779221 0.46368904]]\n",
      "Out : [[-0.57836627]]\n",
      "MSE: 0.3345075441052644\n",
      "Index: (2, 0), Weight: -0.11349999904632568\n",
      "Temp_weights: [array([[-0.0053, -0.582 , -0.2723],\n",
      "       [ 0.3793, -0.5204,  0.1896]], dtype=float32), array([-0.014 ,  0.5607, -0.0628], dtype=float32), array([[ 0.1528],\n",
      "       [-0.1745],\n",
      "       [-0.1135]], dtype=float32), array([-0.5516], dtype=float32)]\n",
      "Inputs: [[1 1]], Outputs: [[0]], Weights: [array([[-0.0053, -0.582 , -0.2723],\n",
      "       [ 0.3793, -0.5204,  0.1896]], dtype=float32), array([-0.014 ,  0.5607, -0.0628], dtype=float32), array([[ 0.1528],\n",
      "       [-0.1745],\n",
      "       [-0.1134]], dtype=float32), array([-0.5516], dtype=float32)]\n",
      "Pre_Hidden: [[ 0.36       -0.54170001 -0.1455    ]]\n",
      "Hidden : [[0.58904043 0.36779221 0.46368904]]\n",
      "Out : [[-0.57835668]]\n",
      "MSE: 0.33449645131091177\n",
      "I: 3, Layer: [-0.5516]\n",
      "Index: (0,), Weight: -0.5515999794006348\n",
      "Temp_weights: [array([[-0.0053, -0.582 , -0.2723],\n",
      "       [ 0.3793, -0.5204,  0.1896]], dtype=float32), array([-0.014 ,  0.5607, -0.0628], dtype=float32), array([[ 0.1528],\n",
      "       [-0.1745],\n",
      "       [-0.1135]], dtype=float32), array([-0.5516], dtype=float32)]\n",
      "Inputs: [[1 1]], Outputs: [[0]], Weights: [array([[-0.0053, -0.582 , -0.2723],\n",
      "       [ 0.3793, -0.5204,  0.1896]], dtype=float32), array([-0.014 ,  0.5607, -0.0628], dtype=float32), array([[ 0.1528],\n",
      "       [-0.1745],\n",
      "       [-0.1135]], dtype=float32), array([-0.55149996], dtype=float32)]\n",
      "Pre_Hidden: [[ 0.36       -0.54170001 -0.1455    ]]\n",
      "Hidden : [[0.58904043 0.36779221 0.46368904]]\n",
      "Out : [[-0.57830303]]\n",
      "MSE: 0.3344344000966799\n",
      "W: [array([[-0.00487212, -0.58246946, -0.2726265 ],\n",
      "       [ 0.3797278 , -0.52086943,  0.18927349]], dtype=float32), array([-0.01357212,  0.56023055, -0.06312652], dtype=float32), array([[ 0.15961382],\n",
      "       [-0.17024542],\n",
      "       [-0.10813614]], dtype=float32), array([-0.540031], dtype=float32)], loss: 0.33455008989960927\n"
     ]
    },
    {
     "data": {
      "text/plain": [
       "Text(0.5, 1.0, 'Loss over increasing number of epochs')"
      ]
     },
     "execution_count": 18,
     "metadata": {},
     "output_type": "execute_result"
    },
    {
     "data": {
      "image/png": "[encoded data removed]",
      "text/plain": [
       "<Figure size 432x288 with 1 Axes>"
      ]
     },
     "metadata": {
      "needs_background": "light"
     },
     "output_type": "display_data"
    }
   ],
   "source": [
    "losses = []\n",
    "for epoch in range(1):\n",
    "    W, loss = update_weights(x,y,W,0.01)\n",
    "    print(f\"W: {W}, loss: {loss}\")\n",
    "    losses.append(loss)\n",
    "plt.plot(losses)\n",
    "plt.title('Loss over increasing number of epochs')"
   ]
  },
  {
   "cell_type": "code",
   "execution_count": 33,
   "metadata": {},
   "outputs": [],
   "source": [
    "x = np.array([[1,1]])\n",
    "y = np.array([[0]])"
   ]
  },
  {
   "cell_type": "code",
   "execution_count": 34,
   "metadata": {},
   "outputs": [
    {
     "name": "stdout",
     "output_type": "stream",
     "text": [
      "[[1 1]]\n",
      "[[0]]\n"
     ]
    }
   ],
   "source": [
    "for i in [x,y]:\n",
    "    print(i)"
   ]
  },
  {
   "cell_type": "code",
   "execution_count": null,
   "metadata": {},
   "outputs": [],
   "source": []
  },
  {
   "cell_type": "code",
   "execution_count": 36,
   "metadata": {},
   "outputs": [],
   "source": [
    "import torch"
   ]
  },
  {
   "cell_type": "code",
   "execution_count": 37,
   "metadata": {},
   "outputs": [],
   "source": [
    "x, y = [torch.tensor(i).float() for i in [x,y]]"
   ]
  },
  {
   "cell_type": "code",
   "execution_count": 38,
   "metadata": {},
   "outputs": [
    {
     "data": {
      "text/plain": [
       "tensor([[1., 1.]])"
      ]
     },
     "execution_count": 38,
     "metadata": {},
     "output_type": "execute_result"
    }
   ],
   "source": [
    "x"
   ]
  },
  {
   "cell_type": "code",
   "execution_count": 39,
   "metadata": {},
   "outputs": [
    {
     "data": {
      "text/plain": [
       "tensor([[0.]])"
      ]
     },
     "execution_count": 39,
     "metadata": {},
     "output_type": "execute_result"
    }
   ],
   "source": [
    "y"
   ]
  },
  {
   "cell_type": "code",
   "execution_count": 40,
   "metadata": {},
   "outputs": [],
   "source": [
    "W = [\n",
    "    np.array([[-0.0053, 0.3793],\n",
    "              [-0.5820, -0.5204],\n",
    "              [-0.2723, 0.1896]], dtype=np.float32).T, \n",
    "    np.array([-0.0140, 0.5607, -0.0628], dtype=np.float32), \n",
    "    np.array([[ 0.1528, -0.1745, -0.1135]], dtype=np.float32).T, \n",
    "    np.array([-0.5516], dtype=np.float32)\n",
    "]\n"
   ]
  },
  {
   "cell_type": "code",
   "execution_count": 41,
   "metadata": {},
   "outputs": [
    {
     "name": "stdout",
     "output_type": "stream",
     "text": [
      "[[-0.0053 -0.582  -0.2723]\n",
      " [ 0.3793 -0.5204  0.1896]]\n",
      "[-0.014   0.5607 -0.0628]\n",
      "[[ 0.1528]\n",
      " [-0.1745]\n",
      " [-0.1135]]\n",
      "[-0.5516]\n"
     ]
    }
   ],
   "source": [
    "for i in W:\n",
    "    print(i)"
   ]
  },
  {
   "cell_type": "code",
   "execution_count": 42,
   "metadata": {},
   "outputs": [],
   "source": [
    "W=[torch.tensor(i, requires_grad=True) for i in W]"
   ]
  },
  {
   "cell_type": "code",
   "execution_count": 43,
   "metadata": {},
   "outputs": [
    {
     "name": "stdout",
     "output_type": "stream",
     "text": [
      "tensor([[-0.0053, -0.5820, -0.2723],\n",
      "        [ 0.3793, -0.5204,  0.1896]], requires_grad=True)\n",
      "tensor([-0.0140,  0.5607, -0.0628], requires_grad=True)\n",
      "tensor([[ 0.1528],\n",
      "        [-0.1745],\n",
      "        [-0.1135]], requires_grad=True)\n",
      "tensor([-0.5516], requires_grad=True)\n"
     ]
    }
   ],
   "source": [
    "for i in W:\n",
    "    print(i)"
   ]
  },
  {
   "cell_type": "code",
   "execution_count": 44,
   "metadata": {},
   "outputs": [],
   "source": [
    "def feed_forward(inputs, outputs, weights):\n",
    "    print(f\"Inputs: {inputs}, Outputs: {outputs}, Weights: {weights}\")\n",
    "    pre_hidden = torch.matmul(inputs,weights[0])+ weights[1]\n",
    "    print(f\"Pre_Hidden: {pre_hidden}\")\n",
    "    hidden = 1/(1+torch.exp(-pre_hidden))\n",
    "    print(f\"Hidden : {hidden}\")\n",
    "    out = torch.matmul(hidden, weights[2]) + weights[3]\n",
    "    print(f\"Out : {out}\")\n",
    "    mean_squared_error = torch.mean(torch.square(out - outputs))\n",
    "    print(f\"MSE: {mean_squared_error}\")\n",
    "    return mean_squared_error"
   ]
  },
  {
   "cell_type": "code",
   "execution_count": 45,
   "metadata": {},
   "outputs": [
    {
     "name": "stdout",
     "output_type": "stream",
     "text": [
      "Inputs: tensor([[1., 1.]]), Outputs: tensor([[0.]]), Weights: [tensor([[-0.0053, -0.5820, -0.2723],\n",
      "        [ 0.3793, -0.5204,  0.1896]], requires_grad=True), tensor([-0.0140,  0.5607, -0.0628], requires_grad=True), tensor([[ 0.1528],\n",
      "        [-0.1745],\n",
      "        [-0.1135]], requires_grad=True), tensor([-0.5516], requires_grad=True)]\n",
      "Pre_Hidden: tensor([[ 0.3600, -0.5417, -0.1455]], grad_fn=<AddBackward0>)\n",
      "Hidden : tensor([[0.5890, 0.3678, 0.4637]], grad_fn=<MulBackward0>)\n",
      "Out : tensor([[-0.5784]], grad_fn=<AddBackward0>)\n",
      "MSE: 0.33455008268356323\n"
     ]
    },
    {
     "data": {
      "text/plain": [
       "tensor(0.3346, grad_fn=<MeanBackward0>)"
      ]
     },
     "execution_count": 45,
     "metadata": {},
     "output_type": "execute_result"
    }
   ],
   "source": [
    "loss = feed_forward(x, y, W)\n",
    "loss"
   ]
  },
  {
   "cell_type": "code",
   "execution_count": null,
   "metadata": {},
   "outputs": [],
   "source": []
  }
 ],
 "metadata": {
  "kernelspec": {
   "display_name": "Python 3",
   "language": "python",
   "name": "python3"
  },
  "language_info": {
   "codemirror_mode": {
    "name": "ipython",
    "version": 3
   },
   "file_extension": ".py",
   "mimetype": "text/x-python",
   "name": "python",
   "nbconvert_exporter": "python",
   "pygments_lexer": "ipython3",
   "version": "3.8.5"
  }
 },
 "nbformat": 4,
 "nbformat_minor": 4
}
