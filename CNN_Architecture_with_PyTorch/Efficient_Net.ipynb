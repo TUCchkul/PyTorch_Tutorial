{
 "cells": [
  {
   "cell_type": "code",
   "execution_count": 1,
   "metadata": {},
   "outputs": [],
   "source": [
    "import torch\n",
    "import torch.nn as nn\n",
    "from math import ceil"
   ]
  },
  {
   "cell_type": "code",
   "execution_count": null,
   "metadata": {},
   "outputs": [],
   "source": [
    "base_model=[\n",
    "    # expand_ration, channels, repeats, stride, kernel_size\n",
    "    [1,16,1,1,3],\n",
    "    [6,24,2,2,3],\n",
    "    [6,40,2,2,5],\n",
    "    [4,80,3,2,3],\n",
    "    [6,112,3,1,5],\n",
    "    [6,192,4,2,5],\n",
    "    [6,320,1,1,3]\n",
    "]"
   ]
  }
 ],
 "metadata": {
  "kernelspec": {
   "display_name": "Python 3",
   "language": "python",
   "name": "python3"
  },
  "language_info": {
   "codemirror_mode": {
    "name": "ipython",
    "version": 3
   },
   "file_extension": ".py",
   "mimetype": "text/x-python",
   "name": "python",
   "nbconvert_exporter": "python",
   "pygments_lexer": "ipython3",
   "version": "3.8.5"
  }
 },
 "nbformat": 4,
 "nbformat_minor": 4
}
