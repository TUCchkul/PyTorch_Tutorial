{
 "cells": [
  {
   "cell_type": "code",
   "execution_count": 1,
   "metadata": {},
   "outputs": [],
   "source": [
    "import torch\n",
    "import torch.nn as nn"
   ]
  },
  {
   "cell_type": "code",
   "execution_count": 9,
   "metadata": {},
   "outputs": [
    {
     "name": "stdout",
     "output_type": "stream",
     "text": [
      "LeNet(\n",
      "  (relu): ReLU()\n",
      "  (pool): AvgPool2d(kernel_size=(2, 2), stride=(2, 2), padding=0)\n",
      "  (conv1): Conv2d(1, 6, kernel_size=(5, 5), stride=(1, 1))\n",
      "  (conv2): Conv2d(6, 16, kernel_size=(5, 5), stride=(1, 1))\n",
      "  (conv3): Conv2d(16, 120, kernel_size=(5, 5), stride=(1, 1))\n",
      "  (linear1): Linear(in_features=120, out_features=84, bias=True)\n",
      "  (linear2): Linear(in_features=84, out_features=10, bias=True)\n",
      ")\n",
      "torch.Size([64, 120, 1, 1])\n",
      "After reshaping: torch.Size([64, 120])\n",
      "torch.Size([64, 10])\n",
      "Final model architecture:torch.Size([64, 10])\n"
     ]
    }
   ],
   "source": [
    "class LeNet(nn.Module):\n",
    "    def __init__(self):\n",
    "        super(LeNet, self).__init__()\n",
    "        self.relu=nn.ReLU()\n",
    "        self.pool=nn.AvgPool2d(kernel_size=(2,2), stride=(2,2))\n",
    "        self.conv1=nn.Conv2d(in_channels=1,out_channels=6, kernel_size=(5,5), stride=(1,1), padding=(0,0))\n",
    "        self.conv2=nn.Conv2d(in_channels=6,out_channels=16, kernel_size=(5,5), stride=(1,1),padding=(0,0))\n",
    "        self.conv3=nn.Conv2d(in_channels=16, out_channels=120, kernel_size=(5,5), stride=(1,1), padding=(0,0))\n",
    "        self.linear1=nn.Linear(120,84)\n",
    "        self.linear2=nn.Linear(84,10)\n",
    "    def forward(self,x):\n",
    "        x=self.relu(self.conv1(x))\n",
    "        x=self.pool(x)\n",
    "        x=self.relu(self.conv2(x))\n",
    "        x=self.pool(x)\n",
    "        x=self.relu(self.conv3(x))\n",
    "        print(x.shape)\n",
    "        x=x.reshape(x.shape[0],-1)\n",
    "        print(f\"After reshaping: {x.shape}\")\n",
    "        x=self.relu(self.linear1(x))\n",
    "        x=self.linear2(x)\n",
    "        print(x.shape)\n",
    "        return x\n",
    "x=torch.randn(64,1,32,32)\n",
    "model=LeNet()\n",
    "print(model)\n",
    "print(f\"Final model architecture:{model(x).shape}\")"
   ]
  },
  {
   "cell_type": "code",
   "execution_count": null,
   "metadata": {},
   "outputs": [],
   "source": []
  }
 ],
 "metadata": {
  "kernelspec": {
   "display_name": "Python 3",
   "language": "python",
   "name": "python3"
  },
  "language_info": {
   "codemirror_mode": {
    "name": "ipython",
    "version": 3
   },
   "file_extension": ".py",
   "mimetype": "text/x-python",
   "name": "python",
   "nbconvert_exporter": "python",
   "pygments_lexer": "ipython3",
   "version": "3.8.5"
  }
 },
 "nbformat": 4,
 "nbformat_minor": 4
}
