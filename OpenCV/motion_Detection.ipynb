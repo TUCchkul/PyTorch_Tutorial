{
 "cells": [
  {
   "cell_type": "code",
   "execution_count": 2,
   "metadata": {},
   "outputs": [],
   "source": [
    "import cv2\n",
    "import numpy as np"
   ]
  },
  {
   "cell_type": "code",
   "execution_count": 3,
   "metadata": {},
   "outputs": [],
   "source": [
    "cap=cv2.VideoCapture('vtest.avi')\n",
    "ret, frame1=cap.read()\n",
    "ret, frame2=cap.read()\n",
    "\n",
    "\n",
    "while cap.isOpened():\n",
    "    diff=cv2.absdiff(frame1,frame2)\n",
    "    gray=cv2.cvtColor(diff, cv2.COLOR_BGR2GRAY)\n",
    "    blur=cv2.GaussianBlur(gray, (5,5), 0)\n",
    "    _,thresh=cv2.threshold(blur, 20, 255,cv2.THRESH_BINARY)\n",
    "    dialated=cv2.dilate(thresh, None, iterations=3)\n",
    "    contures,_=cv2.findContours(dialated, cv2.RETR_TREE, cv2.CHAIN_APPROX_SIMPLE)\n",
    "    #cv2.drawContours(frame1, contures, -1,(0,255,0),2)\n",
    "    for conture in contures:\n",
    "        (x,y,w,h)=cv2.boundingRect(conture)\n",
    "        if cv2.contourArea(conture)<900:\n",
    "            continue\n",
    "        cv2.rectangle(frame1,(x,y),(x+w,y+h), (0,255,0),2)\n",
    "        cv2.putText(frame1,\"Status: {}\".format('Movement'),(10,20), cv2.FONT_HERSHEY_SCRIPT_SIMPLEX, 1,(0,0,255),3)\n",
    "        \n",
    "    cv2.imshow(\"inter\", frame1)\n",
    "    frame1=frame2\n",
    "    ret, frame2=cap.read()\n",
    "    if cv2.waitKey(1) & 0xFF==ord('q'):\n",
    "        break\n",
    "cap.release()\n",
    "cv2.destroyAllWindows()"
   ]
  },
  {
   "cell_type": "code",
   "execution_count": null,
   "metadata": {},
   "outputs": [],
   "source": []
  }
 ],
 "metadata": {
  "kernelspec": {
   "display_name": "Python 3",
   "language": "python",
   "name": "python3"
  },
  "language_info": {
   "codemirror_mode": {
    "name": "ipython",
    "version": 3
   },
   "file_extension": ".py",
   "mimetype": "text/x-python",
   "name": "python",
   "nbconvert_exporter": "python",
   "pygments_lexer": "ipython3",
   "version": "3.8.5"
  }
 },
 "nbformat": 4,
 "nbformat_minor": 4
}
