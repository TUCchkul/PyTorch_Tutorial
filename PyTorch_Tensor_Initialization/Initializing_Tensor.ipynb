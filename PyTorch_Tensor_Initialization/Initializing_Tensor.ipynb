{
 "cells": [
  {
   "cell_type": "code",
   "execution_count": 1,
   "metadata": {},
   "outputs": [],
   "source": [
    "import torch"
   ]
  },
  {
   "cell_type": "code",
   "execution_count": 6,
   "metadata": {},
   "outputs": [
    {
     "name": "stdout",
     "output_type": "stream",
     "text": [
      "tensor([[1., 2., 3.],\n",
      "        [4., 5., 6.]], requires_grad=True)\n"
     ]
    }
   ],
   "source": [
    "my_tensor=torch.tensor([[1,2,3],[4,5,6]], dtype=torch.float32, device=device, requires_grad=True)\n",
    "print(my_tensor)"
   ]
  },
  {
   "cell_type": "code",
   "execution_count": 4,
   "metadata": {},
   "outputs": [],
   "source": [
    "device=\"cuda\" if torch.cuda.is_available() else \"cpu\""
   ]
  },
  {
   "cell_type": "code",
   "execution_count": 7,
   "metadata": {},
   "outputs": [
    {
     "name": "stdout",
     "output_type": "stream",
     "text": [
      "cpu\n"
     ]
    }
   ],
   "source": [
    "print(my_tensor.device)"
   ]
  },
  {
   "cell_type": "code",
   "execution_count": 8,
   "metadata": {},
   "outputs": [
    {
     "name": "stdout",
     "output_type": "stream",
     "text": [
      "torch.Size([2, 3])\n"
     ]
    }
   ],
   "source": [
    "print(my_tensor.shape)"
   ]
  },
  {
   "cell_type": "code",
   "execution_count": 9,
   "metadata": {},
   "outputs": [
    {
     "name": "stdout",
     "output_type": "stream",
     "text": [
      "True\n"
     ]
    }
   ],
   "source": [
    "print(my_tensor.requires_grad)"
   ]
  },
  {
   "cell_type": "code",
   "execution_count": 10,
   "metadata": {},
   "outputs": [
    {
     "name": "stdout",
     "output_type": "stream",
     "text": [
      "tensor([[9.0919e-39, 8.9082e-39, 9.2755e-39],\n",
      "        [8.4490e-39, 1.0194e-38, 9.0919e-39],\n",
      "        [8.4490e-39, 8.7245e-39, 1.0102e-38]])\n"
     ]
    }
   ],
   "source": [
    "x=torch.empty(size=(3,3))\n",
    "print(x)"
   ]
  },
  {
   "cell_type": "code",
   "execution_count": 11,
   "metadata": {},
   "outputs": [
    {
     "name": "stdout",
     "output_type": "stream",
     "text": [
      "tensor([[0., 0., 0.],\n",
      "        [0., 0., 0.],\n",
      "        [0., 0., 0.]])\n"
     ]
    }
   ],
   "source": [
    "x=torch.zeros((3,3))\n",
    "print(x)"
   ]
  },
  {
   "cell_type": "code",
   "execution_count": 12,
   "metadata": {},
   "outputs": [
    {
     "name": "stdout",
     "output_type": "stream",
     "text": [
      "tensor([[0.9778, 0.8142, 0.3783],\n",
      "        [0.0449, 0.8901, 0.0450],\n",
      "        [0.4167, 0.7192, 0.6242]])\n"
     ]
    }
   ],
   "source": [
    "x=torch.rand((3,3))\n",
    "print(x)"
   ]
  },
  {
   "cell_type": "code",
   "execution_count": 13,
   "metadata": {},
   "outputs": [
    {
     "name": "stdout",
     "output_type": "stream",
     "text": [
      "tensor([[1., 1., 1.],\n",
      "        [1., 1., 1.],\n",
      "        [1., 1., 1.]])\n"
     ]
    }
   ],
   "source": [
    "x=torch.ones((3,3))\n",
    "print(x)"
   ]
  },
  {
   "cell_type": "code",
   "execution_count": 15,
   "metadata": {},
   "outputs": [
    {
     "name": "stdout",
     "output_type": "stream",
     "text": [
      "tensor([[1., 0., 0., 0.],\n",
      "        [0., 1., 0., 0.],\n",
      "        [0., 0., 1., 0.],\n",
      "        [0., 0., 0., 1.]])\n"
     ]
    }
   ],
   "source": [
    "x=torch.eye(4,4)\n",
    "print(x)"
   ]
  },
  {
   "cell_type": "code",
   "execution_count": 20,
   "metadata": {},
   "outputs": [
    {
     "name": "stdout",
     "output_type": "stream",
     "text": [
      "tensor([[1., 0., 0.],\n",
      "        [0., 1., 0.],\n",
      "        [0., 0., 1.]])\n"
     ]
    }
   ],
   "source": [
    "x=torch.arange(start=0,end=5, step=1)\n",
    "x=torch.linspace(start=0.1, end=1, steps=10)\n",
    "x=torch.empty(size=(1,5)).normal_(mean=0,std=1)\n",
    "x=torch.empty(size=(1,5)).uniform_(0,1)\n",
    "x=torch.diag(torch.ones(3))\n",
    "print(x)"
   ]
  },
  {
   "cell_type": "code",
   "execution_count": 22,
   "metadata": {},
   "outputs": [
    {
     "name": "stdout",
     "output_type": "stream",
     "text": [
      "tensor([False,  True,  True,  True])\n",
      "tensor([0, 1, 2, 3], dtype=torch.int16)\n",
      "tensor([0, 1, 2, 3])\n",
      "tensor([0., 1., 2., 3.], dtype=torch.float16)\n",
      "tensor([0., 1., 2., 3.])\n",
      "tensor([0., 1., 2., 3.], dtype=torch.float64)\n"
     ]
    }
   ],
   "source": [
    "# Initialize and convert tensor to others type\n",
    "tensor=torch.arange(4)\n",
    "print(tensor.bool())\n",
    "print(tensor.short())\n",
    "print(tensor.long())\n",
    "print(tensor.half())\n",
    "print(tensor.float())\n",
    "print(tensor.double())"
   ]
  },
  {
   "cell_type": "code",
   "execution_count": 23,
   "metadata": {},
   "outputs": [
    {
     "name": "stdout",
     "output_type": "stream",
     "text": [
      "[[0. 0. 0. 0. 0.]\n",
      " [0. 0. 0. 0. 0.]\n",
      " [0. 0. 0. 0. 0.]\n",
      " [0. 0. 0. 0. 0.]\n",
      " [0. 0. 0. 0. 0.]]\n",
      "tensor([[0., 0., 0., 0., 0.],\n",
      "        [0., 0., 0., 0., 0.],\n",
      "        [0., 0., 0., 0., 0.],\n",
      "        [0., 0., 0., 0., 0.],\n",
      "        [0., 0., 0., 0., 0.]], dtype=torch.float64)\n",
      "[[0. 0. 0. 0. 0.]\n",
      " [0. 0. 0. 0. 0.]\n",
      " [0. 0. 0. 0. 0.]\n",
      " [0. 0. 0. 0. 0.]\n",
      " [0. 0. 0. 0. 0.]]\n"
     ]
    }
   ],
   "source": [
    "# Array to tensor conversion\n",
    "import numpy as np\n",
    "np_array=np.zeros((5,5))\n",
    "print(np_array)\n",
    "tensor=torch.from_numpy(np_array)\n",
    "print(tensor)\n",
    "np_array_back=tensor.numpy()\n",
    "print(np_array_back)"
   ]
  },
  {
   "cell_type": "code",
   "execution_count": 29,
   "metadata": {},
   "outputs": [
    {
     "name": "stdout",
     "output_type": "stream",
     "text": [
      "tensor([1, 2, 3])\n",
      "tensor([1., 2., 3.])\n",
      "tensor([1, 2, 3])\n"
     ]
    }
   ],
   "source": [
    "# Tensor math and comparison operations\n",
    "x=torch.tensor([1,2,3])\n",
    "y=torch.tensor([9,8,7])\n",
    "#Addition\n",
    "z1=torch.empty(3)\n",
    "z2=torch.add(x,y)\n",
    "z=x+y\n",
    "#Subtraction\n",
    "z=x-y\n",
    "#division\n",
    "z=torch.true_divide(x,y)\n",
    "torch.add(x,y,out=z1)\n",
    "#inplace operatons\n",
    "print(x)\n",
    "t=torch.zeros(3)\n",
    "t=t.add_(x)\n",
    "print(t)\n",
    "print(x)"
   ]
  },
  {
   "cell_type": "code",
   "execution_count": 31,
   "metadata": {},
   "outputs": [
    {
     "name": "stdout",
     "output_type": "stream",
     "text": [
      "tensor([[0.2868, 0.1701, 0.1874, 0.2320, 0.0990],\n",
      "        [0.4800, 0.7116, 0.8263, 0.5584, 0.6468]])\n",
      "tensor([[0.6133, 0.3696, 0.2258],\n",
      "        [0.6030, 0.1240, 0.1792],\n",
      "        [0.9102, 0.6979, 0.3321],\n",
      "        [0.3704, 0.8854, 0.2467],\n",
      "        [0.7867, 0.4333, 0.4719]])\n",
      "tensor([[0.6128, 0.5061, 0.2614],\n",
      "        [2.1913, 1.6170, 0.9533]])\n",
      "tensor([[0.6128, 0.5061, 0.2614],\n",
      "        [2.1913, 1.6170, 0.9533]])\n"
     ]
    }
   ],
   "source": [
    "# Matrix multiplications\n",
    "x1=torch.rand((2,5))\n",
    "print(x1)\n",
    "x2=torch.rand((5,3))\n",
    "print(x2)\n",
    "x3=torch.mm(x1,x2)\n",
    "print(x3)\n",
    "x3=x1.mm(x2)\n",
    "print(x3)"
   ]
  },
  {
   "cell_type": "code",
   "execution_count": 32,
   "metadata": {},
   "outputs": [
    {
     "name": "stdout",
     "output_type": "stream",
     "text": [
      "tensor([[3.3395, 4.2177, 3.9793, 3.3454, 4.1790],\n",
      "        [3.2504, 3.7772, 3.4874, 2.9725, 4.1489],\n",
      "        [2.8568, 2.9791, 3.0307, 2.1551, 3.0288],\n",
      "        [3.5335, 4.0030, 3.6872, 3.0275, 4.3338],\n",
      "        [2.8531, 3.7505, 3.0738, 3.0640, 4.2613]])\n"
     ]
    }
   ],
   "source": [
    "# matrix exponentiation\n",
    "matrix_exp=torch.rand(5,5)\n",
    "print(matrix_exp.matrix_power(3))"
   ]
  },
  {
   "cell_type": "code",
   "execution_count": 33,
   "metadata": {},
   "outputs": [
    {
     "name": "stdout",
     "output_type": "stream",
     "text": [
      "tensor([ 9, 16, 21])\n"
     ]
    }
   ],
   "source": [
    "#element wise multiplication\n",
    "z=x*y\n",
    "print(z)"
   ]
  },
  {
   "cell_type": "code",
   "execution_count": 34,
   "metadata": {},
   "outputs": [
    {
     "name": "stdout",
     "output_type": "stream",
     "text": [
      "tensor(46)\n"
     ]
    }
   ],
   "source": [
    "z=torch.dot(x,y)\n",
    "print(z)"
   ]
  },
  {
   "cell_type": "code",
   "execution_count": 42,
   "metadata": {},
   "outputs": [
    {
     "name": "stdout",
     "output_type": "stream",
     "text": [
      "tensor([[[5.8459e-01, 4.1466e-01, 4.5116e-01, 4.4165e-02, 2.3433e-01,\n",
      "          6.4963e-03, 4.3691e-01, 2.7247e-01, 8.8461e-01, 6.0489e-01],\n",
      "         [4.4990e-01, 1.4784e-01, 9.2632e-03, 1.3098e-01, 6.1397e-01,\n",
      "          8.0351e-01, 2.0840e-01, 6.8484e-01, 4.4157e-01, 9.1523e-01],\n",
      "         [4.1658e-01, 2.9692e-01, 8.6775e-01, 2.7795e-01, 7.7190e-01,\n",
      "          1.0839e-01, 9.3145e-01, 1.1217e-01, 4.0049e-01, 9.3947e-01],\n",
      "         [2.3882e-01, 7.1248e-01, 2.2706e-01, 6.3399e-01, 4.7661e-01,\n",
      "          6.3695e-02, 7.2701e-01, 8.8493e-01, 9.2875e-01, 2.9446e-01],\n",
      "         [8.2638e-01, 9.1514e-01, 6.1260e-01, 7.3179e-01, 4.6958e-01,\n",
      "          5.6080e-01, 2.4924e-01, 4.3426e-01, 4.0663e-01, 3.0050e-01]],\n",
      "\n",
      "        [[5.1823e-01, 7.4258e-01, 9.0359e-01, 1.9234e-01, 8.2796e-01,\n",
      "          1.5742e-02, 7.1933e-01, 8.0944e-02, 8.2552e-05, 4.3714e-02],\n",
      "         [8.4298e-01, 6.9296e-01, 3.9385e-01, 4.2411e-01, 7.4275e-01,\n",
      "          8.0607e-01, 6.1441e-01, 9.5940e-01, 5.3388e-01, 6.6628e-01],\n",
      "         [3.2356e-01, 2.1572e-01, 8.2296e-01, 5.0335e-01, 3.1595e-01,\n",
      "          6.0918e-01, 3.6884e-01, 5.2310e-01, 1.8524e-01, 1.6608e-01],\n",
      "         [7.0576e-01, 6.5173e-01, 1.5406e-01, 7.2394e-01, 7.1712e-01,\n",
      "          9.3807e-01, 1.2173e-01, 1.1637e-01, 1.2851e-01, 1.2522e-01],\n",
      "         [7.7571e-01, 5.1932e-01, 2.9119e-01, 8.8724e-01, 7.8427e-01,\n",
      "          2.6882e-01, 4.9845e-01, 4.1926e-01, 5.4014e-01, 3.1970e-01]],\n",
      "\n",
      "        [[8.8510e-01, 7.3451e-01, 4.5650e-01, 6.5955e-01, 6.0730e-01,\n",
      "          1.0480e-01, 7.4875e-01, 3.3891e-01, 7.4593e-01, 1.1781e-01],\n",
      "         [8.1594e-01, 3.1648e-02, 6.3996e-01, 5.7691e-01, 2.6175e-01,\n",
      "          8.2939e-01, 1.8282e-01, 5.0154e-01, 3.1499e-01, 4.4027e-01],\n",
      "         [4.5710e-01, 8.9946e-02, 7.7586e-01, 3.0741e-03, 6.4691e-02,\n",
      "          5.3950e-01, 3.5690e-01, 7.1170e-01, 7.6587e-01, 2.7650e-01],\n",
      "         [7.4601e-01, 4.0177e-01, 5.8804e-01, 8.0764e-01, 4.3494e-01,\n",
      "          1.8931e-01, 8.9353e-01, 5.0483e-01, 4.9375e-01, 8.1092e-01],\n",
      "         [9.6956e-02, 7.7672e-01, 6.8538e-01, 4.8183e-01, 5.2401e-01,\n",
      "          1.1338e-01, 1.6105e-01, 8.2112e-01, 5.2160e-01, 3.7165e-01]]])\n",
      "tensor([[[1.6953, 2.3075, 1.8775, 2.0850, 1.6197, 2.2673, 1.9106, 2.2155,\n",
      "          2.3560, 0.8423],\n",
      "         [1.5510, 2.3117, 1.5014, 2.4393, 1.8632, 2.1592, 2.2409, 2.2175,\n",
      "          2.6160, 1.2221],\n",
      "         [2.2491, 2.6830, 2.7198, 3.0555, 2.2061, 2.9640, 2.7299, 2.6819,\n",
      "          3.3220, 1.2775],\n",
      "         [2.4297, 2.6181, 2.6526, 2.7682, 2.2968, 2.5342, 2.6157, 2.7335,\n",
      "          3.1586, 1.3321],\n",
      "         [2.6229, 2.2307, 2.5116, 3.4726, 2.6382, 2.2358, 3.0856, 3.4136,\n",
      "          3.0929, 1.6840]],\n",
      "\n",
      "        [[2.2647, 2.1923, 2.1950, 2.0451, 2.2374, 1.8090, 1.2519, 2.3903,\n",
      "          2.2008, 1.8465],\n",
      "         [3.2436, 3.0158, 3.2132, 3.3313, 2.5655, 3.1840, 2.3069, 3.8288,\n",
      "          3.8086, 3.1121],\n",
      "         [2.2082, 1.8740, 2.1496, 2.3245, 1.3244, 2.2616, 1.2460, 2.4224,\n",
      "          2.1318, 1.6987],\n",
      "         [1.6329, 1.3264, 1.8242, 1.7842, 2.0020, 2.1882, 1.7940, 2.5624,\n",
      "          2.2213, 1.7511],\n",
      "         [2.5959, 2.3140, 2.2567, 2.6154, 2.1640, 2.6488, 2.2807, 3.2985,\n",
      "          2.7254, 2.6292]],\n",
      "\n",
      "        [[2.7138, 2.1396, 3.1278, 3.4073, 1.4587, 2.3769, 2.0442, 2.8089,\n",
      "          2.3217, 3.0619],\n",
      "         [2.0478, 2.3272, 2.5515, 3.5022, 1.2711, 2.4282, 1.7526, 2.3538,\n",
      "          2.5103, 2.3321],\n",
      "         [1.5283, 2.3674, 2.3812, 3.1058, 1.6201, 2.3653, 1.2403, 2.6086,\n",
      "          2.2066, 2.3406],\n",
      "         [3.0288, 2.1560, 3.6201, 4.0840, 1.8050, 2.6517, 2.6683, 3.1235,\n",
      "          2.6757, 3.2905],\n",
      "         [2.3081, 1.6888, 2.9285, 3.0252, 1.6124, 2.3316, 1.2457, 2.4176,\n",
      "          2.2951, 2.4558]]])\n"
     ]
    }
   ],
   "source": [
    "# Batch matrix multiplications\n",
    "batch=3\n",
    "n=5\n",
    "m=10\n",
    "p=10\n",
    "tensor1=torch.rand((batch,n,m))\n",
    "print(tensor1)\n",
    "tensor2=torch.rand((batch, m,p))\n",
    "out_bmm=torch.bmm(tensor1,tensor2)\n",
    "print(out_bmm)"
   ]
  },
  {
   "cell_type": "code",
   "execution_count": 43,
   "metadata": {},
   "outputs": [
    {
     "name": "stdout",
     "output_type": "stream",
     "text": [
      "tensor([[0.5630, 0.3609, 0.0277, 0.8475, 0.5753],\n",
      "        [0.8471, 0.9561, 0.1877, 0.5715, 0.1358],\n",
      "        [0.9487, 0.5249, 0.5668, 0.6631, 0.0690],\n",
      "        [0.2798, 0.8554, 0.6405, 0.0732, 0.8645],\n",
      "        [0.0634, 0.5152, 0.3319, 0.1795, 0.8085]])\n"
     ]
    }
   ],
   "source": [
    "# Example of broadcasting\n",
    "x1=torch.rand((5,5))\n",
    "print(x1)"
   ]
  },
  {
   "cell_type": "code",
   "execution_count": 44,
   "metadata": {},
   "outputs": [
    {
     "name": "stdout",
     "output_type": "stream",
     "text": [
      "tensor([[0.6901, 0.9877, 0.4754, 0.2888, 0.7714]])\n"
     ]
    }
   ],
   "source": [
    "x2=torch.rand((1,5))\n",
    "print(x2)"
   ]
  },
  {
   "cell_type": "code",
   "execution_count": 45,
   "metadata": {},
   "outputs": [
    {
     "name": "stdout",
     "output_type": "stream",
     "text": [
      "tensor([[-0.1271, -0.6268, -0.4477,  0.5587, -0.1960],\n",
      "        [ 0.1570, -0.0317, -0.2877,  0.2827, -0.6355],\n",
      "        [ 0.2587, -0.4629,  0.0913,  0.3743, -0.7023],\n",
      "        [-0.4103, -0.1324,  0.1650, -0.2156,  0.0932],\n",
      "        [-0.6267, -0.4725, -0.1435, -0.1094,  0.0372]])\n"
     ]
    }
   ],
   "source": [
    "z=x1-x2\n",
    "print(z)"
   ]
  },
  {
   "cell_type": "code",
   "execution_count": 46,
   "metadata": {},
   "outputs": [
    {
     "name": "stdout",
     "output_type": "stream",
     "text": [
      "tensor([[0.6727, 0.3655, 0.1818, 0.9533, 0.6528],\n",
      "        [0.8918, 0.9566, 0.4514, 0.8508, 0.2144],\n",
      "        [0.9643, 0.5290, 0.7634, 0.8881, 0.1272],\n",
      "        [0.4152, 0.8570, 0.8091, 0.4700, 0.8938],\n",
      "        [0.1490, 0.5194, 0.5920, 0.6089, 0.8488]])\n"
     ]
    }
   ],
   "source": [
    "z=x1**x2\n",
    "print(z)"
   ]
  },
  {
   "cell_type": "code",
   "execution_count": null,
   "metadata": {},
   "outputs": [],
   "source": [
    "sum_x=torch.sum(x, dim=0)"
   ]
  }
 ],
 "metadata": {
  "kernelspec": {
   "display_name": "Python 3",
   "language": "python",
   "name": "python3"
  },
  "language_info": {
   "codemirror_mode": {
    "name": "ipython",
    "version": 3
   },
   "file_extension": ".py",
   "mimetype": "text/x-python",
   "name": "python",
   "nbconvert_exporter": "python",
   "pygments_lexer": "ipython3",
   "version": "3.8.5"
  }
 },
 "nbformat": 4,
 "nbformat_minor": 4
}
