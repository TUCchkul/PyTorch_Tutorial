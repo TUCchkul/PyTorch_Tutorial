{
 "cells": [
  {
   "cell_type": "code",
   "execution_count": 1,
   "id": "6587ab8f",
   "metadata": {},
   "outputs": [],
   "source": [
    "import tensorflow as tf\n",
    "import numpy as np\n",
    "from pathlib import Path\n",
    "import os"
   ]
  },
  {
   "cell_type": "code",
   "execution_count": 2,
   "id": "64b88286",
   "metadata": {},
   "outputs": [],
   "source": [
    "path_of_saved_model=Path(\"./trained_model.h5\")\n",
    "model=tf.keras.models.load_model(path_of_saved_model)"
   ]
  },
  {
   "cell_type": "code",
   "execution_count": 3,
   "id": "70bae172",
   "metadata": {},
   "outputs": [
    {
     "data": {
      "text/plain": [
       "WindowsPath('trained_model.h5')"
      ]
     },
     "execution_count": 3,
     "metadata": {},
     "output_type": "execute_result"
    }
   ],
   "source": [
    "path_of_saved_model"
   ]
  },
  {
   "cell_type": "code",
   "execution_count": 4,
   "id": "19e100db",
   "metadata": {},
   "outputs": [],
   "source": [
    "converter=tf.lite.TFLiteConverter.from_keras_model(model)"
   ]
  },
  {
   "cell_type": "code",
   "execution_count": 5,
   "id": "2e1feb5b",
   "metadata": {},
   "outputs": [
    {
     "name": "stderr",
     "output_type": "stream",
     "text": [
      "WARNING:absl:Found untraced functions such as _jit_compiled_convolution_op, _jit_compiled_convolution_op, _jit_compiled_convolution_op, _jit_compiled_convolution_op, _jit_compiled_convolution_op while saving (showing 5 of 13). These functions will not be directly callable after loading.\n"
     ]
    },
    {
     "name": "stdout",
     "output_type": "stream",
     "text": [
      "INFO:tensorflow:Assets written to: C:\\Users\\kulki\\AppData\\Local\\Temp\\tmpy_93ct1i\\assets\n"
     ]
    },
    {
     "name": "stderr",
     "output_type": "stream",
     "text": [
      "INFO:tensorflow:Assets written to: C:\\Users\\kulki\\AppData\\Local\\Temp\\tmpy_93ct1i\\assets\n"
     ]
    }
   ],
   "source": [
    "tflite_model=converter.convert()"
   ]
  },
  {
   "cell_type": "code",
   "execution_count": 7,
   "id": "2aeb7919",
   "metadata": {},
   "outputs": [],
   "source": [
    "tflight_model_dir=Path(\"./tflight_model_dir\")\n",
    "tflight_model_dir.mkdir(exist_ok=True, parents=True)"
   ]
  },
  {
   "cell_type": "code",
   "execution_count": 8,
   "id": "0e8edb9e",
   "metadata": {},
   "outputs": [
    {
     "data": {
      "text/plain": [
       "WindowsPath('tflight_model_dir')"
      ]
     },
     "execution_count": 8,
     "metadata": {},
     "output_type": "execute_result"
    }
   ],
   "source": [
    "tflight_model_dir"
   ]
  },
  {
   "cell_type": "code",
   "execution_count": 9,
   "id": "d6474507",
   "metadata": {},
   "outputs": [
    {
     "data": {
      "text/plain": [
       "WindowsPath('tflight_model_dir/vgg16_model.tflight')"
      ]
     },
     "execution_count": 9,
     "metadata": {},
     "output_type": "execute_result"
    }
   ],
   "source": [
    "tflight_model_dir/\"vgg16_model.tflight\""
   ]
  },
  {
   "cell_type": "code",
   "execution_count": 11,
   "id": "0f5aadb6",
   "metadata": {},
   "outputs": [
    {
     "data": {
      "text/plain": [
       "59068200"
      ]
     },
     "execution_count": 11,
     "metadata": {},
     "output_type": "execute_result"
    }
   ],
   "source": [
    "tflight_model_file=tflight_model_dir/\"vgg16_model.tflight\"\n",
    "tflight_model_file.write_bytes(tflite_model)"
   ]
  },
  {
   "cell_type": "code",
   "execution_count": 12,
   "id": "689f0bac",
   "metadata": {},
   "outputs": [
    {
     "name": "stderr",
     "output_type": "stream",
     "text": [
      "WARNING:absl:Found untraced functions such as _jit_compiled_convolution_op, _jit_compiled_convolution_op, _jit_compiled_convolution_op, _jit_compiled_convolution_op, _jit_compiled_convolution_op while saving (showing 5 of 13). These functions will not be directly callable after loading.\n"
     ]
    },
    {
     "name": "stdout",
     "output_type": "stream",
     "text": [
      "INFO:tensorflow:Assets written to: C:\\Users\\kulki\\AppData\\Local\\Temp\\tmpva2wtcpm\\assets\n"
     ]
    },
    {
     "name": "stderr",
     "output_type": "stream",
     "text": [
      "INFO:tensorflow:Assets written to: C:\\Users\\kulki\\AppData\\Local\\Temp\\tmpva2wtcpm\\assets\n"
     ]
    },
    {
     "data": {
      "text/plain": [
       "14837328"
      ]
     },
     "execution_count": 12,
     "metadata": {},
     "output_type": "execute_result"
    }
   ],
   "source": [
    "converter.optimizations = [tf.lite.Optimize.DEFAULT]\n",
    "tflite_quant_model = converter.convert()\n",
    "\n",
    "tflite_model_quant_file = tflite_model_dir/\"vgg16_model_quant.tflite\"\n",
    "tflite_model_quant_file.write_bytes(tflite_quant_model)"
   ]
  },
  {
   "cell_type": "code",
   "execution_count": 13,
   "id": "1462db10",
   "metadata": {},
   "outputs": [
    {
     "data": {
      "text/plain": [
       "0.2511897772405457"
      ]
     },
     "execution_count": 13,
     "metadata": {},
     "output_type": "execute_result"
    }
   ],
   "source": [
    "14837328/59068200"
   ]
  },
  {
   "cell_type": "code",
   "execution_count": 14,
   "id": "2a865be2",
   "metadata": {},
   "outputs": [],
   "source": [
    "interpreter=tf.lite.Interpreter(model_path=str(tflite_model_quant_file))\n",
    "interpreter.allocate_tensors()"
   ]
  },
  {
   "cell_type": "code",
   "execution_count": 34,
   "id": "bc3c858a",
   "metadata": {},
   "outputs": [],
   "source": [
    "interpreter_quant = tf.lite.Interpreter(model_path=str(tflite_model_quant_file))\n",
    "interpreter_quant.allocate_tensors()"
   ]
  },
  {
   "cell_type": "code",
   "execution_count": 15,
   "id": "70f11a5d",
   "metadata": {},
   "outputs": [],
   "source": [
    "import matplotlib.pyplot as plt\n",
    "test_img=plt.imread(\"./data/unzip_data_dir/hymenoptera_data/val/ants/800px-Meat_eater_ant_qeen_excavating_hole.jpg\")"
   ]
  },
  {
   "cell_type": "code",
   "execution_count": 16,
   "id": "9de0a135",
   "metadata": {},
   "outputs": [
    {
     "data": {
      "text/plain": [
       "(534, 800, 3)"
      ]
     },
     "execution_count": 16,
     "metadata": {},
     "output_type": "execute_result"
    }
   ],
   "source": [
    "test_img.shape"
   ]
  },
  {
   "cell_type": "code",
   "execution_count": 17,
   "id": "4c74b00f",
   "metadata": {},
   "outputs": [
    {
     "data": {
      "text/plain": [
       "[{'name': 'serving_default_input_2:0',\n",
       "  'index': 0,\n",
       "  'shape': array([  1, 224, 224,   3]),\n",
       "  'shape_signature': array([ -1, 224, 224,   3]),\n",
       "  'dtype': numpy.float32,\n",
       "  'quantization': (0.0, 0),\n",
       "  'quantization_parameters': {'scales': array([], dtype=float32),\n",
       "   'zero_points': array([], dtype=int32),\n",
       "   'quantized_dimension': 0},\n",
       "  'sparsity_parameters': {}}]"
      ]
     },
     "execution_count": 17,
     "metadata": {},
     "output_type": "execute_result"
    }
   ],
   "source": [
    "interpreter.get_input_details()"
   ]
  },
  {
   "cell_type": "code",
   "execution_count": 18,
   "id": "7f312ad6",
   "metadata": {},
   "outputs": [
    {
     "data": {
      "text/plain": [
       "{'name': 'serving_default_input_2:0',\n",
       " 'index': 0,\n",
       " 'shape': array([  1, 224, 224,   3]),\n",
       " 'shape_signature': array([ -1, 224, 224,   3]),\n",
       " 'dtype': numpy.float32,\n",
       " 'quantization': (0.0, 0),\n",
       " 'quantization_parameters': {'scales': array([], dtype=float32),\n",
       "  'zero_points': array([], dtype=int32),\n",
       "  'quantized_dimension': 0},\n",
       " 'sparsity_parameters': {}}"
      ]
     },
     "execution_count": 18,
     "metadata": {},
     "output_type": "execute_result"
    }
   ],
   "source": [
    "interpreter.get_input_details()[0]"
   ]
  },
  {
   "cell_type": "code",
   "execution_count": 19,
   "id": "72a3af0e",
   "metadata": {},
   "outputs": [
    {
     "data": {
      "text/plain": [
       "array([  1, 224, 224,   3])"
      ]
     },
     "execution_count": 19,
     "metadata": {},
     "output_type": "execute_result"
    }
   ],
   "source": [
    "interpreter.get_input_details()[0][\"shape\"]"
   ]
  },
  {
   "cell_type": "code",
   "execution_count": 20,
   "id": "dfa5eff0",
   "metadata": {},
   "outputs": [
    {
     "data": {
      "text/plain": [
       "array([ -1, 224, 224,   3])"
      ]
     },
     "execution_count": 20,
     "metadata": {},
     "output_type": "execute_result"
    }
   ],
   "source": [
    "interpreter.get_input_details()[0][\"shape_signature\"]"
   ]
  },
  {
   "cell_type": "code",
   "execution_count": 21,
   "id": "41c35e11",
   "metadata": {},
   "outputs": [],
   "source": [
    "resized_img=tf.image.resize(test_img,(224,224))"
   ]
  },
  {
   "cell_type": "code",
   "execution_count": 24,
   "id": "d8972939",
   "metadata": {},
   "outputs": [
    {
     "data": {
      "text/plain": [
       "TensorShape([224, 224, 3])"
      ]
     },
     "execution_count": 24,
     "metadata": {},
     "output_type": "execute_result"
    }
   ],
   "source": [
    "tf.image.resize(test_img,(224,224)).shape"
   ]
  },
  {
   "cell_type": "code",
   "execution_count": 25,
   "id": "ba1a81ab",
   "metadata": {},
   "outputs": [],
   "source": [
    "input_data=tf.expand_dims(resized_img, axis=0)"
   ]
  },
  {
   "cell_type": "code",
   "execution_count": 27,
   "id": "cbc4caef",
   "metadata": {},
   "outputs": [],
   "source": [
    "input_index=interpreter.get_input_details()[0][\"index\"]\n",
    "output_index=interpreter.get_output_details()[0][\"index\"]"
   ]
  },
  {
   "cell_type": "code",
   "execution_count": 26,
   "id": "d3535554",
   "metadata": {},
   "outputs": [
    {
     "data": {
      "text/plain": [
       "[{'name': 'StatefulPartitionedCall:0',\n",
       "  'index': 50,\n",
       "  'shape': array([1, 2]),\n",
       "  'shape_signature': array([-1,  2]),\n",
       "  'dtype': numpy.float32,\n",
       "  'quantization': (0.0, 0),\n",
       "  'quantization_parameters': {'scales': array([], dtype=float32),\n",
       "   'zero_points': array([], dtype=int32),\n",
       "   'quantized_dimension': 0},\n",
       "  'sparsity_parameters': {}}]"
      ]
     },
     "execution_count": 26,
     "metadata": {},
     "output_type": "execute_result"
    }
   ],
   "source": [
    "interpreter.get_output_details()"
   ]
  },
  {
   "cell_type": "code",
   "execution_count": 29,
   "id": "71a99627",
   "metadata": {},
   "outputs": [],
   "source": [
    "interpreter.set_tensor(input_index, input_data)\n",
    "interpreter.invoke()\n",
    "pred=interpreter.get_tensor(output_index)"
   ]
  },
  {
   "cell_type": "code",
   "execution_count": 30,
   "id": "d8a9edeb",
   "metadata": {},
   "outputs": [],
   "source": [
    "label_map={0:'ants', 1:'bees'}"
   ]
  },
  {
   "cell_type": "code",
   "execution_count": 31,
   "id": "9a3a7283",
   "metadata": {},
   "outputs": [],
   "source": [
    "argmax=tf.argmax(pred[0]).numpy()"
   ]
  },
  {
   "cell_type": "code",
   "execution_count": 32,
   "id": "3d15142a",
   "metadata": {},
   "outputs": [
    {
     "data": {
      "text/plain": [
       "'ants'"
      ]
     },
     "execution_count": 32,
     "metadata": {},
     "output_type": "execute_result"
    }
   ],
   "source": [
    "label_map[argmax]"
   ]
  },
  {
   "cell_type": "code",
   "execution_count": 35,
   "id": "d193c35d",
   "metadata": {},
   "outputs": [
    {
     "data": {
      "text/plain": [
       "'ants'"
      ]
     },
     "execution_count": 35,
     "metadata": {},
     "output_type": "execute_result"
    }
   ],
   "source": [
    "input_index = interpreter_quant.get_input_details()[0][\"index\"]\n",
    "output_index = interpreter_quant.get_output_details()[0][\"index\"]\n",
    "\n",
    "interpreter_quant.set_tensor(input_index, input_data)\n",
    "interpreter_quant.invoke()\n",
    "pred = interpreter_quant.get_tensor(output_index)\n",
    "\n",
    "argmax = tf.argmax(pred[0]).numpy()\n",
    "label_map[argmax]"
   ]
  },
  {
   "cell_type": "code",
   "execution_count": null,
   "id": "d8f7c9ab",
   "metadata": {},
   "outputs": [],
   "source": []
  }
 ],
 "metadata": {
  "kernelspec": {
   "display_name": "Python 3 (ipykernel)",
   "language": "python",
   "name": "python3"
  },
  "language_info": {
   "codemirror_mode": {
    "name": "ipython",
    "version": 3
   },
   "file_extension": ".py",
   "mimetype": "text/x-python",
   "name": "python",
   "nbconvert_exporter": "python",
   "pygments_lexer": "ipython3",
   "version": "3.7.13"
  }
 },
 "nbformat": 4,
 "nbformat_minor": 5
}
