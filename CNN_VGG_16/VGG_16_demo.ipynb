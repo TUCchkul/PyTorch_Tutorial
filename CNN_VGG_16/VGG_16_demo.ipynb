{
 "cells": [
  {
   "cell_type": "code",
   "execution_count": 6,
   "id": "aaf2a7f0",
   "metadata": {},
   "outputs": [],
   "source": [
    "#!pip install tensorflow"
   ]
  },
  {
   "cell_type": "code",
   "execution_count": 3,
   "id": "8b443f8a",
   "metadata": {},
   "outputs": [],
   "source": [
    "import tensorflow as tf "
   ]
  },
  {
   "cell_type": "code",
   "execution_count": 5,
   "id": "94747898",
   "metadata": {},
   "outputs": [
    {
     "name": "stdout",
     "output_type": "stream",
     "text": [
      "[]\n"
     ]
    }
   ],
   "source": [
    "print(tf.config.list_physical_devices('cpu'))"
   ]
  },
  {
   "cell_type": "code",
   "execution_count": 7,
   "id": "6d323c3c",
   "metadata": {},
   "outputs": [],
   "source": [
    "import os\n",
    "from pathlib import Path\n",
    "import urllib.request as request\n",
    "import numpy as np\n",
    "import matplotlib.pyplot as plt"
   ]
  },
  {
   "cell_type": "code",
   "execution_count": 8,
   "id": "dbe18e1a",
   "metadata": {},
   "outputs": [],
   "source": [
    "IMAGE_SIZE=(224,224)"
   ]
  },
  {
   "cell_type": "code",
   "execution_count": 9,
   "id": "66361b97",
   "metadata": {},
   "outputs": [],
   "source": [
    "model=tf.keras.applications.VGG16(\n",
    "    #include_top=False->upto convolution layer\n",
    "    include_top=True, weights=\"imagenet\", input_tensor=None, input_shape=None,classes=1000\n",
    "    \n",
    "    \n",
    ")"
   ]
  },
  {
   "cell_type": "code",
   "execution_count": 10,
   "id": "3f08909b",
   "metadata": {},
   "outputs": [
    {
     "name": "stdout",
     "output_type": "stream",
     "text": [
      "Model: \"vgg16\"\n",
      "_________________________________________________________________\n",
      " Layer (type)                Output Shape              Param #   \n",
      "=================================================================\n",
      " input_1 (InputLayer)        [(None, 224, 224, 3)]     0         \n",
      "                                                                 \n",
      " block1_conv1 (Conv2D)       (None, 224, 224, 64)      1792      \n",
      "                                                                 \n",
      " block1_conv2 (Conv2D)       (None, 224, 224, 64)      36928     \n",
      "                                                                 \n",
      " block1_pool (MaxPooling2D)  (None, 112, 112, 64)      0         \n",
      "                                                                 \n",
      " block2_conv1 (Conv2D)       (None, 112, 112, 128)     73856     \n",
      "                                                                 \n",
      " block2_conv2 (Conv2D)       (None, 112, 112, 128)     147584    \n",
      "                                                                 \n",
      " block2_pool (MaxPooling2D)  (None, 56, 56, 128)       0         \n",
      "                                                                 \n",
      " block3_conv1 (Conv2D)       (None, 56, 56, 256)       295168    \n",
      "                                                                 \n",
      " block3_conv2 (Conv2D)       (None, 56, 56, 256)       590080    \n",
      "                                                                 \n",
      " block3_conv3 (Conv2D)       (None, 56, 56, 256)       590080    \n",
      "                                                                 \n",
      " block3_pool (MaxPooling2D)  (None, 28, 28, 256)       0         \n",
      "                                                                 \n",
      " block4_conv1 (Conv2D)       (None, 28, 28, 512)       1180160   \n",
      "                                                                 \n",
      " block4_conv2 (Conv2D)       (None, 28, 28, 512)       2359808   \n",
      "                                                                 \n",
      " block4_conv3 (Conv2D)       (None, 28, 28, 512)       2359808   \n",
      "                                                                 \n",
      " block4_pool (MaxPooling2D)  (None, 14, 14, 512)       0         \n",
      "                                                                 \n",
      " block5_conv1 (Conv2D)       (None, 14, 14, 512)       2359808   \n",
      "                                                                 \n",
      " block5_conv2 (Conv2D)       (None, 14, 14, 512)       2359808   \n",
      "                                                                 \n",
      " block5_conv3 (Conv2D)       (None, 14, 14, 512)       2359808   \n",
      "                                                                 \n",
      " block5_pool (MaxPooling2D)  (None, 7, 7, 512)         0         \n",
      "                                                                 \n",
      " flatten (Flatten)           (None, 25088)             0         \n",
      "                                                                 \n",
      " fc1 (Dense)                 (None, 4096)              102764544 \n",
      "                                                                 \n",
      " fc2 (Dense)                 (None, 4096)              16781312  \n",
      "                                                                 \n",
      " predictions (Dense)         (None, 1000)              4097000   \n",
      "                                                                 \n",
      "=================================================================\n",
      "Total params: 138,357,544\n",
      "Trainable params: 138,357,544\n",
      "Non-trainable params: 0\n",
      "_________________________________________________________________\n"
     ]
    }
   ],
   "source": [
    "model.summary()"
   ]
  },
  {
   "cell_type": "code",
   "execution_count": 11,
   "id": "b60575b4",
   "metadata": {},
   "outputs": [
    {
     "name": "stdout",
     "output_type": "stream",
     "text": [
      "WARNING:tensorflow:Compiled the loaded model, but the compiled metrics have yet to be built. `model.compile_metrics` will be empty until you train or evaluate the model.\n"
     ]
    }
   ],
   "source": [
    "model.save(\"VGG16_full_model.h5\")"
   ]
  },
  {
   "cell_type": "code",
   "execution_count": 12,
   "id": "c8236510",
   "metadata": {},
   "outputs": [
    {
     "data": {
      "text/plain": [
       "'same'"
      ]
     },
     "execution_count": 12,
     "metadata": {},
     "output_type": "execute_result"
    }
   ],
   "source": [
    "model.layers[1].padding"
   ]
  },
  {
   "cell_type": "code",
   "execution_count": 13,
   "id": "38abad5e",
   "metadata": {},
   "outputs": [],
   "source": [
    "data_URL=\"https://download.pytorch.org/tutorial/hymenoptera_data.zip\""
   ]
  },
  {
   "cell_type": "markdown",
   "id": "31c603e1",
   "metadata": {},
   "source": [
    "# Create a directory"
   ]
  },
  {
   "cell_type": "code",
   "execution_count": 14,
   "id": "c9703914",
   "metadata": {},
   "outputs": [],
   "source": [
    "def create_dirs(dir_path):\n",
    "    os.makedirs(dir_path, exist_ok=True)\n",
    "    print(f\"{dir_path} directory created\")"
   ]
  },
  {
   "cell_type": "code",
   "execution_count": 15,
   "id": "0c90f57f",
   "metadata": {},
   "outputs": [
    {
     "name": "stdout",
     "output_type": "stream",
     "text": [
      "data directory created\n"
     ]
    }
   ],
   "source": [
    "ROOT_DATA_DIR=\"data\"\n",
    "create_dirs(ROOT_DATA_DIR)"
   ]
  },
  {
   "cell_type": "markdown",
   "id": "99be27cf",
   "metadata": {},
   "source": [
    "# Downloading Data"
   ]
  },
  {
   "cell_type": "code",
   "execution_count": 16,
   "id": "bb707155",
   "metadata": {},
   "outputs": [],
   "source": [
    "data_zip_file=\"data.zip\"\n",
    "data_zip_file_path=os.path.join(ROOT_DATA_DIR,data_zip_file)\n"
   ]
  },
  {
   "cell_type": "code",
   "execution_count": 17,
   "id": "2f857a3e",
   "metadata": {},
   "outputs": [
    {
     "name": "stdout",
     "output_type": "stream",
     "text": [
      "Downloading dara...............................\n",
      "filename: data\\data.zip  created with info \n",
      "Content-Type: application/zip\n",
      "Content-Length: 47286322\n",
      "Connection: close\n",
      "Date: Sat, 28 May 2022 14:19:56 GMT\n",
      "Last-Modified: Wed, 15 Mar 2017 18:46:00 GMT\n",
      "ETag: \"5f8c32a6554f6acb4d649776e7735e48\"\n",
      "x-amz-version-id: null\n",
      "Accept-Ranges: bytes\n",
      "Server: AmazonS3\n",
      "X-Cache: Miss from cloudfront\n",
      "Via: 1.1 98b89ed6771805fd5b6d059738f20206.cloudfront.net (CloudFront)\n",
      "X-Amz-Cf-Pop: TXL50-P3\n",
      "X-Amz-Cf-Id: 2tF6V821dG3U3jIkzfmKdP1TiKLoBU0WPBMt1YRNpnpILOmmy2hRtg==\n",
      "\n",
      "\n"
     ]
    }
   ],
   "source": [
    "if not os.path.isfile(data_zip_file):\n",
    "    print(\"Downloading dara...............................\")\n",
    "    filename, headers=request.urlretrieve(data_URL,data_zip_file_path)\n",
    "    print(f\"filename: {filename}  created with info \\n{headers}\")\n",
    "else:\n",
    "    print(f\"file is already present\")"
   ]
  },
  {
   "cell_type": "code",
   "execution_count": 18,
   "id": "4d2e84ec",
   "metadata": {},
   "outputs": [],
   "source": [
    "from zipfile import ZipFile\n",
    "\n",
    "unzip_data_dirname=\"unzip_data_dir\"\n",
    "unzip_data_dir=os.path.join(ROOT_DATA_DIR,unzip_data_dirname)\n",
    "\n",
    "if not os.path.exists(unzip_data_dir):\n",
    "    os.makedirs(unzip_data_dir, exist_ok=True)\n",
    "    with ZipFile(data_zip_file_path) as f:\n",
    "        f.extractall(unzip_data_dir)\n",
    "else:\n",
    "    print(f\"data already extracted\")"
   ]
  },
  {
   "cell_type": "code",
   "execution_count": 28,
   "id": "90d62b23",
   "metadata": {},
   "outputs": [
    {
     "data": {
      "text/plain": [
       "WindowsPath('data/unzip_data_dir/hymenoptera_data/train')"
      ]
     },
     "execution_count": 28,
     "metadata": {},
     "output_type": "execute_result"
    }
   ],
   "source": [
    "main_data_dir=Path(\"./data/unzip_data_dir/hymenoptera_data/train\")\n",
    "main_data_dir"
   ]
  },
  {
   "cell_type": "code",
   "execution_count": 20,
   "id": "0cbaaff8",
   "metadata": {},
   "outputs": [],
   "source": [
    "BATCH_SIZE=32\n",
    "pixels=224\n",
    "IMAGE_SIZE=(pixels, pixels)"
   ]
  },
  {
   "cell_type": "code",
   "execution_count": 22,
   "id": "90e82241",
   "metadata": {},
   "outputs": [],
   "source": [
    "datagen_kwargs=dict(rescale=1./255, validation_split=0.20)\n",
    "dataflow_kwargs=dict(target_size=IMAGE_SIZE, batch_size=BATCH_SIZE)"
   ]
  },
  {
   "cell_type": "code",
   "execution_count": 23,
   "id": "4a03008e",
   "metadata": {},
   "outputs": [
    {
     "data": {
      "text/plain": [
       "{'rescale': 0.00392156862745098, 'validation_split': 0.2}"
      ]
     },
     "execution_count": 23,
     "metadata": {},
     "output_type": "execute_result"
    }
   ],
   "source": [
    "datagen_kwargs"
   ]
  },
  {
   "cell_type": "code",
   "execution_count": 24,
   "id": "941615a9",
   "metadata": {},
   "outputs": [
    {
     "data": {
      "text/plain": [
       "{'target_size': (224, 224), 'batch_size': 32}"
      ]
     },
     "execution_count": 24,
     "metadata": {},
     "output_type": "execute_result"
    }
   ],
   "source": [
    "dataflow_kwargs"
   ]
  },
  {
   "cell_type": "code",
   "execution_count": 30,
   "id": "70ed865d",
   "metadata": {},
   "outputs": [
    {
     "name": "stdout",
     "output_type": "stream",
     "text": [
      "Found 48 images belonging to 2 classes.\n",
      "Found 196 images belonging to 2 classes.\n"
     ]
    }
   ],
   "source": [
    "valid_datagen=tf.keras.preprocessing.image.ImageDataGenerator(**datagen_kwargs)\n",
    "valid_generator=valid_datagen.flow_from_directory(\n",
    "    main_data_dir, subset=\"validation\", shuffle=False, **dataflow_kwargs)\n",
    "\n",
    "do_data_augmentation=False\n",
    "if do_data_augmentation:\n",
    "    train_datagen=tf.keras.preprocessing.image.ImageDataGenerator(\n",
    "        rotational_range=40,\n",
    "        horizontal_flip=True,\n",
    "        width_shift_range=0.2,\n",
    "        height_shift_range=0.2,\n",
    "        shear_range=0.2, zoom_range=0.2,\n",
    "        **datagen_kwargs)\n",
    "else:\n",
    "    train_datagen=valid_datagen\n",
    "train_generator=train_datagen.flow_from_directory(\n",
    "        main_data_dir, subset=\"training\", shuffle=True, **dataflow_kwargs\n",
    "    )"
   ]
  },
  {
   "cell_type": "code",
   "execution_count": 31,
   "id": "ffd4fd30",
   "metadata": {},
   "outputs": [],
   "source": [
    "RGB_IMAGE_SIZE=(pixels,pixels,3)\n",
    "vgg=tf.keras.applications.vgg16.VGG16(\n",
    "    input_shape=RGB_IMAGE_SIZE,\n",
    "    weights=\"imagenet\",\n",
    "    include_top=False\n",
    "    \n",
    ")"
   ]
  },
  {
   "cell_type": "code",
   "execution_count": 32,
   "id": "a66bfad3",
   "metadata": {},
   "outputs": [
    {
     "name": "stdout",
     "output_type": "stream",
     "text": [
      "Model: \"vgg16\"\n",
      "_________________________________________________________________\n",
      " Layer (type)                Output Shape              Param #   \n",
      "=================================================================\n",
      " input_2 (InputLayer)        [(None, 224, 224, 3)]     0         \n",
      "                                                                 \n",
      " block1_conv1 (Conv2D)       (None, 224, 224, 64)      1792      \n",
      "                                                                 \n",
      " block1_conv2 (Conv2D)       (None, 224, 224, 64)      36928     \n",
      "                                                                 \n",
      " block1_pool (MaxPooling2D)  (None, 112, 112, 64)      0         \n",
      "                                                                 \n",
      " block2_conv1 (Conv2D)       (None, 112, 112, 128)     73856     \n",
      "                                                                 \n",
      " block2_conv2 (Conv2D)       (None, 112, 112, 128)     147584    \n",
      "                                                                 \n",
      " block2_pool (MaxPooling2D)  (None, 56, 56, 128)       0         \n",
      "                                                                 \n",
      " block3_conv1 (Conv2D)       (None, 56, 56, 256)       295168    \n",
      "                                                                 \n",
      " block3_conv2 (Conv2D)       (None, 56, 56, 256)       590080    \n",
      "                                                                 \n",
      " block3_conv3 (Conv2D)       (None, 56, 56, 256)       590080    \n",
      "                                                                 \n",
      " block3_pool (MaxPooling2D)  (None, 28, 28, 256)       0         \n",
      "                                                                 \n",
      " block4_conv1 (Conv2D)       (None, 28, 28, 512)       1180160   \n",
      "                                                                 \n",
      " block4_conv2 (Conv2D)       (None, 28, 28, 512)       2359808   \n",
      "                                                                 \n",
      " block4_conv3 (Conv2D)       (None, 28, 28, 512)       2359808   \n",
      "                                                                 \n",
      " block4_pool (MaxPooling2D)  (None, 14, 14, 512)       0         \n",
      "                                                                 \n",
      " block5_conv1 (Conv2D)       (None, 14, 14, 512)       2359808   \n",
      "                                                                 \n",
      " block5_conv2 (Conv2D)       (None, 14, 14, 512)       2359808   \n",
      "                                                                 \n",
      " block5_conv3 (Conv2D)       (None, 14, 14, 512)       2359808   \n",
      "                                                                 \n",
      " block5_pool (MaxPooling2D)  (None, 7, 7, 512)         0         \n",
      "                                                                 \n",
      "=================================================================\n",
      "Total params: 14,714,688\n",
      "Trainable params: 14,714,688\n",
      "Non-trainable params: 0\n",
      "_________________________________________________________________\n"
     ]
    }
   ],
   "source": [
    "vgg.summary()"
   ]
  },
  {
   "cell_type": "code",
   "execution_count": 33,
   "id": "dc3ef004",
   "metadata": {},
   "outputs": [
    {
     "name": "stdout",
     "output_type": "stream",
     "text": [
      "input_2             : True\n",
      "block1_conv1        : True\n",
      "block1_conv2        : True\n",
      "block1_pool         : True\n",
      "block2_conv1        : True\n",
      "block2_conv2        : True\n",
      "block2_pool         : True\n",
      "block3_conv1        : True\n",
      "block3_conv2        : True\n",
      "block3_conv3        : True\n",
      "block3_pool         : True\n",
      "block4_conv1        : True\n",
      "block4_conv2        : True\n",
      "block4_conv3        : True\n",
      "block4_pool         : True\n",
      "block5_conv1        : True\n",
      "block5_conv2        : True\n",
      "block5_conv3        : True\n",
      "block5_pool         : True\n"
     ]
    }
   ],
   "source": [
    "for layer in vgg.layers:\n",
    "    print(f\"{layer.name:20s}: {layer.trainable}\")"
   ]
  },
  {
   "cell_type": "code",
   "execution_count": 34,
   "id": "cc69d2a4",
   "metadata": {},
   "outputs": [],
   "source": [
    "for layer in vgg.layers:\n",
    "    layer.trainable=False"
   ]
  },
  {
   "cell_type": "code",
   "execution_count": 35,
   "id": "3f40dd51",
   "metadata": {},
   "outputs": [
    {
     "name": "stdout",
     "output_type": "stream",
     "text": [
      "input_2             : False\n",
      "block1_conv1        : False\n",
      "block1_conv2        : False\n",
      "block1_pool         : False\n",
      "block2_conv1        : False\n",
      "block2_conv2        : False\n",
      "block2_pool         : False\n",
      "block3_conv1        : False\n",
      "block3_conv2        : False\n",
      "block3_conv3        : False\n",
      "block3_pool         : False\n",
      "block4_conv1        : False\n",
      "block4_conv2        : False\n",
      "block4_conv3        : False\n",
      "block4_pool         : False\n",
      "block5_conv1        : False\n",
      "block5_conv2        : False\n",
      "block5_conv3        : False\n",
      "block5_pool         : False\n"
     ]
    }
   ],
   "source": [
    "for layer in vgg.layers:\n",
    "    print(f\"{layer.name:20s}: {layer.trainable}\")"
   ]
  },
  {
   "cell_type": "code",
   "execution_count": 37,
   "id": "dc710595",
   "metadata": {},
   "outputs": [],
   "source": [
    "del model"
   ]
  },
  {
   "cell_type": "code",
   "execution_count": 38,
   "id": "bfc3251e",
   "metadata": {},
   "outputs": [
    {
     "data": {
      "text/plain": [
       "<KerasTensor: shape=(None, 7, 7, 512) dtype=float32 (created by layer 'block5_pool')>"
      ]
     },
     "execution_count": 38,
     "metadata": {},
     "output_type": "execute_result"
    }
   ],
   "source": [
    "vgg.output"
   ]
  },
  {
   "cell_type": "code",
   "execution_count": 41,
   "id": "68bfc87b",
   "metadata": {},
   "outputs": [
    {
     "name": "stdout",
     "output_type": "stream",
     "text": [
      "Model: \"model\"\n",
      "_________________________________________________________________\n",
      " Layer (type)                Output Shape              Param #   \n",
      "=================================================================\n",
      " input_2 (InputLayer)        [(None, 224, 224, 3)]     0         \n",
      "                                                                 \n",
      " block1_conv1 (Conv2D)       (None, 224, 224, 64)      1792      \n",
      "                                                                 \n",
      " block1_conv2 (Conv2D)       (None, 224, 224, 64)      36928     \n",
      "                                                                 \n",
      " block1_pool (MaxPooling2D)  (None, 112, 112, 64)      0         \n",
      "                                                                 \n",
      " block2_conv1 (Conv2D)       (None, 112, 112, 128)     73856     \n",
      "                                                                 \n",
      " block2_conv2 (Conv2D)       (None, 112, 112, 128)     147584    \n",
      "                                                                 \n",
      " block2_pool (MaxPooling2D)  (None, 56, 56, 128)       0         \n",
      "                                                                 \n",
      " block3_conv1 (Conv2D)       (None, 56, 56, 256)       295168    \n",
      "                                                                 \n",
      " block3_conv2 (Conv2D)       (None, 56, 56, 256)       590080    \n",
      "                                                                 \n",
      " block3_conv3 (Conv2D)       (None, 56, 56, 256)       590080    \n",
      "                                                                 \n",
      " block3_pool (MaxPooling2D)  (None, 28, 28, 256)       0         \n",
      "                                                                 \n",
      " block4_conv1 (Conv2D)       (None, 28, 28, 512)       1180160   \n",
      "                                                                 \n",
      " block4_conv2 (Conv2D)       (None, 28, 28, 512)       2359808   \n",
      "                                                                 \n",
      " block4_conv3 (Conv2D)       (None, 28, 28, 512)       2359808   \n",
      "                                                                 \n",
      " block4_pool (MaxPooling2D)  (None, 14, 14, 512)       0         \n",
      "                                                                 \n",
      " block5_conv1 (Conv2D)       (None, 14, 14, 512)       2359808   \n",
      "                                                                 \n",
      " block5_conv2 (Conv2D)       (None, 14, 14, 512)       2359808   \n",
      "                                                                 \n",
      " block5_conv3 (Conv2D)       (None, 14, 14, 512)       2359808   \n",
      "                                                                 \n",
      " block5_pool (MaxPooling2D)  (None, 7, 7, 512)         0         \n",
      "                                                                 \n",
      " flatten (Flatten)           (None, 25088)             0         \n",
      "                                                                 \n",
      " dense (Dense)               (None, 2)                 50178     \n",
      "                                                                 \n",
      "=================================================================\n",
      "Total params: 14,764,866\n",
      "Trainable params: 50,178\n",
      "Non-trainable params: 14,714,688\n",
      "_________________________________________________________________\n"
     ]
    }
   ],
   "source": [
    "classes=2\n",
    "x=tf.keras.layers.Flatten()(vgg.output)\n",
    "prediction=tf.keras.layers.Dense(classes, activation=\"softmax\")(x)\n",
    "model=tf.keras.models.Model(inputs=vgg.input, outputs=prediction)\n",
    "model.summary()"
   ]
  },
  {
   "cell_type": "code",
   "execution_count": 42,
   "id": "46b71d0f",
   "metadata": {},
   "outputs": [
    {
     "name": "stderr",
     "output_type": "stream",
     "text": [
      "D:\\PyTorch\\PyTorch_Tutorial\\env\\lib\\site-packages\\keras\\optimizers\\optimizer_v2\\gradient_descent.py:108: UserWarning: The `lr` argument is deprecated, use `learning_rate` instead.\n",
      "  super(SGD, self).__init__(name, **kwargs)\n"
     ]
    }
   ],
   "source": [
    "model.compile(\n",
    "    optimizer=tf.keras.optimizers.SGD(lr=0.01, momentum=0.9),\n",
    "    loss=tf.keras.losses.CategoricalCrossentropy(),\n",
    "    metrics=[\"accuracy\"]\n",
    ")"
   ]
  },
  {
   "cell_type": "code",
   "execution_count": 44,
   "id": "2f20fb36",
   "metadata": {},
   "outputs": [
    {
     "name": "stdout",
     "output_type": "stream",
     "text": [
      "Epoch 1/30\n",
      "7/7 [==============================] - 99s 15s/step - loss: 35.8894 - accuracy: 0.5204 - val_loss: 25.4719 - val_accuracy: 0.5000\n",
      "Epoch 2/30\n",
      "7/7 [==============================] - 82s 13s/step - loss: 19.3430 - accuracy: 0.5459 - val_loss: 17.1663 - val_accuracy: 0.5000\n",
      "Epoch 3/30\n",
      "7/7 [==============================] - 81s 12s/step - loss: 6.9157 - accuracy: 0.6684 - val_loss: 1.9149 - val_accuracy: 0.7917\n",
      "Epoch 4/30\n",
      "7/7 [==============================] - 82s 11s/step - loss: 2.4717 - accuracy: 0.8316 - val_loss: 2.4899 - val_accuracy: 0.8125\n",
      "Epoch 5/30\n",
      "7/7 [==============================] - 66s 9s/step - loss: 0.8223 - accuracy: 0.9184 - val_loss: 2.0795 - val_accuracy: 0.7500\n",
      "Epoch 6/30\n",
      "7/7 [==============================] - 62s 10s/step - loss: 0.7344 - accuracy: 0.9184 - val_loss: 3.9304 - val_accuracy: 0.7917\n",
      "Epoch 7/30\n",
      "7/7 [==============================] - 61s 9s/step - loss: 1.1649 - accuracy: 0.8776 - val_loss: 4.8446 - val_accuracy: 0.8125\n",
      "Epoch 8/30\n",
      "7/7 [==============================] - 63s 10s/step - loss: 2.5673 - accuracy: 0.8061 - val_loss: 2.2513 - val_accuracy: 0.8125\n",
      "Epoch 9/30\n",
      "7/7 [==============================] - 63s 9s/step - loss: 3.0721 - accuracy: 0.8112 - val_loss: 4.4235 - val_accuracy: 0.7500\n",
      "Epoch 10/30\n",
      "7/7 [==============================] - 62s 9s/step - loss: 0.8799 - accuracy: 0.9184 - val_loss: 2.8752 - val_accuracy: 0.7500\n",
      "Epoch 11/30\n",
      "7/7 [==============================] - 62s 9s/step - loss: 0.3051 - accuracy: 0.9694 - val_loss: 4.8670 - val_accuracy: 0.8125\n",
      "Epoch 12/30\n",
      "7/7 [==============================] - 63s 9s/step - loss: 0.3749 - accuracy: 0.9541 - val_loss: 4.4751 - val_accuracy: 0.8125\n",
      "Epoch 13/30\n",
      "7/7 [==============================] - 63s 9s/step - loss: 0.3088 - accuracy: 0.9388 - val_loss: 5.2550 - val_accuracy: 0.7292\n",
      "Epoch 14/30\n",
      "7/7 [==============================] - 63s 9s/step - loss: 0.6748 - accuracy: 0.9388 - val_loss: 6.3298 - val_accuracy: 0.7292\n",
      "Epoch 15/30\n",
      "7/7 [==============================] - 64s 9s/step - loss: 0.6461 - accuracy: 0.9133 - val_loss: 8.5601 - val_accuracy: 0.6875\n",
      "Epoch 16/30\n",
      "7/7 [==============================] - 70s 12s/step - loss: 0.4693 - accuracy: 0.9337 - val_loss: 2.8839 - val_accuracy: 0.8333\n",
      "Epoch 17/30\n",
      "7/7 [==============================] - 70s 10s/step - loss: 2.2955 - accuracy: 0.8418 - val_loss: 19.2272 - val_accuracy: 0.5625\n",
      "Epoch 18/30\n",
      "7/7 [==============================] - 70s 10s/step - loss: 6.0453 - accuracy: 0.7398 - val_loss: 24.1313 - val_accuracy: 0.5417\n",
      "Epoch 19/30\n",
      "7/7 [==============================] - 71s 10s/step - loss: 7.5715 - accuracy: 0.7041 - val_loss: 12.1926 - val_accuracy: 0.6875\n",
      "Epoch 20/30\n",
      "7/7 [==============================] - 70s 10s/step - loss: 2.4608 - accuracy: 0.8265 - val_loss: 9.1996 - val_accuracy: 0.7500\n",
      "Epoch 21/30\n",
      "7/7 [==============================] - 74s 11s/step - loss: 0.7533 - accuracy: 0.9490 - val_loss: 4.2641 - val_accuracy: 0.8333\n",
      "Epoch 22/30\n",
      "7/7 [==============================] - 71s 10s/step - loss: 0.0644 - accuracy: 0.9949 - val_loss: 2.9325 - val_accuracy: 0.8542\n",
      "Epoch 23/30\n",
      "7/7 [==============================] - 72s 10s/step - loss: 0.1077 - accuracy: 0.9949 - val_loss: 2.9841 - val_accuracy: 0.8542\n",
      "Epoch 24/30\n",
      "7/7 [==============================] - 80s 12s/step - loss: 0.0336 - accuracy: 0.9949 - val_loss: 3.2934 - val_accuracy: 0.8542\n",
      "Epoch 25/30\n",
      "7/7 [==============================] - 70s 10s/step - loss: 0.0737 - accuracy: 0.9847 - val_loss: 2.8703 - val_accuracy: 0.8125\n",
      "Epoch 26/30\n",
      "7/7 [==============================] - 70s 10s/step - loss: 0.0701 - accuracy: 0.9898 - val_loss: 3.4290 - val_accuracy: 0.8542\n",
      "Epoch 27/30\n",
      "7/7 [==============================] - 72s 10s/step - loss: 0.0097 - accuracy: 0.9949 - val_loss: 2.9284 - val_accuracy: 0.8125\n",
      "Epoch 28/30\n",
      "7/7 [==============================] - 71s 12s/step - loss: 0.0074 - accuracy: 0.9949 - val_loss: 3.2993 - val_accuracy: 0.8542\n",
      "Epoch 29/30\n",
      "7/7 [==============================] - 79s 12s/step - loss: 4.7950e-04 - accuracy: 1.0000 - val_loss: 3.1159 - val_accuracy: 0.8542\n",
      "Epoch 30/30\n",
      "7/7 [==============================] - 85s 12s/step - loss: 7.7476e-06 - accuracy: 1.0000 - val_loss: 3.0383 - val_accuracy: 0.8333\n"
     ]
    }
   ],
   "source": [
    "EPOCHS=30\n",
    "history=model.fit(\n",
    "    train_generator, epochs=EPOCHS, validation_data=valid_generator\n",
    ")"
   ]
  },
  {
   "cell_type": "code",
   "execution_count": null,
   "id": "0cfbba5b",
   "metadata": {},
   "outputs": [],
   "source": []
  }
 ],
 "metadata": {
  "kernelspec": {
   "display_name": "Python 3 (ipykernel)",
   "language": "python",
   "name": "python3"
  },
  "language_info": {
   "codemirror_mode": {
    "name": "ipython",
    "version": 3
   },
   "file_extension": ".py",
   "mimetype": "text/x-python",
   "name": "python",
   "nbconvert_exporter": "python",
   "pygments_lexer": "ipython3",
   "version": "3.7.13"
  }
 },
 "nbformat": 4,
 "nbformat_minor": 5
}
