{
 "cells": [
  {
   "cell_type": "code",
   "execution_count": 1,
   "id": "b8b30f8e",
   "metadata": {},
   "outputs": [
    {
     "name": "stderr",
     "output_type": "stream",
     "text": [
      "D:\\PyTorch\\PyTorch_Tutorial\\env\\lib\\site-packages\\tqdm\\auto.py:22: TqdmWarning: IProgress not found. Please update jupyter and ipywidgets. See https://ipywidgets.readthedocs.io/en/stable/user_install.html\n",
      "  from .autonotebook import tqdm as notebook_tqdm\n"
     ]
    }
   ],
   "source": [
    "import torch \n",
    "from torch import nn\n",
    "import torchvision\n",
    "import matplotlib.pyplot as plt\n",
    "import seaborn as sns\n",
    "import numpy as np \n",
    "from torch.utils.data import DataLoader\n",
    "from torchvision import transforms, datasets\n",
    "import torch.nn.functional as F\n",
    "from sklearn.metrics import confusion_matrix\n",
    "from tqdm import tqdm\n",
    "import pandas as pd\n",
    "#import tqdm as notebook_tqdm"
   ]
  },
  {
   "cell_type": "code",
   "execution_count": 5,
   "id": "d3ed0486",
   "metadata": {},
   "outputs": [],
   "source": [
    "import tqdm as tqdm"
   ]
  },
  {
   "cell_type": "code",
   "execution_count": 8,
   "id": "1add8e66",
   "metadata": {},
   "outputs": [],
   "source": [
    "#!pip install seaborn"
   ]
  },
  {
   "cell_type": "code",
   "execution_count": 9,
   "id": "23dd9cd8",
   "metadata": {},
   "outputs": [],
   "source": [
    "#!pip install tqdm"
   ]
  },
  {
   "cell_type": "code",
   "execution_count": 11,
   "id": "7e3dc90b",
   "metadata": {},
   "outputs": [],
   "source": [
    "#!pip install scikit-learn"
   ]
  },
  {
   "cell_type": "code",
   "execution_count": 2,
   "id": "a16da6ac",
   "metadata": {},
   "outputs": [
    {
     "name": "stdout",
     "output_type": "stream",
     "text": [
      "This notebook is using the device: cpu\n"
     ]
    }
   ],
   "source": [
    "class Config:\n",
    "    def __init__(self):\n",
    "        self.ROOT_DATA_DIR=\"FashionMNISTDir\"\n",
    "        self.EPOCH=10\n",
    "        self.BATCH_SIZE=32\n",
    "        self.LEARNING_RATE=0.01\n",
    "        self.IMAGE_SIZE=(28,28)\n",
    "        self.DEVICE=\"cuda\" if torch.cuda.is_available() else \"cpu\"\n",
    "        print(f\"This notebook is using the device: {self.DEVICE}\")\n",
    "        self.SEED=2022\n",
    "\n",
    "        \n",
    "        \n",
    "config=Config()\n",
    "        \n",
    "        \n",
    "        "
   ]
  },
  {
   "cell_type": "markdown",
   "id": "6ee1dcc7",
   "metadata": {},
   "source": [
    "# Download the data"
   ]
  },
  {
   "cell_type": "code",
   "execution_count": 3,
   "id": "2c5607f7",
   "metadata": {},
   "outputs": [],
   "source": [
    "train_data=datasets.FashionMNIST(\n",
    "    root=config.ROOT_DATA_DIR,\n",
    "    train=True,\n",
    "    download=True,\n",
    "    transform=transforms.ToTensor()#convert to pytorch tensor  and put on the  device cuda or cpu\n",
    "    \n",
    ")\n",
    "test_data=datasets.FashionMNIST(\n",
    "    root=config.ROOT_DATA_DIR,\n",
    "    train=False,\n",
    "    download=True, \n",
    "    transform=transforms.ToTensor()\n",
    ")"
   ]
  },
  {
   "cell_type": "markdown",
   "id": "93c293a2",
   "metadata": {},
   "source": [
    "# Check the shape of the data how it is arrange!!!!"
   ]
  },
  {
   "cell_type": "code",
   "execution_count": 8,
   "id": "439e83cd",
   "metadata": {},
   "outputs": [
    {
     "data": {
      "text/plain": [
       "torch.Size([60000, 28, 28])"
      ]
     },
     "execution_count": 8,
     "metadata": {},
     "output_type": "execute_result"
    }
   ],
   "source": [
    "train_data.data.shape"
   ]
  },
  {
   "cell_type": "code",
   "execution_count": 9,
   "id": "92ea2c1c",
   "metadata": {},
   "outputs": [
    {
     "data": {
      "text/plain": [
       "torch.Size([10000, 28, 28])"
      ]
     },
     "execution_count": 9,
     "metadata": {},
     "output_type": "execute_result"
    }
   ],
   "source": [
    "test_data.data.shape"
   ]
  },
  {
   "cell_type": "code",
   "execution_count": 10,
   "id": "11abf7e6",
   "metadata": {},
   "outputs": [
    {
     "data": {
      "text/plain": [
       "{'T-shirt/top': 0,\n",
       " 'Trouser': 1,\n",
       " 'Pullover': 2,\n",
       " 'Dress': 3,\n",
       " 'Coat': 4,\n",
       " 'Sandal': 5,\n",
       " 'Shirt': 6,\n",
       " 'Sneaker': 7,\n",
       " 'Bag': 8,\n",
       " 'Ankle boot': 9}"
      ]
     },
     "execution_count": 10,
     "metadata": {},
     "output_type": "execute_result"
    }
   ],
   "source": [
    "train_data.class_to_idx"
   ]
  },
  {
   "cell_type": "code",
   "execution_count": 11,
   "id": "7c47c144",
   "metadata": {},
   "outputs": [
    {
     "name": "stderr",
     "output_type": "stream",
     "text": [
      "D:\\PyTorch\\PyTorch_Tutorial\\env\\lib\\site-packages\\torchvision\\datasets\\mnist.py:65: UserWarning: train_labels has been renamed targets\n",
      "  warnings.warn(\"train_labels has been renamed targets\")\n"
     ]
    },
    {
     "data": {
      "text/plain": [
       "tensor([9, 0, 0,  ..., 3, 0, 5])"
      ]
     },
     "execution_count": 11,
     "metadata": {},
     "output_type": "execute_result"
    }
   ],
   "source": [
    "train_data.train_labels"
   ]
  },
  {
   "cell_type": "code",
   "execution_count": 12,
   "id": "da46b37c",
   "metadata": {},
   "outputs": [
    {
     "data": {
      "text/plain": [
       "tensor([9, 0, 0,  ..., 3, 0, 5])"
      ]
     },
     "execution_count": 12,
     "metadata": {},
     "output_type": "execute_result"
    }
   ],
   "source": [
    "train_data.targets"
   ]
  },
  {
   "cell_type": "code",
   "execution_count": 6,
   "id": "f96a252b",
   "metadata": {},
   "outputs": [
    {
     "data": {
      "text/plain": [
       "{'T-shirt/top': 0,\n",
       " 'Trouser': 1,\n",
       " 'Pullover': 2,\n",
       " 'Dress': 3,\n",
       " 'Coat': 4,\n",
       " 'Sandal': 5,\n",
       " 'Shirt': 6,\n",
       " 'Sneaker': 7,\n",
       " 'Bag': 8,\n",
       " 'Ankle boot': 9}"
      ]
     },
     "execution_count": 6,
     "metadata": {},
     "output_type": "execute_result"
    }
   ],
   "source": [
    "given_label_map=train_data.class_to_idx\n",
    "given_label_map"
   ]
  },
  {
   "cell_type": "code",
   "execution_count": 14,
   "id": "086c2e31",
   "metadata": {},
   "outputs": [
    {
     "data": {
      "text/plain": [
       "{'T-shirt/top': 0,\n",
       " 'Trouser': 1,\n",
       " 'Pullover': 2,\n",
       " 'Dress': 3,\n",
       " 'Coat': 4,\n",
       " 'Sandal': 5,\n",
       " 'Shirt': 6,\n",
       " 'Sneaker': 7,\n",
       " 'Bag': 8,\n",
       " 'Ankle boot': 9}"
      ]
     },
     "execution_count": 14,
     "metadata": {},
     "output_type": "execute_result"
    }
   ],
   "source": [
    "label_map_with_key_val={key: val for key, val in given_label_map.items()}\n",
    "label_map_with_key_val"
   ]
  },
  {
   "cell_type": "code",
   "execution_count": 7,
   "id": "70070a67",
   "metadata": {},
   "outputs": [
    {
     "data": {
      "text/plain": [
       "{0: 'T-shirt/top',\n",
       " 1: 'Trouser',\n",
       " 2: 'Pullover',\n",
       " 3: 'Dress',\n",
       " 4: 'Coat',\n",
       " 5: 'Sandal',\n",
       " 6: 'Shirt',\n",
       " 7: 'Sneaker',\n",
       " 8: 'Bag',\n",
       " 9: 'Ankle boot'}"
      ]
     },
     "execution_count": 7,
     "metadata": {},
     "output_type": "execute_result"
    }
   ],
   "source": [
    "label_map_with_val_key={val:key for key, val in given_label_map.items()}\n",
    "label_map_with_val_key"
   ]
  },
  {
   "cell_type": "markdown",
   "id": "092de328",
   "metadata": {},
   "source": [
    "# Visualize one of samples"
   ]
  },
  {
   "cell_type": "code",
   "execution_count": 16,
   "id": "277489df",
   "metadata": {},
   "outputs": [
    {
     "data": {
      "text/plain": [
       "<matplotlib.image.AxesImage at 0x236e35e6b08>"
      ]
     },
     "execution_count": 16,
     "metadata": {},
     "output_type": "execute_result"
    },
    {
     "data": {
      "image/png": "[encoded data removed]",
      "text/plain": [
       "<Figure size 432x288 with 1 Axes>"
      ]
     },
     "metadata": {
      "needs_background": "light"
     },
     "output_type": "display_data"
    }
   ],
   "source": [
    "plt.imshow(train_data.data[0])"
   ]
  },
  {
   "cell_type": "code",
   "execution_count": 17,
   "id": "43b489a2",
   "metadata": {},
   "outputs": [
    {
     "data": {
      "text/plain": [
       "<matplotlib.image.AxesImage at 0x236e36c4b48>"
      ]
     },
     "execution_count": 17,
     "metadata": {},
     "output_type": "execute_result"
    },
    {
     "data": {
      "image/png": "[encoded data removed]",
      "text/plain": [
       "<Figure size 432x288 with 1 Axes>"
      ]
     },
     "metadata": {
      "needs_background": "light"
     },
     "output_type": "display_data"
    }
   ],
   "source": [
    "plt.imshow(train_data.data[0], cmap='gray')"
   ]
  },
  {
   "cell_type": "code",
   "execution_count": 8,
   "id": "1e4aab8c",
   "metadata": {},
   "outputs": [
    {
     "data": {
      "text/plain": [
       "(-0.5, 27.5, 27.5, -0.5)"
      ]
     },
     "execution_count": 8,
     "metadata": {},
     "output_type": "execute_result"
    },
    {
     "data": {
      "image/png": "[encoded data removed]",
      "text/plain": [
       "<Figure size 432x288 with 1 Axes>"
      ]
     },
     "metadata": {
      "needs_background": "light"
     },
     "output_type": "display_data"
    }
   ],
   "source": [
    "idx=1\n",
    "plt.imshow(train_data.data[idx], cmap=\"gray\")\n",
    "#label_map_with_val_key[train_data.targets[idx].item()]\n",
    "plt.title(f\"data_label: {label_map_with_val_key[train_data.targets[idx].item()]}\")\n",
    "plt.axis(\"off\")"
   ]
  },
  {
   "cell_type": "code",
   "execution_count": 9,
   "id": "36502bf4",
   "metadata": {},
   "outputs": [
    {
     "data": {
      "image/png": "[encoded data removed]",
      "text/plain": [
       "<Figure size 432x288 with 1 Axes>"
      ]
     },
     "metadata": {
      "needs_background": "light"
     },
     "output_type": "display_data"
    }
   ],
   "source": [
    "def view_sample_img(data, idx, label_map):\n",
    "    plt.imshow(data.data[idx], cmap=\"gray\")\n",
    "    plt.title(f\"data label: {label_map[data.targets[idx].item()]}\")\n",
    "    plt.axis(\"off\")\n",
    "view_sample_img(train_data, 5, label_map_with_val_key)"
   ]
  },
  {
   "cell_type": "code",
   "execution_count": 35,
   "id": "b9f4eeba",
   "metadata": {},
   "outputs": [
    {
     "ename": "KeyError",
     "evalue": "0",
     "output_type": "error",
     "traceback": [
      "\u001b[1;31m---------------------------------------------------------------------------\u001b[0m",
      "\u001b[1;31mKeyError\u001b[0m                                  Traceback (most recent call last)",
      "\u001b[1;32m~\\AppData\\Local\\Temp\\ipykernel_7316\\1489226745.py\u001b[0m in \u001b[0;36m<module>\u001b[1;34m\u001b[0m\n\u001b[0;32m      1\u001b[0m \u001b[0mplt\u001b[0m\u001b[1;33m.\u001b[0m\u001b[0mimshow\u001b[0m\u001b[1;33m(\u001b[0m\u001b[0mtrain_data\u001b[0m\u001b[1;33m.\u001b[0m\u001b[0mdata\u001b[0m\u001b[1;33m[\u001b[0m\u001b[1;36m2\u001b[0m\u001b[1;33m]\u001b[0m\u001b[1;33m,\u001b[0m \u001b[0mcmap\u001b[0m\u001b[1;33m=\u001b[0m\u001b[1;34m\"gray\"\u001b[0m\u001b[1;33m)\u001b[0m\u001b[1;33m\u001b[0m\u001b[1;33m\u001b[0m\u001b[0m\n\u001b[0;32m      2\u001b[0m \u001b[1;31m#given_label_map[train_data.targets[2].item()]\u001b[0m\u001b[1;33m\u001b[0m\u001b[1;33m\u001b[0m\u001b[1;33m\u001b[0m\u001b[0m\n\u001b[1;32m----> 3\u001b[1;33m \u001b[0mlabel_map_with_key_val\u001b[0m\u001b[1;33m[\u001b[0m\u001b[0mtrain_data\u001b[0m\u001b[1;33m.\u001b[0m\u001b[0mtargets\u001b[0m\u001b[1;33m[\u001b[0m\u001b[1;36m2\u001b[0m\u001b[1;33m]\u001b[0m\u001b[1;33m.\u001b[0m\u001b[0mitem\u001b[0m\u001b[1;33m(\u001b[0m\u001b[1;33m)\u001b[0m\u001b[1;33m]\u001b[0m\u001b[1;33m\u001b[0m\u001b[1;33m\u001b[0m\u001b[0m\n\u001b[0m",
      "\u001b[1;31mKeyError\u001b[0m: 0"
     ]
    },
    {
     "data": {
      "image/png": "[encoded data removed]",
      "text/plain": [
       "<Figure size 432x288 with 1 Axes>"
      ]
     },
     "metadata": {
      "needs_background": "light"
     },
     "output_type": "display_data"
    }
   ],
   "source": [
    "plt.imshow(train_data.data[2], cmap=\"gray\")\n",
    "#given_label_map[train_data.targets[2].item()]\n",
    "label_map_with_key_val[train_data.targets[2].item()]"
   ]
  },
  {
   "cell_type": "markdown",
   "id": "996932b2",
   "metadata": {},
   "source": [
    "# Create the DataLoader"
   ]
  },
  {
   "cell_type": "code",
   "execution_count": 10,
   "id": "90561372",
   "metadata": {},
   "outputs": [],
   "source": [
    "train_data_loader=DataLoader(\n",
    "    dataset=train_data,\n",
    "    batch_size=config.BATCH_SIZE,\n",
    "    shuffle=True\n",
    ")\n",
    "\"\"\"\n",
    "DataLoader creates an iterator->so we can iterate over the train_data_loader one by one\n",
    "\"\"\"\n",
    "test_data_loader=DataLoader(\n",
    "    dataset=test_data,\n",
    "    batch_size=config.BATCH_SIZE,\n",
    "    shuffle=False# Normally we dont shuffle the test_data\n",
    ")"
   ]
  },
  {
   "cell_type": "code",
   "execution_count": 11,
   "id": "12f5ae1c",
   "metadata": {},
   "outputs": [
    {
     "name": "stdout",
     "output_type": "stream",
     "text": [
      "torch.Size([32, 1, 28, 28])\n",
      "torch.Size([32])\n"
     ]
    }
   ],
   "source": [
    "for images, labels in test_data_loader:\n",
    "    print(images.shape)\n",
    "    print(labels.shape)\n",
    "    break"
   ]
  },
  {
   "cell_type": "code",
   "execution_count": 43,
   "id": "bc195289",
   "metadata": {},
   "outputs": [
    {
     "data": {
      "text/plain": [
       "tensor([[[[0.0000, 0.0000, 0.0000,  ..., 0.0000, 0.0000, 0.0000],\n",
       "          [0.0000, 0.0000, 0.0000,  ..., 0.0000, 0.0000, 0.0000],\n",
       "          [0.0000, 0.0000, 0.0000,  ..., 0.0000, 0.0000, 0.0000],\n",
       "          ...,\n",
       "          [0.0000, 0.0000, 0.0000,  ..., 0.0000, 0.0000, 0.0000],\n",
       "          [0.0000, 0.0000, 0.0000,  ..., 0.0000, 0.0000, 0.0000],\n",
       "          [0.0000, 0.0000, 0.0000,  ..., 0.0000, 0.0000, 0.0000]]],\n",
       "\n",
       "\n",
       "        [[[0.0000, 0.0000, 0.0000,  ..., 0.0000, 0.0000, 0.0000],\n",
       "          [0.0000, 0.0000, 0.0000,  ..., 0.0000, 0.0000, 0.0000],\n",
       "          [0.0000, 0.0000, 0.0000,  ..., 0.0000, 0.0000, 0.0000],\n",
       "          ...,\n",
       "          [0.0000, 0.0000, 0.0000,  ..., 0.0000, 0.0000, 0.0000],\n",
       "          [0.0000, 0.0000, 0.0000,  ..., 0.0000, 0.0000, 0.0000],\n",
       "          [0.0000, 0.0000, 0.0000,  ..., 0.0000, 0.0000, 0.0000]]],\n",
       "\n",
       "\n",
       "        [[[0.0000, 0.0000, 0.0000,  ..., 0.0000, 0.0000, 0.0000],\n",
       "          [0.0000, 0.0000, 0.0000,  ..., 0.0000, 0.0000, 0.0000],\n",
       "          [0.0000, 0.0000, 0.0000,  ..., 0.0000, 0.0000, 0.0000],\n",
       "          ...,\n",
       "          [0.0000, 0.0000, 0.0000,  ..., 0.0000, 0.0000, 0.0000],\n",
       "          [0.0000, 0.0000, 0.0000,  ..., 0.0000, 0.0000, 0.0000],\n",
       "          [0.0000, 0.0000, 0.0000,  ..., 0.0000, 0.0000, 0.0000]]],\n",
       "\n",
       "\n",
       "        ...,\n",
       "\n",
       "\n",
       "        [[[0.0000, 0.0000, 0.0000,  ..., 0.0000, 0.0000, 0.0000],\n",
       "          [0.0000, 0.0000, 0.0000,  ..., 0.0000, 0.0000, 0.0000],\n",
       "          [0.0000, 0.0000, 0.0000,  ..., 0.0000, 0.0000, 0.0000],\n",
       "          ...,\n",
       "          [0.0000, 0.0000, 0.0000,  ..., 0.0000, 0.0000, 0.0000],\n",
       "          [0.0000, 0.0000, 0.0000,  ..., 0.0000, 0.0000, 0.0000],\n",
       "          [0.0000, 0.0000, 0.0000,  ..., 0.0000, 0.0000, 0.0000]]],\n",
       "\n",
       "\n",
       "        [[[0.0000, 0.0000, 0.0000,  ..., 0.0000, 0.0000, 0.0000],\n",
       "          [0.0000, 0.0000, 0.0000,  ..., 0.0000, 0.0000, 0.0000],\n",
       "          [0.0000, 0.0000, 0.0000,  ..., 0.0000, 0.0000, 0.0000],\n",
       "          ...,\n",
       "          [0.0000, 0.0000, 0.0000,  ..., 0.9020, 0.9608, 0.8000],\n",
       "          [0.0000, 0.0000, 0.0000,  ..., 0.6745, 0.7255, 0.4000],\n",
       "          [0.0000, 0.0000, 0.0000,  ..., 0.0000, 0.0000, 0.0000]]],\n",
       "\n",
       "\n",
       "        [[[0.0000, 0.0000, 0.0000,  ..., 0.0000, 0.0000, 0.0000],\n",
       "          [0.0000, 0.0000, 0.0000,  ..., 0.0000, 0.0000, 0.0000],\n",
       "          [0.0000, 0.0000, 0.0000,  ..., 0.0000, 0.0000, 0.0000],\n",
       "          ...,\n",
       "          [0.0000, 0.0000, 0.0000,  ..., 0.0000, 0.0000, 0.0000],\n",
       "          [0.0000, 0.0000, 0.0000,  ..., 0.0000, 0.0000, 0.0000],\n",
       "          [0.0000, 0.0000, 0.0000,  ..., 0.0000, 0.0000, 0.0000]]]])"
      ]
     },
     "execution_count": 43,
     "metadata": {},
     "output_type": "execute_result"
    }
   ],
   "source": [
    "images"
   ]
  },
  {
   "cell_type": "code",
   "execution_count": 44,
   "id": "a07bcddd",
   "metadata": {},
   "outputs": [
    {
     "data": {
      "text/plain": [
       "tensor([[[0.0000, 0.0000, 0.0000, 0.0000, 0.0000, 0.0000, 0.0000, 0.0000,\n",
       "          0.0000, 0.0000, 0.0000, 0.0000, 0.0000, 0.0000, 0.0000, 0.0000,\n",
       "          0.0000, 0.0000, 0.0000, 0.0000, 0.0000, 0.0000, 0.0000, 0.0000,\n",
       "          0.0000, 0.0000, 0.0000, 0.0000],\n",
       "         [0.0000, 0.0000, 0.0000, 0.0000, 0.0000, 0.0000, 0.0000, 0.0000,\n",
       "          0.0000, 0.0000, 0.0000, 0.0000, 0.0000, 0.0000, 0.0000, 0.0000,\n",
       "          0.0000, 0.0000, 0.0000, 0.0000, 0.0000, 0.0000, 0.0000, 0.0000,\n",
       "          0.0000, 0.0000, 0.0000, 0.0000],\n",
       "         [0.0000, 0.0000, 0.0000, 0.0000, 0.0000, 0.0000, 0.0000, 0.0000,\n",
       "          0.0000, 0.0000, 0.0000, 0.0000, 0.0000, 0.0000, 0.0000, 0.0000,\n",
       "          0.0000, 0.0000, 0.0000, 0.0000, 0.0000, 0.0000, 0.0000, 0.0000,\n",
       "          0.0000, 0.0000, 0.0000, 0.0000],\n",
       "         [0.0000, 0.0000, 0.0000, 0.0000, 0.0000, 0.0000, 0.0000, 0.0000,\n",
       "          0.0000, 0.0000, 0.0000, 0.0000, 0.0000, 0.0000, 0.0000, 0.0000,\n",
       "          0.0000, 0.0000, 0.0000, 0.0000, 0.0000, 0.0000, 0.0000, 0.0000,\n",
       "          0.0000, 0.0000, 0.0000, 0.0000],\n",
       "         [0.0000, 0.0000, 0.0000, 0.0000, 0.0000, 0.0000, 0.0000, 0.0000,\n",
       "          0.0000, 0.0000, 0.0000, 0.0000, 0.0000, 0.0000, 0.0000, 0.0000,\n",
       "          0.0000, 0.0000, 0.0000, 0.0000, 0.0000, 0.0000, 0.0000, 0.0000,\n",
       "          0.0000, 0.0000, 0.0000, 0.0000],\n",
       "         [0.0000, 0.0000, 0.0000, 0.0000, 0.0000, 0.0000, 0.0000, 0.0000,\n",
       "          0.0000, 0.0000, 0.0000, 0.0000, 0.0000, 0.0000, 0.0000, 0.0000,\n",
       "          0.0000, 0.0000, 0.0000, 0.0000, 0.0000, 0.0000, 0.0000, 0.0000,\n",
       "          0.0000, 0.0000, 0.0000, 0.0000],\n",
       "         [0.0000, 0.0000, 0.0000, 0.0000, 0.0000, 0.0000, 0.0000, 0.0000,\n",
       "          0.0000, 0.0000, 0.0000, 0.0000, 0.0000, 0.0000, 0.0000, 0.0000,\n",
       "          0.0000, 0.0000, 0.0000, 0.0000, 0.0000, 0.0000, 0.0000, 0.0000,\n",
       "          0.0000, 0.0000, 0.0000, 0.0000],\n",
       "         [0.0000, 0.0000, 0.0000, 0.0000, 0.0000, 0.0000, 0.0000, 0.0000,\n",
       "          0.0000, 0.0000, 0.0000, 0.0000, 0.0000, 0.0000, 0.0000, 0.0000,\n",
       "          0.0000, 0.0000, 0.0000, 0.0118, 0.0039, 0.0000, 0.0000, 0.0275,\n",
       "          0.0000, 0.1451, 0.0000, 0.0000],\n",
       "         [0.0000, 0.0000, 0.0000, 0.0000, 0.0000, 0.0000, 0.0000, 0.0000,\n",
       "          0.0000, 0.0000, 0.0000, 0.0000, 0.0000, 0.0039, 0.0078, 0.0000,\n",
       "          0.1059, 0.3294, 0.0431, 0.0000, 0.0000, 0.0000, 0.0000, 0.0000,\n",
       "          0.0000, 0.4667, 0.0000, 0.0000],\n",
       "         [0.0000, 0.0000, 0.0000, 0.0000, 0.0000, 0.0000, 0.0000, 0.0000,\n",
       "          0.0000, 0.0000, 0.0000, 0.0000, 0.0000, 0.0039, 0.0000, 0.0000,\n",
       "          0.3451, 0.5608, 0.4314, 0.0000, 0.0000, 0.0000, 0.0000, 0.0863,\n",
       "          0.3647, 0.4157, 0.0000, 0.0000],\n",
       "         [0.0000, 0.0000, 0.0000, 0.0000, 0.0000, 0.0000, 0.0000, 0.0000,\n",
       "          0.0000, 0.0000, 0.0000, 0.0000, 0.0000, 0.0157, 0.0000, 0.2078,\n",
       "          0.5059, 0.4706, 0.5765, 0.6863, 0.6157, 0.6510, 0.5294, 0.6039,\n",
       "          0.6588, 0.5490, 0.0000, 0.0000],\n",
       "         [0.0000, 0.0000, 0.0000, 0.0000, 0.0000, 0.0000, 0.0000, 0.0000,\n",
       "          0.0000, 0.0000, 0.0000, 0.0000, 0.0078, 0.0000, 0.0431, 0.5373,\n",
       "          0.5098, 0.5020, 0.6275, 0.6902, 0.6235, 0.6549, 0.6980, 0.5843,\n",
       "          0.5922, 0.5647, 0.0000, 0.0000],\n",
       "         [0.0000, 0.0000, 0.0000, 0.0000, 0.0000, 0.0000, 0.0039, 0.0000,\n",
       "          0.0078, 0.0039, 0.0000, 0.0118, 0.0000, 0.0000, 0.4510, 0.4471,\n",
       "          0.4157, 0.5373, 0.6588, 0.6000, 0.6118, 0.6471, 0.6549, 0.5608,\n",
       "          0.6157, 0.6196, 0.0431, 0.0000],\n",
       "         [0.0000, 0.0000, 0.0000, 0.0000, 0.0039, 0.0000, 0.0000, 0.0000,\n",
       "          0.0000, 0.0000, 0.0118, 0.0000, 0.0000, 0.3490, 0.5451, 0.3529,\n",
       "          0.3686, 0.6000, 0.5843, 0.5137, 0.5922, 0.6627, 0.6745, 0.5608,\n",
       "          0.6235, 0.6627, 0.1882, 0.0000],\n",
       "         [0.0000, 0.0000, 0.0000, 0.0000, 0.0000, 0.0000, 0.0078, 0.0157,\n",
       "          0.0039, 0.0000, 0.0000, 0.0000, 0.3843, 0.5333, 0.4314, 0.4275,\n",
       "          0.4314, 0.6353, 0.5294, 0.5647, 0.5843, 0.6235, 0.6549, 0.5647,\n",
       "          0.6196, 0.6627, 0.4667, 0.0000],\n",
       "         [0.0000, 0.0000, 0.0078, 0.0078, 0.0039, 0.0078, 0.0000, 0.0000,\n",
       "          0.0000, 0.0000, 0.1020, 0.4235, 0.4588, 0.3882, 0.4353, 0.4588,\n",
       "          0.5333, 0.6118, 0.5255, 0.6039, 0.6039, 0.6118, 0.6275, 0.5529,\n",
       "          0.5765, 0.6118, 0.6980, 0.0000],\n",
       "         [0.0118, 0.0000, 0.0000, 0.0000, 0.0000, 0.0000, 0.0000, 0.0824,\n",
       "          0.2078, 0.3608, 0.4588, 0.4353, 0.4039, 0.4510, 0.5059, 0.5255,\n",
       "          0.5608, 0.6039, 0.6471, 0.6667, 0.6039, 0.5922, 0.6039, 0.5608,\n",
       "          0.5412, 0.5882, 0.6471, 0.1686],\n",
       "         [0.0000, 0.0000, 0.0902, 0.2118, 0.2549, 0.2980, 0.3333, 0.4627,\n",
       "          0.5020, 0.4824, 0.4353, 0.4431, 0.4627, 0.4980, 0.4902, 0.5451,\n",
       "          0.5216, 0.5333, 0.6275, 0.5490, 0.6078, 0.6314, 0.5647, 0.6078,\n",
       "          0.6745, 0.6314, 0.7412, 0.2431],\n",
       "         [0.0000, 0.2667, 0.3686, 0.3529, 0.4353, 0.4471, 0.4353, 0.4471,\n",
       "          0.4510, 0.4980, 0.5294, 0.5333, 0.5608, 0.4941, 0.4980, 0.5922,\n",
       "          0.6039, 0.5608, 0.5804, 0.4902, 0.6353, 0.6353, 0.5647, 0.5412,\n",
       "          0.6000, 0.6353, 0.7686, 0.2275],\n",
       "         [0.2745, 0.6627, 0.5059, 0.4078, 0.3843, 0.3922, 0.3686, 0.3804,\n",
       "          0.3843, 0.4000, 0.4235, 0.4157, 0.4667, 0.4706, 0.5059, 0.5843,\n",
       "          0.6118, 0.6549, 0.7451, 0.7451, 0.7686, 0.7765, 0.7765, 0.7333,\n",
       "          0.7725, 0.7412, 0.7216, 0.1412],\n",
       "         [0.0627, 0.4941, 0.6706, 0.7373, 0.7373, 0.7216, 0.6706, 0.6000,\n",
       "          0.5294, 0.4706, 0.4941, 0.4980, 0.5725, 0.7255, 0.7647, 0.8196,\n",
       "          0.8157, 1.0000, 0.8196, 0.6941, 0.9608, 0.9882, 0.9843, 0.9843,\n",
       "          0.9686, 0.8627, 0.8078, 0.1922],\n",
       "         [0.0000, 0.0000, 0.0000, 0.0471, 0.2627, 0.4157, 0.6431, 0.7255,\n",
       "          0.7804, 0.8235, 0.8275, 0.8235, 0.8157, 0.7451, 0.5882, 0.3216,\n",
       "          0.0314, 0.0000, 0.0000, 0.0000, 0.6980, 0.8157, 0.7373, 0.6863,\n",
       "          0.6353, 0.6196, 0.5922, 0.0431],\n",
       "         [0.0000, 0.0000, 0.0000, 0.0000, 0.0000, 0.0000, 0.0000, 0.0000,\n",
       "          0.0000, 0.0000, 0.0000, 0.0000, 0.0000, 0.0000, 0.0000, 0.0000,\n",
       "          0.0000, 0.0000, 0.0000, 0.0000, 0.0000, 0.0000, 0.0000, 0.0000,\n",
       "          0.0000, 0.0000, 0.0000, 0.0000],\n",
       "         [0.0000, 0.0000, 0.0000, 0.0000, 0.0000, 0.0000, 0.0000, 0.0000,\n",
       "          0.0000, 0.0000, 0.0000, 0.0000, 0.0000, 0.0000, 0.0000, 0.0000,\n",
       "          0.0000, 0.0000, 0.0000, 0.0000, 0.0000, 0.0000, 0.0000, 0.0000,\n",
       "          0.0000, 0.0000, 0.0000, 0.0000],\n",
       "         [0.0000, 0.0000, 0.0000, 0.0000, 0.0000, 0.0000, 0.0000, 0.0000,\n",
       "          0.0000, 0.0000, 0.0000, 0.0000, 0.0000, 0.0000, 0.0000, 0.0000,\n",
       "          0.0000, 0.0000, 0.0000, 0.0000, 0.0000, 0.0000, 0.0000, 0.0000,\n",
       "          0.0000, 0.0000, 0.0000, 0.0000],\n",
       "         [0.0000, 0.0000, 0.0000, 0.0000, 0.0000, 0.0000, 0.0000, 0.0000,\n",
       "          0.0000, 0.0000, 0.0000, 0.0000, 0.0000, 0.0000, 0.0000, 0.0000,\n",
       "          0.0000, 0.0000, 0.0000, 0.0000, 0.0000, 0.0000, 0.0000, 0.0000,\n",
       "          0.0000, 0.0000, 0.0000, 0.0000],\n",
       "         [0.0000, 0.0000, 0.0000, 0.0000, 0.0000, 0.0000, 0.0000, 0.0000,\n",
       "          0.0000, 0.0000, 0.0000, 0.0000, 0.0000, 0.0000, 0.0000, 0.0000,\n",
       "          0.0000, 0.0000, 0.0000, 0.0000, 0.0000, 0.0000, 0.0000, 0.0000,\n",
       "          0.0000, 0.0000, 0.0000, 0.0000],\n",
       "         [0.0000, 0.0000, 0.0000, 0.0000, 0.0000, 0.0000, 0.0000, 0.0000,\n",
       "          0.0000, 0.0000, 0.0000, 0.0000, 0.0000, 0.0000, 0.0000, 0.0000,\n",
       "          0.0000, 0.0000, 0.0000, 0.0000, 0.0000, 0.0000, 0.0000, 0.0000,\n",
       "          0.0000, 0.0000, 0.0000, 0.0000]]])"
      ]
     },
     "execution_count": 44,
     "metadata": {},
     "output_type": "execute_result"
    }
   ],
   "source": [
    "# Acces the first batch\n",
    "images[0]"
   ]
  },
  {
   "cell_type": "code",
   "execution_count": 45,
   "id": "0c818df8",
   "metadata": {},
   "outputs": [
    {
     "data": {
      "text/plain": [
       "torch.Size([1, 28, 28])"
      ]
     },
     "execution_count": 45,
     "metadata": {},
     "output_type": "execute_result"
    }
   ],
   "source": [
    "images[0].shape"
   ]
  },
  {
   "cell_type": "code",
   "execution_count": 46,
   "id": "caca977a",
   "metadata": {},
   "outputs": [
    {
     "data": {
      "text/plain": [
       "torch.Size([1, 28, 28])"
      ]
     },
     "execution_count": 46,
     "metadata": {},
     "output_type": "execute_result"
    }
   ],
   "source": [
    "images[1].shape"
   ]
  },
  {
   "cell_type": "code",
   "execution_count": 12,
   "id": "db5645ea",
   "metadata": {},
   "outputs": [
    {
     "ename": "TypeError",
     "evalue": "Invalid shape (1, 28, 28) for image data",
     "output_type": "error",
     "traceback": [
      "\u001b[1;31m---------------------------------------------------------------------------\u001b[0m",
      "\u001b[1;31mTypeError\u001b[0m                                 Traceback (most recent call last)",
      "\u001b[1;32m~\\AppData\\Local\\Temp\\ipykernel_8684\\2522155480.py\u001b[0m in \u001b[0;36m<module>\u001b[1;34m\u001b[0m\n\u001b[1;32m----> 1\u001b[1;33m \u001b[0mplt\u001b[0m\u001b[1;33m.\u001b[0m\u001b[0mimshow\u001b[0m\u001b[1;33m(\u001b[0m\u001b[0mimages\u001b[0m\u001b[1;33m[\u001b[0m\u001b[1;36m0\u001b[0m\u001b[1;33m]\u001b[0m\u001b[1;33m)\u001b[0m\u001b[1;33m\u001b[0m\u001b[1;33m\u001b[0m\u001b[0m\n\u001b[0m",
      "\u001b[1;32mD:\\PyTorch\\PyTorch_Tutorial\\env\\lib\\site-packages\\matplotlib\\_api\\deprecation.py\u001b[0m in \u001b[0;36mwrapper\u001b[1;34m(*args, **kwargs)\u001b[0m\n\u001b[0;32m    457\u001b[0m                 \u001b[1;34m\"parameter will become keyword-only %(removal)s.\"\u001b[0m\u001b[1;33m,\u001b[0m\u001b[1;33m\u001b[0m\u001b[1;33m\u001b[0m\u001b[0m\n\u001b[0;32m    458\u001b[0m                 name=name, obj_type=f\"parameter of {func.__name__}()\")\n\u001b[1;32m--> 459\u001b[1;33m         \u001b[1;32mreturn\u001b[0m \u001b[0mfunc\u001b[0m\u001b[1;33m(\u001b[0m\u001b[1;33m*\u001b[0m\u001b[0margs\u001b[0m\u001b[1;33m,\u001b[0m \u001b[1;33m**\u001b[0m\u001b[0mkwargs\u001b[0m\u001b[1;33m)\u001b[0m\u001b[1;33m\u001b[0m\u001b[1;33m\u001b[0m\u001b[0m\n\u001b[0m\u001b[0;32m    460\u001b[0m \u001b[1;33m\u001b[0m\u001b[0m\n\u001b[0;32m    461\u001b[0m     \u001b[1;31m# Don't modify *func*'s signature, as boilerplate.py needs it.\u001b[0m\u001b[1;33m\u001b[0m\u001b[1;33m\u001b[0m\u001b[1;33m\u001b[0m\u001b[0m\n",
      "\u001b[1;32mD:\\PyTorch\\PyTorch_Tutorial\\env\\lib\\site-packages\\matplotlib\\pyplot.py\u001b[0m in \u001b[0;36mimshow\u001b[1;34m(X, cmap, norm, aspect, interpolation, alpha, vmin, vmax, origin, extent, interpolation_stage, filternorm, filterrad, resample, url, data, **kwargs)\u001b[0m\n\u001b[0;32m   2657\u001b[0m         \u001b[0mfilternorm\u001b[0m\u001b[1;33m=\u001b[0m\u001b[0mfilternorm\u001b[0m\u001b[1;33m,\u001b[0m \u001b[0mfilterrad\u001b[0m\u001b[1;33m=\u001b[0m\u001b[0mfilterrad\u001b[0m\u001b[1;33m,\u001b[0m \u001b[0mresample\u001b[0m\u001b[1;33m=\u001b[0m\u001b[0mresample\u001b[0m\u001b[1;33m,\u001b[0m\u001b[1;33m\u001b[0m\u001b[1;33m\u001b[0m\u001b[0m\n\u001b[0;32m   2658\u001b[0m         \u001b[0murl\u001b[0m\u001b[1;33m=\u001b[0m\u001b[0murl\u001b[0m\u001b[1;33m,\u001b[0m \u001b[1;33m**\u001b[0m\u001b[1;33m(\u001b[0m\u001b[1;33m{\u001b[0m\u001b[1;34m\"data\"\u001b[0m\u001b[1;33m:\u001b[0m \u001b[0mdata\u001b[0m\u001b[1;33m}\u001b[0m \u001b[1;32mif\u001b[0m \u001b[0mdata\u001b[0m \u001b[1;32mis\u001b[0m \u001b[1;32mnot\u001b[0m \u001b[1;32mNone\u001b[0m \u001b[1;32melse\u001b[0m \u001b[1;33m{\u001b[0m\u001b[1;33m}\u001b[0m\u001b[1;33m)\u001b[0m\u001b[1;33m,\u001b[0m\u001b[1;33m\u001b[0m\u001b[1;33m\u001b[0m\u001b[0m\n\u001b[1;32m-> 2659\u001b[1;33m         **kwargs)\n\u001b[0m\u001b[0;32m   2660\u001b[0m     \u001b[0msci\u001b[0m\u001b[1;33m(\u001b[0m\u001b[0m__ret\u001b[0m\u001b[1;33m)\u001b[0m\u001b[1;33m\u001b[0m\u001b[1;33m\u001b[0m\u001b[0m\n\u001b[0;32m   2661\u001b[0m     \u001b[1;32mreturn\u001b[0m \u001b[0m__ret\u001b[0m\u001b[1;33m\u001b[0m\u001b[1;33m\u001b[0m\u001b[0m\n",
      "\u001b[1;32mD:\\PyTorch\\PyTorch_Tutorial\\env\\lib\\site-packages\\matplotlib\\_api\\deprecation.py\u001b[0m in \u001b[0;36mwrapper\u001b[1;34m(*args, **kwargs)\u001b[0m\n\u001b[0;32m    457\u001b[0m                 \u001b[1;34m\"parameter will become keyword-only %(removal)s.\"\u001b[0m\u001b[1;33m,\u001b[0m\u001b[1;33m\u001b[0m\u001b[1;33m\u001b[0m\u001b[0m\n\u001b[0;32m    458\u001b[0m                 name=name, obj_type=f\"parameter of {func.__name__}()\")\n\u001b[1;32m--> 459\u001b[1;33m         \u001b[1;32mreturn\u001b[0m \u001b[0mfunc\u001b[0m\u001b[1;33m(\u001b[0m\u001b[1;33m*\u001b[0m\u001b[0margs\u001b[0m\u001b[1;33m,\u001b[0m \u001b[1;33m**\u001b[0m\u001b[0mkwargs\u001b[0m\u001b[1;33m)\u001b[0m\u001b[1;33m\u001b[0m\u001b[1;33m\u001b[0m\u001b[0m\n\u001b[0m\u001b[0;32m    460\u001b[0m \u001b[1;33m\u001b[0m\u001b[0m\n\u001b[0;32m    461\u001b[0m     \u001b[1;31m# Don't modify *func*'s signature, as boilerplate.py needs it.\u001b[0m\u001b[1;33m\u001b[0m\u001b[1;33m\u001b[0m\u001b[1;33m\u001b[0m\u001b[0m\n",
      "\u001b[1;32mD:\\PyTorch\\PyTorch_Tutorial\\env\\lib\\site-packages\\matplotlib\\__init__.py\u001b[0m in \u001b[0;36minner\u001b[1;34m(ax, data, *args, **kwargs)\u001b[0m\n\u001b[0;32m   1410\u001b[0m     \u001b[1;32mdef\u001b[0m \u001b[0minner\u001b[0m\u001b[1;33m(\u001b[0m\u001b[0max\u001b[0m\u001b[1;33m,\u001b[0m \u001b[1;33m*\u001b[0m\u001b[0margs\u001b[0m\u001b[1;33m,\u001b[0m \u001b[0mdata\u001b[0m\u001b[1;33m=\u001b[0m\u001b[1;32mNone\u001b[0m\u001b[1;33m,\u001b[0m \u001b[1;33m**\u001b[0m\u001b[0mkwargs\u001b[0m\u001b[1;33m)\u001b[0m\u001b[1;33m:\u001b[0m\u001b[1;33m\u001b[0m\u001b[1;33m\u001b[0m\u001b[0m\n\u001b[0;32m   1411\u001b[0m         \u001b[1;32mif\u001b[0m \u001b[0mdata\u001b[0m \u001b[1;32mis\u001b[0m \u001b[1;32mNone\u001b[0m\u001b[1;33m:\u001b[0m\u001b[1;33m\u001b[0m\u001b[1;33m\u001b[0m\u001b[0m\n\u001b[1;32m-> 1412\u001b[1;33m             \u001b[1;32mreturn\u001b[0m \u001b[0mfunc\u001b[0m\u001b[1;33m(\u001b[0m\u001b[0max\u001b[0m\u001b[1;33m,\u001b[0m \u001b[1;33m*\u001b[0m\u001b[0mmap\u001b[0m\u001b[1;33m(\u001b[0m\u001b[0msanitize_sequence\u001b[0m\u001b[1;33m,\u001b[0m \u001b[0margs\u001b[0m\u001b[1;33m)\u001b[0m\u001b[1;33m,\u001b[0m \u001b[1;33m**\u001b[0m\u001b[0mkwargs\u001b[0m\u001b[1;33m)\u001b[0m\u001b[1;33m\u001b[0m\u001b[1;33m\u001b[0m\u001b[0m\n\u001b[0m\u001b[0;32m   1413\u001b[0m \u001b[1;33m\u001b[0m\u001b[0m\n\u001b[0;32m   1414\u001b[0m         \u001b[0mbound\u001b[0m \u001b[1;33m=\u001b[0m \u001b[0mnew_sig\u001b[0m\u001b[1;33m.\u001b[0m\u001b[0mbind\u001b[0m\u001b[1;33m(\u001b[0m\u001b[0max\u001b[0m\u001b[1;33m,\u001b[0m \u001b[1;33m*\u001b[0m\u001b[0margs\u001b[0m\u001b[1;33m,\u001b[0m \u001b[1;33m**\u001b[0m\u001b[0mkwargs\u001b[0m\u001b[1;33m)\u001b[0m\u001b[1;33m\u001b[0m\u001b[1;33m\u001b[0m\u001b[0m\n",
      "\u001b[1;32mD:\\PyTorch\\PyTorch_Tutorial\\env\\lib\\site-packages\\matplotlib\\axes\\_axes.py\u001b[0m in \u001b[0;36mimshow\u001b[1;34m(self, X, cmap, norm, aspect, interpolation, alpha, vmin, vmax, origin, extent, interpolation_stage, filternorm, filterrad, resample, url, **kwargs)\u001b[0m\n\u001b[0;32m   5479\u001b[0m                               **kwargs)\n\u001b[0;32m   5480\u001b[0m \u001b[1;33m\u001b[0m\u001b[0m\n\u001b[1;32m-> 5481\u001b[1;33m         \u001b[0mim\u001b[0m\u001b[1;33m.\u001b[0m\u001b[0mset_data\u001b[0m\u001b[1;33m(\u001b[0m\u001b[0mX\u001b[0m\u001b[1;33m)\u001b[0m\u001b[1;33m\u001b[0m\u001b[1;33m\u001b[0m\u001b[0m\n\u001b[0m\u001b[0;32m   5482\u001b[0m         \u001b[0mim\u001b[0m\u001b[1;33m.\u001b[0m\u001b[0mset_alpha\u001b[0m\u001b[1;33m(\u001b[0m\u001b[0malpha\u001b[0m\u001b[1;33m)\u001b[0m\u001b[1;33m\u001b[0m\u001b[1;33m\u001b[0m\u001b[0m\n\u001b[0;32m   5483\u001b[0m         \u001b[1;32mif\u001b[0m \u001b[0mim\u001b[0m\u001b[1;33m.\u001b[0m\u001b[0mget_clip_path\u001b[0m\u001b[1;33m(\u001b[0m\u001b[1;33m)\u001b[0m \u001b[1;32mis\u001b[0m \u001b[1;32mNone\u001b[0m\u001b[1;33m:\u001b[0m\u001b[1;33m\u001b[0m\u001b[1;33m\u001b[0m\u001b[0m\n",
      "\u001b[1;32mD:\\PyTorch\\PyTorch_Tutorial\\env\\lib\\site-packages\\matplotlib\\image.py\u001b[0m in \u001b[0;36mset_data\u001b[1;34m(self, A)\u001b[0m\n\u001b[0;32m    714\u001b[0m                 or self._A.ndim == 3 and self._A.shape[-1] in [3, 4]):\n\u001b[0;32m    715\u001b[0m             raise TypeError(\"Invalid shape {} for image data\"\n\u001b[1;32m--> 716\u001b[1;33m                             .format(self._A.shape))\n\u001b[0m\u001b[0;32m    717\u001b[0m \u001b[1;33m\u001b[0m\u001b[0m\n\u001b[0;32m    718\u001b[0m         \u001b[1;32mif\u001b[0m \u001b[0mself\u001b[0m\u001b[1;33m.\u001b[0m\u001b[0m_A\u001b[0m\u001b[1;33m.\u001b[0m\u001b[0mndim\u001b[0m \u001b[1;33m==\u001b[0m \u001b[1;36m3\u001b[0m\u001b[1;33m:\u001b[0m\u001b[1;33m\u001b[0m\u001b[1;33m\u001b[0m\u001b[0m\n",
      "\u001b[1;31mTypeError\u001b[0m: Invalid shape (1, 28, 28) for image data"
     ]
    },
    {
     "data": {
      "image/png": "[encoded data removed]",
      "text/plain": [
       "<Figure size 432x288 with 1 Axes>"
      ]
     },
     "metadata": {
      "needs_background": "light"
     },
     "output_type": "display_data"
    }
   ],
   "source": [
    "plt.imshow(images[0])"
   ]
  },
  {
   "cell_type": "code",
   "execution_count": 13,
   "id": "f5c71336",
   "metadata": {},
   "outputs": [
    {
     "data": {
      "text/plain": [
       "<matplotlib.image.AxesImage at 0x1334a978148>"
      ]
     },
     "execution_count": 13,
     "metadata": {},
     "output_type": "execute_result"
    },
    {
     "data": {
      "image/png": "[encoded data removed]",
      "text/plain": [
       "<Figure size 432x288 with 1 Axes>"
      ]
     },
     "metadata": {
      "needs_background": "light"
     },
     "output_type": "display_data"
    }
   ],
   "source": [
    "plt.imshow(images[0].permute(1,2,0))"
   ]
  },
  {
   "cell_type": "code",
   "execution_count": 23,
   "id": "0d0502b6",
   "metadata": {},
   "outputs": [
    {
     "data": {
      "text/plain": [
       "torch.Size([28, 28])"
      ]
     },
     "execution_count": 23,
     "metadata": {},
     "output_type": "execute_result"
    }
   ],
   "source": [
    "images[0].squeeze().shape"
   ]
  },
  {
   "cell_type": "code",
   "execution_count": 53,
   "id": "ce80bd97",
   "metadata": {},
   "outputs": [
    {
     "data": {
      "text/plain": [
       "array([[0.        , 0.        , 0.        , 0.        , 0.        ,\n",
       "        0.        , 0.        , 0.        , 0.        , 0.        ,\n",
       "        0.        , 0.        , 0.        , 0.        , 0.        ,\n",
       "        0.        , 0.        , 0.        , 0.        , 0.        ,\n",
       "        0.        , 0.        , 0.        , 0.        , 0.        ,\n",
       "        0.        , 0.        , 0.        ],\n",
       "       [0.        , 0.        , 0.        , 0.        , 0.        ,\n",
       "        0.        , 0.        , 0.        , 0.        , 0.        ,\n",
       "        0.        , 0.        , 0.        , 0.        , 0.        ,\n",
       "        0.        , 0.        , 0.        , 0.        , 0.        ,\n",
       "        0.        , 0.        , 0.        , 0.        , 0.        ,\n",
       "        0.        , 0.        , 0.        ],\n",
       "       [0.        , 0.        , 0.        , 0.        , 0.        ,\n",
       "        0.        , 0.        , 0.        , 0.        , 0.        ,\n",
       "        0.        , 0.        , 0.        , 0.        , 0.        ,\n",
       "        0.        , 0.        , 0.        , 0.        , 0.        ,\n",
       "        0.        , 0.        , 0.        , 0.        , 0.        ,\n",
       "        0.        , 0.        , 0.        ],\n",
       "       [0.        , 0.        , 0.        , 0.        , 0.        ,\n",
       "        0.        , 0.        , 0.        , 0.        , 0.        ,\n",
       "        0.        , 0.        , 0.        , 0.        , 0.        ,\n",
       "        0.        , 0.        , 0.        , 0.        , 0.        ,\n",
       "        0.        , 0.        , 0.        , 0.        , 0.        ,\n",
       "        0.        , 0.        , 0.        ],\n",
       "       [0.        , 0.        , 0.        , 0.        , 0.        ,\n",
       "        0.        , 0.        , 0.        , 0.        , 0.        ,\n",
       "        0.        , 0.        , 0.        , 0.        , 0.        ,\n",
       "        0.        , 0.        , 0.        , 0.        , 0.        ,\n",
       "        0.        , 0.        , 0.        , 0.        , 0.        ,\n",
       "        0.        , 0.        , 0.        ],\n",
       "       [0.        , 0.        , 0.        , 0.        , 0.        ,\n",
       "        0.        , 0.        , 0.        , 0.        , 0.        ,\n",
       "        0.        , 0.        , 0.        , 0.        , 0.        ,\n",
       "        0.        , 0.        , 0.        , 0.        , 0.        ,\n",
       "        0.        , 0.        , 0.        , 0.        , 0.        ,\n",
       "        0.        , 0.        , 0.        ],\n",
       "       [0.        , 0.        , 0.        , 0.        , 0.        ,\n",
       "        0.        , 0.        , 0.        , 0.        , 0.        ,\n",
       "        0.        , 0.        , 0.        , 0.        , 0.        ,\n",
       "        0.        , 0.        , 0.        , 0.        , 0.        ,\n",
       "        0.        , 0.        , 0.        , 0.        , 0.        ,\n",
       "        0.        , 0.        , 0.        ],\n",
       "       [0.        , 0.        , 0.        , 0.        , 0.        ,\n",
       "        0.        , 0.        , 0.        , 0.        , 0.        ,\n",
       "        0.        , 0.        , 0.        , 0.        , 0.        ,\n",
       "        0.        , 0.        , 0.        , 0.        , 0.01176471,\n",
       "        0.00392157, 0.        , 0.        , 0.02745098, 0.        ,\n",
       "        0.14509805, 0.        , 0.        ],\n",
       "       [0.        , 0.        , 0.        , 0.        , 0.        ,\n",
       "        0.        , 0.        , 0.        , 0.        , 0.        ,\n",
       "        0.        , 0.        , 0.        , 0.00392157, 0.00784314,\n",
       "        0.        , 0.10588235, 0.32941177, 0.04313726, 0.        ,\n",
       "        0.        , 0.        , 0.        , 0.        , 0.        ,\n",
       "        0.46666667, 0.        , 0.        ],\n",
       "       [0.        , 0.        , 0.        , 0.        , 0.        ,\n",
       "        0.        , 0.        , 0.        , 0.        , 0.        ,\n",
       "        0.        , 0.        , 0.        , 0.00392157, 0.        ,\n",
       "        0.        , 0.34509805, 0.56078434, 0.43137255, 0.        ,\n",
       "        0.        , 0.        , 0.        , 0.08627451, 0.3647059 ,\n",
       "        0.41568628, 0.        , 0.        ],\n",
       "       [0.        , 0.        , 0.        , 0.        , 0.        ,\n",
       "        0.        , 0.        , 0.        , 0.        , 0.        ,\n",
       "        0.        , 0.        , 0.        , 0.01568628, 0.        ,\n",
       "        0.20784314, 0.5058824 , 0.47058824, 0.5764706 , 0.6862745 ,\n",
       "        0.6156863 , 0.6509804 , 0.5294118 , 0.6039216 , 0.65882355,\n",
       "        0.54901963, 0.        , 0.        ],\n",
       "       [0.        , 0.        , 0.        , 0.        , 0.        ,\n",
       "        0.        , 0.        , 0.        , 0.        , 0.        ,\n",
       "        0.        , 0.        , 0.00784314, 0.        , 0.04313726,\n",
       "        0.5372549 , 0.50980395, 0.5019608 , 0.627451  , 0.6901961 ,\n",
       "        0.62352943, 0.654902  , 0.69803923, 0.58431375, 0.5921569 ,\n",
       "        0.5647059 , 0.        , 0.        ],\n",
       "       [0.        , 0.        , 0.        , 0.        , 0.        ,\n",
       "        0.        , 0.00392157, 0.        , 0.00784314, 0.00392157,\n",
       "        0.        , 0.01176471, 0.        , 0.        , 0.4509804 ,\n",
       "        0.44705883, 0.41568628, 0.5372549 , 0.65882355, 0.6       ,\n",
       "        0.6117647 , 0.64705884, 0.654902  , 0.56078434, 0.6156863 ,\n",
       "        0.61960787, 0.04313726, 0.        ],\n",
       "       [0.        , 0.        , 0.        , 0.        , 0.00392157,\n",
       "        0.        , 0.        , 0.        , 0.        , 0.        ,\n",
       "        0.01176471, 0.        , 0.        , 0.34901962, 0.54509807,\n",
       "        0.3529412 , 0.36862746, 0.6       , 0.58431375, 0.5137255 ,\n",
       "        0.5921569 , 0.6627451 , 0.6745098 , 0.56078434, 0.62352943,\n",
       "        0.6627451 , 0.1882353 , 0.        ],\n",
       "       [0.        , 0.        , 0.        , 0.        , 0.        ,\n",
       "        0.        , 0.00784314, 0.01568628, 0.00392157, 0.        ,\n",
       "        0.        , 0.        , 0.38431373, 0.53333336, 0.43137255,\n",
       "        0.42745098, 0.43137255, 0.63529414, 0.5294118 , 0.5647059 ,\n",
       "        0.58431375, 0.62352943, 0.654902  , 0.5647059 , 0.61960787,\n",
       "        0.6627451 , 0.46666667, 0.        ],\n",
       "       [0.        , 0.        , 0.00784314, 0.00784314, 0.00392157,\n",
       "        0.00784314, 0.        , 0.        , 0.        , 0.        ,\n",
       "        0.10196079, 0.42352942, 0.45882353, 0.3882353 , 0.43529412,\n",
       "        0.45882353, 0.53333336, 0.6117647 , 0.5254902 , 0.6039216 ,\n",
       "        0.6039216 , 0.6117647 , 0.627451  , 0.5529412 , 0.5764706 ,\n",
       "        0.6117647 , 0.69803923, 0.        ],\n",
       "       [0.01176471, 0.        , 0.        , 0.        , 0.        ,\n",
       "        0.        , 0.        , 0.08235294, 0.20784314, 0.36078432,\n",
       "        0.45882353, 0.43529412, 0.40392157, 0.4509804 , 0.5058824 ,\n",
       "        0.5254902 , 0.56078434, 0.6039216 , 0.64705884, 0.6666667 ,\n",
       "        0.6039216 , 0.5921569 , 0.6039216 , 0.56078434, 0.5411765 ,\n",
       "        0.5882353 , 0.64705884, 0.16862746],\n",
       "       [0.        , 0.        , 0.09019608, 0.21176471, 0.25490198,\n",
       "        0.29803923, 0.33333334, 0.4627451 , 0.5019608 , 0.48235294,\n",
       "        0.43529412, 0.44313726, 0.4627451 , 0.49803922, 0.49019608,\n",
       "        0.54509807, 0.52156866, 0.53333336, 0.627451  , 0.54901963,\n",
       "        0.60784316, 0.6313726 , 0.5647059 , 0.60784316, 0.6745098 ,\n",
       "        0.6313726 , 0.7411765 , 0.24313726],\n",
       "       [0.        , 0.26666668, 0.36862746, 0.3529412 , 0.43529412,\n",
       "        0.44705883, 0.43529412, 0.44705883, 0.4509804 , 0.49803922,\n",
       "        0.5294118 , 0.53333336, 0.56078434, 0.49411765, 0.49803922,\n",
       "        0.5921569 , 0.6039216 , 0.56078434, 0.5803922 , 0.49019608,\n",
       "        0.63529414, 0.63529414, 0.5647059 , 0.5411765 , 0.6       ,\n",
       "        0.63529414, 0.76862746, 0.22745098],\n",
       "       [0.27450982, 0.6627451 , 0.5058824 , 0.40784314, 0.38431373,\n",
       "        0.39215687, 0.36862746, 0.38039216, 0.38431373, 0.4       ,\n",
       "        0.42352942, 0.41568628, 0.46666667, 0.47058824, 0.5058824 ,\n",
       "        0.58431375, 0.6117647 , 0.654902  , 0.74509805, 0.74509805,\n",
       "        0.76862746, 0.7764706 , 0.7764706 , 0.73333335, 0.77254903,\n",
       "        0.7411765 , 0.72156864, 0.14117648],\n",
       "       [0.0627451 , 0.49411765, 0.67058825, 0.7372549 , 0.7372549 ,\n",
       "        0.72156864, 0.67058825, 0.6       , 0.5294118 , 0.47058824,\n",
       "        0.49411765, 0.49803922, 0.57254905, 0.7254902 , 0.7647059 ,\n",
       "        0.81960785, 0.8156863 , 1.        , 0.81960785, 0.69411767,\n",
       "        0.9607843 , 0.9882353 , 0.9843137 , 0.9843137 , 0.96862745,\n",
       "        0.8627451 , 0.80784315, 0.19215687],\n",
       "       [0.        , 0.        , 0.        , 0.04705882, 0.2627451 ,\n",
       "        0.41568628, 0.6431373 , 0.7254902 , 0.78039217, 0.8235294 ,\n",
       "        0.827451  , 0.8235294 , 0.8156863 , 0.74509805, 0.5882353 ,\n",
       "        0.32156864, 0.03137255, 0.        , 0.        , 0.        ,\n",
       "        0.69803923, 0.8156863 , 0.7372549 , 0.6862745 , 0.63529414,\n",
       "        0.61960787, 0.5921569 , 0.04313726],\n",
       "       [0.        , 0.        , 0.        , 0.        , 0.        ,\n",
       "        0.        , 0.        , 0.        , 0.        , 0.        ,\n",
       "        0.        , 0.        , 0.        , 0.        , 0.        ,\n",
       "        0.        , 0.        , 0.        , 0.        , 0.        ,\n",
       "        0.        , 0.        , 0.        , 0.        , 0.        ,\n",
       "        0.        , 0.        , 0.        ],\n",
       "       [0.        , 0.        , 0.        , 0.        , 0.        ,\n",
       "        0.        , 0.        , 0.        , 0.        , 0.        ,\n",
       "        0.        , 0.        , 0.        , 0.        , 0.        ,\n",
       "        0.        , 0.        , 0.        , 0.        , 0.        ,\n",
       "        0.        , 0.        , 0.        , 0.        , 0.        ,\n",
       "        0.        , 0.        , 0.        ],\n",
       "       [0.        , 0.        , 0.        , 0.        , 0.        ,\n",
       "        0.        , 0.        , 0.        , 0.        , 0.        ,\n",
       "        0.        , 0.        , 0.        , 0.        , 0.        ,\n",
       "        0.        , 0.        , 0.        , 0.        , 0.        ,\n",
       "        0.        , 0.        , 0.        , 0.        , 0.        ,\n",
       "        0.        , 0.        , 0.        ],\n",
       "       [0.        , 0.        , 0.        , 0.        , 0.        ,\n",
       "        0.        , 0.        , 0.        , 0.        , 0.        ,\n",
       "        0.        , 0.        , 0.        , 0.        , 0.        ,\n",
       "        0.        , 0.        , 0.        , 0.        , 0.        ,\n",
       "        0.        , 0.        , 0.        , 0.        , 0.        ,\n",
       "        0.        , 0.        , 0.        ],\n",
       "       [0.        , 0.        , 0.        , 0.        , 0.        ,\n",
       "        0.        , 0.        , 0.        , 0.        , 0.        ,\n",
       "        0.        , 0.        , 0.        , 0.        , 0.        ,\n",
       "        0.        , 0.        , 0.        , 0.        , 0.        ,\n",
       "        0.        , 0.        , 0.        , 0.        , 0.        ,\n",
       "        0.        , 0.        , 0.        ],\n",
       "       [0.        , 0.        , 0.        , 0.        , 0.        ,\n",
       "        0.        , 0.        , 0.        , 0.        , 0.        ,\n",
       "        0.        , 0.        , 0.        , 0.        , 0.        ,\n",
       "        0.        , 0.        , 0.        , 0.        , 0.        ,\n",
       "        0.        , 0.        , 0.        , 0.        , 0.        ,\n",
       "        0.        , 0.        , 0.        ]], dtype=float32)"
      ]
     },
     "execution_count": 53,
     "metadata": {},
     "output_type": "execute_result"
    }
   ],
   "source": [
    "images[0].squeeze().numpy()"
   ]
  },
  {
   "cell_type": "code",
   "execution_count": 52,
   "id": "ec734f39",
   "metadata": {},
   "outputs": [
    {
     "data": {
      "text/plain": [
       "<matplotlib.image.AxesImage at 0x1f06d94c9c8>"
      ]
     },
     "execution_count": 52,
     "metadata": {},
     "output_type": "execute_result"
    },
    {
     "data": {
      "image/png": "[encoded data removed]",
      "text/plain": [
       "<Figure size 432x288 with 1 Axes>"
      ]
     },
     "metadata": {
      "needs_background": "light"
     },
     "output_type": "display_data"
    }
   ],
   "source": [
    "plt.imshow(images[0].squeeze())"
   ]
  },
  {
   "cell_type": "code",
   "execution_count": 61,
   "id": "6ad71a87",
   "metadata": {},
   "outputs": [
    {
     "data": {
      "text/plain": [
       "(torch.Size([1, 28, 28]), torch.Size([28, 28]), torch.Size([1, 1, 28, 28]))"
      ]
     },
     "execution_count": 61,
     "metadata": {},
     "output_type": "execute_result"
    }
   ],
   "source": [
    "images[0].shape, images[0].squeeze().shape, images[0].unsqueeze(dim=1).shape#[1,1,28,28]->1->batch size, 1->channel, 28,28->image size->row and column"
   ]
  },
  {
   "cell_type": "code",
   "execution_count": 55,
   "id": "13135270",
   "metadata": {},
   "outputs": [
    {
     "data": {
      "text/plain": [
       "tensor([[[0.0000, 0.0000, 0.0000, 0.0000, 0.0000, 0.0000, 0.0000, 0.0000,\n",
       "          0.0000, 0.0000, 0.0000, 0.0000, 0.0000, 0.0000, 0.0000, 0.0000,\n",
       "          0.0000, 0.0000, 0.0000, 0.0000, 0.0000, 0.0000, 0.0000, 0.0000,\n",
       "          0.0000, 0.0000, 0.0000, 0.0000],\n",
       "         [0.0000, 0.0000, 0.0000, 0.0000, 0.0000, 0.0000, 0.0000, 0.0000,\n",
       "          0.0000, 0.0000, 0.0000, 0.0000, 0.0000, 0.0000, 0.0000, 0.0000,\n",
       "          0.0000, 0.0000, 0.0000, 0.0000, 0.0000, 0.0000, 0.0000, 0.0000,\n",
       "          0.0000, 0.0000, 0.0000, 0.0000],\n",
       "         [0.0000, 0.0000, 0.0000, 0.0000, 0.0000, 0.0000, 0.0000, 0.0000,\n",
       "          0.0000, 0.0000, 0.0000, 0.0000, 0.0000, 0.0000, 0.0000, 0.0000,\n",
       "          0.0000, 0.0000, 0.0000, 0.0000, 0.0000, 0.0000, 0.0000, 0.0000,\n",
       "          0.0000, 0.0000, 0.0000, 0.0000],\n",
       "         [0.0000, 0.0000, 0.0000, 0.0000, 0.0000, 0.0000, 0.0000, 0.0000,\n",
       "          0.0000, 0.0000, 0.0000, 0.0000, 0.0000, 0.0000, 0.0000, 0.0000,\n",
       "          0.0000, 0.0000, 0.0000, 0.0000, 0.0000, 0.0000, 0.0000, 0.0000,\n",
       "          0.0000, 0.0000, 0.0000, 0.0000],\n",
       "         [0.0000, 0.0000, 0.0000, 0.0000, 0.0000, 0.0000, 0.0000, 0.0000,\n",
       "          0.0000, 0.0000, 0.0000, 0.0000, 0.0000, 0.0000, 0.0000, 0.0000,\n",
       "          0.0000, 0.0000, 0.0000, 0.0000, 0.0000, 0.0000, 0.0000, 0.0000,\n",
       "          0.0000, 0.0000, 0.0000, 0.0000],\n",
       "         [0.0000, 0.0000, 0.0000, 0.0000, 0.0000, 0.0000, 0.0000, 0.0000,\n",
       "          0.0000, 0.0000, 0.0000, 0.0000, 0.0000, 0.0000, 0.0000, 0.0000,\n",
       "          0.0000, 0.0000, 0.0000, 0.0000, 0.0000, 0.0000, 0.0000, 0.0000,\n",
       "          0.0000, 0.0000, 0.0000, 0.0000],\n",
       "         [0.0000, 0.0000, 0.0000, 0.0000, 0.0000, 0.0000, 0.0000, 0.0000,\n",
       "          0.0000, 0.0000, 0.0000, 0.0000, 0.0000, 0.0000, 0.0000, 0.0000,\n",
       "          0.0000, 0.0000, 0.0000, 0.0000, 0.0000, 0.0000, 0.0000, 0.0000,\n",
       "          0.0000, 0.0000, 0.0000, 0.0000],\n",
       "         [0.0000, 0.0000, 0.0000, 0.0000, 0.0000, 0.0000, 0.0000, 0.0000,\n",
       "          0.0000, 0.0000, 0.0000, 0.0000, 0.0000, 0.0000, 0.0000, 0.0000,\n",
       "          0.0000, 0.0000, 0.0000, 0.0118, 0.0039, 0.0000, 0.0000, 0.0275,\n",
       "          0.0000, 0.1451, 0.0000, 0.0000],\n",
       "         [0.0000, 0.0000, 0.0000, 0.0000, 0.0000, 0.0000, 0.0000, 0.0000,\n",
       "          0.0000, 0.0000, 0.0000, 0.0000, 0.0000, 0.0039, 0.0078, 0.0000,\n",
       "          0.1059, 0.3294, 0.0431, 0.0000, 0.0000, 0.0000, 0.0000, 0.0000,\n",
       "          0.0000, 0.4667, 0.0000, 0.0000],\n",
       "         [0.0000, 0.0000, 0.0000, 0.0000, 0.0000, 0.0000, 0.0000, 0.0000,\n",
       "          0.0000, 0.0000, 0.0000, 0.0000, 0.0000, 0.0039, 0.0000, 0.0000,\n",
       "          0.3451, 0.5608, 0.4314, 0.0000, 0.0000, 0.0000, 0.0000, 0.0863,\n",
       "          0.3647, 0.4157, 0.0000, 0.0000],\n",
       "         [0.0000, 0.0000, 0.0000, 0.0000, 0.0000, 0.0000, 0.0000, 0.0000,\n",
       "          0.0000, 0.0000, 0.0000, 0.0000, 0.0000, 0.0157, 0.0000, 0.2078,\n",
       "          0.5059, 0.4706, 0.5765, 0.6863, 0.6157, 0.6510, 0.5294, 0.6039,\n",
       "          0.6588, 0.5490, 0.0000, 0.0000],\n",
       "         [0.0000, 0.0000, 0.0000, 0.0000, 0.0000, 0.0000, 0.0000, 0.0000,\n",
       "          0.0000, 0.0000, 0.0000, 0.0000, 0.0078, 0.0000, 0.0431, 0.5373,\n",
       "          0.5098, 0.5020, 0.6275, 0.6902, 0.6235, 0.6549, 0.6980, 0.5843,\n",
       "          0.5922, 0.5647, 0.0000, 0.0000],\n",
       "         [0.0000, 0.0000, 0.0000, 0.0000, 0.0000, 0.0000, 0.0039, 0.0000,\n",
       "          0.0078, 0.0039, 0.0000, 0.0118, 0.0000, 0.0000, 0.4510, 0.4471,\n",
       "          0.4157, 0.5373, 0.6588, 0.6000, 0.6118, 0.6471, 0.6549, 0.5608,\n",
       "          0.6157, 0.6196, 0.0431, 0.0000],\n",
       "         [0.0000, 0.0000, 0.0000, 0.0000, 0.0039, 0.0000, 0.0000, 0.0000,\n",
       "          0.0000, 0.0000, 0.0118, 0.0000, 0.0000, 0.3490, 0.5451, 0.3529,\n",
       "          0.3686, 0.6000, 0.5843, 0.5137, 0.5922, 0.6627, 0.6745, 0.5608,\n",
       "          0.6235, 0.6627, 0.1882, 0.0000],\n",
       "         [0.0000, 0.0000, 0.0000, 0.0000, 0.0000, 0.0000, 0.0078, 0.0157,\n",
       "          0.0039, 0.0000, 0.0000, 0.0000, 0.3843, 0.5333, 0.4314, 0.4275,\n",
       "          0.4314, 0.6353, 0.5294, 0.5647, 0.5843, 0.6235, 0.6549, 0.5647,\n",
       "          0.6196, 0.6627, 0.4667, 0.0000],\n",
       "         [0.0000, 0.0000, 0.0078, 0.0078, 0.0039, 0.0078, 0.0000, 0.0000,\n",
       "          0.0000, 0.0000, 0.1020, 0.4235, 0.4588, 0.3882, 0.4353, 0.4588,\n",
       "          0.5333, 0.6118, 0.5255, 0.6039, 0.6039, 0.6118, 0.6275, 0.5529,\n",
       "          0.5765, 0.6118, 0.6980, 0.0000],\n",
       "         [0.0118, 0.0000, 0.0000, 0.0000, 0.0000, 0.0000, 0.0000, 0.0824,\n",
       "          0.2078, 0.3608, 0.4588, 0.4353, 0.4039, 0.4510, 0.5059, 0.5255,\n",
       "          0.5608, 0.6039, 0.6471, 0.6667, 0.6039, 0.5922, 0.6039, 0.5608,\n",
       "          0.5412, 0.5882, 0.6471, 0.1686],\n",
       "         [0.0000, 0.0000, 0.0902, 0.2118, 0.2549, 0.2980, 0.3333, 0.4627,\n",
       "          0.5020, 0.4824, 0.4353, 0.4431, 0.4627, 0.4980, 0.4902, 0.5451,\n",
       "          0.5216, 0.5333, 0.6275, 0.5490, 0.6078, 0.6314, 0.5647, 0.6078,\n",
       "          0.6745, 0.6314, 0.7412, 0.2431],\n",
       "         [0.0000, 0.2667, 0.3686, 0.3529, 0.4353, 0.4471, 0.4353, 0.4471,\n",
       "          0.4510, 0.4980, 0.5294, 0.5333, 0.5608, 0.4941, 0.4980, 0.5922,\n",
       "          0.6039, 0.5608, 0.5804, 0.4902, 0.6353, 0.6353, 0.5647, 0.5412,\n",
       "          0.6000, 0.6353, 0.7686, 0.2275],\n",
       "         [0.2745, 0.6627, 0.5059, 0.4078, 0.3843, 0.3922, 0.3686, 0.3804,\n",
       "          0.3843, 0.4000, 0.4235, 0.4157, 0.4667, 0.4706, 0.5059, 0.5843,\n",
       "          0.6118, 0.6549, 0.7451, 0.7451, 0.7686, 0.7765, 0.7765, 0.7333,\n",
       "          0.7725, 0.7412, 0.7216, 0.1412],\n",
       "         [0.0627, 0.4941, 0.6706, 0.7373, 0.7373, 0.7216, 0.6706, 0.6000,\n",
       "          0.5294, 0.4706, 0.4941, 0.4980, 0.5725, 0.7255, 0.7647, 0.8196,\n",
       "          0.8157, 1.0000, 0.8196, 0.6941, 0.9608, 0.9882, 0.9843, 0.9843,\n",
       "          0.9686, 0.8627, 0.8078, 0.1922],\n",
       "         [0.0000, 0.0000, 0.0000, 0.0471, 0.2627, 0.4157, 0.6431, 0.7255,\n",
       "          0.7804, 0.8235, 0.8275, 0.8235, 0.8157, 0.7451, 0.5882, 0.3216,\n",
       "          0.0314, 0.0000, 0.0000, 0.0000, 0.6980, 0.8157, 0.7373, 0.6863,\n",
       "          0.6353, 0.6196, 0.5922, 0.0431],\n",
       "         [0.0000, 0.0000, 0.0000, 0.0000, 0.0000, 0.0000, 0.0000, 0.0000,\n",
       "          0.0000, 0.0000, 0.0000, 0.0000, 0.0000, 0.0000, 0.0000, 0.0000,\n",
       "          0.0000, 0.0000, 0.0000, 0.0000, 0.0000, 0.0000, 0.0000, 0.0000,\n",
       "          0.0000, 0.0000, 0.0000, 0.0000],\n",
       "         [0.0000, 0.0000, 0.0000, 0.0000, 0.0000, 0.0000, 0.0000, 0.0000,\n",
       "          0.0000, 0.0000, 0.0000, 0.0000, 0.0000, 0.0000, 0.0000, 0.0000,\n",
       "          0.0000, 0.0000, 0.0000, 0.0000, 0.0000, 0.0000, 0.0000, 0.0000,\n",
       "          0.0000, 0.0000, 0.0000, 0.0000],\n",
       "         [0.0000, 0.0000, 0.0000, 0.0000, 0.0000, 0.0000, 0.0000, 0.0000,\n",
       "          0.0000, 0.0000, 0.0000, 0.0000, 0.0000, 0.0000, 0.0000, 0.0000,\n",
       "          0.0000, 0.0000, 0.0000, 0.0000, 0.0000, 0.0000, 0.0000, 0.0000,\n",
       "          0.0000, 0.0000, 0.0000, 0.0000],\n",
       "         [0.0000, 0.0000, 0.0000, 0.0000, 0.0000, 0.0000, 0.0000, 0.0000,\n",
       "          0.0000, 0.0000, 0.0000, 0.0000, 0.0000, 0.0000, 0.0000, 0.0000,\n",
       "          0.0000, 0.0000, 0.0000, 0.0000, 0.0000, 0.0000, 0.0000, 0.0000,\n",
       "          0.0000, 0.0000, 0.0000, 0.0000],\n",
       "         [0.0000, 0.0000, 0.0000, 0.0000, 0.0000, 0.0000, 0.0000, 0.0000,\n",
       "          0.0000, 0.0000, 0.0000, 0.0000, 0.0000, 0.0000, 0.0000, 0.0000,\n",
       "          0.0000, 0.0000, 0.0000, 0.0000, 0.0000, 0.0000, 0.0000, 0.0000,\n",
       "          0.0000, 0.0000, 0.0000, 0.0000],\n",
       "         [0.0000, 0.0000, 0.0000, 0.0000, 0.0000, 0.0000, 0.0000, 0.0000,\n",
       "          0.0000, 0.0000, 0.0000, 0.0000, 0.0000, 0.0000, 0.0000, 0.0000,\n",
       "          0.0000, 0.0000, 0.0000, 0.0000, 0.0000, 0.0000, 0.0000, 0.0000,\n",
       "          0.0000, 0.0000, 0.0000, 0.0000]]])"
      ]
     },
     "execution_count": 55,
     "metadata": {},
     "output_type": "execute_result"
    }
   ],
   "source": [
    "images[0]"
   ]
  },
  {
   "cell_type": "code",
   "execution_count": 56,
   "id": "e02de5e5",
   "metadata": {},
   "outputs": [
    {
     "data": {
      "text/plain": [
       "tensor([[0.0000, 0.0000, 0.0000, 0.0000, 0.0000, 0.0000, 0.0000, 0.0000, 0.0000,\n",
       "         0.0000, 0.0000, 0.0000, 0.0000, 0.0000, 0.0000, 0.0000, 0.0000, 0.0000,\n",
       "         0.0000, 0.0000, 0.0000, 0.0000, 0.0000, 0.0000, 0.0000, 0.0000, 0.0000,\n",
       "         0.0000],\n",
       "        [0.0000, 0.0000, 0.0000, 0.0000, 0.0000, 0.0000, 0.0000, 0.0000, 0.0000,\n",
       "         0.0000, 0.0000, 0.0000, 0.0000, 0.0000, 0.0000, 0.0000, 0.0000, 0.0000,\n",
       "         0.0000, 0.0000, 0.0000, 0.0000, 0.0000, 0.0000, 0.0000, 0.0000, 0.0000,\n",
       "         0.0000],\n",
       "        [0.0000, 0.0000, 0.0000, 0.0000, 0.0000, 0.0000, 0.0000, 0.0000, 0.0000,\n",
       "         0.0000, 0.0000, 0.0000, 0.0000, 0.0000, 0.0000, 0.0000, 0.0000, 0.0000,\n",
       "         0.0000, 0.0000, 0.0000, 0.0000, 0.0000, 0.0000, 0.0000, 0.0000, 0.0000,\n",
       "         0.0000],\n",
       "        [0.0000, 0.0000, 0.0000, 0.0000, 0.0000, 0.0000, 0.0000, 0.0000, 0.0000,\n",
       "         0.0000, 0.0000, 0.0000, 0.0000, 0.0000, 0.0000, 0.0000, 0.0000, 0.0000,\n",
       "         0.0000, 0.0000, 0.0000, 0.0000, 0.0000, 0.0000, 0.0000, 0.0000, 0.0000,\n",
       "         0.0000],\n",
       "        [0.0000, 0.0000, 0.0000, 0.0000, 0.0000, 0.0000, 0.0000, 0.0000, 0.0000,\n",
       "         0.0000, 0.0000, 0.0000, 0.0000, 0.0000, 0.0000, 0.0000, 0.0000, 0.0000,\n",
       "         0.0000, 0.0000, 0.0000, 0.0000, 0.0000, 0.0000, 0.0000, 0.0000, 0.0000,\n",
       "         0.0000],\n",
       "        [0.0000, 0.0000, 0.0000, 0.0000, 0.0000, 0.0000, 0.0000, 0.0000, 0.0000,\n",
       "         0.0000, 0.0000, 0.0000, 0.0000, 0.0000, 0.0000, 0.0000, 0.0000, 0.0000,\n",
       "         0.0000, 0.0000, 0.0000, 0.0000, 0.0000, 0.0000, 0.0000, 0.0000, 0.0000,\n",
       "         0.0000],\n",
       "        [0.0000, 0.0000, 0.0000, 0.0000, 0.0000, 0.0000, 0.0000, 0.0000, 0.0000,\n",
       "         0.0000, 0.0000, 0.0000, 0.0000, 0.0000, 0.0000, 0.0000, 0.0000, 0.0000,\n",
       "         0.0000, 0.0000, 0.0000, 0.0000, 0.0000, 0.0000, 0.0000, 0.0000, 0.0000,\n",
       "         0.0000],\n",
       "        [0.0000, 0.0000, 0.0000, 0.0000, 0.0000, 0.0000, 0.0000, 0.0000, 0.0000,\n",
       "         0.0000, 0.0000, 0.0000, 0.0000, 0.0000, 0.0000, 0.0000, 0.0000, 0.0000,\n",
       "         0.0000, 0.0118, 0.0039, 0.0000, 0.0000, 0.0275, 0.0000, 0.1451, 0.0000,\n",
       "         0.0000],\n",
       "        [0.0000, 0.0000, 0.0000, 0.0000, 0.0000, 0.0000, 0.0000, 0.0000, 0.0000,\n",
       "         0.0000, 0.0000, 0.0000, 0.0000, 0.0039, 0.0078, 0.0000, 0.1059, 0.3294,\n",
       "         0.0431, 0.0000, 0.0000, 0.0000, 0.0000, 0.0000, 0.0000, 0.4667, 0.0000,\n",
       "         0.0000],\n",
       "        [0.0000, 0.0000, 0.0000, 0.0000, 0.0000, 0.0000, 0.0000, 0.0000, 0.0000,\n",
       "         0.0000, 0.0000, 0.0000, 0.0000, 0.0039, 0.0000, 0.0000, 0.3451, 0.5608,\n",
       "         0.4314, 0.0000, 0.0000, 0.0000, 0.0000, 0.0863, 0.3647, 0.4157, 0.0000,\n",
       "         0.0000],\n",
       "        [0.0000, 0.0000, 0.0000, 0.0000, 0.0000, 0.0000, 0.0000, 0.0000, 0.0000,\n",
       "         0.0000, 0.0000, 0.0000, 0.0000, 0.0157, 0.0000, 0.2078, 0.5059, 0.4706,\n",
       "         0.5765, 0.6863, 0.6157, 0.6510, 0.5294, 0.6039, 0.6588, 0.5490, 0.0000,\n",
       "         0.0000],\n",
       "        [0.0000, 0.0000, 0.0000, 0.0000, 0.0000, 0.0000, 0.0000, 0.0000, 0.0000,\n",
       "         0.0000, 0.0000, 0.0000, 0.0078, 0.0000, 0.0431, 0.5373, 0.5098, 0.5020,\n",
       "         0.6275, 0.6902, 0.6235, 0.6549, 0.6980, 0.5843, 0.5922, 0.5647, 0.0000,\n",
       "         0.0000],\n",
       "        [0.0000, 0.0000, 0.0000, 0.0000, 0.0000, 0.0000, 0.0039, 0.0000, 0.0078,\n",
       "         0.0039, 0.0000, 0.0118, 0.0000, 0.0000, 0.4510, 0.4471, 0.4157, 0.5373,\n",
       "         0.6588, 0.6000, 0.6118, 0.6471, 0.6549, 0.5608, 0.6157, 0.6196, 0.0431,\n",
       "         0.0000],\n",
       "        [0.0000, 0.0000, 0.0000, 0.0000, 0.0039, 0.0000, 0.0000, 0.0000, 0.0000,\n",
       "         0.0000, 0.0118, 0.0000, 0.0000, 0.3490, 0.5451, 0.3529, 0.3686, 0.6000,\n",
       "         0.5843, 0.5137, 0.5922, 0.6627, 0.6745, 0.5608, 0.6235, 0.6627, 0.1882,\n",
       "         0.0000],\n",
       "        [0.0000, 0.0000, 0.0000, 0.0000, 0.0000, 0.0000, 0.0078, 0.0157, 0.0039,\n",
       "         0.0000, 0.0000, 0.0000, 0.3843, 0.5333, 0.4314, 0.4275, 0.4314, 0.6353,\n",
       "         0.5294, 0.5647, 0.5843, 0.6235, 0.6549, 0.5647, 0.6196, 0.6627, 0.4667,\n",
       "         0.0000],\n",
       "        [0.0000, 0.0000, 0.0078, 0.0078, 0.0039, 0.0078, 0.0000, 0.0000, 0.0000,\n",
       "         0.0000, 0.1020, 0.4235, 0.4588, 0.3882, 0.4353, 0.4588, 0.5333, 0.6118,\n",
       "         0.5255, 0.6039, 0.6039, 0.6118, 0.6275, 0.5529, 0.5765, 0.6118, 0.6980,\n",
       "         0.0000],\n",
       "        [0.0118, 0.0000, 0.0000, 0.0000, 0.0000, 0.0000, 0.0000, 0.0824, 0.2078,\n",
       "         0.3608, 0.4588, 0.4353, 0.4039, 0.4510, 0.5059, 0.5255, 0.5608, 0.6039,\n",
       "         0.6471, 0.6667, 0.6039, 0.5922, 0.6039, 0.5608, 0.5412, 0.5882, 0.6471,\n",
       "         0.1686],\n",
       "        [0.0000, 0.0000, 0.0902, 0.2118, 0.2549, 0.2980, 0.3333, 0.4627, 0.5020,\n",
       "         0.4824, 0.4353, 0.4431, 0.4627, 0.4980, 0.4902, 0.5451, 0.5216, 0.5333,\n",
       "         0.6275, 0.5490, 0.6078, 0.6314, 0.5647, 0.6078, 0.6745, 0.6314, 0.7412,\n",
       "         0.2431],\n",
       "        [0.0000, 0.2667, 0.3686, 0.3529, 0.4353, 0.4471, 0.4353, 0.4471, 0.4510,\n",
       "         0.4980, 0.5294, 0.5333, 0.5608, 0.4941, 0.4980, 0.5922, 0.6039, 0.5608,\n",
       "         0.5804, 0.4902, 0.6353, 0.6353, 0.5647, 0.5412, 0.6000, 0.6353, 0.7686,\n",
       "         0.2275],\n",
       "        [0.2745, 0.6627, 0.5059, 0.4078, 0.3843, 0.3922, 0.3686, 0.3804, 0.3843,\n",
       "         0.4000, 0.4235, 0.4157, 0.4667, 0.4706, 0.5059, 0.5843, 0.6118, 0.6549,\n",
       "         0.7451, 0.7451, 0.7686, 0.7765, 0.7765, 0.7333, 0.7725, 0.7412, 0.7216,\n",
       "         0.1412],\n",
       "        [0.0627, 0.4941, 0.6706, 0.7373, 0.7373, 0.7216, 0.6706, 0.6000, 0.5294,\n",
       "         0.4706, 0.4941, 0.4980, 0.5725, 0.7255, 0.7647, 0.8196, 0.8157, 1.0000,\n",
       "         0.8196, 0.6941, 0.9608, 0.9882, 0.9843, 0.9843, 0.9686, 0.8627, 0.8078,\n",
       "         0.1922],\n",
       "        [0.0000, 0.0000, 0.0000, 0.0471, 0.2627, 0.4157, 0.6431, 0.7255, 0.7804,\n",
       "         0.8235, 0.8275, 0.8235, 0.8157, 0.7451, 0.5882, 0.3216, 0.0314, 0.0000,\n",
       "         0.0000, 0.0000, 0.6980, 0.8157, 0.7373, 0.6863, 0.6353, 0.6196, 0.5922,\n",
       "         0.0431],\n",
       "        [0.0000, 0.0000, 0.0000, 0.0000, 0.0000, 0.0000, 0.0000, 0.0000, 0.0000,\n",
       "         0.0000, 0.0000, 0.0000, 0.0000, 0.0000, 0.0000, 0.0000, 0.0000, 0.0000,\n",
       "         0.0000, 0.0000, 0.0000, 0.0000, 0.0000, 0.0000, 0.0000, 0.0000, 0.0000,\n",
       "         0.0000],\n",
       "        [0.0000, 0.0000, 0.0000, 0.0000, 0.0000, 0.0000, 0.0000, 0.0000, 0.0000,\n",
       "         0.0000, 0.0000, 0.0000, 0.0000, 0.0000, 0.0000, 0.0000, 0.0000, 0.0000,\n",
       "         0.0000, 0.0000, 0.0000, 0.0000, 0.0000, 0.0000, 0.0000, 0.0000, 0.0000,\n",
       "         0.0000],\n",
       "        [0.0000, 0.0000, 0.0000, 0.0000, 0.0000, 0.0000, 0.0000, 0.0000, 0.0000,\n",
       "         0.0000, 0.0000, 0.0000, 0.0000, 0.0000, 0.0000, 0.0000, 0.0000, 0.0000,\n",
       "         0.0000, 0.0000, 0.0000, 0.0000, 0.0000, 0.0000, 0.0000, 0.0000, 0.0000,\n",
       "         0.0000],\n",
       "        [0.0000, 0.0000, 0.0000, 0.0000, 0.0000, 0.0000, 0.0000, 0.0000, 0.0000,\n",
       "         0.0000, 0.0000, 0.0000, 0.0000, 0.0000, 0.0000, 0.0000, 0.0000, 0.0000,\n",
       "         0.0000, 0.0000, 0.0000, 0.0000, 0.0000, 0.0000, 0.0000, 0.0000, 0.0000,\n",
       "         0.0000],\n",
       "        [0.0000, 0.0000, 0.0000, 0.0000, 0.0000, 0.0000, 0.0000, 0.0000, 0.0000,\n",
       "         0.0000, 0.0000, 0.0000, 0.0000, 0.0000, 0.0000, 0.0000, 0.0000, 0.0000,\n",
       "         0.0000, 0.0000, 0.0000, 0.0000, 0.0000, 0.0000, 0.0000, 0.0000, 0.0000,\n",
       "         0.0000],\n",
       "        [0.0000, 0.0000, 0.0000, 0.0000, 0.0000, 0.0000, 0.0000, 0.0000, 0.0000,\n",
       "         0.0000, 0.0000, 0.0000, 0.0000, 0.0000, 0.0000, 0.0000, 0.0000, 0.0000,\n",
       "         0.0000, 0.0000, 0.0000, 0.0000, 0.0000, 0.0000, 0.0000, 0.0000, 0.0000,\n",
       "         0.0000]])"
      ]
     },
     "execution_count": 56,
     "metadata": {},
     "output_type": "execute_result"
    }
   ],
   "source": [
    "images[0].squeeze()"
   ]
  },
  {
   "cell_type": "code",
   "execution_count": 58,
   "id": "78868bd9",
   "metadata": {},
   "outputs": [
    {
     "data": {
      "text/plain": [
       "tensor([[[[0.0000, 0.0000, 0.0000, 0.0000, 0.0000, 0.0000, 0.0000, 0.0000,\n",
       "           0.0000, 0.0000, 0.0000, 0.0000, 0.0000, 0.0000, 0.0000, 0.0000,\n",
       "           0.0000, 0.0000, 0.0000, 0.0000, 0.0000, 0.0000, 0.0000, 0.0000,\n",
       "           0.0000, 0.0000, 0.0000, 0.0000],\n",
       "          [0.0000, 0.0000, 0.0000, 0.0000, 0.0000, 0.0000, 0.0000, 0.0000,\n",
       "           0.0000, 0.0000, 0.0000, 0.0000, 0.0000, 0.0000, 0.0000, 0.0000,\n",
       "           0.0000, 0.0000, 0.0000, 0.0000, 0.0000, 0.0000, 0.0000, 0.0000,\n",
       "           0.0000, 0.0000, 0.0000, 0.0000],\n",
       "          [0.0000, 0.0000, 0.0000, 0.0000, 0.0000, 0.0000, 0.0000, 0.0000,\n",
       "           0.0000, 0.0000, 0.0000, 0.0000, 0.0000, 0.0000, 0.0000, 0.0000,\n",
       "           0.0000, 0.0000, 0.0000, 0.0000, 0.0000, 0.0000, 0.0000, 0.0000,\n",
       "           0.0000, 0.0000, 0.0000, 0.0000],\n",
       "          [0.0000, 0.0000, 0.0000, 0.0000, 0.0000, 0.0000, 0.0000, 0.0000,\n",
       "           0.0000, 0.0000, 0.0000, 0.0000, 0.0000, 0.0000, 0.0000, 0.0000,\n",
       "           0.0000, 0.0000, 0.0000, 0.0000, 0.0000, 0.0000, 0.0000, 0.0000,\n",
       "           0.0000, 0.0000, 0.0000, 0.0000],\n",
       "          [0.0000, 0.0000, 0.0000, 0.0000, 0.0000, 0.0000, 0.0000, 0.0000,\n",
       "           0.0000, 0.0000, 0.0000, 0.0000, 0.0000, 0.0000, 0.0000, 0.0000,\n",
       "           0.0000, 0.0000, 0.0000, 0.0000, 0.0000, 0.0000, 0.0000, 0.0000,\n",
       "           0.0000, 0.0000, 0.0000, 0.0000],\n",
       "          [0.0000, 0.0000, 0.0000, 0.0000, 0.0000, 0.0000, 0.0000, 0.0000,\n",
       "           0.0000, 0.0000, 0.0000, 0.0000, 0.0000, 0.0000, 0.0000, 0.0000,\n",
       "           0.0000, 0.0000, 0.0000, 0.0000, 0.0000, 0.0000, 0.0000, 0.0000,\n",
       "           0.0000, 0.0000, 0.0000, 0.0000],\n",
       "          [0.0000, 0.0000, 0.0000, 0.0000, 0.0000, 0.0000, 0.0000, 0.0000,\n",
       "           0.0000, 0.0000, 0.0000, 0.0000, 0.0000, 0.0000, 0.0000, 0.0000,\n",
       "           0.0000, 0.0000, 0.0000, 0.0000, 0.0000, 0.0000, 0.0000, 0.0000,\n",
       "           0.0000, 0.0000, 0.0000, 0.0000],\n",
       "          [0.0000, 0.0000, 0.0000, 0.0000, 0.0000, 0.0000, 0.0000, 0.0000,\n",
       "           0.0000, 0.0000, 0.0000, 0.0000, 0.0000, 0.0000, 0.0000, 0.0000,\n",
       "           0.0000, 0.0000, 0.0000, 0.0118, 0.0039, 0.0000, 0.0000, 0.0275,\n",
       "           0.0000, 0.1451, 0.0000, 0.0000],\n",
       "          [0.0000, 0.0000, 0.0000, 0.0000, 0.0000, 0.0000, 0.0000, 0.0000,\n",
       "           0.0000, 0.0000, 0.0000, 0.0000, 0.0000, 0.0039, 0.0078, 0.0000,\n",
       "           0.1059, 0.3294, 0.0431, 0.0000, 0.0000, 0.0000, 0.0000, 0.0000,\n",
       "           0.0000, 0.4667, 0.0000, 0.0000],\n",
       "          [0.0000, 0.0000, 0.0000, 0.0000, 0.0000, 0.0000, 0.0000, 0.0000,\n",
       "           0.0000, 0.0000, 0.0000, 0.0000, 0.0000, 0.0039, 0.0000, 0.0000,\n",
       "           0.3451, 0.5608, 0.4314, 0.0000, 0.0000, 0.0000, 0.0000, 0.0863,\n",
       "           0.3647, 0.4157, 0.0000, 0.0000],\n",
       "          [0.0000, 0.0000, 0.0000, 0.0000, 0.0000, 0.0000, 0.0000, 0.0000,\n",
       "           0.0000, 0.0000, 0.0000, 0.0000, 0.0000, 0.0157, 0.0000, 0.2078,\n",
       "           0.5059, 0.4706, 0.5765, 0.6863, 0.6157, 0.6510, 0.5294, 0.6039,\n",
       "           0.6588, 0.5490, 0.0000, 0.0000],\n",
       "          [0.0000, 0.0000, 0.0000, 0.0000, 0.0000, 0.0000, 0.0000, 0.0000,\n",
       "           0.0000, 0.0000, 0.0000, 0.0000, 0.0078, 0.0000, 0.0431, 0.5373,\n",
       "           0.5098, 0.5020, 0.6275, 0.6902, 0.6235, 0.6549, 0.6980, 0.5843,\n",
       "           0.5922, 0.5647, 0.0000, 0.0000],\n",
       "          [0.0000, 0.0000, 0.0000, 0.0000, 0.0000, 0.0000, 0.0039, 0.0000,\n",
       "           0.0078, 0.0039, 0.0000, 0.0118, 0.0000, 0.0000, 0.4510, 0.4471,\n",
       "           0.4157, 0.5373, 0.6588, 0.6000, 0.6118, 0.6471, 0.6549, 0.5608,\n",
       "           0.6157, 0.6196, 0.0431, 0.0000],\n",
       "          [0.0000, 0.0000, 0.0000, 0.0000, 0.0039, 0.0000, 0.0000, 0.0000,\n",
       "           0.0000, 0.0000, 0.0118, 0.0000, 0.0000, 0.3490, 0.5451, 0.3529,\n",
       "           0.3686, 0.6000, 0.5843, 0.5137, 0.5922, 0.6627, 0.6745, 0.5608,\n",
       "           0.6235, 0.6627, 0.1882, 0.0000],\n",
       "          [0.0000, 0.0000, 0.0000, 0.0000, 0.0000, 0.0000, 0.0078, 0.0157,\n",
       "           0.0039, 0.0000, 0.0000, 0.0000, 0.3843, 0.5333, 0.4314, 0.4275,\n",
       "           0.4314, 0.6353, 0.5294, 0.5647, 0.5843, 0.6235, 0.6549, 0.5647,\n",
       "           0.6196, 0.6627, 0.4667, 0.0000],\n",
       "          [0.0000, 0.0000, 0.0078, 0.0078, 0.0039, 0.0078, 0.0000, 0.0000,\n",
       "           0.0000, 0.0000, 0.1020, 0.4235, 0.4588, 0.3882, 0.4353, 0.4588,\n",
       "           0.5333, 0.6118, 0.5255, 0.6039, 0.6039, 0.6118, 0.6275, 0.5529,\n",
       "           0.5765, 0.6118, 0.6980, 0.0000],\n",
       "          [0.0118, 0.0000, 0.0000, 0.0000, 0.0000, 0.0000, 0.0000, 0.0824,\n",
       "           0.2078, 0.3608, 0.4588, 0.4353, 0.4039, 0.4510, 0.5059, 0.5255,\n",
       "           0.5608, 0.6039, 0.6471, 0.6667, 0.6039, 0.5922, 0.6039, 0.5608,\n",
       "           0.5412, 0.5882, 0.6471, 0.1686],\n",
       "          [0.0000, 0.0000, 0.0902, 0.2118, 0.2549, 0.2980, 0.3333, 0.4627,\n",
       "           0.5020, 0.4824, 0.4353, 0.4431, 0.4627, 0.4980, 0.4902, 0.5451,\n",
       "           0.5216, 0.5333, 0.6275, 0.5490, 0.6078, 0.6314, 0.5647, 0.6078,\n",
       "           0.6745, 0.6314, 0.7412, 0.2431],\n",
       "          [0.0000, 0.2667, 0.3686, 0.3529, 0.4353, 0.4471, 0.4353, 0.4471,\n",
       "           0.4510, 0.4980, 0.5294, 0.5333, 0.5608, 0.4941, 0.4980, 0.5922,\n",
       "           0.6039, 0.5608, 0.5804, 0.4902, 0.6353, 0.6353, 0.5647, 0.5412,\n",
       "           0.6000, 0.6353, 0.7686, 0.2275],\n",
       "          [0.2745, 0.6627, 0.5059, 0.4078, 0.3843, 0.3922, 0.3686, 0.3804,\n",
       "           0.3843, 0.4000, 0.4235, 0.4157, 0.4667, 0.4706, 0.5059, 0.5843,\n",
       "           0.6118, 0.6549, 0.7451, 0.7451, 0.7686, 0.7765, 0.7765, 0.7333,\n",
       "           0.7725, 0.7412, 0.7216, 0.1412],\n",
       "          [0.0627, 0.4941, 0.6706, 0.7373, 0.7373, 0.7216, 0.6706, 0.6000,\n",
       "           0.5294, 0.4706, 0.4941, 0.4980, 0.5725, 0.7255, 0.7647, 0.8196,\n",
       "           0.8157, 1.0000, 0.8196, 0.6941, 0.9608, 0.9882, 0.9843, 0.9843,\n",
       "           0.9686, 0.8627, 0.8078, 0.1922],\n",
       "          [0.0000, 0.0000, 0.0000, 0.0471, 0.2627, 0.4157, 0.6431, 0.7255,\n",
       "           0.7804, 0.8235, 0.8275, 0.8235, 0.8157, 0.7451, 0.5882, 0.3216,\n",
       "           0.0314, 0.0000, 0.0000, 0.0000, 0.6980, 0.8157, 0.7373, 0.6863,\n",
       "           0.6353, 0.6196, 0.5922, 0.0431],\n",
       "          [0.0000, 0.0000, 0.0000, 0.0000, 0.0000, 0.0000, 0.0000, 0.0000,\n",
       "           0.0000, 0.0000, 0.0000, 0.0000, 0.0000, 0.0000, 0.0000, 0.0000,\n",
       "           0.0000, 0.0000, 0.0000, 0.0000, 0.0000, 0.0000, 0.0000, 0.0000,\n",
       "           0.0000, 0.0000, 0.0000, 0.0000],\n",
       "          [0.0000, 0.0000, 0.0000, 0.0000, 0.0000, 0.0000, 0.0000, 0.0000,\n",
       "           0.0000, 0.0000, 0.0000, 0.0000, 0.0000, 0.0000, 0.0000, 0.0000,\n",
       "           0.0000, 0.0000, 0.0000, 0.0000, 0.0000, 0.0000, 0.0000, 0.0000,\n",
       "           0.0000, 0.0000, 0.0000, 0.0000],\n",
       "          [0.0000, 0.0000, 0.0000, 0.0000, 0.0000, 0.0000, 0.0000, 0.0000,\n",
       "           0.0000, 0.0000, 0.0000, 0.0000, 0.0000, 0.0000, 0.0000, 0.0000,\n",
       "           0.0000, 0.0000, 0.0000, 0.0000, 0.0000, 0.0000, 0.0000, 0.0000,\n",
       "           0.0000, 0.0000, 0.0000, 0.0000],\n",
       "          [0.0000, 0.0000, 0.0000, 0.0000, 0.0000, 0.0000, 0.0000, 0.0000,\n",
       "           0.0000, 0.0000, 0.0000, 0.0000, 0.0000, 0.0000, 0.0000, 0.0000,\n",
       "           0.0000, 0.0000, 0.0000, 0.0000, 0.0000, 0.0000, 0.0000, 0.0000,\n",
       "           0.0000, 0.0000, 0.0000, 0.0000],\n",
       "          [0.0000, 0.0000, 0.0000, 0.0000, 0.0000, 0.0000, 0.0000, 0.0000,\n",
       "           0.0000, 0.0000, 0.0000, 0.0000, 0.0000, 0.0000, 0.0000, 0.0000,\n",
       "           0.0000, 0.0000, 0.0000, 0.0000, 0.0000, 0.0000, 0.0000, 0.0000,\n",
       "           0.0000, 0.0000, 0.0000, 0.0000],\n",
       "          [0.0000, 0.0000, 0.0000, 0.0000, 0.0000, 0.0000, 0.0000, 0.0000,\n",
       "           0.0000, 0.0000, 0.0000, 0.0000, 0.0000, 0.0000, 0.0000, 0.0000,\n",
       "           0.0000, 0.0000, 0.0000, 0.0000, 0.0000, 0.0000, 0.0000, 0.0000,\n",
       "           0.0000, 0.0000, 0.0000, 0.0000]]]])"
      ]
     },
     "execution_count": 58,
     "metadata": {},
     "output_type": "execute_result"
    }
   ],
   "source": [
    "images[0].unsqueeze(dim=1)"
   ]
  },
  {
   "cell_type": "code",
   "execution_count": 60,
   "id": "95beaea5",
   "metadata": {},
   "outputs": [
    {
     "data": {
      "text/plain": [
       "torch.Size([28, 28])"
      ]
     },
     "execution_count": 60,
     "metadata": {},
     "output_type": "execute_result"
    }
   ],
   "source": [
    "images[0][0].shape"
   ]
  },
  {
   "cell_type": "markdown",
   "id": "c37ebda0",
   "metadata": {},
   "source": [
    "# Lets define CNN Architecture "
   ]
  },
  {
   "cell_type": "code",
   "execution_count": 25,
   "id": "49db23b6",
   "metadata": {},
   "outputs": [],
   "source": [
    "class CNN(nn.Module):\n",
    "    def __init__(self, in_, out_):\n",
    "        super(CNN, self).__init__()\n",
    "        self.conv_pool_01=nn.Sequential(\n",
    "            nn.Conv2d(in_channels=in_, out_channels=8, kernel_size=5, stride=1, padding=0),\n",
    "            nn.ReLU(),\n",
    "            nn.MaxPool2d(kernel_size=2, stride=2))\n",
    "        self.conv_pool_02=nn.Sequential(\n",
    "            nn.Conv2d(in_channels=8, out_channels=16, kernel_size=5, stride=1, padding=0),\n",
    "            nn.ReLU(),\n",
    "            nn.MaxPool2d(kernel_size=2, stride=2))\n",
    "        self.Flatten=nn.Flatten()\n",
    "        self.FC_01=nn.Linear(in_features=16*4*4, out_features=128)\n",
    "        self.FC_02=nn.Linear(in_features=128, out_features=64)\n",
    "        self.FC_03=nn.Linear(in_features=64, out_features=out_)\n",
    "    def forward(self, X):\n",
    "        X=self.conv_pool_01(X)\n",
    "        X=self.conv_pool_02(X)\n",
    "        X=self.Flatten(X)\n",
    "        X=F.relu(self.FC_01(X))\n",
    "        X=F.relu(self.FC_02(X))\n",
    "        X=F.relu(self.FC_03(X))\n",
    "        return X\n",
    "       "
   ]
  },
  {
   "cell_type": "code",
   "execution_count": 26,
   "id": "157bb4b1",
   "metadata": {},
   "outputs": [
    {
     "name": "stdout",
     "output_type": "stream",
     "text": [
      "CNN(\n",
      "  (conv_pool_01): Sequential(\n",
      "    (0): Conv2d(1, 8, kernel_size=(5, 5), stride=(1, 1))\n",
      "    (1): ReLU()\n",
      "    (2): MaxPool2d(kernel_size=2, stride=2, padding=0, dilation=1, ceil_mode=False)\n",
      "  )\n",
      "  (conv_pool_02): Sequential(\n",
      "    (0): Conv2d(8, 16, kernel_size=(5, 5), stride=(1, 1))\n",
      "    (1): ReLU()\n",
      "    (2): MaxPool2d(kernel_size=2, stride=2, padding=0, dilation=1, ceil_mode=False)\n",
      "  )\n",
      "  (Flatten): Flatten(start_dim=1, end_dim=-1)\n",
      "  (FC_01): Linear(in_features=256, out_features=128, bias=True)\n",
      "  (FC_02): Linear(in_features=128, out_features=64, bias=True)\n",
      "  (FC_03): Linear(in_features=64, out_features=10, bias=True)\n",
      ")\n"
     ]
    }
   ],
   "source": [
    "model=CNN(1,10)\n",
    "print(model)"
   ]
  },
  {
   "cell_type": "markdown",
   "id": "14f0edc2",
   "metadata": {},
   "source": [
    "# Acces any layer from model\n",
    "1. model.Flatten"
   ]
  },
  {
   "cell_type": "code",
   "execution_count": 71,
   "id": "ef8259de",
   "metadata": {},
   "outputs": [
    {
     "data": {
      "text/plain": [
       "Sequential(\n",
       "  (0): Conv2d(1, 8, kernel_size=(5, 5), stride=(1, 1))\n",
       "  (1): ReLU()\n",
       "  (2): MaxPool2d(kernel_size=2, stride=2, padding=0, dilation=1, ceil_mode=False)\n",
       ")"
      ]
     },
     "execution_count": 71,
     "metadata": {},
     "output_type": "execute_result"
    }
   ],
   "source": [
    "model.conv_pool_01"
   ]
  },
  {
   "cell_type": "code",
   "execution_count": 75,
   "id": "b89e3c5b",
   "metadata": {},
   "outputs": [
    {
     "data": {
      "text/plain": [
       "False"
      ]
     },
     "execution_count": 75,
     "metadata": {},
     "output_type": "execute_result"
    }
   ],
   "source": [
    "#next(model.parameters()).is_cuda"
   ]
  },
  {
   "cell_type": "code",
   "execution_count": 74,
   "id": "ef7f3c76",
   "metadata": {},
   "outputs": [
    {
     "data": {
      "text/plain": [
       "CNN(\n",
       "  (conv_pool_01): Sequential(\n",
       "    (0): Conv2d(1, 8, kernel_size=(5, 5), stride=(1, 1))\n",
       "    (1): ReLU()\n",
       "    (2): MaxPool2d(kernel_size=2, stride=2, padding=0, dilation=1, ceil_mode=False)\n",
       "  )\n",
       "  (conv_pool_02): Sequential(\n",
       "    (0): Conv2d(8, 16, kernel_size=(5, 5), stride=(1, 1))\n",
       "    (1): ReLU()\n",
       "    (2): MaxPool2d(kernel_size=2, stride=2, padding=0, dilation=1, ceil_mode=False)\n",
       "  )\n",
       "  (Flatten): Flatten(start_dim=1, end_dim=-1)\n",
       "  (FC_01): Linear(in_features=256, out_features=128, bias=True)\n",
       "  (FC_02): Linear(in_features=128, out_features=64, bias=True)\n",
       "  (FC_03): Linear(in_features=64, out_features=10, bias=True)\n",
       ")"
      ]
     },
     "execution_count": 74,
     "metadata": {},
     "output_type": "execute_result"
    }
   ],
   "source": [
    "#model.to(config.DEVICE)"
   ]
  },
  {
   "cell_type": "markdown",
   "id": "cf531c59",
   "metadata": {},
   "source": [
    "# Checking how many parameters are trainable"
   ]
  },
  {
   "cell_type": "code",
   "execution_count": 16,
   "id": "4d3acadb",
   "metadata": {},
   "outputs": [
    {
     "name": "stdout",
     "output_type": "stream",
     "text": [
      "Total trainable parameters: {'trainable': 45226, 'non_trainable': 0}\n"
     ]
    },
    {
     "data": {
      "text/plain": [
       "{'Modules': ['conv_pool_01.0.weight',\n",
       "  'conv_pool_01.0.bias',\n",
       "  'conv_pool_02.0.weight',\n",
       "  'conv_pool_02.0.bias',\n",
       "  'FC_01.weight',\n",
       "  'FC_01.bias',\n",
       "  'FC_02.weight',\n",
       "  'FC_02.bias',\n",
       "  'FC_03.weight',\n",
       "  'FC_03.bias'],\n",
       " 'Parameters': [Parameter containing:\n",
       "  tensor([[[[-0.0384,  0.1305, -0.1538, -0.0288,  0.0756],\n",
       "            [-0.0907, -0.0852,  0.1814,  0.0152, -0.1698],\n",
       "            [ 0.0078,  0.0163, -0.0408,  0.0446,  0.1275],\n",
       "            [ 0.0547, -0.0411, -0.0376,  0.1223, -0.1163],\n",
       "            [-0.0721,  0.0393, -0.1638,  0.0572,  0.1068]]],\n",
       "  \n",
       "  \n",
       "          [[[ 0.0470,  0.1653,  0.0014,  0.0151, -0.0185],\n",
       "            [ 0.1172,  0.0611,  0.0997,  0.1894, -0.0214],\n",
       "            [-0.0023, -0.0367,  0.0797, -0.0034,  0.0157],\n",
       "            [-0.0781,  0.1461, -0.1518, -0.0506, -0.1981],\n",
       "            [ 0.0873, -0.0775, -0.1917, -0.1879, -0.1054]]],\n",
       "  \n",
       "  \n",
       "          [[[ 0.1625, -0.1683,  0.1331, -0.0222,  0.1559],\n",
       "            [ 0.0056,  0.0105, -0.1811, -0.0251, -0.1230],\n",
       "            [ 0.1070,  0.1739,  0.1079,  0.1406, -0.1288],\n",
       "            [ 0.0624, -0.0853, -0.0734, -0.1414, -0.0776],\n",
       "            [-0.0692,  0.1720,  0.0900,  0.1482, -0.1409]]],\n",
       "  \n",
       "  \n",
       "          [[[-0.0122, -0.1992, -0.0094, -0.0819,  0.0398],\n",
       "            [ 0.1941,  0.0302,  0.1315,  0.0815, -0.1714],\n",
       "            [-0.1662,  0.1094,  0.1232, -0.0505, -0.1112],\n",
       "            [ 0.1994, -0.0348,  0.0018,  0.0730,  0.0531],\n",
       "            [-0.1510,  0.0026, -0.0188, -0.1273,  0.1003]]],\n",
       "  \n",
       "  \n",
       "          [[[-0.0522,  0.0551, -0.1819, -0.1350,  0.0362],\n",
       "            [-0.0576,  0.1149, -0.0747,  0.1233,  0.1997],\n",
       "            [ 0.0289,  0.1073,  0.0568,  0.1690, -0.1399],\n",
       "            [ 0.0864, -0.0577, -0.0762,  0.1023,  0.0065],\n",
       "            [ 0.1414, -0.1177,  0.1027, -0.1720,  0.1742]]],\n",
       "  \n",
       "  \n",
       "          [[[ 0.0697, -0.1058,  0.1653, -0.1583, -0.1646],\n",
       "            [ 0.1059,  0.1848, -0.0822, -0.1610,  0.1073],\n",
       "            [-0.1254, -0.0496, -0.1587,  0.1178, -0.1421],\n",
       "            [ 0.0243, -0.1782,  0.0081,  0.0713, -0.1002],\n",
       "            [ 0.1377, -0.0241, -0.1922, -0.1379,  0.1370]]],\n",
       "  \n",
       "  \n",
       "          [[[-0.0576, -0.0221, -0.0479, -0.0430, -0.1174],\n",
       "            [-0.0394, -0.0809,  0.0748,  0.0095, -0.0502],\n",
       "            [ 0.1995, -0.1914,  0.0261,  0.0502, -0.1345],\n",
       "            [ 0.1876, -0.0315, -0.0290, -0.0096, -0.1686],\n",
       "            [ 0.0663, -0.0335,  0.0748, -0.1475,  0.1696]]],\n",
       "  \n",
       "  \n",
       "          [[[-0.0540,  0.1126,  0.0065,  0.1477, -0.0137],\n",
       "            [-0.0231, -0.0033,  0.1501,  0.0400, -0.1241],\n",
       "            [-0.1523,  0.1117, -0.1567,  0.1508, -0.0010],\n",
       "            [-0.1563,  0.0872, -0.1833,  0.1691, -0.0033],\n",
       "            [-0.1567,  0.1990, -0.1392,  0.1551,  0.1260]]]], requires_grad=True),\n",
       "  Parameter containing:\n",
       "  tensor([ 0.1968,  0.1927,  0.0779, -0.1874,  0.1893, -0.1516,  0.1987, -0.1235],\n",
       "         requires_grad=True),\n",
       "  Parameter containing:\n",
       "  tensor([[[[-3.3769e-02, -7.0703e-03,  4.8530e-02,  3.7741e-02,  5.9752e-02],\n",
       "            [ 6.7138e-02,  1.7240e-02, -5.7879e-02,  5.8040e-02,  1.0874e-02],\n",
       "            [ 4.4472e-02, -2.8632e-02, -2.2387e-04,  2.8575e-02, -1.7897e-02],\n",
       "            [-6.9381e-02,  4.9009e-02, -1.9278e-03, -6.7712e-02, -2.3609e-02],\n",
       "            [ 3.2254e-02, -3.4829e-02, -1.2217e-02,  5.7234e-02, -2.2947e-02]],\n",
       "  \n",
       "           [[ 1.2557e-02,  3.3416e-05, -4.2062e-02,  5.3454e-02, -2.1206e-03],\n",
       "            [-4.5110e-02,  6.8379e-02,  3.6194e-02,  3.0371e-02, -2.6837e-02],\n",
       "            [ 4.7215e-02, -6.8156e-02,  6.8234e-02, -5.3240e-02,  6.3432e-02],\n",
       "            [-5.5301e-02,  6.1679e-02,  3.7510e-02,  8.1087e-03, -3.2857e-02],\n",
       "            [ 5.0274e-02, -5.1614e-02,  4.2285e-02,  3.3158e-02, -2.3153e-02]],\n",
       "  \n",
       "           [[ 2.0654e-02, -3.9907e-02, -1.7115e-02,  4.2116e-02,  6.8466e-02],\n",
       "            [ 5.2445e-02, -2.6674e-02,  1.6598e-02, -5.2143e-02,  6.4551e-02],\n",
       "            [ 6.9889e-02, -5.8741e-02, -2.9020e-02,  2.2976e-02, -5.3357e-02],\n",
       "            [-2.4329e-03, -6.4190e-02, -4.3597e-03,  6.5702e-02, -6.5913e-02],\n",
       "            [-3.7915e-02,  3.8423e-02,  1.6560e-02,  5.3851e-02,  4.3681e-02]],\n",
       "  \n",
       "           ...,\n",
       "  \n",
       "           [[ 3.4972e-02, -1.1552e-02,  4.6026e-02,  2.1421e-02, -6.1467e-02],\n",
       "            [ 3.8810e-02,  4.8579e-02, -3.3127e-02,  3.8506e-02, -3.0542e-02],\n",
       "            [ 5.2412e-02,  2.0036e-02, -2.2145e-02,  4.7043e-02,  1.0979e-02],\n",
       "            [-6.9017e-02,  5.3384e-02,  1.7958e-02, -3.2792e-02, -4.0294e-02],\n",
       "            [-7.0143e-02,  5.0025e-02, -2.0670e-02,  4.8606e-02, -2.4952e-02]],\n",
       "  \n",
       "           [[-6.1131e-02,  2.4414e-02,  6.5237e-02, -2.0474e-02,  6.7024e-03],\n",
       "            [ 6.3794e-02,  4.5681e-03, -6.3531e-02,  6.4704e-04,  6.1120e-02],\n",
       "            [-6.8637e-02,  3.1985e-02, -6.9339e-02, -5.2329e-02,  1.4355e-02],\n",
       "            [-4.3783e-02, -5.4909e-02, -5.0701e-02,  3.3129e-02, -3.9233e-02],\n",
       "            [ 5.3070e-02,  6.7786e-02,  2.4267e-02, -3.4454e-03,  3.9606e-02]],\n",
       "  \n",
       "           [[ 3.4367e-02,  7.7580e-04, -2.8022e-02,  6.8839e-02,  1.5277e-02],\n",
       "            [-4.1052e-02,  1.4957e-02,  5.3319e-03, -5.9586e-02,  2.8472e-02],\n",
       "            [ 6.9504e-02,  3.5799e-04,  6.6813e-02,  4.5727e-02, -4.7277e-02],\n",
       "            [-5.6031e-02,  1.9491e-02, -5.8779e-02, -5.3242e-02,  2.6823e-03],\n",
       "            [ 1.7762e-02,  5.9717e-02, -5.4247e-02,  4.0380e-02, -1.5326e-02]]],\n",
       "  \n",
       "  \n",
       "          [[[-6.1640e-02,  1.3532e-03,  6.4504e-02, -7.2140e-03,  2.7121e-02],\n",
       "            [ 5.4938e-02, -2.3601e-02, -5.1414e-02,  5.1234e-02, -4.1945e-02],\n",
       "            [ 1.8175e-02, -3.4059e-02,  1.1646e-03, -2.2805e-02,  1.3222e-02],\n",
       "            [ 4.0139e-02, -5.2428e-02, -1.3819e-02,  4.9710e-03, -5.0101e-02],\n",
       "            [-4.8352e-02, -4.6920e-02, -6.8704e-02,  1.6000e-02, -6.5165e-02]],\n",
       "  \n",
       "           [[-5.5566e-02, -2.0718e-02,  4.7546e-02, -6.0047e-02, -2.7843e-02],\n",
       "            [ 5.2884e-02, -6.6804e-02,  1.9236e-02, -4.8132e-02, -6.4354e-02],\n",
       "            [-5.6997e-02,  6.3654e-02, -7.7049e-03, -2.2088e-02,  6.1086e-02],\n",
       "            [-4.5562e-02,  6.8344e-02,  1.1159e-02,  3.3341e-02,  3.3013e-02],\n",
       "            [-3.2729e-02,  2.6050e-02, -3.7988e-03,  5.3167e-02, -2.1746e-02]],\n",
       "  \n",
       "           [[ 5.1348e-02,  1.3509e-03, -3.4823e-02, -6.7274e-02,  5.0935e-04],\n",
       "            [-2.3729e-02, -1.8647e-02, -3.8040e-02, -4.7875e-02,  4.6681e-02],\n",
       "            [-4.3748e-02,  8.7369e-03, -6.8562e-02, -6.4101e-03,  3.5234e-02],\n",
       "            [-2.5500e-02, -6.4379e-02, -3.1825e-02, -2.5011e-02,  5.9533e-02],\n",
       "            [-2.5175e-02, -4.2963e-02,  5.4722e-02, -5.9916e-02,  3.4001e-02]],\n",
       "  \n",
       "           ...,\n",
       "  \n",
       "           [[ 3.4668e-02,  5.6884e-02,  3.7294e-02,  1.3113e-02,  1.9742e-02],\n",
       "            [-4.6951e-02, -5.4332e-02, -5.6798e-02, -5.3311e-02,  5.0444e-02],\n",
       "            [-2.7609e-02,  6.5352e-02, -5.1293e-02, -8.7820e-05, -1.0498e-02],\n",
       "            [ 4.7769e-02, -5.2046e-02,  7.6484e-04, -4.2575e-02, -3.3939e-02],\n",
       "            [ 4.1071e-02, -4.5891e-02,  4.7886e-02,  1.5651e-02,  1.0519e-02]],\n",
       "  \n",
       "           [[ 8.2829e-03, -1.8924e-02,  6.9844e-02,  5.0933e-02, -6.8283e-02],\n",
       "            [-5.4566e-02, -5.2512e-02, -2.0950e-03, -3.4330e-02,  2.4282e-02],\n",
       "            [ 3.0559e-02, -3.3243e-02,  3.6374e-02, -3.9424e-02, -1.2357e-02],\n",
       "            [-6.9837e-02,  4.9222e-02, -2.7462e-02, -2.1237e-02, -3.5430e-02],\n",
       "            [-2.1586e-02,  1.5120e-02, -4.4229e-02, -1.0506e-02, -6.0666e-02]],\n",
       "  \n",
       "           [[ 6.8607e-02,  3.8061e-02, -6.5027e-02,  1.7691e-02, -1.0925e-02],\n",
       "            [-4.1958e-02,  3.8197e-02,  5.0596e-02,  5.9593e-02, -2.2984e-04],\n",
       "            [-2.2168e-02, -1.6979e-02, -7.5112e-03, -6.1725e-02,  4.7907e-02],\n",
       "            [-3.7606e-02,  3.7405e-02,  5.5459e-02, -4.3785e-02,  5.0926e-02],\n",
       "            [ 6.8796e-02, -4.9439e-02,  2.5553e-02, -5.1281e-02, -6.8063e-02]]],\n",
       "  \n",
       "  \n",
       "          [[[-5.8087e-02, -4.7863e-02, -3.5240e-02,  1.5061e-02,  4.5881e-02],\n",
       "            [-1.6953e-03,  5.0074e-02,  5.8544e-02,  3.6582e-02, -6.3741e-02],\n",
       "            [ 1.6888e-02, -2.6576e-02,  6.8210e-02, -2.1737e-02,  5.4574e-02],\n",
       "            [-2.6003e-02, -2.8474e-02, -4.9082e-02,  4.0929e-02, -6.1902e-03],\n",
       "            [ 7.0566e-02, -3.8916e-02,  1.3991e-02,  1.2492e-02, -1.7406e-02]],\n",
       "  \n",
       "           [[ 5.5445e-02,  4.6468e-02,  2.2434e-05,  6.1106e-02, -5.2251e-02],\n",
       "            [-1.9074e-02, -6.0346e-02,  2.9596e-02,  5.9698e-02, -5.9526e-02],\n",
       "            [-3.7291e-02, -5.0628e-02, -6.3830e-03,  1.7550e-03,  1.2053e-02],\n",
       "            [-4.0604e-02,  2.4831e-02,  5.1956e-02, -4.9940e-02,  6.2651e-02],\n",
       "            [-1.2974e-02,  4.5015e-02,  5.8079e-02,  2.6383e-02, -6.9556e-02]],\n",
       "  \n",
       "           [[-3.6787e-02,  6.2817e-02,  4.5220e-02,  7.0296e-03, -2.4600e-02],\n",
       "            [-2.8048e-04,  4.1250e-02,  4.0178e-03,  8.1935e-03,  4.0652e-02],\n",
       "            [ 3.8067e-02, -4.1288e-02, -5.1213e-02,  4.3810e-02,  7.0454e-04],\n",
       "            [-5.8227e-02, -3.3971e-02, -5.9205e-02, -3.0105e-03, -3.4973e-02],\n",
       "            [-1.0157e-03, -1.5315e-02,  2.0011e-02,  1.8398e-02, -5.3503e-02]],\n",
       "  \n",
       "           ...,\n",
       "  \n",
       "           [[ 1.8221e-02,  6.7304e-02, -3.4474e-03, -2.8805e-03,  1.2068e-02],\n",
       "            [-1.2196e-02,  3.5607e-02,  1.8427e-02,  4.5922e-02,  2.4597e-02],\n",
       "            [ 2.8259e-02,  2.5513e-02, -1.3622e-02, -1.0336e-02,  6.1745e-02],\n",
       "            [-1.1767e-02,  3.3965e-02,  5.0378e-02,  1.2628e-02, -3.3702e-02],\n",
       "            [ 6.9105e-02, -3.6503e-02, -3.5931e-02, -2.2953e-02,  4.3182e-02]],\n",
       "  \n",
       "           [[ 2.5020e-02, -3.3864e-02,  2.8455e-03,  2.8658e-02,  2.3798e-02],\n",
       "            [-1.7943e-02, -2.3505e-02, -5.0306e-02, -5.6682e-02,  8.8448e-03],\n",
       "            [-1.5888e-02, -5.4800e-02, -7.2581e-03,  2.0208e-02,  1.4467e-02],\n",
       "            [ 3.4599e-02, -1.4450e-02, -6.2068e-02, -2.4266e-02,  3.6401e-02],\n",
       "            [-3.1934e-02,  5.9797e-02, -1.6830e-02,  4.5900e-02,  8.4558e-03]],\n",
       "  \n",
       "           [[ 4.9327e-02,  6.1094e-02, -5.2846e-02,  1.6275e-02,  2.0970e-02],\n",
       "            [-7.0427e-02, -5.0870e-02,  6.3193e-02, -2.4290e-02,  1.9753e-02],\n",
       "            [ 3.6570e-02,  5.8025e-02,  6.6745e-02,  2.3746e-02, -4.5688e-02],\n",
       "            [-5.6485e-02,  6.9483e-02,  1.6323e-02,  4.1034e-03,  3.9388e-02],\n",
       "            [-4.6739e-03,  2.0573e-02, -1.1286e-02, -2.2665e-02, -6.1705e-02]]],\n",
       "  \n",
       "  \n",
       "          ...,\n",
       "  \n",
       "  \n",
       "          [[[-1.3455e-03, -1.0616e-02,  6.0667e-02, -4.7769e-03, -3.2409e-02],\n",
       "            [ 5.5895e-02, -2.8385e-02,  4.0714e-02,  4.5448e-02, -4.2827e-02],\n",
       "            [ 2.3495e-02,  6.8865e-02, -1.8103e-02,  7.4264e-03, -2.6795e-02],\n",
       "            [ 2.1117e-03, -1.7144e-02, -1.5433e-02, -6.0900e-02, -1.8654e-02],\n",
       "            [ 5.9832e-02, -1.1768e-02, -1.5773e-02, -3.2588e-02,  5.1176e-02]],\n",
       "  \n",
       "           [[-5.5380e-02,  3.5972e-02,  8.1562e-05, -6.6639e-02, -6.5852e-02],\n",
       "            [ 8.2703e-03, -2.0845e-02, -4.4789e-02, -4.1012e-02,  5.2951e-02],\n",
       "            [-4.4710e-02, -2.7862e-02,  5.5372e-02,  6.5550e-02, -1.4460e-02],\n",
       "            [ 3.5255e-02, -4.9647e-02, -8.3795e-03,  3.1702e-02,  4.9887e-02],\n",
       "            [-1.9735e-02, -1.9494e-02, -5.8835e-02,  3.3647e-02, -1.2442e-02]],\n",
       "  \n",
       "           [[ 1.1324e-02, -3.9877e-04,  4.8720e-02,  3.5810e-03, -2.1230e-02],\n",
       "            [-4.8864e-02,  6.9023e-02,  5.0039e-03, -8.9461e-03,  4.7972e-02],\n",
       "            [-5.5389e-02,  5.1826e-02,  5.3674e-02, -1.7700e-02,  1.7448e-02],\n",
       "            [ 6.8562e-03,  4.3859e-04,  4.1770e-02, -6.2171e-02,  2.5412e-03],\n",
       "            [ 6.9408e-02, -6.6084e-02, -3.5946e-02,  3.6028e-02, -1.8849e-02]],\n",
       "  \n",
       "           ...,\n",
       "  \n",
       "           [[-3.7904e-02, -6.4895e-02, -3.2534e-02,  3.1892e-02,  1.2922e-02],\n",
       "            [ 1.6236e-03, -7.5570e-03,  3.9489e-02, -5.6843e-02, -3.3058e-02],\n",
       "            [ 2.7307e-02,  6.7318e-02, -6.7244e-03,  6.6472e-02,  4.9286e-02],\n",
       "            [-5.7243e-02,  3.3190e-02,  2.9957e-02,  2.6955e-02, -1.6637e-02],\n",
       "            [-4.9551e-02,  2.7754e-02,  3.5252e-02,  5.2134e-02,  5.5889e-03]],\n",
       "  \n",
       "           [[-6.1736e-02,  7.0085e-02, -2.9949e-02,  4.2653e-02, -1.0460e-02],\n",
       "            [ 5.0062e-02, -3.7276e-02,  3.2067e-02, -2.6315e-02,  2.0729e-02],\n",
       "            [ 1.9806e-02, -1.1956e-02, -5.5667e-02,  5.8481e-02,  4.5067e-02],\n",
       "            [-2.6528e-03, -4.6553e-02,  1.5916e-02,  5.0637e-02,  2.0417e-02],\n",
       "            [-4.0480e-02,  3.8693e-02, -4.1160e-02,  1.7884e-02,  6.7473e-03]],\n",
       "  \n",
       "           [[-1.9543e-02,  2.8592e-02,  5.3002e-02,  3.4669e-02,  2.2578e-02],\n",
       "            [ 2.4319e-02,  9.9367e-04,  3.7581e-02,  2.9278e-02, -4.9127e-02],\n",
       "            [-3.6398e-03,  1.1745e-02,  3.2392e-02,  5.3728e-02, -4.7368e-02],\n",
       "            [ 1.2876e-02,  5.3193e-02, -7.0110e-02, -6.1811e-02,  1.2356e-02],\n",
       "            [-1.2570e-03,  1.7500e-02, -3.7327e-02, -6.4287e-02, -2.0619e-02]]],\n",
       "  \n",
       "  \n",
       "          [[[ 6.9779e-02, -1.7769e-02,  5.6366e-02, -4.5356e-02, -2.8880e-02],\n",
       "            [-1.6814e-02,  6.6126e-02, -1.7402e-02, -4.6494e-03, -4.6016e-02],\n",
       "            [-1.5526e-02, -2.4450e-02, -1.3742e-02,  5.8239e-02,  2.4723e-02],\n",
       "            [ 1.6077e-02, -1.2501e-02,  2.2513e-02,  4.4308e-02, -2.9512e-03],\n",
       "            [-5.5667e-02,  7.0047e-02, -4.7943e-02, -5.3226e-02, -6.7025e-02]],\n",
       "  \n",
       "           [[ 1.4817e-02,  4.3455e-02,  1.9789e-02, -2.3258e-02,  4.2080e-02],\n",
       "            [-3.7227e-02, -6.1163e-02,  5.2010e-02, -1.4583e-02, -3.1861e-02],\n",
       "            [-1.1013e-02,  3.8149e-02,  4.6200e-02, -3.8961e-02, -8.3536e-03],\n",
       "            [-3.7017e-02, -6.7868e-02,  6.7650e-03, -5.0329e-02, -5.6549e-02],\n",
       "            [ 5.1616e-02, -2.8016e-02, -3.8643e-02, -5.9976e-02,  5.9177e-02]],\n",
       "  \n",
       "           [[-6.4461e-02, -1.1496e-03,  3.6788e-02,  5.5704e-02, -8.2266e-03],\n",
       "            [-4.9411e-02,  1.4792e-03,  1.7067e-02,  5.2008e-02,  4.5717e-02],\n",
       "            [ 3.9353e-02,  2.1734e-02,  6.6591e-02, -6.9086e-02, -4.3273e-02],\n",
       "            [-1.5537e-02,  2.6778e-02,  4.7264e-02,  4.7808e-02,  5.2910e-02],\n",
       "            [ 5.8333e-02,  4.1050e-02, -1.1028e-02, -1.9907e-03,  6.1511e-02]],\n",
       "  \n",
       "           ...,\n",
       "  \n",
       "           [[-1.0010e-02,  3.7138e-02, -5.9375e-02,  5.0637e-03, -3.8884e-03],\n",
       "            [-6.3052e-02,  6.5584e-02,  6.7538e-02,  4.2032e-02, -6.0994e-02],\n",
       "            [-4.5432e-02, -2.1863e-02, -3.7191e-02, -4.6141e-02,  8.5034e-03],\n",
       "            [-3.8449e-02,  4.8100e-02,  5.2085e-02, -1.1376e-02,  3.6874e-02],\n",
       "            [-4.5335e-02,  3.8813e-02, -3.1205e-02,  3.0135e-02,  4.7927e-02]],\n",
       "  \n",
       "           [[ 2.5317e-02, -5.3027e-03, -2.5772e-02,  3.8233e-02,  1.0240e-02],\n",
       "            [ 3.2129e-03,  4.5683e-02, -2.7305e-02,  4.3313e-02, -3.9416e-02],\n",
       "            [-1.4952e-02, -6.8901e-02,  5.9414e-02,  4.5886e-02, -6.1608e-03],\n",
       "            [-1.2235e-02,  1.2678e-02,  1.9805e-03, -6.5766e-02, -2.1145e-02],\n",
       "            [ 2.8556e-02, -5.8579e-02,  3.3857e-02,  4.4679e-02, -5.4869e-02]],\n",
       "  \n",
       "           [[-4.6164e-02,  2.2628e-02, -6.5437e-02, -3.1731e-02,  2.5956e-02],\n",
       "            [-2.0545e-02,  4.7522e-02,  1.0275e-02, -3.1442e-02, -6.7731e-02],\n",
       "            [-2.7640e-02, -3.0374e-02, -5.8157e-02, -6.5082e-02,  5.1081e-02],\n",
       "            [ 4.6324e-03, -3.8094e-02, -3.7381e-03,  2.7144e-03, -2.1253e-02],\n",
       "            [ 6.9046e-02, -4.5890e-02, -5.5767e-02, -5.4747e-02,  7.5040e-03]]],\n",
       "  \n",
       "  \n",
       "          [[[ 1.5408e-02, -3.5092e-02,  5.5391e-02,  3.7146e-02,  6.0637e-02],\n",
       "            [ 1.4111e-02,  3.1387e-02,  6.5738e-02, -1.4902e-02,  3.3357e-02],\n",
       "            [-4.2965e-02,  1.5264e-02, -1.5941e-02, -2.1627e-03,  3.2020e-02],\n",
       "            [ 5.3811e-02, -6.6975e-02,  5.1295e-02,  2.4809e-02, -2.6738e-02],\n",
       "            [-2.0589e-02, -6.6116e-02, -3.8351e-02, -2.2399e-02, -5.2640e-02]],\n",
       "  \n",
       "           [[-3.2026e-02, -1.7516e-02, -1.1469e-02,  5.0929e-02, -9.5415e-03],\n",
       "            [-1.4442e-02,  6.9081e-02, -6.3156e-02,  2.9427e-02, -6.6047e-02],\n",
       "            [-3.6754e-02,  4.4818e-02, -2.9072e-02,  5.9756e-02, -2.1350e-02],\n",
       "            [ 1.7691e-02, -1.7393e-02, -7.6044e-03, -1.3544e-02, -3.0262e-02],\n",
       "            [-1.2051e-02,  1.9605e-02, -5.7139e-02,  2.7240e-02,  2.7632e-02]],\n",
       "  \n",
       "           [[ 2.9522e-02, -2.4303e-02,  6.9898e-02, -2.4163e-02,  4.0134e-02],\n",
       "            [ 5.9911e-02, -1.8724e-02, -9.9287e-03, -3.2454e-02, -1.7102e-02],\n",
       "            [-4.4079e-02, -1.8123e-02, -2.7800e-02, -6.0865e-02, -1.0639e-02],\n",
       "            [ 1.0329e-02, -5.0517e-02, -9.0302e-03,  5.2012e-02,  3.7013e-02],\n",
       "            [ 1.1323e-02,  4.4625e-02, -6.8806e-02, -6.0218e-02, -5.0693e-02]],\n",
       "  \n",
       "           ...,\n",
       "  \n",
       "           [[-9.8079e-04,  2.8695e-02,  5.1279e-02,  1.8393e-02, -6.5507e-03],\n",
       "            [-6.7095e-02,  2.1988e-02, -1.3027e-02,  6.0097e-02,  3.2934e-02],\n",
       "            [ 1.4864e-02,  2.8036e-02, -3.5869e-02, -4.7934e-02,  6.9540e-02],\n",
       "            [ 6.3470e-02, -9.6323e-03,  3.6579e-02,  5.9579e-02, -3.0004e-02],\n",
       "            [-6.5689e-02,  6.2638e-02,  6.1653e-02,  3.9349e-02,  4.8548e-02]],\n",
       "  \n",
       "           [[-6.0143e-02, -3.8489e-02,  1.8699e-02,  3.6624e-02,  5.1598e-02],\n",
       "            [-5.0281e-02,  5.2719e-02,  5.4428e-02, -3.3523e-02, -1.4025e-02],\n",
       "            [-1.3755e-02, -4.2360e-02,  4.1557e-03, -3.9537e-04,  3.4098e-02],\n",
       "            [ 7.3052e-03,  2.8552e-02, -3.1106e-02,  5.1780e-02, -2.9810e-02],\n",
       "            [ 1.4062e-02, -3.3228e-02,  3.2709e-02, -2.0308e-02,  8.0442e-03]],\n",
       "  \n",
       "           [[-6.4849e-02,  6.2319e-02,  2.4354e-02,  3.1113e-02, -1.9883e-02],\n",
       "            [-2.3306e-02, -1.6130e-02,  3.5732e-02,  6.8161e-02,  6.7142e-02],\n",
       "            [-1.1482e-02, -9.7295e-03,  5.0124e-02,  5.8469e-02, -5.7007e-02],\n",
       "            [ 3.4201e-02,  4.2799e-02,  6.0168e-02, -3.9031e-02,  3.9844e-02],\n",
       "            [ 1.4828e-02, -4.0708e-02, -3.0125e-02, -6.9085e-02,  6.5216e-02]]]],\n",
       "         requires_grad=True),\n",
       "  Parameter containing:\n",
       "  tensor([ 0.0642,  0.0048, -0.0331, -0.0117,  0.0607,  0.0295,  0.0029,  0.0534,\n",
       "           0.0446, -0.0209,  0.0384,  0.0252, -0.0295,  0.0677, -0.0509, -0.0055],\n",
       "         requires_grad=True),\n",
       "  Parameter containing:\n",
       "  tensor([[ 0.0619, -0.0313,  0.0271,  ..., -0.0219,  0.0047,  0.0197],\n",
       "          [-0.0605, -0.0315, -0.0516,  ...,  0.0084,  0.0012, -0.0616],\n",
       "          [ 0.0504, -0.0523, -0.0074,  ...,  0.0431, -0.0148, -0.0114],\n",
       "          ...,\n",
       "          [ 0.0374, -0.0330, -0.0619,  ..., -0.0288,  0.0455,  0.0332],\n",
       "          [-0.0472,  0.0131, -0.0397,  ...,  0.0338,  0.0143,  0.0317],\n",
       "          [ 0.0262,  0.0050,  0.0203,  ...,  0.0254,  0.0292, -0.0614]],\n",
       "         requires_grad=True),\n",
       "  Parameter containing:\n",
       "  tensor([-0.0497, -0.0434,  0.0038,  0.0596, -0.0597, -0.0046,  0.0015, -0.0394,\n",
       "           0.0210, -0.0547,  0.0193, -0.0441,  0.0088, -0.0079, -0.0450,  0.0577,\n",
       "           0.0282, -0.0561, -0.0211,  0.0001,  0.0616, -0.0273, -0.0232,  0.0060,\n",
       "           0.0572, -0.0164, -0.0211, -0.0323,  0.0349, -0.0590, -0.0483,  0.0183,\n",
       "           0.0533, -0.0524, -0.0494, -0.0251,  0.0614,  0.0406,  0.0072,  0.0108,\n",
       "           0.0105,  0.0382,  0.0551,  0.0303,  0.0031, -0.0348, -0.0590, -0.0053,\n",
       "          -0.0217, -0.0111,  0.0063, -0.0038,  0.0434,  0.0523,  0.0623, -0.0080,\n",
       "          -0.0093,  0.0484, -0.0126,  0.0476, -0.0335,  0.0240,  0.0587,  0.0176,\n",
       "           0.0007, -0.0019,  0.0622,  0.0535,  0.0036,  0.0422,  0.0424, -0.0576,\n",
       "           0.0310,  0.0491,  0.0502, -0.0495,  0.0556, -0.0449,  0.0595,  0.0244,\n",
       "          -0.0001, -0.0589,  0.0063,  0.0310, -0.0163, -0.0285, -0.0018,  0.0077,\n",
       "          -0.0561,  0.0513, -0.0187, -0.0369, -0.0541,  0.0296,  0.0005,  0.0215,\n",
       "           0.0212, -0.0489, -0.0153,  0.0099,  0.0404,  0.0213, -0.0387, -0.0011,\n",
       "           0.0358, -0.0004,  0.0374, -0.0465, -0.0518, -0.0542, -0.0335, -0.0393,\n",
       "           0.0573, -0.0309,  0.0117, -0.0404, -0.0284,  0.0474,  0.0300, -0.0533,\n",
       "           0.0283,  0.0474,  0.0022, -0.0342,  0.0289,  0.0107, -0.0157, -0.0250],\n",
       "         requires_grad=True),\n",
       "  Parameter containing:\n",
       "  tensor([[-0.0633, -0.0164, -0.0589,  ..., -0.0640,  0.0208,  0.0551],\n",
       "          [-0.0846,  0.0207,  0.0592,  ...,  0.0505, -0.0840,  0.0714],\n",
       "          [ 0.0641, -0.0229,  0.0810,  ..., -0.0195,  0.0758,  0.0787],\n",
       "          ...,\n",
       "          [ 0.0491, -0.0618, -0.0642,  ...,  0.0585,  0.0597, -0.0448],\n",
       "          [ 0.0734,  0.0376, -0.0242,  ..., -0.0808,  0.0315, -0.0498],\n",
       "          [ 0.0186,  0.0265, -0.0488,  ...,  0.0220,  0.0250, -0.0412]],\n",
       "         requires_grad=True),\n",
       "  Parameter containing:\n",
       "  tensor([-2.6636e-02, -4.3038e-02,  7.4934e-02, -6.5016e-02,  6.9561e-02,\n",
       "           2.5934e-02,  1.1401e-03,  3.4252e-02, -6.2252e-02,  3.4973e-03,\n",
       "           2.6886e-02, -2.8654e-02, -8.7162e-02,  4.3274e-03, -5.4534e-02,\n",
       "          -8.0371e-02, -5.6512e-02,  6.1715e-02, -3.9856e-02, -7.2155e-02,\n",
       "           5.5988e-02,  4.1965e-02, -4.1474e-03,  7.8671e-02,  4.3684e-02,\n",
       "           1.5749e-02,  7.6188e-02, -2.0483e-03,  2.6113e-02,  3.9019e-02,\n",
       "           4.5236e-02, -1.1779e-02, -5.4098e-02, -1.5315e-02, -4.5787e-03,\n",
       "          -5.6286e-03,  4.7480e-03, -8.7172e-02,  7.6342e-02,  6.6489e-02,\n",
       "          -5.7582e-02,  3.0249e-02,  3.4600e-02,  1.2803e-02,  5.8418e-02,\n",
       "          -5.5437e-02, -6.3235e-02, -8.6390e-03,  1.3546e-02, -7.0558e-02,\n",
       "           5.3325e-02, -1.7447e-02, -1.1888e-02,  5.2552e-02,  2.2637e-02,\n",
       "           2.6678e-02,  3.0067e-02,  6.7964e-05, -7.3451e-02,  7.5956e-02,\n",
       "           6.4755e-02,  4.0507e-02,  6.7286e-02,  2.8882e-02],\n",
       "         requires_grad=True),\n",
       "  Parameter containing:\n",
       "  tensor([[ 2.4941e-02, -1.0025e-01, -5.5574e-03,  6.9366e-02,  1.8781e-02,\n",
       "            7.0346e-02,  3.9965e-02, -9.3347e-02,  7.3657e-02,  1.1033e-01,\n",
       "           -9.3428e-02, -5.5486e-02,  4.2729e-02,  3.9033e-02,  8.7195e-03,\n",
       "           -2.9972e-02, -1.0974e-01,  3.8700e-02,  5.9546e-03,  1.0938e-01,\n",
       "           -1.0339e-01, -4.9745e-02, -3.0959e-02, -7.4405e-02, -8.1484e-02,\n",
       "           -2.7749e-02,  2.0127e-02, -5.2409e-02, -8.8805e-02,  9.9658e-02,\n",
       "            7.4528e-02,  3.0266e-02,  8.6049e-02, -5.9332e-02, -1.1899e-01,\n",
       "            8.9175e-03, -5.9044e-02, -4.7571e-02, -2.3513e-02, -5.5494e-02,\n",
       "           -8.5713e-02, -4.1436e-02, -5.2170e-02, -9.2477e-03,  4.7436e-02,\n",
       "            1.9088e-02,  1.5362e-02,  8.3864e-02, -7.9344e-02, -1.0407e-01,\n",
       "            2.8053e-02, -1.9350e-03,  6.7376e-02,  1.6462e-02, -6.9409e-02,\n",
       "           -1.0568e-01, -8.7996e-02,  6.8580e-02, -3.9734e-02,  3.1405e-03,\n",
       "           -4.7305e-02,  9.8209e-02, -1.0090e-01,  3.9796e-02],\n",
       "          [ 9.0591e-02, -1.1522e-02, -3.5185e-03,  4.9132e-03,  4.9809e-02,\n",
       "           -8.6675e-03, -1.0976e-01, -5.5145e-02,  2.7316e-02, -4.8737e-02,\n",
       "           -7.3347e-02,  1.0503e-01,  1.0899e-01,  1.0466e-01,  2.9398e-02,\n",
       "            1.0391e-02, -3.1960e-02, -3.6887e-02, -6.3715e-02,  3.1441e-03,\n",
       "           -2.2331e-03,  8.6738e-02, -4.0109e-02, -9.4767e-02, -7.8251e-03,\n",
       "            1.5468e-02, -2.7234e-02,  7.7090e-02,  8.6514e-02,  1.1214e-01,\n",
       "           -7.1628e-02,  2.7967e-02, -6.8990e-02,  1.8837e-02, -6.9690e-03,\n",
       "           -8.0692e-02, -3.1428e-02,  1.1183e-02, -8.6787e-02,  4.7033e-02,\n",
       "            1.1717e-01,  1.1778e-01,  5.2657e-02, -1.2221e-01, -7.8943e-02,\n",
       "           -6.8290e-03,  7.5634e-02, -1.7065e-02,  1.6286e-02,  1.1007e-01,\n",
       "            8.7566e-02,  1.1523e-01,  3.3295e-02,  1.6198e-02,  7.2577e-02,\n",
       "           -5.4970e-02,  1.1460e-01, -4.2019e-02, -2.7135e-02, -1.0779e-01,\n",
       "            4.8848e-02,  1.2256e-01,  1.0854e-01, -3.0994e-02],\n",
       "          [-7.3737e-04, -1.1087e-01, -6.1375e-02, -1.1486e-01,  9.3046e-02,\n",
       "           -7.8475e-02, -1.0094e-01, -8.9736e-02,  1.1520e-01, -1.2408e-01,\n",
       "            1.2318e-01,  4.1539e-02,  1.0323e-01,  3.8363e-02,  5.5348e-02,\n",
       "            4.0740e-02, -7.3208e-03, -9.8815e-02,  5.2919e-02,  4.6279e-02,\n",
       "           -6.4814e-02, -6.4369e-02,  1.2174e-01, -5.8361e-02,  2.3769e-02,\n",
       "            1.0315e-01,  8.4127e-02, -9.5468e-02,  7.2100e-02, -6.3798e-02,\n",
       "           -1.0540e-01,  1.1540e-01,  2.9542e-02,  1.0521e-01,  7.7085e-02,\n",
       "            1.8889e-02, -2.4082e-02,  5.4454e-02, -3.5920e-02, -1.1530e-01,\n",
       "           -1.1096e-01,  8.2952e-02,  3.2198e-02, -4.0243e-02,  6.0852e-02,\n",
       "            5.4522e-02, -3.0153e-03,  4.5734e-02,  1.1248e-01, -9.1539e-02,\n",
       "           -1.8278e-02,  1.0282e-01, -7.0570e-02,  5.1865e-02, -1.0644e-01,\n",
       "           -4.8737e-02,  6.2986e-02, -8.1745e-02, -4.3146e-02, -8.2007e-02,\n",
       "           -1.2076e-01,  7.0443e-02,  1.3445e-02, -1.5315e-02],\n",
       "          [-1.1522e-01, -1.5455e-03, -1.5015e-02, -9.1035e-02, -2.1234e-02,\n",
       "            3.4457e-02, -1.1362e-01, -9.1054e-02,  7.2467e-02,  3.4371e-02,\n",
       "           -1.0059e-01,  5.0422e-03,  1.1911e-01,  6.4853e-02, -1.0655e-02,\n",
       "           -5.5378e-02, -9.0463e-02,  3.2396e-02,  3.4281e-02, -7.3318e-03,\n",
       "           -3.5525e-02, -1.3740e-02, -7.7148e-03,  1.0638e-01,  1.1046e-01,\n",
       "            6.7445e-02, -3.4269e-03,  1.0712e-01,  3.0100e-05,  1.1119e-01,\n",
       "            2.2904e-02,  2.6073e-02, -6.6057e-02, -6.6046e-02, -5.7656e-02,\n",
       "            9.6055e-02, -7.8885e-02,  5.7734e-02, -2.2525e-02, -1.1475e-01,\n",
       "            4.3523e-02,  1.5322e-02, -9.3129e-02,  1.0950e-01, -4.0365e-02,\n",
       "            1.0711e-01, -4.5864e-02, -1.0147e-01, -1.8471e-02, -4.2214e-02,\n",
       "           -2.6383e-02,  1.5997e-02, -8.4657e-02, -1.1027e-01, -5.6213e-03,\n",
       "           -2.8741e-02,  1.2416e-01, -1.2470e-01, -8.4660e-02, -1.1650e-01,\n",
       "            6.0096e-02, -1.0522e-01,  1.1926e-01, -5.0550e-02],\n",
       "          [-1.0735e-01,  1.1759e-01, -1.0853e-01, -8.5786e-02,  4.1488e-03,\n",
       "           -3.4066e-03,  6.1552e-02,  8.8933e-02,  1.2403e-01, -1.0157e-02,\n",
       "           -6.9594e-02, -1.1722e-01, -6.6900e-02, -8.5947e-02,  4.6923e-02,\n",
       "           -1.0611e-01,  1.2426e-02, -2.9406e-02, -4.5075e-02, -4.6914e-03,\n",
       "           -7.4191e-02, -9.2146e-02,  7.1944e-02,  7.1099e-02, -4.1786e-02,\n",
       "            7.2902e-02, -4.1014e-02, -8.7521e-02, -1.1355e-01, -9.2474e-03,\n",
       "            2.5062e-02,  1.8253e-02, -1.2319e-01,  8.4426e-02,  4.4678e-02,\n",
       "            1.0826e-01, -6.8872e-02, -9.6767e-02, -7.2970e-03,  1.1647e-01,\n",
       "            1.0596e-02, -3.8264e-02, -5.1732e-02,  5.9844e-02, -2.7825e-02,\n",
       "           -8.7437e-02, -2.6497e-03, -1.2257e-01, -4.9385e-02,  7.6360e-02,\n",
       "           -7.0316e-02,  4.9703e-02, -6.5080e-02, -2.5923e-02,  2.6262e-02,\n",
       "            3.7207e-02, -4.1699e-02,  1.5405e-02, -7.3505e-03, -9.2669e-02,\n",
       "            4.5658e-03,  4.4172e-02, -8.9339e-02, -4.8659e-02],\n",
       "          [ 7.3020e-02,  1.5076e-02, -1.8765e-02,  5.6378e-02, -8.5797e-03,\n",
       "           -5.1603e-02, -8.4897e-02, -5.0649e-03,  3.1524e-02,  1.1750e-01,\n",
       "            8.4864e-02,  1.0513e-02, -3.6735e-02, -9.1514e-02, -1.0921e-01,\n",
       "            9.4918e-02, -4.0477e-02, -2.7020e-02, -1.0904e-01, -5.6310e-02,\n",
       "            9.0611e-02,  2.5197e-02, -7.7055e-02,  5.5089e-02, -1.0850e-01,\n",
       "           -1.8558e-02, -8.9507e-02,  1.0383e-01, -5.9518e-02, -8.9645e-02,\n",
       "            5.4017e-02,  9.3775e-02, -2.2144e-02, -7.7030e-02, -1.0915e-01,\n",
       "            8.1512e-03, -9.1043e-02,  1.1000e-02,  3.5467e-02, -1.0284e-01,\n",
       "           -2.4736e-02,  6.6789e-02, -1.0203e-01,  5.5315e-02, -3.4234e-02,\n",
       "            1.0254e-01, -1.5246e-02, -2.5196e-02, -6.7509e-02, -6.6053e-02,\n",
       "            3.0665e-02, -4.9912e-02, -1.2125e-01, -3.5325e-03,  2.6915e-02,\n",
       "           -1.1059e-01, -6.1294e-02,  4.9529e-02, -1.8526e-02,  1.7456e-02,\n",
       "           -6.8462e-03, -2.0465e-02, -7.8941e-02,  1.0120e-01],\n",
       "          [-1.8494e-02, -7.3490e-02,  1.0343e-01,  4.9931e-02,  4.3163e-02,\n",
       "           -1.0026e-01,  8.4533e-02,  7.7889e-02, -1.9280e-02, -2.1754e-02,\n",
       "            1.0964e-01, -9.3572e-02, -2.7050e-02,  9.7481e-02, -2.2241e-02,\n",
       "            8.7183e-02, -3.1204e-02,  5.1636e-02, -1.2172e-01, -9.4051e-02,\n",
       "           -8.8328e-02,  1.0192e-01, -2.0001e-02, -4.0952e-02,  8.9044e-02,\n",
       "           -6.9268e-04, -9.7841e-02,  1.0492e-01,  9.0660e-02, -3.3877e-02,\n",
       "           -3.8409e-02,  2.6205e-03,  9.5250e-02,  8.7061e-02,  7.8632e-02,\n",
       "            1.1253e-01, -9.2870e-03,  2.8862e-02, -4.7587e-02,  1.2036e-01,\n",
       "            6.8684e-02, -1.0779e-01,  3.8588e-02, -7.0836e-02, -5.8525e-02,\n",
       "            7.6163e-04,  8.5001e-02, -2.2530e-02, -7.0787e-03, -8.0618e-02,\n",
       "           -5.8157e-02, -1.0866e-01, -8.7074e-02, -1.9194e-02,  1.1912e-01,\n",
       "           -1.2259e-01, -3.8863e-03,  9.8050e-02,  2.4509e-02,  5.7275e-03,\n",
       "           -1.6401e-02, -6.9619e-02,  6.8058e-02,  1.0854e-01],\n",
       "          [ 4.4509e-02,  1.6160e-02,  1.0135e-01,  1.0255e-01, -4.1103e-02,\n",
       "           -2.8804e-02, -6.5070e-02, -2.4323e-02, -8.7279e-02, -8.9473e-02,\n",
       "           -2.9016e-02,  9.2465e-02,  1.0481e-02,  2.5149e-02,  4.4903e-03,\n",
       "           -1.0490e-01,  1.8439e-02,  6.6380e-02, -6.9700e-02, -2.9164e-02,\n",
       "           -1.0925e-02,  3.5112e-02, -2.9122e-02, -3.5387e-03,  3.3583e-02,\n",
       "            6.7698e-02,  1.0135e-01,  4.4434e-02, -2.2262e-02,  1.0895e-01,\n",
       "           -4.4318e-02, -3.1834e-02, -1.1024e-01, -4.7775e-02, -6.6548e-02,\n",
       "            4.9493e-04, -1.1485e-01, -3.6242e-02, -2.1652e-02, -4.5173e-02,\n",
       "            8.3946e-03, -1.3935e-02,  9.9911e-02,  4.6717e-02, -8.8906e-02,\n",
       "            7.6274e-02,  4.5417e-02,  1.1759e-01,  1.2527e-02, -9.2713e-02,\n",
       "            8.3376e-02,  6.4292e-02,  3.4823e-02, -1.1063e-01,  1.0915e-01,\n",
       "            2.1794e-02, -1.0560e-02, -8.4871e-02,  7.8231e-02,  6.1154e-02,\n",
       "           -5.7186e-02, -3.2919e-02,  9.7555e-02, -4.9050e-02],\n",
       "          [ 1.1771e-01,  9.6357e-02, -8.8594e-02,  4.1470e-03,  9.9544e-02,\n",
       "            1.1739e-01, -5.1014e-02, -2.0319e-02,  8.4144e-02,  9.0054e-02,\n",
       "            8.8384e-02,  7.6328e-02, -1.1839e-01, -1.2192e-01, -1.9194e-02,\n",
       "           -3.3410e-02,  4.8990e-02, -1.0959e-01,  5.7820e-02,  5.3977e-02,\n",
       "           -4.1055e-03, -1.1109e-02, -5.6375e-02, -7.8597e-02,  2.5271e-02,\n",
       "           -1.6623e-02,  1.1685e-01, -2.5206e-02,  1.2147e-01, -2.7367e-02,\n",
       "            1.1978e-01, -7.7453e-02,  1.2378e-01, -5.8227e-02, -3.1880e-02,\n",
       "           -1.6376e-02,  8.2670e-02, -1.1128e-02, -3.7242e-02, -3.4049e-02,\n",
       "           -1.8214e-02, -1.2403e-02, -6.3465e-02, -4.6949e-02,  1.0508e-01,\n",
       "           -6.5677e-02, -3.0609e-02, -7.8997e-02, -1.2336e-01,  4.8882e-02,\n",
       "           -4.1928e-02,  4.3761e-03,  6.4197e-02, -4.9332e-02,  2.8573e-02,\n",
       "           -2.6882e-02,  8.2667e-02, -6.6935e-02,  1.1295e-01,  5.3208e-03,\n",
       "           -5.2614e-02,  2.1650e-02, -1.2227e-01,  5.8440e-02],\n",
       "          [ 9.5527e-03, -4.2699e-02, -2.2400e-02,  7.0009e-02, -3.2951e-02,\n",
       "            8.6019e-02,  2.8140e-02, -9.6917e-02, -1.0521e-01,  4.0333e-02,\n",
       "            4.9546e-02, -1.0387e-01, -1.1620e-02,  3.2246e-03,  4.3289e-02,\n",
       "            1.2205e-01,  1.2133e-01, -1.7097e-02, -4.4582e-02, -1.0123e-01,\n",
       "            1.3311e-02, -1.5373e-02,  1.2268e-01,  1.0501e-01, -8.4554e-02,\n",
       "            9.4770e-02, -2.4790e-02,  1.1481e-01,  1.0300e-01,  2.0728e-02,\n",
       "            9.8964e-02, -8.8210e-02, -4.6487e-02, -6.9407e-02, -3.4051e-02,\n",
       "           -1.1435e-01,  7.1538e-02,  4.7002e-02,  9.8789e-02,  6.6332e-02,\n",
       "            2.0653e-02, -1.0654e-01,  2.7071e-02,  2.9350e-02,  4.1654e-02,\n",
       "           -8.9056e-02,  4.1374e-02,  3.0141e-03,  1.2344e-01, -4.0129e-02,\n",
       "           -4.0869e-02,  6.8037e-02, -7.4384e-02, -8.1155e-02, -4.1517e-02,\n",
       "            1.1928e-01, -1.1812e-01, -1.1825e-01,  1.0474e-01,  1.1306e-01,\n",
       "            1.0158e-01, -4.1431e-02, -1.1245e-01, -1.1328e-01]],\n",
       "         requires_grad=True),\n",
       "  Parameter containing:\n",
       "  tensor([-0.1078,  0.0615, -0.0896, -0.0237, -0.1206,  0.1223,  0.0096,  0.0242,\n",
       "          -0.0434,  0.0539], requires_grad=True)]}"
      ]
     },
     "execution_count": 16,
     "metadata": {},
     "output_type": "execute_result"
    }
   ],
   "source": [
    "#from pyparsing.core import ParseAction\n",
    "def count_parameters(model):\n",
    "    model_params={\"Modules\":list(), \"Parameters\":list()}\n",
    "    total={\"trainable\": 0, \"non_trainable\": 0}\n",
    "    for name, parameters in model.named_parameters():\n",
    "    #Checking if the model parameters requires gradient or not\n",
    "    #Required_grad means its trinble parameters, if nots then continue\n",
    "        if not parameters.requires_grad:\n",
    "            total[\"non_trainable\"] +=params\n",
    "            continue\n",
    "        param=parameters.numel()\n",
    "        model_params[\"Modules\"].append(name)\n",
    "        model_params[\"Parameters\"].append(parameters)\n",
    "        total[\"trainable\"] +=param\n",
    "    #df=pd.DataFrame(model_params)\n",
    "    print(f\"Total trainable parameters: {total}\")\n",
    "    return model_params\n",
    "count_parameters(model)"
   ]
  },
  {
   "cell_type": "markdown",
   "id": "3173c4ba",
   "metadata": {},
   "source": [
    "# Training loop"
   ]
  },
  {
   "cell_type": "code",
   "execution_count": 30,
   "id": "e6687bfb",
   "metadata": {},
   "outputs": [],
   "source": [
    "criterion=nn.CrossEntropyLoss()# Loss function\n",
    "optimizer=torch.optim.Adam(model.parameters(), lr=config.LEARNING_RATE)"
   ]
  },
  {
   "cell_type": "code",
   "execution_count": 31,
   "id": "412f64ec",
   "metadata": {},
   "outputs": [
    {
     "data": {
      "text/plain": [
       "1875"
      ]
     },
     "execution_count": 31,
     "metadata": {},
     "output_type": "execute_result"
    }
   ],
   "source": [
    "len(train_data_loader)# steps per epochs"
   ]
  },
  {
   "cell_type": "code",
   "execution_count": 32,
   "id": "88e303fa",
   "metadata": {},
   "outputs": [
    {
     "name": "stderr",
     "output_type": "stream",
     "text": [
      "Epoch 1/10: 100%|████████████████████████████████████| 1875/1875 [00:52<00:00, 35.40it/s, loss=1.14]\n",
      "Epoch 2/10: 100%|███████████████████████████████████| 1875/1875 [00:53<00:00, 34.98it/s, loss=0.569]\n",
      "Epoch 3/10: 100%|███████████████████████████████████| 1875/1875 [00:54<00:00, 34.17it/s, loss=0.947]\n",
      "Epoch 4/10: 100%|███████████████████████████████████| 1875/1875 [00:53<00:00, 34.74it/s, loss=0.982]\n",
      "Epoch 5/10: 100%|███████████████████████████████████| 1875/1875 [00:54<00:00, 34.59it/s, loss=0.686]\n",
      "Epoch 6/10: 100%|███████████████████████████████████| 1875/1875 [00:55<00:00, 33.91it/s, loss=0.814]\n",
      "Epoch 7/10: 100%|███████████████████████████████████| 1875/1875 [00:57<00:00, 32.52it/s, loss=0.967]\n",
      "Epoch 8/10: 100%|███████████████████████████████████| 1875/1875 [01:05<00:00, 28.68it/s, loss=0.844]\n",
      "Epoch 9/10: 100%|███████████████████████████████████| 1875/1875 [01:16<00:00, 24.36it/s, loss=0.787]\n",
      "Epoch 10/10: 100%|███████████████████████████████████| 1875/1875 [01:00<00:00, 30.78it/s, loss=1.18]\n"
     ]
    }
   ],
   "source": [
    "for epoch in range(config.EPOCH):\n",
    "    with tqdm(train_data_loader) as tqdm_epoch:\n",
    "        for images, labels in tqdm_epoch:\n",
    "            tqdm_epoch.set_description(f\"Epoch {epoch +1}/{config.EPOCH}\")\n",
    "            #put the images into device\n",
    "            images=images.to(config.DEVICE)\n",
    "            labels=labels.to(config.DEVICE)\n",
    "            # Forward pass\n",
    "            outputs=model(images)\n",
    "            loss=criterion(outputs, labels)## passing the predicted and target value\n",
    "            #Backward propagations\n",
    "            optimizer.zero_grad()\n",
    "            loss.backward()# Claculate the gradient first of all\n",
    "            optimizer.step()# after calculating thegradient updates the weight with optimizer\n",
    "            tqdm_epoch.set_postfix(loss=loss.item())"
   ]
  },
  {
   "cell_type": "code",
   "execution_count": null,
   "id": "2011d68a",
   "metadata": {},
   "outputs": [],
   "source": []
  }
 ],
 "metadata": {
  "kernelspec": {
   "display_name": "Python 3 (ipykernel)",
   "language": "python",
   "name": "python3"
  },
  "language_info": {
   "codemirror_mode": {
    "name": "ipython",
    "version": 3
   },
   "file_extension": ".py",
   "mimetype": "text/x-python",
   "name": "python",
   "nbconvert_exporter": "python",
   "pygments_lexer": "ipython3",
   "version": "3.7.13"
  }
 },
 "nbformat": 4,
 "nbformat_minor": 5
}
