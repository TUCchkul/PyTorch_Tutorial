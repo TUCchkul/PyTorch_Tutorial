{
 "cells": [
  {
   "cell_type": "code",
   "execution_count": 82,
   "id": "b8b30f8e",
   "metadata": {},
   "outputs": [],
   "source": [
    "import torch \n",
    "from torch import nn\n",
    "import torchvision\n",
    "import matplotlib.pyplot as plt\n",
    "import seaborn as sns\n",
    "import numpy as np \n",
    "from torch.utils.data import DataLoader\n",
    "from torchvision import transforms, datasets\n",
    "import torch.nn.functional as F\n",
    "from sklearn.metrics import confusion_matrix\n",
    "from tqdm import tqdm\n",
    "import pandas as pd"
   ]
  },
  {
   "cell_type": "code",
   "execution_count": 8,
   "id": "1add8e66",
   "metadata": {},
   "outputs": [],
   "source": [
    "#!pip install seaborn"
   ]
  },
  {
   "cell_type": "code",
   "execution_count": 9,
   "id": "23dd9cd8",
   "metadata": {},
   "outputs": [],
   "source": [
    "#!pip install tqdm"
   ]
  },
  {
   "cell_type": "code",
   "execution_count": 11,
   "id": "7e3dc90b",
   "metadata": {},
   "outputs": [],
   "source": [
    "#!pip install scikit-learn"
   ]
  },
  {
   "cell_type": "code",
   "execution_count": 13,
   "id": "a16da6ac",
   "metadata": {},
   "outputs": [
    {
     "name": "stdout",
     "output_type": "stream",
     "text": [
      "This notebook is using the device: cpu\n"
     ]
    }
   ],
   "source": [
    "class Config:\n",
    "    def __init__(self):\n",
    "        self.ROOT_DATA_DIR=\"FashionMNISTDir\"\n",
    "        self.EPOCH=10\n",
    "        self.BATCH_SIZE=32\n",
    "        self.LEARNING_RATE=0.01\n",
    "        self.IMAGE_SIZE=(28,28)\n",
    "        self.DEVICE=\"cuda\" if torch.cuda.is_available() else \"cpu\"\n",
    "        print(f\"This notebook is using the device: {self.DEVICE}\")\n",
    "        self.SEED=2022\n",
    "\n",
    "        \n",
    "        \n",
    "config=Config()\n",
    "        \n",
    "        \n",
    "        "
   ]
  },
  {
   "cell_type": "markdown",
   "id": "6ee1dcc7",
   "metadata": {},
   "source": [
    "# Download the data"
   ]
  },
  {
   "cell_type": "code",
   "execution_count": 15,
   "id": "2c5607f7",
   "metadata": {},
   "outputs": [],
   "source": [
    "train_data=datasets.FashionMNIST(\n",
    "    root=config.ROOT_DATA_DIR,\n",
    "    train=True,\n",
    "    download=True,\n",
    "    transform=transforms.ToTensor()#convert to pytorch tensor  and put on the  device cuda or cpu\n",
    "    \n",
    ")\n",
    "test_data=datasets.FashionMNIST(\n",
    "    root=config.ROOT_DATA_DIR,\n",
    "    train=False,\n",
    "    download=True, \n",
    "    transform=transforms.ToTensor()\n",
    ")"
   ]
  },
  {
   "cell_type": "markdown",
   "id": "93c293a2",
   "metadata": {},
   "source": [
    "# Check the shape of the data how it is arrange!!!!"
   ]
  },
  {
   "cell_type": "code",
   "execution_count": 16,
   "id": "439e83cd",
   "metadata": {},
   "outputs": [
    {
     "data": {
      "text/plain": [
       "torch.Size([60000, 28, 28])"
      ]
     },
     "execution_count": 16,
     "metadata": {},
     "output_type": "execute_result"
    }
   ],
   "source": [
    "train_data.data.shape"
   ]
  },
  {
   "cell_type": "code",
   "execution_count": 17,
   "id": "92ea2c1c",
   "metadata": {},
   "outputs": [
    {
     "data": {
      "text/plain": [
       "torch.Size([10000, 28, 28])"
      ]
     },
     "execution_count": 17,
     "metadata": {},
     "output_type": "execute_result"
    }
   ],
   "source": [
    "test_data.data.shape"
   ]
  },
  {
   "cell_type": "code",
   "execution_count": 18,
   "id": "11abf7e6",
   "metadata": {},
   "outputs": [
    {
     "data": {
      "text/plain": [
       "{'T-shirt/top': 0,\n",
       " 'Trouser': 1,\n",
       " 'Pullover': 2,\n",
       " 'Dress': 3,\n",
       " 'Coat': 4,\n",
       " 'Sandal': 5,\n",
       " 'Shirt': 6,\n",
       " 'Sneaker': 7,\n",
       " 'Bag': 8,\n",
       " 'Ankle boot': 9}"
      ]
     },
     "execution_count": 18,
     "metadata": {},
     "output_type": "execute_result"
    }
   ],
   "source": [
    "train_data.class_to_idx"
   ]
  },
  {
   "cell_type": "code",
   "execution_count": 21,
   "id": "7c47c144",
   "metadata": {},
   "outputs": [
    {
     "name": "stderr",
     "output_type": "stream",
     "text": [
      "D:\\PyTorch\\PyTorch_Tutorial\\env\\lib\\site-packages\\torchvision\\datasets\\mnist.py:65: UserWarning: train_labels has been renamed targets\n",
      "  warnings.warn(\"train_labels has been renamed targets\")\n"
     ]
    },
    {
     "data": {
      "text/plain": [
       "tensor([9, 0, 0,  ..., 3, 0, 5])"
      ]
     },
     "execution_count": 21,
     "metadata": {},
     "output_type": "execute_result"
    }
   ],
   "source": [
    "train_data.train_labels"
   ]
  },
  {
   "cell_type": "code",
   "execution_count": 22,
   "id": "da46b37c",
   "metadata": {},
   "outputs": [
    {
     "data": {
      "text/plain": [
       "tensor([9, 0, 0,  ..., 3, 0, 5])"
      ]
     },
     "execution_count": 22,
     "metadata": {},
     "output_type": "execute_result"
    }
   ],
   "source": [
    "train_data.targets"
   ]
  },
  {
   "cell_type": "code",
   "execution_count": 23,
   "id": "f96a252b",
   "metadata": {},
   "outputs": [
    {
     "data": {
      "text/plain": [
       "{'T-shirt/top': 0,\n",
       " 'Trouser': 1,\n",
       " 'Pullover': 2,\n",
       " 'Dress': 3,\n",
       " 'Coat': 4,\n",
       " 'Sandal': 5,\n",
       " 'Shirt': 6,\n",
       " 'Sneaker': 7,\n",
       " 'Bag': 8,\n",
       " 'Ankle boot': 9}"
      ]
     },
     "execution_count": 23,
     "metadata": {},
     "output_type": "execute_result"
    }
   ],
   "source": [
    "given_label_map=train_data.class_to_idx\n",
    "given_label_map"
   ]
  },
  {
   "cell_type": "code",
   "execution_count": 26,
   "id": "086c2e31",
   "metadata": {},
   "outputs": [
    {
     "data": {
      "text/plain": [
       "{'T-shirt/top': 0,\n",
       " 'Trouser': 1,\n",
       " 'Pullover': 2,\n",
       " 'Dress': 3,\n",
       " 'Coat': 4,\n",
       " 'Sandal': 5,\n",
       " 'Shirt': 6,\n",
       " 'Sneaker': 7,\n",
       " 'Bag': 8,\n",
       " 'Ankle boot': 9}"
      ]
     },
     "execution_count": 26,
     "metadata": {},
     "output_type": "execute_result"
    }
   ],
   "source": [
    "label_map_with_key_val={key: val for key, val in given_label_map.items()}\n",
    "label_map_with_key_val"
   ]
  },
  {
   "cell_type": "code",
   "execution_count": 27,
   "id": "70070a67",
   "metadata": {},
   "outputs": [
    {
     "data": {
      "text/plain": [
       "{0: 'T-shirt/top',\n",
       " 1: 'Trouser',\n",
       " 2: 'Pullover',\n",
       " 3: 'Dress',\n",
       " 4: 'Coat',\n",
       " 5: 'Sandal',\n",
       " 6: 'Shirt',\n",
       " 7: 'Sneaker',\n",
       " 8: 'Bag',\n",
       " 9: 'Ankle boot'}"
      ]
     },
     "execution_count": 27,
     "metadata": {},
     "output_type": "execute_result"
    }
   ],
   "source": [
    "label_map_with_val_key={val:key for key, val in given_label_map.items()}\n",
    "label_map_with_val_key"
   ]
  },
  {
   "cell_type": "markdown",
   "id": "092de328",
   "metadata": {},
   "source": [
    "# Visualize one of samples"
   ]
  },
  {
   "cell_type": "code",
   "execution_count": 28,
   "id": "277489df",
   "metadata": {},
   "outputs": [
    {
     "data": {
      "text/plain": [
       "<matplotlib.image.AxesImage at 0x1f06930e148>"
      ]
     },
     "execution_count": 28,
     "metadata": {},
     "output_type": "execute_result"
    },
    {
     "data": {
      "image/png": "[encoded data removed]",
      "text/plain": [
       "<Figure size 432x288 with 1 Axes>"
      ]
     },
     "metadata": {
      "needs_background": "light"
     },
     "output_type": "display_data"
    }
   ],
   "source": [
    "plt.imshow(train_data.data[0])"
   ]
  },
  {
   "cell_type": "code",
   "execution_count": 29,
   "id": "43b489a2",
   "metadata": {},
   "outputs": [
    {
     "data": {
      "text/plain": [
       "<matplotlib.image.AxesImage at 0x1f06941f608>"
      ]
     },
     "execution_count": 29,
     "metadata": {},
     "output_type": "execute_result"
    },
    {
     "data": {
      "image/png": "[encoded data removed]",
      "text/plain": [
       "<Figure size 432x288 with 1 Axes>"
      ]
     },
     "metadata": {
      "needs_background": "light"
     },
     "output_type": "display_data"
    }
   ],
   "source": [
    "plt.imshow(train_data.data[0], cmap='gray')"
   ]
  },
  {
   "cell_type": "code",
   "execution_count": 38,
   "id": "1e4aab8c",
   "metadata": {},
   "outputs": [
    {
     "data": {
      "text/plain": [
       "(-0.5, 27.5, 27.5, -0.5)"
      ]
     },
     "execution_count": 38,
     "metadata": {},
     "output_type": "execute_result"
    },
    {
     "data": {
      "image/png": "[encoded data removed]",
      "text/plain": [
       "<Figure size 432x288 with 1 Axes>"
      ]
     },
     "metadata": {
      "needs_background": "light"
     },
     "output_type": "display_data"
    }
   ],
   "source": [
    "idx=1\n",
    "plt.imshow(train_data.data[idx], cmap=\"gray\")\n",
    "#label_map_with_val_key[train_data.targets[idx].item()]\n",
    "plt.title(f\"data_label: {label_map_with_val_key[train_data.targets[idx].item()]}\")\n",
    "plt.axis(\"off\")"
   ]
  },
  {
   "cell_type": "code",
   "execution_count": 39,
   "id": "36502bf4",
   "metadata": {},
   "outputs": [
    {
     "data": {
      "image/png": "[encoded data removed]",
      "text/plain": [
       "<Figure size 432x288 with 1 Axes>"
      ]
     },
     "metadata": {
      "needs_background": "light"
     },
     "output_type": "display_data"
    }
   ],
   "source": [
    "def view_sample_img(data, idx, label_map):\n",
    "    plt.imshow(data.data[idx], cmap=\"gray\")\n",
    "    plt.title(f\"data label: {label_map[data.targets[idx].item()]}\")\n",
    "    plt.axis(\"off\")\n",
    "view_sample_img(train_data, 5, label_map_with_val_key)"
   ]
  },
  {
   "cell_type": "code",
   "execution_count": 35,
   "id": "b9f4eeba",
   "metadata": {},
   "outputs": [
    {
     "ename": "KeyError",
     "evalue": "0",
     "output_type": "error",
     "traceback": [
      "\u001b[1;31m---------------------------------------------------------------------------\u001b[0m",
      "\u001b[1;31mKeyError\u001b[0m                                  Traceback (most recent call last)",
      "\u001b[1;32m~\\AppData\\Local\\Temp\\ipykernel_7316\\1489226745.py\u001b[0m in \u001b[0;36m<module>\u001b[1;34m\u001b[0m\n\u001b[0;32m      1\u001b[0m \u001b[0mplt\u001b[0m\u001b[1;33m.\u001b[0m\u001b[0mimshow\u001b[0m\u001b[1;33m(\u001b[0m\u001b[0mtrain_data\u001b[0m\u001b[1;33m.\u001b[0m\u001b[0mdata\u001b[0m\u001b[1;33m[\u001b[0m\u001b[1;36m2\u001b[0m\u001b[1;33m]\u001b[0m\u001b[1;33m,\u001b[0m \u001b[0mcmap\u001b[0m\u001b[1;33m=\u001b[0m\u001b[1;34m\"gray\"\u001b[0m\u001b[1;33m)\u001b[0m\u001b[1;33m\u001b[0m\u001b[1;33m\u001b[0m\u001b[0m\n\u001b[0;32m      2\u001b[0m \u001b[1;31m#given_label_map[train_data.targets[2].item()]\u001b[0m\u001b[1;33m\u001b[0m\u001b[1;33m\u001b[0m\u001b[1;33m\u001b[0m\u001b[0m\n\u001b[1;32m----> 3\u001b[1;33m \u001b[0mlabel_map_with_key_val\u001b[0m\u001b[1;33m[\u001b[0m\u001b[0mtrain_data\u001b[0m\u001b[1;33m.\u001b[0m\u001b[0mtargets\u001b[0m\u001b[1;33m[\u001b[0m\u001b[1;36m2\u001b[0m\u001b[1;33m]\u001b[0m\u001b[1;33m.\u001b[0m\u001b[0mitem\u001b[0m\u001b[1;33m(\u001b[0m\u001b[1;33m)\u001b[0m\u001b[1;33m]\u001b[0m\u001b[1;33m\u001b[0m\u001b[1;33m\u001b[0m\u001b[0m\n\u001b[0m",
      "\u001b[1;31mKeyError\u001b[0m: 0"
     ]
    },
    {
     "data": {
      "image/png": "[encoded data removed]",
      "text/plain": [
       "<Figure size 432x288 with 1 Axes>"
      ]
     },
     "metadata": {
      "needs_background": "light"
     },
     "output_type": "display_data"
    }
   ],
   "source": [
    "plt.imshow(train_data.data[2], cmap=\"gray\")\n",
    "#given_label_map[train_data.targets[2].item()]\n",
    "label_map_with_key_val[train_data.targets[2].item()]"
   ]
  },
  {
   "cell_type": "markdown",
   "id": "996932b2",
   "metadata": {},
   "source": [
    "# Create the DataLoader"
   ]
  },
  {
   "cell_type": "code",
   "execution_count": 41,
   "id": "90561372",
   "metadata": {},
   "outputs": [],
   "source": [
    "train_data_loader=DataLoader(\n",
    "    dataset=train_data,\n",
    "    batch_size=config.BATCH_SIZE,\n",
    "    shuffle=True\n",
    ")\n",
    "\"\"\"\n",
    "DataLoader creates an iterator->so we can iterate over the train_data_loader one by one\n",
    "\"\"\"\n",
    "test_data_loader=DataLoader(\n",
    "    dataset=test_data,\n",
    "    batch_size=config.BATCH_SIZE,\n",
    "    shuffle=False# Normally we dont shuffle the test_data\n",
    ")"
   ]
  },
  {
   "cell_type": "code",
   "execution_count": 42,
   "id": "12f5ae1c",
   "metadata": {},
   "outputs": [
    {
     "name": "stdout",
     "output_type": "stream",
     "text": [
      "torch.Size([32, 1, 28, 28])\n",
      "torch.Size([32])\n"
     ]
    }
   ],
   "source": [
    "for images, labels in test_data_loader:\n",
    "    print(images.shape)\n",
    "    print(labels.shape)\n",
    "    break"
   ]
  },
  {
   "cell_type": "code",
   "execution_count": 43,
   "id": "bc195289",
   "metadata": {},
   "outputs": [
    {
     "data": {
      "text/plain": [
       "tensor([[[[0.0000, 0.0000, 0.0000,  ..., 0.0000, 0.0000, 0.0000],\n",
       "          [0.0000, 0.0000, 0.0000,  ..., 0.0000, 0.0000, 0.0000],\n",
       "          [0.0000, 0.0000, 0.0000,  ..., 0.0000, 0.0000, 0.0000],\n",
       "          ...,\n",
       "          [0.0000, 0.0000, 0.0000,  ..., 0.0000, 0.0000, 0.0000],\n",
       "          [0.0000, 0.0000, 0.0000,  ..., 0.0000, 0.0000, 0.0000],\n",
       "          [0.0000, 0.0000, 0.0000,  ..., 0.0000, 0.0000, 0.0000]]],\n",
       "\n",
       "\n",
       "        [[[0.0000, 0.0000, 0.0000,  ..., 0.0000, 0.0000, 0.0000],\n",
       "          [0.0000, 0.0000, 0.0000,  ..., 0.0000, 0.0000, 0.0000],\n",
       "          [0.0000, 0.0000, 0.0000,  ..., 0.0000, 0.0000, 0.0000],\n",
       "          ...,\n",
       "          [0.0000, 0.0000, 0.0000,  ..., 0.0000, 0.0000, 0.0000],\n",
       "          [0.0000, 0.0000, 0.0000,  ..., 0.0000, 0.0000, 0.0000],\n",
       "          [0.0000, 0.0000, 0.0000,  ..., 0.0000, 0.0000, 0.0000]]],\n",
       "\n",
       "\n",
       "        [[[0.0000, 0.0000, 0.0000,  ..., 0.0000, 0.0000, 0.0000],\n",
       "          [0.0000, 0.0000, 0.0000,  ..., 0.0000, 0.0000, 0.0000],\n",
       "          [0.0000, 0.0000, 0.0000,  ..., 0.0000, 0.0000, 0.0000],\n",
       "          ...,\n",
       "          [0.0000, 0.0000, 0.0000,  ..., 0.0000, 0.0000, 0.0000],\n",
       "          [0.0000, 0.0000, 0.0000,  ..., 0.0000, 0.0000, 0.0000],\n",
       "          [0.0000, 0.0000, 0.0000,  ..., 0.0000, 0.0000, 0.0000]]],\n",
       "\n",
       "\n",
       "        ...,\n",
       "\n",
       "\n",
       "        [[[0.0000, 0.0000, 0.0000,  ..., 0.0000, 0.0000, 0.0000],\n",
       "          [0.0000, 0.0000, 0.0000,  ..., 0.0000, 0.0000, 0.0000],\n",
       "          [0.0000, 0.0000, 0.0000,  ..., 0.0000, 0.0000, 0.0000],\n",
       "          ...,\n",
       "          [0.0000, 0.0000, 0.0000,  ..., 0.0000, 0.0000, 0.0000],\n",
       "          [0.0000, 0.0000, 0.0000,  ..., 0.0000, 0.0000, 0.0000],\n",
       "          [0.0000, 0.0000, 0.0000,  ..., 0.0000, 0.0000, 0.0000]]],\n",
       "\n",
       "\n",
       "        [[[0.0000, 0.0000, 0.0000,  ..., 0.0000, 0.0000, 0.0000],\n",
       "          [0.0000, 0.0000, 0.0000,  ..., 0.0000, 0.0000, 0.0000],\n",
       "          [0.0000, 0.0000, 0.0000,  ..., 0.0000, 0.0000, 0.0000],\n",
       "          ...,\n",
       "          [0.0000, 0.0000, 0.0000,  ..., 0.9020, 0.9608, 0.8000],\n",
       "          [0.0000, 0.0000, 0.0000,  ..., 0.6745, 0.7255, 0.4000],\n",
       "          [0.0000, 0.0000, 0.0000,  ..., 0.0000, 0.0000, 0.0000]]],\n",
       "\n",
       "\n",
       "        [[[0.0000, 0.0000, 0.0000,  ..., 0.0000, 0.0000, 0.0000],\n",
       "          [0.0000, 0.0000, 0.0000,  ..., 0.0000, 0.0000, 0.0000],\n",
       "          [0.0000, 0.0000, 0.0000,  ..., 0.0000, 0.0000, 0.0000],\n",
       "          ...,\n",
       "          [0.0000, 0.0000, 0.0000,  ..., 0.0000, 0.0000, 0.0000],\n",
       "          [0.0000, 0.0000, 0.0000,  ..., 0.0000, 0.0000, 0.0000],\n",
       "          [0.0000, 0.0000, 0.0000,  ..., 0.0000, 0.0000, 0.0000]]]])"
      ]
     },
     "execution_count": 43,
     "metadata": {},
     "output_type": "execute_result"
    }
   ],
   "source": [
    "images"
   ]
  },
  {
   "cell_type": "code",
   "execution_count": 44,
   "id": "a07bcddd",
   "metadata": {},
   "outputs": [
    {
     "data": {
      "text/plain": [
       "tensor([[[0.0000, 0.0000, 0.0000, 0.0000, 0.0000, 0.0000, 0.0000, 0.0000,\n",
       "          0.0000, 0.0000, 0.0000, 0.0000, 0.0000, 0.0000, 0.0000, 0.0000,\n",
       "          0.0000, 0.0000, 0.0000, 0.0000, 0.0000, 0.0000, 0.0000, 0.0000,\n",
       "          0.0000, 0.0000, 0.0000, 0.0000],\n",
       "         [0.0000, 0.0000, 0.0000, 0.0000, 0.0000, 0.0000, 0.0000, 0.0000,\n",
       "          0.0000, 0.0000, 0.0000, 0.0000, 0.0000, 0.0000, 0.0000, 0.0000,\n",
       "          0.0000, 0.0000, 0.0000, 0.0000, 0.0000, 0.0000, 0.0000, 0.0000,\n",
       "          0.0000, 0.0000, 0.0000, 0.0000],\n",
       "         [0.0000, 0.0000, 0.0000, 0.0000, 0.0000, 0.0000, 0.0000, 0.0000,\n",
       "          0.0000, 0.0000, 0.0000, 0.0000, 0.0000, 0.0000, 0.0000, 0.0000,\n",
       "          0.0000, 0.0000, 0.0000, 0.0000, 0.0000, 0.0000, 0.0000, 0.0000,\n",
       "          0.0000, 0.0000, 0.0000, 0.0000],\n",
       "         [0.0000, 0.0000, 0.0000, 0.0000, 0.0000, 0.0000, 0.0000, 0.0000,\n",
       "          0.0000, 0.0000, 0.0000, 0.0000, 0.0000, 0.0000, 0.0000, 0.0000,\n",
       "          0.0000, 0.0000, 0.0000, 0.0000, 0.0000, 0.0000, 0.0000, 0.0000,\n",
       "          0.0000, 0.0000, 0.0000, 0.0000],\n",
       "         [0.0000, 0.0000, 0.0000, 0.0000, 0.0000, 0.0000, 0.0000, 0.0000,\n",
       "          0.0000, 0.0000, 0.0000, 0.0000, 0.0000, 0.0000, 0.0000, 0.0000,\n",
       "          0.0000, 0.0000, 0.0000, 0.0000, 0.0000, 0.0000, 0.0000, 0.0000,\n",
       "          0.0000, 0.0000, 0.0000, 0.0000],\n",
       "         [0.0000, 0.0000, 0.0000, 0.0000, 0.0000, 0.0000, 0.0000, 0.0000,\n",
       "          0.0000, 0.0000, 0.0000, 0.0000, 0.0000, 0.0000, 0.0000, 0.0000,\n",
       "          0.0000, 0.0000, 0.0000, 0.0000, 0.0000, 0.0000, 0.0000, 0.0000,\n",
       "          0.0000, 0.0000, 0.0000, 0.0000],\n",
       "         [0.0000, 0.0000, 0.0000, 0.0000, 0.0000, 0.0000, 0.0000, 0.0000,\n",
       "          0.0000, 0.0000, 0.0000, 0.0000, 0.0000, 0.0000, 0.0000, 0.0000,\n",
       "          0.0000, 0.0000, 0.0000, 0.0000, 0.0000, 0.0000, 0.0000, 0.0000,\n",
       "          0.0000, 0.0000, 0.0000, 0.0000],\n",
       "         [0.0000, 0.0000, 0.0000, 0.0000, 0.0000, 0.0000, 0.0000, 0.0000,\n",
       "          0.0000, 0.0000, 0.0000, 0.0000, 0.0000, 0.0000, 0.0000, 0.0000,\n",
       "          0.0000, 0.0000, 0.0000, 0.0118, 0.0039, 0.0000, 0.0000, 0.0275,\n",
       "          0.0000, 0.1451, 0.0000, 0.0000],\n",
       "         [0.0000, 0.0000, 0.0000, 0.0000, 0.0000, 0.0000, 0.0000, 0.0000,\n",
       "          0.0000, 0.0000, 0.0000, 0.0000, 0.0000, 0.0039, 0.0078, 0.0000,\n",
       "          0.1059, 0.3294, 0.0431, 0.0000, 0.0000, 0.0000, 0.0000, 0.0000,\n",
       "          0.0000, 0.4667, 0.0000, 0.0000],\n",
       "         [0.0000, 0.0000, 0.0000, 0.0000, 0.0000, 0.0000, 0.0000, 0.0000,\n",
       "          0.0000, 0.0000, 0.0000, 0.0000, 0.0000, 0.0039, 0.0000, 0.0000,\n",
       "          0.3451, 0.5608, 0.4314, 0.0000, 0.0000, 0.0000, 0.0000, 0.0863,\n",
       "          0.3647, 0.4157, 0.0000, 0.0000],\n",
       "         [0.0000, 0.0000, 0.0000, 0.0000, 0.0000, 0.0000, 0.0000, 0.0000,\n",
       "          0.0000, 0.0000, 0.0000, 0.0000, 0.0000, 0.0157, 0.0000, 0.2078,\n",
       "          0.5059, 0.4706, 0.5765, 0.6863, 0.6157, 0.6510, 0.5294, 0.6039,\n",
       "          0.6588, 0.5490, 0.0000, 0.0000],\n",
       "         [0.0000, 0.0000, 0.0000, 0.0000, 0.0000, 0.0000, 0.0000, 0.0000,\n",
       "          0.0000, 0.0000, 0.0000, 0.0000, 0.0078, 0.0000, 0.0431, 0.5373,\n",
       "          0.5098, 0.5020, 0.6275, 0.6902, 0.6235, 0.6549, 0.6980, 0.5843,\n",
       "          0.5922, 0.5647, 0.0000, 0.0000],\n",
       "         [0.0000, 0.0000, 0.0000, 0.0000, 0.0000, 0.0000, 0.0039, 0.0000,\n",
       "          0.0078, 0.0039, 0.0000, 0.0118, 0.0000, 0.0000, 0.4510, 0.4471,\n",
       "          0.4157, 0.5373, 0.6588, 0.6000, 0.6118, 0.6471, 0.6549, 0.5608,\n",
       "          0.6157, 0.6196, 0.0431, 0.0000],\n",
       "         [0.0000, 0.0000, 0.0000, 0.0000, 0.0039, 0.0000, 0.0000, 0.0000,\n",
       "          0.0000, 0.0000, 0.0118, 0.0000, 0.0000, 0.3490, 0.5451, 0.3529,\n",
       "          0.3686, 0.6000, 0.5843, 0.5137, 0.5922, 0.6627, 0.6745, 0.5608,\n",
       "          0.6235, 0.6627, 0.1882, 0.0000],\n",
       "         [0.0000, 0.0000, 0.0000, 0.0000, 0.0000, 0.0000, 0.0078, 0.0157,\n",
       "          0.0039, 0.0000, 0.0000, 0.0000, 0.3843, 0.5333, 0.4314, 0.4275,\n",
       "          0.4314, 0.6353, 0.5294, 0.5647, 0.5843, 0.6235, 0.6549, 0.5647,\n",
       "          0.6196, 0.6627, 0.4667, 0.0000],\n",
       "         [0.0000, 0.0000, 0.0078, 0.0078, 0.0039, 0.0078, 0.0000, 0.0000,\n",
       "          0.0000, 0.0000, 0.1020, 0.4235, 0.4588, 0.3882, 0.4353, 0.4588,\n",
       "          0.5333, 0.6118, 0.5255, 0.6039, 0.6039, 0.6118, 0.6275, 0.5529,\n",
       "          0.5765, 0.6118, 0.6980, 0.0000],\n",
       "         [0.0118, 0.0000, 0.0000, 0.0000, 0.0000, 0.0000, 0.0000, 0.0824,\n",
       "          0.2078, 0.3608, 0.4588, 0.4353, 0.4039, 0.4510, 0.5059, 0.5255,\n",
       "          0.5608, 0.6039, 0.6471, 0.6667, 0.6039, 0.5922, 0.6039, 0.5608,\n",
       "          0.5412, 0.5882, 0.6471, 0.1686],\n",
       "         [0.0000, 0.0000, 0.0902, 0.2118, 0.2549, 0.2980, 0.3333, 0.4627,\n",
       "          0.5020, 0.4824, 0.4353, 0.4431, 0.4627, 0.4980, 0.4902, 0.5451,\n",
       "          0.5216, 0.5333, 0.6275, 0.5490, 0.6078, 0.6314, 0.5647, 0.6078,\n",
       "          0.6745, 0.6314, 0.7412, 0.2431],\n",
       "         [0.0000, 0.2667, 0.3686, 0.3529, 0.4353, 0.4471, 0.4353, 0.4471,\n",
       "          0.4510, 0.4980, 0.5294, 0.5333, 0.5608, 0.4941, 0.4980, 0.5922,\n",
       "          0.6039, 0.5608, 0.5804, 0.4902, 0.6353, 0.6353, 0.5647, 0.5412,\n",
       "          0.6000, 0.6353, 0.7686, 0.2275],\n",
       "         [0.2745, 0.6627, 0.5059, 0.4078, 0.3843, 0.3922, 0.3686, 0.3804,\n",
       "          0.3843, 0.4000, 0.4235, 0.4157, 0.4667, 0.4706, 0.5059, 0.5843,\n",
       "          0.6118, 0.6549, 0.7451, 0.7451, 0.7686, 0.7765, 0.7765, 0.7333,\n",
       "          0.7725, 0.7412, 0.7216, 0.1412],\n",
       "         [0.0627, 0.4941, 0.6706, 0.7373, 0.7373, 0.7216, 0.6706, 0.6000,\n",
       "          0.5294, 0.4706, 0.4941, 0.4980, 0.5725, 0.7255, 0.7647, 0.8196,\n",
       "          0.8157, 1.0000, 0.8196, 0.6941, 0.9608, 0.9882, 0.9843, 0.9843,\n",
       "          0.9686, 0.8627, 0.8078, 0.1922],\n",
       "         [0.0000, 0.0000, 0.0000, 0.0471, 0.2627, 0.4157, 0.6431, 0.7255,\n",
       "          0.7804, 0.8235, 0.8275, 0.8235, 0.8157, 0.7451, 0.5882, 0.3216,\n",
       "          0.0314, 0.0000, 0.0000, 0.0000, 0.6980, 0.8157, 0.7373, 0.6863,\n",
       "          0.6353, 0.6196, 0.5922, 0.0431],\n",
       "         [0.0000, 0.0000, 0.0000, 0.0000, 0.0000, 0.0000, 0.0000, 0.0000,\n",
       "          0.0000, 0.0000, 0.0000, 0.0000, 0.0000, 0.0000, 0.0000, 0.0000,\n",
       "          0.0000, 0.0000, 0.0000, 0.0000, 0.0000, 0.0000, 0.0000, 0.0000,\n",
       "          0.0000, 0.0000, 0.0000, 0.0000],\n",
       "         [0.0000, 0.0000, 0.0000, 0.0000, 0.0000, 0.0000, 0.0000, 0.0000,\n",
       "          0.0000, 0.0000, 0.0000, 0.0000, 0.0000, 0.0000, 0.0000, 0.0000,\n",
       "          0.0000, 0.0000, 0.0000, 0.0000, 0.0000, 0.0000, 0.0000, 0.0000,\n",
       "          0.0000, 0.0000, 0.0000, 0.0000],\n",
       "         [0.0000, 0.0000, 0.0000, 0.0000, 0.0000, 0.0000, 0.0000, 0.0000,\n",
       "          0.0000, 0.0000, 0.0000, 0.0000, 0.0000, 0.0000, 0.0000, 0.0000,\n",
       "          0.0000, 0.0000, 0.0000, 0.0000, 0.0000, 0.0000, 0.0000, 0.0000,\n",
       "          0.0000, 0.0000, 0.0000, 0.0000],\n",
       "         [0.0000, 0.0000, 0.0000, 0.0000, 0.0000, 0.0000, 0.0000, 0.0000,\n",
       "          0.0000, 0.0000, 0.0000, 0.0000, 0.0000, 0.0000, 0.0000, 0.0000,\n",
       "          0.0000, 0.0000, 0.0000, 0.0000, 0.0000, 0.0000, 0.0000, 0.0000,\n",
       "          0.0000, 0.0000, 0.0000, 0.0000],\n",
       "         [0.0000, 0.0000, 0.0000, 0.0000, 0.0000, 0.0000, 0.0000, 0.0000,\n",
       "          0.0000, 0.0000, 0.0000, 0.0000, 0.0000, 0.0000, 0.0000, 0.0000,\n",
       "          0.0000, 0.0000, 0.0000, 0.0000, 0.0000, 0.0000, 0.0000, 0.0000,\n",
       "          0.0000, 0.0000, 0.0000, 0.0000],\n",
       "         [0.0000, 0.0000, 0.0000, 0.0000, 0.0000, 0.0000, 0.0000, 0.0000,\n",
       "          0.0000, 0.0000, 0.0000, 0.0000, 0.0000, 0.0000, 0.0000, 0.0000,\n",
       "          0.0000, 0.0000, 0.0000, 0.0000, 0.0000, 0.0000, 0.0000, 0.0000,\n",
       "          0.0000, 0.0000, 0.0000, 0.0000]]])"
      ]
     },
     "execution_count": 44,
     "metadata": {},
     "output_type": "execute_result"
    }
   ],
   "source": [
    "# Acces the first batch\n",
    "images[0]"
   ]
  },
  {
   "cell_type": "code",
   "execution_count": 45,
   "id": "0c818df8",
   "metadata": {},
   "outputs": [
    {
     "data": {
      "text/plain": [
       "torch.Size([1, 28, 28])"
      ]
     },
     "execution_count": 45,
     "metadata": {},
     "output_type": "execute_result"
    }
   ],
   "source": [
    "images[0].shape"
   ]
  },
  {
   "cell_type": "code",
   "execution_count": 46,
   "id": "caca977a",
   "metadata": {},
   "outputs": [
    {
     "data": {
      "text/plain": [
       "torch.Size([1, 28, 28])"
      ]
     },
     "execution_count": 46,
     "metadata": {},
     "output_type": "execute_result"
    }
   ],
   "source": [
    "images[1].shape"
   ]
  },
  {
   "cell_type": "code",
   "execution_count": 47,
   "id": "db5645ea",
   "metadata": {},
   "outputs": [
    {
     "ename": "TypeError",
     "evalue": "Invalid shape (1, 28, 28) for image data",
     "output_type": "error",
     "traceback": [
      "\u001b[1;31m---------------------------------------------------------------------------\u001b[0m",
      "\u001b[1;31mTypeError\u001b[0m                                 Traceback (most recent call last)",
      "\u001b[1;32m~\\AppData\\Local\\Temp\\ipykernel_7316\\2522155480.py\u001b[0m in \u001b[0;36m<module>\u001b[1;34m\u001b[0m\n\u001b[1;32m----> 1\u001b[1;33m \u001b[0mplt\u001b[0m\u001b[1;33m.\u001b[0m\u001b[0mimshow\u001b[0m\u001b[1;33m(\u001b[0m\u001b[0mimages\u001b[0m\u001b[1;33m[\u001b[0m\u001b[1;36m0\u001b[0m\u001b[1;33m]\u001b[0m\u001b[1;33m)\u001b[0m\u001b[1;33m\u001b[0m\u001b[1;33m\u001b[0m\u001b[0m\n\u001b[0m",
      "\u001b[1;32mD:\\PyTorch\\PyTorch_Tutorial\\env\\lib\\site-packages\\matplotlib\\_api\\deprecation.py\u001b[0m in \u001b[0;36mwrapper\u001b[1;34m(*args, **kwargs)\u001b[0m\n\u001b[0;32m    457\u001b[0m                 \u001b[1;34m\"parameter will become keyword-only %(removal)s.\"\u001b[0m\u001b[1;33m,\u001b[0m\u001b[1;33m\u001b[0m\u001b[1;33m\u001b[0m\u001b[0m\n\u001b[0;32m    458\u001b[0m                 name=name, obj_type=f\"parameter of {func.__name__}()\")\n\u001b[1;32m--> 459\u001b[1;33m         \u001b[1;32mreturn\u001b[0m \u001b[0mfunc\u001b[0m\u001b[1;33m(\u001b[0m\u001b[1;33m*\u001b[0m\u001b[0margs\u001b[0m\u001b[1;33m,\u001b[0m \u001b[1;33m**\u001b[0m\u001b[0mkwargs\u001b[0m\u001b[1;33m)\u001b[0m\u001b[1;33m\u001b[0m\u001b[1;33m\u001b[0m\u001b[0m\n\u001b[0m\u001b[0;32m    460\u001b[0m \u001b[1;33m\u001b[0m\u001b[0m\n\u001b[0;32m    461\u001b[0m     \u001b[1;31m# Don't modify *func*'s signature, as boilerplate.py needs it.\u001b[0m\u001b[1;33m\u001b[0m\u001b[1;33m\u001b[0m\u001b[1;33m\u001b[0m\u001b[0m\n",
      "\u001b[1;32mD:\\PyTorch\\PyTorch_Tutorial\\env\\lib\\site-packages\\matplotlib\\pyplot.py\u001b[0m in \u001b[0;36mimshow\u001b[1;34m(X, cmap, norm, aspect, interpolation, alpha, vmin, vmax, origin, extent, interpolation_stage, filternorm, filterrad, resample, url, data, **kwargs)\u001b[0m\n\u001b[0;32m   2657\u001b[0m         \u001b[0mfilternorm\u001b[0m\u001b[1;33m=\u001b[0m\u001b[0mfilternorm\u001b[0m\u001b[1;33m,\u001b[0m \u001b[0mfilterrad\u001b[0m\u001b[1;33m=\u001b[0m\u001b[0mfilterrad\u001b[0m\u001b[1;33m,\u001b[0m \u001b[0mresample\u001b[0m\u001b[1;33m=\u001b[0m\u001b[0mresample\u001b[0m\u001b[1;33m,\u001b[0m\u001b[1;33m\u001b[0m\u001b[1;33m\u001b[0m\u001b[0m\n\u001b[0;32m   2658\u001b[0m         \u001b[0murl\u001b[0m\u001b[1;33m=\u001b[0m\u001b[0murl\u001b[0m\u001b[1;33m,\u001b[0m \u001b[1;33m**\u001b[0m\u001b[1;33m(\u001b[0m\u001b[1;33m{\u001b[0m\u001b[1;34m\"data\"\u001b[0m\u001b[1;33m:\u001b[0m \u001b[0mdata\u001b[0m\u001b[1;33m}\u001b[0m \u001b[1;32mif\u001b[0m \u001b[0mdata\u001b[0m \u001b[1;32mis\u001b[0m \u001b[1;32mnot\u001b[0m \u001b[1;32mNone\u001b[0m \u001b[1;32melse\u001b[0m \u001b[1;33m{\u001b[0m\u001b[1;33m}\u001b[0m\u001b[1;33m)\u001b[0m\u001b[1;33m,\u001b[0m\u001b[1;33m\u001b[0m\u001b[1;33m\u001b[0m\u001b[0m\n\u001b[1;32m-> 2659\u001b[1;33m         **kwargs)\n\u001b[0m\u001b[0;32m   2660\u001b[0m     \u001b[0msci\u001b[0m\u001b[1;33m(\u001b[0m\u001b[0m__ret\u001b[0m\u001b[1;33m)\u001b[0m\u001b[1;33m\u001b[0m\u001b[1;33m\u001b[0m\u001b[0m\n\u001b[0;32m   2661\u001b[0m     \u001b[1;32mreturn\u001b[0m \u001b[0m__ret\u001b[0m\u001b[1;33m\u001b[0m\u001b[1;33m\u001b[0m\u001b[0m\n",
      "\u001b[1;32mD:\\PyTorch\\PyTorch_Tutorial\\env\\lib\\site-packages\\matplotlib\\_api\\deprecation.py\u001b[0m in \u001b[0;36mwrapper\u001b[1;34m(*args, **kwargs)\u001b[0m\n\u001b[0;32m    457\u001b[0m                 \u001b[1;34m\"parameter will become keyword-only %(removal)s.\"\u001b[0m\u001b[1;33m,\u001b[0m\u001b[1;33m\u001b[0m\u001b[1;33m\u001b[0m\u001b[0m\n\u001b[0;32m    458\u001b[0m                 name=name, obj_type=f\"parameter of {func.__name__}()\")\n\u001b[1;32m--> 459\u001b[1;33m         \u001b[1;32mreturn\u001b[0m \u001b[0mfunc\u001b[0m\u001b[1;33m(\u001b[0m\u001b[1;33m*\u001b[0m\u001b[0margs\u001b[0m\u001b[1;33m,\u001b[0m \u001b[1;33m**\u001b[0m\u001b[0mkwargs\u001b[0m\u001b[1;33m)\u001b[0m\u001b[1;33m\u001b[0m\u001b[1;33m\u001b[0m\u001b[0m\n\u001b[0m\u001b[0;32m    460\u001b[0m \u001b[1;33m\u001b[0m\u001b[0m\n\u001b[0;32m    461\u001b[0m     \u001b[1;31m# Don't modify *func*'s signature, as boilerplate.py needs it.\u001b[0m\u001b[1;33m\u001b[0m\u001b[1;33m\u001b[0m\u001b[1;33m\u001b[0m\u001b[0m\n",
      "\u001b[1;32mD:\\PyTorch\\PyTorch_Tutorial\\env\\lib\\site-packages\\matplotlib\\__init__.py\u001b[0m in \u001b[0;36minner\u001b[1;34m(ax, data, *args, **kwargs)\u001b[0m\n\u001b[0;32m   1410\u001b[0m     \u001b[1;32mdef\u001b[0m \u001b[0minner\u001b[0m\u001b[1;33m(\u001b[0m\u001b[0max\u001b[0m\u001b[1;33m,\u001b[0m \u001b[1;33m*\u001b[0m\u001b[0margs\u001b[0m\u001b[1;33m,\u001b[0m \u001b[0mdata\u001b[0m\u001b[1;33m=\u001b[0m\u001b[1;32mNone\u001b[0m\u001b[1;33m,\u001b[0m \u001b[1;33m**\u001b[0m\u001b[0mkwargs\u001b[0m\u001b[1;33m)\u001b[0m\u001b[1;33m:\u001b[0m\u001b[1;33m\u001b[0m\u001b[1;33m\u001b[0m\u001b[0m\n\u001b[0;32m   1411\u001b[0m         \u001b[1;32mif\u001b[0m \u001b[0mdata\u001b[0m \u001b[1;32mis\u001b[0m \u001b[1;32mNone\u001b[0m\u001b[1;33m:\u001b[0m\u001b[1;33m\u001b[0m\u001b[1;33m\u001b[0m\u001b[0m\n\u001b[1;32m-> 1412\u001b[1;33m             \u001b[1;32mreturn\u001b[0m \u001b[0mfunc\u001b[0m\u001b[1;33m(\u001b[0m\u001b[0max\u001b[0m\u001b[1;33m,\u001b[0m \u001b[1;33m*\u001b[0m\u001b[0mmap\u001b[0m\u001b[1;33m(\u001b[0m\u001b[0msanitize_sequence\u001b[0m\u001b[1;33m,\u001b[0m \u001b[0margs\u001b[0m\u001b[1;33m)\u001b[0m\u001b[1;33m,\u001b[0m \u001b[1;33m**\u001b[0m\u001b[0mkwargs\u001b[0m\u001b[1;33m)\u001b[0m\u001b[1;33m\u001b[0m\u001b[1;33m\u001b[0m\u001b[0m\n\u001b[0m\u001b[0;32m   1413\u001b[0m \u001b[1;33m\u001b[0m\u001b[0m\n\u001b[0;32m   1414\u001b[0m         \u001b[0mbound\u001b[0m \u001b[1;33m=\u001b[0m \u001b[0mnew_sig\u001b[0m\u001b[1;33m.\u001b[0m\u001b[0mbind\u001b[0m\u001b[1;33m(\u001b[0m\u001b[0max\u001b[0m\u001b[1;33m,\u001b[0m \u001b[1;33m*\u001b[0m\u001b[0margs\u001b[0m\u001b[1;33m,\u001b[0m \u001b[1;33m**\u001b[0m\u001b[0mkwargs\u001b[0m\u001b[1;33m)\u001b[0m\u001b[1;33m\u001b[0m\u001b[1;33m\u001b[0m\u001b[0m\n",
      "\u001b[1;32mD:\\PyTorch\\PyTorch_Tutorial\\env\\lib\\site-packages\\matplotlib\\axes\\_axes.py\u001b[0m in \u001b[0;36mimshow\u001b[1;34m(self, X, cmap, norm, aspect, interpolation, alpha, vmin, vmax, origin, extent, interpolation_stage, filternorm, filterrad, resample, url, **kwargs)\u001b[0m\n\u001b[0;32m   5479\u001b[0m                               **kwargs)\n\u001b[0;32m   5480\u001b[0m \u001b[1;33m\u001b[0m\u001b[0m\n\u001b[1;32m-> 5481\u001b[1;33m         \u001b[0mim\u001b[0m\u001b[1;33m.\u001b[0m\u001b[0mset_data\u001b[0m\u001b[1;33m(\u001b[0m\u001b[0mX\u001b[0m\u001b[1;33m)\u001b[0m\u001b[1;33m\u001b[0m\u001b[1;33m\u001b[0m\u001b[0m\n\u001b[0m\u001b[0;32m   5482\u001b[0m         \u001b[0mim\u001b[0m\u001b[1;33m.\u001b[0m\u001b[0mset_alpha\u001b[0m\u001b[1;33m(\u001b[0m\u001b[0malpha\u001b[0m\u001b[1;33m)\u001b[0m\u001b[1;33m\u001b[0m\u001b[1;33m\u001b[0m\u001b[0m\n\u001b[0;32m   5483\u001b[0m         \u001b[1;32mif\u001b[0m \u001b[0mim\u001b[0m\u001b[1;33m.\u001b[0m\u001b[0mget_clip_path\u001b[0m\u001b[1;33m(\u001b[0m\u001b[1;33m)\u001b[0m \u001b[1;32mis\u001b[0m \u001b[1;32mNone\u001b[0m\u001b[1;33m:\u001b[0m\u001b[1;33m\u001b[0m\u001b[1;33m\u001b[0m\u001b[0m\n",
      "\u001b[1;32mD:\\PyTorch\\PyTorch_Tutorial\\env\\lib\\site-packages\\matplotlib\\image.py\u001b[0m in \u001b[0;36mset_data\u001b[1;34m(self, A)\u001b[0m\n\u001b[0;32m    714\u001b[0m                 or self._A.ndim == 3 and self._A.shape[-1] in [3, 4]):\n\u001b[0;32m    715\u001b[0m             raise TypeError(\"Invalid shape {} for image data\"\n\u001b[1;32m--> 716\u001b[1;33m                             .format(self._A.shape))\n\u001b[0m\u001b[0;32m    717\u001b[0m \u001b[1;33m\u001b[0m\u001b[0m\n\u001b[0;32m    718\u001b[0m         \u001b[1;32mif\u001b[0m \u001b[0mself\u001b[0m\u001b[1;33m.\u001b[0m\u001b[0m_A\u001b[0m\u001b[1;33m.\u001b[0m\u001b[0mndim\u001b[0m \u001b[1;33m==\u001b[0m \u001b[1;36m3\u001b[0m\u001b[1;33m:\u001b[0m\u001b[1;33m\u001b[0m\u001b[1;33m\u001b[0m\u001b[0m\n",
      "\u001b[1;31mTypeError\u001b[0m: Invalid shape (1, 28, 28) for image data"
     ]
    },
    {
     "data": {
      "image/png": "[encoded data removed]",
      "text/plain": [
       "<Figure size 432x288 with 1 Axes>"
      ]
     },
     "metadata": {
      "needs_background": "light"
     },
     "output_type": "display_data"
    }
   ],
   "source": [
    "plt.imshow(images[0])"
   ]
  },
  {
   "cell_type": "code",
   "execution_count": 50,
   "id": "f5c71336",
   "metadata": {},
   "outputs": [
    {
     "data": {
      "text/plain": [
       "<matplotlib.image.AxesImage at 0x1f06d8d2108>"
      ]
     },
     "execution_count": 50,
     "metadata": {},
     "output_type": "execute_result"
    },
    {
     "data": {
      "image/png": "[encoded data removed]",
      "text/plain": [
       "<Figure size 432x288 with 1 Axes>"
      ]
     },
     "metadata": {
      "needs_background": "light"
     },
     "output_type": "display_data"
    }
   ],
   "source": [
    "plt.imshow(images[0].permute(1,2,0))"
   ]
  },
  {
   "cell_type": "code",
   "execution_count": 51,
   "id": "0d0502b6",
   "metadata": {},
   "outputs": [
    {
     "data": {
      "text/plain": [
       "torch.Size([28, 28])"
      ]
     },
     "execution_count": 51,
     "metadata": {},
     "output_type": "execute_result"
    }
   ],
   "source": [
    "images[0].squeeze().shape"
   ]
  },
  {
   "cell_type": "code",
   "execution_count": 53,
   "id": "ce80bd97",
   "metadata": {},
   "outputs": [
    {
     "data": {
      "text/plain": [
       "array([[0.        , 0.        , 0.        , 0.        , 0.        ,\n",
       "        0.        , 0.        , 0.        , 0.        , 0.        ,\n",
       "        0.        , 0.        , 0.        , 0.        , 0.        ,\n",
       "        0.        , 0.        , 0.        , 0.        , 0.        ,\n",
       "        0.        , 0.        , 0.        , 0.        , 0.        ,\n",
       "        0.        , 0.        , 0.        ],\n",
       "       [0.        , 0.        , 0.        , 0.        , 0.        ,\n",
       "        0.        , 0.        , 0.        , 0.        , 0.        ,\n",
       "        0.        , 0.        , 0.        , 0.        , 0.        ,\n",
       "        0.        , 0.        , 0.        , 0.        , 0.        ,\n",
       "        0.        , 0.        , 0.        , 0.        , 0.        ,\n",
       "        0.        , 0.        , 0.        ],\n",
       "       [0.        , 0.        , 0.        , 0.        , 0.        ,\n",
       "        0.        , 0.        , 0.        , 0.        , 0.        ,\n",
       "        0.        , 0.        , 0.        , 0.        , 0.        ,\n",
       "        0.        , 0.        , 0.        , 0.        , 0.        ,\n",
       "        0.        , 0.        , 0.        , 0.        , 0.        ,\n",
       "        0.        , 0.        , 0.        ],\n",
       "       [0.        , 0.        , 0.        , 0.        , 0.        ,\n",
       "        0.        , 0.        , 0.        , 0.        , 0.        ,\n",
       "        0.        , 0.        , 0.        , 0.        , 0.        ,\n",
       "        0.        , 0.        , 0.        , 0.        , 0.        ,\n",
       "        0.        , 0.        , 0.        , 0.        , 0.        ,\n",
       "        0.        , 0.        , 0.        ],\n",
       "       [0.        , 0.        , 0.        , 0.        , 0.        ,\n",
       "        0.        , 0.        , 0.        , 0.        , 0.        ,\n",
       "        0.        , 0.        , 0.        , 0.        , 0.        ,\n",
       "        0.        , 0.        , 0.        , 0.        , 0.        ,\n",
       "        0.        , 0.        , 0.        , 0.        , 0.        ,\n",
       "        0.        , 0.        , 0.        ],\n",
       "       [0.        , 0.        , 0.        , 0.        , 0.        ,\n",
       "        0.        , 0.        , 0.        , 0.        , 0.        ,\n",
       "        0.        , 0.        , 0.        , 0.        , 0.        ,\n",
       "        0.        , 0.        , 0.        , 0.        , 0.        ,\n",
       "        0.        , 0.        , 0.        , 0.        , 0.        ,\n",
       "        0.        , 0.        , 0.        ],\n",
       "       [0.        , 0.        , 0.        , 0.        , 0.        ,\n",
       "        0.        , 0.        , 0.        , 0.        , 0.        ,\n",
       "        0.        , 0.        , 0.        , 0.        , 0.        ,\n",
       "        0.        , 0.        , 0.        , 0.        , 0.        ,\n",
       "        0.        , 0.        , 0.        , 0.        , 0.        ,\n",
       "        0.        , 0.        , 0.        ],\n",
       "       [0.        , 0.        , 0.        , 0.        , 0.        ,\n",
       "        0.        , 0.        , 0.        , 0.        , 0.        ,\n",
       "        0.        , 0.        , 0.        , 0.        , 0.        ,\n",
       "        0.        , 0.        , 0.        , 0.        , 0.01176471,\n",
       "        0.00392157, 0.        , 0.        , 0.02745098, 0.        ,\n",
       "        0.14509805, 0.        , 0.        ],\n",
       "       [0.        , 0.        , 0.        , 0.        , 0.        ,\n",
       "        0.        , 0.        , 0.        , 0.        , 0.        ,\n",
       "        0.        , 0.        , 0.        , 0.00392157, 0.00784314,\n",
       "        0.        , 0.10588235, 0.32941177, 0.04313726, 0.        ,\n",
       "        0.        , 0.        , 0.        , 0.        , 0.        ,\n",
       "        0.46666667, 0.        , 0.        ],\n",
       "       [0.        , 0.        , 0.        , 0.        , 0.        ,\n",
       "        0.        , 0.        , 0.        , 0.        , 0.        ,\n",
       "        0.        , 0.        , 0.        , 0.00392157, 0.        ,\n",
       "        0.        , 0.34509805, 0.56078434, 0.43137255, 0.        ,\n",
       "        0.        , 0.        , 0.        , 0.08627451, 0.3647059 ,\n",
       "        0.41568628, 0.        , 0.        ],\n",
       "       [0.        , 0.        , 0.        , 0.        , 0.        ,\n",
       "        0.        , 0.        , 0.        , 0.        , 0.        ,\n",
       "        0.        , 0.        , 0.        , 0.01568628, 0.        ,\n",
       "        0.20784314, 0.5058824 , 0.47058824, 0.5764706 , 0.6862745 ,\n",
       "        0.6156863 , 0.6509804 , 0.5294118 , 0.6039216 , 0.65882355,\n",
       "        0.54901963, 0.        , 0.        ],\n",
       "       [0.        , 0.        , 0.        , 0.        , 0.        ,\n",
       "        0.        , 0.        , 0.        , 0.        , 0.        ,\n",
       "        0.        , 0.        , 0.00784314, 0.        , 0.04313726,\n",
       "        0.5372549 , 0.50980395, 0.5019608 , 0.627451  , 0.6901961 ,\n",
       "        0.62352943, 0.654902  , 0.69803923, 0.58431375, 0.5921569 ,\n",
       "        0.5647059 , 0.        , 0.        ],\n",
       "       [0.        , 0.        , 0.        , 0.        , 0.        ,\n",
       "        0.        , 0.00392157, 0.        , 0.00784314, 0.00392157,\n",
       "        0.        , 0.01176471, 0.        , 0.        , 0.4509804 ,\n",
       "        0.44705883, 0.41568628, 0.5372549 , 0.65882355, 0.6       ,\n",
       "        0.6117647 , 0.64705884, 0.654902  , 0.56078434, 0.6156863 ,\n",
       "        0.61960787, 0.04313726, 0.        ],\n",
       "       [0.        , 0.        , 0.        , 0.        , 0.00392157,\n",
       "        0.        , 0.        , 0.        , 0.        , 0.        ,\n",
       "        0.01176471, 0.        , 0.        , 0.34901962, 0.54509807,\n",
       "        0.3529412 , 0.36862746, 0.6       , 0.58431375, 0.5137255 ,\n",
       "        0.5921569 , 0.6627451 , 0.6745098 , 0.56078434, 0.62352943,\n",
       "        0.6627451 , 0.1882353 , 0.        ],\n",
       "       [0.        , 0.        , 0.        , 0.        , 0.        ,\n",
       "        0.        , 0.00784314, 0.01568628, 0.00392157, 0.        ,\n",
       "        0.        , 0.        , 0.38431373, 0.53333336, 0.43137255,\n",
       "        0.42745098, 0.43137255, 0.63529414, 0.5294118 , 0.5647059 ,\n",
       "        0.58431375, 0.62352943, 0.654902  , 0.5647059 , 0.61960787,\n",
       "        0.6627451 , 0.46666667, 0.        ],\n",
       "       [0.        , 0.        , 0.00784314, 0.00784314, 0.00392157,\n",
       "        0.00784314, 0.        , 0.        , 0.        , 0.        ,\n",
       "        0.10196079, 0.42352942, 0.45882353, 0.3882353 , 0.43529412,\n",
       "        0.45882353, 0.53333336, 0.6117647 , 0.5254902 , 0.6039216 ,\n",
       "        0.6039216 , 0.6117647 , 0.627451  , 0.5529412 , 0.5764706 ,\n",
       "        0.6117647 , 0.69803923, 0.        ],\n",
       "       [0.01176471, 0.        , 0.        , 0.        , 0.        ,\n",
       "        0.        , 0.        , 0.08235294, 0.20784314, 0.36078432,\n",
       "        0.45882353, 0.43529412, 0.40392157, 0.4509804 , 0.5058824 ,\n",
       "        0.5254902 , 0.56078434, 0.6039216 , 0.64705884, 0.6666667 ,\n",
       "        0.6039216 , 0.5921569 , 0.6039216 , 0.56078434, 0.5411765 ,\n",
       "        0.5882353 , 0.64705884, 0.16862746],\n",
       "       [0.        , 0.        , 0.09019608, 0.21176471, 0.25490198,\n",
       "        0.29803923, 0.33333334, 0.4627451 , 0.5019608 , 0.48235294,\n",
       "        0.43529412, 0.44313726, 0.4627451 , 0.49803922, 0.49019608,\n",
       "        0.54509807, 0.52156866, 0.53333336, 0.627451  , 0.54901963,\n",
       "        0.60784316, 0.6313726 , 0.5647059 , 0.60784316, 0.6745098 ,\n",
       "        0.6313726 , 0.7411765 , 0.24313726],\n",
       "       [0.        , 0.26666668, 0.36862746, 0.3529412 , 0.43529412,\n",
       "        0.44705883, 0.43529412, 0.44705883, 0.4509804 , 0.49803922,\n",
       "        0.5294118 , 0.53333336, 0.56078434, 0.49411765, 0.49803922,\n",
       "        0.5921569 , 0.6039216 , 0.56078434, 0.5803922 , 0.49019608,\n",
       "        0.63529414, 0.63529414, 0.5647059 , 0.5411765 , 0.6       ,\n",
       "        0.63529414, 0.76862746, 0.22745098],\n",
       "       [0.27450982, 0.6627451 , 0.5058824 , 0.40784314, 0.38431373,\n",
       "        0.39215687, 0.36862746, 0.38039216, 0.38431373, 0.4       ,\n",
       "        0.42352942, 0.41568628, 0.46666667, 0.47058824, 0.5058824 ,\n",
       "        0.58431375, 0.6117647 , 0.654902  , 0.74509805, 0.74509805,\n",
       "        0.76862746, 0.7764706 , 0.7764706 , 0.73333335, 0.77254903,\n",
       "        0.7411765 , 0.72156864, 0.14117648],\n",
       "       [0.0627451 , 0.49411765, 0.67058825, 0.7372549 , 0.7372549 ,\n",
       "        0.72156864, 0.67058825, 0.6       , 0.5294118 , 0.47058824,\n",
       "        0.49411765, 0.49803922, 0.57254905, 0.7254902 , 0.7647059 ,\n",
       "        0.81960785, 0.8156863 , 1.        , 0.81960785, 0.69411767,\n",
       "        0.9607843 , 0.9882353 , 0.9843137 , 0.9843137 , 0.96862745,\n",
       "        0.8627451 , 0.80784315, 0.19215687],\n",
       "       [0.        , 0.        , 0.        , 0.04705882, 0.2627451 ,\n",
       "        0.41568628, 0.6431373 , 0.7254902 , 0.78039217, 0.8235294 ,\n",
       "        0.827451  , 0.8235294 , 0.8156863 , 0.74509805, 0.5882353 ,\n",
       "        0.32156864, 0.03137255, 0.        , 0.        , 0.        ,\n",
       "        0.69803923, 0.8156863 , 0.7372549 , 0.6862745 , 0.63529414,\n",
       "        0.61960787, 0.5921569 , 0.04313726],\n",
       "       [0.        , 0.        , 0.        , 0.        , 0.        ,\n",
       "        0.        , 0.        , 0.        , 0.        , 0.        ,\n",
       "        0.        , 0.        , 0.        , 0.        , 0.        ,\n",
       "        0.        , 0.        , 0.        , 0.        , 0.        ,\n",
       "        0.        , 0.        , 0.        , 0.        , 0.        ,\n",
       "        0.        , 0.        , 0.        ],\n",
       "       [0.        , 0.        , 0.        , 0.        , 0.        ,\n",
       "        0.        , 0.        , 0.        , 0.        , 0.        ,\n",
       "        0.        , 0.        , 0.        , 0.        , 0.        ,\n",
       "        0.        , 0.        , 0.        , 0.        , 0.        ,\n",
       "        0.        , 0.        , 0.        , 0.        , 0.        ,\n",
       "        0.        , 0.        , 0.        ],\n",
       "       [0.        , 0.        , 0.        , 0.        , 0.        ,\n",
       "        0.        , 0.        , 0.        , 0.        , 0.        ,\n",
       "        0.        , 0.        , 0.        , 0.        , 0.        ,\n",
       "        0.        , 0.        , 0.        , 0.        , 0.        ,\n",
       "        0.        , 0.        , 0.        , 0.        , 0.        ,\n",
       "        0.        , 0.        , 0.        ],\n",
       "       [0.        , 0.        , 0.        , 0.        , 0.        ,\n",
       "        0.        , 0.        , 0.        , 0.        , 0.        ,\n",
       "        0.        , 0.        , 0.        , 0.        , 0.        ,\n",
       "        0.        , 0.        , 0.        , 0.        , 0.        ,\n",
       "        0.        , 0.        , 0.        , 0.        , 0.        ,\n",
       "        0.        , 0.        , 0.        ],\n",
       "       [0.        , 0.        , 0.        , 0.        , 0.        ,\n",
       "        0.        , 0.        , 0.        , 0.        , 0.        ,\n",
       "        0.        , 0.        , 0.        , 0.        , 0.        ,\n",
       "        0.        , 0.        , 0.        , 0.        , 0.        ,\n",
       "        0.        , 0.        , 0.        , 0.        , 0.        ,\n",
       "        0.        , 0.        , 0.        ],\n",
       "       [0.        , 0.        , 0.        , 0.        , 0.        ,\n",
       "        0.        , 0.        , 0.        , 0.        , 0.        ,\n",
       "        0.        , 0.        , 0.        , 0.        , 0.        ,\n",
       "        0.        , 0.        , 0.        , 0.        , 0.        ,\n",
       "        0.        , 0.        , 0.        , 0.        , 0.        ,\n",
       "        0.        , 0.        , 0.        ]], dtype=float32)"
      ]
     },
     "execution_count": 53,
     "metadata": {},
     "output_type": "execute_result"
    }
   ],
   "source": [
    "images[0].squeeze().numpy()"
   ]
  },
  {
   "cell_type": "code",
   "execution_count": 52,
   "id": "ec734f39",
   "metadata": {},
   "outputs": [
    {
     "data": {
      "text/plain": [
       "<matplotlib.image.AxesImage at 0x1f06d94c9c8>"
      ]
     },
     "execution_count": 52,
     "metadata": {},
     "output_type": "execute_result"
    },
    {
     "data": {
      "image/png": "[encoded data removed]",
      "text/plain": [
       "<Figure size 432x288 with 1 Axes>"
      ]
     },
     "metadata": {
      "needs_background": "light"
     },
     "output_type": "display_data"
    }
   ],
   "source": [
    "plt.imshow(images[0].squeeze())"
   ]
  },
  {
   "cell_type": "code",
   "execution_count": 61,
   "id": "6ad71a87",
   "metadata": {},
   "outputs": [
    {
     "data": {
      "text/plain": [
       "(torch.Size([1, 28, 28]), torch.Size([28, 28]), torch.Size([1, 1, 28, 28]))"
      ]
     },
     "execution_count": 61,
     "metadata": {},
     "output_type": "execute_result"
    }
   ],
   "source": [
    "images[0].shape, images[0].squeeze().shape, images[0].unsqueeze(dim=1).shape#[1,1,28,28]->1->batch size, 1->channel, 28,28->image size->row and column"
   ]
  },
  {
   "cell_type": "code",
   "execution_count": 55,
   "id": "13135270",
   "metadata": {},
   "outputs": [
    {
     "data": {
      "text/plain": [
       "tensor([[[0.0000, 0.0000, 0.0000, 0.0000, 0.0000, 0.0000, 0.0000, 0.0000,\n",
       "          0.0000, 0.0000, 0.0000, 0.0000, 0.0000, 0.0000, 0.0000, 0.0000,\n",
       "          0.0000, 0.0000, 0.0000, 0.0000, 0.0000, 0.0000, 0.0000, 0.0000,\n",
       "          0.0000, 0.0000, 0.0000, 0.0000],\n",
       "         [0.0000, 0.0000, 0.0000, 0.0000, 0.0000, 0.0000, 0.0000, 0.0000,\n",
       "          0.0000, 0.0000, 0.0000, 0.0000, 0.0000, 0.0000, 0.0000, 0.0000,\n",
       "          0.0000, 0.0000, 0.0000, 0.0000, 0.0000, 0.0000, 0.0000, 0.0000,\n",
       "          0.0000, 0.0000, 0.0000, 0.0000],\n",
       "         [0.0000, 0.0000, 0.0000, 0.0000, 0.0000, 0.0000, 0.0000, 0.0000,\n",
       "          0.0000, 0.0000, 0.0000, 0.0000, 0.0000, 0.0000, 0.0000, 0.0000,\n",
       "          0.0000, 0.0000, 0.0000, 0.0000, 0.0000, 0.0000, 0.0000, 0.0000,\n",
       "          0.0000, 0.0000, 0.0000, 0.0000],\n",
       "         [0.0000, 0.0000, 0.0000, 0.0000, 0.0000, 0.0000, 0.0000, 0.0000,\n",
       "          0.0000, 0.0000, 0.0000, 0.0000, 0.0000, 0.0000, 0.0000, 0.0000,\n",
       "          0.0000, 0.0000, 0.0000, 0.0000, 0.0000, 0.0000, 0.0000, 0.0000,\n",
       "          0.0000, 0.0000, 0.0000, 0.0000],\n",
       "         [0.0000, 0.0000, 0.0000, 0.0000, 0.0000, 0.0000, 0.0000, 0.0000,\n",
       "          0.0000, 0.0000, 0.0000, 0.0000, 0.0000, 0.0000, 0.0000, 0.0000,\n",
       "          0.0000, 0.0000, 0.0000, 0.0000, 0.0000, 0.0000, 0.0000, 0.0000,\n",
       "          0.0000, 0.0000, 0.0000, 0.0000],\n",
       "         [0.0000, 0.0000, 0.0000, 0.0000, 0.0000, 0.0000, 0.0000, 0.0000,\n",
       "          0.0000, 0.0000, 0.0000, 0.0000, 0.0000, 0.0000, 0.0000, 0.0000,\n",
       "          0.0000, 0.0000, 0.0000, 0.0000, 0.0000, 0.0000, 0.0000, 0.0000,\n",
       "          0.0000, 0.0000, 0.0000, 0.0000],\n",
       "         [0.0000, 0.0000, 0.0000, 0.0000, 0.0000, 0.0000, 0.0000, 0.0000,\n",
       "          0.0000, 0.0000, 0.0000, 0.0000, 0.0000, 0.0000, 0.0000, 0.0000,\n",
       "          0.0000, 0.0000, 0.0000, 0.0000, 0.0000, 0.0000, 0.0000, 0.0000,\n",
       "          0.0000, 0.0000, 0.0000, 0.0000],\n",
       "         [0.0000, 0.0000, 0.0000, 0.0000, 0.0000, 0.0000, 0.0000, 0.0000,\n",
       "          0.0000, 0.0000, 0.0000, 0.0000, 0.0000, 0.0000, 0.0000, 0.0000,\n",
       "          0.0000, 0.0000, 0.0000, 0.0118, 0.0039, 0.0000, 0.0000, 0.0275,\n",
       "          0.0000, 0.1451, 0.0000, 0.0000],\n",
       "         [0.0000, 0.0000, 0.0000, 0.0000, 0.0000, 0.0000, 0.0000, 0.0000,\n",
       "          0.0000, 0.0000, 0.0000, 0.0000, 0.0000, 0.0039, 0.0078, 0.0000,\n",
       "          0.1059, 0.3294, 0.0431, 0.0000, 0.0000, 0.0000, 0.0000, 0.0000,\n",
       "          0.0000, 0.4667, 0.0000, 0.0000],\n",
       "         [0.0000, 0.0000, 0.0000, 0.0000, 0.0000, 0.0000, 0.0000, 0.0000,\n",
       "          0.0000, 0.0000, 0.0000, 0.0000, 0.0000, 0.0039, 0.0000, 0.0000,\n",
       "          0.3451, 0.5608, 0.4314, 0.0000, 0.0000, 0.0000, 0.0000, 0.0863,\n",
       "          0.3647, 0.4157, 0.0000, 0.0000],\n",
       "         [0.0000, 0.0000, 0.0000, 0.0000, 0.0000, 0.0000, 0.0000, 0.0000,\n",
       "          0.0000, 0.0000, 0.0000, 0.0000, 0.0000, 0.0157, 0.0000, 0.2078,\n",
       "          0.5059, 0.4706, 0.5765, 0.6863, 0.6157, 0.6510, 0.5294, 0.6039,\n",
       "          0.6588, 0.5490, 0.0000, 0.0000],\n",
       "         [0.0000, 0.0000, 0.0000, 0.0000, 0.0000, 0.0000, 0.0000, 0.0000,\n",
       "          0.0000, 0.0000, 0.0000, 0.0000, 0.0078, 0.0000, 0.0431, 0.5373,\n",
       "          0.5098, 0.5020, 0.6275, 0.6902, 0.6235, 0.6549, 0.6980, 0.5843,\n",
       "          0.5922, 0.5647, 0.0000, 0.0000],\n",
       "         [0.0000, 0.0000, 0.0000, 0.0000, 0.0000, 0.0000, 0.0039, 0.0000,\n",
       "          0.0078, 0.0039, 0.0000, 0.0118, 0.0000, 0.0000, 0.4510, 0.4471,\n",
       "          0.4157, 0.5373, 0.6588, 0.6000, 0.6118, 0.6471, 0.6549, 0.5608,\n",
       "          0.6157, 0.6196, 0.0431, 0.0000],\n",
       "         [0.0000, 0.0000, 0.0000, 0.0000, 0.0039, 0.0000, 0.0000, 0.0000,\n",
       "          0.0000, 0.0000, 0.0118, 0.0000, 0.0000, 0.3490, 0.5451, 0.3529,\n",
       "          0.3686, 0.6000, 0.5843, 0.5137, 0.5922, 0.6627, 0.6745, 0.5608,\n",
       "          0.6235, 0.6627, 0.1882, 0.0000],\n",
       "         [0.0000, 0.0000, 0.0000, 0.0000, 0.0000, 0.0000, 0.0078, 0.0157,\n",
       "          0.0039, 0.0000, 0.0000, 0.0000, 0.3843, 0.5333, 0.4314, 0.4275,\n",
       "          0.4314, 0.6353, 0.5294, 0.5647, 0.5843, 0.6235, 0.6549, 0.5647,\n",
       "          0.6196, 0.6627, 0.4667, 0.0000],\n",
       "         [0.0000, 0.0000, 0.0078, 0.0078, 0.0039, 0.0078, 0.0000, 0.0000,\n",
       "          0.0000, 0.0000, 0.1020, 0.4235, 0.4588, 0.3882, 0.4353, 0.4588,\n",
       "          0.5333, 0.6118, 0.5255, 0.6039, 0.6039, 0.6118, 0.6275, 0.5529,\n",
       "          0.5765, 0.6118, 0.6980, 0.0000],\n",
       "         [0.0118, 0.0000, 0.0000, 0.0000, 0.0000, 0.0000, 0.0000, 0.0824,\n",
       "          0.2078, 0.3608, 0.4588, 0.4353, 0.4039, 0.4510, 0.5059, 0.5255,\n",
       "          0.5608, 0.6039, 0.6471, 0.6667, 0.6039, 0.5922, 0.6039, 0.5608,\n",
       "          0.5412, 0.5882, 0.6471, 0.1686],\n",
       "         [0.0000, 0.0000, 0.0902, 0.2118, 0.2549, 0.2980, 0.3333, 0.4627,\n",
       "          0.5020, 0.4824, 0.4353, 0.4431, 0.4627, 0.4980, 0.4902, 0.5451,\n",
       "          0.5216, 0.5333, 0.6275, 0.5490, 0.6078, 0.6314, 0.5647, 0.6078,\n",
       "          0.6745, 0.6314, 0.7412, 0.2431],\n",
       "         [0.0000, 0.2667, 0.3686, 0.3529, 0.4353, 0.4471, 0.4353, 0.4471,\n",
       "          0.4510, 0.4980, 0.5294, 0.5333, 0.5608, 0.4941, 0.4980, 0.5922,\n",
       "          0.6039, 0.5608, 0.5804, 0.4902, 0.6353, 0.6353, 0.5647, 0.5412,\n",
       "          0.6000, 0.6353, 0.7686, 0.2275],\n",
       "         [0.2745, 0.6627, 0.5059, 0.4078, 0.3843, 0.3922, 0.3686, 0.3804,\n",
       "          0.3843, 0.4000, 0.4235, 0.4157, 0.4667, 0.4706, 0.5059, 0.5843,\n",
       "          0.6118, 0.6549, 0.7451, 0.7451, 0.7686, 0.7765, 0.7765, 0.7333,\n",
       "          0.7725, 0.7412, 0.7216, 0.1412],\n",
       "         [0.0627, 0.4941, 0.6706, 0.7373, 0.7373, 0.7216, 0.6706, 0.6000,\n",
       "          0.5294, 0.4706, 0.4941, 0.4980, 0.5725, 0.7255, 0.7647, 0.8196,\n",
       "          0.8157, 1.0000, 0.8196, 0.6941, 0.9608, 0.9882, 0.9843, 0.9843,\n",
       "          0.9686, 0.8627, 0.8078, 0.1922],\n",
       "         [0.0000, 0.0000, 0.0000, 0.0471, 0.2627, 0.4157, 0.6431, 0.7255,\n",
       "          0.7804, 0.8235, 0.8275, 0.8235, 0.8157, 0.7451, 0.5882, 0.3216,\n",
       "          0.0314, 0.0000, 0.0000, 0.0000, 0.6980, 0.8157, 0.7373, 0.6863,\n",
       "          0.6353, 0.6196, 0.5922, 0.0431],\n",
       "         [0.0000, 0.0000, 0.0000, 0.0000, 0.0000, 0.0000, 0.0000, 0.0000,\n",
       "          0.0000, 0.0000, 0.0000, 0.0000, 0.0000, 0.0000, 0.0000, 0.0000,\n",
       "          0.0000, 0.0000, 0.0000, 0.0000, 0.0000, 0.0000, 0.0000, 0.0000,\n",
       "          0.0000, 0.0000, 0.0000, 0.0000],\n",
       "         [0.0000, 0.0000, 0.0000, 0.0000, 0.0000, 0.0000, 0.0000, 0.0000,\n",
       "          0.0000, 0.0000, 0.0000, 0.0000, 0.0000, 0.0000, 0.0000, 0.0000,\n",
       "          0.0000, 0.0000, 0.0000, 0.0000, 0.0000, 0.0000, 0.0000, 0.0000,\n",
       "          0.0000, 0.0000, 0.0000, 0.0000],\n",
       "         [0.0000, 0.0000, 0.0000, 0.0000, 0.0000, 0.0000, 0.0000, 0.0000,\n",
       "          0.0000, 0.0000, 0.0000, 0.0000, 0.0000, 0.0000, 0.0000, 0.0000,\n",
       "          0.0000, 0.0000, 0.0000, 0.0000, 0.0000, 0.0000, 0.0000, 0.0000,\n",
       "          0.0000, 0.0000, 0.0000, 0.0000],\n",
       "         [0.0000, 0.0000, 0.0000, 0.0000, 0.0000, 0.0000, 0.0000, 0.0000,\n",
       "          0.0000, 0.0000, 0.0000, 0.0000, 0.0000, 0.0000, 0.0000, 0.0000,\n",
       "          0.0000, 0.0000, 0.0000, 0.0000, 0.0000, 0.0000, 0.0000, 0.0000,\n",
       "          0.0000, 0.0000, 0.0000, 0.0000],\n",
       "         [0.0000, 0.0000, 0.0000, 0.0000, 0.0000, 0.0000, 0.0000, 0.0000,\n",
       "          0.0000, 0.0000, 0.0000, 0.0000, 0.0000, 0.0000, 0.0000, 0.0000,\n",
       "          0.0000, 0.0000, 0.0000, 0.0000, 0.0000, 0.0000, 0.0000, 0.0000,\n",
       "          0.0000, 0.0000, 0.0000, 0.0000],\n",
       "         [0.0000, 0.0000, 0.0000, 0.0000, 0.0000, 0.0000, 0.0000, 0.0000,\n",
       "          0.0000, 0.0000, 0.0000, 0.0000, 0.0000, 0.0000, 0.0000, 0.0000,\n",
       "          0.0000, 0.0000, 0.0000, 0.0000, 0.0000, 0.0000, 0.0000, 0.0000,\n",
       "          0.0000, 0.0000, 0.0000, 0.0000]]])"
      ]
     },
     "execution_count": 55,
     "metadata": {},
     "output_type": "execute_result"
    }
   ],
   "source": [
    "images[0]"
   ]
  },
  {
   "cell_type": "code",
   "execution_count": 56,
   "id": "e02de5e5",
   "metadata": {},
   "outputs": [
    {
     "data": {
      "text/plain": [
       "tensor([[0.0000, 0.0000, 0.0000, 0.0000, 0.0000, 0.0000, 0.0000, 0.0000, 0.0000,\n",
       "         0.0000, 0.0000, 0.0000, 0.0000, 0.0000, 0.0000, 0.0000, 0.0000, 0.0000,\n",
       "         0.0000, 0.0000, 0.0000, 0.0000, 0.0000, 0.0000, 0.0000, 0.0000, 0.0000,\n",
       "         0.0000],\n",
       "        [0.0000, 0.0000, 0.0000, 0.0000, 0.0000, 0.0000, 0.0000, 0.0000, 0.0000,\n",
       "         0.0000, 0.0000, 0.0000, 0.0000, 0.0000, 0.0000, 0.0000, 0.0000, 0.0000,\n",
       "         0.0000, 0.0000, 0.0000, 0.0000, 0.0000, 0.0000, 0.0000, 0.0000, 0.0000,\n",
       "         0.0000],\n",
       "        [0.0000, 0.0000, 0.0000, 0.0000, 0.0000, 0.0000, 0.0000, 0.0000, 0.0000,\n",
       "         0.0000, 0.0000, 0.0000, 0.0000, 0.0000, 0.0000, 0.0000, 0.0000, 0.0000,\n",
       "         0.0000, 0.0000, 0.0000, 0.0000, 0.0000, 0.0000, 0.0000, 0.0000, 0.0000,\n",
       "         0.0000],\n",
       "        [0.0000, 0.0000, 0.0000, 0.0000, 0.0000, 0.0000, 0.0000, 0.0000, 0.0000,\n",
       "         0.0000, 0.0000, 0.0000, 0.0000, 0.0000, 0.0000, 0.0000, 0.0000, 0.0000,\n",
       "         0.0000, 0.0000, 0.0000, 0.0000, 0.0000, 0.0000, 0.0000, 0.0000, 0.0000,\n",
       "         0.0000],\n",
       "        [0.0000, 0.0000, 0.0000, 0.0000, 0.0000, 0.0000, 0.0000, 0.0000, 0.0000,\n",
       "         0.0000, 0.0000, 0.0000, 0.0000, 0.0000, 0.0000, 0.0000, 0.0000, 0.0000,\n",
       "         0.0000, 0.0000, 0.0000, 0.0000, 0.0000, 0.0000, 0.0000, 0.0000, 0.0000,\n",
       "         0.0000],\n",
       "        [0.0000, 0.0000, 0.0000, 0.0000, 0.0000, 0.0000, 0.0000, 0.0000, 0.0000,\n",
       "         0.0000, 0.0000, 0.0000, 0.0000, 0.0000, 0.0000, 0.0000, 0.0000, 0.0000,\n",
       "         0.0000, 0.0000, 0.0000, 0.0000, 0.0000, 0.0000, 0.0000, 0.0000, 0.0000,\n",
       "         0.0000],\n",
       "        [0.0000, 0.0000, 0.0000, 0.0000, 0.0000, 0.0000, 0.0000, 0.0000, 0.0000,\n",
       "         0.0000, 0.0000, 0.0000, 0.0000, 0.0000, 0.0000, 0.0000, 0.0000, 0.0000,\n",
       "         0.0000, 0.0000, 0.0000, 0.0000, 0.0000, 0.0000, 0.0000, 0.0000, 0.0000,\n",
       "         0.0000],\n",
       "        [0.0000, 0.0000, 0.0000, 0.0000, 0.0000, 0.0000, 0.0000, 0.0000, 0.0000,\n",
       "         0.0000, 0.0000, 0.0000, 0.0000, 0.0000, 0.0000, 0.0000, 0.0000, 0.0000,\n",
       "         0.0000, 0.0118, 0.0039, 0.0000, 0.0000, 0.0275, 0.0000, 0.1451, 0.0000,\n",
       "         0.0000],\n",
       "        [0.0000, 0.0000, 0.0000, 0.0000, 0.0000, 0.0000, 0.0000, 0.0000, 0.0000,\n",
       "         0.0000, 0.0000, 0.0000, 0.0000, 0.0039, 0.0078, 0.0000, 0.1059, 0.3294,\n",
       "         0.0431, 0.0000, 0.0000, 0.0000, 0.0000, 0.0000, 0.0000, 0.4667, 0.0000,\n",
       "         0.0000],\n",
       "        [0.0000, 0.0000, 0.0000, 0.0000, 0.0000, 0.0000, 0.0000, 0.0000, 0.0000,\n",
       "         0.0000, 0.0000, 0.0000, 0.0000, 0.0039, 0.0000, 0.0000, 0.3451, 0.5608,\n",
       "         0.4314, 0.0000, 0.0000, 0.0000, 0.0000, 0.0863, 0.3647, 0.4157, 0.0000,\n",
       "         0.0000],\n",
       "        [0.0000, 0.0000, 0.0000, 0.0000, 0.0000, 0.0000, 0.0000, 0.0000, 0.0000,\n",
       "         0.0000, 0.0000, 0.0000, 0.0000, 0.0157, 0.0000, 0.2078, 0.5059, 0.4706,\n",
       "         0.5765, 0.6863, 0.6157, 0.6510, 0.5294, 0.6039, 0.6588, 0.5490, 0.0000,\n",
       "         0.0000],\n",
       "        [0.0000, 0.0000, 0.0000, 0.0000, 0.0000, 0.0000, 0.0000, 0.0000, 0.0000,\n",
       "         0.0000, 0.0000, 0.0000, 0.0078, 0.0000, 0.0431, 0.5373, 0.5098, 0.5020,\n",
       "         0.6275, 0.6902, 0.6235, 0.6549, 0.6980, 0.5843, 0.5922, 0.5647, 0.0000,\n",
       "         0.0000],\n",
       "        [0.0000, 0.0000, 0.0000, 0.0000, 0.0000, 0.0000, 0.0039, 0.0000, 0.0078,\n",
       "         0.0039, 0.0000, 0.0118, 0.0000, 0.0000, 0.4510, 0.4471, 0.4157, 0.5373,\n",
       "         0.6588, 0.6000, 0.6118, 0.6471, 0.6549, 0.5608, 0.6157, 0.6196, 0.0431,\n",
       "         0.0000],\n",
       "        [0.0000, 0.0000, 0.0000, 0.0000, 0.0039, 0.0000, 0.0000, 0.0000, 0.0000,\n",
       "         0.0000, 0.0118, 0.0000, 0.0000, 0.3490, 0.5451, 0.3529, 0.3686, 0.6000,\n",
       "         0.5843, 0.5137, 0.5922, 0.6627, 0.6745, 0.5608, 0.6235, 0.6627, 0.1882,\n",
       "         0.0000],\n",
       "        [0.0000, 0.0000, 0.0000, 0.0000, 0.0000, 0.0000, 0.0078, 0.0157, 0.0039,\n",
       "         0.0000, 0.0000, 0.0000, 0.3843, 0.5333, 0.4314, 0.4275, 0.4314, 0.6353,\n",
       "         0.5294, 0.5647, 0.5843, 0.6235, 0.6549, 0.5647, 0.6196, 0.6627, 0.4667,\n",
       "         0.0000],\n",
       "        [0.0000, 0.0000, 0.0078, 0.0078, 0.0039, 0.0078, 0.0000, 0.0000, 0.0000,\n",
       "         0.0000, 0.1020, 0.4235, 0.4588, 0.3882, 0.4353, 0.4588, 0.5333, 0.6118,\n",
       "         0.5255, 0.6039, 0.6039, 0.6118, 0.6275, 0.5529, 0.5765, 0.6118, 0.6980,\n",
       "         0.0000],\n",
       "        [0.0118, 0.0000, 0.0000, 0.0000, 0.0000, 0.0000, 0.0000, 0.0824, 0.2078,\n",
       "         0.3608, 0.4588, 0.4353, 0.4039, 0.4510, 0.5059, 0.5255, 0.5608, 0.6039,\n",
       "         0.6471, 0.6667, 0.6039, 0.5922, 0.6039, 0.5608, 0.5412, 0.5882, 0.6471,\n",
       "         0.1686],\n",
       "        [0.0000, 0.0000, 0.0902, 0.2118, 0.2549, 0.2980, 0.3333, 0.4627, 0.5020,\n",
       "         0.4824, 0.4353, 0.4431, 0.4627, 0.4980, 0.4902, 0.5451, 0.5216, 0.5333,\n",
       "         0.6275, 0.5490, 0.6078, 0.6314, 0.5647, 0.6078, 0.6745, 0.6314, 0.7412,\n",
       "         0.2431],\n",
       "        [0.0000, 0.2667, 0.3686, 0.3529, 0.4353, 0.4471, 0.4353, 0.4471, 0.4510,\n",
       "         0.4980, 0.5294, 0.5333, 0.5608, 0.4941, 0.4980, 0.5922, 0.6039, 0.5608,\n",
       "         0.5804, 0.4902, 0.6353, 0.6353, 0.5647, 0.5412, 0.6000, 0.6353, 0.7686,\n",
       "         0.2275],\n",
       "        [0.2745, 0.6627, 0.5059, 0.4078, 0.3843, 0.3922, 0.3686, 0.3804, 0.3843,\n",
       "         0.4000, 0.4235, 0.4157, 0.4667, 0.4706, 0.5059, 0.5843, 0.6118, 0.6549,\n",
       "         0.7451, 0.7451, 0.7686, 0.7765, 0.7765, 0.7333, 0.7725, 0.7412, 0.7216,\n",
       "         0.1412],\n",
       "        [0.0627, 0.4941, 0.6706, 0.7373, 0.7373, 0.7216, 0.6706, 0.6000, 0.5294,\n",
       "         0.4706, 0.4941, 0.4980, 0.5725, 0.7255, 0.7647, 0.8196, 0.8157, 1.0000,\n",
       "         0.8196, 0.6941, 0.9608, 0.9882, 0.9843, 0.9843, 0.9686, 0.8627, 0.8078,\n",
       "         0.1922],\n",
       "        [0.0000, 0.0000, 0.0000, 0.0471, 0.2627, 0.4157, 0.6431, 0.7255, 0.7804,\n",
       "         0.8235, 0.8275, 0.8235, 0.8157, 0.7451, 0.5882, 0.3216, 0.0314, 0.0000,\n",
       "         0.0000, 0.0000, 0.6980, 0.8157, 0.7373, 0.6863, 0.6353, 0.6196, 0.5922,\n",
       "         0.0431],\n",
       "        [0.0000, 0.0000, 0.0000, 0.0000, 0.0000, 0.0000, 0.0000, 0.0000, 0.0000,\n",
       "         0.0000, 0.0000, 0.0000, 0.0000, 0.0000, 0.0000, 0.0000, 0.0000, 0.0000,\n",
       "         0.0000, 0.0000, 0.0000, 0.0000, 0.0000, 0.0000, 0.0000, 0.0000, 0.0000,\n",
       "         0.0000],\n",
       "        [0.0000, 0.0000, 0.0000, 0.0000, 0.0000, 0.0000, 0.0000, 0.0000, 0.0000,\n",
       "         0.0000, 0.0000, 0.0000, 0.0000, 0.0000, 0.0000, 0.0000, 0.0000, 0.0000,\n",
       "         0.0000, 0.0000, 0.0000, 0.0000, 0.0000, 0.0000, 0.0000, 0.0000, 0.0000,\n",
       "         0.0000],\n",
       "        [0.0000, 0.0000, 0.0000, 0.0000, 0.0000, 0.0000, 0.0000, 0.0000, 0.0000,\n",
       "         0.0000, 0.0000, 0.0000, 0.0000, 0.0000, 0.0000, 0.0000, 0.0000, 0.0000,\n",
       "         0.0000, 0.0000, 0.0000, 0.0000, 0.0000, 0.0000, 0.0000, 0.0000, 0.0000,\n",
       "         0.0000],\n",
       "        [0.0000, 0.0000, 0.0000, 0.0000, 0.0000, 0.0000, 0.0000, 0.0000, 0.0000,\n",
       "         0.0000, 0.0000, 0.0000, 0.0000, 0.0000, 0.0000, 0.0000, 0.0000, 0.0000,\n",
       "         0.0000, 0.0000, 0.0000, 0.0000, 0.0000, 0.0000, 0.0000, 0.0000, 0.0000,\n",
       "         0.0000],\n",
       "        [0.0000, 0.0000, 0.0000, 0.0000, 0.0000, 0.0000, 0.0000, 0.0000, 0.0000,\n",
       "         0.0000, 0.0000, 0.0000, 0.0000, 0.0000, 0.0000, 0.0000, 0.0000, 0.0000,\n",
       "         0.0000, 0.0000, 0.0000, 0.0000, 0.0000, 0.0000, 0.0000, 0.0000, 0.0000,\n",
       "         0.0000],\n",
       "        [0.0000, 0.0000, 0.0000, 0.0000, 0.0000, 0.0000, 0.0000, 0.0000, 0.0000,\n",
       "         0.0000, 0.0000, 0.0000, 0.0000, 0.0000, 0.0000, 0.0000, 0.0000, 0.0000,\n",
       "         0.0000, 0.0000, 0.0000, 0.0000, 0.0000, 0.0000, 0.0000, 0.0000, 0.0000,\n",
       "         0.0000]])"
      ]
     },
     "execution_count": 56,
     "metadata": {},
     "output_type": "execute_result"
    }
   ],
   "source": [
    "images[0].squeeze()"
   ]
  },
  {
   "cell_type": "code",
   "execution_count": 58,
   "id": "78868bd9",
   "metadata": {},
   "outputs": [
    {
     "data": {
      "text/plain": [
       "tensor([[[[0.0000, 0.0000, 0.0000, 0.0000, 0.0000, 0.0000, 0.0000, 0.0000,\n",
       "           0.0000, 0.0000, 0.0000, 0.0000, 0.0000, 0.0000, 0.0000, 0.0000,\n",
       "           0.0000, 0.0000, 0.0000, 0.0000, 0.0000, 0.0000, 0.0000, 0.0000,\n",
       "           0.0000, 0.0000, 0.0000, 0.0000],\n",
       "          [0.0000, 0.0000, 0.0000, 0.0000, 0.0000, 0.0000, 0.0000, 0.0000,\n",
       "           0.0000, 0.0000, 0.0000, 0.0000, 0.0000, 0.0000, 0.0000, 0.0000,\n",
       "           0.0000, 0.0000, 0.0000, 0.0000, 0.0000, 0.0000, 0.0000, 0.0000,\n",
       "           0.0000, 0.0000, 0.0000, 0.0000],\n",
       "          [0.0000, 0.0000, 0.0000, 0.0000, 0.0000, 0.0000, 0.0000, 0.0000,\n",
       "           0.0000, 0.0000, 0.0000, 0.0000, 0.0000, 0.0000, 0.0000, 0.0000,\n",
       "           0.0000, 0.0000, 0.0000, 0.0000, 0.0000, 0.0000, 0.0000, 0.0000,\n",
       "           0.0000, 0.0000, 0.0000, 0.0000],\n",
       "          [0.0000, 0.0000, 0.0000, 0.0000, 0.0000, 0.0000, 0.0000, 0.0000,\n",
       "           0.0000, 0.0000, 0.0000, 0.0000, 0.0000, 0.0000, 0.0000, 0.0000,\n",
       "           0.0000, 0.0000, 0.0000, 0.0000, 0.0000, 0.0000, 0.0000, 0.0000,\n",
       "           0.0000, 0.0000, 0.0000, 0.0000],\n",
       "          [0.0000, 0.0000, 0.0000, 0.0000, 0.0000, 0.0000, 0.0000, 0.0000,\n",
       "           0.0000, 0.0000, 0.0000, 0.0000, 0.0000, 0.0000, 0.0000, 0.0000,\n",
       "           0.0000, 0.0000, 0.0000, 0.0000, 0.0000, 0.0000, 0.0000, 0.0000,\n",
       "           0.0000, 0.0000, 0.0000, 0.0000],\n",
       "          [0.0000, 0.0000, 0.0000, 0.0000, 0.0000, 0.0000, 0.0000, 0.0000,\n",
       "           0.0000, 0.0000, 0.0000, 0.0000, 0.0000, 0.0000, 0.0000, 0.0000,\n",
       "           0.0000, 0.0000, 0.0000, 0.0000, 0.0000, 0.0000, 0.0000, 0.0000,\n",
       "           0.0000, 0.0000, 0.0000, 0.0000],\n",
       "          [0.0000, 0.0000, 0.0000, 0.0000, 0.0000, 0.0000, 0.0000, 0.0000,\n",
       "           0.0000, 0.0000, 0.0000, 0.0000, 0.0000, 0.0000, 0.0000, 0.0000,\n",
       "           0.0000, 0.0000, 0.0000, 0.0000, 0.0000, 0.0000, 0.0000, 0.0000,\n",
       "           0.0000, 0.0000, 0.0000, 0.0000],\n",
       "          [0.0000, 0.0000, 0.0000, 0.0000, 0.0000, 0.0000, 0.0000, 0.0000,\n",
       "           0.0000, 0.0000, 0.0000, 0.0000, 0.0000, 0.0000, 0.0000, 0.0000,\n",
       "           0.0000, 0.0000, 0.0000, 0.0118, 0.0039, 0.0000, 0.0000, 0.0275,\n",
       "           0.0000, 0.1451, 0.0000, 0.0000],\n",
       "          [0.0000, 0.0000, 0.0000, 0.0000, 0.0000, 0.0000, 0.0000, 0.0000,\n",
       "           0.0000, 0.0000, 0.0000, 0.0000, 0.0000, 0.0039, 0.0078, 0.0000,\n",
       "           0.1059, 0.3294, 0.0431, 0.0000, 0.0000, 0.0000, 0.0000, 0.0000,\n",
       "           0.0000, 0.4667, 0.0000, 0.0000],\n",
       "          [0.0000, 0.0000, 0.0000, 0.0000, 0.0000, 0.0000, 0.0000, 0.0000,\n",
       "           0.0000, 0.0000, 0.0000, 0.0000, 0.0000, 0.0039, 0.0000, 0.0000,\n",
       "           0.3451, 0.5608, 0.4314, 0.0000, 0.0000, 0.0000, 0.0000, 0.0863,\n",
       "           0.3647, 0.4157, 0.0000, 0.0000],\n",
       "          [0.0000, 0.0000, 0.0000, 0.0000, 0.0000, 0.0000, 0.0000, 0.0000,\n",
       "           0.0000, 0.0000, 0.0000, 0.0000, 0.0000, 0.0157, 0.0000, 0.2078,\n",
       "           0.5059, 0.4706, 0.5765, 0.6863, 0.6157, 0.6510, 0.5294, 0.6039,\n",
       "           0.6588, 0.5490, 0.0000, 0.0000],\n",
       "          [0.0000, 0.0000, 0.0000, 0.0000, 0.0000, 0.0000, 0.0000, 0.0000,\n",
       "           0.0000, 0.0000, 0.0000, 0.0000, 0.0078, 0.0000, 0.0431, 0.5373,\n",
       "           0.5098, 0.5020, 0.6275, 0.6902, 0.6235, 0.6549, 0.6980, 0.5843,\n",
       "           0.5922, 0.5647, 0.0000, 0.0000],\n",
       "          [0.0000, 0.0000, 0.0000, 0.0000, 0.0000, 0.0000, 0.0039, 0.0000,\n",
       "           0.0078, 0.0039, 0.0000, 0.0118, 0.0000, 0.0000, 0.4510, 0.4471,\n",
       "           0.4157, 0.5373, 0.6588, 0.6000, 0.6118, 0.6471, 0.6549, 0.5608,\n",
       "           0.6157, 0.6196, 0.0431, 0.0000],\n",
       "          [0.0000, 0.0000, 0.0000, 0.0000, 0.0039, 0.0000, 0.0000, 0.0000,\n",
       "           0.0000, 0.0000, 0.0118, 0.0000, 0.0000, 0.3490, 0.5451, 0.3529,\n",
       "           0.3686, 0.6000, 0.5843, 0.5137, 0.5922, 0.6627, 0.6745, 0.5608,\n",
       "           0.6235, 0.6627, 0.1882, 0.0000],\n",
       "          [0.0000, 0.0000, 0.0000, 0.0000, 0.0000, 0.0000, 0.0078, 0.0157,\n",
       "           0.0039, 0.0000, 0.0000, 0.0000, 0.3843, 0.5333, 0.4314, 0.4275,\n",
       "           0.4314, 0.6353, 0.5294, 0.5647, 0.5843, 0.6235, 0.6549, 0.5647,\n",
       "           0.6196, 0.6627, 0.4667, 0.0000],\n",
       "          [0.0000, 0.0000, 0.0078, 0.0078, 0.0039, 0.0078, 0.0000, 0.0000,\n",
       "           0.0000, 0.0000, 0.1020, 0.4235, 0.4588, 0.3882, 0.4353, 0.4588,\n",
       "           0.5333, 0.6118, 0.5255, 0.6039, 0.6039, 0.6118, 0.6275, 0.5529,\n",
       "           0.5765, 0.6118, 0.6980, 0.0000],\n",
       "          [0.0118, 0.0000, 0.0000, 0.0000, 0.0000, 0.0000, 0.0000, 0.0824,\n",
       "           0.2078, 0.3608, 0.4588, 0.4353, 0.4039, 0.4510, 0.5059, 0.5255,\n",
       "           0.5608, 0.6039, 0.6471, 0.6667, 0.6039, 0.5922, 0.6039, 0.5608,\n",
       "           0.5412, 0.5882, 0.6471, 0.1686],\n",
       "          [0.0000, 0.0000, 0.0902, 0.2118, 0.2549, 0.2980, 0.3333, 0.4627,\n",
       "           0.5020, 0.4824, 0.4353, 0.4431, 0.4627, 0.4980, 0.4902, 0.5451,\n",
       "           0.5216, 0.5333, 0.6275, 0.5490, 0.6078, 0.6314, 0.5647, 0.6078,\n",
       "           0.6745, 0.6314, 0.7412, 0.2431],\n",
       "          [0.0000, 0.2667, 0.3686, 0.3529, 0.4353, 0.4471, 0.4353, 0.4471,\n",
       "           0.4510, 0.4980, 0.5294, 0.5333, 0.5608, 0.4941, 0.4980, 0.5922,\n",
       "           0.6039, 0.5608, 0.5804, 0.4902, 0.6353, 0.6353, 0.5647, 0.5412,\n",
       "           0.6000, 0.6353, 0.7686, 0.2275],\n",
       "          [0.2745, 0.6627, 0.5059, 0.4078, 0.3843, 0.3922, 0.3686, 0.3804,\n",
       "           0.3843, 0.4000, 0.4235, 0.4157, 0.4667, 0.4706, 0.5059, 0.5843,\n",
       "           0.6118, 0.6549, 0.7451, 0.7451, 0.7686, 0.7765, 0.7765, 0.7333,\n",
       "           0.7725, 0.7412, 0.7216, 0.1412],\n",
       "          [0.0627, 0.4941, 0.6706, 0.7373, 0.7373, 0.7216, 0.6706, 0.6000,\n",
       "           0.5294, 0.4706, 0.4941, 0.4980, 0.5725, 0.7255, 0.7647, 0.8196,\n",
       "           0.8157, 1.0000, 0.8196, 0.6941, 0.9608, 0.9882, 0.9843, 0.9843,\n",
       "           0.9686, 0.8627, 0.8078, 0.1922],\n",
       "          [0.0000, 0.0000, 0.0000, 0.0471, 0.2627, 0.4157, 0.6431, 0.7255,\n",
       "           0.7804, 0.8235, 0.8275, 0.8235, 0.8157, 0.7451, 0.5882, 0.3216,\n",
       "           0.0314, 0.0000, 0.0000, 0.0000, 0.6980, 0.8157, 0.7373, 0.6863,\n",
       "           0.6353, 0.6196, 0.5922, 0.0431],\n",
       "          [0.0000, 0.0000, 0.0000, 0.0000, 0.0000, 0.0000, 0.0000, 0.0000,\n",
       "           0.0000, 0.0000, 0.0000, 0.0000, 0.0000, 0.0000, 0.0000, 0.0000,\n",
       "           0.0000, 0.0000, 0.0000, 0.0000, 0.0000, 0.0000, 0.0000, 0.0000,\n",
       "           0.0000, 0.0000, 0.0000, 0.0000],\n",
       "          [0.0000, 0.0000, 0.0000, 0.0000, 0.0000, 0.0000, 0.0000, 0.0000,\n",
       "           0.0000, 0.0000, 0.0000, 0.0000, 0.0000, 0.0000, 0.0000, 0.0000,\n",
       "           0.0000, 0.0000, 0.0000, 0.0000, 0.0000, 0.0000, 0.0000, 0.0000,\n",
       "           0.0000, 0.0000, 0.0000, 0.0000],\n",
       "          [0.0000, 0.0000, 0.0000, 0.0000, 0.0000, 0.0000, 0.0000, 0.0000,\n",
       "           0.0000, 0.0000, 0.0000, 0.0000, 0.0000, 0.0000, 0.0000, 0.0000,\n",
       "           0.0000, 0.0000, 0.0000, 0.0000, 0.0000, 0.0000, 0.0000, 0.0000,\n",
       "           0.0000, 0.0000, 0.0000, 0.0000],\n",
       "          [0.0000, 0.0000, 0.0000, 0.0000, 0.0000, 0.0000, 0.0000, 0.0000,\n",
       "           0.0000, 0.0000, 0.0000, 0.0000, 0.0000, 0.0000, 0.0000, 0.0000,\n",
       "           0.0000, 0.0000, 0.0000, 0.0000, 0.0000, 0.0000, 0.0000, 0.0000,\n",
       "           0.0000, 0.0000, 0.0000, 0.0000],\n",
       "          [0.0000, 0.0000, 0.0000, 0.0000, 0.0000, 0.0000, 0.0000, 0.0000,\n",
       "           0.0000, 0.0000, 0.0000, 0.0000, 0.0000, 0.0000, 0.0000, 0.0000,\n",
       "           0.0000, 0.0000, 0.0000, 0.0000, 0.0000, 0.0000, 0.0000, 0.0000,\n",
       "           0.0000, 0.0000, 0.0000, 0.0000],\n",
       "          [0.0000, 0.0000, 0.0000, 0.0000, 0.0000, 0.0000, 0.0000, 0.0000,\n",
       "           0.0000, 0.0000, 0.0000, 0.0000, 0.0000, 0.0000, 0.0000, 0.0000,\n",
       "           0.0000, 0.0000, 0.0000, 0.0000, 0.0000, 0.0000, 0.0000, 0.0000,\n",
       "           0.0000, 0.0000, 0.0000, 0.0000]]]])"
      ]
     },
     "execution_count": 58,
     "metadata": {},
     "output_type": "execute_result"
    }
   ],
   "source": [
    "images[0].unsqueeze(dim=1)"
   ]
  },
  {
   "cell_type": "code",
   "execution_count": 60,
   "id": "95beaea5",
   "metadata": {},
   "outputs": [
    {
     "data": {
      "text/plain": [
       "torch.Size([28, 28])"
      ]
     },
     "execution_count": 60,
     "metadata": {},
     "output_type": "execute_result"
    }
   ],
   "source": [
    "images[0][0].shape"
   ]
  },
  {
   "cell_type": "markdown",
   "id": "c37ebda0",
   "metadata": {},
   "source": [
    "# Lets define CNN Architecture "
   ]
  },
  {
   "cell_type": "code",
   "execution_count": 92,
   "id": "49db23b6",
   "metadata": {},
   "outputs": [],
   "source": [
    "class CNN(nn.Module):\n",
    "    def __init__(self, in_, out_):\n",
    "        super(CNN, self).__init__()\n",
    "        self.conv_pool_01=nn.Sequential(\n",
    "            nn.Conv2d(in_channels=in_, out_channels=8, kernel_size=5, stride=1, padding=0),\n",
    "            nn.ReLU(),\n",
    "            nn.MaxPool2d(kernel_size=2, stride=2))\n",
    "        self.conv_pool_02=nn.Sequential(\n",
    "            nn.Conv2d(in_channels=8, out_channels=16, kernel_size=5, stride=1, padding=0),\n",
    "            nn.ReLU(),\n",
    "            nn.MaxPool2d(kernel_size=2, stride=2))\n",
    "        self.Flatten=nn.Flatten()\n",
    "        self.FC_01=nn.Linear(in_features=16*4*4, out_features=128)\n",
    "        self.FC_02=nn.Linear(in_features=128, out_features=64)\n",
    "        self.FC_03=nn.Linear(in_features=64, out_features=out_)\n",
    "    def forward(self, x):\n",
    "        X=self.conv_pool_01(X)\n",
    "        X=self.conv_pool_02(X)\n",
    "        X=self.Flatten(x)\n",
    "        X=F.relu(self.FC_01(X))\n",
    "        X=F.relu(self.FC_02(X))\n",
    "        X=F.relu(self.FC_03(X))\n",
    "        return X\n",
    "       "
   ]
  },
  {
   "cell_type": "code",
   "execution_count": 93,
   "id": "157bb4b1",
   "metadata": {},
   "outputs": [
    {
     "name": "stdout",
     "output_type": "stream",
     "text": [
      "CNN(\n",
      "  (conv_pool_01): Sequential(\n",
      "    (0): Conv2d(1, 8, kernel_size=(5, 5), stride=(1, 1))\n",
      "    (1): ReLU()\n",
      "    (2): MaxPool2d(kernel_size=2, stride=2, padding=0, dilation=1, ceil_mode=False)\n",
      "  )\n",
      "  (conv_pool_02): Sequential(\n",
      "    (0): Conv2d(8, 16, kernel_size=(5, 5), stride=(1, 1))\n",
      "    (1): ReLU()\n",
      "    (2): MaxPool2d(kernel_size=2, stride=2, padding=0, dilation=1, ceil_mode=False)\n",
      "  )\n",
      "  (Flatten): Flatten(start_dim=1, end_dim=-1)\n",
      "  (FC_01): Linear(in_features=256, out_features=128, bias=True)\n",
      "  (FC_02): Linear(in_features=128, out_features=64, bias=True)\n",
      "  (FC_03): Linear(in_features=64, out_features=10, bias=True)\n",
      ")\n"
     ]
    }
   ],
   "source": [
    "model=CNN(1,10)\n",
    "print(model)"
   ]
  },
  {
   "cell_type": "markdown",
   "id": "14f0edc2",
   "metadata": {},
   "source": [
    "# Acces any layer from model\n",
    "1. model.Flatten"
   ]
  },
  {
   "cell_type": "code",
   "execution_count": 71,
   "id": "ef8259de",
   "metadata": {},
   "outputs": [
    {
     "data": {
      "text/plain": [
       "Sequential(\n",
       "  (0): Conv2d(1, 8, kernel_size=(5, 5), stride=(1, 1))\n",
       "  (1): ReLU()\n",
       "  (2): MaxPool2d(kernel_size=2, stride=2, padding=0, dilation=1, ceil_mode=False)\n",
       ")"
      ]
     },
     "execution_count": 71,
     "metadata": {},
     "output_type": "execute_result"
    }
   ],
   "source": [
    "model.conv_pool_01"
   ]
  },
  {
   "cell_type": "code",
   "execution_count": 75,
   "id": "b89e3c5b",
   "metadata": {},
   "outputs": [
    {
     "data": {
      "text/plain": [
       "False"
      ]
     },
     "execution_count": 75,
     "metadata": {},
     "output_type": "execute_result"
    }
   ],
   "source": [
    "#next(model.parameters()).is_cuda"
   ]
  },
  {
   "cell_type": "code",
   "execution_count": 74,
   "id": "ef7f3c76",
   "metadata": {},
   "outputs": [
    {
     "data": {
      "text/plain": [
       "CNN(\n",
       "  (conv_pool_01): Sequential(\n",
       "    (0): Conv2d(1, 8, kernel_size=(5, 5), stride=(1, 1))\n",
       "    (1): ReLU()\n",
       "    (2): MaxPool2d(kernel_size=2, stride=2, padding=0, dilation=1, ceil_mode=False)\n",
       "  )\n",
       "  (conv_pool_02): Sequential(\n",
       "    (0): Conv2d(8, 16, kernel_size=(5, 5), stride=(1, 1))\n",
       "    (1): ReLU()\n",
       "    (2): MaxPool2d(kernel_size=2, stride=2, padding=0, dilation=1, ceil_mode=False)\n",
       "  )\n",
       "  (Flatten): Flatten(start_dim=1, end_dim=-1)\n",
       "  (FC_01): Linear(in_features=256, out_features=128, bias=True)\n",
       "  (FC_02): Linear(in_features=128, out_features=64, bias=True)\n",
       "  (FC_03): Linear(in_features=64, out_features=10, bias=True)\n",
       ")"
      ]
     },
     "execution_count": 74,
     "metadata": {},
     "output_type": "execute_result"
    }
   ],
   "source": [
    "#model.to(config.DEVICE)"
   ]
  },
  {
   "cell_type": "markdown",
   "id": "cf531c59",
   "metadata": {},
   "source": [
    "# Checking how many parameters are trainable"
   ]
  },
  {
   "cell_type": "code",
   "execution_count": 98,
   "id": "4d3acadb",
   "metadata": {},
   "outputs": [
    {
     "name": "stdout",
     "output_type": "stream",
     "text": [
      "Total trainable parameters: {'trainable': 45226, 'non_trainable': 0}\n"
     ]
    },
    {
     "data": {
      "text/plain": [
       "{'Modules': ['conv_pool_01.0.weight',\n",
       "  'conv_pool_01.0.bias',\n",
       "  'conv_pool_02.0.weight',\n",
       "  'conv_pool_02.0.bias',\n",
       "  'FC_01.weight',\n",
       "  'FC_01.bias',\n",
       "  'FC_02.weight',\n",
       "  'FC_02.bias',\n",
       "  'FC_03.weight',\n",
       "  'FC_03.bias'],\n",
       " 'Parameters': [Parameter containing:\n",
       "  tensor([[[[-0.0769, -0.0308, -0.0626,  0.0340,  0.1126],\n",
       "            [ 0.1613, -0.1811, -0.0928,  0.0489,  0.0316],\n",
       "            [ 0.0099,  0.1405, -0.0431, -0.0807, -0.0063],\n",
       "            [-0.0691,  0.1800, -0.1498,  0.0782, -0.1026],\n",
       "            [ 0.1147,  0.0658,  0.0143, -0.0335,  0.0370]]],\n",
       "  \n",
       "  \n",
       "          [[[-0.0617, -0.0863,  0.0769,  0.0772, -0.1704],\n",
       "            [ 0.0596,  0.1510,  0.0563,  0.1017,  0.0057],\n",
       "            [ 0.0887, -0.1003,  0.1630,  0.1829, -0.0609],\n",
       "            [ 0.0318,  0.0262, -0.0244,  0.0603,  0.1142],\n",
       "            [-0.0549, -0.1150, -0.0056, -0.1001,  0.0665]]],\n",
       "  \n",
       "  \n",
       "          [[[ 0.0177,  0.0599, -0.1345, -0.1302, -0.1245],\n",
       "            [ 0.1682,  0.1461, -0.1440, -0.1927, -0.1834],\n",
       "            [ 0.0585,  0.0653,  0.1129, -0.1661,  0.1365],\n",
       "            [ 0.0130, -0.1633,  0.0929,  0.1674,  0.1526],\n",
       "            [ 0.0760, -0.0911,  0.1667, -0.1952,  0.0095]]],\n",
       "  \n",
       "  \n",
       "          [[[-0.1288,  0.0755, -0.0789,  0.1826,  0.1489],\n",
       "            [-0.0668,  0.1120,  0.0595, -0.1939,  0.0313],\n",
       "            [-0.0638, -0.0993, -0.0178, -0.0215, -0.1499],\n",
       "            [ 0.0503, -0.0243, -0.0847, -0.0607, -0.1516],\n",
       "            [ 0.0471,  0.1440, -0.0613,  0.0509,  0.1037]]],\n",
       "  \n",
       "  \n",
       "          [[[-0.1095, -0.1870, -0.0709,  0.0388,  0.1530],\n",
       "            [ 0.1663,  0.1502, -0.0509, -0.0960,  0.1892],\n",
       "            [-0.0353, -0.0781,  0.0599, -0.0452, -0.0959],\n",
       "            [ 0.1427, -0.1831,  0.0663,  0.1304, -0.0852],\n",
       "            [-0.1796,  0.0278, -0.0841, -0.1529,  0.1611]]],\n",
       "  \n",
       "  \n",
       "          [[[-0.1374, -0.1574,  0.1684, -0.1147, -0.0159],\n",
       "            [-0.0595,  0.1355,  0.0387, -0.1761, -0.0248],\n",
       "            [ 0.1905,  0.1199,  0.0337, -0.1040,  0.1147],\n",
       "            [ 0.0203, -0.0575,  0.1168,  0.1892, -0.0058],\n",
       "            [-0.1516, -0.0862, -0.0318, -0.0263,  0.1409]]],\n",
       "  \n",
       "  \n",
       "          [[[ 0.1037, -0.1914,  0.0888,  0.1762,  0.0863],\n",
       "            [ 0.0860, -0.1884, -0.1756,  0.1137,  0.0466],\n",
       "            [-0.1477, -0.0964, -0.0079,  0.0640, -0.1831],\n",
       "            [ 0.0646,  0.0199, -0.1462,  0.1143, -0.0907],\n",
       "            [ 0.1895,  0.1608, -0.0090,  0.0594, -0.1875]]],\n",
       "  \n",
       "  \n",
       "          [[[-0.0381, -0.1918,  0.0781,  0.0402,  0.1185],\n",
       "            [ 0.0626,  0.1440,  0.0541, -0.0153, -0.1529],\n",
       "            [-0.1808,  0.1421, -0.0549, -0.0468, -0.0266],\n",
       "            [-0.1071, -0.0692,  0.0683, -0.1183,  0.1974],\n",
       "            [-0.0083, -0.1754, -0.1769,  0.1070,  0.1572]]]], requires_grad=True),\n",
       "  Parameter containing:\n",
       "  tensor([ 0.0716,  0.0645, -0.0541,  0.0237, -0.1589,  0.1177, -0.1865,  0.0928],\n",
       "         requires_grad=True),\n",
       "  Parameter containing:\n",
       "  tensor([[[[-3.6095e-02,  3.0085e-02, -5.9003e-02, -4.0571e-03, -5.2802e-02],\n",
       "            [-2.3353e-02, -3.1026e-02,  1.4804e-02,  4.0673e-02,  3.5627e-03],\n",
       "            [ 3.3500e-02, -4.8036e-02, -3.8379e-02, -3.5002e-02,  3.6127e-02],\n",
       "            [ 4.1808e-02, -6.0613e-02,  3.4503e-03,  3.9837e-02, -5.3801e-02],\n",
       "            [-9.1769e-03, -9.9050e-03, -1.9153e-02, -5.5227e-04, -7.0708e-02]],\n",
       "  \n",
       "           [[ 8.2590e-03, -6.5114e-02, -5.2901e-03,  5.9393e-03,  4.6746e-02],\n",
       "            [-2.6756e-02,  6.7817e-02,  3.4519e-03, -1.8077e-02,  2.5810e-02],\n",
       "            [-5.6740e-02, -1.9922e-02,  4.4204e-02,  6.9020e-02,  4.1274e-02],\n",
       "            [ 6.2175e-02,  1.4343e-02, -4.1298e-02,  9.6116e-04,  1.0104e-02],\n",
       "            [-2.5627e-02, -1.8623e-02,  3.1274e-02,  4.7920e-02,  3.4878e-02]],\n",
       "  \n",
       "           [[-6.8299e-04,  5.4165e-02, -6.9815e-02, -5.8290e-02, -5.6074e-03],\n",
       "            [-5.9404e-03,  3.1197e-02,  1.8528e-02, -5.1253e-02,  6.9321e-02],\n",
       "            [-6.0399e-02, -1.9125e-02, -6.5249e-02,  5.1205e-02, -2.5895e-02],\n",
       "            [ 9.2375e-03, -2.3980e-02,  5.3983e-03,  1.8335e-02, -3.9483e-02],\n",
       "            [ 3.0363e-03, -5.9451e-02,  4.0970e-02,  5.9973e-03, -1.7504e-03]],\n",
       "  \n",
       "           ...,\n",
       "  \n",
       "           [[-3.6816e-02, -3.4894e-02, -4.8941e-02,  4.0999e-02,  2.8067e-02],\n",
       "            [-6.7222e-02, -3.8492e-02, -4.7666e-02,  1.2304e-02, -1.7727e-02],\n",
       "            [ 2.7803e-02, -8.1067e-03,  1.7390e-02,  3.1297e-02,  1.2376e-02],\n",
       "            [-2.3024e-02,  4.1179e-03,  5.4375e-02,  6.5695e-02,  4.6257e-02],\n",
       "            [ 1.8294e-03,  3.7683e-02, -1.1250e-02,  9.5673e-03,  6.5353e-02]],\n",
       "  \n",
       "           [[ 6.6784e-02,  4.9712e-02, -3.3925e-02,  1.0313e-02,  6.5622e-02],\n",
       "            [-3.7199e-02, -3.9664e-03,  6.3759e-02, -1.9898e-02, -5.1766e-02],\n",
       "            [-2.8370e-02, -1.5417e-02,  3.5582e-02,  3.3654e-02, -1.6401e-02],\n",
       "            [-4.0684e-02,  1.3289e-02, -4.3869e-02,  4.1925e-02, -1.0827e-02],\n",
       "            [ 2.1030e-02, -5.0146e-02, -6.8395e-02,  5.9823e-02, -3.8475e-03]],\n",
       "  \n",
       "           [[ 3.6613e-02,  5.9997e-02,  9.5113e-04, -8.4364e-03,  4.1135e-02],\n",
       "            [ 6.5272e-02, -3.0189e-02, -3.8350e-02, -4.7763e-02, -4.9588e-03],\n",
       "            [-3.4877e-02,  3.1378e-02,  8.9419e-03,  4.6819e-02, -3.9827e-02],\n",
       "            [ 2.1438e-02,  1.7862e-02, -5.8649e-02,  4.2541e-02,  5.0237e-02],\n",
       "            [ 5.1618e-02,  2.5370e-02,  3.0061e-03,  2.5610e-02,  4.5409e-02]]],\n",
       "  \n",
       "  \n",
       "          [[[-5.2366e-03, -1.6006e-02,  1.6948e-02,  5.0532e-02,  1.3225e-02],\n",
       "            [ 2.5635e-02,  1.2659e-02, -1.7880e-03,  6.2483e-02, -1.1450e-02],\n",
       "            [ 1.7267e-02, -3.3820e-03,  3.7981e-02, -3.5294e-02, -7.0146e-02],\n",
       "            [ 5.8956e-02, -4.1470e-02,  4.4424e-03, -6.7066e-02,  5.1428e-03],\n",
       "            [-4.7612e-02, -1.4719e-02, -4.9223e-02,  4.2412e-02, -1.7031e-02]],\n",
       "  \n",
       "           [[ 4.0802e-02,  3.4537e-02, -3.0280e-04,  5.1909e-02, -4.2272e-02],\n",
       "            [ 3.9365e-02, -1.2001e-02, -6.2640e-02,  3.1605e-02,  7.1306e-03],\n",
       "            [ 5.7484e-02, -6.8176e-02, -6.4661e-02, -3.1017e-02, -2.6674e-02],\n",
       "            [-1.7813e-02,  5.6198e-02, -4.4885e-03, -2.6217e-02,  2.9486e-02],\n",
       "            [-4.6020e-02, -5.3145e-02, -1.6821e-02, -1.0114e-02, -1.9999e-02]],\n",
       "  \n",
       "           [[ 6.7171e-02,  5.5798e-02, -3.7803e-02,  4.4122e-02, -5.0373e-03],\n",
       "            [-5.2053e-02,  3.0184e-03,  5.5439e-03,  2.6005e-02, -8.5541e-03],\n",
       "            [ 5.0484e-02,  3.8318e-02,  2.4183e-02,  6.8404e-02,  1.8056e-02],\n",
       "            [-5.1195e-02,  2.5878e-02,  5.7253e-02,  2.0496e-02, -6.8684e-02],\n",
       "            [ 4.7380e-02, -2.3449e-02, -2.3891e-02, -2.9011e-02, -7.0101e-02]],\n",
       "  \n",
       "           ...,\n",
       "  \n",
       "           [[-4.0111e-02,  3.0046e-02, -3.1994e-02, -6.6742e-02, -1.0580e-03],\n",
       "            [-5.3217e-02, -6.0103e-03, -6.9361e-02,  1.6682e-02, -4.1136e-02],\n",
       "            [-5.3029e-03,  1.3986e-02,  1.8663e-02, -6.5063e-02,  1.8869e-02],\n",
       "            [-3.0328e-02, -7.2706e-03,  6.8664e-02, -1.3344e-02, -2.9641e-02],\n",
       "            [-3.8245e-02,  2.6861e-02,  5.9053e-02,  1.2821e-03, -4.5422e-02]],\n",
       "  \n",
       "           [[-8.4052e-03, -2.2754e-02,  5.6128e-02,  6.1047e-02,  4.5180e-02],\n",
       "            [-2.7769e-02, -1.9836e-02, -3.1020e-02, -1.9048e-02, -4.4296e-02],\n",
       "            [-4.2230e-02, -6.2296e-02,  1.6572e-02,  4.6974e-02, -2.8459e-02],\n",
       "            [-3.6712e-02, -5.4887e-02,  8.6414e-03,  3.9855e-02,  6.1618e-02],\n",
       "            [ 5.5362e-02, -6.3995e-02, -4.6708e-02,  2.6750e-02, -5.7673e-02]],\n",
       "  \n",
       "           [[ 5.5487e-02,  4.7680e-02,  5.3858e-02, -3.9198e-02,  1.4544e-02],\n",
       "            [-3.2129e-02, -4.6309e-02,  2.9898e-02,  5.7917e-02,  4.0931e-02],\n",
       "            [ 6.7480e-02, -5.5751e-02, -6.4462e-02,  4.0588e-02,  7.0275e-02],\n",
       "            [-5.5599e-03, -4.9630e-03,  1.5801e-02, -2.4219e-02, -6.5414e-02],\n",
       "            [ 5.6190e-02, -6.1044e-02,  1.4326e-02, -8.6918e-05,  3.7129e-03]]],\n",
       "  \n",
       "  \n",
       "          [[[-6.1502e-02, -6.2320e-02, -3.2087e-02, -7.6425e-03, -4.1720e-02],\n",
       "            [ 6.9471e-02,  2.4396e-02, -2.1874e-02,  6.4292e-03,  6.5603e-02],\n",
       "            [-5.7867e-02,  3.4092e-02, -2.4862e-03, -3.6900e-02,  5.3909e-02],\n",
       "            [-1.2130e-02,  2.6661e-03,  3.7617e-02, -1.4884e-02,  3.8102e-02],\n",
       "            [ 6.5713e-02, -3.5863e-02,  1.6866e-02,  4.8274e-02,  5.9142e-02]],\n",
       "  \n",
       "           [[ 7.8066e-03,  2.2622e-02, -2.9556e-02,  1.2310e-02,  2.0793e-02],\n",
       "            [ 1.7474e-02, -4.6973e-02,  3.4156e-02, -6.6115e-02, -4.4720e-02],\n",
       "            [ 4.1619e-03,  5.9532e-02,  2.1701e-02,  1.4397e-02, -2.4167e-02],\n",
       "            [ 3.0479e-03, -3.3251e-02, -5.6610e-02,  5.9302e-02,  3.6454e-02],\n",
       "            [-1.1293e-02,  4.8941e-02,  3.8463e-02, -3.7950e-02, -6.2883e-02]],\n",
       "  \n",
       "           [[-2.9136e-02,  1.2278e-02, -6.2382e-03,  3.3003e-03, -5.4036e-02],\n",
       "            [-1.0841e-03,  9.6251e-03,  1.0127e-02, -1.2273e-02,  3.9001e-02],\n",
       "            [-4.8678e-02, -3.5333e-02,  2.7892e-02,  1.5365e-02,  3.0835e-02],\n",
       "            [ 3.7406e-02, -4.2602e-02,  5.0458e-02, -3.0630e-02,  2.5426e-02],\n",
       "            [ 6.5719e-02, -1.6039e-02, -2.3191e-02, -3.4733e-02, -2.6891e-02]],\n",
       "  \n",
       "           ...,\n",
       "  \n",
       "           [[-1.5261e-02,  8.0238e-03,  4.7477e-02,  5.9060e-02, -3.7199e-02],\n",
       "            [-6.9123e-02,  5.2498e-02,  5.2344e-02, -8.8405e-03, -3.5792e-03],\n",
       "            [ 9.2383e-03, -2.9385e-03, -5.0127e-02, -1.1816e-02,  5.9536e-03],\n",
       "            [ 6.2366e-02, -1.7448e-02, -5.2673e-02,  5.6837e-02, -1.6669e-02],\n",
       "            [ 3.9834e-02, -3.9796e-02, -1.8130e-02, -5.7752e-03,  5.8539e-02]],\n",
       "  \n",
       "           [[ 4.4700e-02,  5.1807e-02,  4.7288e-02, -2.0848e-02,  2.7684e-02],\n",
       "            [ 4.4785e-02, -3.8481e-02, -6.3617e-02, -5.9159e-02, -2.7567e-02],\n",
       "            [ 2.0271e-03,  4.7756e-02, -3.5557e-02, -5.1901e-02, -3.6514e-02],\n",
       "            [ 6.7885e-02,  4.4775e-02,  2.1331e-02, -6.1034e-02,  4.2259e-02],\n",
       "            [ 5.7965e-02,  6.8952e-02,  6.0963e-02, -5.6458e-02, -4.3635e-02]],\n",
       "  \n",
       "           [[-5.6230e-02, -6.1250e-02,  1.2536e-02,  1.3853e-02,  8.0778e-03],\n",
       "            [ 4.6526e-02, -1.6508e-02, -6.2881e-02,  5.6399e-02,  4.8137e-02],\n",
       "            [ 2.7730e-03,  3.8991e-02,  6.9840e-03,  1.6147e-02, -1.3055e-02],\n",
       "            [-9.9803e-03,  8.1107e-03, -5.5935e-02, -4.9152e-02,  6.8336e-02],\n",
       "            [-1.5946e-03, -3.7966e-02,  6.4664e-02,  5.3426e-03, -4.6335e-02]]],\n",
       "  \n",
       "  \n",
       "          ...,\n",
       "  \n",
       "  \n",
       "          [[[-5.5207e-02, -1.5695e-03,  7.0465e-02, -6.7212e-03, -4.7008e-02],\n",
       "            [-3.6234e-03,  1.8010e-02, -6.4241e-02, -1.3472e-02, -1.0215e-02],\n",
       "            [ 8.0587e-03, -2.1716e-02, -2.5352e-02,  3.3450e-03,  2.1543e-02],\n",
       "            [ 6.6593e-02, -1.6092e-02, -6.3054e-02,  4.5961e-03,  6.2044e-02],\n",
       "            [ 6.8996e-02, -5.6718e-02,  2.7712e-02,  6.5882e-03,  6.0201e-02]],\n",
       "  \n",
       "           [[-5.0494e-02, -7.8287e-03,  3.2178e-02,  3.9783e-02,  3.3482e-02],\n",
       "            [ 5.5183e-02,  2.9867e-02, -7.3548e-03,  5.6625e-02,  2.2353e-02],\n",
       "            [-4.0670e-02,  2.4746e-02, -2.2714e-02,  2.1785e-02, -3.1777e-02],\n",
       "            [-3.8319e-02, -5.7767e-02,  1.1708e-02,  1.3110e-02, -2.3888e-03],\n",
       "            [ 5.7312e-02, -2.2363e-02,  2.9954e-02, -1.8823e-02,  4.6579e-02]],\n",
       "  \n",
       "           [[-3.6557e-03, -5.0972e-02,  2.5285e-04, -3.1022e-02,  5.0995e-02],\n",
       "            [-7.3214e-04, -6.1488e-03,  1.6114e-02,  5.1797e-02, -6.9686e-02],\n",
       "            [-5.8139e-02,  3.1357e-02,  3.4585e-02,  2.4715e-02, -5.6197e-02],\n",
       "            [ 6.2514e-02,  2.5380e-02,  6.0823e-02,  2.5319e-02,  4.4439e-02],\n",
       "            [ 4.7496e-02, -5.5747e-02, -2.6359e-03, -6.5854e-02,  7.0664e-02]],\n",
       "  \n",
       "           ...,\n",
       "  \n",
       "           [[ 4.1780e-02, -4.4136e-02, -2.1712e-02,  2.0639e-02, -3.3463e-02],\n",
       "            [ 1.9815e-02, -5.7240e-02,  6.3644e-02,  3.5195e-02, -4.9415e-02],\n",
       "            [-1.4901e-02, -2.2363e-03,  1.0075e-02,  6.0918e-02,  2.9631e-02],\n",
       "            [-3.9268e-02,  5.4936e-02, -4.4101e-02,  3.8149e-02, -7.0635e-02],\n",
       "            [-4.4163e-03, -4.5116e-02,  3.7001e-03, -1.9636e-02, -2.5579e-02]],\n",
       "  \n",
       "           [[ 5.3659e-02, -2.1911e-03,  2.6860e-02, -6.4764e-02,  2.7589e-02],\n",
       "            [-5.8581e-02,  3.5489e-04, -3.5998e-02,  3.5155e-02,  1.2703e-02],\n",
       "            [-5.7400e-02, -1.3359e-02,  3.8380e-02,  3.5978e-02,  5.6650e-02],\n",
       "            [ 4.5308e-04,  2.0069e-02,  3.2656e-02,  3.3548e-02,  2.2662e-02],\n",
       "            [ 1.0540e-02, -4.5712e-02, -2.5667e-02,  7.0570e-02, -5.4162e-02]],\n",
       "  \n",
       "           [[ 4.4660e-02,  3.1974e-02,  5.9804e-02, -1.4047e-02, -4.2676e-02],\n",
       "            [ 6.9973e-02,  3.4829e-02, -6.8422e-02,  5.7789e-02, -1.9057e-02],\n",
       "            [ 4.8571e-03, -7.1286e-03, -5.0899e-02, -6.5102e-02,  4.7831e-02],\n",
       "            [-6.4490e-02, -4.2380e-03, -3.6188e-02, -6.4797e-02,  3.7794e-03],\n",
       "            [ 1.9618e-02,  2.8297e-02, -1.8684e-02,  1.6183e-02, -1.0510e-02]]],\n",
       "  \n",
       "  \n",
       "          [[[-2.4484e-02, -1.6754e-02,  9.6740e-03,  6.4823e-02, -2.8247e-02],\n",
       "            [ 3.2580e-02,  1.4546e-03,  1.7751e-02, -6.0565e-02,  6.1514e-02],\n",
       "            [-5.7826e-04,  7.5838e-03,  2.5858e-02,  6.2675e-02,  1.6948e-02],\n",
       "            [-7.0291e-02,  4.7429e-02,  5.9603e-02,  3.4623e-02, -6.4861e-02],\n",
       "            [ 5.0742e-02, -5.1511e-04, -1.8370e-02,  2.2453e-02, -3.3240e-02]],\n",
       "  \n",
       "           [[ 2.7312e-03, -5.1007e-02,  6.4807e-02, -2.6203e-02,  2.4294e-02],\n",
       "            [ 3.4561e-02, -5.7719e-02, -3.1155e-02, -2.0229e-03, -6.4741e-02],\n",
       "            [-4.2275e-02,  2.8900e-02, -6.8906e-02,  2.0223e-04, -4.3127e-02],\n",
       "            [-1.2249e-02, -8.9598e-03, -2.8420e-03, -5.0478e-02,  6.5356e-02],\n",
       "            [-1.7823e-03, -1.6040e-03,  5.6194e-02, -3.2909e-02,  1.3663e-02]],\n",
       "  \n",
       "           [[ 4.3748e-02,  1.8014e-02,  2.2955e-02,  2.9959e-02,  4.3929e-02],\n",
       "            [ 6.8728e-03,  6.6710e-02,  7.0444e-02, -5.2265e-02, -2.5637e-02],\n",
       "            [ 4.4775e-02,  6.6489e-02, -3.0949e-02, -6.9035e-02,  5.8406e-03],\n",
       "            [-6.8551e-02, -3.9428e-03, -2.3092e-03,  6.7130e-02,  4.0444e-03],\n",
       "            [ 4.2680e-02,  5.4229e-02, -2.2853e-03,  5.0951e-02, -1.5382e-02]],\n",
       "  \n",
       "           ...,\n",
       "  \n",
       "           [[ 3.1437e-02, -6.4263e-02,  4.1904e-02, -8.8192e-03, -1.8470e-02],\n",
       "            [-2.3875e-02, -2.7928e-02,  6.9970e-02,  5.4334e-02,  2.0208e-02],\n",
       "            [ 3.9948e-02,  3.8109e-02, -2.9216e-02,  4.0107e-02,  4.6763e-03],\n",
       "            [ 1.0220e-02,  1.2784e-02, -2.7431e-02, -3.0759e-02,  5.7766e-03],\n",
       "            [-6.9898e-02, -3.1751e-02, -1.1142e-02,  5.1539e-02,  2.2342e-02]],\n",
       "  \n",
       "           [[ 4.9139e-02, -7.4504e-03,  2.6885e-02, -3.9087e-03,  2.6749e-03],\n",
       "            [ 6.5535e-02,  4.1136e-02,  6.4395e-03, -6.2865e-02, -3.2976e-02],\n",
       "            [-2.6389e-02, -4.6454e-02,  1.0637e-02, -2.9699e-02, -3.5376e-02],\n",
       "            [-4.1988e-03, -4.7457e-02, -5.0765e-02,  5.5356e-02,  6.7951e-02],\n",
       "            [-4.4682e-02, -5.7011e-02, -1.5658e-02,  6.4826e-02,  2.1775e-02]],\n",
       "  \n",
       "           [[-5.0159e-02,  5.3971e-02,  5.6650e-03,  6.9660e-02,  5.9660e-04],\n",
       "            [-2.3663e-02,  6.5508e-02,  6.4633e-02,  6.2892e-02,  1.6585e-02],\n",
       "            [-5.1097e-02, -2.6710e-02, -9.0172e-03,  4.8107e-02, -2.8493e-02],\n",
       "            [ 4.3516e-02,  3.5465e-02,  4.7364e-02,  1.3434e-02, -4.7229e-02],\n",
       "            [-6.6939e-02,  4.8939e-02,  2.1940e-02, -5.9197e-02, -1.3249e-02]]],\n",
       "  \n",
       "  \n",
       "          [[[ 1.2454e-02,  6.3343e-02,  6.7231e-02,  5.0987e-03,  2.6271e-03],\n",
       "            [-3.1435e-04, -3.1126e-02, -2.2522e-02,  5.8479e-02, -2.3820e-02],\n",
       "            [-5.0175e-02, -7.0532e-02, -2.0079e-02,  2.2314e-02,  2.3926e-02],\n",
       "            [ 6.8302e-02, -4.5220e-02, -7.7118e-03,  1.9838e-02, -4.9562e-02],\n",
       "            [-7.5110e-04,  4.8302e-02, -4.5932e-02, -4.4707e-02, -5.0368e-02]],\n",
       "  \n",
       "           [[ 4.6889e-02, -1.9833e-02, -2.7398e-02,  5.1436e-02, -5.5734e-02],\n",
       "            [ 4.8937e-02,  2.5922e-03,  6.8519e-02, -5.9730e-02, -3.5317e-02],\n",
       "            [-2.9549e-03, -4.8117e-02, -4.6914e-03, -3.0742e-02, -1.1979e-02],\n",
       "            [-3.9324e-02, -3.9550e-02,  3.3385e-03, -5.0459e-02, -6.4096e-03],\n",
       "            [ 1.1671e-02, -8.0132e-03, -3.2072e-02,  7.0684e-03, -7.0012e-02]],\n",
       "  \n",
       "           [[ 1.7754e-02, -4.9021e-02,  6.8369e-02,  2.9806e-02, -5.9834e-02],\n",
       "            [-2.4886e-02,  5.5709e-02, -1.8282e-02,  2.4779e-02, -3.4193e-02],\n",
       "            [ 3.8015e-02,  3.2602e-02, -2.8345e-02,  6.2679e-02, -2.1952e-02],\n",
       "            [-3.8891e-02,  6.6001e-04, -1.6473e-02, -5.3334e-02,  3.5112e-02],\n",
       "            [-6.1373e-03, -3.5489e-02,  2.6514e-02,  3.2782e-02, -1.8625e-02]],\n",
       "  \n",
       "           ...,\n",
       "  \n",
       "           [[ 5.2527e-02,  6.8019e-02, -4.2599e-02, -3.7871e-02,  4.8451e-02],\n",
       "            [-3.2888e-02, -4.8388e-02,  1.9751e-04,  5.4601e-02, -7.0278e-02],\n",
       "            [-4.2761e-02, -4.9504e-02,  4.3545e-02,  6.2001e-02, -4.9567e-03],\n",
       "            [-6.8822e-02,  4.4000e-02,  5.1396e-02,  2.9472e-02,  3.9366e-02],\n",
       "            [ 2.2662e-02,  9.3565e-03,  6.1738e-02, -5.6510e-02,  4.2146e-02]],\n",
       "  \n",
       "           [[-1.3204e-02,  6.4599e-02, -4.0304e-02,  2.8811e-02, -5.4357e-02],\n",
       "            [-1.6969e-02,  6.5563e-02, -4.3474e-02, -4.5009e-02, -1.9919e-02],\n",
       "            [ 1.3454e-02, -2.5493e-02, -4.4974e-02,  9.7996e-04,  4.2199e-02],\n",
       "            [ 3.1722e-02,  9.3111e-04, -5.1787e-02,  4.3605e-02, -2.6899e-02],\n",
       "            [ 1.4131e-02,  3.4989e-02, -5.3052e-02,  1.1168e-02, -8.3947e-03]],\n",
       "  \n",
       "           [[ 3.7911e-02, -3.7124e-03, -6.6470e-02,  3.4488e-02, -2.8792e-02],\n",
       "            [-3.6243e-02,  1.8906e-02,  1.2052e-02, -6.1761e-02,  6.5560e-02],\n",
       "            [ 6.0658e-02, -5.5901e-02,  6.9065e-02, -2.1678e-02, -5.9039e-02],\n",
       "            [ 6.8204e-02, -1.5430e-02, -5.2396e-02, -5.7431e-02,  1.2450e-02],\n",
       "            [ 2.2731e-02, -1.9828e-02, -4.5260e-02,  3.1427e-02, -2.4415e-02]]]],\n",
       "         requires_grad=True),\n",
       "  Parameter containing:\n",
       "  tensor([ 0.0448, -0.0003, -0.0444, -0.0279, -0.0579,  0.0170,  0.0308, -0.0020,\n",
       "           0.0288,  0.0524,  0.0013, -0.0398, -0.0174, -0.0668, -0.0128,  0.0512],\n",
       "         requires_grad=True),\n",
       "  Parameter containing:\n",
       "  tensor([[ 0.0553, -0.0051, -0.0484,  ..., -0.0532,  0.0117, -0.0006],\n",
       "          [-0.0333, -0.0436,  0.0426,  ...,  0.0514,  0.0433,  0.0091],\n",
       "          [-0.0402, -0.0181, -0.0473,  ...,  0.0442,  0.0439, -0.0072],\n",
       "          ...,\n",
       "          [ 0.0549,  0.0117, -0.0266,  ...,  0.0076,  0.0282,  0.0407],\n",
       "          [ 0.0058,  0.0134,  0.0374,  ...,  0.0081, -0.0266, -0.0426],\n",
       "          [ 0.0132,  0.0082, -0.0147,  ..., -0.0331,  0.0072,  0.0096]],\n",
       "         requires_grad=True),\n",
       "  Parameter containing:\n",
       "  tensor([ 0.0369,  0.0092, -0.0204,  0.0358,  0.0227,  0.0515,  0.0286,  0.0111,\n",
       "           0.0088, -0.0561,  0.0151, -0.0190, -0.0147,  0.0620, -0.0537,  0.0079,\n",
       "           0.0163, -0.0081, -0.0417,  0.0183, -0.0104, -0.0433, -0.0279,  0.0198,\n",
       "           0.0388,  0.0420, -0.0344, -0.0487,  0.0172,  0.0515, -0.0057,  0.0255,\n",
       "          -0.0186, -0.0374,  0.0615, -0.0177, -0.0234, -0.0503, -0.0062, -0.0370,\n",
       "           0.0456,  0.0026,  0.0611,  0.0137, -0.0477, -0.0259, -0.0469, -0.0019,\n",
       "           0.0348,  0.0120, -0.0215,  0.0261,  0.0397, -0.0025,  0.0226,  0.0604,\n",
       "           0.0345, -0.0353,  0.0089,  0.0453, -0.0144,  0.0141,  0.0619,  0.0352,\n",
       "          -0.0325,  0.0620, -0.0141, -0.0278, -0.0355,  0.0045,  0.0540,  0.0451,\n",
       "           0.0416,  0.0134,  0.0339,  0.0520, -0.0136,  0.0614,  0.0340, -0.0016,\n",
       "          -0.0024, -0.0114, -0.0199, -0.0151, -0.0529,  0.0406,  0.0218,  0.0124,\n",
       "           0.0405, -0.0303,  0.0231, -0.0109, -0.0103,  0.0167, -0.0214, -0.0022,\n",
       "          -0.0398,  0.0032,  0.0354, -0.0102,  0.0281,  0.0565,  0.0311,  0.0348,\n",
       "           0.0062, -0.0487, -0.0398, -0.0307, -0.0429,  0.0407, -0.0073, -0.0116,\n",
       "          -0.0020, -0.0148, -0.0492,  0.0477, -0.0024, -0.0080, -0.0190, -0.0061,\n",
       "           0.0204,  0.0410,  0.0107,  0.0205,  0.0386,  0.0171,  0.0109,  0.0378],\n",
       "         requires_grad=True),\n",
       "  Parameter containing:\n",
       "  tensor([[ 0.0326, -0.0302,  0.0502,  ...,  0.0252,  0.0567,  0.0587],\n",
       "          [ 0.0283, -0.0116,  0.0124,  ..., -0.0827,  0.0028,  0.0177],\n",
       "          [-0.0496, -0.0069, -0.0393,  ..., -0.0239,  0.0094,  0.0097],\n",
       "          ...,\n",
       "          [ 0.0626,  0.0841, -0.0267,  ...,  0.0302,  0.0658, -0.0052],\n",
       "          [ 0.0679, -0.0726,  0.0024,  ...,  0.0387, -0.0189, -0.0135],\n",
       "          [ 0.0184,  0.0024,  0.0221,  ...,  0.0602,  0.0448, -0.0184]],\n",
       "         requires_grad=True),\n",
       "  Parameter containing:\n",
       "  tensor([ 0.0231,  0.0697,  0.0628, -0.0013, -0.0333, -0.0688,  0.0630, -0.0232,\n",
       "           0.0058, -0.0058,  0.0331, -0.0045,  0.0264, -0.0291, -0.0689, -0.0463,\n",
       "          -0.0375, -0.0768,  0.0076,  0.0416,  0.0043, -0.0109, -0.0507, -0.0023,\n",
       "           0.0868, -0.0180, -0.0736, -0.0574, -0.0330, -0.0693,  0.0034, -0.0177,\n",
       "          -0.0246, -0.0126,  0.0070,  0.0058, -0.0120,  0.0662,  0.0841,  0.0540,\n",
       "           0.0246,  0.0210,  0.0234,  0.0008,  0.0039,  0.0296, -0.0031,  0.0854,\n",
       "           0.0780, -0.0639, -0.0012, -0.0498,  0.0254,  0.0113,  0.0538,  0.0400,\n",
       "           0.0545, -0.0624, -0.0812, -0.0344, -0.0861,  0.0595,  0.0509,  0.0364],\n",
       "         requires_grad=True),\n",
       "  Parameter containing:\n",
       "  tensor([[ 6.8078e-02,  4.8869e-02,  1.0436e-01, -4.1845e-02, -3.2516e-02,\n",
       "           -2.6349e-02, -3.8480e-02, -1.2346e-02, -8.5068e-02, -5.7319e-02,\n",
       "           -6.4791e-02, -6.0169e-02, -5.1174e-02,  9.6187e-02, -9.7665e-02,\n",
       "            2.6747e-03,  4.3473e-02, -3.8828e-02, -5.5194e-02, -1.1702e-01,\n",
       "            9.4574e-02, -2.2817e-03, -3.5048e-02,  3.4123e-02, -2.1105e-02,\n",
       "            6.4168e-02,  1.1061e-01, -1.1628e-02,  7.0195e-02, -4.7535e-02,\n",
       "            1.0908e-01,  1.7470e-02, -4.3945e-02,  8.8552e-02, -9.0115e-02,\n",
       "            4.7285e-02,  2.4326e-02,  6.2877e-02, -5.6748e-02, -1.0950e-01,\n",
       "            3.2848e-02,  1.1699e-01,  6.1283e-02,  6.8557e-02,  2.1459e-02,\n",
       "           -4.4569e-02, -1.0469e-01,  6.4775e-02, -1.1506e-01, -4.7371e-02,\n",
       "           -1.1832e-01, -1.0228e-01,  9.9236e-02,  5.0737e-02,  9.6306e-02,\n",
       "            2.1638e-02,  5.9602e-02, -1.1423e-01, -6.9579e-02, -6.5921e-02,\n",
       "            6.7654e-02, -1.0311e-01,  1.0800e-03, -4.7907e-02],\n",
       "          [ 8.6578e-03, -9.8733e-02,  8.5857e-02,  1.7488e-02, -9.7517e-02,\n",
       "            9.7149e-02, -6.2253e-02,  2.0998e-02,  3.0920e-02, -5.7730e-03,\n",
       "            5.8239e-02,  1.1902e-01,  6.0024e-02,  8.1886e-03, -7.0886e-02,\n",
       "            3.4564e-02, -1.2269e-02, -1.5103e-02,  7.0264e-02, -7.5178e-02,\n",
       "            1.0088e-02, -8.7247e-02,  6.7047e-03, -1.9697e-02, -4.9939e-02,\n",
       "            3.3959e-02,  1.4310e-02, -1.1387e-01,  8.4341e-02,  9.4545e-02,\n",
       "            1.3486e-02,  9.1768e-03,  3.3448e-02, -3.4638e-02, -1.0678e-02,\n",
       "            5.5250e-02, -8.8284e-02,  1.1492e-01, -6.7554e-02, -3.6508e-02,\n",
       "            1.0179e-01,  7.2588e-02,  5.3638e-02, -1.6935e-02,  1.0724e-01,\n",
       "           -1.2288e-01, -7.2781e-02,  9.0326e-02, -6.5290e-02,  4.2096e-03,\n",
       "           -8.1698e-02, -1.1588e-01,  8.6049e-02, -5.5105e-02, -1.2094e-01,\n",
       "            8.8327e-02, -8.6703e-02, -4.5457e-02,  2.4043e-02,  1.1021e-01,\n",
       "            2.6231e-02, -4.9657e-02,  8.1782e-02, -1.0365e-01],\n",
       "          [-4.1071e-02,  7.1063e-02, -3.7157e-02,  1.0413e-01,  9.1023e-03,\n",
       "           -1.2406e-01,  1.0049e-02,  3.3614e-03,  5.3840e-02,  7.9558e-02,\n",
       "           -3.2880e-02, -7.3935e-02,  9.1038e-02,  8.2211e-02,  6.2605e-02,\n",
       "            9.3120e-02,  2.2100e-02, -1.8231e-02, -6.6230e-02, -9.2439e-02,\n",
       "           -8.9230e-02, -3.9173e-02, -2.2863e-02,  1.2381e-01,  2.8989e-02,\n",
       "           -3.9490e-02, -6.6254e-02, -9.3423e-02, -2.3993e-02, -1.0133e-01,\n",
       "            7.0971e-02, -6.2282e-02, -2.9157e-02,  5.1808e-02, -1.0395e-01,\n",
       "           -8.7259e-02, -4.1879e-02,  2.0406e-02,  1.0779e-01,  6.3382e-02,\n",
       "            9.0421e-02, -5.7695e-02, -1.5614e-02,  1.5867e-02,  9.0034e-02,\n",
       "           -3.2227e-02,  1.0009e-01, -6.4748e-02, -4.8595e-03, -2.9800e-02,\n",
       "            6.3002e-02, -8.5271e-02, -1.2261e-01,  7.8857e-02, -4.7927e-02,\n",
       "            6.3426e-02, -7.7493e-02, -3.3332e-02,  9.9928e-02,  6.8603e-02,\n",
       "           -2.4389e-02, -6.1749e-02,  7.9318e-02,  4.8889e-02],\n",
       "          [-2.3566e-02, -1.9425e-02, -4.6640e-02,  2.7581e-02, -4.8213e-02,\n",
       "           -1.0585e-01,  5.2206e-03, -1.1241e-01,  5.1618e-02,  7.3035e-02,\n",
       "           -5.3896e-02,  1.9272e-02,  5.0290e-04,  5.1352e-04,  5.9761e-02,\n",
       "           -2.6064e-02, -8.8459e-02, -7.3725e-03,  4.5448e-02, -5.8460e-02,\n",
       "            1.2044e-02,  4.0355e-02, -1.8224e-02, -6.8156e-02,  1.7141e-02,\n",
       "            1.6944e-02, -6.9165e-02, -9.4555e-02,  1.1615e-01,  1.1016e-01,\n",
       "           -5.2729e-02, -6.0102e-02,  2.2760e-02, -1.2154e-01, -1.4822e-02,\n",
       "            8.0407e-02, -8.8156e-02,  1.1380e-01, -5.2653e-02,  3.4713e-02,\n",
       "            1.1094e-01, -4.9044e-02, -6.2948e-02, -9.7476e-02, -1.2082e-01,\n",
       "            1.0667e-01,  7.9015e-03, -8.2762e-02, -1.1813e-01,  3.2375e-02,\n",
       "            9.9692e-02, -8.1845e-03, -1.2473e-01, -1.7403e-02,  3.9478e-02,\n",
       "           -9.0256e-02,  1.0862e-01,  3.5901e-02, -1.1798e-01, -1.1784e-02,\n",
       "           -8.1575e-02, -5.3718e-02, -6.3668e-03, -1.1519e-02],\n",
       "          [ 7.3453e-02,  2.0737e-02, -2.4905e-02,  8.1443e-02,  4.9020e-02,\n",
       "            1.0793e-01,  2.5790e-02, -6.7429e-02,  4.8177e-02, -1.2245e-01,\n",
       "           -1.0992e-02, -8.1522e-02, -1.0132e-01,  6.3522e-02, -5.3237e-02,\n",
       "            4.5412e-03, -6.0846e-03, -2.0609e-02, -1.0971e-01, -9.8610e-02,\n",
       "            7.8343e-02,  7.4504e-02, -1.0131e-01,  6.3569e-02,  3.8950e-02,\n",
       "           -9.9130e-02,  5.0939e-02, -5.8802e-02,  8.7379e-02,  1.2845e-04,\n",
       "           -1.0783e-01, -1.1575e-01, -1.0814e-02, -6.8095e-02, -3.1029e-02,\n",
       "           -4.9728e-03,  1.0124e-02, -8.1543e-02,  4.8712e-02, -2.7464e-02,\n",
       "            1.2033e-01, -7.2459e-02, -1.0366e-01,  9.9348e-02, -2.3573e-02,\n",
       "            4.2231e-02, -7.4426e-02, -8.4859e-02,  1.0677e-01,  1.0917e-01,\n",
       "            9.3390e-02,  1.0378e-01, -1.2478e-01,  5.1993e-02, -6.7029e-02,\n",
       "           -4.0396e-03, -1.0241e-01, -1.0042e-01, -1.2637e-02,  4.7394e-03,\n",
       "            3.8143e-02,  1.0683e-04,  9.6657e-02,  7.2033e-02],\n",
       "          [ 1.0015e-01,  2.7631e-02, -6.0309e-02, -7.2646e-02,  1.2270e-01,\n",
       "            5.1909e-02,  6.9042e-02, -8.7969e-02, -1.3347e-03,  7.2250e-02,\n",
       "           -5.7333e-02, -4.4767e-02, -7.8381e-02,  8.1815e-02, -7.5449e-02,\n",
       "           -1.0836e-01,  1.2260e-01,  5.5842e-02,  4.7623e-02, -4.4628e-02,\n",
       "           -9.4936e-02,  1.0141e-01,  6.2485e-02, -1.0916e-01, -5.9997e-02,\n",
       "            3.9816e-02, -3.2054e-02, -2.0053e-02,  6.6289e-02, -1.1124e-01,\n",
       "            8.7843e-02,  8.5760e-02, -6.2870e-03, -1.0420e-01, -7.4185e-02,\n",
       "           -4.8265e-02,  6.5034e-02,  7.6623e-02, -1.1491e-01, -9.3818e-02,\n",
       "           -1.0556e-03,  4.5689e-02, -8.6485e-02,  1.7900e-02, -1.2156e-01,\n",
       "           -4.3587e-02,  4.7553e-02,  1.2044e-01, -1.6068e-02, -4.5963e-02,\n",
       "           -1.5539e-03, -1.7685e-02, -5.4718e-02,  1.1442e-01,  7.7560e-02,\n",
       "           -3.2486e-02,  1.2366e-01,  9.6308e-02,  3.1973e-02,  9.4732e-02,\n",
       "           -5.4602e-02, -3.7321e-02, -5.4126e-02,  9.0446e-02],\n",
       "          [-3.3928e-02, -9.2201e-02, -1.0256e-01,  2.0341e-02,  3.4282e-02,\n",
       "            1.0555e-01, -6.1368e-02, -1.1859e-01,  1.2446e-01,  1.0793e-01,\n",
       "           -3.8656e-02, -2.7180e-03, -4.7617e-02,  3.8282e-02,  1.8254e-02,\n",
       "           -4.2758e-02, -1.1339e-01, -3.9068e-02, -8.5290e-02, -1.1056e-01,\n",
       "           -9.6893e-02, -5.4161e-03,  1.2345e-01, -3.1770e-02, -5.5503e-02,\n",
       "            1.1019e-01,  1.1013e-01, -5.9377e-02, -4.5770e-02, -1.2498e-01,\n",
       "           -2.3986e-02,  1.0178e-01,  1.8633e-02, -1.2373e-01,  1.0047e-02,\n",
       "            7.1570e-02,  1.2118e-01, -5.5067e-02, -7.5455e-03, -2.2283e-02,\n",
       "            3.9590e-02,  9.1629e-02,  4.5667e-02,  8.4029e-03, -4.5184e-02,\n",
       "           -7.9209e-02, -1.2922e-03, -2.1065e-02,  7.1210e-02, -5.7394e-02,\n",
       "            2.9458e-02, -1.1353e-01, -9.9294e-02,  1.1857e-01,  9.2083e-02,\n",
       "           -1.0902e-01, -4.3090e-02, -6.8742e-02,  8.8562e-02, -7.3772e-02,\n",
       "            1.1463e-01,  5.7796e-02, -2.3464e-02, -8.8830e-02],\n",
       "          [ 1.2634e-02, -2.4728e-02,  4.5066e-02, -4.5951e-02,  1.0471e-01,\n",
       "           -2.7275e-02, -7.7043e-02,  1.1105e-01,  6.5267e-03, -1.0605e-01,\n",
       "           -1.2032e-01,  1.0243e-01, -9.0962e-02,  9.1144e-02,  1.1088e-01,\n",
       "           -6.4200e-03, -2.5935e-02, -1.1892e-01,  4.0012e-02,  2.2855e-03,\n",
       "           -2.2830e-02, -3.2757e-02, -3.6733e-02, -2.8750e-02,  4.3086e-02,\n",
       "            1.1361e-01,  6.9971e-02,  8.4581e-02, -6.9359e-02,  4.4651e-02,\n",
       "            9.3571e-02,  1.6134e-02,  2.0441e-02,  8.8261e-02,  2.8133e-02,\n",
       "           -1.2627e-02,  3.2167e-02,  1.0252e-01,  1.1233e-02, -1.1345e-01,\n",
       "            1.3404e-03,  2.7656e-02, -5.4208e-03,  5.0252e-02,  8.7440e-02,\n",
       "            3.7820e-03,  9.9045e-02, -9.3618e-02, -9.7250e-02,  1.0604e-01,\n",
       "            5.2827e-02,  7.3534e-02, -1.0814e-01, -2.9238e-02, -4.2986e-02,\n",
       "           -1.2363e-01, -1.8813e-02, -8.6965e-02,  8.9759e-02, -7.0770e-03,\n",
       "            8.5891e-02,  4.3504e-02, -1.0158e-02, -9.9458e-02],\n",
       "          [ 1.1885e-01,  4.3387e-02,  3.6591e-02, -9.2525e-03,  8.2365e-02,\n",
       "           -1.2048e-01, -5.9624e-02, -6.3301e-02, -3.6445e-02, -8.2551e-04,\n",
       "            4.0082e-02, -1.1461e-01, -5.6249e-02,  1.1515e-01,  9.7205e-02,\n",
       "            1.2206e-01, -1.9240e-02,  1.1249e-01,  1.4059e-02,  8.2373e-02,\n",
       "           -1.1250e-01,  8.9555e-02, -4.8824e-02, -4.4829e-02, -1.2072e-01,\n",
       "           -1.4388e-02, -2.3779e-02,  8.7108e-02,  1.5718e-02, -9.3410e-02,\n",
       "            1.1248e-01, -1.1814e-01,  5.4371e-02, -2.0602e-02, -7.2061e-02,\n",
       "            7.4126e-02, -1.0102e-01,  2.7599e-02,  1.1002e-01,  7.6953e-02,\n",
       "            4.2394e-04, -4.7068e-02,  6.8004e-03,  3.3870e-02,  1.4647e-02,\n",
       "           -1.2582e-02,  1.2291e-02, -6.3536e-02,  1.0787e-01,  1.0067e-01,\n",
       "           -9.5387e-02, -5.1081e-02,  3.6074e-02, -3.2604e-02, -9.8780e-02,\n",
       "           -1.7428e-03, -7.2532e-02, -8.8081e-02, -9.1851e-02, -1.1088e-01,\n",
       "            1.2363e-01, -1.7176e-02, -9.8492e-02, -3.5960e-02],\n",
       "          [ 1.8714e-02,  4.6319e-02,  2.3682e-02, -1.2068e-01, -2.0045e-02,\n",
       "           -8.8185e-02, -1.0326e-02,  5.6931e-02,  6.0890e-02, -1.0338e-01,\n",
       "           -6.5632e-02, -6.8599e-02,  8.2185e-02,  5.4628e-02,  5.6638e-02,\n",
       "            2.0955e-02,  6.4726e-02,  9.5061e-02,  8.7289e-02,  8.9547e-02,\n",
       "           -9.1206e-02,  1.1466e-01, -5.1172e-03, -3.0088e-02,  6.8620e-02,\n",
       "           -1.0311e-01, -2.9969e-02, -5.3766e-02,  4.7499e-02, -5.8301e-02,\n",
       "           -8.5101e-02, -1.1564e-01,  1.0948e-01,  3.0501e-02, -1.1313e-01,\n",
       "            3.7759e-02, -1.9182e-02,  1.0696e-01,  3.6094e-02,  1.1570e-01,\n",
       "           -1.7092e-02, -6.9332e-02,  1.1345e-01,  7.0795e-02, -8.6702e-03,\n",
       "           -9.3354e-02, -7.7977e-02, -1.0626e-01,  2.0444e-02, -9.8454e-02,\n",
       "           -5.7877e-03, -3.6806e-02,  3.2996e-02,  5.7042e-02,  2.4235e-02,\n",
       "           -8.2282e-02,  3.9312e-02,  7.6574e-02, -5.5672e-02, -1.2347e-01,\n",
       "            1.9819e-02, -1.1058e-02,  8.4606e-02, -8.4398e-02]],\n",
       "         requires_grad=True),\n",
       "  Parameter containing:\n",
       "  tensor([-0.0474,  0.0359, -0.0958,  0.0895,  0.0780, -0.0427,  0.0907,  0.0563,\n",
       "          -0.0612,  0.0520], requires_grad=True)]}"
      ]
     },
     "execution_count": 98,
     "metadata": {},
     "output_type": "execute_result"
    }
   ],
   "source": [
    "#from pyparsing.core import ParseAction\n",
    "def count_parameters(model):\n",
    "    model_params={\"Modules\":list(), \"Parameters\":list()}\n",
    "    total={\"trainable\": 0, \"non_trainable\": 0}\n",
    "    for name, parameters in model.named_parameters():\n",
    "    #Checking if the model parameters requires gradient or not\n",
    "    #Required_grad means its trinble parameters, if nots then continue\n",
    "        if not parameters.requires_grad:\n",
    "            total[\"non_trainable\"] +=params\n",
    "            continue\n",
    "        param=parameters.numel()\n",
    "        model_params[\"Modules\"].append(name)\n",
    "        model_params[\"Parameters\"].append(parameters)\n",
    "        total[\"trainable\"] +=param\n",
    "    #df=pd.DataFrame(model_params)\n",
    "    print(f\"Total trainable parameters: {total}\")\n",
    "    return model_params\n",
    "count_parameters(model)"
   ]
  },
  {
   "cell_type": "code",
   "execution_count": null,
   "id": "c541d6ff",
   "metadata": {},
   "outputs": [],
   "source": []
  },
  {
   "cell_type": "code",
   "execution_count": null,
   "id": "88e303fa",
   "metadata": {},
   "outputs": [],
   "source": []
  }
 ],
 "metadata": {
  "kernelspec": {
   "display_name": "Python 3 (ipykernel)",
   "language": "python",
   "name": "python3"
  },
  "language_info": {
   "codemirror_mode": {
    "name": "ipython",
    "version": 3
   },
   "file_extension": ".py",
   "mimetype": "text/x-python",
   "name": "python",
   "nbconvert_exporter": "python",
   "pygments_lexer": "ipython3",
   "version": "3.7.13"
  }
 },
 "nbformat": 4,
 "nbformat_minor": 5
}
