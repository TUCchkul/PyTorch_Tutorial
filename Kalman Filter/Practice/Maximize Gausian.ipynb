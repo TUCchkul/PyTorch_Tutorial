{
 "cells": [
  {
   "cell_type": "code",
   "execution_count": 1,
   "metadata": {},
   "outputs": [],
   "source": [
    "from math import *"
   ]
  },
  {
   "cell_type": "code",
   "execution_count": 5,
   "metadata": {},
   "outputs": [
    {
     "name": "stdout",
     "output_type": "stream",
     "text": [
      "0.19552134698772794\n"
     ]
    }
   ],
   "source": [
    "def Gausian(mu, sigma2,x):\n",
    "    return 1/sqrt(2.*pi*sigma2)*exp(-.5*(x-mu)**2/sigma2)\n",
    "print(Gausian(10.4,4.,10.))"
   ]
  },
  {
   "cell_type": "code",
   "execution_count": 6,
   "metadata": {},
   "outputs": [
    {
     "name": "stdout",
     "output_type": "stream",
     "text": [
      "0.09709302749160646\n"
     ]
    }
   ],
   "source": [
    "def Gausian(mu, sigma2,x):\n",
    "    return 1/sqrt(2.*pi*sigma2)*exp(-.5*(x-mu)**2/sigma2)\n",
    "print(Gausian(10.4,4.,8.))"
   ]
  },
  {
   "cell_type": "code",
   "execution_count": 7,
   "metadata": {},
   "outputs": [
    {
     "name": "stdout",
     "output_type": "stream",
     "text": [
      "[12.4, 1.6]\n"
     ]
    }
   ],
   "source": [
    "### New mean and new variance\n",
    "def update(mu, sigma_square, nu, gama_square):\n",
    "    new_mean=(mu*gama_square+nu*sigma_square)/(gama_square+sigma_square)\n",
    "    new_var=1/(1/sigma_square+1/gama_square)\n",
    "    return [ new_mean,new_var]\n",
    "print(update(10.,8.,13.,2.))"
   ]
  },
  {
   "cell_type": "code",
   "execution_count": 8,
   "metadata": {},
   "outputs": [
    {
     "name": "stdout",
     "output_type": "stream",
     "text": [
      "[22.0, 8.0]\n"
     ]
    }
   ],
   "source": [
    "def predict(mu, sigma_square, nu, gama_square):\n",
    "    new_mean=mu+nu\n",
    "    new_var=sigma_square+gama_square\n",
    "    return [new_mean, new_var]\n",
    "print(predict(10.,4.,12.,4.))"
   ]
  },
  {
   "cell_type": "code",
   "execution_count": 10,
   "metadata": {},
   "outputs": [
    {
     "name": "stdout",
     "output_type": "stream",
     "text": [
      "update:  [4.998000799680128, 3.9984006397441023]\n",
      "Predict:  [5.998000799680128, 5.998400639744102]\n",
      "update:  [5.999200191953932, 2.399744061425258]\n",
      "Predict:  [6.999200191953932, 4.399744061425258]\n",
      "update:  [6.999619127420922, 2.0951800575117594]\n",
      "Predict:  [8.999619127420921, 4.09518005751176]\n",
      "update:  [8.999811802788143, 2.0235152416216957]\n",
      "Predict:  [9.999811802788143, 4.023515241621696]\n",
      "update:  [9.999906177177365, 2.0058615808441944]\n",
      "Predict:  [10.999906177177365, 4.005861580844194]\n"
     ]
    }
   ],
   "source": [
    "def update(mu, sigma_square, nu, gama_square):\n",
    "    new_mean=(mu*gama_square+nu*sigma_square)/(gama_square+sigma_square)\n",
    "    new_var=1/(1/sigma_square+1/gama_square)\n",
    "    return [ new_mean,new_var]\n",
    "#print(update(10.,8.,13.,2.))\n",
    "def predict(mu, sigma_square, nu, gama_square):\n",
    "    new_mean=mu+nu\n",
    "    new_var=sigma_square+gama_square\n",
    "    return [new_mean, new_var]\n",
    "measurements = [5., 6., 7., 9., 10.]\n",
    "motion = [1., 1., 2., 1., 1.]\n",
    "measurement_sig = 4.\n",
    "motion_sig = 2.\n",
    "mu = 0.\n",
    "sig = 10000.\n",
    "for n in range(len(measurements)):\n",
    "    [mu,sig]=update(mu,sig,measurements[n],measurement_sig)\n",
    "    print(\"update: \",[mu, sig])\n",
    "    [mu,sig]=predict(mu,sig,motion[n],motion_sig)\n",
    "    print(\"Predict: \",[mu, sig])\n"
   ]
  },
  {
   "cell_type": "code",
   "execution_count": 12,
   "metadata": {},
   "outputs": [
    {
     "name": "stdout",
     "output_type": "stream",
     "text": [
      "update:  [1.24999999996875e-10, 9.99999999975e-11]\n",
      "Predict:  [1.000000000125, 2.0000000001]\n",
      "update:  [2.6666666668055554, 1.3333333333777777]\n",
      "Predict:  [3.6666666668055554, 3.3333333333777775]\n",
      "update:  [5.1818181819049585, 1.8181818181950413]\n",
      "Predict:  [7.1818181819049585, 3.8181818181950415]\n",
      "update:  [8.069767441906436, 1.9534883720964848]\n",
      "Predict:  [9.069767441906436, 3.953488372096485]\n",
      "update:  [9.532163742713381, 1.9883040935681267]\n",
      "Predict:  [10.532163742713381, 3.988304093568127]\n"
     ]
    }
   ],
   "source": [
    "def update(mu, sigma_square, nu, gama_square):\n",
    "    new_mean=(mu*gama_square+nu*sigma_square)/(gama_square+sigma_square)\n",
    "    new_var=1/(1/sigma_square+1/gama_square)\n",
    "    return [ new_mean,new_var]\n",
    "#print(update(10.,8.,13.,2.))\n",
    "def predict(mu, sigma_square, nu, gama_square):\n",
    "    new_mean=mu+nu\n",
    "    new_var=sigma_square+gama_square\n",
    "    return [new_mean, new_var]\n",
    "measurements = [5., 6., 7., 9., 10.]\n",
    "motion = [1., 1., 2., 1., 1.]\n",
    "measurement_sig = 4.\n",
    "motion_sig = 2.\n",
    "mu = 0.\n",
    "sig = 0.0000000001\n",
    "for n in range(len(measurements)):\n",
    "    [mu,sig]=update(mu,sig,measurements[n],measurement_sig)\n",
    "    print(\"update: \",[mu, sig])\n",
    "    [mu,sig]=predict(mu,sig,motion[n],motion_sig)\n",
    "    print(\"Predict: \",[mu, sig])"
   ]
  },
  {
   "cell_type": "code",
   "execution_count": null,
   "metadata": {},
   "outputs": [],
   "source": []
  }
 ],
 "metadata": {
  "kernelspec": {
   "display_name": "Python 3",
   "language": "python",
   "name": "python3"
  },
  "language_info": {
   "codemirror_mode": {
    "name": "ipython",
    "version": 3
   },
   "file_extension": ".py",
   "mimetype": "text/x-python",
   "name": "python",
   "nbconvert_exporter": "python",
   "pygments_lexer": "ipython3",
   "version": "3.8.5"
  }
 },
 "nbformat": 4,
 "nbformat_minor": 4
}
