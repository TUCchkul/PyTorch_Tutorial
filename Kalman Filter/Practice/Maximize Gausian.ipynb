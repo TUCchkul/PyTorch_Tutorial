{
 "cells": [
  {
   "cell_type": "code",
   "execution_count": 1,
   "metadata": {},
   "outputs": [],
   "source": [
    "from math import *"
   ]
  },
  {
   "cell_type": "code",
   "execution_count": 5,
   "metadata": {},
   "outputs": [
    {
     "name": "stdout",
     "output_type": "stream",
     "text": [
      "0.19552134698772794\n"
     ]
    }
   ],
   "source": [
    "def Gausian(mu, sigma2,x):\n",
    "    return 1/sqrt(2.*pi*sigma2)*exp(-.5*(x-mu)**2/sigma2)\n",
    "print(Gausian(10.4,4.,10.))"
   ]
  },
  {
   "cell_type": "code",
   "execution_count": 6,
   "metadata": {},
   "outputs": [
    {
     "name": "stdout",
     "output_type": "stream",
     "text": [
      "0.09709302749160646\n"
     ]
    }
   ],
   "source": [
    "def Gausian(mu, sigma2,x):\n",
    "    return 1/sqrt(2.*pi*sigma2)*exp(-.5*(x-mu)**2/sigma2)\n",
    "print(Gausian(10.4,4.,8.))"
   ]
  },
  {
   "cell_type": "code",
   "execution_count": null,
   "metadata": {},
   "outputs": [],
   "source": [
    "### New mean and new variance\n",
    "def update(mu, sigma_square, nu, gama_square):\n",
    "    new_mean=(mu*gama_square+nu*sigma_square)/(gama_square+sigma_square)\n",
    "    new_var=1/(1/sigma_square+1/gama_square)\n",
    "    return [ new_mean,new_var]\n",
    "print(update(10.,8.,13.,2))"
   ]
  }
 ],
 "metadata": {
  "kernelspec": {
   "display_name": "Python 3",
   "language": "python",
   "name": "python3"
  },
  "language_info": {
   "codemirror_mode": {
    "name": "ipython",
    "version": 3
   },
   "file_extension": ".py",
   "mimetype": "text/x-python",
   "name": "python",
   "nbconvert_exporter": "python",
   "pygments_lexer": "ipython3",
   "version": "3.8.5"
  }
 },
 "nbformat": 4,
 "nbformat_minor": 4
}
