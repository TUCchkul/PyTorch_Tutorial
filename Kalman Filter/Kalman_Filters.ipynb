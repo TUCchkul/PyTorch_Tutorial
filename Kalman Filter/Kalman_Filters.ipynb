{
 "cells": [
  {
   "cell_type": "code",
   "execution_count": 2,
   "metadata": {},
   "outputs": [
    {
     "name": "stdout",
     "output_type": "stream",
     "text": [
      "Update:  {3.9984006397441023, 4.998000799680128}\n",
      "Predict:  {10002.0, 5.998000799680128}\n",
      "Update:  {3.9984006397441023, 5.999999200639616}\n",
      "Predict:  {10002.0, 6.999999200639616}\n",
      "Update:  {3.9984006397441023, 6.999999999680383}\n",
      "Predict:  {8.999999999680384, 10002.0}\n",
      "Update:  {8.999999999999872, 3.9984006397441023}\n",
      "Predict:  {9.999999999999872, 10002.0}\n",
      "Update:  {10.0, 3.9984006397441023}\n",
      "Predict:  {10002.0, 11.0}\n"
     ]
    }
   ],
   "source": [
    "def update(mean1, var1, mean2, var2):\n",
    "    new_mean = float(var2 * mean1 + var1 * mean2) / (var1 + var2)\n",
    "    new_var = 1./(1./var1 + 1./var2)\n",
    "    return [new_mean, new_var]\n",
    "\n",
    "def predict(mean1, var1, mean2, var2):\n",
    "    new_mean = mean1 + mean2\n",
    "    new_var = var1 + var2\n",
    "    return [new_mean, new_var]\n",
    "\n",
    "measurements = [5., 6., 7., 9., 10.]\n",
    "motion = [1., 1., 2., 1., 1.]\n",
    "measurement_sig = 4.\n",
    "motion_sig = 2.\n",
    "mu = 0.\n",
    "sig = 10000.\n",
    "for n in range(len(measurements)):\n",
    "    [mu, sigma]=update(mu, sig, measurements[n],measurement_sig)\n",
    "    print(f\"Update: \",{mu, sigma})\n",
    "    [mu, sigma]=predict(mu, sig,motion[n],motion_sig)\n",
    "    print(f\"Predict: \",{mu, sigma})"
   ]
  },
  {
   "cell_type": "code",
   "execution_count": null,
   "metadata": {},
   "outputs": [],
   "source": []
  }
 ],
 "metadata": {
  "kernelspec": {
   "display_name": "Python 3",
   "language": "python",
   "name": "python3"
  },
  "language_info": {
   "codemirror_mode": {
    "name": "ipython",
    "version": 3
   },
   "file_extension": ".py",
   "mimetype": "text/x-python",
   "name": "python",
   "nbconvert_exporter": "python",
   "pygments_lexer": "ipython3",
   "version": "3.8.5"
  }
 },
 "nbformat": 4,
 "nbformat_minor": 4
}
