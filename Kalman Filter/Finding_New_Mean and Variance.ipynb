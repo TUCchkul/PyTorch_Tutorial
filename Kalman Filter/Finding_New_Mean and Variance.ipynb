{
 "cells": [
  {
   "cell_type": "code",
   "execution_count": 2,
   "metadata": {},
   "outputs": [
    {
     "data": {
      "text/plain": [
       "[12.4, 1.6]"
      ]
     },
     "execution_count": 2,
     "metadata": {},
     "output_type": "execute_result"
    }
   ],
   "source": [
    "def update(mean1, var1, mean2, var2):\n",
    "    new_mean=(var2*mean1 + var1*mean2)/(var1+var2)\n",
    "    new_var=1/(1/var1+1/var2)\n",
    "    return [new_mean, new_var]\n",
    "update(10.,8.,13.,2.)"
   ]
  },
  {
   "cell_type": "markdown",
   "metadata": {},
   "source": [
    "# With same variance"
   ]
  },
  {
   "cell_type": "code",
   "execution_count": 4,
   "metadata": {},
   "outputs": [
    {
     "data": {
      "text/plain": [
       "[11.0, 2.0]"
      ]
     },
     "execution_count": 4,
     "metadata": {},
     "output_type": "execute_result"
    }
   ],
   "source": [
    "def update(mean1, var1, mean2, var2):\n",
    "    new_mean=(var2*mean1 + var1*mean2)/(var1+var2)\n",
    "    new_var=1/(1/var1+1/var2)\n",
    "    return [new_mean, new_var]\n",
    "update(10.,4.,12.,4.)"
   ]
  },
  {
   "cell_type": "code",
   "execution_count": null,
   "metadata": {},
   "outputs": [],
   "source": []
  }
 ],
 "metadata": {
  "kernelspec": {
   "display_name": "Python 3",
   "language": "python",
   "name": "python3"
  },
  "language_info": {
   "codemirror_mode": {
    "name": "ipython",
    "version": 3
   },
   "file_extension": ".py",
   "mimetype": "text/x-python",
   "name": "python",
   "nbconvert_exporter": "python",
   "pygments_lexer": "ipython3",
   "version": "3.8.5"
  }
 },
 "nbformat": 4,
 "nbformat_minor": 4
}
