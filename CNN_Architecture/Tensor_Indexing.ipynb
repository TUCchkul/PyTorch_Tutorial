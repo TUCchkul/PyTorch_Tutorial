{
 "cells": [
  {
   "cell_type": "code",
   "execution_count": 1,
   "metadata": {},
   "outputs": [],
   "source": [
    "import torch"
   ]
  },
  {
   "cell_type": "code",
   "execution_count": 3,
   "metadata": {},
   "outputs": [
    {
     "name": "stdout",
     "output_type": "stream",
     "text": [
      "tensor([[0.3130, 0.6631, 0.9472, 0.2849, 0.1117, 0.2161, 0.9955, 0.3455, 0.1576,\n",
      "         0.1339, 0.8404, 0.2108, 0.4772, 0.4327, 0.0334, 0.1428, 0.1553, 0.4164,\n",
      "         0.8640, 0.6350, 0.1821, 0.0986, 0.3241, 0.3394, 0.6253],\n",
      "        [0.6726, 0.0846, 0.3272, 0.5597, 0.1700, 0.8753, 0.6525, 0.6148, 0.1629,\n",
      "         0.6007, 0.3940, 0.2581, 0.6601, 0.8918, 0.6644, 0.1672, 0.7440, 0.8763,\n",
      "         0.8480, 0.4572, 0.1744, 0.1569, 0.2465, 0.8593, 0.5196],\n",
      "        [0.1193, 0.1982, 0.4331, 0.6041, 0.7528, 0.3247, 0.0687, 0.8280, 0.0283,\n",
      "         0.9243, 0.5973, 0.3734, 0.8526, 0.1756, 0.7059, 0.3255, 0.4488, 0.9884,\n",
      "         0.6771, 0.7556, 0.8217, 0.5161, 0.1469, 0.3268, 0.4070],\n",
      "        [0.6277, 0.6166, 0.0148, 0.0300, 0.6418, 0.5211, 0.9611, 0.7470, 0.6140,\n",
      "         0.0089, 0.6431, 0.2348, 0.3618, 0.3748, 0.1489, 0.1341, 0.2904, 0.3913,\n",
      "         0.0899, 0.6130, 0.3515, 0.4404, 0.1227, 0.3074, 0.6399],\n",
      "        [0.7688, 0.6735, 0.2898, 0.0212, 0.5970, 0.8094, 0.1699, 0.8553, 0.0911,\n",
      "         0.2256, 0.6277, 0.7370, 0.1805, 0.0034, 0.8865, 0.3451, 0.3726, 0.5289,\n",
      "         0.1401, 0.0666, 0.5190, 0.8848, 0.8122, 0.2917, 0.7880],\n",
      "        [0.7465, 0.7458, 0.8377, 0.0325, 0.1832, 0.4108, 0.5047, 0.0315, 0.7841,\n",
      "         0.7884, 0.8709, 0.5001, 0.7668, 0.4483, 0.5312, 0.2426, 0.9353, 0.8005,\n",
      "         0.6904, 0.6315, 0.0435, 0.1748, 0.8649, 0.7944, 0.4022],\n",
      "        [0.9083, 0.7814, 0.0070, 0.5530, 0.4762, 0.2265, 0.4885, 0.9576, 0.5438,\n",
      "         0.5776, 0.9613, 0.6390, 0.4858, 0.8015, 0.0663, 0.1057, 0.3174, 0.5979,\n",
      "         0.5255, 0.2493, 0.8064, 0.8999, 0.5583, 0.1815, 0.2411],\n",
      "        [0.5659, 0.2252, 0.7494, 0.5698, 0.1771, 0.5195, 0.1423, 0.3063, 0.8447,\n",
      "         0.9693, 0.9926, 0.4058, 0.0550, 0.0541, 0.0674, 0.9886, 0.0893, 0.0121,\n",
      "         0.6718, 0.7351, 0.9100, 0.3989, 0.1036, 0.7531, 0.6680],\n",
      "        [0.9497, 0.4103, 0.5323, 0.9555, 0.5276, 0.7258, 0.3457, 0.3280, 0.9390,\n",
      "         0.6018, 0.2697, 0.6090, 0.3118, 0.3947, 0.4039, 0.8767, 0.3262, 0.0548,\n",
      "         0.6736, 0.2261, 0.4101, 0.4534, 0.3133, 0.6471, 0.9991],\n",
      "        [0.8447, 0.7246, 0.2994, 0.9673, 0.6975, 0.2704, 0.5221, 0.2868, 0.1650,\n",
      "         0.1941, 0.7528, 0.4797, 0.5127, 0.8476, 0.3037, 0.7054, 0.2189, 0.9990,\n",
      "         0.4866, 0.2596, 0.9713, 0.8822, 0.3084, 0.1652, 0.3356]])\n"
     ]
    }
   ],
   "source": [
    "batch_size=10\n",
    "\n",
    "feature=25\n",
    "x=torch.rand((batch_size, feature))\n",
    "print(x)\n",
    "    "
   ]
  },
  {
   "cell_type": "code",
   "execution_count": 4,
   "metadata": {},
   "outputs": [
    {
     "name": "stdout",
     "output_type": "stream",
     "text": [
      "torch.Size([25])\n"
     ]
    }
   ],
   "source": [
    "print(x[0].shape)#x[0:]"
   ]
  },
  {
   "cell_type": "code",
   "execution_count": 5,
   "metadata": {},
   "outputs": [
    {
     "name": "stdout",
     "output_type": "stream",
     "text": [
      "tensor([0.3130, 0.6726, 0.1193, 0.6277, 0.7688, 0.7465, 0.9083, 0.5659, 0.9497,\n",
      "        0.8447])\n"
     ]
    }
   ],
   "source": [
    "print(x[:,0])"
   ]
  },
  {
   "cell_type": "code",
   "execution_count": 6,
   "metadata": {},
   "outputs": [
    {
     "name": "stdout",
     "output_type": "stream",
     "text": [
      "torch.Size([10])\n"
     ]
    }
   ],
   "source": [
    "print(x[:,0].shape)"
   ]
  },
  {
   "cell_type": "code",
   "execution_count": 7,
   "metadata": {},
   "outputs": [
    {
     "name": "stdout",
     "output_type": "stream",
     "text": [
      "tensor([0.6631, 0.0846, 0.1982, 0.6166, 0.6735, 0.7458, 0.7814, 0.2252, 0.4103,\n",
      "        0.7246])\n"
     ]
    }
   ],
   "source": [
    "print(x[:,1])"
   ]
  },
  {
   "cell_type": "code",
   "execution_count": 8,
   "metadata": {},
   "outputs": [
    {
     "name": "stdout",
     "output_type": "stream",
     "text": [
      "tensor([0.1193])\n"
     ]
    }
   ],
   "source": [
    "print(x[2,0:1])"
   ]
  },
  {
   "cell_type": "code",
   "execution_count": 9,
   "metadata": {},
   "outputs": [
    {
     "name": "stdout",
     "output_type": "stream",
     "text": [
      "tensor([[0.3130, 0.6631, 0.9472, 0.2849, 0.1117, 0.2161, 0.9955, 0.3455, 0.1576,\n",
      "         0.1339],\n",
      "        [0.6726, 0.0846, 0.3272, 0.5597, 0.1700, 0.8753, 0.6525, 0.6148, 0.1629,\n",
      "         0.6007],\n",
      "        [0.1193, 0.1982, 0.4331, 0.6041, 0.7528, 0.3247, 0.0687, 0.8280, 0.0283,\n",
      "         0.9243],\n",
      "        [0.6277, 0.6166, 0.0148, 0.0300, 0.6418, 0.5211, 0.9611, 0.7470, 0.6140,\n",
      "         0.0089],\n",
      "        [0.7688, 0.6735, 0.2898, 0.0212, 0.5970, 0.8094, 0.1699, 0.8553, 0.0911,\n",
      "         0.2256],\n",
      "        [0.7465, 0.7458, 0.8377, 0.0325, 0.1832, 0.4108, 0.5047, 0.0315, 0.7841,\n",
      "         0.7884],\n",
      "        [0.9083, 0.7814, 0.0070, 0.5530, 0.4762, 0.2265, 0.4885, 0.9576, 0.5438,\n",
      "         0.5776],\n",
      "        [0.5659, 0.2252, 0.7494, 0.5698, 0.1771, 0.5195, 0.1423, 0.3063, 0.8447,\n",
      "         0.9693],\n",
      "        [0.9497, 0.4103, 0.5323, 0.9555, 0.5276, 0.7258, 0.3457, 0.3280, 0.9390,\n",
      "         0.6018],\n",
      "        [0.8447, 0.7246, 0.2994, 0.9673, 0.6975, 0.2704, 0.5221, 0.2868, 0.1650,\n",
      "         0.1941]])\n"
     ]
    }
   ],
   "source": [
    "print(x[:,0:10])"
   ]
  },
  {
   "cell_type": "code",
   "execution_count": 10,
   "metadata": {},
   "outputs": [
    {
     "name": "stdout",
     "output_type": "stream",
     "text": [
      "tensor([0.1193, 0.1982, 0.4331, 0.6041, 0.7528, 0.3247, 0.0687, 0.8280, 0.0283,\n",
      "        0.9243])\n"
     ]
    }
   ],
   "source": [
    "print(x[2,0:10])"
   ]
  },
  {
   "cell_type": "code",
   "execution_count": 12,
   "metadata": {},
   "outputs": [
    {
     "name": "stdout",
     "output_type": "stream",
     "text": [
      "tensor([0, 1, 2, 3, 4, 5, 6, 7, 8, 9])\n",
      "tensor([2, 4, 8])\n"
     ]
    }
   ],
   "source": [
    "#Fency Indexing\n",
    "x=torch.arange(10)\n",
    "print(x)\n",
    "indices=[2,4,8]\n",
    "print(x[indices])"
   ]
  },
  {
   "cell_type": "code",
   "execution_count": 13,
   "metadata": {},
   "outputs": [
    {
     "name": "stdout",
     "output_type": "stream",
     "text": [
      "tensor([[0.3144, 0.7869, 0.6416, 0.3923, 0.3349],\n",
      "        [0.0429, 0.6722, 0.2516, 0.9465, 0.1830],\n",
      "        [0.4784, 0.5841, 0.5519, 0.9758, 0.0186]])\n"
     ]
    }
   ],
   "source": [
    "x=torch.rand((3,5))\n",
    "print(x)"
   ]
  },
  {
   "cell_type": "code",
   "execution_count": 14,
   "metadata": {},
   "outputs": [
    {
     "data": {
      "text/plain": [
       "torch.Size([3, 5])"
      ]
     },
     "execution_count": 14,
     "metadata": {},
     "output_type": "execute_result"
    }
   ],
   "source": [
    "x.shape"
   ]
  },
  {
   "cell_type": "code",
   "execution_count": 20,
   "metadata": {},
   "outputs": [
    {
     "name": "stdout",
     "output_type": "stream",
     "text": [
      "tensor([1, 0])\n"
     ]
    },
    {
     "data": {
      "text/plain": [
       "torch.Size([2])"
      ]
     },
     "execution_count": 20,
     "metadata": {},
     "output_type": "execute_result"
    }
   ],
   "source": [
    "rows=torch.tensor([1,0])\n",
    "print(rows)\n",
    "rows.shape"
   ]
  },
  {
   "cell_type": "code",
   "execution_count": 16,
   "metadata": {},
   "outputs": [
    {
     "data": {
      "text/plain": [
       "tensor([4, 0])"
      ]
     },
     "execution_count": 16,
     "metadata": {},
     "output_type": "execute_result"
    }
   ],
   "source": [
    "cols=torch.tensor([4,0])\n",
    "cols"
   ]
  },
  {
   "cell_type": "code",
   "execution_count": 17,
   "metadata": {},
   "outputs": [
    {
     "data": {
      "text/plain": [
       "torch.Size([2])"
      ]
     },
     "execution_count": 17,
     "metadata": {},
     "output_type": "execute_result"
    }
   ],
   "source": [
    "cols.shape"
   ]
  },
  {
   "cell_type": "code",
   "execution_count": 19,
   "metadata": {},
   "outputs": [
    {
     "name": "stdout",
     "output_type": "stream",
     "text": [
      "torch.Size([2])\n"
     ]
    }
   ],
   "source": [
    "print(x[rows, cols].shape)"
   ]
  },
  {
   "cell_type": "code",
   "execution_count": 21,
   "metadata": {},
   "outputs": [
    {
     "name": "stdout",
     "output_type": "stream",
     "text": [
      "tensor([0.1830, 0.3144])\n"
     ]
    }
   ],
   "source": [
    "print(x[rows, cols])"
   ]
  },
  {
   "cell_type": "code",
   "execution_count": 25,
   "metadata": {},
   "outputs": [
    {
     "name": "stdout",
     "output_type": "stream",
     "text": [
      "tensor([], dtype=torch.int64)\n",
      "tensor([0, 2, 4, 6, 8])\n"
     ]
    }
   ],
   "source": [
    "# More advance indexing\n",
    "x=torch.arange(10)\n",
    "print(x[(x<2 )& (x>8)])\n",
    "print(x[x.remainder(2)==0])"
   ]
  },
  {
   "cell_type": "code",
   "execution_count": 26,
   "metadata": {},
   "outputs": [
    {
     "name": "stdout",
     "output_type": "stream",
     "text": [
      "tensor([ 0,  2,  4,  6,  8, 10,  6,  7,  8,  9])\n"
     ]
    }
   ],
   "source": [
    "#useful operation\n",
    "print(torch.where(x>5, x, x*2))"
   ]
  },
  {
   "cell_type": "code",
   "execution_count": 31,
   "metadata": {},
   "outputs": [
    {
     "name": "stdout",
     "output_type": "stream",
     "text": [
      "tensor([0, 1, 2, 3, 4, 5])\n"
     ]
    }
   ],
   "source": [
    "print(torch.tensor([0,0,0,1,1,2,2,2,3,3,3,4,4,5,5]).unique())"
   ]
  },
  {
   "cell_type": "code",
   "execution_count": 32,
   "metadata": {},
   "outputs": [
    {
     "name": "stdout",
     "output_type": "stream",
     "text": [
      "1\n"
     ]
    }
   ],
   "source": [
    "print(x.ndimension())"
   ]
  },
  {
   "cell_type": "code",
   "execution_count": 33,
   "metadata": {},
   "outputs": [
    {
     "data": {
      "text/plain": [
       "tensor([0, 1, 2, 3, 4, 5, 6, 7, 8, 9])"
      ]
     },
     "execution_count": 33,
     "metadata": {},
     "output_type": "execute_result"
    }
   ],
   "source": [
    "x"
   ]
  },
  {
   "cell_type": "code",
   "execution_count": 34,
   "metadata": {},
   "outputs": [
    {
     "name": "stdout",
     "output_type": "stream",
     "text": [
      "10\n"
     ]
    }
   ],
   "source": [
    "print(x.numel())"
   ]
  },
  {
   "cell_type": "markdown",
   "metadata": {},
   "source": [
    "# Reshapeing a Tensor"
   ]
  },
  {
   "cell_type": "code",
   "execution_count": 35,
   "metadata": {},
   "outputs": [
    {
     "data": {
      "text/plain": [
       "tensor([0, 1, 2, 3, 4, 5, 6, 7, 8])"
      ]
     },
     "execution_count": 35,
     "metadata": {},
     "output_type": "execute_result"
    }
   ],
   "source": [
    "x=torch.arange(9)\n",
    "x"
   ]
  },
  {
   "cell_type": "code",
   "execution_count": 38,
   "metadata": {},
   "outputs": [
    {
     "name": "stdout",
     "output_type": "stream",
     "text": [
      "tensor([[0, 1, 2],\n",
      "        [3, 4, 5],\n",
      "        [6, 7, 8]])\n"
     ]
    }
   ],
   "source": [
    "x_3x3_view=x.view(3,3)\n",
    "print(x_3x3_view)"
   ]
  },
  {
   "cell_type": "code",
   "execution_count": 37,
   "metadata": {},
   "outputs": [
    {
     "name": "stdout",
     "output_type": "stream",
     "text": [
      "torch.Size([3, 3])\n"
     ]
    }
   ],
   "source": [
    "print(x_3x3.shape)"
   ]
  },
  {
   "cell_type": "code",
   "execution_count": null,
   "metadata": {},
   "outputs": [],
   "source": [
    "'''\n",
    "view->view act on something called contiguous tensors meaning that tensor is stored contiguously in memory\n",
    "\n",
    "'''"
   ]
  },
  {
   "cell_type": "code",
   "execution_count": 39,
   "metadata": {},
   "outputs": [
    {
     "name": "stdout",
     "output_type": "stream",
     "text": [
      "tensor([[0, 1, 2],\n",
      "        [3, 4, 5],\n",
      "        [6, 7, 8]])\n"
     ]
    }
   ],
   "source": [
    "x_3x3_reshape=x.reshape(3,3)\n",
    "print(x_3x3_reshape)"
   ]
  },
  {
   "cell_type": "code",
   "execution_count": 40,
   "metadata": {},
   "outputs": [
    {
     "data": {
      "text/plain": [
       "tensor([[0, 3, 6],\n",
       "        [1, 4, 7],\n",
       "        [2, 5, 8]])"
      ]
     },
     "execution_count": 40,
     "metadata": {},
     "output_type": "execute_result"
    }
   ],
   "source": [
    "y=x_3x3_view.t()\n",
    "y"
   ]
  },
  {
   "cell_type": "code",
   "execution_count": 41,
   "metadata": {},
   "outputs": [
    {
     "name": "stdout",
     "output_type": "stream",
     "text": [
      "tensor([0, 3, 6, 1, 4, 7, 2, 5, 8])\n"
     ]
    }
   ],
   "source": [
    "print(y.contiguous().view(9))"
   ]
  },
  {
   "cell_type": "code",
   "execution_count": 42,
   "metadata": {},
   "outputs": [
    {
     "data": {
      "text/plain": [
       "tensor([[0.1395, 0.9551, 0.4220, 0.1508, 0.2999],\n",
       "        [0.7077, 0.3026, 0.3368, 0.0447, 0.3703]])"
      ]
     },
     "execution_count": 42,
     "metadata": {},
     "output_type": "execute_result"
    }
   ],
   "source": [
    "x1=torch.rand((2,5))\n",
    "x1"
   ]
  },
  {
   "cell_type": "code",
   "execution_count": 43,
   "metadata": {},
   "outputs": [
    {
     "data": {
      "text/plain": [
       "tensor([[0.0923, 0.2095, 0.5379, 0.6491, 0.5694],\n",
       "        [0.3392, 0.4982, 0.5546, 0.0927, 0.0866]])"
      ]
     },
     "execution_count": 43,
     "metadata": {},
     "output_type": "execute_result"
    }
   ],
   "source": [
    "x2=torch.rand((2,5))\n",
    "x2"
   ]
  },
  {
   "cell_type": "code",
   "execution_count": 44,
   "metadata": {},
   "outputs": [
    {
     "name": "stdout",
     "output_type": "stream",
     "text": [
      "tensor([[0.1395, 0.9551, 0.4220, 0.1508, 0.2999, 0.0923, 0.2095, 0.5379, 0.6491,\n",
      "         0.5694],\n",
      "        [0.7077, 0.3026, 0.3368, 0.0447, 0.3703, 0.3392, 0.4982, 0.5546, 0.0927,\n",
      "         0.0866]])\n"
     ]
    }
   ],
   "source": [
    "print(torch.cat((x1,x2), dim=1))"
   ]
  },
  {
   "cell_type": "code",
   "execution_count": 46,
   "metadata": {},
   "outputs": [
    {
     "name": "stdout",
     "output_type": "stream",
     "text": [
      "torch.Size([2, 10])\n"
     ]
    }
   ],
   "source": [
    "print(torch.cat((x1,x2),dim=1).shape)"
   ]
  },
  {
   "cell_type": "code",
   "execution_count": 47,
   "metadata": {},
   "outputs": [
    {
     "name": "stdout",
     "output_type": "stream",
     "text": [
      "tensor([[0.1395, 0.9551, 0.4220, 0.1508, 0.2999],\n",
      "        [0.7077, 0.3026, 0.3368, 0.0447, 0.3703],\n",
      "        [0.0923, 0.2095, 0.5379, 0.6491, 0.5694],\n",
      "        [0.3392, 0.4982, 0.5546, 0.0927, 0.0866]])\n"
     ]
    }
   ],
   "source": [
    "print(torch.cat((x1,x2), dim=0))"
   ]
  },
  {
   "cell_type": "code",
   "execution_count": 49,
   "metadata": {},
   "outputs": [
    {
     "name": "stdout",
     "output_type": "stream",
     "text": [
      "tensor([0.1395, 0.9551, 0.4220, 0.1508, 0.2999, 0.7077, 0.3026, 0.3368, 0.0447,\n",
      "        0.3703])\n"
     ]
    }
   ],
   "source": [
    "print(x1.view(-1))"
   ]
  },
  {
   "cell_type": "code",
   "execution_count": 54,
   "metadata": {},
   "outputs": [
    {
     "name": "stdout",
     "output_type": "stream",
     "text": [
      "torch.Size([10])\n"
     ]
    }
   ],
   "source": [
    "print(x1.view(-1).shape)"
   ]
  },
  {
   "cell_type": "code",
   "execution_count": 65,
   "metadata": {},
   "outputs": [
    {
     "data": {
      "text/plain": [
       "torch.Size([8, 2, 5])"
      ]
     },
     "execution_count": 65,
     "metadata": {},
     "output_type": "execute_result"
    }
   ],
   "source": [
    "batch=8\n",
    "x=torch.rand((batch, 2,5))\n",
    "x.shape"
   ]
  },
  {
   "cell_type": "code",
   "execution_count": 62,
   "metadata": {},
   "outputs": [
    {
     "name": "stdout",
     "output_type": "stream",
     "text": [
      "tensor([0.5468, 0.7992, 0.9134, 0.6781, 0.4791, 0.0241, 0.8494, 0.4952, 0.6046,\n",
      "        0.3580, 0.5000, 0.5773, 0.4563, 0.7759, 0.9730, 0.8810, 0.3187, 0.8597,\n",
      "        0.5173, 0.9926, 0.1589, 0.4309, 0.1502, 0.8495, 0.1436, 0.5612, 0.2163,\n",
      "        0.2621, 0.2895, 0.2674, 0.8671, 0.9539, 0.3914, 0.4677, 0.8251, 0.0616,\n",
      "        0.6162, 0.9152, 0.5983, 0.8516, 0.3355, 0.1869, 0.6699, 0.2766, 0.1561,\n",
      "        0.4031, 0.7574, 0.1528, 0.2415, 0.3746, 0.6159, 0.6528, 0.7115, 0.5001,\n",
      "        0.3807, 0.8199, 0.7980, 0.7241, 0.2858, 0.5333, 0.4770, 0.4384, 0.9397,\n",
      "        0.2239, 0.4573, 0.9985, 0.0966, 0.8070, 0.8896, 0.7905, 0.1734, 0.6104,\n",
      "        0.2927, 0.2471, 0.6819, 0.5448, 0.0353, 0.6096, 0.1420, 0.3717])\n"
     ]
    },
    {
     "data": {
      "text/plain": [
       "torch.Size([80])"
      ]
     },
     "execution_count": 62,
     "metadata": {},
     "output_type": "execute_result"
    }
   ],
   "source": [
    "z=x.view(-1)\n",
    "print(z)\n",
    "z.shape"
   ]
  },
  {
   "cell_type": "code",
   "execution_count": 63,
   "metadata": {},
   "outputs": [
    {
     "name": "stdout",
     "output_type": "stream",
     "text": [
      "torch.Size([8, 10])\n"
     ]
    }
   ],
   "source": [
    "z=x.view(batch,-1)\n",
    "print(z.shape)"
   ]
  },
  {
   "cell_type": "code",
   "execution_count": 61,
   "metadata": {},
   "outputs": [
    {
     "data": {
      "text/plain": [
       "torch.Size([8, 5, 2])"
      ]
     },
     "execution_count": 61,
     "metadata": {},
     "output_type": "execute_result"
    }
   ],
   "source": [
    "z=x.permute(0,2,1)\n",
    "z.shape"
   ]
  },
  {
   "cell_type": "code",
   "execution_count": null,
   "metadata": {},
   "outputs": [],
   "source": []
  }
 ],
 "metadata": {
  "kernelspec": {
   "display_name": "Python 3",
   "language": "python",
   "name": "python3"
  },
  "language_info": {
   "codemirror_mode": {
    "name": "ipython",
    "version": 3
   },
   "file_extension": ".py",
   "mimetype": "text/x-python",
   "name": "python",
   "nbconvert_exporter": "python",
   "pygments_lexer": "ipython3",
   "version": "3.8.5"
  }
 },
 "nbformat": 4,
 "nbformat_minor": 4
}
