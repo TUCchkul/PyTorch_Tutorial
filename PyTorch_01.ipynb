{
  "nbformat": 4,
  "nbformat_minor": 0,
  "metadata": {
    "colab": {
      "name": "PyTorch_01.ipynb",
      "provenance": [],
      "mount_file_id": "1e24I8eL_xpQjv4hy68D2a2k1elc9RSez",
      "authorship_tag": "ABX9TyP4tzl7YKcJMToBKoo99Gjc",
      "include_colab_link": true
    },
    "kernelspec": {
      "name": "python3",
      "display_name": "Python 3"
    },
    "language_info": {
      "name": "python"
    },
    "accelerator": "GPU",
    "gpuClass": "standard"
  },
  "cells": [
    {
      "cell_type": "markdown",
      "metadata": {
        "id": "view-in-github",
        "colab_type": "text"
      },
      "source": [
        "<a href=\"https://colab.research.google.com/github/TUCchkul/PyTorch_Tutorial/blob/main/PyTorch_01.ipynb\" target=\"_parent\"><img src=\"https://colab.research.google.com/assets/colab-badge.svg\" alt=\"Open In Colab\"/></a>"
      ]
    },
    {
      "cell_type": "code",
      "execution_count": 64,
      "metadata": {
        "id": "9ldRwrq75P8O"
      },
      "outputs": [],
      "source": [
        "import os\n",
        "import numpy as np\n",
        "import pandas as pd\n",
        "import matplotlib.pyplot as plt\n",
        "import seaborn as sns\n",
        "import torch\n",
        "import torch.nn as nn\n",
        "from torch.utils.data import DataLoader\n",
        "from torchvision import transforms, datasets\n",
        "import torch.nn.functional as F\n",
        "from sklearn.metrics import confusion_matrix\n",
        "from tqdm import tqdm"
      ]
    },
    {
      "cell_type": "code",
      "source": [
        "%cd /content/drive/MyDrive/Pytorch"
      ],
      "metadata": {
        "colab": {
          "base_uri": "https://localhost:8080/"
        },
        "id": "DA3I-kicyewK",
        "outputId": "b69d50e5-7580-4951-e90a-44202b5b020c"
      },
      "execution_count": 65,
      "outputs": [
        {
          "output_type": "stream",
          "name": "stdout",
          "text": [
            "/content/drive/MyDrive/Pytorch\n"
          ]
        }
      ]
    },
    {
      "cell_type": "code",
      "source": [
        "!pwd"
      ],
      "metadata": {
        "colab": {
          "base_uri": "https://localhost:8080/"
        },
        "id": "vJVnIvkDykGs",
        "outputId": "e9af481e-b897-48c7-b13e-1069e50c0b77"
      },
      "execution_count": 66,
      "outputs": [
        {
          "output_type": "stream",
          "name": "stdout",
          "text": [
            "/content/drive/MyDrive/Pytorch\n"
          ]
        }
      ]
    },
    {
      "cell_type": "code",
      "source": [
        "class Config:\n",
        "  def __init__(self):\n",
        "    self.ROOT_DATA_DIR=\"FashionMNIST\"\n",
        "    self.EPOCH=30\n",
        "    self.LEARNING_RATE=0.001\n",
        "    self.BATCH_SIZE=32\n",
        "    self.IMAGE_SIZE=(28,28)\n",
        "    self.DEVICE=\"cuda\" if torch.cuda.is_available() else \"CPU\"\n",
        "    print(f\"THis notebook is using the device: {self.DEVICE}\")\n",
        "    self.SEED=2022\n",
        "config=Config()\n",
        "\n"
      ],
      "metadata": {
        "colab": {
          "base_uri": "https://localhost:8080/"
        },
        "id": "7lD05PXDykJt",
        "outputId": "3bdc2cdc-7b42-45bd-8f7a-f370b60a194b"
      },
      "execution_count": 67,
      "outputs": [
        {
          "output_type": "stream",
          "name": "stdout",
          "text": [
            "THis notebook is using the device: cuda\n"
          ]
        }
      ]
    },
    {
      "cell_type": "code",
      "source": [
        "# Download the data\n",
        "train_data=datasets.FashionMNIST(\n",
        "    root=config.ROOT_DATA_DIR,\n",
        "    train=True,\n",
        "    download=True,\n",
        "    transform=transforms.ToTensor()\n",
        ")\n",
        "test_data=datasets.FashionMNIST(\n",
        "    root=config.ROOT_DATA_DIR,\n",
        "    train=False,\n",
        "    download=True, \n",
        "    transform=transforms.ToTensor()\n",
        ")"
      ],
      "metadata": {
        "id": "k6WE6Z01z08S"
      },
      "execution_count": 68,
      "outputs": []
    },
    {
      "cell_type": "code",
      "source": [
        "train_data.data.shape"
      ],
      "metadata": {
        "colab": {
          "base_uri": "https://localhost:8080/"
        },
        "id": "rWKpnD4_z0-Z",
        "outputId": "9fd42aac-6d7e-4f0c-d3cf-0a7b393795c0"
      },
      "execution_count": 69,
      "outputs": [
        {
          "output_type": "execute_result",
          "data": {
            "text/plain": [
              "torch.Size([60000, 28, 28])"
            ]
          },
          "metadata": {},
          "execution_count": 69
        }
      ]
    },
    {
      "cell_type": "code",
      "source": [
        "test_data.data.shape"
      ],
      "metadata": {
        "colab": {
          "base_uri": "https://localhost:8080/"
        },
        "id": "z5p9FTBdz1B0",
        "outputId": "bcaec6a7-ee0d-4dca-ee9c-39bb5158892d"
      },
      "execution_count": 70,
      "outputs": [
        {
          "output_type": "execute_result",
          "data": {
            "text/plain": [
              "torch.Size([10000, 28, 28])"
            ]
          },
          "metadata": {},
          "execution_count": 70
        }
      ]
    },
    {
      "cell_type": "code",
      "source": [
        "train_data.class_to_idx"
      ],
      "metadata": {
        "colab": {
          "base_uri": "https://localhost:8080/"
        },
        "id": "gk--IUA-z1ED",
        "outputId": "68312ed8-0198-4815-94cc-dd1104869cf4"
      },
      "execution_count": 71,
      "outputs": [
        {
          "output_type": "execute_result",
          "data": {
            "text/plain": [
              "{'Ankle boot': 9,\n",
              " 'Bag': 8,\n",
              " 'Coat': 4,\n",
              " 'Dress': 3,\n",
              " 'Pullover': 2,\n",
              " 'Sandal': 5,\n",
              " 'Shirt': 6,\n",
              " 'Sneaker': 7,\n",
              " 'T-shirt/top': 0,\n",
              " 'Trouser': 1}"
            ]
          },
          "metadata": {},
          "execution_count": 71
        }
      ]
    },
    {
      "cell_type": "code",
      "source": [
        "train_data.targets"
      ],
      "metadata": {
        "colab": {
          "base_uri": "https://localhost:8080/"
        },
        "id": "H6Op06QQz1G3",
        "outputId": "b7197400-11e4-4dce-f809-ade85c901c1d"
      },
      "execution_count": 72,
      "outputs": [
        {
          "output_type": "execute_result",
          "data": {
            "text/plain": [
              "tensor([9, 0, 0,  ..., 3, 0, 5])"
            ]
          },
          "metadata": {},
          "execution_count": 72
        }
      ]
    },
    {
      "cell_type": "code",
      "source": [
        "given_label_data=train_data.class_to_idx\n",
        "given_label_data"
      ],
      "metadata": {
        "colab": {
          "base_uri": "https://localhost:8080/"
        },
        "id": "E1E9lkoEz1JL",
        "outputId": "a35b9d86-643b-4e59-80ae-11a045b9b784"
      },
      "execution_count": 73,
      "outputs": [
        {
          "output_type": "execute_result",
          "data": {
            "text/plain": [
              "{'Ankle boot': 9,\n",
              " 'Bag': 8,\n",
              " 'Coat': 4,\n",
              " 'Dress': 3,\n",
              " 'Pullover': 2,\n",
              " 'Sandal': 5,\n",
              " 'Shirt': 6,\n",
              " 'Sneaker': 7,\n",
              " 'T-shirt/top': 0,\n",
              " 'Trouser': 1}"
            ]
          },
          "metadata": {},
          "execution_count": 73
        }
      ]
    },
    {
      "cell_type": "code",
      "source": [
        ""
      ],
      "metadata": {
        "id": "c6-9ofrD3qxg"
      },
      "execution_count": 73,
      "outputs": []
    },
    {
      "cell_type": "code",
      "source": [
        "label_map={val:key for key, val in given_label_data.items()}\n",
        "label_map"
      ],
      "metadata": {
        "colab": {
          "base_uri": "https://localhost:8080/"
        },
        "id": "y07-i4doz1NL",
        "outputId": "fbc10c0b-f6a2-4960-9a2a-9e049a59c233"
      },
      "execution_count": 74,
      "outputs": [
        {
          "output_type": "execute_result",
          "data": {
            "text/plain": [
              "{0: 'T-shirt/top',\n",
              " 1: 'Trouser',\n",
              " 2: 'Pullover',\n",
              " 3: 'Dress',\n",
              " 4: 'Coat',\n",
              " 5: 'Sandal',\n",
              " 6: 'Shirt',\n",
              " 7: 'Sneaker',\n",
              " 8: 'Bag',\n",
              " 9: 'Ankle boot'}"
            ]
          },
          "metadata": {},
          "execution_count": 74
        }
      ]
    },
    {
      "cell_type": "code",
      "source": [
        "train_data.data[2].shape"
      ],
      "metadata": {
        "colab": {
          "base_uri": "https://localhost:8080/"
        },
        "id": "eTVcqit_3ZU1",
        "outputId": "d0ee54b2-e4bb-41f7-9bea-06b933480772"
      },
      "execution_count": 75,
      "outputs": [
        {
          "output_type": "execute_result",
          "data": {
            "text/plain": [
              "torch.Size([28, 28])"
            ]
          },
          "metadata": {},
          "execution_count": 75
        }
      ]
    },
    {
      "cell_type": "code",
      "source": [
        "label_map.items()"
      ],
      "metadata": {
        "colab": {
          "base_uri": "https://localhost:8080/"
        },
        "id": "d7k0IABb3rbv",
        "outputId": "f3edf48c-ae97-4237-c391-36de5d443573"
      },
      "execution_count": 76,
      "outputs": [
        {
          "output_type": "execute_result",
          "data": {
            "text/plain": [
              "dict_items([(0, 'T-shirt/top'), (1, 'Trouser'), (2, 'Pullover'), (3, 'Dress'), (4, 'Coat'), (5, 'Sandal'), (6, 'Shirt'), (7, 'Sneaker'), (8, 'Bag'), (9, 'Ankle boot')])"
            ]
          },
          "metadata": {},
          "execution_count": 76
        }
      ]
    },
    {
      "cell_type": "code",
      "source": [
        "label_map[0]"
      ],
      "metadata": {
        "colab": {
          "base_uri": "https://localhost:8080/",
          "height": 35
        },
        "id": "jan4JpIi7fmO",
        "outputId": "3f2ae65a-7989-4c90-8362-bfd7667a4663"
      },
      "execution_count": 77,
      "outputs": [
        {
          "output_type": "execute_result",
          "data": {
            "text/plain": [
              "'T-shirt/top'"
            ],
            "application/vnd.google.colaboratory.intrinsic+json": {
              "type": "string"
            }
          },
          "metadata": {},
          "execution_count": 77
        }
      ]
    },
    {
      "cell_type": "code",
      "source": [
        "train_data.targets"
      ],
      "metadata": {
        "colab": {
          "base_uri": "https://localhost:8080/"
        },
        "id": "fnVnpiGx4IGP",
        "outputId": "dcf7d052-145a-4153-f1e8-63c771d87753"
      },
      "execution_count": 78,
      "outputs": [
        {
          "output_type": "execute_result",
          "data": {
            "text/plain": [
              "tensor([9, 0, 0,  ..., 3, 0, 5])"
            ]
          },
          "metadata": {},
          "execution_count": 78
        }
      ]
    },
    {
      "cell_type": "code",
      "source": [
        "train_data.targets[0]"
      ],
      "metadata": {
        "colab": {
          "base_uri": "https://localhost:8080/"
        },
        "id": "UeIuwnWn5auT",
        "outputId": "cbc3c54c-dc79-4d9a-98c5-f82c394fe09b"
      },
      "execution_count": 79,
      "outputs": [
        {
          "output_type": "execute_result",
          "data": {
            "text/plain": [
              "tensor(9)"
            ]
          },
          "metadata": {},
          "execution_count": 79
        }
      ]
    },
    {
      "cell_type": "code",
      "source": [
        "train_data.targets[0].item()"
      ],
      "metadata": {
        "colab": {
          "base_uri": "https://localhost:8080/"
        },
        "id": "PLT635DL4MiR",
        "outputId": "45249312-34df-4e9a-e166-9e957062e366"
      },
      "execution_count": 80,
      "outputs": [
        {
          "output_type": "execute_result",
          "data": {
            "text/plain": [
              "9"
            ]
          },
          "metadata": {},
          "execution_count": 80
        }
      ]
    },
    {
      "cell_type": "code",
      "source": [
        "def view_sample_img(data, idx, label_map):\n",
        "\n",
        "  plt.imshow(data.data[idx], cmap=\"gray\")\n",
        "  plt.title(f\"data_label: {label_map[data.targets[idx].item()]}\")\n",
        "  plt.axis(\"off\")\n",
        "view_sample_img(train_data,2, label_map)"
      ],
      "metadata": {
        "colab": {
          "base_uri": "https://localhost:8080/",
          "height": 264
        },
        "id": "pDgznwGXz1QL",
        "outputId": "b7cd86d7-0a0d-4cb7-da33-e4c93d3cf54b"
      },
      "execution_count": 81,
      "outputs": [
        {
          "output_type": "display_data",
          "data": {
            "text/plain": [
              "<Figure size 432x288 with 1 Axes>"
            ],
            "image/png": "[encoded data removed]"
          },
          "metadata": {
            "needs_background": "light"
          }
        }
      ]
    },
    {
      "cell_type": "code",
      "source": [
        "# Create DataLoader\n",
        "train_data_loader=DataLoader(\n",
        "    dataset=train_data,\n",
        "    batch_size=config.BATCH_SIZE,\n",
        "    shuffle=True\n",
        ")\n",
        "test_data_loader=DataLoader(\n",
        "    dataset=test_data,\n",
        "    batch_size=config.BATCH_SIZE,\n",
        "    shuffle=False\n",
        ")"
      ],
      "metadata": {
        "id": "YNljeP7I5qeK"
      },
      "execution_count": 82,
      "outputs": []
    },
    {
      "cell_type": "code",
      "source": [
        "for images, labels in train_data_loader:\n",
        "  print(images.shape)\n",
        "  print(labels.shape)\n",
        "  break\n"
      ],
      "metadata": {
        "colab": {
          "base_uri": "https://localhost:8080/"
        },
        "id": "RKkAYyNc5qhM",
        "outputId": "b581f22d-4cb9-45e9-d4a8-b79628ab9db8"
      },
      "execution_count": 83,
      "outputs": [
        {
          "output_type": "stream",
          "name": "stdout",
          "text": [
            "torch.Size([32, 1, 28, 28])\n",
            "torch.Size([32])\n"
          ]
        }
      ]
    },
    {
      "cell_type": "code",
      "source": [
        "images[0]"
      ],
      "metadata": {
        "colab": {
          "base_uri": "https://localhost:8080/"
        },
        "id": "7j8Po4P_5qkF",
        "outputId": "fcd1edcb-abb6-467e-ee5c-1a0ea9bb1efd"
      },
      "execution_count": 84,
      "outputs": [
        {
          "output_type": "execute_result",
          "data": {
            "text/plain": [
              "tensor([[[0.0000, 0.0000, 0.0000, 0.0000, 0.0000, 0.0000, 0.0000, 0.0000,\n",
              "          0.0000, 0.0000, 0.0000, 0.0000, 0.0000, 0.0000, 0.0000, 0.0000,\n",
              "          0.0000, 0.0000, 0.0000, 0.0000, 0.0000, 0.0000, 0.0000, 0.0000,\n",
              "          0.0000, 0.0000, 0.0000, 0.0000],\n",
              "         [0.0000, 0.0000, 0.0000, 0.0000, 0.0000, 0.0000, 0.0000, 0.0000,\n",
              "          0.0000, 0.0000, 0.0000, 0.0000, 0.0000, 0.0000, 0.0000, 0.0000,\n",
              "          0.0000, 0.0000, 0.0000, 0.0000, 0.0000, 0.0000, 0.0000, 0.0000,\n",
              "          0.0000, 0.0000, 0.0000, 0.0000],\n",
              "         [0.0000, 0.0000, 0.0000, 0.0000, 0.0000, 0.0000, 0.0000, 0.0000,\n",
              "          0.0000, 0.0000, 0.0000, 0.0000, 0.0000, 0.0000, 0.0000, 0.0000,\n",
              "          0.0000, 0.0000, 0.0000, 0.0000, 0.0000, 0.0000, 0.0000, 0.0000,\n",
              "          0.0000, 0.0000, 0.0000, 0.0000],\n",
              "         [0.0000, 0.0000, 0.0000, 0.0000, 0.0000, 0.0000, 0.0000, 0.0000,\n",
              "          0.0000, 0.0000, 0.0000, 0.0000, 0.0000, 0.0000, 0.0000, 0.0000,\n",
              "          0.0000, 0.0000, 0.0000, 0.0000, 0.0000, 0.0000, 0.0000, 0.0000,\n",
              "          0.0000, 0.0000, 0.0000, 0.0000],\n",
              "         [0.0000, 0.0000, 0.0000, 0.0000, 0.0000, 0.0000, 0.0000, 0.0000,\n",
              "          0.0000, 0.0000, 0.0000, 0.0000, 0.0000, 0.0000, 0.0000, 0.0000,\n",
              "          0.0000, 0.1255, 0.1804, 0.2196, 0.2392, 0.2745, 0.5569, 0.7216,\n",
              "          0.6824, 0.0000, 0.0000, 0.0118],\n",
              "         [0.0000, 0.0000, 0.0000, 0.0000, 0.0000, 0.0000, 0.0000, 0.0000,\n",
              "          0.0039, 0.0000, 0.0000, 0.0196, 0.0000, 0.3608, 0.8000, 0.7137,\n",
              "          0.8745, 0.9961, 0.9686, 0.9333, 0.9255, 0.9451, 0.8706, 0.8706,\n",
              "          0.8392, 0.0431, 0.0000, 0.0157],\n",
              "         [0.0000, 0.0000, 0.0000, 0.0000, 0.0000, 0.0000, 0.0000, 0.0000,\n",
              "          0.0000, 0.0039, 0.0000, 0.0000, 0.0000, 0.5725, 0.8941, 0.7922,\n",
              "          0.7608, 0.7922, 0.8314, 0.7529, 0.6667, 0.7686, 0.8510, 0.8275,\n",
              "          0.8078, 0.0392, 0.0000, 0.0078],\n",
              "         [0.0000, 0.0000, 0.0000, 0.0000, 0.0000, 0.0000, 0.0000, 0.0000,\n",
              "          0.0000, 0.0000, 0.0039, 0.0000, 0.0000, 0.6863, 0.8392, 0.8392,\n",
              "          0.8471, 0.6392, 0.7725, 0.8824, 0.7490, 0.7804, 0.8667, 0.8784,\n",
              "          0.8431, 0.0000, 0.0000, 0.0000],\n",
              "         [0.0000, 0.0000, 0.0000, 0.0000, 0.0000, 0.0000, 0.0000, 0.0000,\n",
              "          0.0000, 0.0000, 0.0196, 0.0000, 0.1137, 0.8863, 0.8353, 0.8549,\n",
              "          0.7882, 0.7176, 0.7529, 0.7686, 0.8824, 0.8275, 0.8902, 0.8824,\n",
              "          0.7294, 0.2745, 0.0000, 0.0000],\n",
              "         [0.0000, 0.0000, 0.0000, 0.0000, 0.0000, 0.0000, 0.0000, 0.0000,\n",
              "          0.0000, 0.0000, 0.0000, 0.0000, 0.3333, 0.8588, 0.8157, 0.8863,\n",
              "          0.8000, 0.7294, 0.8157, 0.7059, 0.7373, 0.9255, 0.6980, 0.4784,\n",
              "          0.7216, 0.6471, 0.0000, 0.0000],\n",
              "         [0.0000, 0.0000, 0.0000, 0.0000, 0.0000, 0.0000, 0.0000, 0.0000,\n",
              "          0.0000, 0.0000, 0.0000, 0.0000, 0.5529, 0.8196, 0.8000, 0.8824,\n",
              "          0.8078, 0.7804, 0.8078, 0.7098, 0.7922, 0.8863, 0.8078, 0.6824,\n",
              "          0.7804, 0.5608, 0.0000, 0.0000],\n",
              "         [0.0000, 0.0000, 0.0000, 0.0000, 0.0000, 0.0000, 0.0000, 0.0000,\n",
              "          0.0000, 0.0118, 0.0000, 0.0196, 0.7961, 0.7804, 0.8314, 0.8510,\n",
              "          0.7725, 0.8157, 0.7529, 0.6863, 0.9059, 0.7686, 0.8549, 0.9569,\n",
              "          0.6353, 0.5843, 0.1412, 0.0000],\n",
              "         [0.0000, 0.0000, 0.0000, 0.0000, 0.0000, 0.0000, 0.0000, 0.0000,\n",
              "          0.0000, 0.0118, 0.0000, 0.3059, 0.8510, 0.7961, 0.8588, 0.8431,\n",
              "          0.8627, 0.8392, 0.6667, 0.7333, 0.8353, 0.6706, 0.6941, 0.5882,\n",
              "          0.3686, 0.5059, 0.5255, 0.0000],\n",
              "         [0.0000, 0.0000, 0.0000, 0.0000, 0.0000, 0.0000, 0.0000, 0.0000,\n",
              "          0.0000, 0.0000, 0.0000, 0.6510, 0.7961, 0.8392, 0.8549, 0.8431,\n",
              "          0.8941, 0.8314, 0.7490, 0.8392, 0.7961, 0.6314, 0.6745, 0.2706,\n",
              "          0.2627, 0.4824, 0.7804, 0.2392],\n",
              "         [0.0000, 0.0000, 0.0000, 0.0000, 0.0000, 0.0000, 0.0000, 0.0000,\n",
              "          0.0235, 0.0000, 0.1294, 0.7961, 0.7608, 0.8588, 0.8588, 0.8471,\n",
              "          0.8784, 0.8824, 0.8078, 0.7608, 0.8078, 0.8824, 0.4039, 0.4784,\n",
              "          0.5765, 0.8431, 0.6275, 0.0667],\n",
              "         [0.0000, 0.0000, 0.0000, 0.0000, 0.0000, 0.0000, 0.0000, 0.0000,\n",
              "          0.0000, 0.0000, 0.4863, 0.7569, 0.7725, 0.8745, 0.8863, 0.8784,\n",
              "          0.8667, 0.9255, 0.7843, 0.7922, 0.9490, 1.0000, 0.4902, 0.5608,\n",
              "          0.1451, 0.2118, 0.8275, 0.1176],\n",
              "         [0.0000, 0.0000, 0.0000, 0.0000, 0.0000, 0.0000, 0.0000, 0.0000,\n",
              "          0.0000, 0.1961, 0.7137, 0.7333, 0.8588, 0.8784, 0.9098, 0.8745,\n",
              "          0.8627, 0.9255, 0.9490, 0.8863, 0.9843, 0.6706, 0.0627, 0.4980,\n",
              "          0.3765, 0.5294, 0.8863, 0.0863],\n",
              "         [0.0000, 0.0000, 0.0000, 0.0000, 0.0000, 0.0118, 0.0196, 0.0000,\n",
              "          0.0000, 0.6667, 0.6824, 0.8000, 0.8863, 0.8588, 0.8706, 0.8980,\n",
              "          0.9294, 0.9059, 0.8588, 0.7176, 0.7961, 0.5412, 0.3922, 0.7961,\n",
              "          0.8784, 0.7804, 0.8392, 0.0000],\n",
              "         [0.0000, 0.0039, 0.0118, 0.0275, 0.0000, 0.0000, 0.0000, 0.0000,\n",
              "          0.5922, 0.7373, 0.6980, 0.8784, 0.8745, 0.8784, 0.8941, 0.9333,\n",
              "          0.8471, 0.6549, 0.6078, 0.9569, 0.8588, 0.8431, 0.8863, 0.7843,\n",
              "          0.7294, 0.7529, 0.7686, 0.0000],\n",
              "         [0.0000, 0.0000, 0.0000, 0.0000, 0.0000, 0.0431, 0.3216, 0.6235,\n",
              "          0.6314, 0.4667, 0.8314, 0.8824, 0.8863, 0.8902, 0.8824, 0.7451,\n",
              "          0.5647, 0.7804, 1.0000, 0.4157, 0.1804, 0.8471, 0.6824, 0.7255,\n",
              "          0.7216, 0.7804, 0.6667, 0.0000],\n",
              "         [0.0000, 0.0000, 0.0745, 0.3412, 0.5137, 0.6157, 0.6157, 0.4784,\n",
              "          0.2824, 0.6157, 0.8588, 0.8471, 0.8941, 0.8196, 0.7451, 0.5098,\n",
              "          0.8941, 0.9529, 0.1098, 0.0000, 0.0784, 0.9176, 0.6980, 0.7490,\n",
              "          0.7059, 0.7686, 0.5647, 0.0000],\n",
              "         [0.0000, 0.4784, 0.7176, 0.7373, 0.7373, 0.7412, 0.7216, 0.6784,\n",
              "          0.7804, 0.8471, 0.9020, 0.8745, 0.8353, 0.6824, 0.5451, 0.8745,\n",
              "          0.9059, 0.0000, 0.0000, 0.0000, 0.1098, 0.9255, 0.6980, 0.7373,\n",
              "          0.7255, 0.7843, 0.4314, 0.0000],\n",
              "         [0.4196, 0.9137, 0.7608, 0.7176, 0.7216, 0.6980, 0.6824, 0.8157,\n",
              "          0.8235, 0.8353, 0.7098, 0.6588, 0.7961, 0.7608, 0.9373, 0.8235,\n",
              "          0.0000, 0.0000, 0.0078, 0.0000, 0.0706, 0.8824, 0.7176, 0.7333,\n",
              "          0.7137, 0.7843, 0.3098, 0.0000],\n",
              "         [0.1490, 0.6588, 0.7020, 0.7804, 0.9647, 0.8902, 0.8863, 0.8549,\n",
              "          0.8706, 0.8824, 0.8784, 0.8745, 1.0000, 1.0000, 0.5333, 0.0000,\n",
              "          0.0000, 0.0039, 0.0000, 0.0000, 0.0706, 0.9725, 0.7529, 0.8196,\n",
              "          0.7725, 0.8392, 0.2314, 0.0000],\n",
              "         [0.0000, 0.0000, 0.0000, 0.0745, 0.2510, 0.3922, 0.5412, 0.5961,\n",
              "          0.5608, 0.5216, 0.5608, 0.4314, 0.2902, 0.0000, 0.0000, 0.0000,\n",
              "          0.0000, 0.0000, 0.0039, 0.0000, 0.0431, 0.8039, 0.5961, 0.5922,\n",
              "          0.5529, 0.6196, 0.0549, 0.0000],\n",
              "         [0.0000, 0.0000, 0.0000, 0.0000, 0.0000, 0.0000, 0.0000, 0.0000,\n",
              "          0.0000, 0.0000, 0.0000, 0.0000, 0.0000, 0.0000, 0.0000, 0.0000,\n",
              "          0.0000, 0.0000, 0.0000, 0.0000, 0.0000, 0.0000, 0.0000, 0.0000,\n",
              "          0.0000, 0.0000, 0.0000, 0.0000],\n",
              "         [0.0000, 0.0000, 0.0000, 0.0000, 0.0000, 0.0000, 0.0000, 0.0000,\n",
              "          0.0000, 0.0000, 0.0000, 0.0000, 0.0000, 0.0000, 0.0000, 0.0000,\n",
              "          0.0000, 0.0000, 0.0000, 0.0000, 0.0000, 0.0000, 0.0000, 0.0000,\n",
              "          0.0000, 0.0000, 0.0000, 0.0000],\n",
              "         [0.0000, 0.0000, 0.0000, 0.0000, 0.0000, 0.0000, 0.0000, 0.0000,\n",
              "          0.0000, 0.0000, 0.0000, 0.0000, 0.0000, 0.0000, 0.0000, 0.0000,\n",
              "          0.0000, 0.0000, 0.0000, 0.0000, 0.0000, 0.0000, 0.0000, 0.0000,\n",
              "          0.0000, 0.0000, 0.0000, 0.0000]]])"
            ]
          },
          "metadata": {},
          "execution_count": 84
        }
      ]
    },
    {
      "cell_type": "code",
      "source": [
        "images[0].shape"
      ],
      "metadata": {
        "colab": {
          "base_uri": "https://localhost:8080/"
        },
        "id": "Laqxqs6C5qq_",
        "outputId": "24fa63c8-405c-4330-c60b-ffc762c32cb6"
      },
      "execution_count": 85,
      "outputs": [
        {
          "output_type": "execute_result",
          "data": {
            "text/plain": [
              "torch.Size([1, 28, 28])"
            ]
          },
          "metadata": {},
          "execution_count": 85
        }
      ]
    },
    {
      "cell_type": "code",
      "source": [
        "images[0].squeeze().shape"
      ],
      "metadata": {
        "colab": {
          "base_uri": "https://localhost:8080/"
        },
        "id": "sRxIVnja5qty",
        "outputId": "3b12232c-3ad9-4a1a-8e40-6870381f0480"
      },
      "execution_count": 86,
      "outputs": [
        {
          "output_type": "execute_result",
          "data": {
            "text/plain": [
              "torch.Size([28, 28])"
            ]
          },
          "metadata": {},
          "execution_count": 86
        }
      ]
    },
    {
      "cell_type": "code",
      "source": [
        "images[0].squeeze().shape, images[0].unsqueeze(dim=1).shape"
      ],
      "metadata": {
        "colab": {
          "base_uri": "https://localhost:8080/"
        },
        "id": "e0b-PS8H9a1T",
        "outputId": "726292ec-6310-41c9-aaf6-bca5cd831260"
      },
      "execution_count": 87,
      "outputs": [
        {
          "output_type": "execute_result",
          "data": {
            "text/plain": [
              "(torch.Size([28, 28]), torch.Size([1, 1, 28, 28]))"
            ]
          },
          "metadata": {},
          "execution_count": 87
        }
      ]
    },
    {
      "cell_type": "code",
      "source": [
        "plt.imshow(images[0].squeeze(), cmap=\"gray\")"
      ],
      "metadata": {
        "colab": {
          "base_uri": "https://localhost:8080/",
          "height": 282
        },
        "id": "BH5GOkV59a3v",
        "outputId": "f8d60f89-c79a-4a5e-ce63-ea9657b33a0f"
      },
      "execution_count": 88,
      "outputs": [
        {
          "output_type": "execute_result",
          "data": {
            "text/plain": [
              "<matplotlib.image.AxesImage at 0x7f38cbf7b1d0>"
            ]
          },
          "metadata": {},
          "execution_count": 88
        },
        {
          "output_type": "display_data",
          "data": {
            "text/plain": [
              "<Figure size 432x288 with 1 Axes>"
            ],
            "image/png": "[encoded data removed]"
          },
          "metadata": {
            "needs_background": "light"
          }
        }
      ]
    },
    {
      "cell_type": "code",
      "source": [
        "images[0].squeeze().numpy()"
      ],
      "metadata": {
        "colab": {
          "base_uri": "https://localhost:8080/"
        },
        "id": "J-wl6UaF9a5w",
        "outputId": "1dbb6174-e8a5-4718-b8af-cad2351d0591"
      },
      "execution_count": 89,
      "outputs": [
        {
          "output_type": "execute_result",
          "data": {
            "text/plain": [
              "array([[0.        , 0.        , 0.        , 0.        , 0.        ,\n",
              "        0.        , 0.        , 0.        , 0.        , 0.        ,\n",
              "        0.        , 0.        , 0.        , 0.        , 0.        ,\n",
              "        0.        , 0.        , 0.        , 0.        , 0.        ,\n",
              "        0.        , 0.        , 0.        , 0.        , 0.        ,\n",
              "        0.        , 0.        , 0.        ],\n",
              "       [0.        , 0.        , 0.        , 0.        , 0.        ,\n",
              "        0.        , 0.        , 0.        , 0.        , 0.        ,\n",
              "        0.        , 0.        , 0.        , 0.        , 0.        ,\n",
              "        0.        , 0.        , 0.        , 0.        , 0.        ,\n",
              "        0.        , 0.        , 0.        , 0.        , 0.        ,\n",
              "        0.        , 0.        , 0.        ],\n",
              "       [0.        , 0.        , 0.        , 0.        , 0.        ,\n",
              "        0.        , 0.        , 0.        , 0.        , 0.        ,\n",
              "        0.        , 0.        , 0.        , 0.        , 0.        ,\n",
              "        0.        , 0.        , 0.        , 0.        , 0.        ,\n",
              "        0.        , 0.        , 0.        , 0.        , 0.        ,\n",
              "        0.        , 0.        , 0.        ],\n",
              "       [0.        , 0.        , 0.        , 0.        , 0.        ,\n",
              "        0.        , 0.        , 0.        , 0.        , 0.        ,\n",
              "        0.        , 0.        , 0.        , 0.        , 0.        ,\n",
              "        0.        , 0.        , 0.        , 0.        , 0.        ,\n",
              "        0.        , 0.        , 0.        , 0.        , 0.        ,\n",
              "        0.        , 0.        , 0.        ],\n",
              "       [0.        , 0.        , 0.        , 0.        , 0.        ,\n",
              "        0.        , 0.        , 0.        , 0.        , 0.        ,\n",
              "        0.        , 0.        , 0.        , 0.        , 0.        ,\n",
              "        0.        , 0.        , 0.1254902 , 0.18039216, 0.21960784,\n",
              "        0.23921569, 0.27450982, 0.5568628 , 0.72156864, 0.68235296,\n",
              "        0.        , 0.        , 0.01176471],\n",
              "       [0.        , 0.        , 0.        , 0.        , 0.        ,\n",
              "        0.        , 0.        , 0.        , 0.00392157, 0.        ,\n",
              "        0.        , 0.01960784, 0.        , 0.36078432, 0.8       ,\n",
              "        0.7137255 , 0.8745098 , 0.99607843, 0.96862745, 0.93333334,\n",
              "        0.9254902 , 0.94509804, 0.87058824, 0.87058824, 0.8392157 ,\n",
              "        0.04313726, 0.        , 0.01568628],\n",
              "       [0.        , 0.        , 0.        , 0.        , 0.        ,\n",
              "        0.        , 0.        , 0.        , 0.        , 0.00392157,\n",
              "        0.        , 0.        , 0.        , 0.57254905, 0.89411765,\n",
              "        0.7921569 , 0.7607843 , 0.7921569 , 0.83137256, 0.7529412 ,\n",
              "        0.6666667 , 0.76862746, 0.8509804 , 0.827451  , 0.80784315,\n",
              "        0.03921569, 0.        , 0.00784314],\n",
              "       [0.        , 0.        , 0.        , 0.        , 0.        ,\n",
              "        0.        , 0.        , 0.        , 0.        , 0.        ,\n",
              "        0.00392157, 0.        , 0.        , 0.6862745 , 0.8392157 ,\n",
              "        0.8392157 , 0.84705883, 0.6392157 , 0.77254903, 0.88235295,\n",
              "        0.7490196 , 0.78039217, 0.8666667 , 0.8784314 , 0.84313726,\n",
              "        0.        , 0.        , 0.        ],\n",
              "       [0.        , 0.        , 0.        , 0.        , 0.        ,\n",
              "        0.        , 0.        , 0.        , 0.        , 0.        ,\n",
              "        0.01960784, 0.        , 0.11372549, 0.8862745 , 0.8352941 ,\n",
              "        0.85490197, 0.7882353 , 0.7176471 , 0.7529412 , 0.76862746,\n",
              "        0.88235295, 0.827451  , 0.8901961 , 0.88235295, 0.7294118 ,\n",
              "        0.27450982, 0.        , 0.        ],\n",
              "       [0.        , 0.        , 0.        , 0.        , 0.        ,\n",
              "        0.        , 0.        , 0.        , 0.        , 0.        ,\n",
              "        0.        , 0.        , 0.33333334, 0.85882354, 0.8156863 ,\n",
              "        0.8862745 , 0.8       , 0.7294118 , 0.8156863 , 0.7058824 ,\n",
              "        0.7372549 , 0.9254902 , 0.69803923, 0.47843137, 0.72156864,\n",
              "        0.64705884, 0.        , 0.        ],\n",
              "       [0.        , 0.        , 0.        , 0.        , 0.        ,\n",
              "        0.        , 0.        , 0.        , 0.        , 0.        ,\n",
              "        0.        , 0.        , 0.5529412 , 0.81960785, 0.8       ,\n",
              "        0.88235295, 0.80784315, 0.78039217, 0.80784315, 0.70980394,\n",
              "        0.7921569 , 0.8862745 , 0.80784315, 0.68235296, 0.78039217,\n",
              "        0.56078434, 0.        , 0.        ],\n",
              "       [0.        , 0.        , 0.        , 0.        , 0.        ,\n",
              "        0.        , 0.        , 0.        , 0.        , 0.01176471,\n",
              "        0.        , 0.01960784, 0.79607844, 0.78039217, 0.83137256,\n",
              "        0.8509804 , 0.77254903, 0.8156863 , 0.7529412 , 0.6862745 ,\n",
              "        0.90588236, 0.76862746, 0.85490197, 0.95686275, 0.63529414,\n",
              "        0.58431375, 0.14117648, 0.        ],\n",
              "       [0.        , 0.        , 0.        , 0.        , 0.        ,\n",
              "        0.        , 0.        , 0.        , 0.        , 0.01176471,\n",
              "        0.        , 0.30588236, 0.8509804 , 0.79607844, 0.85882354,\n",
              "        0.84313726, 0.8627451 , 0.8392157 , 0.6666667 , 0.73333335,\n",
              "        0.8352941 , 0.67058825, 0.69411767, 0.5882353 , 0.36862746,\n",
              "        0.5058824 , 0.5254902 , 0.        ],\n",
              "       [0.        , 0.        , 0.        , 0.        , 0.        ,\n",
              "        0.        , 0.        , 0.        , 0.        , 0.        ,\n",
              "        0.        , 0.6509804 , 0.79607844, 0.8392157 , 0.85490197,\n",
              "        0.84313726, 0.89411765, 0.83137256, 0.7490196 , 0.8392157 ,\n",
              "        0.79607844, 0.6313726 , 0.6745098 , 0.27058825, 0.2627451 ,\n",
              "        0.48235294, 0.78039217, 0.23921569],\n",
              "       [0.        , 0.        , 0.        , 0.        , 0.        ,\n",
              "        0.        , 0.        , 0.        , 0.02352941, 0.        ,\n",
              "        0.12941177, 0.79607844, 0.7607843 , 0.85882354, 0.85882354,\n",
              "        0.84705883, 0.8784314 , 0.88235295, 0.80784315, 0.7607843 ,\n",
              "        0.80784315, 0.88235295, 0.40392157, 0.47843137, 0.5764706 ,\n",
              "        0.84313726, 0.627451  , 0.06666667],\n",
              "       [0.        , 0.        , 0.        , 0.        , 0.        ,\n",
              "        0.        , 0.        , 0.        , 0.        , 0.        ,\n",
              "        0.4862745 , 0.75686276, 0.77254903, 0.8745098 , 0.8862745 ,\n",
              "        0.8784314 , 0.8666667 , 0.9254902 , 0.78431374, 0.7921569 ,\n",
              "        0.9490196 , 1.        , 0.49019608, 0.56078434, 0.14509805,\n",
              "        0.21176471, 0.827451  , 0.11764706],\n",
              "       [0.        , 0.        , 0.        , 0.        , 0.        ,\n",
              "        0.        , 0.        , 0.        , 0.        , 0.19607843,\n",
              "        0.7137255 , 0.73333335, 0.85882354, 0.8784314 , 0.9098039 ,\n",
              "        0.8745098 , 0.8627451 , 0.9254902 , 0.9490196 , 0.8862745 ,\n",
              "        0.9843137 , 0.67058825, 0.0627451 , 0.49803922, 0.3764706 ,\n",
              "        0.5294118 , 0.8862745 , 0.08627451],\n",
              "       [0.        , 0.        , 0.        , 0.        , 0.        ,\n",
              "        0.01176471, 0.01960784, 0.        , 0.        , 0.6666667 ,\n",
              "        0.68235296, 0.8       , 0.8862745 , 0.85882354, 0.87058824,\n",
              "        0.8980392 , 0.92941177, 0.90588236, 0.85882354, 0.7176471 ,\n",
              "        0.79607844, 0.5411765 , 0.39215687, 0.79607844, 0.8784314 ,\n",
              "        0.78039217, 0.8392157 , 0.        ],\n",
              "       [0.        , 0.00392157, 0.01176471, 0.02745098, 0.        ,\n",
              "        0.        , 0.        , 0.        , 0.5921569 , 0.7372549 ,\n",
              "        0.69803923, 0.8784314 , 0.8745098 , 0.8784314 , 0.89411765,\n",
              "        0.93333334, 0.84705883, 0.654902  , 0.60784316, 0.95686275,\n",
              "        0.85882354, 0.84313726, 0.8862745 , 0.78431374, 0.7294118 ,\n",
              "        0.7529412 , 0.76862746, 0.        ],\n",
              "       [0.        , 0.        , 0.        , 0.        , 0.        ,\n",
              "        0.04313726, 0.32156864, 0.62352943, 0.6313726 , 0.46666667,\n",
              "        0.83137256, 0.88235295, 0.8862745 , 0.8901961 , 0.88235295,\n",
              "        0.74509805, 0.5647059 , 0.78039217, 1.        , 0.41568628,\n",
              "        0.18039216, 0.84705883, 0.68235296, 0.7254902 , 0.72156864,\n",
              "        0.78039217, 0.6666667 , 0.        ],\n",
              "       [0.        , 0.        , 0.07450981, 0.34117648, 0.5137255 ,\n",
              "        0.6156863 , 0.6156863 , 0.47843137, 0.28235295, 0.6156863 ,\n",
              "        0.85882354, 0.84705883, 0.89411765, 0.81960785, 0.74509805,\n",
              "        0.50980395, 0.89411765, 0.9529412 , 0.10980392, 0.        ,\n",
              "        0.07843138, 0.91764706, 0.69803923, 0.7490196 , 0.7058824 ,\n",
              "        0.76862746, 0.5647059 , 0.        ],\n",
              "       [0.        , 0.47843137, 0.7176471 , 0.7372549 , 0.7372549 ,\n",
              "        0.7411765 , 0.72156864, 0.6784314 , 0.78039217, 0.84705883,\n",
              "        0.9019608 , 0.8745098 , 0.8352941 , 0.68235296, 0.54509807,\n",
              "        0.8745098 , 0.90588236, 0.        , 0.        , 0.        ,\n",
              "        0.10980392, 0.9254902 , 0.69803923, 0.7372549 , 0.7254902 ,\n",
              "        0.78431374, 0.43137255, 0.        ],\n",
              "       [0.41960785, 0.9137255 , 0.7607843 , 0.7176471 , 0.72156864,\n",
              "        0.69803923, 0.68235296, 0.8156863 , 0.8235294 , 0.8352941 ,\n",
              "        0.70980394, 0.65882355, 0.79607844, 0.7607843 , 0.9372549 ,\n",
              "        0.8235294 , 0.        , 0.        , 0.00784314, 0.        ,\n",
              "        0.07058824, 0.88235295, 0.7176471 , 0.73333335, 0.7137255 ,\n",
              "        0.78431374, 0.30980393, 0.        ],\n",
              "       [0.14901961, 0.65882355, 0.7019608 , 0.78039217, 0.9647059 ,\n",
              "        0.8901961 , 0.8862745 , 0.85490197, 0.87058824, 0.88235295,\n",
              "        0.8784314 , 0.8745098 , 1.        , 1.        , 0.53333336,\n",
              "        0.        , 0.        , 0.00392157, 0.        , 0.        ,\n",
              "        0.07058824, 0.972549  , 0.7529412 , 0.81960785, 0.77254903,\n",
              "        0.8392157 , 0.23137255, 0.        ],\n",
              "       [0.        , 0.        , 0.        , 0.07450981, 0.2509804 ,\n",
              "        0.39215687, 0.5411765 , 0.59607846, 0.56078434, 0.52156866,\n",
              "        0.56078434, 0.43137255, 0.2901961 , 0.        , 0.        ,\n",
              "        0.        , 0.        , 0.        , 0.00392157, 0.        ,\n",
              "        0.04313726, 0.8039216 , 0.59607846, 0.5921569 , 0.5529412 ,\n",
              "        0.61960787, 0.05490196, 0.        ],\n",
              "       [0.        , 0.        , 0.        , 0.        , 0.        ,\n",
              "        0.        , 0.        , 0.        , 0.        , 0.        ,\n",
              "        0.        , 0.        , 0.        , 0.        , 0.        ,\n",
              "        0.        , 0.        , 0.        , 0.        , 0.        ,\n",
              "        0.        , 0.        , 0.        , 0.        , 0.        ,\n",
              "        0.        , 0.        , 0.        ],\n",
              "       [0.        , 0.        , 0.        , 0.        , 0.        ,\n",
              "        0.        , 0.        , 0.        , 0.        , 0.        ,\n",
              "        0.        , 0.        , 0.        , 0.        , 0.        ,\n",
              "        0.        , 0.        , 0.        , 0.        , 0.        ,\n",
              "        0.        , 0.        , 0.        , 0.        , 0.        ,\n",
              "        0.        , 0.        , 0.        ],\n",
              "       [0.        , 0.        , 0.        , 0.        , 0.        ,\n",
              "        0.        , 0.        , 0.        , 0.        , 0.        ,\n",
              "        0.        , 0.        , 0.        , 0.        , 0.        ,\n",
              "        0.        , 0.        , 0.        , 0.        , 0.        ,\n",
              "        0.        , 0.        , 0.        , 0.        , 0.        ,\n",
              "        0.        , 0.        , 0.        ]], dtype=float32)"
            ]
          },
          "metadata": {},
          "execution_count": 89
        }
      ]
    },
    {
      "cell_type": "code",
      "source": [
        "class CNN(nn.Module):\n",
        "  def __init__(self, in_, out_):\n",
        "    super(CNN, self).__init__()\n",
        "    self.conv_pool_01=nn.Sequential(\n",
        "        nn.Conv2d(in_channels=in_,out_channels=8, kernel_size=5, stride=1, padding=0),\n",
        "        nn.ReLU(),\n",
        "        nn.MaxPool2d(kernel_size=2, stride=2)\n",
        "\n",
        "    )\n",
        "    self.conv_pool_02=nn.Sequential(\n",
        "        nn.Conv2d(in_channels=8,out_channels=16, kernel_size=5, stride=1, padding=0),\n",
        "        nn.ReLU(),\n",
        "        nn.MaxPool2d(kernel_size=2,stride=2)\n",
        "    )\n",
        "    self.Flatten=nn.Flatten()\n",
        "    self.FC_01=nn.Linear(in_features=16*4*4, out_features=128)\n",
        "    self.FC_02=nn.Linear(in_features=128, out_features=64)\n",
        "    self.FC_03=nn.Linear(in_features=64,out_features=out_)\n",
        "  def forward(self,x):\n",
        "    x=self.conv_pool_01(x)\n",
        "    x=self.conv_pool_02(x)\n",
        "    x=self.Flatten(x)\n",
        "    x=F.relu(self.FC_01(x))\n",
        "    x=F.relu(self.FC_02(x))\n",
        "    x=F.relu(self.FC_03(x))\n",
        "    return x"
      ],
      "metadata": {
        "id": "IIIhAOvo9a8j"
      },
      "execution_count": 90,
      "outputs": []
    },
    {
      "cell_type": "code",
      "source": [
        "model=CNN(1,10)\n",
        "print(model)"
      ],
      "metadata": {
        "colab": {
          "base_uri": "https://localhost:8080/"
        },
        "id": "0YQwrIe9-d36",
        "outputId": "e8476420-95e6-408f-b837-4f7205641835"
      },
      "execution_count": 91,
      "outputs": [
        {
          "output_type": "stream",
          "name": "stdout",
          "text": [
            "CNN(\n",
            "  (conv_pool_01): Sequential(\n",
            "    (0): Conv2d(1, 8, kernel_size=(5, 5), stride=(1, 1))\n",
            "    (1): ReLU()\n",
            "    (2): MaxPool2d(kernel_size=2, stride=2, padding=0, dilation=1, ceil_mode=False)\n",
            "  )\n",
            "  (conv_pool_02): Sequential(\n",
            "    (0): Conv2d(8, 16, kernel_size=(5, 5), stride=(1, 1))\n",
            "    (1): ReLU()\n",
            "    (2): MaxPool2d(kernel_size=2, stride=2, padding=0, dilation=1, ceil_mode=False)\n",
            "  )\n",
            "  (Flatten): Flatten(start_dim=1, end_dim=-1)\n",
            "  (FC_01): Linear(in_features=256, out_features=128, bias=True)\n",
            "  (FC_02): Linear(in_features=128, out_features=64, bias=True)\n",
            "  (FC_03): Linear(in_features=64, out_features=10, bias=True)\n",
            ")\n"
          ]
        }
      ]
    },
    {
      "cell_type": "code",
      "source": [
        "next(model.parameters()).is_cuda"
      ],
      "metadata": {
        "colab": {
          "base_uri": "https://localhost:8080/"
        },
        "id": "tM5C8Y69EYud",
        "outputId": "178e0f18-c5cb-4bbc-e89c-05574051f715"
      },
      "execution_count": 92,
      "outputs": [
        {
          "output_type": "execute_result",
          "data": {
            "text/plain": [
              "False"
            ]
          },
          "metadata": {},
          "execution_count": 92
        }
      ]
    },
    {
      "cell_type": "code",
      "source": [
        "model.to(config.DEVICE)"
      ],
      "metadata": {
        "colab": {
          "base_uri": "https://localhost:8080/"
        },
        "id": "-UAceAL0-d6S",
        "outputId": "a5cd1237-e396-40a3-cba9-b79d931bdf74"
      },
      "execution_count": 93,
      "outputs": [
        {
          "output_type": "execute_result",
          "data": {
            "text/plain": [
              "CNN(\n",
              "  (conv_pool_01): Sequential(\n",
              "    (0): Conv2d(1, 8, kernel_size=(5, 5), stride=(1, 1))\n",
              "    (1): ReLU()\n",
              "    (2): MaxPool2d(kernel_size=2, stride=2, padding=0, dilation=1, ceil_mode=False)\n",
              "  )\n",
              "  (conv_pool_02): Sequential(\n",
              "    (0): Conv2d(8, 16, kernel_size=(5, 5), stride=(1, 1))\n",
              "    (1): ReLU()\n",
              "    (2): MaxPool2d(kernel_size=2, stride=2, padding=0, dilation=1, ceil_mode=False)\n",
              "  )\n",
              "  (Flatten): Flatten(start_dim=1, end_dim=-1)\n",
              "  (FC_01): Linear(in_features=256, out_features=128, bias=True)\n",
              "  (FC_02): Linear(in_features=128, out_features=64, bias=True)\n",
              "  (FC_03): Linear(in_features=64, out_features=10, bias=True)\n",
              ")"
            ]
          },
          "metadata": {},
          "execution_count": 93
        }
      ]
    },
    {
      "cell_type": "code",
      "source": [
        "next(model.parameters()).is_cuda"
      ],
      "metadata": {
        "colab": {
          "base_uri": "https://localhost:8080/"
        },
        "id": "9elFlzNH-d9L",
        "outputId": "a382ce8d-3a33-4ec0-a1ff-7143100e0af5"
      },
      "execution_count": 94,
      "outputs": [
        {
          "output_type": "execute_result",
          "data": {
            "text/plain": [
              "True"
            ]
          },
          "metadata": {},
          "execution_count": 94
        }
      ]
    },
    {
      "cell_type": "code",
      "source": [
        "#Checking how many trainble parameters in a model\n",
        "def count_params(model):\n",
        "  model_params={\"Modules\":list(), \"Parameters\":list()}\n",
        "  total={\"trainable\":0, \"non_trainable\":0}\n",
        "  for name, parameters in model.named_parameters():\n",
        "    param=parameters.numel()\n",
        "    if not parameters.requires_grad:\n",
        "      total[\"non_trainable\"] +=param\n",
        "\n",
        "      continue\n",
        "    \n",
        "    model_params[\"Modules\"].append(name)\n",
        "    model_params[\"Parameters\"].append(param)\n",
        "    total[\"trainable\"] +=param\n",
        "  df=pd.DataFrame(model_params)\n",
        "  df=df.style.set_caption(f\"Total trainable parameters: {total}\")\n",
        "  return df\n",
        "count_params(model)"
      ],
      "metadata": {
        "colab": {
          "base_uri": "https://localhost:8080/",
          "height": 398
        },
        "id": "XVkwEFHp-eA8",
        "outputId": "33cc2b66-5d4b-4a5f-f2e7-a1c8ac5ba27f"
      },
      "execution_count": 100,
      "outputs": [
        {
          "output_type": "execute_result",
          "data": {
            "text/plain": [
              "<pandas.io.formats.style.Styler at 0x7f38cac1e790>"
            ],
            "text/html": [
              "<style type=\"text/css\">\n",
              "</style>\n",
              "<table id=\"T_c5c01_\" class=\"dataframe\">\n",
              "  <caption>Total trainable parameters: {'trainable': 45226, 'non_trainable': 0}</caption>\n",
              "  <thead>\n",
              "    <tr>\n",
              "      <th class=\"blank level0\" >&nbsp;</th>\n",
              "      <th class=\"col_heading level0 col0\" >Modules</th>\n",
              "      <th class=\"col_heading level0 col1\" >Parameters</th>\n",
              "    </tr>\n",
              "  </thead>\n",
              "  <tbody>\n",
              "    <tr>\n",
              "      <th id=\"T_c5c01_level0_row0\" class=\"row_heading level0 row0\" >0</th>\n",
              "      <td id=\"T_c5c01_row0_col0\" class=\"data row0 col0\" >conv_pool_01.0.weight</td>\n",
              "      <td id=\"T_c5c01_row0_col1\" class=\"data row0 col1\" >200</td>\n",
              "    </tr>\n",
              "    <tr>\n",
              "      <th id=\"T_c5c01_level0_row1\" class=\"row_heading level0 row1\" >1</th>\n",
              "      <td id=\"T_c5c01_row1_col0\" class=\"data row1 col0\" >conv_pool_01.0.bias</td>\n",
              "      <td id=\"T_c5c01_row1_col1\" class=\"data row1 col1\" >8</td>\n",
              "    </tr>\n",
              "    <tr>\n",
              "      <th id=\"T_c5c01_level0_row2\" class=\"row_heading level0 row2\" >2</th>\n",
              "      <td id=\"T_c5c01_row2_col0\" class=\"data row2 col0\" >conv_pool_02.0.weight</td>\n",
              "      <td id=\"T_c5c01_row2_col1\" class=\"data row2 col1\" >3200</td>\n",
              "    </tr>\n",
              "    <tr>\n",
              "      <th id=\"T_c5c01_level0_row3\" class=\"row_heading level0 row3\" >3</th>\n",
              "      <td id=\"T_c5c01_row3_col0\" class=\"data row3 col0\" >conv_pool_02.0.bias</td>\n",
              "      <td id=\"T_c5c01_row3_col1\" class=\"data row3 col1\" >16</td>\n",
              "    </tr>\n",
              "    <tr>\n",
              "      <th id=\"T_c5c01_level0_row4\" class=\"row_heading level0 row4\" >4</th>\n",
              "      <td id=\"T_c5c01_row4_col0\" class=\"data row4 col0\" >FC_01.weight</td>\n",
              "      <td id=\"T_c5c01_row4_col1\" class=\"data row4 col1\" >32768</td>\n",
              "    </tr>\n",
              "    <tr>\n",
              "      <th id=\"T_c5c01_level0_row5\" class=\"row_heading level0 row5\" >5</th>\n",
              "      <td id=\"T_c5c01_row5_col0\" class=\"data row5 col0\" >FC_01.bias</td>\n",
              "      <td id=\"T_c5c01_row5_col1\" class=\"data row5 col1\" >128</td>\n",
              "    </tr>\n",
              "    <tr>\n",
              "      <th id=\"T_c5c01_level0_row6\" class=\"row_heading level0 row6\" >6</th>\n",
              "      <td id=\"T_c5c01_row6_col0\" class=\"data row6 col0\" >FC_02.weight</td>\n",
              "      <td id=\"T_c5c01_row6_col1\" class=\"data row6 col1\" >8192</td>\n",
              "    </tr>\n",
              "    <tr>\n",
              "      <th id=\"T_c5c01_level0_row7\" class=\"row_heading level0 row7\" >7</th>\n",
              "      <td id=\"T_c5c01_row7_col0\" class=\"data row7 col0\" >FC_02.bias</td>\n",
              "      <td id=\"T_c5c01_row7_col1\" class=\"data row7 col1\" >64</td>\n",
              "    </tr>\n",
              "    <tr>\n",
              "      <th id=\"T_c5c01_level0_row8\" class=\"row_heading level0 row8\" >8</th>\n",
              "      <td id=\"T_c5c01_row8_col0\" class=\"data row8 col0\" >FC_03.weight</td>\n",
              "      <td id=\"T_c5c01_row8_col1\" class=\"data row8 col1\" >640</td>\n",
              "    </tr>\n",
              "    <tr>\n",
              "      <th id=\"T_c5c01_level0_row9\" class=\"row_heading level0 row9\" >9</th>\n",
              "      <td id=\"T_c5c01_row9_col0\" class=\"data row9 col0\" >FC_03.bias</td>\n",
              "      <td id=\"T_c5c01_row9_col1\" class=\"data row9 col1\" >10</td>\n",
              "    </tr>\n",
              "  </tbody>\n",
              "</table>\n"
            ]
          },
          "metadata": {},
          "execution_count": 100
        }
      ]
    },
    {
      "cell_type": "code",
      "source": [
        ""
      ],
      "metadata": {
        "id": "t5JS1MQW-eDU"
      },
      "execution_count": 93,
      "outputs": []
    },
    {
      "cell_type": "code",
      "source": [
        ""
      ],
      "metadata": {
        "id": "G08PP_qt-eFk"
      },
      "execution_count": 93,
      "outputs": []
    },
    {
      "cell_type": "code",
      "source": [
        ""
      ],
      "metadata": {
        "id": "Q16c_GmX-eIM"
      },
      "execution_count": 93,
      "outputs": []
    }
  ]
}